{
 "metadata": {
  "language_info": {
   "codemirror_mode": {
    "name": "ipython",
    "version": 3
   },
   "file_extension": ".py",
   "mimetype": "text/x-python",
   "name": "python",
   "nbconvert_exporter": "python",
   "pygments_lexer": "ipython3",
   "version": 3
  },
  "orig_nbformat": 2
 },
 "nbformat": 4,
 "nbformat_minor": 2,
 "cells": [
  {
   "source": [
    "### Posibles vías de investigación a futuro"
   ],
   "cell_type": "markdown",
   "metadata": {}
  },
  {
   "cell_type": "code",
   "execution_count": null,
   "metadata": {},
   "outputs": [],
   "source": [
    "government= data.loc[data[\"question_label\"]== \"Does the government in the country where you live respond adequately to the safety needs of LGBTI people?\"]\n",
    "government['percentage'] = government['percentage'].astype(int)"
   ]
  },
  {
   "cell_type": "code",
   "execution_count": null,
   "metadata": {},
   "outputs": [],
   "source": [
    "fig1 = px.pie(EU, values='percentage', names='answer', title='The goverment respond adequately?', width= 1000, height=600)\n",
    "fig1.update_traces(textposition='inside')\n",
    "fig1.update_layout(uniformtext_minsize=12, uniformtext_mode='hide')\n",
    "fig1.show()"
   ]
  },
  {
   "cell_type": "code",
   "execution_count": null,
   "metadata": {},
   "outputs": [],
   "source": [
    "#Pregunta general sobre como eres de abierto sobre ser LGTBI \n",
    "openess= living_data.loc[living_data[\"question_label\"]== \"Openness about being LGBTI\"]\n",
    "openess['percentage'] = openess['percentage'].astype(int)"
   ]
  },
  {
   "cell_type": "code",
   "execution_count": null,
   "metadata": {},
   "outputs": [],
   "source": [
    "fig1 = px.pie(openess, values='percentage', names='answer', title='Openness about being LGBTI', width= 1000, height=600)\n",
    "fig1.update_traces(textposition='inside')\n",
    "fig1.update_layout(uniformtext_minsize=12, uniformtext_mode='hide')\n",
    "fig1.show()"
   ]
  },
  {
   "cell_type": "code",
   "execution_count": null,
   "metadata": {},
   "outputs": [],
   "source": [
    "#Extraer paises orientales para comprobar que son menos abiertos en el trabajo y poder relacionarlo con otras preguntas \n",
    "lw().CountryCode.value_counts()"
   ]
  },
  {
   "cell_type": "code",
   "execution_count": null,
   "metadata": {},
   "outputs": [],
   "source": [
    "paises_orientales= lw().loc[lw()[\"CountryCode\"].str.contains(\"Albania\") | lw()[\"CountryCode\"].str.contains(\"Estonia\")| lw()[\"CountryCode\"].str.contains(\"Bulgaria\")| lw()[\"CountryCode\"].str.contains(\"Czechia \") | lw()[\"CountryCode\"].str.contains(\"Hungary\") | lw()[\"CountryCode\"].str.contains(\"Poland\") | lw()[\"CountryCode\"].str.contains(\"Romania\") | lw()[\"CountryCode\"].str.contains(\"Slovakia\") | lw()[\"CountryCode\"].str.contains(\"Latvia\") | lw()[\"CountryCode\"].str.contains(\"Lithuania\")]\n",
    "paises_orientales= paises_orientales.loc[paises_orientales[\"question_label\"] == \"Openness about being LGBTI at work\"] \n",
    "paises_orientales.CountryCode.value_counts()"
   ]
  },
  {
   "cell_type": "code",
   "execution_count": null,
   "metadata": {},
   "outputs": [],
   "source": [
    "paises_occidentales = lw().drop(paises_orientales.index)\n",
    "paises_occidentales = paises_occidentales.loc[paises_occidentales[\"question_label\"] == \"Openness about being LGBTI at work\"] \n",
    "paises_occidentales.CountryCode.value_counts()"
   ]
  },
  {
   "cell_type": "code",
   "execution_count": null,
   "metadata": {},
   "outputs": [],
   "source": [
    "#Simplificar con funciones \n",
    "vo= paises_orientales.loc[paises_orientales[\"answer\"]==\"Very open\"]\n",
    "hide= paises_orientales.loc[paises_orientales[\"answer\"]==\"Hide LGBT identity\"]\n",
    "selectively= paises_orientales.loc[paises_orientales[\"answer\"]==\"Selectively open\"]\n",
    "v_o= paises_occidentales.loc[paises_occidentales[\"answer\"]==\"Very open\"]\n",
    "hd= paises_occidentales.loc[paises_occidentales[\"answer\"]==\"Hide LGBT identity\"]\n",
    "sl = paises_occidentales.loc[paises_occidentales[\"answer\"]==\"Selectively open\"]"
   ]
  },
  {
   "cell_type": "code",
   "execution_count": null,
   "metadata": {},
   "outputs": [],
   "source": [
    "#Paises orientales gráfico de barras \n",
    "fig, ax = plt.subplots(figsize=(40, 10))\n",
    "x = np.arange(len(paises_orientales.CountryCode.unique()))\n",
    "bar_width = 0.4\n",
    "b1 = ax.bar(x, vo.percentage,\n",
    "            width=bar_width)\n",
    "b2 = ax.bar(x + bar_width, hide.percentage,\n",
    "            width=bar_width)\n",
    "b3 = ax.bar(x + bar_width + bar_width, selectively.percentage,\n",
    "            width=bar_width)\n",
    "ax.set_xticks(x + bar_width / 2)\n",
    "ax.set_xticklabels(paises_orientales.CountryCode.unique())  "
   ]
  },
  {
   "cell_type": "code",
   "execution_count": null,
   "metadata": {},
   "outputs": [],
   "source": [
    "#Paises occidentales \n",
    "fig, ax = plt.subplots(figsize=(40, 10))\n",
    "x = np.arange(len(paises_occidentales.CountryCode.unique()))\n",
    "bar_width = 0.4\n",
    "b1 = ax.bar(x, v_o.percentage,\n",
    "            width=bar_width)\n",
    "b2 = ax.bar(x + bar_width, hd.percentage,\n",
    "            width=bar_width)\n",
    "b3 = ax.bar(x + bar_width + bar_width, sl.percentage,\n",
    "            width=bar_width)\n",
    "ax.set_xticks(x + bar_width / 2)\n",
    "ax.set_xticklabels(paises_occidentales.CountryCode.unique())  "
   ]
  },
  {
   "cell_type": "code",
   "execution_count": null,
   "metadata": {},
   "outputs": [],
   "source": [
    "#Boxplot, representarse por separado\n",
    "\"\"\" Gráfico de paises orientales y occidentales\"\"\"\n",
    "def boxplot(dt=None):\n",
    "    fig6= sns.boxplot(data=dt, x='answer', y='percentage', showmeans=True, meanline=True)\n",
    "    return fig6\n",
    "fig= sns.boxplot(data=paises_orientales, x='answer', y='percentage', showmeans=True, meanline=True)\n",
    "sns.boxplot(data=paises_occidentales, x='answer', y='percentage', showmeans=True, meanline=True)"
   ]
  },
  {
   "cell_type": "code",
   "execution_count": null,
   "metadata": {},
   "outputs": [],
   "source": [
    "paises_occidentales.groupby(\"answer\").describe()\n",
    "paises_orientales.groupby(\"answer\").describe()"
   ]
  }
 ]
}