{
 "metadata": {
  "language_info": {
   "codemirror_mode": {
    "name": "ipython",
    "version": 3
   },
   "file_extension": ".py",
   "mimetype": "text/x-python",
   "name": "python",
   "nbconvert_exporter": "python",
   "pygments_lexer": "ipython3",
   "version": "3.9.0-final"
  },
  "orig_nbformat": 2,
  "kernelspec": {
   "name": "python3",
   "display_name": "Python 3.9.0 64-bit",
   "metadata": {
    "interpreter": {
     "hash": "2e3c1e8da6e821b0193601da5a0e541c0efda9704da45b6b820f5f4c317f2def"
    }
   }
  }
 },
 "nbformat": 4,
 "nbformat_minor": 2,
 "cells": [
  {
   "cell_type": "code",
   "execution_count": 1,
   "metadata": {},
   "outputs": [
    {
     "output_type": "execute_result",
     "data": {
      "text/plain": [
       "          CountryCode target_group subset question_code  \\\n",
       "0             Austria          All    All        DEXa11   \n",
       "1             Austria          All    All        DEXa11   \n",
       "2             Belgium          All    All        DEXa11   \n",
       "3             Belgium          All    All        DEXa11   \n",
       "4            Bulgaria          All    All        DEXa11   \n",
       "...               ...          ...    ...           ...   \n",
       "1667  North Macedonia          All    All         DEXh5   \n",
       "1668  North Macedonia          All    All         DEXh5   \n",
       "1669           Serbia          All    All         DEXh5   \n",
       "1670           Serbia          All    All         DEXh5   \n",
       "1671           Serbia          All    All         DEXh5   \n",
       "\n",
       "                                         question_label  \\\n",
       "0     Do you have citizenship of the country where t...   \n",
       "1     Do you have citizenship of the country where t...   \n",
       "2     Do you have citizenship of the country where t...   \n",
       "3     Do you have citizenship of the country where t...   \n",
       "4     Do you have citizenship of the country where t...   \n",
       "...                                                 ...   \n",
       "1667  What is your current family or partnership sit...   \n",
       "1668  What is your current family or partnership sit...   \n",
       "1669  What is your current family or partnership sit...   \n",
       "1670  What is your current family or partnership sit...   \n",
       "1671  What is your current family or partnership sit...   \n",
       "\n",
       "                                                 answer percentage notes  \n",
       "0                                                   Yes         82   NaN  \n",
       "1                                                    No         18   NaN  \n",
       "2                                                   Yes         80   NaN  \n",
       "3                                                    No         20   NaN  \n",
       "4                                                   Yes         97   NaN  \n",
       "...                                                 ...        ...   ...  \n",
       "1667  Involved in a relationship without living toge...         28   NaN  \n",
       "1668                            No relationship/partner         58   NaN  \n",
       "1669              Living together with a partner/spouse         16   NaN  \n",
       "1670  Involved in a relationship without living toge...         24   NaN  \n",
       "1671                            No relationship/partner         60   NaN  \n",
       "\n",
       "[1672 rows x 8 columns]"
      ],
      "text/html": "<div>\n<style scoped>\n    .dataframe tbody tr th:only-of-type {\n        vertical-align: middle;\n    }\n\n    .dataframe tbody tr th {\n        vertical-align: top;\n    }\n\n    .dataframe thead th {\n        text-align: right;\n    }\n</style>\n<table border=\"1\" class=\"dataframe\">\n  <thead>\n    <tr style=\"text-align: right;\">\n      <th></th>\n      <th>CountryCode</th>\n      <th>target_group</th>\n      <th>subset</th>\n      <th>question_code</th>\n      <th>question_label</th>\n      <th>answer</th>\n      <th>percentage</th>\n      <th>notes</th>\n    </tr>\n  </thead>\n  <tbody>\n    <tr>\n      <th>0</th>\n      <td>Austria</td>\n      <td>All</td>\n      <td>All</td>\n      <td>DEXa11</td>\n      <td>Do you have citizenship of the country where t...</td>\n      <td>Yes</td>\n      <td>82</td>\n      <td>NaN</td>\n    </tr>\n    <tr>\n      <th>1</th>\n      <td>Austria</td>\n      <td>All</td>\n      <td>All</td>\n      <td>DEXa11</td>\n      <td>Do you have citizenship of the country where t...</td>\n      <td>No</td>\n      <td>18</td>\n      <td>NaN</td>\n    </tr>\n    <tr>\n      <th>2</th>\n      <td>Belgium</td>\n      <td>All</td>\n      <td>All</td>\n      <td>DEXa11</td>\n      <td>Do you have citizenship of the country where t...</td>\n      <td>Yes</td>\n      <td>80</td>\n      <td>NaN</td>\n    </tr>\n    <tr>\n      <th>3</th>\n      <td>Belgium</td>\n      <td>All</td>\n      <td>All</td>\n      <td>DEXa11</td>\n      <td>Do you have citizenship of the country where t...</td>\n      <td>No</td>\n      <td>20</td>\n      <td>NaN</td>\n    </tr>\n    <tr>\n      <th>4</th>\n      <td>Bulgaria</td>\n      <td>All</td>\n      <td>All</td>\n      <td>DEXa11</td>\n      <td>Do you have citizenship of the country where t...</td>\n      <td>Yes</td>\n      <td>97</td>\n      <td>NaN</td>\n    </tr>\n    <tr>\n      <th>...</th>\n      <td>...</td>\n      <td>...</td>\n      <td>...</td>\n      <td>...</td>\n      <td>...</td>\n      <td>...</td>\n      <td>...</td>\n      <td>...</td>\n    </tr>\n    <tr>\n      <th>1667</th>\n      <td>North Macedonia</td>\n      <td>All</td>\n      <td>All</td>\n      <td>DEXh5</td>\n      <td>What is your current family or partnership sit...</td>\n      <td>Involved in a relationship without living toge...</td>\n      <td>28</td>\n      <td>NaN</td>\n    </tr>\n    <tr>\n      <th>1668</th>\n      <td>North Macedonia</td>\n      <td>All</td>\n      <td>All</td>\n      <td>DEXh5</td>\n      <td>What is your current family or partnership sit...</td>\n      <td>No relationship/partner</td>\n      <td>58</td>\n      <td>NaN</td>\n    </tr>\n    <tr>\n      <th>1669</th>\n      <td>Serbia</td>\n      <td>All</td>\n      <td>All</td>\n      <td>DEXh5</td>\n      <td>What is your current family or partnership sit...</td>\n      <td>Living together with a partner/spouse</td>\n      <td>16</td>\n      <td>NaN</td>\n    </tr>\n    <tr>\n      <th>1670</th>\n      <td>Serbia</td>\n      <td>All</td>\n      <td>All</td>\n      <td>DEXh5</td>\n      <td>What is your current family or partnership sit...</td>\n      <td>Involved in a relationship without living toge...</td>\n      <td>24</td>\n      <td>NaN</td>\n    </tr>\n    <tr>\n      <th>1671</th>\n      <td>Serbia</td>\n      <td>All</td>\n      <td>All</td>\n      <td>DEXh5</td>\n      <td>What is your current family or partnership sit...</td>\n      <td>No relationship/partner</td>\n      <td>60</td>\n      <td>NaN</td>\n    </tr>\n  </tbody>\n</table>\n<p>1672 rows × 8 columns</p>\n</div>"
     },
     "metadata": {},
     "execution_count": 1
    }
   ],
   "source": [
    "import pandas as pd\n",
    "from UTILS.folders_tb import socio_data\n",
    "socio_data"
   ]
  },
  {
   "cell_type": "code",
   "execution_count": 2,
   "metadata": {},
   "outputs": [
    {
     "output_type": "execute_result",
     "data": {
      "text/plain": [
       "     CountryCode target_group subset question_code  question_label  \\\n",
       "959      Austria          All    All         DEXh2  Working status   \n",
       "960      Austria          All    All         DEXh2  Working status   \n",
       "961      Austria          All    All         DEXh2  Working status   \n",
       "962      Austria          All    All         DEXh2  Working status   \n",
       "963      Austria          All    All         DEXh2  Working status   \n",
       "...          ...          ...    ...           ...             ...   \n",
       "1171      Serbia          All    All         DEXh2  Working status   \n",
       "1172      Serbia          All    All         DEXh2  Working status   \n",
       "1173      Serbia          All    All         DEXh2  Working status   \n",
       "1174      Serbia          All    All         DEXh2  Working status   \n",
       "1175      Serbia          All    All         DEXh2  Working status   \n",
       "\n",
       "                                                 answer percentage notes  \n",
       "959   In paid work (including on paternity or other ...         55   NaN  \n",
       "960                                       Self-employed          9   NaN  \n",
       "961                                          Unemployed          4   NaN  \n",
       "962                                    Student or pupil         23   NaN  \n",
       "963                                             Retired          2   NaN  \n",
       "...                                                 ...        ...   ...  \n",
       "1171                                         Unemployed          9   NaN  \n",
       "1172                                   Student or pupil         33   NaN  \n",
       "1173                                            Retired          1   NaN  \n",
       "1174  Unable to work due to long-standing health pro...          1   NaN  \n",
       "1175  Other, e.g. unpaid voluntary work, domestic ta...          7   NaN  \n",
       "\n",
       "[217 rows x 8 columns]"
      ],
      "text/html": "<div>\n<style scoped>\n    .dataframe tbody tr th:only-of-type {\n        vertical-align: middle;\n    }\n\n    .dataframe tbody tr th {\n        vertical-align: top;\n    }\n\n    .dataframe thead th {\n        text-align: right;\n    }\n</style>\n<table border=\"1\" class=\"dataframe\">\n  <thead>\n    <tr style=\"text-align: right;\">\n      <th></th>\n      <th>CountryCode</th>\n      <th>target_group</th>\n      <th>subset</th>\n      <th>question_code</th>\n      <th>question_label</th>\n      <th>answer</th>\n      <th>percentage</th>\n      <th>notes</th>\n    </tr>\n  </thead>\n  <tbody>\n    <tr>\n      <th>959</th>\n      <td>Austria</td>\n      <td>All</td>\n      <td>All</td>\n      <td>DEXh2</td>\n      <td>Working status</td>\n      <td>In paid work (including on paternity or other ...</td>\n      <td>55</td>\n      <td>NaN</td>\n    </tr>\n    <tr>\n      <th>960</th>\n      <td>Austria</td>\n      <td>All</td>\n      <td>All</td>\n      <td>DEXh2</td>\n      <td>Working status</td>\n      <td>Self-employed</td>\n      <td>9</td>\n      <td>NaN</td>\n    </tr>\n    <tr>\n      <th>961</th>\n      <td>Austria</td>\n      <td>All</td>\n      <td>All</td>\n      <td>DEXh2</td>\n      <td>Working status</td>\n      <td>Unemployed</td>\n      <td>4</td>\n      <td>NaN</td>\n    </tr>\n    <tr>\n      <th>962</th>\n      <td>Austria</td>\n      <td>All</td>\n      <td>All</td>\n      <td>DEXh2</td>\n      <td>Working status</td>\n      <td>Student or pupil</td>\n      <td>23</td>\n      <td>NaN</td>\n    </tr>\n    <tr>\n      <th>963</th>\n      <td>Austria</td>\n      <td>All</td>\n      <td>All</td>\n      <td>DEXh2</td>\n      <td>Working status</td>\n      <td>Retired</td>\n      <td>2</td>\n      <td>NaN</td>\n    </tr>\n    <tr>\n      <th>...</th>\n      <td>...</td>\n      <td>...</td>\n      <td>...</td>\n      <td>...</td>\n      <td>...</td>\n      <td>...</td>\n      <td>...</td>\n      <td>...</td>\n    </tr>\n    <tr>\n      <th>1171</th>\n      <td>Serbia</td>\n      <td>All</td>\n      <td>All</td>\n      <td>DEXh2</td>\n      <td>Working status</td>\n      <td>Unemployed</td>\n      <td>9</td>\n      <td>NaN</td>\n    </tr>\n    <tr>\n      <th>1172</th>\n      <td>Serbia</td>\n      <td>All</td>\n      <td>All</td>\n      <td>DEXh2</td>\n      <td>Working status</td>\n      <td>Student or pupil</td>\n      <td>33</td>\n      <td>NaN</td>\n    </tr>\n    <tr>\n      <th>1173</th>\n      <td>Serbia</td>\n      <td>All</td>\n      <td>All</td>\n      <td>DEXh2</td>\n      <td>Working status</td>\n      <td>Retired</td>\n      <td>1</td>\n      <td>NaN</td>\n    </tr>\n    <tr>\n      <th>1174</th>\n      <td>Serbia</td>\n      <td>All</td>\n      <td>All</td>\n      <td>DEXh2</td>\n      <td>Working status</td>\n      <td>Unable to work due to long-standing health pro...</td>\n      <td>1</td>\n      <td>NaN</td>\n    </tr>\n    <tr>\n      <th>1175</th>\n      <td>Serbia</td>\n      <td>All</td>\n      <td>All</td>\n      <td>DEXh2</td>\n      <td>Working status</td>\n      <td>Other, e.g. unpaid voluntary work, domestic ta...</td>\n      <td>7</td>\n      <td>NaN</td>\n    </tr>\n  </tbody>\n</table>\n<p>217 rows × 8 columns</p>\n</div>"
     },
     "metadata": {},
     "execution_count": 2
    }
   ],
   "source": [
    "ws = socio_data.loc[socio_data[\"question_label\"]==\"Working status\"]\n",
    "ws"
   ]
  },
  {
   "cell_type": "code",
   "execution_count": 3,
   "metadata": {},
   "outputs": [
    {
     "output_type": "stream",
     "name": "stdout",
     "text": [
      "<class 'pandas.core.frame.DataFrame'>\nInt64Index: 217 entries, 959 to 1175\nData columns (total 8 columns):\n #   Column          Non-Null Count  Dtype \n---  ------          --------------  ----- \n 0   CountryCode     217 non-null    object\n 1   target_group    217 non-null    object\n 2   subset          217 non-null    object\n 3   question_code   217 non-null    object\n 4   question_label  217 non-null    object\n 5   answer          217 non-null    object\n 6   percentage      217 non-null    int32 \n 7   notes           0 non-null      object\ndtypes: int32(1), object(7)\nmemory usage: 14.4+ KB\n"
     ]
    }
   ],
   "source": [
    "ws['percentage'] = ws['percentage'].astype(int)\n",
    "ws.info()"
   ]
  },
  {
   "cell_type": "code",
   "execution_count": null,
   "metadata": {},
   "outputs": [],
   "source": [
    "#circunferencia probar para esta pregunta con el total\n",
    "df = px.data.gapminder().query(\"continent == 'Asia' and year == 2007\")\n",
    "fig = px.pie(df, values='pop', names='country')\n",
    "fig.update_traces(textposition='inside')\n",
    "fig.update_layout(uniformtext_minsize=12, uniformtext_mode='hide')\n",
    "fig.show()\n",
    "#otro para probar\n",
    "import plotly.graph_objects as go\n",
    "\n",
    "fig = go.Figure(go.Pie(\n",
    "    values = [40000000, 20000000, 30000000, 10000000],\n",
    "    labels = [\"Wages\", \"Operating expenses\", \"Cost of sales\", \"Insurance\"],\n",
    "    texttemplate = \"%{label}: %{value:$,s} <br>(%{percent})\",\n",
    "    textposition = \"inside\"))\n",
    "\n",
    "fig.show()"
   ]
  },
  {
   "cell_type": "code",
   "execution_count": 6,
   "metadata": {},
   "outputs": [],
   "source": [
    "import seaborn as sns \n",
    "import matplotlib.pyplot as plt\n",
    "import plotly.express as px"
   ]
  },
  {
   "cell_type": "code",
   "execution_count": 18,
   "metadata": {},
   "outputs": [
    {
     "output_type": "display_data",
     "data": {
      "application/vnd.plotly.v1+json": {
       "config": {
        "plotlyServerURL": "https://plot.ly"
       },
       "data": [
        {
         "domain": {
          "x": [
           0,
           1
          ],
          "y": [
           0,
           1
          ]
         },
         "hovertemplate": "answer=%{label}<br>percentage=%{value}<extra></extra>",
         "labels": [
          "In paid work (including on paternity or other temporary leave",
          "Self-employed",
          "Unemployed",
          "Student or pupil",
          "Retired",
          "Unable to work due to long-standing health problems",
          "Other, e.g. unpaid voluntary work, domestic tasks or compulsory military or civilian service",
          "In paid work (including on paternity or other temporary leave",
          "Self-employed",
          "Unemployed",
          "Student or pupil",
          "Retired",
          "Unable to work due to long-standing health problems",
          "Other, e.g. unpaid voluntary work, domestic tasks or compulsory military or civilian service",
          "In paid work (including on paternity or other temporary leave",
          "Self-employed",
          "Unemployed",
          "Student or pupil",
          "Retired",
          "Unable to work due to long-standing health problems",
          "Other, e.g. unpaid voluntary work, domestic tasks or compulsory military or civilian service",
          "In paid work (including on paternity or other temporary leave",
          "Self-employed",
          "Unemployed",
          "Student or pupil",
          "Retired",
          "Unable to work due to long-standing health problems",
          "Other, e.g. unpaid voluntary work, domestic tasks or compulsory military or civilian service",
          "In paid work (including on paternity or other temporary leave",
          "Self-employed",
          "Unemployed",
          "Student or pupil",
          "Retired",
          "Unable to work due to long-standing health problems",
          "Other, e.g. unpaid voluntary work, domestic tasks or compulsory military or civilian service",
          "In paid work (including on paternity or other temporary leave",
          "Self-employed",
          "Unemployed",
          "Student or pupil",
          "Retired",
          "Unable to work due to long-standing health problems",
          "Other, e.g. unpaid voluntary work, domestic tasks or compulsory military or civilian service",
          "In paid work (including on paternity or other temporary leave",
          "Self-employed",
          "Unemployed",
          "Student or pupil",
          "Retired",
          "Unable to work due to long-standing health problems",
          "Other, e.g. unpaid voluntary work, domestic tasks or compulsory military or civilian service",
          "In paid work (including on paternity or other temporary leave",
          "Self-employed",
          "Unemployed",
          "Student or pupil",
          "Retired",
          "Unable to work due to long-standing health problems",
          "Other, e.g. unpaid voluntary work, domestic tasks or compulsory military or civilian service",
          "In paid work (including on paternity or other temporary leave",
          "Self-employed",
          "Unemployed",
          "Student or pupil",
          "Retired",
          "Unable to work due to long-standing health problems",
          "Other, e.g. unpaid voluntary work, domestic tasks or compulsory military or civilian service",
          "In paid work (including on paternity or other temporary leave",
          "Self-employed",
          "Unemployed",
          "Student or pupil",
          "Retired",
          "Unable to work due to long-standing health problems",
          "Other, e.g. unpaid voluntary work, domestic tasks or compulsory military or civilian service",
          "In paid work (including on paternity or other temporary leave",
          "Self-employed",
          "Unemployed",
          "Student or pupil",
          "Retired",
          "Unable to work due to long-standing health problems",
          "Other, e.g. unpaid voluntary work, domestic tasks or compulsory military or civilian service",
          "In paid work (including on paternity or other temporary leave",
          "Self-employed",
          "Unemployed",
          "Student or pupil",
          "Retired",
          "Unable to work due to long-standing health problems",
          "Other, e.g. unpaid voluntary work, domestic tasks or compulsory military or civilian service",
          "In paid work (including on paternity or other temporary leave",
          "Self-employed",
          "Unemployed",
          "Student or pupil",
          "Retired",
          "Unable to work due to long-standing health problems",
          "Other, e.g. unpaid voluntary work, domestic tasks or compulsory military or civilian service",
          "In paid work (including on paternity or other temporary leave",
          "Self-employed",
          "Unemployed",
          "Student or pupil",
          "Retired",
          "Unable to work due to long-standing health problems",
          "Other, e.g. unpaid voluntary work, domestic tasks or compulsory military or civilian service",
          "In paid work (including on paternity or other temporary leave",
          "Self-employed",
          "Unemployed",
          "Student or pupil",
          "Retired",
          "Unable to work due to long-standing health problems",
          "Other, e.g. unpaid voluntary work, domestic tasks or compulsory military or civilian service",
          "In paid work (including on paternity or other temporary leave",
          "Self-employed",
          "Unemployed",
          "Student or pupil",
          "Retired",
          "Unable to work due to long-standing health problems",
          "Other, e.g. unpaid voluntary work, domestic tasks or compulsory military or civilian service",
          "In paid work (including on paternity or other temporary leave",
          "Self-employed",
          "Unemployed",
          "Student or pupil",
          "Retired",
          "Unable to work due to long-standing health problems",
          "Other, e.g. unpaid voluntary work, domestic tasks or compulsory military or civilian service",
          "In paid work (including on paternity or other temporary leave",
          "Self-employed",
          "Unemployed",
          "Student or pupil",
          "Retired",
          "Unable to work due to long-standing health problems",
          "Other, e.g. unpaid voluntary work, domestic tasks or compulsory military or civilian service",
          "In paid work (including on paternity or other temporary leave",
          "Self-employed",
          "Unemployed",
          "Student or pupil",
          "Retired",
          "Unable to work due to long-standing health problems",
          "Other, e.g. unpaid voluntary work, domestic tasks or compulsory military or civilian service",
          "In paid work (including on paternity or other temporary leave",
          "Self-employed",
          "Unemployed",
          "Student or pupil",
          "Retired",
          "Unable to work due to long-standing health problems",
          "Other, e.g. unpaid voluntary work, domestic tasks or compulsory military or civilian service",
          "In paid work (including on paternity or other temporary leave",
          "Self-employed",
          "Unemployed",
          "Student or pupil",
          "Retired",
          "Unable to work due to long-standing health problems",
          "Other, e.g. unpaid voluntary work, domestic tasks or compulsory military or civilian service",
          "In paid work (including on paternity or other temporary leave",
          "Self-employed",
          "Unemployed",
          "Student or pupil",
          "Retired",
          "Unable to work due to long-standing health problems",
          "Other, e.g. unpaid voluntary work, domestic tasks or compulsory military or civilian service",
          "In paid work (including on paternity or other temporary leave",
          "Self-employed",
          "Unemployed",
          "Student or pupil",
          "Retired",
          "Unable to work due to long-standing health problems",
          "Other, e.g. unpaid voluntary work, domestic tasks or compulsory military or civilian service",
          "In paid work (including on paternity or other temporary leave",
          "Self-employed",
          "Unemployed",
          "Student or pupil",
          "Retired",
          "Unable to work due to long-standing health problems",
          "Other, e.g. unpaid voluntary work, domestic tasks or compulsory military or civilian service",
          "In paid work (including on paternity or other temporary leave",
          "Self-employed",
          "Unemployed",
          "Student or pupil",
          "Retired",
          "Unable to work due to long-standing health problems",
          "Other, e.g. unpaid voluntary work, domestic tasks or compulsory military or civilian service",
          "In paid work (including on paternity or other temporary leave",
          "Self-employed",
          "Unemployed",
          "Student or pupil",
          "Retired",
          "Unable to work due to long-standing health problems",
          "Other, e.g. unpaid voluntary work, domestic tasks or compulsory military or civilian service",
          "In paid work (including on paternity or other temporary leave",
          "Self-employed",
          "Unemployed",
          "Student or pupil",
          "Retired",
          "Unable to work due to long-standing health problems",
          "Other, e.g. unpaid voluntary work, domestic tasks or compulsory military or civilian service",
          "In paid work (including on paternity or other temporary leave",
          "Self-employed",
          "Unemployed",
          "Student or pupil",
          "Retired",
          "Unable to work due to long-standing health problems",
          "Other, e.g. unpaid voluntary work, domestic tasks or compulsory military or civilian service",
          "In paid work (including on paternity or other temporary leave",
          "Self-employed",
          "Unemployed",
          "Student or pupil",
          "Retired",
          "Unable to work due to long-standing health problems",
          "Other, e.g. unpaid voluntary work, domestic tasks or compulsory military or civilian service",
          "In paid work (including on paternity or other temporary leave",
          "Self-employed",
          "Unemployed",
          "Student or pupil",
          "Retired",
          "Unable to work due to long-standing health problems",
          "Other, e.g. unpaid voluntary work, domestic tasks or compulsory military or civilian service",
          "In paid work (including on paternity or other temporary leave",
          "Self-employed",
          "Unemployed",
          "Student or pupil",
          "Retired",
          "Unable to work due to long-standing health problems",
          "Other, e.g. unpaid voluntary work, domestic tasks or compulsory military or civilian service"
         ],
         "legendgroup": "",
         "name": "",
         "showlegend": true,
         "textposition": "inside",
         "type": "pie",
         "values": [
          55,
          9,
          4,
          23,
          2,
          2,
          5,
          54,
          8,
          4,
          24,
          3,
          4,
          4,
          50,
          11,
          3,
          32,
          0,
          0,
          3,
          49,
          11,
          4,
          27,
          0,
          1,
          7,
          48,
          11,
          2,
          36,
          1,
          0,
          2,
          56,
          7,
          3,
          24,
          2,
          3,
          5,
          48,
          7,
          6,
          27,
          4,
          5,
          3,
          41,
          7,
          1,
          46,
          0,
          2,
          3,
          41,
          16,
          8,
          27,
          1,
          1,
          5,
          46,
          8,
          7,
          31,
          1,
          1,
          4,
          47,
          5,
          8,
          27,
          4,
          6,
          4,
          52,
          9,
          6,
          25,
          2,
          2,
          4,
          40,
          11,
          6,
          38,
          0,
          1,
          4,
          52,
          10,
          3,
          29,
          1,
          1,
          5,
          51,
          6,
          5,
          27,
          2,
          4,
          4,
          43,
          15,
          8,
          27,
          2,
          1,
          5,
          34,
          5,
          3,
          55,
          0,
          0,
          3,
          54,
          7,
          3,
          28,
          1,
          1,
          4,
          45,
          11,
          3,
          37,
          0,
          1,
          3,
          58,
          9,
          2,
          27,
          1,
          0,
          3,
          47,
          10,
          3,
          27,
          3,
          6,
          5,
          48,
          10,
          3,
          34,
          0,
          1,
          3,
          51,
          14,
          5,
          23,
          3,
          1,
          4,
          44,
          11,
          3,
          35,
          1,
          1,
          4,
          59,
          5,
          4,
          20,
          4,
          5,
          3,
          34,
          8,
          2,
          51,
          0,
          1,
          4,
          40,
          10,
          3,
          43,
          0,
          1,
          3,
          50,
          8,
          4,
          25,
          4,
          4,
          4,
          49,
          10,
          5,
          28,
          2,
          2,
          4,
          39,
          9,
          7,
          36,
          0,
          0,
          8,
          35,
          14,
          9,
          33,
          1,
          1,
          7
         ]
        }
       ],
       "layout": {
        "height": 600,
        "legend": {
         "tracegroupgap": 0
        },
        "template": {
         "data": {
          "bar": [
           {
            "error_x": {
             "color": "#2a3f5f"
            },
            "error_y": {
             "color": "#2a3f5f"
            },
            "marker": {
             "line": {
              "color": "#E5ECF6",
              "width": 0.5
             }
            },
            "type": "bar"
           }
          ],
          "barpolar": [
           {
            "marker": {
             "line": {
              "color": "#E5ECF6",
              "width": 0.5
             }
            },
            "type": "barpolar"
           }
          ],
          "carpet": [
           {
            "aaxis": {
             "endlinecolor": "#2a3f5f",
             "gridcolor": "white",
             "linecolor": "white",
             "minorgridcolor": "white",
             "startlinecolor": "#2a3f5f"
            },
            "baxis": {
             "endlinecolor": "#2a3f5f",
             "gridcolor": "white",
             "linecolor": "white",
             "minorgridcolor": "white",
             "startlinecolor": "#2a3f5f"
            },
            "type": "carpet"
           }
          ],
          "choropleth": [
           {
            "colorbar": {
             "outlinewidth": 0,
             "ticks": ""
            },
            "type": "choropleth"
           }
          ],
          "contour": [
           {
            "colorbar": {
             "outlinewidth": 0,
             "ticks": ""
            },
            "colorscale": [
             [
              0,
              "#0d0887"
             ],
             [
              0.1111111111111111,
              "#46039f"
             ],
             [
              0.2222222222222222,
              "#7201a8"
             ],
             [
              0.3333333333333333,
              "#9c179e"
             ],
             [
              0.4444444444444444,
              "#bd3786"
             ],
             [
              0.5555555555555556,
              "#d8576b"
             ],
             [
              0.6666666666666666,
              "#ed7953"
             ],
             [
              0.7777777777777778,
              "#fb9f3a"
             ],
             [
              0.8888888888888888,
              "#fdca26"
             ],
             [
              1,
              "#f0f921"
             ]
            ],
            "type": "contour"
           }
          ],
          "contourcarpet": [
           {
            "colorbar": {
             "outlinewidth": 0,
             "ticks": ""
            },
            "type": "contourcarpet"
           }
          ],
          "heatmap": [
           {
            "colorbar": {
             "outlinewidth": 0,
             "ticks": ""
            },
            "colorscale": [
             [
              0,
              "#0d0887"
             ],
             [
              0.1111111111111111,
              "#46039f"
             ],
             [
              0.2222222222222222,
              "#7201a8"
             ],
             [
              0.3333333333333333,
              "#9c179e"
             ],
             [
              0.4444444444444444,
              "#bd3786"
             ],
             [
              0.5555555555555556,
              "#d8576b"
             ],
             [
              0.6666666666666666,
              "#ed7953"
             ],
             [
              0.7777777777777778,
              "#fb9f3a"
             ],
             [
              0.8888888888888888,
              "#fdca26"
             ],
             [
              1,
              "#f0f921"
             ]
            ],
            "type": "heatmap"
           }
          ],
          "heatmapgl": [
           {
            "colorbar": {
             "outlinewidth": 0,
             "ticks": ""
            },
            "colorscale": [
             [
              0,
              "#0d0887"
             ],
             [
              0.1111111111111111,
              "#46039f"
             ],
             [
              0.2222222222222222,
              "#7201a8"
             ],
             [
              0.3333333333333333,
              "#9c179e"
             ],
             [
              0.4444444444444444,
              "#bd3786"
             ],
             [
              0.5555555555555556,
              "#d8576b"
             ],
             [
              0.6666666666666666,
              "#ed7953"
             ],
             [
              0.7777777777777778,
              "#fb9f3a"
             ],
             [
              0.8888888888888888,
              "#fdca26"
             ],
             [
              1,
              "#f0f921"
             ]
            ],
            "type": "heatmapgl"
           }
          ],
          "histogram": [
           {
            "marker": {
             "colorbar": {
              "outlinewidth": 0,
              "ticks": ""
             }
            },
            "type": "histogram"
           }
          ],
          "histogram2d": [
           {
            "colorbar": {
             "outlinewidth": 0,
             "ticks": ""
            },
            "colorscale": [
             [
              0,
              "#0d0887"
             ],
             [
              0.1111111111111111,
              "#46039f"
             ],
             [
              0.2222222222222222,
              "#7201a8"
             ],
             [
              0.3333333333333333,
              "#9c179e"
             ],
             [
              0.4444444444444444,
              "#bd3786"
             ],
             [
              0.5555555555555556,
              "#d8576b"
             ],
             [
              0.6666666666666666,
              "#ed7953"
             ],
             [
              0.7777777777777778,
              "#fb9f3a"
             ],
             [
              0.8888888888888888,
              "#fdca26"
             ],
             [
              1,
              "#f0f921"
             ]
            ],
            "type": "histogram2d"
           }
          ],
          "histogram2dcontour": [
           {
            "colorbar": {
             "outlinewidth": 0,
             "ticks": ""
            },
            "colorscale": [
             [
              0,
              "#0d0887"
             ],
             [
              0.1111111111111111,
              "#46039f"
             ],
             [
              0.2222222222222222,
              "#7201a8"
             ],
             [
              0.3333333333333333,
              "#9c179e"
             ],
             [
              0.4444444444444444,
              "#bd3786"
             ],
             [
              0.5555555555555556,
              "#d8576b"
             ],
             [
              0.6666666666666666,
              "#ed7953"
             ],
             [
              0.7777777777777778,
              "#fb9f3a"
             ],
             [
              0.8888888888888888,
              "#fdca26"
             ],
             [
              1,
              "#f0f921"
             ]
            ],
            "type": "histogram2dcontour"
           }
          ],
          "mesh3d": [
           {
            "colorbar": {
             "outlinewidth": 0,
             "ticks": ""
            },
            "type": "mesh3d"
           }
          ],
          "parcoords": [
           {
            "line": {
             "colorbar": {
              "outlinewidth": 0,
              "ticks": ""
             }
            },
            "type": "parcoords"
           }
          ],
          "pie": [
           {
            "automargin": true,
            "type": "pie"
           }
          ],
          "scatter": [
           {
            "marker": {
             "colorbar": {
              "outlinewidth": 0,
              "ticks": ""
             }
            },
            "type": "scatter"
           }
          ],
          "scatter3d": [
           {
            "line": {
             "colorbar": {
              "outlinewidth": 0,
              "ticks": ""
             }
            },
            "marker": {
             "colorbar": {
              "outlinewidth": 0,
              "ticks": ""
             }
            },
            "type": "scatter3d"
           }
          ],
          "scattercarpet": [
           {
            "marker": {
             "colorbar": {
              "outlinewidth": 0,
              "ticks": ""
             }
            },
            "type": "scattercarpet"
           }
          ],
          "scattergeo": [
           {
            "marker": {
             "colorbar": {
              "outlinewidth": 0,
              "ticks": ""
             }
            },
            "type": "scattergeo"
           }
          ],
          "scattergl": [
           {
            "marker": {
             "colorbar": {
              "outlinewidth": 0,
              "ticks": ""
             }
            },
            "type": "scattergl"
           }
          ],
          "scattermapbox": [
           {
            "marker": {
             "colorbar": {
              "outlinewidth": 0,
              "ticks": ""
             }
            },
            "type": "scattermapbox"
           }
          ],
          "scatterpolar": [
           {
            "marker": {
             "colorbar": {
              "outlinewidth": 0,
              "ticks": ""
             }
            },
            "type": "scatterpolar"
           }
          ],
          "scatterpolargl": [
           {
            "marker": {
             "colorbar": {
              "outlinewidth": 0,
              "ticks": ""
             }
            },
            "type": "scatterpolargl"
           }
          ],
          "scatterternary": [
           {
            "marker": {
             "colorbar": {
              "outlinewidth": 0,
              "ticks": ""
             }
            },
            "type": "scatterternary"
           }
          ],
          "surface": [
           {
            "colorbar": {
             "outlinewidth": 0,
             "ticks": ""
            },
            "colorscale": [
             [
              0,
              "#0d0887"
             ],
             [
              0.1111111111111111,
              "#46039f"
             ],
             [
              0.2222222222222222,
              "#7201a8"
             ],
             [
              0.3333333333333333,
              "#9c179e"
             ],
             [
              0.4444444444444444,
              "#bd3786"
             ],
             [
              0.5555555555555556,
              "#d8576b"
             ],
             [
              0.6666666666666666,
              "#ed7953"
             ],
             [
              0.7777777777777778,
              "#fb9f3a"
             ],
             [
              0.8888888888888888,
              "#fdca26"
             ],
             [
              1,
              "#f0f921"
             ]
            ],
            "type": "surface"
           }
          ],
          "table": [
           {
            "cells": {
             "fill": {
              "color": "#EBF0F8"
             },
             "line": {
              "color": "white"
             }
            },
            "header": {
             "fill": {
              "color": "#C8D4E3"
             },
             "line": {
              "color": "white"
             }
            },
            "type": "table"
           }
          ]
         },
         "layout": {
          "annotationdefaults": {
           "arrowcolor": "#2a3f5f",
           "arrowhead": 0,
           "arrowwidth": 1
          },
          "autotypenumbers": "strict",
          "coloraxis": {
           "colorbar": {
            "outlinewidth": 0,
            "ticks": ""
           }
          },
          "colorscale": {
           "diverging": [
            [
             0,
             "#8e0152"
            ],
            [
             0.1,
             "#c51b7d"
            ],
            [
             0.2,
             "#de77ae"
            ],
            [
             0.3,
             "#f1b6da"
            ],
            [
             0.4,
             "#fde0ef"
            ],
            [
             0.5,
             "#f7f7f7"
            ],
            [
             0.6,
             "#e6f5d0"
            ],
            [
             0.7,
             "#b8e186"
            ],
            [
             0.8,
             "#7fbc41"
            ],
            [
             0.9,
             "#4d9221"
            ],
            [
             1,
             "#276419"
            ]
           ],
           "sequential": [
            [
             0,
             "#0d0887"
            ],
            [
             0.1111111111111111,
             "#46039f"
            ],
            [
             0.2222222222222222,
             "#7201a8"
            ],
            [
             0.3333333333333333,
             "#9c179e"
            ],
            [
             0.4444444444444444,
             "#bd3786"
            ],
            [
             0.5555555555555556,
             "#d8576b"
            ],
            [
             0.6666666666666666,
             "#ed7953"
            ],
            [
             0.7777777777777778,
             "#fb9f3a"
            ],
            [
             0.8888888888888888,
             "#fdca26"
            ],
            [
             1,
             "#f0f921"
            ]
           ],
           "sequentialminus": [
            [
             0,
             "#0d0887"
            ],
            [
             0.1111111111111111,
             "#46039f"
            ],
            [
             0.2222222222222222,
             "#7201a8"
            ],
            [
             0.3333333333333333,
             "#9c179e"
            ],
            [
             0.4444444444444444,
             "#bd3786"
            ],
            [
             0.5555555555555556,
             "#d8576b"
            ],
            [
             0.6666666666666666,
             "#ed7953"
            ],
            [
             0.7777777777777778,
             "#fb9f3a"
            ],
            [
             0.8888888888888888,
             "#fdca26"
            ],
            [
             1,
             "#f0f921"
            ]
           ]
          },
          "colorway": [
           "#636efa",
           "#EF553B",
           "#00cc96",
           "#ab63fa",
           "#FFA15A",
           "#19d3f3",
           "#FF6692",
           "#B6E880",
           "#FF97FF",
           "#FECB52"
          ],
          "font": {
           "color": "#2a3f5f"
          },
          "geo": {
           "bgcolor": "white",
           "lakecolor": "white",
           "landcolor": "#E5ECF6",
           "showlakes": true,
           "showland": true,
           "subunitcolor": "white"
          },
          "hoverlabel": {
           "align": "left"
          },
          "hovermode": "closest",
          "mapbox": {
           "style": "light"
          },
          "paper_bgcolor": "white",
          "plot_bgcolor": "#E5ECF6",
          "polar": {
           "angularaxis": {
            "gridcolor": "white",
            "linecolor": "white",
            "ticks": ""
           },
           "bgcolor": "#E5ECF6",
           "radialaxis": {
            "gridcolor": "white",
            "linecolor": "white",
            "ticks": ""
           }
          },
          "scene": {
           "xaxis": {
            "backgroundcolor": "#E5ECF6",
            "gridcolor": "white",
            "gridwidth": 2,
            "linecolor": "white",
            "showbackground": true,
            "ticks": "",
            "zerolinecolor": "white"
           },
           "yaxis": {
            "backgroundcolor": "#E5ECF6",
            "gridcolor": "white",
            "gridwidth": 2,
            "linecolor": "white",
            "showbackground": true,
            "ticks": "",
            "zerolinecolor": "white"
           },
           "zaxis": {
            "backgroundcolor": "#E5ECF6",
            "gridcolor": "white",
            "gridwidth": 2,
            "linecolor": "white",
            "showbackground": true,
            "ticks": "",
            "zerolinecolor": "white"
           }
          },
          "shapedefaults": {
           "line": {
            "color": "#2a3f5f"
           }
          },
          "ternary": {
           "aaxis": {
            "gridcolor": "white",
            "linecolor": "white",
            "ticks": ""
           },
           "baxis": {
            "gridcolor": "white",
            "linecolor": "white",
            "ticks": ""
           },
           "bgcolor": "#E5ECF6",
           "caxis": {
            "gridcolor": "white",
            "linecolor": "white",
            "ticks": ""
           }
          },
          "title": {
           "x": 0.05
          },
          "xaxis": {
           "automargin": true,
           "gridcolor": "white",
           "linecolor": "white",
           "ticks": "",
           "title": {
            "standoff": 15
           },
           "zerolinecolor": "white",
           "zerolinewidth": 2
          },
          "yaxis": {
           "automargin": true,
           "gridcolor": "white",
           "linecolor": "white",
           "ticks": "",
           "title": {
            "standoff": 15
           },
           "zerolinecolor": "white",
           "zerolinewidth": 2
          }
         }
        },
        "title": {
         "text": "Working Status of European continent"
        },
        "uniformtext": {
         "minsize": 12,
         "mode": "hide"
        },
        "width": 1000
       }
      }
     },
     "metadata": {}
    }
   ],
   "source": [
    "fig = px.pie(ws, values='percentage', names='answer', title='Working Status of European continent', width= 1000, height=600)\n",
    "fig.update_traces(textposition='inside')\n",
    "fig.update_layout(uniformtext_minsize=12, uniformtext_mode='hide')\n",
    "fig.show()"
   ]
  },
  {
   "cell_type": "code",
   "execution_count": null,
   "metadata": {},
   "outputs": [],
   "source": [
    "# A partir de aqui son intentos y pruebas de filtrado"
   ]
  },
  {
   "cell_type": "code",
   "execution_count": 4,
   "metadata": {},
   "outputs": [
    {
     "output_type": "execute_result",
     "data": {
      "text/plain": [
       "         CountryCode target_group subset question_code  \\\n",
       "310          Austria          All    All        DEXh14   \n",
       "311          Austria          All    All        DEXh14   \n",
       "312          Austria          All    All        DEXh14   \n",
       "313          Belgium          All    All        DEXh14   \n",
       "314          Belgium          All    All        DEXh14   \n",
       "..               ...          ...    ...           ...   \n",
       "398  North Macedonia          All    All        DEXh14   \n",
       "399  North Macedonia          All    All        DEXh14   \n",
       "400           Serbia          All    All        DEXh14   \n",
       "401           Serbia          All    All        DEXh14   \n",
       "402           Serbia          All    All        DEXh14   \n",
       "\n",
       "                                        question_label  \\\n",
       "310  Thinking about the child / children that you r...   \n",
       "311  Thinking about the child / children that you r...   \n",
       "312  Thinking about the child / children that you r...   \n",
       "313  Thinking about the child / children that you r...   \n",
       "314  Thinking about the child / children that you r...   \n",
       "..                                                 ...   \n",
       "398  Thinking about the child / children that you r...   \n",
       "399  Thinking about the child / children that you r...   \n",
       "400  Thinking about the child / children that you r...   \n",
       "401  Thinking about the child / children that you r...   \n",
       "402  Thinking about the child / children that you r...   \n",
       "\n",
       "                                                answer percentage  notes  \n",
       "310  We are both legal guardian of one or more chil...         65    NaN  \n",
       "311  I am a legal guardian of one or more children,...         16    NaN  \n",
       "312  My partner is the legal guardian of one or mor...         20    NaN  \n",
       "313  We are both legal guardian of one or more chil...         70    NaN  \n",
       "314  I am a legal guardian of one or more children,...         19    NaN  \n",
       "..                                                 ...        ...    ...  \n",
       "398  I am a legal guardian of one or more children,...          :   [1]   \n",
       "399  My partner is the legal guardian of one or mor...          :   [1]   \n",
       "400  We are both legal guardian of one or more chil...         68    NaN  \n",
       "401  I am a legal guardian of one or more children,...         19    NaN  \n",
       "402  My partner is the legal guardian of one or mor...         13    NaN  \n",
       "\n",
       "[93 rows x 8 columns]"
      ],
      "text/html": "<div>\n<style scoped>\n    .dataframe tbody tr th:only-of-type {\n        vertical-align: middle;\n    }\n\n    .dataframe tbody tr th {\n        vertical-align: top;\n    }\n\n    .dataframe thead th {\n        text-align: right;\n    }\n</style>\n<table border=\"1\" class=\"dataframe\">\n  <thead>\n    <tr style=\"text-align: right;\">\n      <th></th>\n      <th>CountryCode</th>\n      <th>target_group</th>\n      <th>subset</th>\n      <th>question_code</th>\n      <th>question_label</th>\n      <th>answer</th>\n      <th>percentage</th>\n      <th>notes</th>\n    </tr>\n  </thead>\n  <tbody>\n    <tr>\n      <th>310</th>\n      <td>Austria</td>\n      <td>All</td>\n      <td>All</td>\n      <td>DEXh14</td>\n      <td>Thinking about the child / children that you r...</td>\n      <td>We are both legal guardian of one or more chil...</td>\n      <td>65</td>\n      <td>NaN</td>\n    </tr>\n    <tr>\n      <th>311</th>\n      <td>Austria</td>\n      <td>All</td>\n      <td>All</td>\n      <td>DEXh14</td>\n      <td>Thinking about the child / children that you r...</td>\n      <td>I am a legal guardian of one or more children,...</td>\n      <td>16</td>\n      <td>NaN</td>\n    </tr>\n    <tr>\n      <th>312</th>\n      <td>Austria</td>\n      <td>All</td>\n      <td>All</td>\n      <td>DEXh14</td>\n      <td>Thinking about the child / children that you r...</td>\n      <td>My partner is the legal guardian of one or mor...</td>\n      <td>20</td>\n      <td>NaN</td>\n    </tr>\n    <tr>\n      <th>313</th>\n      <td>Belgium</td>\n      <td>All</td>\n      <td>All</td>\n      <td>DEXh14</td>\n      <td>Thinking about the child / children that you r...</td>\n      <td>We are both legal guardian of one or more chil...</td>\n      <td>70</td>\n      <td>NaN</td>\n    </tr>\n    <tr>\n      <th>314</th>\n      <td>Belgium</td>\n      <td>All</td>\n      <td>All</td>\n      <td>DEXh14</td>\n      <td>Thinking about the child / children that you r...</td>\n      <td>I am a legal guardian of one or more children,...</td>\n      <td>19</td>\n      <td>NaN</td>\n    </tr>\n    <tr>\n      <th>...</th>\n      <td>...</td>\n      <td>...</td>\n      <td>...</td>\n      <td>...</td>\n      <td>...</td>\n      <td>...</td>\n      <td>...</td>\n      <td>...</td>\n    </tr>\n    <tr>\n      <th>398</th>\n      <td>North Macedonia</td>\n      <td>All</td>\n      <td>All</td>\n      <td>DEXh14</td>\n      <td>Thinking about the child / children that you r...</td>\n      <td>I am a legal guardian of one or more children,...</td>\n      <td>:</td>\n      <td>[1]</td>\n    </tr>\n    <tr>\n      <th>399</th>\n      <td>North Macedonia</td>\n      <td>All</td>\n      <td>All</td>\n      <td>DEXh14</td>\n      <td>Thinking about the child / children that you r...</td>\n      <td>My partner is the legal guardian of one or mor...</td>\n      <td>:</td>\n      <td>[1]</td>\n    </tr>\n    <tr>\n      <th>400</th>\n      <td>Serbia</td>\n      <td>All</td>\n      <td>All</td>\n      <td>DEXh14</td>\n      <td>Thinking about the child / children that you r...</td>\n      <td>We are both legal guardian of one or more chil...</td>\n      <td>68</td>\n      <td>NaN</td>\n    </tr>\n    <tr>\n      <th>401</th>\n      <td>Serbia</td>\n      <td>All</td>\n      <td>All</td>\n      <td>DEXh14</td>\n      <td>Thinking about the child / children that you r...</td>\n      <td>I am a legal guardian of one or more children,...</td>\n      <td>19</td>\n      <td>NaN</td>\n    </tr>\n    <tr>\n      <th>402</th>\n      <td>Serbia</td>\n      <td>All</td>\n      <td>All</td>\n      <td>DEXh14</td>\n      <td>Thinking about the child / children that you r...</td>\n      <td>My partner is the legal guardian of one or mor...</td>\n      <td>13</td>\n      <td>NaN</td>\n    </tr>\n  </tbody>\n</table>\n<p>93 rows × 8 columns</p>\n</div>"
     },
     "metadata": {},
     "execution_count": 4
    }
   ],
   "source": [
    "socio_data.loc[socio_data[\"question_label\"] == 'Thinking about the child / children that you raise together with your partner, what is the legal situation of your family?']"
   ]
  },
  {
   "cell_type": "code",
   "execution_count": null,
   "metadata": {},
   "outputs": [],
   "source": []
  },
  {
   "cell_type": "code",
   "execution_count": 47,
   "metadata": {},
   "outputs": [
    {
     "output_type": "error",
     "ename": "ValueError",
     "evalue": "invalid literal for int() with base 10: ':'",
     "traceback": [
      "\u001b[1;31m---------------------------------------------------------------------------\u001b[0m",
      "\u001b[1;31mValueError\u001b[0m                                Traceback (most recent call last)",
      "\u001b[1;32m<ipython-input-47-1bc4eee291db>\u001b[0m in \u001b[0;36m<module>\u001b[1;34m\u001b[0m\n\u001b[1;32m----> 1\u001b[1;33m \u001b[0msocio_data\u001b[0m\u001b[1;33m[\u001b[0m\u001b[1;34m'percentage'\u001b[0m\u001b[1;33m]\u001b[0m \u001b[1;33m=\u001b[0m \u001b[0msocio_data\u001b[0m\u001b[1;33m[\u001b[0m\u001b[1;34m'percentage'\u001b[0m\u001b[1;33m]\u001b[0m\u001b[1;33m.\u001b[0m\u001b[0mastype\u001b[0m\u001b[1;33m(\u001b[0m\u001b[0mint\u001b[0m\u001b[1;33m)\u001b[0m\u001b[1;33m\u001b[0m\u001b[1;33m\u001b[0m\u001b[0m\n\u001b[0m",
      "\u001b[1;32m~\\AppData\\Local\\Programs\\Python\\Python39\\lib\\site-packages\\pandas\\core\\generic.py\u001b[0m in \u001b[0;36mastype\u001b[1;34m(self, dtype, copy, errors)\u001b[0m\n\u001b[0;32m   5546\u001b[0m         \u001b[1;32melse\u001b[0m\u001b[1;33m:\u001b[0m\u001b[1;33m\u001b[0m\u001b[1;33m\u001b[0m\u001b[0m\n\u001b[0;32m   5547\u001b[0m             \u001b[1;31m# else, only a single dtype is given\u001b[0m\u001b[1;33m\u001b[0m\u001b[1;33m\u001b[0m\u001b[1;33m\u001b[0m\u001b[0m\n\u001b[1;32m-> 5548\u001b[1;33m             \u001b[0mnew_data\u001b[0m \u001b[1;33m=\u001b[0m \u001b[0mself\u001b[0m\u001b[1;33m.\u001b[0m\u001b[0m_mgr\u001b[0m\u001b[1;33m.\u001b[0m\u001b[0mastype\u001b[0m\u001b[1;33m(\u001b[0m\u001b[0mdtype\u001b[0m\u001b[1;33m=\u001b[0m\u001b[0mdtype\u001b[0m\u001b[1;33m,\u001b[0m \u001b[0mcopy\u001b[0m\u001b[1;33m=\u001b[0m\u001b[0mcopy\u001b[0m\u001b[1;33m,\u001b[0m \u001b[0merrors\u001b[0m\u001b[1;33m=\u001b[0m\u001b[0merrors\u001b[0m\u001b[1;33m,\u001b[0m\u001b[1;33m)\u001b[0m\u001b[1;33m\u001b[0m\u001b[1;33m\u001b[0m\u001b[0m\n\u001b[0m\u001b[0;32m   5549\u001b[0m             \u001b[1;32mreturn\u001b[0m \u001b[0mself\u001b[0m\u001b[1;33m.\u001b[0m\u001b[0m_constructor\u001b[0m\u001b[1;33m(\u001b[0m\u001b[0mnew_data\u001b[0m\u001b[1;33m)\u001b[0m\u001b[1;33m.\u001b[0m\u001b[0m__finalize__\u001b[0m\u001b[1;33m(\u001b[0m\u001b[0mself\u001b[0m\u001b[1;33m,\u001b[0m \u001b[0mmethod\u001b[0m\u001b[1;33m=\u001b[0m\u001b[1;34m\"astype\"\u001b[0m\u001b[1;33m)\u001b[0m\u001b[1;33m\u001b[0m\u001b[1;33m\u001b[0m\u001b[0m\n\u001b[0;32m   5550\u001b[0m \u001b[1;33m\u001b[0m\u001b[0m\n",
      "\u001b[1;32m~\\AppData\\Local\\Programs\\Python\\Python39\\lib\\site-packages\\pandas\\core\\internals\\managers.py\u001b[0m in \u001b[0;36mastype\u001b[1;34m(self, dtype, copy, errors)\u001b[0m\n\u001b[0;32m    602\u001b[0m         \u001b[0mself\u001b[0m\u001b[1;33m,\u001b[0m \u001b[0mdtype\u001b[0m\u001b[1;33m,\u001b[0m \u001b[0mcopy\u001b[0m\u001b[1;33m:\u001b[0m \u001b[0mbool\u001b[0m \u001b[1;33m=\u001b[0m \u001b[1;32mFalse\u001b[0m\u001b[1;33m,\u001b[0m \u001b[0merrors\u001b[0m\u001b[1;33m:\u001b[0m \u001b[0mstr\u001b[0m \u001b[1;33m=\u001b[0m \u001b[1;34m\"raise\"\u001b[0m\u001b[1;33m\u001b[0m\u001b[1;33m\u001b[0m\u001b[0m\n\u001b[0;32m    603\u001b[0m     ) -> \"BlockManager\":\n\u001b[1;32m--> 604\u001b[1;33m         \u001b[1;32mreturn\u001b[0m \u001b[0mself\u001b[0m\u001b[1;33m.\u001b[0m\u001b[0mapply\u001b[0m\u001b[1;33m(\u001b[0m\u001b[1;34m\"astype\"\u001b[0m\u001b[1;33m,\u001b[0m \u001b[0mdtype\u001b[0m\u001b[1;33m=\u001b[0m\u001b[0mdtype\u001b[0m\u001b[1;33m,\u001b[0m \u001b[0mcopy\u001b[0m\u001b[1;33m=\u001b[0m\u001b[0mcopy\u001b[0m\u001b[1;33m,\u001b[0m \u001b[0merrors\u001b[0m\u001b[1;33m=\u001b[0m\u001b[0merrors\u001b[0m\u001b[1;33m)\u001b[0m\u001b[1;33m\u001b[0m\u001b[1;33m\u001b[0m\u001b[0m\n\u001b[0m\u001b[0;32m    605\u001b[0m \u001b[1;33m\u001b[0m\u001b[0m\n\u001b[0;32m    606\u001b[0m     def convert(\n",
      "\u001b[1;32m~\\AppData\\Local\\Programs\\Python\\Python39\\lib\\site-packages\\pandas\\core\\internals\\managers.py\u001b[0m in \u001b[0;36mapply\u001b[1;34m(self, f, align_keys, **kwargs)\u001b[0m\n\u001b[0;32m    407\u001b[0m                 \u001b[0mapplied\u001b[0m \u001b[1;33m=\u001b[0m \u001b[0mb\u001b[0m\u001b[1;33m.\u001b[0m\u001b[0mapply\u001b[0m\u001b[1;33m(\u001b[0m\u001b[0mf\u001b[0m\u001b[1;33m,\u001b[0m \u001b[1;33m**\u001b[0m\u001b[0mkwargs\u001b[0m\u001b[1;33m)\u001b[0m\u001b[1;33m\u001b[0m\u001b[1;33m\u001b[0m\u001b[0m\n\u001b[0;32m    408\u001b[0m             \u001b[1;32melse\u001b[0m\u001b[1;33m:\u001b[0m\u001b[1;33m\u001b[0m\u001b[1;33m\u001b[0m\u001b[0m\n\u001b[1;32m--> 409\u001b[1;33m                 \u001b[0mapplied\u001b[0m \u001b[1;33m=\u001b[0m \u001b[0mgetattr\u001b[0m\u001b[1;33m(\u001b[0m\u001b[0mb\u001b[0m\u001b[1;33m,\u001b[0m \u001b[0mf\u001b[0m\u001b[1;33m)\u001b[0m\u001b[1;33m(\u001b[0m\u001b[1;33m**\u001b[0m\u001b[0mkwargs\u001b[0m\u001b[1;33m)\u001b[0m\u001b[1;33m\u001b[0m\u001b[1;33m\u001b[0m\u001b[0m\n\u001b[0m\u001b[0;32m    410\u001b[0m             \u001b[0mresult_blocks\u001b[0m \u001b[1;33m=\u001b[0m \u001b[0m_extend_blocks\u001b[0m\u001b[1;33m(\u001b[0m\u001b[0mapplied\u001b[0m\u001b[1;33m,\u001b[0m \u001b[0mresult_blocks\u001b[0m\u001b[1;33m)\u001b[0m\u001b[1;33m\u001b[0m\u001b[1;33m\u001b[0m\u001b[0m\n\u001b[0;32m    411\u001b[0m \u001b[1;33m\u001b[0m\u001b[0m\n",
      "\u001b[1;32m~\\AppData\\Local\\Programs\\Python\\Python39\\lib\\site-packages\\pandas\\core\\internals\\blocks.py\u001b[0m in \u001b[0;36mastype\u001b[1;34m(self, dtype, copy, errors)\u001b[0m\n\u001b[0;32m    593\u001b[0m             \u001b[0mvals1d\u001b[0m \u001b[1;33m=\u001b[0m \u001b[0mvalues\u001b[0m\u001b[1;33m.\u001b[0m\u001b[0mravel\u001b[0m\u001b[1;33m(\u001b[0m\u001b[1;33m)\u001b[0m\u001b[1;33m\u001b[0m\u001b[1;33m\u001b[0m\u001b[0m\n\u001b[0;32m    594\u001b[0m             \u001b[1;32mtry\u001b[0m\u001b[1;33m:\u001b[0m\u001b[1;33m\u001b[0m\u001b[1;33m\u001b[0m\u001b[0m\n\u001b[1;32m--> 595\u001b[1;33m                 \u001b[0mvalues\u001b[0m \u001b[1;33m=\u001b[0m \u001b[0mastype_nansafe\u001b[0m\u001b[1;33m(\u001b[0m\u001b[0mvals1d\u001b[0m\u001b[1;33m,\u001b[0m \u001b[0mdtype\u001b[0m\u001b[1;33m,\u001b[0m \u001b[0mcopy\u001b[0m\u001b[1;33m=\u001b[0m\u001b[1;32mTrue\u001b[0m\u001b[1;33m)\u001b[0m\u001b[1;33m\u001b[0m\u001b[1;33m\u001b[0m\u001b[0m\n\u001b[0m\u001b[0;32m    596\u001b[0m             \u001b[1;32mexcept\u001b[0m \u001b[1;33m(\u001b[0m\u001b[0mValueError\u001b[0m\u001b[1;33m,\u001b[0m \u001b[0mTypeError\u001b[0m\u001b[1;33m)\u001b[0m\u001b[1;33m:\u001b[0m\u001b[1;33m\u001b[0m\u001b[1;33m\u001b[0m\u001b[0m\n\u001b[0;32m    597\u001b[0m                 \u001b[1;31m# e.g. astype_nansafe can fail on object-dtype of strings\u001b[0m\u001b[1;33m\u001b[0m\u001b[1;33m\u001b[0m\u001b[1;33m\u001b[0m\u001b[0m\n",
      "\u001b[1;32m~\\AppData\\Local\\Programs\\Python\\Python39\\lib\\site-packages\\pandas\\core\\dtypes\\cast.py\u001b[0m in \u001b[0;36mastype_nansafe\u001b[1;34m(arr, dtype, copy, skipna)\u001b[0m\n\u001b[0;32m    972\u001b[0m         \u001b[1;31m# work around NumPy brokenness, #1987\u001b[0m\u001b[1;33m\u001b[0m\u001b[1;33m\u001b[0m\u001b[1;33m\u001b[0m\u001b[0m\n\u001b[0;32m    973\u001b[0m         \u001b[1;32mif\u001b[0m \u001b[0mnp\u001b[0m\u001b[1;33m.\u001b[0m\u001b[0missubdtype\u001b[0m\u001b[1;33m(\u001b[0m\u001b[0mdtype\u001b[0m\u001b[1;33m.\u001b[0m\u001b[0mtype\u001b[0m\u001b[1;33m,\u001b[0m \u001b[0mnp\u001b[0m\u001b[1;33m.\u001b[0m\u001b[0minteger\u001b[0m\u001b[1;33m)\u001b[0m\u001b[1;33m:\u001b[0m\u001b[1;33m\u001b[0m\u001b[1;33m\u001b[0m\u001b[0m\n\u001b[1;32m--> 974\u001b[1;33m             \u001b[1;32mreturn\u001b[0m \u001b[0mlib\u001b[0m\u001b[1;33m.\u001b[0m\u001b[0mastype_intsafe\u001b[0m\u001b[1;33m(\u001b[0m\u001b[0marr\u001b[0m\u001b[1;33m.\u001b[0m\u001b[0mravel\u001b[0m\u001b[1;33m(\u001b[0m\u001b[1;33m)\u001b[0m\u001b[1;33m,\u001b[0m \u001b[0mdtype\u001b[0m\u001b[1;33m)\u001b[0m\u001b[1;33m.\u001b[0m\u001b[0mreshape\u001b[0m\u001b[1;33m(\u001b[0m\u001b[0marr\u001b[0m\u001b[1;33m.\u001b[0m\u001b[0mshape\u001b[0m\u001b[1;33m)\u001b[0m\u001b[1;33m\u001b[0m\u001b[1;33m\u001b[0m\u001b[0m\n\u001b[0m\u001b[0;32m    975\u001b[0m \u001b[1;33m\u001b[0m\u001b[0m\n\u001b[0;32m    976\u001b[0m         \u001b[1;31m# if we have a datetime/timedelta array of objects\u001b[0m\u001b[1;33m\u001b[0m\u001b[1;33m\u001b[0m\u001b[1;33m\u001b[0m\u001b[0m\n",
      "\u001b[1;32mpandas\\_libs\\lib.pyx\u001b[0m in \u001b[0;36mpandas._libs.lib.astype_intsafe\u001b[1;34m()\u001b[0m\n",
      "\u001b[1;31mValueError\u001b[0m: invalid literal for int() with base 10: ':'"
     ]
    }
   ],
   "source": [
    "socio_data['percentage'] = socio_data['percentage'].astype(int)"
   ]
  },
  {
   "cell_type": "code",
   "execution_count": 65,
   "metadata": {},
   "outputs": [
    {
     "output_type": "error",
     "ename": "KeyError",
     "evalue": "'[(False, False, False, False, False, False, False, False, False, False, False, False, False, False, False, False, False, False, False, False, False, False, False, False, False, False, False, False, False, False, False, False, False, False, False, False, False, False, False, False, False, False, False, False, False, False, False, False, False, False, False, False, False, False, False, False, False, False, False, False, False, False, False, False, False, False, False, False, False, False, False, False, False, False, False, False, False, False, False, False, False, False, False, False, False, False, False, False, False, False, False, False, False, False, False, False, False, False, False, False, False, False, False, False, False, False, False, False, False, False, False, False, False, False, False, False, False, False, False, False, False, False, False, False, False, False, False, False, False, False, False, False, False, False, False, False, False, False, False, False, False, False, False, False, False, False, False, False, False, False, False, False, False, False, False, False, False, False, False, False, False, False, False, False, False, False, False, False, False, False, False, False, False, False, False, False, False, False, False, False, False, False, False, False, False, False, False, False, False, False, False, False, False, False, False, False, False, False, False, False, False, False, False, False, False, False, False, False, False, False, False, False, False, False, False, False, False, False, False, False, False, False, False, False, False, False, False, False, False, False, False, False, False, False, False, False, False, False, False, False, False, False, False, False, False, False, False, False, False, False, False, False, False, False, False, False, False, False, False, False, False, False, False, False, False, False, False, False, False, False, False, False, False, False, False, False, False, False, False, False, False, False, False, False, False, False, False, False, False, False, False, False, False, False, False, False, False, False, False, False, False, False, False, False, False, False, False, False, False, False, False, False, False, False, False, False, False, False, False, True, True, True, False, False, False, False, False, False, False, False, False, False, False, False, False, False, False, False, False, False, False, False, False, False, False, False, False, False, False, False, False, False, False, False, False, False, False, False, True, True, True, False, False, False, False, False, False, False, False, False, False, False, False, False, False, False, False, False, False, False, False, False, False, False, False, True, True, True, False, False, False, False, False, False, False, False, False, True, True, True, False, False, False, False, False, False, False, False, False, False, False, False, False, False, False, False, False, False, False, False, False, False, False, False, False, False, False, False, False, False, False, False, False, False, False, False, False, False, False, False, False, False, False, False, False, False, False, False, False, False, False, False, False, False, False, False, False, False, False, False, False, False, False, False, False, False, False, False, False, False, False, False, False, False, False, False, False, False, False, False, False, False, False, False, False, False, False, False, False, False, False, False, False, False, False, False, False, False, False, False, False, False, False, False, False, False, False, False, False, False, False, False, False, False, False, False, False, False, False, False, False, False, False, False, False, False, False, False, False, False, False, False, False, False, False, False, False, False, False, False, False, False, False, False, False, False, False, False, False, False, False, False, False, False, False, False, False, False, False, False, False, False, False, False, False, False, False, False, False, False, False, False, False, False, False, False, False, False, False, False, False, False, False, False, False, False, False, False, False, False, False, False, False, False, False, False, False, False, False, False, False, False, False, False, False, False, False, False, False, False, False, False, False, False, False, False, False, False, False, False, False, False, False, False, False, False, False, False, False, False, False, False, False, False, False, False, False, False, False, False, False, False, False, False, False, False, False, False, False, False, False, False, False, False, False, False, False, False, False, False, False, False, False, False, False, False, False, False, False, False, False, False, False, False, False, False, False, False, False, False, False, False, False, False, False, False, False, False, False, False, False, False, False, False, False, False, False, False, False, False, False, False, False, False, False, False, False, False, False, False, False, False, False, False, False, False, False, False, False, False, False, False, False, False, False, False, False, False, False, False, False, False, False, False, False, False, False, False, False, False, False, False, False, False, False, False, False, False, False, False, False, False, False, False, False, False, False, False, False, False, False, False, False, False, False, False, False, False, False, False, False, False, False, False, False, False, False, False, False, False, False, False, False, False, False, False, False, False, False, False, False, False, False, False, False, False, False, False, False, False, False, False, False, False, False, False, False, False, False, False, False, False, False, False, False, False, False, False, False, False, False, False, False, False, False, False, False, False, False, False, False, False, False, False, False, False, False, False, False, False, False, False, False, False, False, False, False, False, False, False, False, False, False, False, False, False, False, False, False, False, False, False, False, False, False, False, False, False, False, False, False, False, False, False, False, False, False, False, False, False, False, False, False, False, False, False, False, False, False, False, False, False, False, False, False, False, False, False, False, False, False, False, False, False, False, False, False, False, False, False, False, False, False, False, False, False, False, False, False, False, False, False, False, False, False, False, False, False, False, False, False, False, False, False, False, False, False, False, False, False, False, False, False, False, False, False, False, False, False, False, False, False, False, False, False, False, False, False, False, False, False, False, False, False, False, False, False, False, False, False, False, False, False, False, False, False, False, False, False, False, False, False, False, False, False, False, False, False, False, False, False, False, False, False, False, False, False, False, False, False, False, False, False, False, False, False, False, False, False, False, False, False, False, False, False, False, False, False, False, False, False, False, False, False, False, False, False, False, False, False, False, False, False, False, False, False, False, False, False, False, False, False, False, False, False, False, False, False, False, False, False, False, False, False, False, False, False, False, False, False, False, False, False, False, False, False, False, False, False, False, False, False, False, False, False, False, False, False, False, False, False, False, False, False, False, False, False, False, False, False, False, False, False, False, False, False, False, False, False, False, False, False, False, False, False, False, False, False, False, False, False, False, False, False, False, False, False, False, False, False, False, False, False, False, False, False, False, False, False, False, False, False, False, False, False, False, False, False, False, False, False, False, False, False, False, False, False, False, False, False, False, False, False, False, False, False, False, False, False, False, False, False, False, False, False, False, False, False, False, False, False, False, False, False, False, False, False, False, False, False, False, False, False, False, False, False, False, False, False, False, False, False, False, False, False, False, False, False, False, False, False, False, False, False, False, False, False, False, False, False, False, False, False, False, False, False, False, False, False, False, False, False, False, False, False, False, False, False, False, False, False, False, False, False, False, False, False, False, False, False, False, False, False, False, False, False, False, False, False, False, False, False, False, False, False, False, False, False, False, False, False, False, False, False, False, False, False, False, False, False, False, False, False, False, False, False, False, False, False, False, False, False, False, False, False, False, False, False, False, False, False, False, False, False, False, False, False, False, False, False, False, False, False, False, False, False, False, False, False, False, False, False, False, False, False, False, False, False, False, False, False, False, False, False, False, False, False, False, False, False, False, False, False, False, False, False, False, False, False, False, False, False, False, False, False, False, False, False, False, False, False, False, False, False, False, False, False, False, False, False, False, False, False, False, False, False, False, False, False, False, False, False, False, False, False, False, False, False, False, False, False, False, False, False, False, False, False, False, False, False, False, False, False, False, False, False, False, False, False, False, False, False, False, False, False, False, False, False, False, False, False, False, False, False, False, False, False, False, False, False, False, False, False, False, False, False, False, False, False, False, False, False, False, False, False, False, False, False, False, False, False, False, False, False, False, False, False, False, False, False, False, False, False, False, False, False, False, False, False, False, False, False, False, False, False, False, False, False, False, False, False, False, False, False, False, False, False, False, False, False, False, False, False, False, False, False, False, False, False, False, False, False, False, False, False, False, False, False, False, False, False, False, False, False, False, False, False, False, False, False, False, False, False, False, False, False, False, False, False, False, False, False, False, False, False, False, False, False, False, False, False, False, False, False, False, False, False, False, False, False, False, False, False, False, False, False, False, False, False, False, False, False, False, False, False, False, False, False, False, False, False, False, False, False, False, False, False, False, False, False, False, False, False, False, False, False, False, False, False, False, False, False, False, False, False, False, False, False, False, False, False, False, False, False, False, False, False, False, False, False, False, False, False, False, False, False, False, False, False, False, False, False, False, False, False, False, False, False, False, False, False, False, False, False, False, False, False, False, False, False, False, False, False, False, False, False, False, False, False, False, False, False, False, False, False, False, False, False, False, False, False, False, False, False, False, False, False, False, False, False, False, False, False, False, False, False, False, False, False, False, False, False)] not found in axis'",
     "traceback": [
      "\u001b[1;31m---------------------------------------------------------------------------\u001b[0m",
      "\u001b[1;31mKeyError\u001b[0m                                  Traceback (most recent call last)",
      "\u001b[1;32m<ipython-input-65-e434275232bd>\u001b[0m in \u001b[0;36m<module>\u001b[1;34m\u001b[0m\n\u001b[1;32m----> 1\u001b[1;33m \u001b[0msocio_data\u001b[0m\u001b[1;33m.\u001b[0m\u001b[0mdrop\u001b[0m\u001b[1;33m(\u001b[0m\u001b[0mcolumns\u001b[0m\u001b[1;33m=\u001b[0m \u001b[1;33m(\u001b[0m\u001b[1;33m[\u001b[0m\u001b[0msocio_data\u001b[0m\u001b[1;33m[\u001b[0m\u001b[1;34m\"percentage\"\u001b[0m\u001b[1;33m]\u001b[0m \u001b[1;33m==\u001b[0m \u001b[1;34m\":\"\u001b[0m\u001b[1;33m]\u001b[0m\u001b[1;33m)\u001b[0m\u001b[1;33m)\u001b[0m\u001b[1;33m\u001b[0m\u001b[1;33m\u001b[0m\u001b[0m\n\u001b[0m",
      "\u001b[1;32m~\\AppData\\Local\\Programs\\Python\\Python39\\lib\\site-packages\\pandas\\core\\frame.py\u001b[0m in \u001b[0;36mdrop\u001b[1;34m(self, labels, axis, index, columns, level, inplace, errors)\u001b[0m\n\u001b[0;32m   4165\u001b[0m                 \u001b[0mweight\u001b[0m  \u001b[1;36m1.0\u001b[0m     \u001b[1;36m0.8\u001b[0m\u001b[1;33m\u001b[0m\u001b[1;33m\u001b[0m\u001b[0m\n\u001b[0;32m   4166\u001b[0m         \"\"\"\n\u001b[1;32m-> 4167\u001b[1;33m         return super().drop(\n\u001b[0m\u001b[0;32m   4168\u001b[0m             \u001b[0mlabels\u001b[0m\u001b[1;33m=\u001b[0m\u001b[0mlabels\u001b[0m\u001b[1;33m,\u001b[0m\u001b[1;33m\u001b[0m\u001b[1;33m\u001b[0m\u001b[0m\n\u001b[0;32m   4169\u001b[0m             \u001b[0maxis\u001b[0m\u001b[1;33m=\u001b[0m\u001b[0maxis\u001b[0m\u001b[1;33m,\u001b[0m\u001b[1;33m\u001b[0m\u001b[1;33m\u001b[0m\u001b[0m\n",
      "\u001b[1;32m~\\AppData\\Local\\Programs\\Python\\Python39\\lib\\site-packages\\pandas\\core\\generic.py\u001b[0m in \u001b[0;36mdrop\u001b[1;34m(self, labels, axis, index, columns, level, inplace, errors)\u001b[0m\n\u001b[0;32m   3887\u001b[0m         \u001b[1;32mfor\u001b[0m \u001b[0maxis\u001b[0m\u001b[1;33m,\u001b[0m \u001b[0mlabels\u001b[0m \u001b[1;32min\u001b[0m \u001b[0maxes\u001b[0m\u001b[1;33m.\u001b[0m\u001b[0mitems\u001b[0m\u001b[1;33m(\u001b[0m\u001b[1;33m)\u001b[0m\u001b[1;33m:\u001b[0m\u001b[1;33m\u001b[0m\u001b[1;33m\u001b[0m\u001b[0m\n\u001b[0;32m   3888\u001b[0m             \u001b[1;32mif\u001b[0m \u001b[0mlabels\u001b[0m \u001b[1;32mis\u001b[0m \u001b[1;32mnot\u001b[0m \u001b[1;32mNone\u001b[0m\u001b[1;33m:\u001b[0m\u001b[1;33m\u001b[0m\u001b[1;33m\u001b[0m\u001b[0m\n\u001b[1;32m-> 3889\u001b[1;33m                 \u001b[0mobj\u001b[0m \u001b[1;33m=\u001b[0m \u001b[0mobj\u001b[0m\u001b[1;33m.\u001b[0m\u001b[0m_drop_axis\u001b[0m\u001b[1;33m(\u001b[0m\u001b[0mlabels\u001b[0m\u001b[1;33m,\u001b[0m \u001b[0maxis\u001b[0m\u001b[1;33m,\u001b[0m \u001b[0mlevel\u001b[0m\u001b[1;33m=\u001b[0m\u001b[0mlevel\u001b[0m\u001b[1;33m,\u001b[0m \u001b[0merrors\u001b[0m\u001b[1;33m=\u001b[0m\u001b[0merrors\u001b[0m\u001b[1;33m)\u001b[0m\u001b[1;33m\u001b[0m\u001b[1;33m\u001b[0m\u001b[0m\n\u001b[0m\u001b[0;32m   3890\u001b[0m \u001b[1;33m\u001b[0m\u001b[0m\n\u001b[0;32m   3891\u001b[0m         \u001b[1;32mif\u001b[0m \u001b[0minplace\u001b[0m\u001b[1;33m:\u001b[0m\u001b[1;33m\u001b[0m\u001b[1;33m\u001b[0m\u001b[0m\n",
      "\u001b[1;32m~\\AppData\\Local\\Programs\\Python\\Python39\\lib\\site-packages\\pandas\\core\\generic.py\u001b[0m in \u001b[0;36m_drop_axis\u001b[1;34m(self, labels, axis, level, errors)\u001b[0m\n\u001b[0;32m   3921\u001b[0m                 \u001b[0mnew_axis\u001b[0m \u001b[1;33m=\u001b[0m \u001b[0maxis\u001b[0m\u001b[1;33m.\u001b[0m\u001b[0mdrop\u001b[0m\u001b[1;33m(\u001b[0m\u001b[0mlabels\u001b[0m\u001b[1;33m,\u001b[0m \u001b[0mlevel\u001b[0m\u001b[1;33m=\u001b[0m\u001b[0mlevel\u001b[0m\u001b[1;33m,\u001b[0m \u001b[0merrors\u001b[0m\u001b[1;33m=\u001b[0m\u001b[0merrors\u001b[0m\u001b[1;33m)\u001b[0m\u001b[1;33m\u001b[0m\u001b[1;33m\u001b[0m\u001b[0m\n\u001b[0;32m   3922\u001b[0m             \u001b[1;32melse\u001b[0m\u001b[1;33m:\u001b[0m\u001b[1;33m\u001b[0m\u001b[1;33m\u001b[0m\u001b[0m\n\u001b[1;32m-> 3923\u001b[1;33m                 \u001b[0mnew_axis\u001b[0m \u001b[1;33m=\u001b[0m \u001b[0maxis\u001b[0m\u001b[1;33m.\u001b[0m\u001b[0mdrop\u001b[0m\u001b[1;33m(\u001b[0m\u001b[0mlabels\u001b[0m\u001b[1;33m,\u001b[0m \u001b[0merrors\u001b[0m\u001b[1;33m=\u001b[0m\u001b[0merrors\u001b[0m\u001b[1;33m)\u001b[0m\u001b[1;33m\u001b[0m\u001b[1;33m\u001b[0m\u001b[0m\n\u001b[0m\u001b[0;32m   3924\u001b[0m             \u001b[0mresult\u001b[0m \u001b[1;33m=\u001b[0m \u001b[0mself\u001b[0m\u001b[1;33m.\u001b[0m\u001b[0mreindex\u001b[0m\u001b[1;33m(\u001b[0m\u001b[1;33m**\u001b[0m\u001b[1;33m{\u001b[0m\u001b[0maxis_name\u001b[0m\u001b[1;33m:\u001b[0m \u001b[0mnew_axis\u001b[0m\u001b[1;33m}\u001b[0m\u001b[1;33m)\u001b[0m\u001b[1;33m\u001b[0m\u001b[1;33m\u001b[0m\u001b[0m\n\u001b[0;32m   3925\u001b[0m \u001b[1;33m\u001b[0m\u001b[0m\n",
      "\u001b[1;32m~\\AppData\\Local\\Programs\\Python\\Python39\\lib\\site-packages\\pandas\\core\\indexes\\base.py\u001b[0m in \u001b[0;36mdrop\u001b[1;34m(self, labels, errors)\u001b[0m\n\u001b[0;32m   5285\u001b[0m         \u001b[1;32mif\u001b[0m \u001b[0mmask\u001b[0m\u001b[1;33m.\u001b[0m\u001b[0many\u001b[0m\u001b[1;33m(\u001b[0m\u001b[1;33m)\u001b[0m\u001b[1;33m:\u001b[0m\u001b[1;33m\u001b[0m\u001b[1;33m\u001b[0m\u001b[0m\n\u001b[0;32m   5286\u001b[0m             \u001b[1;32mif\u001b[0m \u001b[0merrors\u001b[0m \u001b[1;33m!=\u001b[0m \u001b[1;34m\"ignore\"\u001b[0m\u001b[1;33m:\u001b[0m\u001b[1;33m\u001b[0m\u001b[1;33m\u001b[0m\u001b[0m\n\u001b[1;32m-> 5287\u001b[1;33m                 \u001b[1;32mraise\u001b[0m \u001b[0mKeyError\u001b[0m\u001b[1;33m(\u001b[0m\u001b[1;34mf\"{labels[mask]} not found in axis\"\u001b[0m\u001b[1;33m)\u001b[0m\u001b[1;33m\u001b[0m\u001b[1;33m\u001b[0m\u001b[0m\n\u001b[0m\u001b[0;32m   5288\u001b[0m             \u001b[0mindexer\u001b[0m \u001b[1;33m=\u001b[0m \u001b[0mindexer\u001b[0m\u001b[1;33m[\u001b[0m\u001b[1;33m~\u001b[0m\u001b[0mmask\u001b[0m\u001b[1;33m]\u001b[0m\u001b[1;33m\u001b[0m\u001b[1;33m\u001b[0m\u001b[0m\n\u001b[0;32m   5289\u001b[0m         \u001b[1;32mreturn\u001b[0m \u001b[0mself\u001b[0m\u001b[1;33m.\u001b[0m\u001b[0mdelete\u001b[0m\u001b[1;33m(\u001b[0m\u001b[0mindexer\u001b[0m\u001b[1;33m)\u001b[0m\u001b[1;33m\u001b[0m\u001b[1;33m\u001b[0m\u001b[0m\n",
      "\u001b[1;31mKeyError\u001b[0m: '[(False, False, False, False, False, False, False, False, False, False, False, False, False, False, False, False, False, False, False, False, False, False, False, False, False, False, False, False, False, False, False, False, False, False, False, False, False, False, False, False, False, False, False, False, False, False, False, False, False, False, False, False, False, False, False, False, False, False, False, False, False, False, False, False, False, False, False, False, False, False, False, False, False, False, False, False, False, False, False, False, False, False, False, False, False, False, False, False, False, False, False, False, False, False, False, False, False, False, False, False, False, False, False, False, False, False, False, False, False, False, False, False, False, False, False, False, False, False, False, False, False, False, False, False, False, False, False, False, False, False, False, False, False, False, False, False, False, False, False, False, False, False, False, False, False, False, False, False, False, False, False, False, False, False, False, False, False, False, False, False, False, False, False, False, False, False, False, False, False, False, False, False, False, False, False, False, False, False, False, False, False, False, False, False, False, False, False, False, False, False, False, False, False, False, False, False, False, False, False, False, False, False, False, False, False, False, False, False, False, False, False, False, False, False, False, False, False, False, False, False, False, False, False, False, False, False, False, False, False, False, False, False, False, False, False, False, False, False, False, False, False, False, False, False, False, False, False, False, False, False, False, False, False, False, False, False, False, False, False, False, False, False, False, False, False, False, False, False, False, False, False, False, False, False, False, False, False, False, False, False, False, False, False, False, False, False, False, False, False, False, False, False, False, False, False, False, False, False, False, False, False, False, False, False, False, False, False, False, False, False, False, False, False, False, False, False, False, False, False, True, True, True, False, False, False, False, False, False, False, False, False, False, False, False, False, False, False, False, False, False, False, False, False, False, False, False, False, False, False, False, False, False, False, False, False, False, False, False, True, True, True, False, False, False, False, False, False, False, False, False, False, False, False, False, False, False, False, False, False, False, False, False, False, False, False, True, True, True, False, False, False, False, False, False, False, False, False, True, True, True, False, False, False, False, False, False, False, False, False, False, False, False, False, False, False, False, False, False, False, False, False, False, False, False, False, False, False, False, False, False, False, False, False, False, False, False, False, False, False, False, False, False, False, False, False, False, False, False, False, False, False, False, False, False, False, False, False, False, False, False, False, False, False, False, False, False, False, False, False, False, False, False, False, False, False, False, False, False, False, False, False, False, False, False, False, False, False, False, False, False, False, False, False, False, False, False, False, False, False, False, False, False, False, False, False, False, False, False, False, False, False, False, False, False, False, False, False, False, False, False, False, False, False, False, False, False, False, False, False, False, False, False, False, False, False, False, False, False, False, False, False, False, False, False, False, False, False, False, False, False, False, False, False, False, False, False, False, False, False, False, False, False, False, False, False, False, False, False, False, False, False, False, False, False, False, False, False, False, False, False, False, False, False, False, False, False, False, False, False, False, False, False, False, False, False, False, False, False, False, False, False, False, False, False, False, False, False, False, False, False, False, False, False, False, False, False, False, False, False, False, False, False, False, False, False, False, False, False, False, False, False, False, False, False, False, False, False, False, False, False, False, False, False, False, False, False, False, False, False, False, False, False, False, False, False, False, False, False, False, False, False, False, False, False, False, False, False, False, False, False, False, False, False, False, False, False, False, False, False, False, False, False, False, False, False, False, False, False, False, False, False, False, False, False, False, False, False, False, False, False, False, False, False, False, False, False, False, False, False, False, False, False, False, False, False, False, False, False, False, False, False, False, False, False, False, False, False, False, False, False, False, False, False, False, False, False, False, False, False, False, False, False, False, False, False, False, False, False, False, False, False, False, False, False, False, False, False, False, False, False, False, False, False, False, False, False, False, False, False, False, False, False, False, False, False, False, False, False, False, False, False, False, False, False, False, False, False, False, False, False, False, False, False, False, False, False, False, False, False, False, False, False, False, False, False, False, False, False, False, False, False, False, False, False, False, False, False, False, False, False, False, False, False, False, False, False, False, False, False, False, False, False, False, False, False, False, False, False, False, False, False, False, False, False, False, False, False, False, False, False, False, False, False, False, False, False, False, False, False, False, False, False, False, False, False, False, False, False, False, False, False, False, False, False, False, False, False, False, False, False, False, False, False, False, False, False, False, False, False, False, False, False, False, False, False, False, False, False, False, False, False, False, False, False, False, False, False, False, False, False, False, False, False, False, False, False, False, False, False, False, False, False, False, False, False, False, False, False, False, False, False, False, False, False, False, False, False, False, False, False, False, False, False, False, False, False, False, False, False, False, False, False, False, False, False, False, False, False, False, False, False, False, False, False, False, False, False, False, False, False, False, False, False, False, False, False, False, False, False, False, False, False, False, False, False, False, False, False, False, False, False, False, False, False, False, False, False, False, False, False, False, False, False, False, False, False, False, False, False, False, False, False, False, False, False, False, False, False, False, False, False, False, False, False, False, False, False, False, False, False, False, False, False, False, False, False, False, False, False, False, False, False, False, False, False, False, False, False, False, False, False, False, False, False, False, False, False, False, False, False, False, False, False, False, False, False, False, False, False, False, False, False, False, False, False, False, False, False, False, False, False, False, False, False, False, False, False, False, False, False, False, False, False, False, False, False, False, False, False, False, False, False, False, False, False, False, False, False, False, False, False, False, False, False, False, False, False, False, False, False, False, False, False, False, False, False, False, False, False, False, False, False, False, False, False, False, False, False, False, False, False, False, False, False, False, False, False, False, False, False, False, False, False, False, False, False, False, False, False, False, False, False, False, False, False, False, False, False, False, False, False, False, False, False, False, False, False, False, False, False, False, False, False, False, False, False, False, False, False, False, False, False, False, False, False, False, False, False, False, False, False, False, False, False, False, False, False, False, False, False, False, False, False, False, False, False, False, False, False, False, False, False, False, False, False, False, False, False, False, False, False, False, False, False, False, False, False, False, False, False, False, False, False, False, False, False, False, False, False, False, False, False, False, False, False, False, False, False, False, False, False, False, False, False, False, False, False, False, False, False, False, False, False, False, False, False, False, False, False, False, False, False, False, False, False, False, False, False, False, False, False, False, False, False, False, False, False, False, False, False, False, False, False, False, False, False, False, False, False, False, False, False, False, False, False, False, False, False, False, False, False, False, False, False, False, False, False, False, False, False, False, False, False, False, False, False, False, False, False, False, False, False, False, False, False, False, False, False, False, False, False, False, False, False, False, False, False, False, False, False, False, False, False, False, False, False, False, False, False, False, False, False, False, False, False, False, False, False, False, False, False, False, False, False, False, False, False, False, False, False, False, False, False, False, False, False, False, False, False, False, False, False, False, False, False, False, False, False, False, False, False, False, False, False, False, False, False, False, False, False, False, False, False, False, False, False, False, False, False, False, False, False, False, False, False, False, False, False, False, False, False, False, False, False, False, False, False, False, False, False, False, False, False, False, False, False, False, False, False, False, False, False, False, False, False, False, False, False, False, False, False, False, False, False, False, False, False, False, False, False, False, False, False, False, False, False, False, False, False, False, False, False, False, False, False, False, False, False, False, False, False, False, False, False, False, False, False, False, False, False, False, False, False, False, False, False, False, False, False, False, False, False, False, False, False, False, False, False, False, False, False, False, False, False, False, False, False, False, False, False, False, False, False, False, False, False, False, False, False, False, False, False, False, False, False, False, False, False, False, False, False, False, False, False, False, False, False, False, False, False, False, False, False, False, False, False, False, False, False, False, False, False, False, False, False, False, False, False, False, False, False, False, False, False, False, False, False, False, False, False, False, False, False, False, False, False, False, False, False, False, False, False, False, False, False, False, False, False, False, False, False, False, False, False, False, False, False, False, False, False, False, False, False, False, False, False, False, False, False, False, False, False, False, False, False, False, False, False, False, False, False, False, False, False, False, False, False, False, False, False, False, False, False, False, False, False, False, False, False, False, False, False)] not found in axis'"
     ]
    }
   ],
   "source": [
    "socio_data.drop(columns= ([socio_data[\"percentage\"] == \":\"]))"
   ]
  },
  {
   "cell_type": "code",
   "execution_count": 2,
   "metadata": {},
   "outputs": [
    {
     "output_type": "execute_result",
     "data": {
      "text/plain": [
       "['Do you have citizenship of the country where the online survey was completed?',\n",
       " 'Including yourseld, how many people live in your household?',\n",
       " 'Do you raise a child / children together with your partner?',\n",
       " 'Thinking about the child / children that you raise together with your partner, what is the legal situation of your family?',\n",
       " 'In the country where you live, do you consider yourself to be part of any of the following groups, other than LGBTI?',\n",
       " 'What is your religion, if any?',\n",
       " 'Working status',\n",
       " 'Thinking of your household`s total income, is your household able to make ends meet?',\n",
       " 'What is your civil status?',\n",
       " 'What is your current family or partnership situation?']"
      ]
     },
     "metadata": {},
     "execution_count": 2
    }
   ],
   "source": [
    "question= list(pd.unique(socio_data[\"question_label\"]))\n",
    "question"
   ]
  },
  {
   "cell_type": "code",
   "execution_count": 29,
   "metadata": {},
   "outputs": [
    {
     "output_type": "execute_result",
     "data": {
      "text/plain": [
       "['In paid work (including on paternity or other temporary leave',\n",
       " 'Self-employed',\n",
       " 'Unemployed',\n",
       " 'Student or pupil',\n",
       " 'Retired',\n",
       " 'Unable to work due to long-standing health problems',\n",
       " 'Other, e.g. unpaid voluntary work, domestic tasks or compulsory military or civilian service']"
      ]
     },
     "metadata": {},
     "execution_count": 29
    }
   ],
   "source": [
    "answer= list(pd.unique(ws[\"answer\"]))\n",
    "answer"
   ]
  },
  {
   "cell_type": "code",
   "execution_count": 8,
   "metadata": {},
   "outputs": [
    {
     "output_type": "execute_result",
     "data": {
      "text/plain": [
       "CountryCode     answer                                                                                        percentage\n",
       "Austria         In paid work (including on paternity or other temporary leave                                 55            1\n",
       "                Other, e.g. unpaid voluntary work, domestic tasks or compulsory military or civilian service  5             1\n",
       "                Retired                                                                                       2             1\n",
       "                Self-employed                                                                                 9             1\n",
       "                Student or pupil                                                                              23            1\n",
       "                                                                                                                           ..\n",
       "United Kingdom  Retired                                                                                       4             1\n",
       "                Self-employed                                                                                 8             1\n",
       "                Student or pupil                                                                              25            1\n",
       "                Unable to work due to long-standing health problems                                           4             1\n",
       "                Unemployed                                                                                    4             1\n",
       "Name: percentage, Length: 217, dtype: int64"
      ]
     },
     "metadata": {},
     "execution_count": 8
    }
   ],
   "source": [
    "ws.groupby([\"CountryCode\",\"answer\"])[\"percentage\"].value_counts()"
   ]
  },
  {
   "cell_type": "code",
   "execution_count": 9,
   "metadata": {},
   "outputs": [
    {
     "output_type": "execute_result",
     "data": {
      "text/plain": [
       "                                                    percentage\n",
       "answer                                                        \n",
       "In paid work (including on paternity or other t...   47.096774\n",
       "Other, e.g. unpaid voluntary work, domestic tas...    4.161290\n",
       "Retired                                               1.451613\n",
       "Self-employed                                         9.419355\n",
       "Student or pupil                                     31.354839\n",
       "Unable to work due to long-standing health prob...    1.903226\n",
       "Unemployed                                            4.419355"
      ],
      "text/html": "<div>\n<style scoped>\n    .dataframe tbody tr th:only-of-type {\n        vertical-align: middle;\n    }\n\n    .dataframe tbody tr th {\n        vertical-align: top;\n    }\n\n    .dataframe thead th {\n        text-align: right;\n    }\n</style>\n<table border=\"1\" class=\"dataframe\">\n  <thead>\n    <tr style=\"text-align: right;\">\n      <th></th>\n      <th>percentage</th>\n    </tr>\n    <tr>\n      <th>answer</th>\n      <th></th>\n    </tr>\n  </thead>\n  <tbody>\n    <tr>\n      <th>In paid work (including on paternity or other temporary leave</th>\n      <td>47.096774</td>\n    </tr>\n    <tr>\n      <th>Other, e.g. unpaid voluntary work, domestic tasks or compulsory military or civilian service</th>\n      <td>4.161290</td>\n    </tr>\n    <tr>\n      <th>Retired</th>\n      <td>1.451613</td>\n    </tr>\n    <tr>\n      <th>Self-employed</th>\n      <td>9.419355</td>\n    </tr>\n    <tr>\n      <th>Student or pupil</th>\n      <td>31.354839</td>\n    </tr>\n    <tr>\n      <th>Unable to work due to long-standing health problems</th>\n      <td>1.903226</td>\n    </tr>\n    <tr>\n      <th>Unemployed</th>\n      <td>4.419355</td>\n    </tr>\n  </tbody>\n</table>\n</div>"
     },
     "metadata": {},
     "execution_count": 9
    }
   ],
   "source": [
    "table_total = ws.pivot_table(\"percentage\", index= [\"answer\"])\n",
    "table_total"
   ]
  },
  {
   "cell_type": "code",
   "execution_count": 5,
   "metadata": {},
   "outputs": [
    {
     "output_type": "execute_result",
     "data": {
      "text/plain": [
       "answer           In paid work (including on paternity or other temporary leave  \\\n",
       "CountryCode                                                                      \n",
       "Austria                                                         55               \n",
       "Belgium                                                         54               \n",
       "Bulgaria                                                        50               \n",
       "Croatia                                                         40               \n",
       "Cyprus                                                          49               \n",
       "Czechia                                                         48               \n",
       "Denmark                                                         48               \n",
       "EU-28                                                           49               \n",
       "Estonia                                                         41               \n",
       "Finland                                                         47               \n",
       "France                                                          52               \n",
       "Germany                                                         56               \n",
       "Greece                                                          41               \n",
       "Hungary                                                         52               \n",
       "Ireland                                                         51               \n",
       "Italy                                                           43               \n",
       "Latvia                                                          45               \n",
       "Lithuania                                                       34               \n",
       "Luxembourg                                                      54               \n",
       "Malta                                                           58               \n",
       "Netherlands                                                     47               \n",
       "North Macedonia                                                 39               \n",
       "Poland                                                          48               \n",
       "Portugal                                                        51               \n",
       "Romania                                                         44               \n",
       "Serbia                                                          35               \n",
       "Slovakia                                                        40               \n",
       "Slovenia                                                        34               \n",
       "Spain                                                           46               \n",
       "Sweden                                                          59               \n",
       "United Kingdom                                                  50               \n",
       "\n",
       "answer           Other, e.g. unpaid voluntary work, domestic tasks or compulsory military or civilian service  \\\n",
       "CountryCode                                                                                                     \n",
       "Austria                                                          5                                              \n",
       "Belgium                                                          4                                              \n",
       "Bulgaria                                                         3                                              \n",
       "Croatia                                                          4                                              \n",
       "Cyprus                                                           7                                              \n",
       "Czechia                                                          2                                              \n",
       "Denmark                                                          3                                              \n",
       "EU-28                                                            4                                              \n",
       "Estonia                                                          3                                              \n",
       "Finland                                                          4                                              \n",
       "France                                                           4                                              \n",
       "Germany                                                          5                                              \n",
       "Greece                                                           5                                              \n",
       "Hungary                                                          5                                              \n",
       "Ireland                                                          4                                              \n",
       "Italy                                                            5                                              \n",
       "Latvia                                                           3                                              \n",
       "Lithuania                                                        3                                              \n",
       "Luxembourg                                                       4                                              \n",
       "Malta                                                            3                                              \n",
       "Netherlands                                                      5                                              \n",
       "North Macedonia                                                  8                                              \n",
       "Poland                                                           3                                              \n",
       "Portugal                                                         4                                              \n",
       "Romania                                                          4                                              \n",
       "Serbia                                                           7                                              \n",
       "Slovakia                                                         3                                              \n",
       "Slovenia                                                         4                                              \n",
       "Spain                                                            4                                              \n",
       "Sweden                                                           3                                              \n",
       "United Kingdom                                                   4                                              \n",
       "\n",
       "answer           Retired  Self-employed  Student or pupil  \\\n",
       "CountryCode                                                 \n",
       "Austria                2              9                23   \n",
       "Belgium                3              8                24   \n",
       "Bulgaria               0             11                32   \n",
       "Croatia                0             11                38   \n",
       "Cyprus                 0             11                27   \n",
       "Czechia                1             11                36   \n",
       "Denmark                4              7                27   \n",
       "EU-28                  2             10                28   \n",
       "Estonia                0              7                46   \n",
       "Finland                4              5                27   \n",
       "France                 2              9                25   \n",
       "Germany                2              7                24   \n",
       "Greece                 1             16                27   \n",
       "Hungary                1             10                29   \n",
       "Ireland                2              6                27   \n",
       "Italy                  2             15                27   \n",
       "Latvia                 0             11                37   \n",
       "Lithuania              0              5                55   \n",
       "Luxembourg             1              7                28   \n",
       "Malta                  1              9                27   \n",
       "Netherlands            3             10                27   \n",
       "North Macedonia        0              9                36   \n",
       "Poland                 0             10                34   \n",
       "Portugal               3             14                23   \n",
       "Romania                1             11                35   \n",
       "Serbia                 1             14                33   \n",
       "Slovakia               0             10                43   \n",
       "Slovenia               0              8                51   \n",
       "Spain                  1              8                31   \n",
       "Sweden                 4              5                20   \n",
       "United Kingdom         4              8                25   \n",
       "\n",
       "answer           Unable to work due to long-standing health problems  \\\n",
       "CountryCode                                                            \n",
       "Austria                                                          2     \n",
       "Belgium                                                          4     \n",
       "Bulgaria                                                         0     \n",
       "Croatia                                                          1     \n",
       "Cyprus                                                           1     \n",
       "Czechia                                                          0     \n",
       "Denmark                                                          5     \n",
       "EU-28                                                            2     \n",
       "Estonia                                                          2     \n",
       "Finland                                                          6     \n",
       "France                                                           2     \n",
       "Germany                                                          3     \n",
       "Greece                                                           1     \n",
       "Hungary                                                          1     \n",
       "Ireland                                                          4     \n",
       "Italy                                                            1     \n",
       "Latvia                                                           1     \n",
       "Lithuania                                                        0     \n",
       "Luxembourg                                                       1     \n",
       "Malta                                                            0     \n",
       "Netherlands                                                      6     \n",
       "North Macedonia                                                  0     \n",
       "Poland                                                           1     \n",
       "Portugal                                                         1     \n",
       "Romania                                                          1     \n",
       "Serbia                                                           1     \n",
       "Slovakia                                                         1     \n",
       "Slovenia                                                         1     \n",
       "Spain                                                            1     \n",
       "Sweden                                                           5     \n",
       "United Kingdom                                                   4     \n",
       "\n",
       "answer           Unemployed  \n",
       "CountryCode                  \n",
       "Austria                   4  \n",
       "Belgium                   4  \n",
       "Bulgaria                  3  \n",
       "Croatia                   6  \n",
       "Cyprus                    4  \n",
       "Czechia                   2  \n",
       "Denmark                   6  \n",
       "EU-28                     5  \n",
       "Estonia                   1  \n",
       "Finland                   8  \n",
       "France                    6  \n",
       "Germany                   3  \n",
       "Greece                    8  \n",
       "Hungary                   3  \n",
       "Ireland                   5  \n",
       "Italy                     8  \n",
       "Latvia                    3  \n",
       "Lithuania                 3  \n",
       "Luxembourg                3  \n",
       "Malta                     2  \n",
       "Netherlands               3  \n",
       "North Macedonia           7  \n",
       "Poland                    3  \n",
       "Portugal                  5  \n",
       "Romania                   3  \n",
       "Serbia                    9  \n",
       "Slovakia                  3  \n",
       "Slovenia                  2  \n",
       "Spain                     7  \n",
       "Sweden                    4  \n",
       "United Kingdom            4  "
      ],
      "text/html": "<div>\n<style scoped>\n    .dataframe tbody tr th:only-of-type {\n        vertical-align: middle;\n    }\n\n    .dataframe tbody tr th {\n        vertical-align: top;\n    }\n\n    .dataframe thead th {\n        text-align: right;\n    }\n</style>\n<table border=\"1\" class=\"dataframe\">\n  <thead>\n    <tr style=\"text-align: right;\">\n      <th>answer</th>\n      <th>In paid work (including on paternity or other temporary leave</th>\n      <th>Other, e.g. unpaid voluntary work, domestic tasks or compulsory military or civilian service</th>\n      <th>Retired</th>\n      <th>Self-employed</th>\n      <th>Student or pupil</th>\n      <th>Unable to work due to long-standing health problems</th>\n      <th>Unemployed</th>\n    </tr>\n    <tr>\n      <th>CountryCode</th>\n      <th></th>\n      <th></th>\n      <th></th>\n      <th></th>\n      <th></th>\n      <th></th>\n      <th></th>\n    </tr>\n  </thead>\n  <tbody>\n    <tr>\n      <th>Austria</th>\n      <td>55</td>\n      <td>5</td>\n      <td>2</td>\n      <td>9</td>\n      <td>23</td>\n      <td>2</td>\n      <td>4</td>\n    </tr>\n    <tr>\n      <th>Belgium</th>\n      <td>54</td>\n      <td>4</td>\n      <td>3</td>\n      <td>8</td>\n      <td>24</td>\n      <td>4</td>\n      <td>4</td>\n    </tr>\n    <tr>\n      <th>Bulgaria</th>\n      <td>50</td>\n      <td>3</td>\n      <td>0</td>\n      <td>11</td>\n      <td>32</td>\n      <td>0</td>\n      <td>3</td>\n    </tr>\n    <tr>\n      <th>Croatia</th>\n      <td>40</td>\n      <td>4</td>\n      <td>0</td>\n      <td>11</td>\n      <td>38</td>\n      <td>1</td>\n      <td>6</td>\n    </tr>\n    <tr>\n      <th>Cyprus</th>\n      <td>49</td>\n      <td>7</td>\n      <td>0</td>\n      <td>11</td>\n      <td>27</td>\n      <td>1</td>\n      <td>4</td>\n    </tr>\n    <tr>\n      <th>Czechia</th>\n      <td>48</td>\n      <td>2</td>\n      <td>1</td>\n      <td>11</td>\n      <td>36</td>\n      <td>0</td>\n      <td>2</td>\n    </tr>\n    <tr>\n      <th>Denmark</th>\n      <td>48</td>\n      <td>3</td>\n      <td>4</td>\n      <td>7</td>\n      <td>27</td>\n      <td>5</td>\n      <td>6</td>\n    </tr>\n    <tr>\n      <th>EU-28</th>\n      <td>49</td>\n      <td>4</td>\n      <td>2</td>\n      <td>10</td>\n      <td>28</td>\n      <td>2</td>\n      <td>5</td>\n    </tr>\n    <tr>\n      <th>Estonia</th>\n      <td>41</td>\n      <td>3</td>\n      <td>0</td>\n      <td>7</td>\n      <td>46</td>\n      <td>2</td>\n      <td>1</td>\n    </tr>\n    <tr>\n      <th>Finland</th>\n      <td>47</td>\n      <td>4</td>\n      <td>4</td>\n      <td>5</td>\n      <td>27</td>\n      <td>6</td>\n      <td>8</td>\n    </tr>\n    <tr>\n      <th>France</th>\n      <td>52</td>\n      <td>4</td>\n      <td>2</td>\n      <td>9</td>\n      <td>25</td>\n      <td>2</td>\n      <td>6</td>\n    </tr>\n    <tr>\n      <th>Germany</th>\n      <td>56</td>\n      <td>5</td>\n      <td>2</td>\n      <td>7</td>\n      <td>24</td>\n      <td>3</td>\n      <td>3</td>\n    </tr>\n    <tr>\n      <th>Greece</th>\n      <td>41</td>\n      <td>5</td>\n      <td>1</td>\n      <td>16</td>\n      <td>27</td>\n      <td>1</td>\n      <td>8</td>\n    </tr>\n    <tr>\n      <th>Hungary</th>\n      <td>52</td>\n      <td>5</td>\n      <td>1</td>\n      <td>10</td>\n      <td>29</td>\n      <td>1</td>\n      <td>3</td>\n    </tr>\n    <tr>\n      <th>Ireland</th>\n      <td>51</td>\n      <td>4</td>\n      <td>2</td>\n      <td>6</td>\n      <td>27</td>\n      <td>4</td>\n      <td>5</td>\n    </tr>\n    <tr>\n      <th>Italy</th>\n      <td>43</td>\n      <td>5</td>\n      <td>2</td>\n      <td>15</td>\n      <td>27</td>\n      <td>1</td>\n      <td>8</td>\n    </tr>\n    <tr>\n      <th>Latvia</th>\n      <td>45</td>\n      <td>3</td>\n      <td>0</td>\n      <td>11</td>\n      <td>37</td>\n      <td>1</td>\n      <td>3</td>\n    </tr>\n    <tr>\n      <th>Lithuania</th>\n      <td>34</td>\n      <td>3</td>\n      <td>0</td>\n      <td>5</td>\n      <td>55</td>\n      <td>0</td>\n      <td>3</td>\n    </tr>\n    <tr>\n      <th>Luxembourg</th>\n      <td>54</td>\n      <td>4</td>\n      <td>1</td>\n      <td>7</td>\n      <td>28</td>\n      <td>1</td>\n      <td>3</td>\n    </tr>\n    <tr>\n      <th>Malta</th>\n      <td>58</td>\n      <td>3</td>\n      <td>1</td>\n      <td>9</td>\n      <td>27</td>\n      <td>0</td>\n      <td>2</td>\n    </tr>\n    <tr>\n      <th>Netherlands</th>\n      <td>47</td>\n      <td>5</td>\n      <td>3</td>\n      <td>10</td>\n      <td>27</td>\n      <td>6</td>\n      <td>3</td>\n    </tr>\n    <tr>\n      <th>North Macedonia</th>\n      <td>39</td>\n      <td>8</td>\n      <td>0</td>\n      <td>9</td>\n      <td>36</td>\n      <td>0</td>\n      <td>7</td>\n    </tr>\n    <tr>\n      <th>Poland</th>\n      <td>48</td>\n      <td>3</td>\n      <td>0</td>\n      <td>10</td>\n      <td>34</td>\n      <td>1</td>\n      <td>3</td>\n    </tr>\n    <tr>\n      <th>Portugal</th>\n      <td>51</td>\n      <td>4</td>\n      <td>3</td>\n      <td>14</td>\n      <td>23</td>\n      <td>1</td>\n      <td>5</td>\n    </tr>\n    <tr>\n      <th>Romania</th>\n      <td>44</td>\n      <td>4</td>\n      <td>1</td>\n      <td>11</td>\n      <td>35</td>\n      <td>1</td>\n      <td>3</td>\n    </tr>\n    <tr>\n      <th>Serbia</th>\n      <td>35</td>\n      <td>7</td>\n      <td>1</td>\n      <td>14</td>\n      <td>33</td>\n      <td>1</td>\n      <td>9</td>\n    </tr>\n    <tr>\n      <th>Slovakia</th>\n      <td>40</td>\n      <td>3</td>\n      <td>0</td>\n      <td>10</td>\n      <td>43</td>\n      <td>1</td>\n      <td>3</td>\n    </tr>\n    <tr>\n      <th>Slovenia</th>\n      <td>34</td>\n      <td>4</td>\n      <td>0</td>\n      <td>8</td>\n      <td>51</td>\n      <td>1</td>\n      <td>2</td>\n    </tr>\n    <tr>\n      <th>Spain</th>\n      <td>46</td>\n      <td>4</td>\n      <td>1</td>\n      <td>8</td>\n      <td>31</td>\n      <td>1</td>\n      <td>7</td>\n    </tr>\n    <tr>\n      <th>Sweden</th>\n      <td>59</td>\n      <td>3</td>\n      <td>4</td>\n      <td>5</td>\n      <td>20</td>\n      <td>5</td>\n      <td>4</td>\n    </tr>\n    <tr>\n      <th>United Kingdom</th>\n      <td>50</td>\n      <td>4</td>\n      <td>4</td>\n      <td>8</td>\n      <td>25</td>\n      <td>4</td>\n      <td>4</td>\n    </tr>\n  </tbody>\n</table>\n</div>"
     },
     "metadata": {},
     "execution_count": 5
    }
   ],
   "source": [
    "table_paises= ws.groupby([\"answer\", \"CountryCode\"])[\"percentage\"].mean().unstack().T\n",
    "table_paises"
   ]
  },
  {
   "cell_type": "code",
   "execution_count": 7,
   "metadata": {},
   "outputs": [
    {
     "output_type": "execute_result",
     "data": {
      "text/plain": [
       "                                                                   percentage\n",
       "question_label answer                                                        \n",
       "Working status In paid work (including on paternity or other t...   47.096774\n",
       "               Other, e.g. unpaid voluntary work, domestic tas...    4.161290\n",
       "               Retired                                               1.451613\n",
       "               Self-employed                                         9.419355\n",
       "               Student or pupil                                     31.354839\n",
       "               Unable to work due to long-standing health prob...    1.903226\n",
       "               Unemployed                                            4.419355"
      ],
      "text/html": "<div>\n<style scoped>\n    .dataframe tbody tr th:only-of-type {\n        vertical-align: middle;\n    }\n\n    .dataframe tbody tr th {\n        vertical-align: top;\n    }\n\n    .dataframe thead th {\n        text-align: right;\n    }\n</style>\n<table border=\"1\" class=\"dataframe\">\n  <thead>\n    <tr style=\"text-align: right;\">\n      <th></th>\n      <th></th>\n      <th>percentage</th>\n    </tr>\n    <tr>\n      <th>question_label</th>\n      <th>answer</th>\n      <th></th>\n    </tr>\n  </thead>\n  <tbody>\n    <tr>\n      <th rowspan=\"7\" valign=\"top\">Working status</th>\n      <th>In paid work (including on paternity or other temporary leave</th>\n      <td>47.096774</td>\n    </tr>\n    <tr>\n      <th>Other, e.g. unpaid voluntary work, domestic tasks or compulsory military or civilian service</th>\n      <td>4.161290</td>\n    </tr>\n    <tr>\n      <th>Retired</th>\n      <td>1.451613</td>\n    </tr>\n    <tr>\n      <th>Self-employed</th>\n      <td>9.419355</td>\n    </tr>\n    <tr>\n      <th>Student or pupil</th>\n      <td>31.354839</td>\n    </tr>\n    <tr>\n      <th>Unable to work due to long-standing health problems</th>\n      <td>1.903226</td>\n    </tr>\n    <tr>\n      <th>Unemployed</th>\n      <td>4.419355</td>\n    </tr>\n  </tbody>\n</table>\n</div>"
     },
     "metadata": {},
     "execution_count": 7
    }
   ],
   "source": [
    "table_total = ws.pivot_table(\"percentage\", index= [\"question_label\",\"answer\"])\n",
    "table_total"
   ]
  },
  {
   "cell_type": "code",
   "execution_count": 19,
   "metadata": {},
   "outputs": [
    {
     "output_type": "execute_result",
     "data": {
      "text/plain": [
       "answer\n",
       "In paid work (including on paternity or other temporary leave                                   34\n",
       "Other, e.g. unpaid voluntary work, domestic tasks or compulsory military or civilian service     3\n",
       "Retired                                                                                          0\n",
       "Self-employed                                                                                    5\n",
       "Student or pupil                                                                                55\n",
       "Unable to work due to long-standing health problems                                              0\n",
       "Unemployed                                                                                       3\n",
       "Name: Lithuania, dtype: int32"
      ]
     },
     "metadata": {},
     "execution_count": 19
    }
   ],
   "source": [
    "table_paises.loc[(\"Lithuania\")]"
   ]
  },
  {
   "cell_type": "code",
   "execution_count": 109,
   "metadata": {},
   "outputs": [
    {
     "output_type": "error",
     "ename": "AttributeError",
     "evalue": "'function' object has no attribute 'percentage'",
     "traceback": [
      "\u001b[1;31m---------------------------------------------------------------------------\u001b[0m",
      "\u001b[1;31mAttributeError\u001b[0m                            Traceback (most recent call last)",
      "\u001b[1;32m<ipython-input-109-9ed1c2d1f1bd>\u001b[0m in \u001b[0;36m<module>\u001b[1;34m\u001b[0m\n\u001b[0;32m      1\u001b[0m \u001b[1;32mimport\u001b[0m \u001b[0mmatplotlib\u001b[0m\u001b[1;33m.\u001b[0m\u001b[0mpyplot\u001b[0m \u001b[1;32mas\u001b[0m \u001b[0mplt\u001b[0m\u001b[1;33m\u001b[0m\u001b[1;33m\u001b[0m\u001b[0m\n\u001b[1;32m----> 2\u001b[1;33m \u001b[0mtable\u001b[0m\u001b[1;33m.\u001b[0m\u001b[0mpercentage\u001b[0m\u001b[1;33m.\u001b[0m\u001b[0mvalue_counts\u001b[0m\u001b[1;33m(\u001b[0m\u001b[1;33m)\u001b[0m\u001b[1;33m.\u001b[0m\u001b[0mplot\u001b[0m\u001b[1;33m(\u001b[0m\u001b[0mkind\u001b[0m\u001b[1;33m=\u001b[0m\u001b[1;34m\"bar\"\u001b[0m\u001b[1;33m)\u001b[0m\u001b[1;33m\u001b[0m\u001b[1;33m\u001b[0m\u001b[0m\n\u001b[0m",
      "\u001b[1;31mAttributeError\u001b[0m: 'function' object has no attribute 'percentage'"
     ]
    }
   ],
   "source": [
    "import matplotlib.pyplot as plt\n",
    "table.percentage.value_counts().plot(kind=\"bar\")"
   ]
  },
  {
   "cell_type": "code",
   "execution_count": 98,
   "metadata": {},
   "outputs": [
    {
     "output_type": "error",
     "ename": "NotImplementedError",
     "evalue": "Index._join_level on non-unique index is not implemented",
     "traceback": [
      "\u001b[1;31m---------------------------------------------------------------------------\u001b[0m",
      "\u001b[1;31mNotImplementedError\u001b[0m                       Traceback (most recent call last)",
      "\u001b[1;32m<ipython-input-98-2c45a4fd48b4>\u001b[0m in \u001b[0;36m<module>\u001b[1;34m\u001b[0m\n\u001b[1;32m----> 1\u001b[1;33m \u001b[0mtable\u001b[0m\u001b[1;33m.\u001b[0m\u001b[0mloc\u001b[0m\u001b[1;33m[\u001b[0m\u001b[0mtable\u001b[0m\u001b[1;33m.\u001b[0m\u001b[0mindex\u001b[0m\u001b[1;33m.\u001b[0m\u001b[0mget_level_values\u001b[0m\u001b[1;33m(\u001b[0m\u001b[0mlevel\u001b[0m \u001b[1;33m=\u001b[0m \u001b[1;34m'CountryCode'\u001b[0m\u001b[1;33m)\u001b[0m\u001b[1;33m]\u001b[0m\u001b[1;33m\u001b[0m\u001b[1;33m\u001b[0m\u001b[0m\n\u001b[0m",
      "\u001b[1;32m~\\AppData\\Local\\Programs\\Python\\Python39\\lib\\site-packages\\pandas\\core\\indexing.py\u001b[0m in \u001b[0;36m__getitem__\u001b[1;34m(self, key)\u001b[0m\n\u001b[0;32m    877\u001b[0m \u001b[1;33m\u001b[0m\u001b[0m\n\u001b[0;32m    878\u001b[0m             \u001b[0mmaybe_callable\u001b[0m \u001b[1;33m=\u001b[0m \u001b[0mcom\u001b[0m\u001b[1;33m.\u001b[0m\u001b[0mapply_if_callable\u001b[0m\u001b[1;33m(\u001b[0m\u001b[0mkey\u001b[0m\u001b[1;33m,\u001b[0m \u001b[0mself\u001b[0m\u001b[1;33m.\u001b[0m\u001b[0mobj\u001b[0m\u001b[1;33m)\u001b[0m\u001b[1;33m\u001b[0m\u001b[1;33m\u001b[0m\u001b[0m\n\u001b[1;32m--> 879\u001b[1;33m             \u001b[1;32mreturn\u001b[0m \u001b[0mself\u001b[0m\u001b[1;33m.\u001b[0m\u001b[0m_getitem_axis\u001b[0m\u001b[1;33m(\u001b[0m\u001b[0mmaybe_callable\u001b[0m\u001b[1;33m,\u001b[0m \u001b[0maxis\u001b[0m\u001b[1;33m=\u001b[0m\u001b[0maxis\u001b[0m\u001b[1;33m)\u001b[0m\u001b[1;33m\u001b[0m\u001b[1;33m\u001b[0m\u001b[0m\n\u001b[0m\u001b[0;32m    880\u001b[0m \u001b[1;33m\u001b[0m\u001b[0m\n\u001b[0;32m    881\u001b[0m     \u001b[1;32mdef\u001b[0m \u001b[0m_is_scalar_access\u001b[0m\u001b[1;33m(\u001b[0m\u001b[0mself\u001b[0m\u001b[1;33m,\u001b[0m \u001b[0mkey\u001b[0m\u001b[1;33m:\u001b[0m \u001b[0mTuple\u001b[0m\u001b[1;33m)\u001b[0m\u001b[1;33m:\u001b[0m\u001b[1;33m\u001b[0m\u001b[1;33m\u001b[0m\u001b[0m\n",
      "\u001b[1;32m~\\AppData\\Local\\Programs\\Python\\Python39\\lib\\site-packages\\pandas\\core\\indexing.py\u001b[0m in \u001b[0;36m_getitem_axis\u001b[1;34m(self, key, axis)\u001b[0m\n\u001b[0;32m   1097\u001b[0m                     \u001b[1;32mraise\u001b[0m \u001b[0mValueError\u001b[0m\u001b[1;33m(\u001b[0m\u001b[1;34m\"Cannot index with multidimensional key\"\u001b[0m\u001b[1;33m)\u001b[0m\u001b[1;33m\u001b[0m\u001b[1;33m\u001b[0m\u001b[0m\n\u001b[0;32m   1098\u001b[0m \u001b[1;33m\u001b[0m\u001b[0m\n\u001b[1;32m-> 1099\u001b[1;33m                 \u001b[1;32mreturn\u001b[0m \u001b[0mself\u001b[0m\u001b[1;33m.\u001b[0m\u001b[0m_getitem_iterable\u001b[0m\u001b[1;33m(\u001b[0m\u001b[0mkey\u001b[0m\u001b[1;33m,\u001b[0m \u001b[0maxis\u001b[0m\u001b[1;33m=\u001b[0m\u001b[0maxis\u001b[0m\u001b[1;33m)\u001b[0m\u001b[1;33m\u001b[0m\u001b[1;33m\u001b[0m\u001b[0m\n\u001b[0m\u001b[0;32m   1100\u001b[0m \u001b[1;33m\u001b[0m\u001b[0m\n\u001b[0;32m   1101\u001b[0m             \u001b[1;31m# nested tuple slicing\u001b[0m\u001b[1;33m\u001b[0m\u001b[1;33m\u001b[0m\u001b[1;33m\u001b[0m\u001b[0m\n",
      "\u001b[1;32m~\\AppData\\Local\\Programs\\Python\\Python39\\lib\\site-packages\\pandas\\core\\indexing.py\u001b[0m in \u001b[0;36m_getitem_iterable\u001b[1;34m(self, key, axis)\u001b[0m\n\u001b[0;32m   1035\u001b[0m \u001b[1;33m\u001b[0m\u001b[0m\n\u001b[0;32m   1036\u001b[0m         \u001b[1;31m# A collection of keys\u001b[0m\u001b[1;33m\u001b[0m\u001b[1;33m\u001b[0m\u001b[1;33m\u001b[0m\u001b[0m\n\u001b[1;32m-> 1037\u001b[1;33m         \u001b[0mkeyarr\u001b[0m\u001b[1;33m,\u001b[0m \u001b[0mindexer\u001b[0m \u001b[1;33m=\u001b[0m \u001b[0mself\u001b[0m\u001b[1;33m.\u001b[0m\u001b[0m_get_listlike_indexer\u001b[0m\u001b[1;33m(\u001b[0m\u001b[0mkey\u001b[0m\u001b[1;33m,\u001b[0m \u001b[0maxis\u001b[0m\u001b[1;33m,\u001b[0m \u001b[0mraise_missing\u001b[0m\u001b[1;33m=\u001b[0m\u001b[1;32mFalse\u001b[0m\u001b[1;33m)\u001b[0m\u001b[1;33m\u001b[0m\u001b[1;33m\u001b[0m\u001b[0m\n\u001b[0m\u001b[0;32m   1038\u001b[0m         return self.obj._reindex_with_indexers(\n\u001b[0;32m   1039\u001b[0m             \u001b[1;33m{\u001b[0m\u001b[0maxis\u001b[0m\u001b[1;33m:\u001b[0m \u001b[1;33m[\u001b[0m\u001b[0mkeyarr\u001b[0m\u001b[1;33m,\u001b[0m \u001b[0mindexer\u001b[0m\u001b[1;33m]\u001b[0m\u001b[1;33m}\u001b[0m\u001b[1;33m,\u001b[0m \u001b[0mcopy\u001b[0m\u001b[1;33m=\u001b[0m\u001b[1;32mTrue\u001b[0m\u001b[1;33m,\u001b[0m \u001b[0mallow_dups\u001b[0m\u001b[1;33m=\u001b[0m\u001b[1;32mTrue\u001b[0m\u001b[1;33m\u001b[0m\u001b[1;33m\u001b[0m\u001b[0m\n",
      "\u001b[1;32m~\\AppData\\Local\\Programs\\Python\\Python39\\lib\\site-packages\\pandas\\core\\indexing.py\u001b[0m in \u001b[0;36m_get_listlike_indexer\u001b[1;34m(self, key, axis, raise_missing)\u001b[0m\n\u001b[0;32m   1238\u001b[0m         \u001b[1;31m# Have the index compute an indexer or return None\u001b[0m\u001b[1;33m\u001b[0m\u001b[1;33m\u001b[0m\u001b[1;33m\u001b[0m\u001b[0m\n\u001b[0;32m   1239\u001b[0m         \u001b[1;31m# if it cannot handle:\u001b[0m\u001b[1;33m\u001b[0m\u001b[1;33m\u001b[0m\u001b[1;33m\u001b[0m\u001b[0m\n\u001b[1;32m-> 1240\u001b[1;33m         \u001b[0mindexer\u001b[0m\u001b[1;33m,\u001b[0m \u001b[0mkeyarr\u001b[0m \u001b[1;33m=\u001b[0m \u001b[0max\u001b[0m\u001b[1;33m.\u001b[0m\u001b[0m_convert_listlike_indexer\u001b[0m\u001b[1;33m(\u001b[0m\u001b[0mkey\u001b[0m\u001b[1;33m)\u001b[0m\u001b[1;33m\u001b[0m\u001b[1;33m\u001b[0m\u001b[0m\n\u001b[0m\u001b[0;32m   1241\u001b[0m         \u001b[1;31m# We only act on all found values:\u001b[0m\u001b[1;33m\u001b[0m\u001b[1;33m\u001b[0m\u001b[1;33m\u001b[0m\u001b[0m\n\u001b[0;32m   1242\u001b[0m         \u001b[1;32mif\u001b[0m \u001b[0mindexer\u001b[0m \u001b[1;32mis\u001b[0m \u001b[1;32mnot\u001b[0m \u001b[1;32mNone\u001b[0m \u001b[1;32mand\u001b[0m \u001b[1;33m(\u001b[0m\u001b[0mindexer\u001b[0m \u001b[1;33m!=\u001b[0m \u001b[1;33m-\u001b[0m\u001b[1;36m1\u001b[0m\u001b[1;33m)\u001b[0m\u001b[1;33m.\u001b[0m\u001b[0mall\u001b[0m\u001b[1;33m(\u001b[0m\u001b[1;33m)\u001b[0m\u001b[1;33m:\u001b[0m\u001b[1;33m\u001b[0m\u001b[1;33m\u001b[0m\u001b[0m\n",
      "\u001b[1;32m~\\AppData\\Local\\Programs\\Python\\Python39\\lib\\site-packages\\pandas\\core\\indexes\\multi.py\u001b[0m in \u001b[0;36m_convert_listlike_indexer\u001b[1;34m(self, keyarr)\u001b[0m\n\u001b[0;32m   2389\u001b[0m         \u001b[1;32mif\u001b[0m \u001b[0mindexer\u001b[0m \u001b[1;32mis\u001b[0m \u001b[1;32mNone\u001b[0m \u001b[1;32mand\u001b[0m \u001b[0mlen\u001b[0m\u001b[1;33m(\u001b[0m\u001b[0mkeyarr\u001b[0m\u001b[1;33m)\u001b[0m \u001b[1;32mand\u001b[0m \u001b[1;32mnot\u001b[0m \u001b[0misinstance\u001b[0m\u001b[1;33m(\u001b[0m\u001b[0mkeyarr\u001b[0m\u001b[1;33m[\u001b[0m\u001b[1;36m0\u001b[0m\u001b[1;33m]\u001b[0m\u001b[1;33m,\u001b[0m \u001b[0mtuple\u001b[0m\u001b[1;33m)\u001b[0m\u001b[1;33m:\u001b[0m\u001b[1;33m\u001b[0m\u001b[1;33m\u001b[0m\u001b[0m\n\u001b[0;32m   2390\u001b[0m             \u001b[0mlevel\u001b[0m \u001b[1;33m=\u001b[0m \u001b[1;36m0\u001b[0m\u001b[1;33m\u001b[0m\u001b[1;33m\u001b[0m\u001b[0m\n\u001b[1;32m-> 2391\u001b[1;33m             \u001b[0m_\u001b[0m\u001b[1;33m,\u001b[0m \u001b[0mindexer\u001b[0m \u001b[1;33m=\u001b[0m \u001b[0mself\u001b[0m\u001b[1;33m.\u001b[0m\u001b[0mreindex\u001b[0m\u001b[1;33m(\u001b[0m\u001b[0mkeyarr\u001b[0m\u001b[1;33m,\u001b[0m \u001b[0mlevel\u001b[0m\u001b[1;33m=\u001b[0m\u001b[0mlevel\u001b[0m\u001b[1;33m)\u001b[0m\u001b[1;33m\u001b[0m\u001b[1;33m\u001b[0m\u001b[0m\n\u001b[0m\u001b[0;32m   2392\u001b[0m \u001b[1;33m\u001b[0m\u001b[0m\n\u001b[0;32m   2393\u001b[0m             \u001b[1;31m# take all\u001b[0m\u001b[1;33m\u001b[0m\u001b[1;33m\u001b[0m\u001b[1;33m\u001b[0m\u001b[0m\n",
      "\u001b[1;32m~\\AppData\\Local\\Programs\\Python\\Python39\\lib\\site-packages\\pandas\\core\\indexes\\multi.py\u001b[0m in \u001b[0;36mreindex\u001b[1;34m(self, target, method, level, limit, tolerance)\u001b[0m\n\u001b[0;32m   2304\u001b[0m             \u001b[1;32melse\u001b[0m\u001b[1;33m:\u001b[0m\u001b[1;33m\u001b[0m\u001b[1;33m\u001b[0m\u001b[0m\n\u001b[0;32m   2305\u001b[0m                 \u001b[0mtarget\u001b[0m \u001b[1;33m=\u001b[0m \u001b[0mensure_index\u001b[0m\u001b[1;33m(\u001b[0m\u001b[0mtarget\u001b[0m\u001b[1;33m)\u001b[0m\u001b[1;33m\u001b[0m\u001b[1;33m\u001b[0m\u001b[0m\n\u001b[1;32m-> 2306\u001b[1;33m             target, indexer, _ = self._join_level(\n\u001b[0m\u001b[0;32m   2307\u001b[0m                 \u001b[0mtarget\u001b[0m\u001b[1;33m,\u001b[0m \u001b[0mlevel\u001b[0m\u001b[1;33m,\u001b[0m \u001b[0mhow\u001b[0m\u001b[1;33m=\u001b[0m\u001b[1;34m\"right\"\u001b[0m\u001b[1;33m,\u001b[0m \u001b[0mreturn_indexers\u001b[0m\u001b[1;33m=\u001b[0m\u001b[1;32mTrue\u001b[0m\u001b[1;33m,\u001b[0m \u001b[0mkeep_order\u001b[0m\u001b[1;33m=\u001b[0m\u001b[1;32mFalse\u001b[0m\u001b[1;33m\u001b[0m\u001b[1;33m\u001b[0m\u001b[0m\n\u001b[0;32m   2308\u001b[0m             )\n",
      "\u001b[1;32m~\\AppData\\Local\\Programs\\Python\\Python39\\lib\\site-packages\\pandas\\core\\indexes\\base.py\u001b[0m in \u001b[0;36m_join_level\u001b[1;34m(self, other, level, how, return_indexers, keep_order)\u001b[0m\n\u001b[0;32m   3694\u001b[0m \u001b[1;33m\u001b[0m\u001b[0m\n\u001b[0;32m   3695\u001b[0m         \u001b[1;32mif\u001b[0m \u001b[1;32mnot\u001b[0m \u001b[0mright\u001b[0m\u001b[1;33m.\u001b[0m\u001b[0mis_unique\u001b[0m\u001b[1;33m:\u001b[0m\u001b[1;33m\u001b[0m\u001b[1;33m\u001b[0m\u001b[0m\n\u001b[1;32m-> 3696\u001b[1;33m             raise NotImplementedError(\n\u001b[0m\u001b[0;32m   3697\u001b[0m                 \u001b[1;34m\"Index._join_level on non-unique index is not implemented\"\u001b[0m\u001b[1;33m\u001b[0m\u001b[1;33m\u001b[0m\u001b[0m\n\u001b[0;32m   3698\u001b[0m             )\n",
      "\u001b[1;31mNotImplementedError\u001b[0m: Index._join_level on non-unique index is not implemented"
     ]
    }
   ],
   "source": [
    "table.loc[table.index.get_level_values(level = 'CountryCode')] "
   ]
  },
  {
   "cell_type": "code",
   "execution_count": 88,
   "metadata": {},
   "outputs": [
    {
     "output_type": "execute_result",
     "data": {
      "text/plain": [
       "                                                    percentage\n",
       "answer                                                        \n",
       "In paid work (including on paternity or other t...          55\n",
       "Other, e.g. unpaid voluntary work, domestic tas...           5\n",
       "Retired                                                      2\n",
       "Self-employed                                                9\n",
       "Student or pupil                                            23\n",
       "Unable to work due to long-standing health prob...           2\n",
       "Unemployed                                                   4"
      ],
      "text/html": "<div>\n<style scoped>\n    .dataframe tbody tr th:only-of-type {\n        vertical-align: middle;\n    }\n\n    .dataframe tbody tr th {\n        vertical-align: top;\n    }\n\n    .dataframe thead th {\n        text-align: right;\n    }\n</style>\n<table border=\"1\" class=\"dataframe\">\n  <thead>\n    <tr style=\"text-align: right;\">\n      <th></th>\n      <th>percentage</th>\n    </tr>\n    <tr>\n      <th>answer</th>\n      <th></th>\n    </tr>\n  </thead>\n  <tbody>\n    <tr>\n      <th>In paid work (including on paternity or other temporary leave</th>\n      <td>55</td>\n    </tr>\n    <tr>\n      <th>Other, e.g. unpaid voluntary work, domestic tasks or compulsory military or civilian service</th>\n      <td>5</td>\n    </tr>\n    <tr>\n      <th>Retired</th>\n      <td>2</td>\n    </tr>\n    <tr>\n      <th>Self-employed</th>\n      <td>9</td>\n    </tr>\n    <tr>\n      <th>Student or pupil</th>\n      <td>23</td>\n    </tr>\n    <tr>\n      <th>Unable to work due to long-standing health problems</th>\n      <td>2</td>\n    </tr>\n    <tr>\n      <th>Unemployed</th>\n      <td>4</td>\n    </tr>\n  </tbody>\n</table>\n</div>"
     },
     "metadata": {},
     "execution_count": 88
    }
   ],
   "source": [
    "table.loc[(\"Austria\")]"
   ]
  },
  {
   "cell_type": "code",
   "execution_count": 77,
   "metadata": {},
   "outputs": [
    {
     "output_type": "execute_result",
     "data": {
      "text/plain": [
       "CountryCode     answer                                                                                        percentage\n",
       "Austria         In paid work (including on paternity or other temporary leave                                 55            1\n",
       "                Other, e.g. unpaid voluntary work, domestic tasks or compulsory military or civilian service  5             1\n",
       "                Retired                                                                                       2             1\n",
       "                Self-employed                                                                                 9             1\n",
       "                Student or pupil                                                                              23            1\n",
       "                                                                                                                           ..\n",
       "United Kingdom  Retired                                                                                       4             1\n",
       "                Self-employed                                                                                 8             1\n",
       "                Student or pupil                                                                              25            1\n",
       "                Unable to work due to long-standing health problems                                           4             1\n",
       "                Unemployed                                                                                    4             1\n",
       "Name: percentage, Length: 217, dtype: int64"
      ]
     },
     "metadata": {},
     "execution_count": 77
    }
   ],
   "source": [
    "principal= ws.groupby([\"CountryCode\",\"answer\"])[\"percentage\"].value_counts()\n",
    "\n",
    "principal"
   ]
  },
  {
   "cell_type": "code",
   "execution_count": null,
   "metadata": {},
   "outputs": [],
   "source": []
  },
  {
   "cell_type": "code",
   "execution_count": 7,
   "metadata": {},
   "outputs": [
    {
     "output_type": "execute_result",
     "data": {
      "text/plain": [
       "question_label                                                                                                              answer                                                                                      \n",
       "Do you have citizenship of the country where the online survey was completed?                                               No                                                                                              31\n",
       "                                                                                                                            Yes                                                                                             31\n",
       "Do you raise a child / children together with your partner?                                                                 No                                                                                              31\n",
       "                                                                                                                            We share care responsibilities with another person(s)                                           31\n",
       "                                                                                                                            Yes                                                                                             31\n",
       "In the country where you live, do you consider yourself to be part of any of the following groups, other than LGBTI?        A minority in terms of disability                                                               31\n",
       "                                                                                                                            A religious minority                                                                            31\n",
       "                                                                                                                            An ethnic minority (including of migrant background)                                            31\n",
       "                                                                                                                            Dont know                                                                                       31\n",
       "                                                                                                                            None of the above                                                                               31\n",
       "                                                                                                                            Other minority group                                                                            31\n",
       "Including yourseld, how many people live in your household?                                                                 1 person                                                                                        31\n",
       "                                                                                                                            Five or more people                                                                             31\n",
       "                                                                                                                            Four people                                                                                     31\n",
       "                                                                                                                            Three people                                                                                    31\n",
       "                                                                                                                            Two people                                                                                      31\n",
       "Thinking about the child / children that you raise together with your partner, what is the legal situation of your family?  I am a legal guardian of one or more children, but my partner is not                            31\n",
       "                                                                                                                            My partner is the legal guardian of one or more children, but I am not                          31\n",
       "                                                                                                                            We are both legal guardian of one or more children                                              31\n",
       "Thinking of your household`s total income, is your household able to make ends meet?                                        Easily                                                                                          31\n",
       "                                                                                                                            Fairly easily                                                                                   31\n",
       "                                                                                                                            Prefer not to say or dont know                                                                  31\n",
       "                                                                                                                            Very easily                                                                                     31\n",
       "                                                                                                                            With difficulty                                                                                 31\n",
       "                                                                                                                            With great difficulty                                                                           31\n",
       "                                                                                                                            With some difficulty                                                                            31\n",
       "What is your civil status?                                                                                                  Divorced                                                                                        31\n",
       "                                                                                                                            Married/ registered partnership with different sex partner                                      31\n",
       "                                                                                                                            Married/ registered partnership with same-sex partner                                           31\n",
       "                                                                                                                            Separated                                                                                       31\n",
       "                                                                                                                            Single                                                                                          31\n",
       "                                                                                                                            Widowed                                                                                         31\n",
       "What is your current family or partnership situation?                                                                       Involved in a relationship without living together                                              31\n",
       "                                                                                                                            Living together with a partner/spouse                                                           31\n",
       "                                                                                                                            No relationship/partner                                                                         31\n",
       "What is your religion, if any?                                                                                              Any other religion                                                                              31\n",
       "                                                                                                                            Buddhist                                                                                        31\n",
       "                                                                                                                            Christian - Catholic                                                                            31\n",
       "                                                                                                                            Christian - Orthodox                                                                            31\n",
       "                                                                                                                            Christian - Other                                                                               31\n",
       "                                                                                                                            Christian - Protestant                                                                          31\n",
       "                                                                                                                            Hindu                                                                                           31\n",
       "                                                                                                                            Islam                                                                                           31\n",
       "                                                                                                                            Jewish                                                                                          31\n",
       "                                                                                                                            No religion                                                                                     31\n",
       "                                                                                                                            Prefer not to say                                                                               31\n",
       "                                                                                                                            Sikh                                                                                            29\n",
       "Working status                                                                                                              In paid work (including on paternity or other temporary leave                                   31\n",
       "                                                                                                                            Other, e.g. unpaid voluntary work, domestic tasks or compulsory military or civilian service    31\n",
       "                                                                                                                            Retired                                                                                         31\n",
       "                                                                                                                            Self-employed                                                                                   31\n",
       "                                                                                                                            Student or pupil                                                                                31\n",
       "                                                                                                                            Unable to work due to long-standing health problems                                             31\n",
       "                                                                                                                            Unemployed                                                                                      31\n",
       "Name: answer, dtype: int64"
      ]
     },
     "metadata": {},
     "execution_count": 7
    }
   ],
   "source": [
    "socio_data.groupby(\"question_label\")[\"answer\"].value_counts()"
   ]
  },
  {
   "cell_type": "code",
   "execution_count": null,
   "metadata": {},
   "outputs": [],
   "source": []
  }
 ]
}