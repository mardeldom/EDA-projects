{
 "metadata": {
  "language_info": {
   "codemirror_mode": {
    "name": "ipython",
    "version": 3
   },
   "file_extension": ".py",
   "mimetype": "text/x-python",
   "name": "python",
   "nbconvert_exporter": "python",
   "pygments_lexer": "ipython3",
   "version": "3.9.0-final"
  },
  "orig_nbformat": 2,
  "kernelspec": {
   "name": "python3",
   "display_name": "Python 3.9.0 64-bit",
   "metadata": {
    "interpreter": {
     "hash": "2e3c1e8da6e821b0193601da5a0e541c0efda9704da45b6b820f5f4c317f2def"
    }
   }
  }
 },
 "nbformat": 4,
 "nbformat_minor": 2,
 "cells": [
  {
   "cell_type": "code",
   "execution_count": 1,
   "metadata": {},
   "outputs": [
    {
     "output_type": "execute_result",
     "data": {
      "text/plain": [
       "          CountryCode target_group subset   question_code  \\\n",
       "0             Austria          All    All          DEXa13   \n",
       "1             Austria          All    All          DEXa13   \n",
       "2             Austria          All    All          DEXa13   \n",
       "3             Austria          All    All          DEXa13   \n",
       "4             Austria          All    All          DEXa13   \n",
       "...               ...          ...    ...             ...   \n",
       "5695            EU-28          All    All  DEXschool_leav   \n",
       "5696  North Macedonia          All    All  DEXschool_leav   \n",
       "5697  North Macedonia          All    All  DEXschool_leav   \n",
       "5698           Serbia          All    All  DEXschool_leav   \n",
       "5699           Serbia          All    All  DEXschool_leav   \n",
       "\n",
       "                                         question_label         answer  \\\n",
       "0     How old were you when you realised for the fir...  5y.o. or less   \n",
       "1     How old were you when you realised for the fir...        6-9y.o.   \n",
       "2     How old were you when you realised for the fir...      10-14y.o.   \n",
       "3     How old were you when you realised for the fir...      15-17y.o.   \n",
       "4     How old were you when you realised for the fir...      18-24y.o.   \n",
       "...                                                 ...            ...   \n",
       "5695  Did you ever consider leaving or changing scho...             No   \n",
       "5696  Did you ever consider leaving or changing scho...            Yes   \n",
       "5697  Did you ever consider leaving or changing scho...             No   \n",
       "5698  Did you ever consider leaving or changing scho...            Yes   \n",
       "5699  Did you ever consider leaving or changing scho...             No   \n",
       "\n",
       "     percentage notes  \n",
       "0             2   NaN  \n",
       "1             7   NaN  \n",
       "2            40   NaN  \n",
       "3            27   NaN  \n",
       "4            15   NaN  \n",
       "...         ...   ...  \n",
       "5695         89   NaN  \n",
       "5696         18   NaN  \n",
       "5697         82   NaN  \n",
       "5698         16   NaN  \n",
       "5699         84   NaN  \n",
       "\n",
       "[5700 rows x 8 columns]"
      ],
      "text/html": "<div>\n<style scoped>\n    .dataframe tbody tr th:only-of-type {\n        vertical-align: middle;\n    }\n\n    .dataframe tbody tr th {\n        vertical-align: top;\n    }\n\n    .dataframe thead th {\n        text-align: right;\n    }\n</style>\n<table border=\"1\" class=\"dataframe\">\n  <thead>\n    <tr style=\"text-align: right;\">\n      <th></th>\n      <th>CountryCode</th>\n      <th>target_group</th>\n      <th>subset</th>\n      <th>question_code</th>\n      <th>question_label</th>\n      <th>answer</th>\n      <th>percentage</th>\n      <th>notes</th>\n    </tr>\n  </thead>\n  <tbody>\n    <tr>\n      <th>0</th>\n      <td>Austria</td>\n      <td>All</td>\n      <td>All</td>\n      <td>DEXa13</td>\n      <td>How old were you when you realised for the fir...</td>\n      <td>5y.o. or less</td>\n      <td>2</td>\n      <td>NaN</td>\n    </tr>\n    <tr>\n      <th>1</th>\n      <td>Austria</td>\n      <td>All</td>\n      <td>All</td>\n      <td>DEXa13</td>\n      <td>How old were you when you realised for the fir...</td>\n      <td>6-9y.o.</td>\n      <td>7</td>\n      <td>NaN</td>\n    </tr>\n    <tr>\n      <th>2</th>\n      <td>Austria</td>\n      <td>All</td>\n      <td>All</td>\n      <td>DEXa13</td>\n      <td>How old were you when you realised for the fir...</td>\n      <td>10-14y.o.</td>\n      <td>40</td>\n      <td>NaN</td>\n    </tr>\n    <tr>\n      <th>3</th>\n      <td>Austria</td>\n      <td>All</td>\n      <td>All</td>\n      <td>DEXa13</td>\n      <td>How old were you when you realised for the fir...</td>\n      <td>15-17y.o.</td>\n      <td>27</td>\n      <td>NaN</td>\n    </tr>\n    <tr>\n      <th>4</th>\n      <td>Austria</td>\n      <td>All</td>\n      <td>All</td>\n      <td>DEXa13</td>\n      <td>How old were you when you realised for the fir...</td>\n      <td>18-24y.o.</td>\n      <td>15</td>\n      <td>NaN</td>\n    </tr>\n    <tr>\n      <th>...</th>\n      <td>...</td>\n      <td>...</td>\n      <td>...</td>\n      <td>...</td>\n      <td>...</td>\n      <td>...</td>\n      <td>...</td>\n      <td>...</td>\n    </tr>\n    <tr>\n      <th>5695</th>\n      <td>EU-28</td>\n      <td>All</td>\n      <td>All</td>\n      <td>DEXschool_leav</td>\n      <td>Did you ever consider leaving or changing scho...</td>\n      <td>No</td>\n      <td>89</td>\n      <td>NaN</td>\n    </tr>\n    <tr>\n      <th>5696</th>\n      <td>North Macedonia</td>\n      <td>All</td>\n      <td>All</td>\n      <td>DEXschool_leav</td>\n      <td>Did you ever consider leaving or changing scho...</td>\n      <td>Yes</td>\n      <td>18</td>\n      <td>NaN</td>\n    </tr>\n    <tr>\n      <th>5697</th>\n      <td>North Macedonia</td>\n      <td>All</td>\n      <td>All</td>\n      <td>DEXschool_leav</td>\n      <td>Did you ever consider leaving or changing scho...</td>\n      <td>No</td>\n      <td>82</td>\n      <td>NaN</td>\n    </tr>\n    <tr>\n      <th>5698</th>\n      <td>Serbia</td>\n      <td>All</td>\n      <td>All</td>\n      <td>DEXschool_leav</td>\n      <td>Did you ever consider leaving or changing scho...</td>\n      <td>Yes</td>\n      <td>16</td>\n      <td>NaN</td>\n    </tr>\n    <tr>\n      <th>5699</th>\n      <td>Serbia</td>\n      <td>All</td>\n      <td>All</td>\n      <td>DEXschool_leav</td>\n      <td>Did you ever consider leaving or changing scho...</td>\n      <td>No</td>\n      <td>84</td>\n      <td>NaN</td>\n    </tr>\n  </tbody>\n</table>\n<p>5700 rows × 8 columns</p>\n</div>"
     },
     "metadata": {},
     "execution_count": 1
    }
   ],
   "source": [
    "import pandas as pd\n",
    "from UTILS.folders_tb import living_data\n",
    "living_data"
   ]
  },
  {
   "cell_type": "code",
   "execution_count": 2,
   "metadata": {},
   "outputs": [
    {
     "output_type": "error",
     "ename": "TypeError",
     "evalue": "'NoneType' object is not subscriptable",
     "traceback": [
      "\u001b[1;31m---------------------------------------------------------------------------\u001b[0m",
      "\u001b[1;31mTypeError\u001b[0m                                 Traceback (most recent call last)",
      "\u001b[1;32m<ipython-input-2-1f9b182e92e6>\u001b[0m in \u001b[0;36m<module>\u001b[1;34m\u001b[0m\n\u001b[1;32m----> 1\u001b[1;33m \u001b[1;32mfrom\u001b[0m \u001b[0mUTILS\u001b[0m\u001b[1;33m.\u001b[0m\u001b[0mmining_data_tb\u001b[0m \u001b[1;32mimport\u001b[0m \u001b[0mquestion\u001b[0m\u001b[1;33m\u001b[0m\u001b[1;33m\u001b[0m\u001b[0m\n\u001b[0m\u001b[0;32m      2\u001b[0m \u001b[0mquestion\u001b[0m\u001b[1;33m(\u001b[0m\u001b[0mdt\u001b[0m\u001b[1;33m=\u001b[0m\u001b[0mliving_data\u001b[0m\u001b[1;33m)\u001b[0m\u001b[1;33m\u001b[0m\u001b[1;33m\u001b[0m\u001b[0m\n",
      "\u001b[1;32mc:\\Users\\Usuario\\Desktop\\MY_GIT_HUB\\data_science_student_nov_2020\\data_science_student_nov_2020\\PROYECTO\\SRC\\UTILS\\mining_data_tb.py\u001b[0m in \u001b[0;36m<module>\u001b[1;34m\u001b[0m\n\u001b[0;32m     29\u001b[0m     \u001b[0mdt\u001b[0m\u001b[1;33m[\u001b[0m\u001b[1;34m'percentage'\u001b[0m\u001b[1;33m]\u001b[0m \u001b[1;33m=\u001b[0m \u001b[0mdt\u001b[0m\u001b[1;33m[\u001b[0m\u001b[1;34m'percentage'\u001b[0m\u001b[1;33m]\u001b[0m\u001b[1;33m.\u001b[0m\u001b[0mastype\u001b[0m\u001b[1;33m(\u001b[0m\u001b[0mint\u001b[0m\u001b[1;33m)\u001b[0m\u001b[1;33m\u001b[0m\u001b[1;33m\u001b[0m\u001b[0m\n\u001b[0;32m     30\u001b[0m     \u001b[1;32mreturn\u001b[0m \u001b[0mdt\u001b[0m\u001b[1;33m.\u001b[0m\u001b[0minfo\u001b[0m\u001b[1;33m(\u001b[0m\u001b[1;33m)\u001b[0m\u001b[1;33m\u001b[0m\u001b[1;33m\u001b[0m\u001b[0m\n\u001b[1;32m---> 31\u001b[1;33m \u001b[0mint_percentage\u001b[0m\u001b[1;33m(\u001b[0m\u001b[0mdt\u001b[0m\u001b[1;33m=\u001b[0m\u001b[1;32mNone\u001b[0m\u001b[1;33m)\u001b[0m\u001b[1;33m\u001b[0m\u001b[1;33m\u001b[0m\u001b[0m\n\u001b[0m\u001b[0;32m     32\u001b[0m \u001b[1;33m\u001b[0m\u001b[0m\n\u001b[0;32m     33\u001b[0m \u001b[1;31m#living_work = int_percentage(dt= living_work)\u001b[0m\u001b[1;33m\u001b[0m\u001b[1;33m\u001b[0m\u001b[1;33m\u001b[0m\u001b[0m\n",
      "\u001b[1;32mc:\\Users\\Usuario\\Desktop\\MY_GIT_HUB\\data_science_student_nov_2020\\data_science_student_nov_2020\\PROYECTO\\SRC\\UTILS\\mining_data_tb.py\u001b[0m in \u001b[0;36mint_percentage\u001b[1;34m(dt)\u001b[0m\n\u001b[0;32m     27\u001b[0m \u001b[1;34m\"\"\"Cambiar a int la columna percentage\"\"\"\u001b[0m\u001b[1;33m\u001b[0m\u001b[1;33m\u001b[0m\u001b[0m\n\u001b[0;32m     28\u001b[0m \u001b[1;32mdef\u001b[0m \u001b[0mint_percentage\u001b[0m\u001b[1;33m(\u001b[0m\u001b[0mdt\u001b[0m\u001b[1;33m=\u001b[0m\u001b[1;32mNone\u001b[0m\u001b[1;33m)\u001b[0m\u001b[1;33m:\u001b[0m\u001b[1;33m\u001b[0m\u001b[1;33m\u001b[0m\u001b[0m\n\u001b[1;32m---> 29\u001b[1;33m     \u001b[0mdt\u001b[0m\u001b[1;33m[\u001b[0m\u001b[1;34m'percentage'\u001b[0m\u001b[1;33m]\u001b[0m \u001b[1;33m=\u001b[0m \u001b[0mdt\u001b[0m\u001b[1;33m[\u001b[0m\u001b[1;34m'percentage'\u001b[0m\u001b[1;33m]\u001b[0m\u001b[1;33m.\u001b[0m\u001b[0mastype\u001b[0m\u001b[1;33m(\u001b[0m\u001b[0mint\u001b[0m\u001b[1;33m)\u001b[0m\u001b[1;33m\u001b[0m\u001b[1;33m\u001b[0m\u001b[0m\n\u001b[0m\u001b[0;32m     30\u001b[0m     \u001b[1;32mreturn\u001b[0m \u001b[0mdt\u001b[0m\u001b[1;33m.\u001b[0m\u001b[0minfo\u001b[0m\u001b[1;33m(\u001b[0m\u001b[1;33m)\u001b[0m\u001b[1;33m\u001b[0m\u001b[1;33m\u001b[0m\u001b[0m\n\u001b[0;32m     31\u001b[0m \u001b[0mint_percentage\u001b[0m\u001b[1;33m(\u001b[0m\u001b[0mdt\u001b[0m\u001b[1;33m=\u001b[0m\u001b[1;32mNone\u001b[0m\u001b[1;33m)\u001b[0m\u001b[1;33m\u001b[0m\u001b[1;33m\u001b[0m\u001b[0m\n",
      "\u001b[1;31mTypeError\u001b[0m: 'NoneType' object is not subscriptable"
     ]
    }
   ],
   "source": [
    "from UTILS.mining_data_tb import question\n",
    "question(dt=living_data)"
   ]
  },
  {
   "cell_type": "code",
   "execution_count": 7,
   "metadata": {},
   "outputs": [
    {
     "output_type": "execute_result",
     "data": {
      "text/plain": [
       "          CountryCode target_group subset   question_code  \\\n",
       "0             Austria          All    All          DEXa13   \n",
       "1             Austria          All    All          DEXa13   \n",
       "2             Austria          All    All          DEXa13   \n",
       "3             Austria          All    All          DEXa13   \n",
       "4             Austria          All    All          DEXa13   \n",
       "...               ...          ...    ...             ...   \n",
       "5695            EU-28          All    All  DEXschool_leav   \n",
       "5696  North Macedonia          All    All  DEXschool_leav   \n",
       "5697  North Macedonia          All    All  DEXschool_leav   \n",
       "5698           Serbia          All    All  DEXschool_leav   \n",
       "5699           Serbia          All    All  DEXschool_leav   \n",
       "\n",
       "                                         question_label         answer  \\\n",
       "0     How old were you when you realised for the fir...  5y.o. or less   \n",
       "1     How old were you when you realised for the fir...        6-9y.o.   \n",
       "2     How old were you when you realised for the fir...      10-14y.o.   \n",
       "3     How old were you when you realised for the fir...      15-17y.o.   \n",
       "4     How old were you when you realised for the fir...      18-24y.o.   \n",
       "...                                                 ...            ...   \n",
       "5695  Did you ever consider leaving or changing scho...             No   \n",
       "5696  Did you ever consider leaving or changing scho...            Yes   \n",
       "5697  Did you ever consider leaving or changing scho...             No   \n",
       "5698  Did you ever consider leaving or changing scho...            Yes   \n",
       "5699  Did you ever consider leaving or changing scho...             No   \n",
       "\n",
       "     percentage notes  \n",
       "0             2   NaN  \n",
       "1             7   NaN  \n",
       "2            40   NaN  \n",
       "3            27   NaN  \n",
       "4            15   NaN  \n",
       "...         ...   ...  \n",
       "5695         89   NaN  \n",
       "5696         18   NaN  \n",
       "5697         82   NaN  \n",
       "5698         16   NaN  \n",
       "5699         84   NaN  \n",
       "\n",
       "[5700 rows x 8 columns]"
      ],
      "text/html": "<div>\n<style scoped>\n    .dataframe tbody tr th:only-of-type {\n        vertical-align: middle;\n    }\n\n    .dataframe tbody tr th {\n        vertical-align: top;\n    }\n\n    .dataframe thead th {\n        text-align: right;\n    }\n</style>\n<table border=\"1\" class=\"dataframe\">\n  <thead>\n    <tr style=\"text-align: right;\">\n      <th></th>\n      <th>CountryCode</th>\n      <th>target_group</th>\n      <th>subset</th>\n      <th>question_code</th>\n      <th>question_label</th>\n      <th>answer</th>\n      <th>percentage</th>\n      <th>notes</th>\n    </tr>\n  </thead>\n  <tbody>\n    <tr>\n      <th>0</th>\n      <td>Austria</td>\n      <td>All</td>\n      <td>All</td>\n      <td>DEXa13</td>\n      <td>How old were you when you realised for the fir...</td>\n      <td>5y.o. or less</td>\n      <td>2</td>\n      <td>NaN</td>\n    </tr>\n    <tr>\n      <th>1</th>\n      <td>Austria</td>\n      <td>All</td>\n      <td>All</td>\n      <td>DEXa13</td>\n      <td>How old were you when you realised for the fir...</td>\n      <td>6-9y.o.</td>\n      <td>7</td>\n      <td>NaN</td>\n    </tr>\n    <tr>\n      <th>2</th>\n      <td>Austria</td>\n      <td>All</td>\n      <td>All</td>\n      <td>DEXa13</td>\n      <td>How old were you when you realised for the fir...</td>\n      <td>10-14y.o.</td>\n      <td>40</td>\n      <td>NaN</td>\n    </tr>\n    <tr>\n      <th>3</th>\n      <td>Austria</td>\n      <td>All</td>\n      <td>All</td>\n      <td>DEXa13</td>\n      <td>How old were you when you realised for the fir...</td>\n      <td>15-17y.o.</td>\n      <td>27</td>\n      <td>NaN</td>\n    </tr>\n    <tr>\n      <th>4</th>\n      <td>Austria</td>\n      <td>All</td>\n      <td>All</td>\n      <td>DEXa13</td>\n      <td>How old were you when you realised for the fir...</td>\n      <td>18-24y.o.</td>\n      <td>15</td>\n      <td>NaN</td>\n    </tr>\n    <tr>\n      <th>...</th>\n      <td>...</td>\n      <td>...</td>\n      <td>...</td>\n      <td>...</td>\n      <td>...</td>\n      <td>...</td>\n      <td>...</td>\n      <td>...</td>\n    </tr>\n    <tr>\n      <th>5695</th>\n      <td>EU-28</td>\n      <td>All</td>\n      <td>All</td>\n      <td>DEXschool_leav</td>\n      <td>Did you ever consider leaving or changing scho...</td>\n      <td>No</td>\n      <td>89</td>\n      <td>NaN</td>\n    </tr>\n    <tr>\n      <th>5696</th>\n      <td>North Macedonia</td>\n      <td>All</td>\n      <td>All</td>\n      <td>DEXschool_leav</td>\n      <td>Did you ever consider leaving or changing scho...</td>\n      <td>Yes</td>\n      <td>18</td>\n      <td>NaN</td>\n    </tr>\n    <tr>\n      <th>5697</th>\n      <td>North Macedonia</td>\n      <td>All</td>\n      <td>All</td>\n      <td>DEXschool_leav</td>\n      <td>Did you ever consider leaving or changing scho...</td>\n      <td>No</td>\n      <td>82</td>\n      <td>NaN</td>\n    </tr>\n    <tr>\n      <th>5698</th>\n      <td>Serbia</td>\n      <td>All</td>\n      <td>All</td>\n      <td>DEXschool_leav</td>\n      <td>Did you ever consider leaving or changing scho...</td>\n      <td>Yes</td>\n      <td>16</td>\n      <td>NaN</td>\n    </tr>\n    <tr>\n      <th>5699</th>\n      <td>Serbia</td>\n      <td>All</td>\n      <td>All</td>\n      <td>DEXschool_leav</td>\n      <td>Did you ever consider leaving or changing scho...</td>\n      <td>No</td>\n      <td>84</td>\n      <td>NaN</td>\n    </tr>\n  </tbody>\n</table>\n<p>5700 rows × 8 columns</p>\n</div>"
     },
     "metadata": {},
     "execution_count": 7
    }
   ],
   "source": [
    "living_data"
   ]
  },
  {
   "cell_type": "code",
   "execution_count": 10,
   "metadata": {},
   "outputs": [
    {
     "output_type": "execute_result",
     "data": {
      "text/plain": [
       "     CountryCode target_group subset question_code  \\\n",
       "1050     Austria          All    All       DEXg1_A   \n",
       "1051     Austria          All    All       DEXg1_A   \n",
       "1052     Austria          All    All       DEXg1_A   \n",
       "1053     Austria          All    All       DEXg1_A   \n",
       "1054     Belgium          All    All       DEXg1_A   \n",
       "...          ...          ...    ...           ...   \n",
       "5076      Serbia          All    All    DEXindv9_2   \n",
       "5077      Serbia          All    All    DEXindv9_2   \n",
       "5078      Serbia          All    All    DEXindv9_2   \n",
       "5079      Serbia          All    All    DEXindv9_2   \n",
       "5080      Serbia          All    All    DEXindv9_2   \n",
       "\n",
       "                                         question_label  \\\n",
       "1050  To how many family members (other than your pa...   \n",
       "1051  To how many family members (other than your pa...   \n",
       "1052  To how many family members (other than your pa...   \n",
       "1053  To how many family members (other than your pa...   \n",
       "1054  To how many family members (other than your pa...   \n",
       "...                                                 ...   \n",
       "5076  Where do you avoid being open about yourself a...   \n",
       "5077  Where do you avoid being open about yourself a...   \n",
       "5078  Where do you avoid being open about yourself a...   \n",
       "5079  Where do you avoid being open about yourself a...   \n",
       "5080  Where do you avoid being open about yourself a...   \n",
       "\n",
       "                                                 answer percentage notes  \n",
       "1050                                               None         21   NaN  \n",
       "1051                                              A few         27   NaN  \n",
       "1052                                               Most         18   NaN  \n",
       "1053                                                All         34   NaN  \n",
       "1054                                               None         18   NaN  \n",
       "...                                                 ...        ...   ...  \n",
       "5076  In the street, a square, park, car park or oth...         59   NaN  \n",
       "5077  In a healthcare setting (hospital or other med...         41   NaN  \n",
       "5078                       Public premises or buildings         59   NaN  \n",
       "5079                                             Other          15   NaN  \n",
       "5080                                         Dont Know           6   NaN  \n",
       "\n",
       "[1333 rows x 8 columns]"
      ],
      "text/html": "<div>\n<style scoped>\n    .dataframe tbody tr th:only-of-type {\n        vertical-align: middle;\n    }\n\n    .dataframe tbody tr th {\n        vertical-align: top;\n    }\n\n    .dataframe thead th {\n        text-align: right;\n    }\n</style>\n<table border=\"1\" class=\"dataframe\">\n  <thead>\n    <tr style=\"text-align: right;\">\n      <th></th>\n      <th>CountryCode</th>\n      <th>target_group</th>\n      <th>subset</th>\n      <th>question_code</th>\n      <th>question_label</th>\n      <th>answer</th>\n      <th>percentage</th>\n      <th>notes</th>\n    </tr>\n  </thead>\n  <tbody>\n    <tr>\n      <th>1050</th>\n      <td>Austria</td>\n      <td>All</td>\n      <td>All</td>\n      <td>DEXg1_A</td>\n      <td>To how many family members (other than your pa...</td>\n      <td>None</td>\n      <td>21</td>\n      <td>NaN</td>\n    </tr>\n    <tr>\n      <th>1051</th>\n      <td>Austria</td>\n      <td>All</td>\n      <td>All</td>\n      <td>DEXg1_A</td>\n      <td>To how many family members (other than your pa...</td>\n      <td>A few</td>\n      <td>27</td>\n      <td>NaN</td>\n    </tr>\n    <tr>\n      <th>1052</th>\n      <td>Austria</td>\n      <td>All</td>\n      <td>All</td>\n      <td>DEXg1_A</td>\n      <td>To how many family members (other than your pa...</td>\n      <td>Most</td>\n      <td>18</td>\n      <td>NaN</td>\n    </tr>\n    <tr>\n      <th>1053</th>\n      <td>Austria</td>\n      <td>All</td>\n      <td>All</td>\n      <td>DEXg1_A</td>\n      <td>To how many family members (other than your pa...</td>\n      <td>All</td>\n      <td>34</td>\n      <td>NaN</td>\n    </tr>\n    <tr>\n      <th>1054</th>\n      <td>Belgium</td>\n      <td>All</td>\n      <td>All</td>\n      <td>DEXg1_A</td>\n      <td>To how many family members (other than your pa...</td>\n      <td>None</td>\n      <td>18</td>\n      <td>NaN</td>\n    </tr>\n    <tr>\n      <th>...</th>\n      <td>...</td>\n      <td>...</td>\n      <td>...</td>\n      <td>...</td>\n      <td>...</td>\n      <td>...</td>\n      <td>...</td>\n      <td>...</td>\n    </tr>\n    <tr>\n      <th>5076</th>\n      <td>Serbia</td>\n      <td>All</td>\n      <td>All</td>\n      <td>DEXindv9_2</td>\n      <td>Where do you avoid being open about yourself a...</td>\n      <td>In the street, a square, park, car park or oth...</td>\n      <td>59</td>\n      <td>NaN</td>\n    </tr>\n    <tr>\n      <th>5077</th>\n      <td>Serbia</td>\n      <td>All</td>\n      <td>All</td>\n      <td>DEXindv9_2</td>\n      <td>Where do you avoid being open about yourself a...</td>\n      <td>In a healthcare setting (hospital or other med...</td>\n      <td>41</td>\n      <td>NaN</td>\n    </tr>\n    <tr>\n      <th>5078</th>\n      <td>Serbia</td>\n      <td>All</td>\n      <td>All</td>\n      <td>DEXindv9_2</td>\n      <td>Where do you avoid being open about yourself a...</td>\n      <td>Public premises or buildings</td>\n      <td>59</td>\n      <td>NaN</td>\n    </tr>\n    <tr>\n      <th>5079</th>\n      <td>Serbia</td>\n      <td>All</td>\n      <td>All</td>\n      <td>DEXindv9_2</td>\n      <td>Where do you avoid being open about yourself a...</td>\n      <td>Other</td>\n      <td>15</td>\n      <td>NaN</td>\n    </tr>\n    <tr>\n      <th>5080</th>\n      <td>Serbia</td>\n      <td>All</td>\n      <td>All</td>\n      <td>DEXindv9_2</td>\n      <td>Where do you avoid being open about yourself a...</td>\n      <td>Dont Know</td>\n      <td>6</td>\n      <td>NaN</td>\n    </tr>\n  </tbody>\n</table>\n<p>1333 rows × 8 columns</p>\n</div>"
     },
     "metadata": {},
     "execution_count": 10
    }
   ],
   "source": [
    "# Open es para comprobar en que ambito se abren más sobre ser LGTBI, amigos, familiares, vecinos, compañeros de trabajo \n",
    "#Por el momento no la he utilizado para extraer nada\n",
    "open= living_data.loc[(living_data[\"question_label\"].str.contains(\"open\"))]\n",
    "open"
   ]
  },
  {
   "cell_type": "code",
   "execution_count": 11,
   "metadata": {},
   "outputs": [
    {
     "output_type": "execute_result",
     "data": {
      "text/plain": [
       "Where do you avoid being open about yourself as LGBTI for fear of being assaulted, threatened or harassed by others?    341\n",
       "To how many friends are you open about being LGBTI                                                                      124\n",
       "To how many immediate superiors/heads of department are you open about being LGBTI                                      124\n",
       "To how many medical staff/health care providers are you open about being LGBTI                                          124\n",
       "To how many neighbours are you open about being LGBTI                                                                   124\n",
       "To how many work colleagues are you open about being LGBTI                                                              124\n",
       "To how many customers, clients, etc. at work are you open about being LGBTI                                             124\n",
       "To how many schoolmates / university co-students are you open about being LGBTI                                         124\n",
       "To how many family members (other than your partner(s)) are you open about being LGBTI                                  124\n",
       "Name: question_label, dtype: int64"
      ]
     },
     "metadata": {},
     "execution_count": 11
    }
   ],
   "source": [
    "open.question_label.value_counts()"
   ]
  },
  {
   "cell_type": "code",
   "execution_count": 21,
   "metadata": {},
   "outputs": [],
   "source": [
    "from UTILS.mining_data_tb import int_percentage, total, total_paises"
   ]
  },
  {
   "cell_type": "code",
   "execution_count": 15,
   "metadata": {},
   "outputs": [
    {
     "output_type": "stream",
     "name": "stdout",
     "text": [
      "<class 'pandas.core.frame.DataFrame'>\nInt64Index: 1333 entries, 1050 to 5080\nData columns (total 8 columns):\n #   Column          Non-Null Count  Dtype \n---  ------          --------------  ----- \n 0   CountryCode     1333 non-null   object\n 1   target_group    1333 non-null   object\n 2   subset          1333 non-null   object\n 3   question_code   1333 non-null   object\n 4   question_label  1333 non-null   object\n 5   answer          1333 non-null   object\n 6   percentage      1333 non-null   int32 \n 7   notes           0 non-null      object\ndtypes: int32(1), object(7)\nmemory usage: 88.5+ KB\n"
     ]
    }
   ],
   "source": [
    "int_percentage(dt=open)"
   ]
  },
  {
   "cell_type": "code",
   "execution_count": 23,
   "metadata": {},
   "outputs": [
    {
     "output_type": "execute_result",
     "data": {
      "text/plain": [
       "                                                                                                       percentage\n",
       "question_label                                     answer                                                        \n",
       "To how many customers, clients, etc. at work ar... A few                                                13.935484\n",
       "                                                   All                                                   6.612903\n",
       "                                                   Most                                                  6.290323\n",
       "                                                   None                                                 73.096774\n",
       "To how many family members (other than your par... A few                                                29.290323\n",
       "                                                   All                                                  23.258065\n",
       "                                                   Most                                                 15.838710\n",
       "                                                   None                                                 31.516129\n",
       "To how many friends are you open about being LGBTI A few                                                28.612903\n",
       "                                                   All                                                  38.645161\n",
       "                                                   Most                                                 25.741935\n",
       "                                                   None                                                  7.129032\n",
       "To how many immediate superiors/heads of depart... A few                                                 9.903226\n",
       "                                                   All                                                  19.741935\n",
       "                                                   Most                                                  6.838710\n",
       "                                                   None                                                 63.612903\n",
       "To how many medical staff/health care providers... A few                                                22.000000\n",
       "                                                   All                                                  15.129032\n",
       "                                                   Most                                                  9.741935\n",
       "                                                   None                                                 53.419355\n",
       "To how many neighbours are you open about being... A few                                                12.870968\n",
       "                                                   All                                                  11.419355\n",
       "                                                   Most                                                  7.419355\n",
       "                                                   None                                                 68.290323\n",
       "To how many schoolmates / university co-student... A few                                                36.387097\n",
       "                                                   All                                                  16.483871\n",
       "                                                   Most                                                 16.129032\n",
       "                                                   None                                                 30.774194\n",
       "To how many work colleagues are you open about ... A few                                                26.290323\n",
       "                                                   All                                                  17.580645\n",
       "                                                   Most                                                 13.483871\n",
       "                                                   None                                                 42.677419\n",
       "Where do you avoid being open about yourself as... A cafe, restaurant, pub, club                        42.548387\n",
       "                                                   Around my family                                     34.129032\n",
       "                                                   Dont Know                                             9.322581\n",
       "                                                   In a healthcare setting (hospital or other medi...   29.903226\n",
       "                                                   In the street, a square, park, car park or othe...   58.322581\n",
       "                                                   My home                                              17.290323\n",
       "                                                   Other                                                13.612903\n",
       "                                                   Public premises or buildings                         45.645161\n",
       "                                                   Public transport                                     54.483871\n",
       "                                                   School                                               25.935484\n",
       "                                                   Workplace                                            36.419355"
      ],
      "text/html": "<div>\n<style scoped>\n    .dataframe tbody tr th:only-of-type {\n        vertical-align: middle;\n    }\n\n    .dataframe tbody tr th {\n        vertical-align: top;\n    }\n\n    .dataframe thead th {\n        text-align: right;\n    }\n</style>\n<table border=\"1\" class=\"dataframe\">\n  <thead>\n    <tr style=\"text-align: right;\">\n      <th></th>\n      <th></th>\n      <th>percentage</th>\n    </tr>\n    <tr>\n      <th>question_label</th>\n      <th>answer</th>\n      <th></th>\n    </tr>\n  </thead>\n  <tbody>\n    <tr>\n      <th rowspan=\"4\" valign=\"top\">To how many customers, clients, etc. at work are you open about being LGBTI</th>\n      <th>A few</th>\n      <td>13.935484</td>\n    </tr>\n    <tr>\n      <th>All</th>\n      <td>6.612903</td>\n    </tr>\n    <tr>\n      <th>Most</th>\n      <td>6.290323</td>\n    </tr>\n    <tr>\n      <th>None</th>\n      <td>73.096774</td>\n    </tr>\n    <tr>\n      <th rowspan=\"4\" valign=\"top\">To how many family members (other than your partner(s)) are you open about being LGBTI</th>\n      <th>A few</th>\n      <td>29.290323</td>\n    </tr>\n    <tr>\n      <th>All</th>\n      <td>23.258065</td>\n    </tr>\n    <tr>\n      <th>Most</th>\n      <td>15.838710</td>\n    </tr>\n    <tr>\n      <th>None</th>\n      <td>31.516129</td>\n    </tr>\n    <tr>\n      <th rowspan=\"4\" valign=\"top\">To how many friends are you open about being LGBTI</th>\n      <th>A few</th>\n      <td>28.612903</td>\n    </tr>\n    <tr>\n      <th>All</th>\n      <td>38.645161</td>\n    </tr>\n    <tr>\n      <th>Most</th>\n      <td>25.741935</td>\n    </tr>\n    <tr>\n      <th>None</th>\n      <td>7.129032</td>\n    </tr>\n    <tr>\n      <th rowspan=\"4\" valign=\"top\">To how many immediate superiors/heads of department are you open about being LGBTI</th>\n      <th>A few</th>\n      <td>9.903226</td>\n    </tr>\n    <tr>\n      <th>All</th>\n      <td>19.741935</td>\n    </tr>\n    <tr>\n      <th>Most</th>\n      <td>6.838710</td>\n    </tr>\n    <tr>\n      <th>None</th>\n      <td>63.612903</td>\n    </tr>\n    <tr>\n      <th rowspan=\"4\" valign=\"top\">To how many medical staff/health care providers are you open about being LGBTI</th>\n      <th>A few</th>\n      <td>22.000000</td>\n    </tr>\n    <tr>\n      <th>All</th>\n      <td>15.129032</td>\n    </tr>\n    <tr>\n      <th>Most</th>\n      <td>9.741935</td>\n    </tr>\n    <tr>\n      <th>None</th>\n      <td>53.419355</td>\n    </tr>\n    <tr>\n      <th rowspan=\"4\" valign=\"top\">To how many neighbours are you open about being LGBTI</th>\n      <th>A few</th>\n      <td>12.870968</td>\n    </tr>\n    <tr>\n      <th>All</th>\n      <td>11.419355</td>\n    </tr>\n    <tr>\n      <th>Most</th>\n      <td>7.419355</td>\n    </tr>\n    <tr>\n      <th>None</th>\n      <td>68.290323</td>\n    </tr>\n    <tr>\n      <th rowspan=\"4\" valign=\"top\">To how many schoolmates / university co-students are you open about being LGBTI</th>\n      <th>A few</th>\n      <td>36.387097</td>\n    </tr>\n    <tr>\n      <th>All</th>\n      <td>16.483871</td>\n    </tr>\n    <tr>\n      <th>Most</th>\n      <td>16.129032</td>\n    </tr>\n    <tr>\n      <th>None</th>\n      <td>30.774194</td>\n    </tr>\n    <tr>\n      <th rowspan=\"4\" valign=\"top\">To how many work colleagues are you open about being LGBTI</th>\n      <th>A few</th>\n      <td>26.290323</td>\n    </tr>\n    <tr>\n      <th>All</th>\n      <td>17.580645</td>\n    </tr>\n    <tr>\n      <th>Most</th>\n      <td>13.483871</td>\n    </tr>\n    <tr>\n      <th>None</th>\n      <td>42.677419</td>\n    </tr>\n    <tr>\n      <th rowspan=\"11\" valign=\"top\">Where do you avoid being open about yourself as LGBTI for fear of being assaulted, threatened or harassed by others?</th>\n      <th>A cafe, restaurant, pub, club</th>\n      <td>42.548387</td>\n    </tr>\n    <tr>\n      <th>Around my family</th>\n      <td>34.129032</td>\n    </tr>\n    <tr>\n      <th>Dont Know</th>\n      <td>9.322581</td>\n    </tr>\n    <tr>\n      <th>In a healthcare setting (hospital or other medical service)</th>\n      <td>29.903226</td>\n    </tr>\n    <tr>\n      <th>In the street, a square, park, car park or other public place</th>\n      <td>58.322581</td>\n    </tr>\n    <tr>\n      <th>My home</th>\n      <td>17.290323</td>\n    </tr>\n    <tr>\n      <th>Other</th>\n      <td>13.612903</td>\n    </tr>\n    <tr>\n      <th>Public premises or buildings</th>\n      <td>45.645161</td>\n    </tr>\n    <tr>\n      <th>Public transport</th>\n      <td>54.483871</td>\n    </tr>\n    <tr>\n      <th>School</th>\n      <td>25.935484</td>\n    </tr>\n    <tr>\n      <th>Workplace</th>\n      <td>36.419355</td>\n    </tr>\n  </tbody>\n</table>\n</div>"
     },
     "metadata": {},
     "execution_count": 23
    }
   ],
   "source": [
    "total= total(dt=open)\n",
    "total"
   ]
  },
  {
   "cell_type": "code",
   "execution_count": 28,
   "metadata": {},
   "outputs": [
    {
     "output_type": "execute_result",
     "data": {
      "text/plain": [
       "question_label To how many customers, clients, etc. at work are you open about being LGBTI  \\\n",
       "answer                                                                               A few   \n",
       "percentage                                              13.935484                            \n",
       "\n",
       "question_label                                 \\\n",
       "answer               All      Most       None   \n",
       "percentage      6.612903  6.290323  73.096774   \n",
       "\n",
       "question_label To how many family members (other than your partner(s)) are you open about being LGBTI  \\\n",
       "answer                                                                                          A few   \n",
       "percentage                                              29.290323                                       \n",
       "\n",
       "question_label                                  \\\n",
       "answer                All      Most       None   \n",
       "percentage      23.258065  15.83871  31.516129   \n",
       "\n",
       "question_label To how many friends are you open about being LGBTI             \\\n",
       "answer                                                      A few        All   \n",
       "percentage                                              28.612903  38.645161   \n",
       "\n",
       "question_label  ...  \\\n",
       "answer          ...   \n",
       "percentage      ...   \n",
       "\n",
       "question_label Where do you avoid being open about yourself as LGBTI for fear of being assaulted, threatened or harassed by others?  \\\n",
       "answer                                                                                                            Around my family    \n",
       "percentage                                              34.129032                                                                     \n",
       "\n",
       "question_label             \\\n",
       "answer         Dont Know    \n",
       "percentage       9.322581   \n",
       "\n",
       "question_label                                                              \\\n",
       "answer         In a healthcare setting (hospital or other medical service)   \n",
       "percentage                                              29.903226            \n",
       "\n",
       "question_label                                                                \\\n",
       "answer         In the street, a square, park, car park or other public place   \n",
       "percentage                                              58.322581              \n",
       "\n",
       "question_label                                                     \\\n",
       "answer           My home      Other  Public premises or buildings   \n",
       "percentage      17.290323  13.612903                    45.645161   \n",
       "\n",
       "question_label                                          \n",
       "answer         Public transport     School  Workplace   \n",
       "percentage             54.483871  25.935484  36.419355  \n",
       "\n",
       "[1 rows x 43 columns]"
      ],
      "text/html": "<div>\n<style scoped>\n    .dataframe tbody tr th:only-of-type {\n        vertical-align: middle;\n    }\n\n    .dataframe tbody tr th {\n        vertical-align: top;\n    }\n\n    .dataframe thead tr th {\n        text-align: left;\n    }\n</style>\n<table border=\"1\" class=\"dataframe\">\n  <thead>\n    <tr>\n      <th>question_label</th>\n      <th colspan=\"4\" halign=\"left\">To how many customers, clients, etc. at work are you open about being LGBTI</th>\n      <th colspan=\"4\" halign=\"left\">To how many family members (other than your partner(s)) are you open about being LGBTI</th>\n      <th colspan=\"2\" halign=\"left\">To how many friends are you open about being LGBTI</th>\n      <th>...</th>\n      <th colspan=\"10\" halign=\"left\">Where do you avoid being open about yourself as LGBTI for fear of being assaulted, threatened or harassed by others?</th>\n    </tr>\n    <tr>\n      <th>answer</th>\n      <th>A few</th>\n      <th>All</th>\n      <th>Most</th>\n      <th>None</th>\n      <th>A few</th>\n      <th>All</th>\n      <th>Most</th>\n      <th>None</th>\n      <th>A few</th>\n      <th>All</th>\n      <th>...</th>\n      <th>Around my family</th>\n      <th>Dont Know</th>\n      <th>In a healthcare setting (hospital or other medical service)</th>\n      <th>In the street, a square, park, car park or other public place</th>\n      <th>My home</th>\n      <th>Other</th>\n      <th>Public premises or buildings</th>\n      <th>Public transport</th>\n      <th>School</th>\n      <th>Workplace</th>\n    </tr>\n  </thead>\n  <tbody>\n    <tr>\n      <th>percentage</th>\n      <td>13.935484</td>\n      <td>6.612903</td>\n      <td>6.290323</td>\n      <td>73.096774</td>\n      <td>29.290323</td>\n      <td>23.258065</td>\n      <td>15.83871</td>\n      <td>31.516129</td>\n      <td>28.612903</td>\n      <td>38.645161</td>\n      <td>...</td>\n      <td>34.129032</td>\n      <td>9.322581</td>\n      <td>29.903226</td>\n      <td>58.322581</td>\n      <td>17.290323</td>\n      <td>13.612903</td>\n      <td>45.645161</td>\n      <td>54.483871</td>\n      <td>25.935484</td>\n      <td>36.419355</td>\n    </tr>\n  </tbody>\n</table>\n<p>1 rows × 43 columns</p>\n</div>"
     },
     "metadata": {},
     "execution_count": 28
    }
   ],
   "source": [
    "total= total.T\n",
    "total"
   ]
  },
  {
   "cell_type": "code",
   "execution_count": 30,
   "metadata": {},
   "outputs": [
    {
     "output_type": "execute_result",
     "data": {
      "text/plain": [
       "A few      All        Most      None     \n",
       "29.290323  23.258065  15.83871  31.516129    1\n",
       "dtype: int64"
      ]
     },
     "metadata": {},
     "execution_count": 30
    }
   ],
   "source": [
    "total[\"To how many family members (other than your partner(s)) are you open about being LGBTI\"].value_counts()"
   ]
  },
  {
   "cell_type": "code",
   "execution_count": 5,
   "metadata": {},
   "outputs": [
    {
     "output_type": "execute_result",
     "data": {
      "text/plain": [
       "     CountryCode target_group subset question_code  \\\n",
       "4740     Austria          All    All    DEXindv9_2   \n",
       "4741     Austria          All    All    DEXindv9_2   \n",
       "4742     Austria          All    All    DEXindv9_2   \n",
       "4743     Austria          All    All    DEXindv9_2   \n",
       "4744     Austria          All    All    DEXindv9_2   \n",
       "...          ...          ...    ...           ...   \n",
       "5076      Serbia          All    All    DEXindv9_2   \n",
       "5077      Serbia          All    All    DEXindv9_2   \n",
       "5078      Serbia          All    All    DEXindv9_2   \n",
       "5079      Serbia          All    All    DEXindv9_2   \n",
       "5080      Serbia          All    All    DEXindv9_2   \n",
       "\n",
       "                                         question_label  \\\n",
       "4740  Where do you avoid being open about yourself a...   \n",
       "4741  Where do you avoid being open about yourself a...   \n",
       "4742  Where do you avoid being open about yourself a...   \n",
       "4743  Where do you avoid being open about yourself a...   \n",
       "4744  Where do you avoid being open about yourself a...   \n",
       "...                                                 ...   \n",
       "5076  Where do you avoid being open about yourself a...   \n",
       "5077  Where do you avoid being open about yourself a...   \n",
       "5078  Where do you avoid being open about yourself a...   \n",
       "5079  Where do you avoid being open about yourself a...   \n",
       "5080  Where do you avoid being open about yourself a...   \n",
       "\n",
       "                                                 answer percentage notes  \n",
       "4740                                           My home           8   NaN  \n",
       "4741                                  Around my family          26   NaN  \n",
       "4742                                            School          16   NaN  \n",
       "4743                                         Workplace          34   NaN  \n",
       "4744                      A cafe, restaurant, pub, club         35   NaN  \n",
       "...                                                 ...        ...   ...  \n",
       "5076  In the street, a square, park, car park or oth...         59   NaN  \n",
       "5077  In a healthcare setting (hospital or other med...         41   NaN  \n",
       "5078                       Public premises or buildings         59   NaN  \n",
       "5079                                             Other          15   NaN  \n",
       "5080                                         Dont Know           6   NaN  \n",
       "\n",
       "[341 rows x 8 columns]"
      ],
      "text/html": "<div>\n<style scoped>\n    .dataframe tbody tr th:only-of-type {\n        vertical-align: middle;\n    }\n\n    .dataframe tbody tr th {\n        vertical-align: top;\n    }\n\n    .dataframe thead th {\n        text-align: right;\n    }\n</style>\n<table border=\"1\" class=\"dataframe\">\n  <thead>\n    <tr style=\"text-align: right;\">\n      <th></th>\n      <th>CountryCode</th>\n      <th>target_group</th>\n      <th>subset</th>\n      <th>question_code</th>\n      <th>question_label</th>\n      <th>answer</th>\n      <th>percentage</th>\n      <th>notes</th>\n    </tr>\n  </thead>\n  <tbody>\n    <tr>\n      <th>4740</th>\n      <td>Austria</td>\n      <td>All</td>\n      <td>All</td>\n      <td>DEXindv9_2</td>\n      <td>Where do you avoid being open about yourself a...</td>\n      <td>My home</td>\n      <td>8</td>\n      <td>NaN</td>\n    </tr>\n    <tr>\n      <th>4741</th>\n      <td>Austria</td>\n      <td>All</td>\n      <td>All</td>\n      <td>DEXindv9_2</td>\n      <td>Where do you avoid being open about yourself a...</td>\n      <td>Around my family</td>\n      <td>26</td>\n      <td>NaN</td>\n    </tr>\n    <tr>\n      <th>4742</th>\n      <td>Austria</td>\n      <td>All</td>\n      <td>All</td>\n      <td>DEXindv9_2</td>\n      <td>Where do you avoid being open about yourself a...</td>\n      <td>School</td>\n      <td>16</td>\n      <td>NaN</td>\n    </tr>\n    <tr>\n      <th>4743</th>\n      <td>Austria</td>\n      <td>All</td>\n      <td>All</td>\n      <td>DEXindv9_2</td>\n      <td>Where do you avoid being open about yourself a...</td>\n      <td>Workplace</td>\n      <td>34</td>\n      <td>NaN</td>\n    </tr>\n    <tr>\n      <th>4744</th>\n      <td>Austria</td>\n      <td>All</td>\n      <td>All</td>\n      <td>DEXindv9_2</td>\n      <td>Where do you avoid being open about yourself a...</td>\n      <td>A cafe, restaurant, pub, club</td>\n      <td>35</td>\n      <td>NaN</td>\n    </tr>\n    <tr>\n      <th>...</th>\n      <td>...</td>\n      <td>...</td>\n      <td>...</td>\n      <td>...</td>\n      <td>...</td>\n      <td>...</td>\n      <td>...</td>\n      <td>...</td>\n    </tr>\n    <tr>\n      <th>5076</th>\n      <td>Serbia</td>\n      <td>All</td>\n      <td>All</td>\n      <td>DEXindv9_2</td>\n      <td>Where do you avoid being open about yourself a...</td>\n      <td>In the street, a square, park, car park or oth...</td>\n      <td>59</td>\n      <td>NaN</td>\n    </tr>\n    <tr>\n      <th>5077</th>\n      <td>Serbia</td>\n      <td>All</td>\n      <td>All</td>\n      <td>DEXindv9_2</td>\n      <td>Where do you avoid being open about yourself a...</td>\n      <td>In a healthcare setting (hospital or other med...</td>\n      <td>41</td>\n      <td>NaN</td>\n    </tr>\n    <tr>\n      <th>5078</th>\n      <td>Serbia</td>\n      <td>All</td>\n      <td>All</td>\n      <td>DEXindv9_2</td>\n      <td>Where do you avoid being open about yourself a...</td>\n      <td>Public premises or buildings</td>\n      <td>59</td>\n      <td>NaN</td>\n    </tr>\n    <tr>\n      <th>5079</th>\n      <td>Serbia</td>\n      <td>All</td>\n      <td>All</td>\n      <td>DEXindv9_2</td>\n      <td>Where do you avoid being open about yourself a...</td>\n      <td>Other</td>\n      <td>15</td>\n      <td>NaN</td>\n    </tr>\n    <tr>\n      <th>5080</th>\n      <td>Serbia</td>\n      <td>All</td>\n      <td>All</td>\n      <td>DEXindv9_2</td>\n      <td>Where do you avoid being open about yourself a...</td>\n      <td>Dont Know</td>\n      <td>6</td>\n      <td>NaN</td>\n    </tr>\n  </tbody>\n</table>\n<p>341 rows × 8 columns</p>\n</div>"
     },
     "metadata": {},
     "execution_count": 5
    }
   ],
   "source": [
    "#donde evitar ser abierto\n",
    "avoid= living_data.loc[(living_data[\"question_label\"].str.contains(\"yourself\"))] \n",
    "avoid"
   ]
  },
  {
   "cell_type": "code",
   "execution_count": 79,
   "metadata": {},
   "outputs": [
    {
     "output_type": "execute_result",
     "data": {
      "text/plain": [
       "['My home ',\n",
       " 'Around my family ',\n",
       " 'School ',\n",
       " 'Workplace ',\n",
       " 'A cafe, restaurant, pub, club',\n",
       " 'Public transport ',\n",
       " 'In the street, a square, park, car park or other public place',\n",
       " 'In a healthcare setting (hospital or other medical service)',\n",
       " 'Public premises or buildings',\n",
       " 'Other ',\n",
       " 'Dont Know ']"
      ]
     },
     "metadata": {},
     "execution_count": 79
    }
   ],
   "source": [
    "#Sustituir por answer()\n",
    "ans = list(pd.unique(avoid[\"answer\"]))\n",
    "ans"
   ]
  },
  {
   "cell_type": "code",
   "execution_count": 3,
   "metadata": {},
   "outputs": [
    {
     "output_type": "stream",
     "name": "stdout",
     "text": [
      "<class 'pandas.core.frame.DataFrame'>\nInt64Index: 341 entries, 4740 to 5080\nData columns (total 8 columns):\n #   Column          Non-Null Count  Dtype \n---  ------          --------------  ----- \n 0   CountryCode     341 non-null    object\n 1   target_group    341 non-null    object\n 2   subset          341 non-null    object\n 3   question_code   341 non-null    object\n 4   question_label  341 non-null    object\n 5   answer          341 non-null    object\n 6   percentage      341 non-null    int32 \n 7   notes           0 non-null      object\ndtypes: int32(1), object(7)\nmemory usage: 22.6+ KB\n"
     ]
    }
   ],
   "source": [
    "#Sustituir por int_percentage()\n",
    "avoid['percentage'] = avoid['percentage'].astype(int)\n",
    "avoid.info()"
   ]
  },
  {
   "cell_type": "code",
   "execution_count": 4,
   "metadata": {},
   "outputs": [
    {
     "output_type": "execute_result",
     "data": {
      "text/plain": [
       "                                                                                                       percentage\n",
       "question_label                                     answer                                                        \n",
       "Where do you avoid being open about yourself as... A cafe, restaurant, pub, club                        42.548387\n",
       "                                                   Around my family                                     34.129032\n",
       "                                                   Dont Know                                             9.322581\n",
       "                                                   In a healthcare setting (hospital or other medi...   29.903226\n",
       "                                                   In the street, a square, park, car park or othe...   58.322581\n",
       "                                                   My home                                              17.290323\n",
       "                                                   Other                                                13.612903\n",
       "                                                   Public premises or buildings                         45.645161\n",
       "                                                   Public transport                                     54.483871\n",
       "                                                   School                                               25.935484\n",
       "                                                   Workplace                                            36.419355"
      ],
      "text/html": "<div>\n<style scoped>\n    .dataframe tbody tr th:only-of-type {\n        vertical-align: middle;\n    }\n\n    .dataframe tbody tr th {\n        vertical-align: top;\n    }\n\n    .dataframe thead th {\n        text-align: right;\n    }\n</style>\n<table border=\"1\" class=\"dataframe\">\n  <thead>\n    <tr style=\"text-align: right;\">\n      <th></th>\n      <th></th>\n      <th>percentage</th>\n    </tr>\n    <tr>\n      <th>question_label</th>\n      <th>answer</th>\n      <th></th>\n    </tr>\n  </thead>\n  <tbody>\n    <tr>\n      <th rowspan=\"11\" valign=\"top\">Where do you avoid being open about yourself as LGBTI for fear of being assaulted, threatened or harassed by others?</th>\n      <th>A cafe, restaurant, pub, club</th>\n      <td>42.548387</td>\n    </tr>\n    <tr>\n      <th>Around my family</th>\n      <td>34.129032</td>\n    </tr>\n    <tr>\n      <th>Dont Know</th>\n      <td>9.322581</td>\n    </tr>\n    <tr>\n      <th>In a healthcare setting (hospital or other medical service)</th>\n      <td>29.903226</td>\n    </tr>\n    <tr>\n      <th>In the street, a square, park, car park or other public place</th>\n      <td>58.322581</td>\n    </tr>\n    <tr>\n      <th>My home</th>\n      <td>17.290323</td>\n    </tr>\n    <tr>\n      <th>Other</th>\n      <td>13.612903</td>\n    </tr>\n    <tr>\n      <th>Public premises or buildings</th>\n      <td>45.645161</td>\n    </tr>\n    <tr>\n      <th>Public transport</th>\n      <td>54.483871</td>\n    </tr>\n    <tr>\n      <th>School</th>\n      <td>25.935484</td>\n    </tr>\n    <tr>\n      <th>Workplace</th>\n      <td>36.419355</td>\n    </tr>\n  </tbody>\n</table>\n</div>"
     },
     "metadata": {},
     "execution_count": 4
    }
   ],
   "source": [
    "#Sustituir por def total()\n",
    "table_total = avoid.pivot_table(\"percentage\", index= [\"question_label\",\"answer\"])\n",
    "table_total\n"
   ]
  },
  {
   "cell_type": "code",
   "execution_count": 89,
   "metadata": {},
   "outputs": [
    {
     "output_type": "execute_result",
     "data": {
      "text/plain": [
       "question_label  Where do you avoid being open about yourself as LGBTI for fear of being assaulted, threatened or harassed by others?  \\\n",
       "answer                                                                                                 A cafe, restaurant, pub, club   \n",
       "CountryCode                                                                                                                            \n",
       "Austria                                                         35                                                                     \n",
       "Belgium                                                         37                                                                     \n",
       "Bulgaria                                                        53                                                                     \n",
       "Croatia                                                         64                                                                     \n",
       "Cyprus                                                          59                                                                     \n",
       "Czechia                                                         34                                                                     \n",
       "Denmark                                                         32                                                                     \n",
       "EU-28                                                           39                                                                     \n",
       "Estonia                                                         50                                                                     \n",
       "Finland                                                         45                                                                     \n",
       "France                                                          41                                                                     \n",
       "Germany                                                         30                                                                     \n",
       "Greece                                                          40                                                                     \n",
       "Hungary                                                         47                                                                     \n",
       "Ireland                                                         35                                                                     \n",
       "Italy                                                           29                                                                     \n",
       "Latvia                                                          52                                                                     \n",
       "Lithuania                                                       50                                                                     \n",
       "Luxembourg                                                      31                                                                     \n",
       "Malta                                                           34                                                                     \n",
       "Netherlands                                                     40                                                                     \n",
       "North Macedonia                                                 57                                                                     \n",
       "Poland                                                          51                                                                     \n",
       "Portugal                                                        32                                                                     \n",
       "Romania                                                         54                                                                     \n",
       "Serbia                                                          49                                                                     \n",
       "Slovakia                                                        54                                                                     \n",
       "Slovenia                                                        38                                                                     \n",
       "Spain                                                           32                                                                     \n",
       "Sweden                                                          33                                                                     \n",
       "United Kingdom                                                  42                                                                     \n",
       "\n",
       "question_label                                \\\n",
       "answer          Around my family  Dont Know    \n",
       "CountryCode                                    \n",
       "Austria                        26         10   \n",
       "Belgium                        21          8   \n",
       "Bulgaria                       46          7   \n",
       "Croatia                        41          4   \n",
       "Cyprus                         55          7   \n",
       "Czechia                        29         13   \n",
       "Denmark                         8         23   \n",
       "EU-28                          29          9   \n",
       "Estonia                        41          6   \n",
       "Finland                        17         16   \n",
       "France                         26          6   \n",
       "Germany                        22         10   \n",
       "Greece                         51          5   \n",
       "Hungary                        30          6   \n",
       "Ireland                        25          9   \n",
       "Italy                          33         13   \n",
       "Latvia                         43          5   \n",
       "Lithuania                      50          7   \n",
       "Luxembourg                     29         12   \n",
       "Malta                          35         12   \n",
       "Netherlands                    15         13   \n",
       "North Macedonia                60          7   \n",
       "Poland                         41          5   \n",
       "Portugal                       42         15   \n",
       "Romania                        55          6   \n",
       "Serbia                         49          6   \n",
       "Slovakia                       39          6   \n",
       "Slovenia                       37          7   \n",
       "Spain                          24         15   \n",
       "Sweden                         14         12   \n",
       "United Kingdom                 25          9   \n",
       "\n",
       "question_label                                                               \\\n",
       "answer          In a healthcare setting (hospital or other medical service)   \n",
       "CountryCode                                                                   \n",
       "Austria                                                         22            \n",
       "Belgium                                                         17            \n",
       "Bulgaria                                                        42            \n",
       "Croatia                                                         47            \n",
       "Cyprus                                                          41            \n",
       "Czechia                                                         26            \n",
       "Denmark                                                          6            \n",
       "EU-28                                                           27            \n",
       "Estonia                                                         32            \n",
       "Finland                                                         17            \n",
       "France                                                          26            \n",
       "Germany                                                         20            \n",
       "Greece                                                          34            \n",
       "Hungary                                                         46            \n",
       "Ireland                                                         16            \n",
       "Italy                                                           21            \n",
       "Latvia                                                          42            \n",
       "Lithuania                                                       43            \n",
       "Luxembourg                                                      19            \n",
       "Malta                                                           24            \n",
       "Netherlands                                                     10            \n",
       "North Macedonia                                                 49            \n",
       "Poland                                                          51            \n",
       "Portugal                                                        25            \n",
       "Romania                                                         54            \n",
       "Serbia                                                          41            \n",
       "Slovakia                                                        46            \n",
       "Slovenia                                                        29            \n",
       "Spain                                                           17            \n",
       "Sweden                                                          17            \n",
       "United Kingdom                                                  20            \n",
       "\n",
       "question_label                                                                 \\\n",
       "answer          In the street, a square, park, car park or other public place   \n",
       "CountryCode                                                                     \n",
       "Austria                                                         49              \n",
       "Belgium                                                         71              \n",
       "Bulgaria                                                        61              \n",
       "Croatia                                                         74              \n",
       "Cyprus                                                          61              \n",
       "Czechia                                                         46              \n",
       "Denmark                                                         45              \n",
       "EU-28                                                           58              \n",
       "Estonia                                                         67              \n",
       "Finland                                                         55              \n",
       "France                                                          70              \n",
       "Germany                                                         53              \n",
       "Greece                                                          54              \n",
       "Hungary                                                         62              \n",
       "Ireland                                                         57              \n",
       "Italy                                                           42              \n",
       "Latvia                                                          66              \n",
       "Lithuania                                                       64              \n",
       "Luxembourg                                                      52              \n",
       "Malta                                                           46              \n",
       "Netherlands                                                     61              \n",
       "North Macedonia                                                 68              \n",
       "Poland                                                          72              \n",
       "Portugal                                                        37              \n",
       "Romania                                                         70              \n",
       "Serbia                                                          59              \n",
       "Slovakia                                                        64              \n",
       "Slovenia                                                        54              \n",
       "Spain                                                           47              \n",
       "Sweden                                                          60              \n",
       "United Kingdom                                                  63              \n",
       "\n",
       "question_label                                                \\\n",
       "answer          My home  Other  Public premises or buildings   \n",
       "CountryCode                                                    \n",
       "Austria                8     18                           41   \n",
       "Belgium                6     14                           41   \n",
       "Bulgaria              27     10                           55   \n",
       "Croatia               25     10                           67   \n",
       "Cyprus                31     11                           63   \n",
       "Czechia                8     11                           36   \n",
       "Denmark                2     16                           23   \n",
       "EU-28                 13     15                           43   \n",
       "Estonia               24     11                           53   \n",
       "Finland                6     14                           25   \n",
       "France                 7     11                           49   \n",
       "Germany                8     20                           39   \n",
       "Greece                22      8                           54   \n",
       "Hungary               18     11                           55   \n",
       "Ireland               14     12                           37   \n",
       "Italy                 18     13                           34   \n",
       "Latvia                25      9                           59   \n",
       "Lithuania             31     12                           57   \n",
       "Luxembourg            12     21                           33   \n",
       "Malta                 21     15                           42   \n",
       "Netherlands            4     17                           37   \n",
       "North Macedonia       41     20                           61   \n",
       "Poland                19     15                           62   \n",
       "Portugal              19      9                           31   \n",
       "Romania               23     12                           63   \n",
       "Serbia                34     15                           59   \n",
       "Slovakia              17      9                           56   \n",
       "Slovenia              24     11                           41   \n",
       "Spain                 12     21                           26   \n",
       "Sweden                 5     18                           31   \n",
       "United Kingdom        12     13                           42   \n",
       "\n",
       "question_label                                        \n",
       "answer          Public transport  School  Workplace   \n",
       "CountryCode                                           \n",
       "Austria                        49      16         34  \n",
       "Belgium                        62      15         24  \n",
       "Bulgaria                       60      40         47  \n",
       "Croatia                        71      37         46  \n",
       "Cyprus                         51      41         57  \n",
       "Czechia                        42      19         28  \n",
       "Denmark                        23       7         10  \n",
       "EU-28                          57      21         34  \n",
       "Estonia                        61      37         41  \n",
       "Finland                        43      15         27  \n",
       "France                         72      20         39  \n",
       "Germany                        54      16         30  \n",
       "Greece                         55      34         48  \n",
       "Hungary                        62      31         45  \n",
       "Ireland                        53      18         26  \n",
       "Italy                          42      18         37  \n",
       "Latvia                         64      42         46  \n",
       "Lithuania                      64      48         37  \n",
       "Luxembourg                     45      17         29  \n",
       "Malta                          40      22         33  \n",
       "Netherlands                    47      10         18  \n",
       "North Macedonia                64      50         49  \n",
       "Poland                         73      32         46  \n",
       "Portugal                       42      19         43  \n",
       "Romania                        68      42         50  \n",
       "Serbia                         63      34         47  \n",
       "Slovakia                       61      33         42  \n",
       "Slovenia                       51      27         41  \n",
       "Spain                          40      15         27  \n",
       "Sweden                         48      11         23  \n",
       "United Kingdom                 62      17         25  "
      ],
      "text/html": "<div>\n<style scoped>\n    .dataframe tbody tr th:only-of-type {\n        vertical-align: middle;\n    }\n\n    .dataframe tbody tr th {\n        vertical-align: top;\n    }\n\n    .dataframe thead tr th {\n        text-align: left;\n    }\n\n    .dataframe thead tr:last-of-type th {\n        text-align: right;\n    }\n</style>\n<table border=\"1\" class=\"dataframe\">\n  <thead>\n    <tr>\n      <th>question_label</th>\n      <th colspan=\"11\" halign=\"left\">Where do you avoid being open about yourself as LGBTI for fear of being assaulted, threatened or harassed by others?</th>\n    </tr>\n    <tr>\n      <th>answer</th>\n      <th>A cafe, restaurant, pub, club</th>\n      <th>Around my family</th>\n      <th>Dont Know</th>\n      <th>In a healthcare setting (hospital or other medical service)</th>\n      <th>In the street, a square, park, car park or other public place</th>\n      <th>My home</th>\n      <th>Other</th>\n      <th>Public premises or buildings</th>\n      <th>Public transport</th>\n      <th>School</th>\n      <th>Workplace</th>\n    </tr>\n    <tr>\n      <th>CountryCode</th>\n      <th></th>\n      <th></th>\n      <th></th>\n      <th></th>\n      <th></th>\n      <th></th>\n      <th></th>\n      <th></th>\n      <th></th>\n      <th></th>\n      <th></th>\n    </tr>\n  </thead>\n  <tbody>\n    <tr>\n      <th>Austria</th>\n      <td>35</td>\n      <td>26</td>\n      <td>10</td>\n      <td>22</td>\n      <td>49</td>\n      <td>8</td>\n      <td>18</td>\n      <td>41</td>\n      <td>49</td>\n      <td>16</td>\n      <td>34</td>\n    </tr>\n    <tr>\n      <th>Belgium</th>\n      <td>37</td>\n      <td>21</td>\n      <td>8</td>\n      <td>17</td>\n      <td>71</td>\n      <td>6</td>\n      <td>14</td>\n      <td>41</td>\n      <td>62</td>\n      <td>15</td>\n      <td>24</td>\n    </tr>\n    <tr>\n      <th>Bulgaria</th>\n      <td>53</td>\n      <td>46</td>\n      <td>7</td>\n      <td>42</td>\n      <td>61</td>\n      <td>27</td>\n      <td>10</td>\n      <td>55</td>\n      <td>60</td>\n      <td>40</td>\n      <td>47</td>\n    </tr>\n    <tr>\n      <th>Croatia</th>\n      <td>64</td>\n      <td>41</td>\n      <td>4</td>\n      <td>47</td>\n      <td>74</td>\n      <td>25</td>\n      <td>10</td>\n      <td>67</td>\n      <td>71</td>\n      <td>37</td>\n      <td>46</td>\n    </tr>\n    <tr>\n      <th>Cyprus</th>\n      <td>59</td>\n      <td>55</td>\n      <td>7</td>\n      <td>41</td>\n      <td>61</td>\n      <td>31</td>\n      <td>11</td>\n      <td>63</td>\n      <td>51</td>\n      <td>41</td>\n      <td>57</td>\n    </tr>\n    <tr>\n      <th>Czechia</th>\n      <td>34</td>\n      <td>29</td>\n      <td>13</td>\n      <td>26</td>\n      <td>46</td>\n      <td>8</td>\n      <td>11</td>\n      <td>36</td>\n      <td>42</td>\n      <td>19</td>\n      <td>28</td>\n    </tr>\n    <tr>\n      <th>Denmark</th>\n      <td>32</td>\n      <td>8</td>\n      <td>23</td>\n      <td>6</td>\n      <td>45</td>\n      <td>2</td>\n      <td>16</td>\n      <td>23</td>\n      <td>23</td>\n      <td>7</td>\n      <td>10</td>\n    </tr>\n    <tr>\n      <th>EU-28</th>\n      <td>39</td>\n      <td>29</td>\n      <td>9</td>\n      <td>27</td>\n      <td>58</td>\n      <td>13</td>\n      <td>15</td>\n      <td>43</td>\n      <td>57</td>\n      <td>21</td>\n      <td>34</td>\n    </tr>\n    <tr>\n      <th>Estonia</th>\n      <td>50</td>\n      <td>41</td>\n      <td>6</td>\n      <td>32</td>\n      <td>67</td>\n      <td>24</td>\n      <td>11</td>\n      <td>53</td>\n      <td>61</td>\n      <td>37</td>\n      <td>41</td>\n    </tr>\n    <tr>\n      <th>Finland</th>\n      <td>45</td>\n      <td>17</td>\n      <td>16</td>\n      <td>17</td>\n      <td>55</td>\n      <td>6</td>\n      <td>14</td>\n      <td>25</td>\n      <td>43</td>\n      <td>15</td>\n      <td>27</td>\n    </tr>\n    <tr>\n      <th>France</th>\n      <td>41</td>\n      <td>26</td>\n      <td>6</td>\n      <td>26</td>\n      <td>70</td>\n      <td>7</td>\n      <td>11</td>\n      <td>49</td>\n      <td>72</td>\n      <td>20</td>\n      <td>39</td>\n    </tr>\n    <tr>\n      <th>Germany</th>\n      <td>30</td>\n      <td>22</td>\n      <td>10</td>\n      <td>20</td>\n      <td>53</td>\n      <td>8</td>\n      <td>20</td>\n      <td>39</td>\n      <td>54</td>\n      <td>16</td>\n      <td>30</td>\n    </tr>\n    <tr>\n      <th>Greece</th>\n      <td>40</td>\n      <td>51</td>\n      <td>5</td>\n      <td>34</td>\n      <td>54</td>\n      <td>22</td>\n      <td>8</td>\n      <td>54</td>\n      <td>55</td>\n      <td>34</td>\n      <td>48</td>\n    </tr>\n    <tr>\n      <th>Hungary</th>\n      <td>47</td>\n      <td>30</td>\n      <td>6</td>\n      <td>46</td>\n      <td>62</td>\n      <td>18</td>\n      <td>11</td>\n      <td>55</td>\n      <td>62</td>\n      <td>31</td>\n      <td>45</td>\n    </tr>\n    <tr>\n      <th>Ireland</th>\n      <td>35</td>\n      <td>25</td>\n      <td>9</td>\n      <td>16</td>\n      <td>57</td>\n      <td>14</td>\n      <td>12</td>\n      <td>37</td>\n      <td>53</td>\n      <td>18</td>\n      <td>26</td>\n    </tr>\n    <tr>\n      <th>Italy</th>\n      <td>29</td>\n      <td>33</td>\n      <td>13</td>\n      <td>21</td>\n      <td>42</td>\n      <td>18</td>\n      <td>13</td>\n      <td>34</td>\n      <td>42</td>\n      <td>18</td>\n      <td>37</td>\n    </tr>\n    <tr>\n      <th>Latvia</th>\n      <td>52</td>\n      <td>43</td>\n      <td>5</td>\n      <td>42</td>\n      <td>66</td>\n      <td>25</td>\n      <td>9</td>\n      <td>59</td>\n      <td>64</td>\n      <td>42</td>\n      <td>46</td>\n    </tr>\n    <tr>\n      <th>Lithuania</th>\n      <td>50</td>\n      <td>50</td>\n      <td>7</td>\n      <td>43</td>\n      <td>64</td>\n      <td>31</td>\n      <td>12</td>\n      <td>57</td>\n      <td>64</td>\n      <td>48</td>\n      <td>37</td>\n    </tr>\n    <tr>\n      <th>Luxembourg</th>\n      <td>31</td>\n      <td>29</td>\n      <td>12</td>\n      <td>19</td>\n      <td>52</td>\n      <td>12</td>\n      <td>21</td>\n      <td>33</td>\n      <td>45</td>\n      <td>17</td>\n      <td>29</td>\n    </tr>\n    <tr>\n      <th>Malta</th>\n      <td>34</td>\n      <td>35</td>\n      <td>12</td>\n      <td>24</td>\n      <td>46</td>\n      <td>21</td>\n      <td>15</td>\n      <td>42</td>\n      <td>40</td>\n      <td>22</td>\n      <td>33</td>\n    </tr>\n    <tr>\n      <th>Netherlands</th>\n      <td>40</td>\n      <td>15</td>\n      <td>13</td>\n      <td>10</td>\n      <td>61</td>\n      <td>4</td>\n      <td>17</td>\n      <td>37</td>\n      <td>47</td>\n      <td>10</td>\n      <td>18</td>\n    </tr>\n    <tr>\n      <th>North Macedonia</th>\n      <td>57</td>\n      <td>60</td>\n      <td>7</td>\n      <td>49</td>\n      <td>68</td>\n      <td>41</td>\n      <td>20</td>\n      <td>61</td>\n      <td>64</td>\n      <td>50</td>\n      <td>49</td>\n    </tr>\n    <tr>\n      <th>Poland</th>\n      <td>51</td>\n      <td>41</td>\n      <td>5</td>\n      <td>51</td>\n      <td>72</td>\n      <td>19</td>\n      <td>15</td>\n      <td>62</td>\n      <td>73</td>\n      <td>32</td>\n      <td>46</td>\n    </tr>\n    <tr>\n      <th>Portugal</th>\n      <td>32</td>\n      <td>42</td>\n      <td>15</td>\n      <td>25</td>\n      <td>37</td>\n      <td>19</td>\n      <td>9</td>\n      <td>31</td>\n      <td>42</td>\n      <td>19</td>\n      <td>43</td>\n    </tr>\n    <tr>\n      <th>Romania</th>\n      <td>54</td>\n      <td>55</td>\n      <td>6</td>\n      <td>54</td>\n      <td>70</td>\n      <td>23</td>\n      <td>12</td>\n      <td>63</td>\n      <td>68</td>\n      <td>42</td>\n      <td>50</td>\n    </tr>\n    <tr>\n      <th>Serbia</th>\n      <td>49</td>\n      <td>49</td>\n      <td>6</td>\n      <td>41</td>\n      <td>59</td>\n      <td>34</td>\n      <td>15</td>\n      <td>59</td>\n      <td>63</td>\n      <td>34</td>\n      <td>47</td>\n    </tr>\n    <tr>\n      <th>Slovakia</th>\n      <td>54</td>\n      <td>39</td>\n      <td>6</td>\n      <td>46</td>\n      <td>64</td>\n      <td>17</td>\n      <td>9</td>\n      <td>56</td>\n      <td>61</td>\n      <td>33</td>\n      <td>42</td>\n    </tr>\n    <tr>\n      <th>Slovenia</th>\n      <td>38</td>\n      <td>37</td>\n      <td>7</td>\n      <td>29</td>\n      <td>54</td>\n      <td>24</td>\n      <td>11</td>\n      <td>41</td>\n      <td>51</td>\n      <td>27</td>\n      <td>41</td>\n    </tr>\n    <tr>\n      <th>Spain</th>\n      <td>32</td>\n      <td>24</td>\n      <td>15</td>\n      <td>17</td>\n      <td>47</td>\n      <td>12</td>\n      <td>21</td>\n      <td>26</td>\n      <td>40</td>\n      <td>15</td>\n      <td>27</td>\n    </tr>\n    <tr>\n      <th>Sweden</th>\n      <td>33</td>\n      <td>14</td>\n      <td>12</td>\n      <td>17</td>\n      <td>60</td>\n      <td>5</td>\n      <td>18</td>\n      <td>31</td>\n      <td>48</td>\n      <td>11</td>\n      <td>23</td>\n    </tr>\n    <tr>\n      <th>United Kingdom</th>\n      <td>42</td>\n      <td>25</td>\n      <td>9</td>\n      <td>20</td>\n      <td>63</td>\n      <td>12</td>\n      <td>13</td>\n      <td>42</td>\n      <td>62</td>\n      <td>17</td>\n      <td>25</td>\n    </tr>\n  </tbody>\n</table>\n</div>"
     },
     "metadata": {},
     "execution_count": 89
    }
   ],
   "source": [
    "#Sustuir por la función total_paises()\n",
    "table_paises = avoid.groupby([\"question_label\",\"answer\", \"CountryCode\"])[\"percentage\"].mean().unstack().T\n",
    "table_paises"
   ]
  },
  {
   "cell_type": "code",
   "execution_count": 118,
   "metadata": {},
   "outputs": [
    {
     "output_type": "execute_result",
     "data": {
      "text/plain": [
       "<AxesSubplot:xlabel='CountryCode'>"
      ]
     },
     "metadata": {},
     "execution_count": 118
    },
    {
     "output_type": "display_data",
     "data": {
      "text/plain": "<Figure size 2160x720 with 1 Axes>",
      "image/svg+xml": "<?xml version=\"1.0\" encoding=\"utf-8\" standalone=\"no\"?>\r\n<!DOCTYPE svg PUBLIC \"-//W3C//DTD SVG 1.1//EN\"\r\n  \"http://www.w3.org/Graphics/SVG/1.1/DTD/svg11.dtd\">\r\n<!-- Created with matplotlib (https://matplotlib.org/) -->\r\n<svg height=\"663.94375pt\" version=\"1.1\" viewBox=\"0 0 1708.125 663.94375\" width=\"1708.125pt\" xmlns=\"http://www.w3.org/2000/svg\" xmlns:xlink=\"http://www.w3.org/1999/xlink\">\r\n <metadata>\r\n  <rdf:RDF xmlns:cc=\"http://creativecommons.org/ns#\" xmlns:dc=\"http://purl.org/dc/elements/1.1/\" xmlns:rdf=\"http://www.w3.org/1999/02/22-rdf-syntax-ns#\">\r\n   <cc:Work>\r\n    <dc:type rdf:resource=\"http://purl.org/dc/dcmitype/StillImage\"/>\r\n    <dc:date>2021-01-05T12:42:14.330226</dc:date>\r\n    <dc:format>image/svg+xml</dc:format>\r\n    <dc:creator>\r\n     <cc:Agent>\r\n      <dc:title>Matplotlib v3.3.3, https://matplotlib.org/</dc:title>\r\n     </cc:Agent>\r\n    </dc:creator>\r\n   </cc:Work>\r\n  </rdf:RDF>\r\n </metadata>\r\n <defs>\r\n  <style type=\"text/css\">*{stroke-linecap:butt;stroke-linejoin:round;}</style>\r\n </defs>\r\n <g id=\"figure_1\">\r\n  <g id=\"patch_1\">\r\n   <path d=\"M 0 663.94375 \r\nL 1708.125 663.94375 \r\nL 1708.125 0 \r\nL 0 0 \r\nz\r\n\" style=\"fill:none;\"/>\r\n  </g>\r\n  <g id=\"axes_1\">\r\n   <g id=\"patch_2\">\r\n    <path d=\"M 26.925 550.8 \r\nL 1700.925 550.8 \r\nL 1700.925 7.2 \r\nL 26.925 7.2 \r\nz\r\n\" style=\"fill:#ffffff;\"/>\r\n   </g>\r\n   <g id=\"patch_3\">\r\n    <path clip-path=\"url(#p8fd74fd0a7)\" d=\"M 40.425 550.8 \r\nL 42.879545 550.8 \r\nL 42.879545 305.935135 \r\nL 40.425 305.935135 \r\nz\r\n\" style=\"fill:#1f77b4;\"/>\r\n   </g>\r\n   <g id=\"patch_4\">\r\n    <path clip-path=\"url(#p8fd74fd0a7)\" d=\"M 94.425 550.8 \r\nL 96.879545 550.8 \r\nL 96.879545 291.942857 \r\nL 94.425 291.942857 \r\nz\r\n\" style=\"fill:#1f77b4;\"/>\r\n   </g>\r\n   <g id=\"patch_5\">\r\n    <path clip-path=\"url(#p8fd74fd0a7)\" d=\"M 148.425 550.8 \r\nL 150.879545 550.8 \r\nL 150.879545 180.004633 \r\nL 148.425 180.004633 \r\nz\r\n\" style=\"fill:#1f77b4;\"/>\r\n   </g>\r\n   <g id=\"patch_6\">\r\n    <path clip-path=\"url(#p8fd74fd0a7)\" d=\"M 202.425 550.8 \r\nL 204.879545 550.8 \r\nL 204.879545 103.047104 \r\nL 202.425 103.047104 \r\nz\r\n\" style=\"fill:#1f77b4;\"/>\r\n   </g>\r\n   <g id=\"patch_7\">\r\n    <path clip-path=\"url(#p8fd74fd0a7)\" d=\"M 256.425 550.8 \r\nL 258.879545 550.8 \r\nL 258.879545 138.027799 \r\nL 256.425 138.027799 \r\nz\r\n\" style=\"fill:#1f77b4;\"/>\r\n   </g>\r\n   <g id=\"patch_8\">\r\n    <path clip-path=\"url(#p8fd74fd0a7)\" d=\"M 310.425 550.8 \r\nL 312.879545 550.8 \r\nL 312.879545 312.931274 \r\nL 310.425 312.931274 \r\nz\r\n\" style=\"fill:#1f77b4;\"/>\r\n   </g>\r\n   <g id=\"patch_9\">\r\n    <path clip-path=\"url(#p8fd74fd0a7)\" d=\"M 364.425 550.8 \r\nL 366.879545 550.8 \r\nL 366.879545 326.923552 \r\nL 364.425 326.923552 \r\nz\r\n\" style=\"fill:#1f77b4;\"/>\r\n   </g>\r\n   <g id=\"patch_10\">\r\n    <path clip-path=\"url(#p8fd74fd0a7)\" d=\"M 418.425 550.8 \r\nL 420.879545 550.8 \r\nL 420.879545 277.950579 \r\nL 418.425 277.950579 \r\nz\r\n\" style=\"fill:#1f77b4;\"/>\r\n   </g>\r\n   <g id=\"patch_11\">\r\n    <path clip-path=\"url(#p8fd74fd0a7)\" d=\"M 472.425 550.8 \r\nL 474.879545 550.8 \r\nL 474.879545 200.99305 \r\nL 472.425 200.99305 \r\nz\r\n\" style=\"fill:#1f77b4;\"/>\r\n   </g>\r\n   <g id=\"patch_12\">\r\n    <path clip-path=\"url(#p8fd74fd0a7)\" d=\"M 526.425 550.8 \r\nL 528.879545 550.8 \r\nL 528.879545 235.973745 \r\nL 526.425 235.973745 \r\nz\r\n\" style=\"fill:#1f77b4;\"/>\r\n   </g>\r\n   <g id=\"patch_13\">\r\n    <path clip-path=\"url(#p8fd74fd0a7)\" d=\"M 580.425 550.8 \r\nL 582.879545 550.8 \r\nL 582.879545 263.958301 \r\nL 580.425 263.958301 \r\nz\r\n\" style=\"fill:#1f77b4;\"/>\r\n   </g>\r\n   <g id=\"patch_14\">\r\n    <path clip-path=\"url(#p8fd74fd0a7)\" d=\"M 634.425 550.8 \r\nL 636.879545 550.8 \r\nL 636.879545 340.91583 \r\nL 634.425 340.91583 \r\nz\r\n\" style=\"fill:#1f77b4;\"/>\r\n   </g>\r\n   <g id=\"patch_15\">\r\n    <path clip-path=\"url(#p8fd74fd0a7)\" d=\"M 688.425 550.8 \r\nL 690.879545 550.8 \r\nL 690.879545 270.95444 \r\nL 688.425 270.95444 \r\nz\r\n\" style=\"fill:#1f77b4;\"/>\r\n   </g>\r\n   <g id=\"patch_16\">\r\n    <path clip-path=\"url(#p8fd74fd0a7)\" d=\"M 742.425 550.8 \r\nL 744.879545 550.8 \r\nL 744.879545 221.981467 \r\nL 742.425 221.981467 \r\nz\r\n\" style=\"fill:#1f77b4;\"/>\r\n   </g>\r\n   <g id=\"patch_17\">\r\n    <path clip-path=\"url(#p8fd74fd0a7)\" d=\"M 796.425 550.8 \r\nL 798.879545 550.8 \r\nL 798.879545 305.935135 \r\nL 796.425 305.935135 \r\nz\r\n\" style=\"fill:#1f77b4;\"/>\r\n   </g>\r\n   <g id=\"patch_18\">\r\n    <path clip-path=\"url(#p8fd74fd0a7)\" d=\"M 850.425 550.8 \r\nL 852.879545 550.8 \r\nL 852.879545 347.911969 \r\nL 850.425 347.911969 \r\nz\r\n\" style=\"fill:#1f77b4;\"/>\r\n   </g>\r\n   <g id=\"patch_19\">\r\n    <path clip-path=\"url(#p8fd74fd0a7)\" d=\"M 904.425 550.8 \r\nL 906.879545 550.8 \r\nL 906.879545 187.000772 \r\nL 904.425 187.000772 \r\nz\r\n\" style=\"fill:#1f77b4;\"/>\r\n   </g>\r\n   <g id=\"patch_20\">\r\n    <path clip-path=\"url(#p8fd74fd0a7)\" d=\"M 958.425 550.8 \r\nL 960.879545 550.8 \r\nL 960.879545 200.99305 \r\nL 958.425 200.99305 \r\nz\r\n\" style=\"fill:#1f77b4;\"/>\r\n   </g>\r\n   <g id=\"patch_21\">\r\n    <path clip-path=\"url(#p8fd74fd0a7)\" d=\"M 1012.425 550.8 \r\nL 1014.879545 550.8 \r\nL 1014.879545 333.919691 \r\nL 1012.425 333.919691 \r\nz\r\n\" style=\"fill:#1f77b4;\"/>\r\n   </g>\r\n   <g id=\"patch_22\">\r\n    <path clip-path=\"url(#p8fd74fd0a7)\" d=\"M 1066.425 550.8 \r\nL 1068.879545 550.8 \r\nL 1068.879545 312.931274 \r\nL 1066.425 312.931274 \r\nz\r\n\" style=\"fill:#1f77b4;\"/>\r\n   </g>\r\n   <g id=\"patch_23\">\r\n    <path clip-path=\"url(#p8fd74fd0a7)\" d=\"M 1120.425 550.8 \r\nL 1122.879545 550.8 \r\nL 1122.879545 270.95444 \r\nL 1120.425 270.95444 \r\nz\r\n\" style=\"fill:#1f77b4;\"/>\r\n   </g>\r\n   <g id=\"patch_24\">\r\n    <path clip-path=\"url(#p8fd74fd0a7)\" d=\"M 1174.425 550.8 \r\nL 1176.879545 550.8 \r\nL 1176.879545 152.020077 \r\nL 1174.425 152.020077 \r\nz\r\n\" style=\"fill:#1f77b4;\"/>\r\n   </g>\r\n   <g id=\"patch_25\">\r\n    <path clip-path=\"url(#p8fd74fd0a7)\" d=\"M 1228.425 550.8 \r\nL 1230.879545 550.8 \r\nL 1230.879545 193.996911 \r\nL 1228.425 193.996911 \r\nz\r\n\" style=\"fill:#1f77b4;\"/>\r\n   </g>\r\n   <g id=\"patch_26\">\r\n    <path clip-path=\"url(#p8fd74fd0a7)\" d=\"M 1282.425 550.8 \r\nL 1284.879545 550.8 \r\nL 1284.879545 326.923552 \r\nL 1282.425 326.923552 \r\nz\r\n\" style=\"fill:#1f77b4;\"/>\r\n   </g>\r\n   <g id=\"patch_27\">\r\n    <path clip-path=\"url(#p8fd74fd0a7)\" d=\"M 1336.425 550.8 \r\nL 1338.879545 550.8 \r\nL 1338.879545 173.008494 \r\nL 1336.425 173.008494 \r\nz\r\n\" style=\"fill:#1f77b4;\"/>\r\n   </g>\r\n   <g id=\"patch_28\">\r\n    <path clip-path=\"url(#p8fd74fd0a7)\" d=\"M 1390.425 550.8 \r\nL 1392.879545 550.8 \r\nL 1392.879545 207.989189 \r\nL 1390.425 207.989189 \r\nz\r\n\" style=\"fill:#1f77b4;\"/>\r\n   </g>\r\n   <g id=\"patch_29\">\r\n    <path clip-path=\"url(#p8fd74fd0a7)\" d=\"M 1444.425 550.8 \r\nL 1446.879545 550.8 \r\nL 1446.879545 173.008494 \r\nL 1444.425 173.008494 \r\nz\r\n\" style=\"fill:#1f77b4;\"/>\r\n   </g>\r\n   <g id=\"patch_30\">\r\n    <path clip-path=\"url(#p8fd74fd0a7)\" d=\"M 1498.425 550.8 \r\nL 1500.879545 550.8 \r\nL 1500.879545 284.946718 \r\nL 1498.425 284.946718 \r\nz\r\n\" style=\"fill:#1f77b4;\"/>\r\n   </g>\r\n   <g id=\"patch_31\">\r\n    <path clip-path=\"url(#p8fd74fd0a7)\" d=\"M 1552.425 550.8 \r\nL 1554.879545 550.8 \r\nL 1554.879545 326.923552 \r\nL 1552.425 326.923552 \r\nz\r\n\" style=\"fill:#1f77b4;\"/>\r\n   </g>\r\n   <g id=\"patch_32\">\r\n    <path clip-path=\"url(#p8fd74fd0a7)\" d=\"M 1606.425 550.8 \r\nL 1608.879545 550.8 \r\nL 1608.879545 319.927413 \r\nL 1606.425 319.927413 \r\nz\r\n\" style=\"fill:#1f77b4;\"/>\r\n   </g>\r\n   <g id=\"patch_33\">\r\n    <path clip-path=\"url(#p8fd74fd0a7)\" d=\"M 1660.425 550.8 \r\nL 1662.879545 550.8 \r\nL 1662.879545 256.962162 \r\nL 1660.425 256.962162 \r\nz\r\n\" style=\"fill:#1f77b4;\"/>\r\n   </g>\r\n   <g id=\"patch_34\">\r\n    <path clip-path=\"url(#p8fd74fd0a7)\" d=\"M 42.879545 550.8 \r\nL 45.334091 550.8 \r\nL 45.334091 368.900386 \r\nL 42.879545 368.900386 \r\nz\r\n\" style=\"fill:#ff7f0e;\"/>\r\n   </g>\r\n   <g id=\"patch_35\">\r\n    <path clip-path=\"url(#p8fd74fd0a7)\" d=\"M 96.879545 550.8 \r\nL 99.334091 550.8 \r\nL 99.334091 403.881081 \r\nL 96.879545 403.881081 \r\nz\r\n\" style=\"fill:#ff7f0e;\"/>\r\n   </g>\r\n   <g id=\"patch_36\">\r\n    <path clip-path=\"url(#p8fd74fd0a7)\" d=\"M 150.879545 550.8 \r\nL 153.334091 550.8 \r\nL 153.334091 228.977606 \r\nL 150.879545 228.977606 \r\nz\r\n\" style=\"fill:#ff7f0e;\"/>\r\n   </g>\r\n   <g id=\"patch_37\">\r\n    <path clip-path=\"url(#p8fd74fd0a7)\" d=\"M 204.879545 550.8 \r\nL 207.334091 550.8 \r\nL 207.334091 263.958301 \r\nL 204.879545 263.958301 \r\nz\r\n\" style=\"fill:#ff7f0e;\"/>\r\n   </g>\r\n   <g id=\"patch_38\">\r\n    <path clip-path=\"url(#p8fd74fd0a7)\" d=\"M 258.879545 550.8 \r\nL 261.334091 550.8 \r\nL 261.334091 166.012355 \r\nL 258.879545 166.012355 \r\nz\r\n\" style=\"fill:#ff7f0e;\"/>\r\n   </g>\r\n   <g id=\"patch_39\">\r\n    <path clip-path=\"url(#p8fd74fd0a7)\" d=\"M 312.879545 550.8 \r\nL 315.334091 550.8 \r\nL 315.334091 347.911969 \r\nL 312.879545 347.911969 \r\nz\r\n\" style=\"fill:#ff7f0e;\"/>\r\n   </g>\r\n   <g id=\"patch_40\">\r\n    <path clip-path=\"url(#p8fd74fd0a7)\" d=\"M 366.879545 550.8 \r\nL 369.334091 550.8 \r\nL 369.334091 494.830888 \r\nL 366.879545 494.830888 \r\nz\r\n\" style=\"fill:#ff7f0e;\"/>\r\n   </g>\r\n   <g id=\"patch_41\">\r\n    <path clip-path=\"url(#p8fd74fd0a7)\" d=\"M 420.879545 550.8 \r\nL 423.334091 550.8 \r\nL 423.334091 347.911969 \r\nL 420.879545 347.911969 \r\nz\r\n\" style=\"fill:#ff7f0e;\"/>\r\n   </g>\r\n   <g id=\"patch_42\">\r\n    <path clip-path=\"url(#p8fd74fd0a7)\" d=\"M 474.879545 550.8 \r\nL 477.334091 550.8 \r\nL 477.334091 263.958301 \r\nL 474.879545 263.958301 \r\nz\r\n\" style=\"fill:#ff7f0e;\"/>\r\n   </g>\r\n   <g id=\"patch_43\">\r\n    <path clip-path=\"url(#p8fd74fd0a7)\" d=\"M 528.879545 550.8 \r\nL 531.334091 550.8 \r\nL 531.334091 431.865637 \r\nL 528.879545 431.865637 \r\nz\r\n\" style=\"fill:#ff7f0e;\"/>\r\n   </g>\r\n   <g id=\"patch_44\">\r\n    <path clip-path=\"url(#p8fd74fd0a7)\" d=\"M 582.879545 550.8 \r\nL 585.334091 550.8 \r\nL 585.334091 368.900386 \r\nL 582.879545 368.900386 \r\nz\r\n\" style=\"fill:#ff7f0e;\"/>\r\n   </g>\r\n   <g id=\"patch_45\">\r\n    <path clip-path=\"url(#p8fd74fd0a7)\" d=\"M 636.879545 550.8 \r\nL 639.334091 550.8 \r\nL 639.334091 396.884942 \r\nL 636.879545 396.884942 \r\nz\r\n\" style=\"fill:#ff7f0e;\"/>\r\n   </g>\r\n   <g id=\"patch_46\">\r\n    <path clip-path=\"url(#p8fd74fd0a7)\" d=\"M 690.879545 550.8 \r\nL 693.334091 550.8 \r\nL 693.334091 193.996911 \r\nL 690.879545 193.996911 \r\nz\r\n\" style=\"fill:#ff7f0e;\"/>\r\n   </g>\r\n   <g id=\"patch_47\">\r\n    <path clip-path=\"url(#p8fd74fd0a7)\" d=\"M 744.879545 550.8 \r\nL 747.334091 550.8 \r\nL 747.334091 340.91583 \r\nL 744.879545 340.91583 \r\nz\r\n\" style=\"fill:#ff7f0e;\"/>\r\n   </g>\r\n   <g id=\"patch_48\">\r\n    <path clip-path=\"url(#p8fd74fd0a7)\" d=\"M 798.879545 550.8 \r\nL 801.334091 550.8 \r\nL 801.334091 375.896525 \r\nL 798.879545 375.896525 \r\nz\r\n\" style=\"fill:#ff7f0e;\"/>\r\n   </g>\r\n   <g id=\"patch_49\">\r\n    <path clip-path=\"url(#p8fd74fd0a7)\" d=\"M 852.879545 550.8 \r\nL 855.334091 550.8 \r\nL 855.334091 319.927413 \r\nL 852.879545 319.927413 \r\nz\r\n\" style=\"fill:#ff7f0e;\"/>\r\n   </g>\r\n   <g id=\"patch_50\">\r\n    <path clip-path=\"url(#p8fd74fd0a7)\" d=\"M 906.879545 550.8 \r\nL 909.334091 550.8 \r\nL 909.334091 249.966023 \r\nL 906.879545 249.966023 \r\nz\r\n\" style=\"fill:#ff7f0e;\"/>\r\n   </g>\r\n   <g id=\"patch_51\">\r\n    <path clip-path=\"url(#p8fd74fd0a7)\" d=\"M 960.879545 550.8 \r\nL 963.334091 550.8 \r\nL 963.334091 200.99305 \r\nL 960.879545 200.99305 \r\nz\r\n\" style=\"fill:#ff7f0e;\"/>\r\n   </g>\r\n   <g id=\"patch_52\">\r\n    <path clip-path=\"url(#p8fd74fd0a7)\" d=\"M 1014.879545 550.8 \r\nL 1017.334091 550.8 \r\nL 1017.334091 347.911969 \r\nL 1014.879545 347.911969 \r\nz\r\n\" style=\"fill:#ff7f0e;\"/>\r\n   </g>\r\n   <g id=\"patch_53\">\r\n    <path clip-path=\"url(#p8fd74fd0a7)\" d=\"M 1068.879545 550.8 \r\nL 1071.334091 550.8 \r\nL 1071.334091 305.935135 \r\nL 1068.879545 305.935135 \r\nz\r\n\" style=\"fill:#ff7f0e;\"/>\r\n   </g>\r\n   <g id=\"patch_54\">\r\n    <path clip-path=\"url(#p8fd74fd0a7)\" d=\"M 1122.879545 550.8 \r\nL 1125.334091 550.8 \r\nL 1125.334091 445.857915 \r\nL 1122.879545 445.857915 \r\nz\r\n\" style=\"fill:#ff7f0e;\"/>\r\n   </g>\r\n   <g id=\"patch_55\">\r\n    <path clip-path=\"url(#p8fd74fd0a7)\" d=\"M 1176.879545 550.8 \r\nL 1179.334091 550.8 \r\nL 1179.334091 131.03166 \r\nL 1176.879545 131.03166 \r\nz\r\n\" style=\"fill:#ff7f0e;\"/>\r\n   </g>\r\n   <g id=\"patch_56\">\r\n    <path clip-path=\"url(#p8fd74fd0a7)\" d=\"M 1230.879545 550.8 \r\nL 1233.334091 550.8 \r\nL 1233.334091 263.958301 \r\nL 1230.879545 263.958301 \r\nz\r\n\" style=\"fill:#ff7f0e;\"/>\r\n   </g>\r\n   <g id=\"patch_57\">\r\n    <path clip-path=\"url(#p8fd74fd0a7)\" d=\"M 1284.879545 550.8 \r\nL 1287.334091 550.8 \r\nL 1287.334091 256.962162 \r\nL 1284.879545 256.962162 \r\nz\r\n\" style=\"fill:#ff7f0e;\"/>\r\n   </g>\r\n   <g id=\"patch_58\">\r\n    <path clip-path=\"url(#p8fd74fd0a7)\" d=\"M 1338.879545 550.8 \r\nL 1341.334091 550.8 \r\nL 1341.334091 166.012355 \r\nL 1338.879545 166.012355 \r\nz\r\n\" style=\"fill:#ff7f0e;\"/>\r\n   </g>\r\n   <g id=\"patch_59\">\r\n    <path clip-path=\"url(#p8fd74fd0a7)\" d=\"M 1392.879545 550.8 \r\nL 1395.334091 550.8 \r\nL 1395.334091 207.989189 \r\nL 1392.879545 207.989189 \r\nz\r\n\" style=\"fill:#ff7f0e;\"/>\r\n   </g>\r\n   <g id=\"patch_60\">\r\n    <path clip-path=\"url(#p8fd74fd0a7)\" d=\"M 1446.879545 550.8 \r\nL 1449.334091 550.8 \r\nL 1449.334091 277.950579 \r\nL 1446.879545 277.950579 \r\nz\r\n\" style=\"fill:#ff7f0e;\"/>\r\n   </g>\r\n   <g id=\"patch_61\">\r\n    <path clip-path=\"url(#p8fd74fd0a7)\" d=\"M 1500.879545 550.8 \r\nL 1503.334091 550.8 \r\nL 1503.334091 291.942857 \r\nL 1500.879545 291.942857 \r\nz\r\n\" style=\"fill:#ff7f0e;\"/>\r\n   </g>\r\n   <g id=\"patch_62\">\r\n    <path clip-path=\"url(#p8fd74fd0a7)\" d=\"M 1554.879545 550.8 \r\nL 1557.334091 550.8 \r\nL 1557.334091 382.892664 \r\nL 1554.879545 382.892664 \r\nz\r\n\" style=\"fill:#ff7f0e;\"/>\r\n   </g>\r\n   <g id=\"patch_63\">\r\n    <path clip-path=\"url(#p8fd74fd0a7)\" d=\"M 1608.879545 550.8 \r\nL 1611.334091 550.8 \r\nL 1611.334091 452.854054 \r\nL 1608.879545 452.854054 \r\nz\r\n\" style=\"fill:#ff7f0e;\"/>\r\n   </g>\r\n   <g id=\"patch_64\">\r\n    <path clip-path=\"url(#p8fd74fd0a7)\" d=\"M 1662.879545 550.8 \r\nL 1665.334091 550.8 \r\nL 1665.334091 375.896525 \r\nL 1662.879545 375.896525 \r\nz\r\n\" style=\"fill:#ff7f0e;\"/>\r\n   </g>\r\n   <g id=\"patch_65\">\r\n    <path clip-path=\"url(#p8fd74fd0a7)\" d=\"M 45.334091 550.8 \r\nL 47.788636 550.8 \r\nL 47.788636 480.83861 \r\nL 45.334091 480.83861 \r\nz\r\n\" style=\"fill:#2ca02c;\"/>\r\n   </g>\r\n   <g id=\"patch_66\">\r\n    <path clip-path=\"url(#p8fd74fd0a7)\" d=\"M 99.334091 550.8 \r\nL 101.788636 550.8 \r\nL 101.788636 494.830888 \r\nL 99.334091 494.830888 \r\nz\r\n\" style=\"fill:#2ca02c;\"/>\r\n   </g>\r\n   <g id=\"patch_67\">\r\n    <path clip-path=\"url(#p8fd74fd0a7)\" d=\"M 153.334091 550.8 \r\nL 155.788636 550.8 \r\nL 155.788636 501.827027 \r\nL 153.334091 501.827027 \r\nz\r\n\" style=\"fill:#2ca02c;\"/>\r\n   </g>\r\n   <g id=\"patch_68\">\r\n    <path clip-path=\"url(#p8fd74fd0a7)\" d=\"M 207.334091 550.8 \r\nL 209.788636 550.8 \r\nL 209.788636 522.815444 \r\nL 207.334091 522.815444 \r\nz\r\n\" style=\"fill:#2ca02c;\"/>\r\n   </g>\r\n   <g id=\"patch_69\">\r\n    <path clip-path=\"url(#p8fd74fd0a7)\" d=\"M 261.334091 550.8 \r\nL 263.788636 550.8 \r\nL 263.788636 501.827027 \r\nL 261.334091 501.827027 \r\nz\r\n\" style=\"fill:#2ca02c;\"/>\r\n   </g>\r\n   <g id=\"patch_70\">\r\n    <path clip-path=\"url(#p8fd74fd0a7)\" d=\"M 315.334091 550.8 \r\nL 317.788636 550.8 \r\nL 317.788636 459.850193 \r\nL 315.334091 459.850193 \r\nz\r\n\" style=\"fill:#2ca02c;\"/>\r\n   </g>\r\n   <g id=\"patch_71\">\r\n    <path clip-path=\"url(#p8fd74fd0a7)\" d=\"M 369.334091 550.8 \r\nL 371.788636 550.8 \r\nL 371.788636 389.888803 \r\nL 369.334091 389.888803 \r\nz\r\n\" style=\"fill:#2ca02c;\"/>\r\n   </g>\r\n   <g id=\"patch_72\">\r\n    <path clip-path=\"url(#p8fd74fd0a7)\" d=\"M 423.334091 550.8 \r\nL 425.788636 550.8 \r\nL 425.788636 487.834749 \r\nL 423.334091 487.834749 \r\nz\r\n\" style=\"fill:#2ca02c;\"/>\r\n   </g>\r\n   <g id=\"patch_73\">\r\n    <path clip-path=\"url(#p8fd74fd0a7)\" d=\"M 477.334091 550.8 \r\nL 479.788636 550.8 \r\nL 479.788636 508.823166 \r\nL 477.334091 508.823166 \r\nz\r\n\" style=\"fill:#2ca02c;\"/>\r\n   </g>\r\n   <g id=\"patch_74\">\r\n    <path clip-path=\"url(#p8fd74fd0a7)\" d=\"M 531.334091 550.8 \r\nL 533.788636 550.8 \r\nL 533.788636 438.861776 \r\nL 531.334091 438.861776 \r\nz\r\n\" style=\"fill:#2ca02c;\"/>\r\n   </g>\r\n   <g id=\"patch_75\">\r\n    <path clip-path=\"url(#p8fd74fd0a7)\" d=\"M 585.334091 550.8 \r\nL 587.788636 550.8 \r\nL 587.788636 508.823166 \r\nL 585.334091 508.823166 \r\nz\r\n\" style=\"fill:#2ca02c;\"/>\r\n   </g>\r\n   <g id=\"patch_76\">\r\n    <path clip-path=\"url(#p8fd74fd0a7)\" d=\"M 639.334091 550.8 \r\nL 641.788636 550.8 \r\nL 641.788636 480.83861 \r\nL 639.334091 480.83861 \r\nz\r\n\" style=\"fill:#2ca02c;\"/>\r\n   </g>\r\n   <g id=\"patch_77\">\r\n    <path clip-path=\"url(#p8fd74fd0a7)\" d=\"M 693.334091 550.8 \r\nL 695.788636 550.8 \r\nL 695.788636 515.819305 \r\nL 693.334091 515.819305 \r\nz\r\n\" style=\"fill:#2ca02c;\"/>\r\n   </g>\r\n   <g id=\"patch_78\">\r\n    <path clip-path=\"url(#p8fd74fd0a7)\" d=\"M 747.334091 550.8 \r\nL 749.788636 550.8 \r\nL 749.788636 508.823166 \r\nL 747.334091 508.823166 \r\nz\r\n\" style=\"fill:#2ca02c;\"/>\r\n   </g>\r\n   <g id=\"patch_79\">\r\n    <path clip-path=\"url(#p8fd74fd0a7)\" d=\"M 801.334091 550.8 \r\nL 803.788636 550.8 \r\nL 803.788636 487.834749 \r\nL 801.334091 487.834749 \r\nz\r\n\" style=\"fill:#2ca02c;\"/>\r\n   </g>\r\n   <g id=\"patch_80\">\r\n    <path clip-path=\"url(#p8fd74fd0a7)\" d=\"M 855.334091 550.8 \r\nL 857.788636 550.8 \r\nL 857.788636 459.850193 \r\nL 855.334091 459.850193 \r\nz\r\n\" style=\"fill:#2ca02c;\"/>\r\n   </g>\r\n   <g id=\"patch_81\">\r\n    <path clip-path=\"url(#p8fd74fd0a7)\" d=\"M 909.334091 550.8 \r\nL 911.788636 550.8 \r\nL 911.788636 515.819305 \r\nL 909.334091 515.819305 \r\nz\r\n\" style=\"fill:#2ca02c;\"/>\r\n   </g>\r\n   <g id=\"patch_82\">\r\n    <path clip-path=\"url(#p8fd74fd0a7)\" d=\"M 963.334091 550.8 \r\nL 965.788636 550.8 \r\nL 965.788636 501.827027 \r\nL 963.334091 501.827027 \r\nz\r\n\" style=\"fill:#2ca02c;\"/>\r\n   </g>\r\n   <g id=\"patch_83\">\r\n    <path clip-path=\"url(#p8fd74fd0a7)\" d=\"M 1017.334091 550.8 \r\nL 1019.788636 550.8 \r\nL 1019.788636 466.846332 \r\nL 1017.334091 466.846332 \r\nz\r\n\" style=\"fill:#2ca02c;\"/>\r\n   </g>\r\n   <g id=\"patch_84\">\r\n    <path clip-path=\"url(#p8fd74fd0a7)\" d=\"M 1071.334091 550.8 \r\nL 1073.788636 550.8 \r\nL 1073.788636 466.846332 \r\nL 1071.334091 466.846332 \r\nz\r\n\" style=\"fill:#2ca02c;\"/>\r\n   </g>\r\n   <g id=\"patch_85\">\r\n    <path clip-path=\"url(#p8fd74fd0a7)\" d=\"M 1125.334091 550.8 \r\nL 1127.788636 550.8 \r\nL 1127.788636 459.850193 \r\nL 1125.334091 459.850193 \r\nz\r\n\" style=\"fill:#2ca02c;\"/>\r\n   </g>\r\n   <g id=\"patch_86\">\r\n    <path clip-path=\"url(#p8fd74fd0a7)\" d=\"M 1179.334091 550.8 \r\nL 1181.788636 550.8 \r\nL 1181.788636 501.827027 \r\nL 1179.334091 501.827027 \r\nz\r\n\" style=\"fill:#2ca02c;\"/>\r\n   </g>\r\n   <g id=\"patch_87\">\r\n    <path clip-path=\"url(#p8fd74fd0a7)\" d=\"M 1233.334091 550.8 \r\nL 1235.788636 550.8 \r\nL 1235.788636 515.819305 \r\nL 1233.334091 515.819305 \r\nz\r\n\" style=\"fill:#2ca02c;\"/>\r\n   </g>\r\n   <g id=\"patch_88\">\r\n    <path clip-path=\"url(#p8fd74fd0a7)\" d=\"M 1287.334091 550.8 \r\nL 1289.788636 550.8 \r\nL 1289.788636 445.857915 \r\nL 1287.334091 445.857915 \r\nz\r\n\" style=\"fill:#2ca02c;\"/>\r\n   </g>\r\n   <g id=\"patch_89\">\r\n    <path clip-path=\"url(#p8fd74fd0a7)\" d=\"M 1341.334091 550.8 \r\nL 1343.788636 550.8 \r\nL 1343.788636 508.823166 \r\nL 1341.334091 508.823166 \r\nz\r\n\" style=\"fill:#2ca02c;\"/>\r\n   </g>\r\n   <g id=\"patch_90\">\r\n    <path clip-path=\"url(#p8fd74fd0a7)\" d=\"M 1395.334091 550.8 \r\nL 1397.788636 550.8 \r\nL 1397.788636 508.823166 \r\nL 1395.334091 508.823166 \r\nz\r\n\" style=\"fill:#2ca02c;\"/>\r\n   </g>\r\n   <g id=\"patch_91\">\r\n    <path clip-path=\"url(#p8fd74fd0a7)\" d=\"M 1449.334091 550.8 \r\nL 1451.788636 550.8 \r\nL 1451.788636 508.823166 \r\nL 1449.334091 508.823166 \r\nz\r\n\" style=\"fill:#2ca02c;\"/>\r\n   </g>\r\n   <g id=\"patch_92\">\r\n    <path clip-path=\"url(#p8fd74fd0a7)\" d=\"M 1503.334091 550.8 \r\nL 1505.788636 550.8 \r\nL 1505.788636 501.827027 \r\nL 1503.334091 501.827027 \r\nz\r\n\" style=\"fill:#2ca02c;\"/>\r\n   </g>\r\n   <g id=\"patch_93\">\r\n    <path clip-path=\"url(#p8fd74fd0a7)\" d=\"M 1557.334091 550.8 \r\nL 1559.788636 550.8 \r\nL 1559.788636 445.857915 \r\nL 1557.334091 445.857915 \r\nz\r\n\" style=\"fill:#2ca02c;\"/>\r\n   </g>\r\n   <g id=\"patch_94\">\r\n    <path clip-path=\"url(#p8fd74fd0a7)\" d=\"M 1611.334091 550.8 \r\nL 1613.788636 550.8 \r\nL 1613.788636 466.846332 \r\nL 1611.334091 466.846332 \r\nz\r\n\" style=\"fill:#2ca02c;\"/>\r\n   </g>\r\n   <g id=\"patch_95\">\r\n    <path clip-path=\"url(#p8fd74fd0a7)\" d=\"M 1665.334091 550.8 \r\nL 1667.788636 550.8 \r\nL 1667.788636 487.834749 \r\nL 1665.334091 487.834749 \r\nz\r\n\" style=\"fill:#2ca02c;\"/>\r\n   </g>\r\n   <g id=\"patch_96\">\r\n    <path clip-path=\"url(#p8fd74fd0a7)\" d=\"M 47.788636 550.8 \r\nL 50.243182 550.8 \r\nL 50.243182 396.884942 \r\nL 47.788636 396.884942 \r\nz\r\n\" style=\"fill:#d62728;\"/>\r\n   </g>\r\n   <g id=\"patch_97\">\r\n    <path clip-path=\"url(#p8fd74fd0a7)\" d=\"M 101.788636 550.8 \r\nL 104.243182 550.8 \r\nL 104.243182 431.865637 \r\nL 101.788636 431.865637 \r\nz\r\n\" style=\"fill:#d62728;\"/>\r\n   </g>\r\n   <g id=\"patch_98\">\r\n    <path clip-path=\"url(#p8fd74fd0a7)\" d=\"M 155.788636 550.8 \r\nL 158.243182 550.8 \r\nL 158.243182 256.962162 \r\nL 155.788636 256.962162 \r\nz\r\n\" style=\"fill:#d62728;\"/>\r\n   </g>\r\n   <g id=\"patch_99\">\r\n    <path clip-path=\"url(#p8fd74fd0a7)\" d=\"M 209.788636 550.8 \r\nL 212.243182 550.8 \r\nL 212.243182 221.981467 \r\nL 209.788636 221.981467 \r\nz\r\n\" style=\"fill:#d62728;\"/>\r\n   </g>\r\n   <g id=\"patch_100\">\r\n    <path clip-path=\"url(#p8fd74fd0a7)\" d=\"M 263.788636 550.8 \r\nL 266.243182 550.8 \r\nL 266.243182 263.958301 \r\nL 263.788636 263.958301 \r\nz\r\n\" style=\"fill:#d62728;\"/>\r\n   </g>\r\n   <g id=\"patch_101\">\r\n    <path clip-path=\"url(#p8fd74fd0a7)\" d=\"M 317.788636 550.8 \r\nL 320.243182 550.8 \r\nL 320.243182 368.900386 \r\nL 317.788636 368.900386 \r\nz\r\n\" style=\"fill:#d62728;\"/>\r\n   </g>\r\n   <g id=\"patch_102\">\r\n    <path clip-path=\"url(#p8fd74fd0a7)\" d=\"M 371.788636 550.8 \r\nL 374.243182 550.8 \r\nL 374.243182 508.823166 \r\nL 371.788636 508.823166 \r\nz\r\n\" style=\"fill:#d62728;\"/>\r\n   </g>\r\n   <g id=\"patch_103\">\r\n    <path clip-path=\"url(#p8fd74fd0a7)\" d=\"M 425.788636 550.8 \r\nL 428.243182 550.8 \r\nL 428.243182 361.904247 \r\nL 425.788636 361.904247 \r\nz\r\n\" style=\"fill:#d62728;\"/>\r\n   </g>\r\n   <g id=\"patch_104\">\r\n    <path clip-path=\"url(#p8fd74fd0a7)\" d=\"M 479.788636 550.8 \r\nL 482.243182 550.8 \r\nL 482.243182 326.923552 \r\nL 479.788636 326.923552 \r\nz\r\n\" style=\"fill:#d62728;\"/>\r\n   </g>\r\n   <g id=\"patch_105\">\r\n    <path clip-path=\"url(#p8fd74fd0a7)\" d=\"M 533.788636 550.8 \r\nL 536.243182 550.8 \r\nL 536.243182 431.865637 \r\nL 533.788636 431.865637 \r\nz\r\n\" style=\"fill:#d62728;\"/>\r\n   </g>\r\n   <g id=\"patch_106\">\r\n    <path clip-path=\"url(#p8fd74fd0a7)\" d=\"M 587.788636 550.8 \r\nL 590.243182 550.8 \r\nL 590.243182 368.900386 \r\nL 587.788636 368.900386 \r\nz\r\n\" style=\"fill:#d62728;\"/>\r\n   </g>\r\n   <g id=\"patch_107\">\r\n    <path clip-path=\"url(#p8fd74fd0a7)\" d=\"M 641.788636 550.8 \r\nL 644.243182 550.8 \r\nL 644.243182 410.87722 \r\nL 641.788636 410.87722 \r\nz\r\n\" style=\"fill:#d62728;\"/>\r\n   </g>\r\n   <g id=\"patch_108\">\r\n    <path clip-path=\"url(#p8fd74fd0a7)\" d=\"M 695.788636 550.8 \r\nL 698.243182 550.8 \r\nL 698.243182 312.931274 \r\nL 695.788636 312.931274 \r\nz\r\n\" style=\"fill:#d62728;\"/>\r\n   </g>\r\n   <g id=\"patch_109\">\r\n    <path clip-path=\"url(#p8fd74fd0a7)\" d=\"M 749.788636 550.8 \r\nL 752.243182 550.8 \r\nL 752.243182 228.977606 \r\nL 749.788636 228.977606 \r\nz\r\n\" style=\"fill:#d62728;\"/>\r\n   </g>\r\n   <g id=\"patch_110\">\r\n    <path clip-path=\"url(#p8fd74fd0a7)\" d=\"M 803.788636 550.8 \r\nL 806.243182 550.8 \r\nL 806.243182 438.861776 \r\nL 803.788636 438.861776 \r\nz\r\n\" style=\"fill:#d62728;\"/>\r\n   </g>\r\n   <g id=\"patch_111\">\r\n    <path clip-path=\"url(#p8fd74fd0a7)\" d=\"M 857.788636 550.8 \r\nL 860.243182 550.8 \r\nL 860.243182 403.881081 \r\nL 857.788636 403.881081 \r\nz\r\n\" style=\"fill:#d62728;\"/>\r\n   </g>\r\n   <g id=\"patch_112\">\r\n    <path clip-path=\"url(#p8fd74fd0a7)\" d=\"M 911.788636 550.8 \r\nL 914.243182 550.8 \r\nL 914.243182 256.962162 \r\nL 911.788636 256.962162 \r\nz\r\n\" style=\"fill:#d62728;\"/>\r\n   </g>\r\n   <g id=\"patch_113\">\r\n    <path clip-path=\"url(#p8fd74fd0a7)\" d=\"M 965.788636 550.8 \r\nL 968.243182 550.8 \r\nL 968.243182 249.966023 \r\nL 965.788636 249.966023 \r\nz\r\n\" style=\"fill:#d62728;\"/>\r\n   </g>\r\n   <g id=\"patch_114\">\r\n    <path clip-path=\"url(#p8fd74fd0a7)\" d=\"M 1019.788636 550.8 \r\nL 1022.243182 550.8 \r\nL 1022.243182 417.873359 \r\nL 1019.788636 417.873359 \r\nz\r\n\" style=\"fill:#d62728;\"/>\r\n   </g>\r\n   <g id=\"patch_115\">\r\n    <path clip-path=\"url(#p8fd74fd0a7)\" d=\"M 1073.788636 550.8 \r\nL 1076.243182 550.8 \r\nL 1076.243182 382.892664 \r\nL 1073.788636 382.892664 \r\nz\r\n\" style=\"fill:#d62728;\"/>\r\n   </g>\r\n   <g id=\"patch_116\">\r\n    <path clip-path=\"url(#p8fd74fd0a7)\" d=\"M 1127.788636 550.8 \r\nL 1130.243182 550.8 \r\nL 1130.243182 480.83861 \r\nL 1127.788636 480.83861 \r\nz\r\n\" style=\"fill:#d62728;\"/>\r\n   </g>\r\n   <g id=\"patch_117\">\r\n    <path clip-path=\"url(#p8fd74fd0a7)\" d=\"M 1181.788636 550.8 \r\nL 1184.243182 550.8 \r\nL 1184.243182 207.989189 \r\nL 1181.788636 207.989189 \r\nz\r\n\" style=\"fill:#d62728;\"/>\r\n   </g>\r\n   <g id=\"patch_118\">\r\n    <path clip-path=\"url(#p8fd74fd0a7)\" d=\"M 1235.788636 550.8 \r\nL 1238.243182 550.8 \r\nL 1238.243182 193.996911 \r\nL 1235.788636 193.996911 \r\nz\r\n\" style=\"fill:#d62728;\"/>\r\n   </g>\r\n   <g id=\"patch_119\">\r\n    <path clip-path=\"url(#p8fd74fd0a7)\" d=\"M 1289.788636 550.8 \r\nL 1292.243182 550.8 \r\nL 1292.243182 375.896525 \r\nL 1289.788636 375.896525 \r\nz\r\n\" style=\"fill:#d62728;\"/>\r\n   </g>\r\n   <g id=\"patch_120\">\r\n    <path clip-path=\"url(#p8fd74fd0a7)\" d=\"M 1343.788636 550.8 \r\nL 1346.243182 550.8 \r\nL 1346.243182 173.008494 \r\nL 1343.788636 173.008494 \r\nz\r\n\" style=\"fill:#d62728;\"/>\r\n   </g>\r\n   <g id=\"patch_121\">\r\n    <path clip-path=\"url(#p8fd74fd0a7)\" d=\"M 1397.788636 550.8 \r\nL 1400.243182 550.8 \r\nL 1400.243182 263.958301 \r\nL 1397.788636 263.958301 \r\nz\r\n\" style=\"fill:#d62728;\"/>\r\n   </g>\r\n   <g id=\"patch_122\">\r\n    <path clip-path=\"url(#p8fd74fd0a7)\" d=\"M 1451.788636 550.8 \r\nL 1454.243182 550.8 \r\nL 1454.243182 228.977606 \r\nL 1451.788636 228.977606 \r\nz\r\n\" style=\"fill:#d62728;\"/>\r\n   </g>\r\n   <g id=\"patch_123\">\r\n    <path clip-path=\"url(#p8fd74fd0a7)\" d=\"M 1505.788636 550.8 \r\nL 1508.243182 550.8 \r\nL 1508.243182 347.911969 \r\nL 1505.788636 347.911969 \r\nz\r\n\" style=\"fill:#d62728;\"/>\r\n   </g>\r\n   <g id=\"patch_124\">\r\n    <path clip-path=\"url(#p8fd74fd0a7)\" d=\"M 1559.788636 550.8 \r\nL 1562.243182 550.8 \r\nL 1562.243182 431.865637 \r\nL 1559.788636 431.865637 \r\nz\r\n\" style=\"fill:#d62728;\"/>\r\n   </g>\r\n   <g id=\"patch_125\">\r\n    <path clip-path=\"url(#p8fd74fd0a7)\" d=\"M 1613.788636 550.8 \r\nL 1616.243182 550.8 \r\nL 1616.243182 431.865637 \r\nL 1613.788636 431.865637 \r\nz\r\n\" style=\"fill:#d62728;\"/>\r\n   </g>\r\n   <g id=\"patch_126\">\r\n    <path clip-path=\"url(#p8fd74fd0a7)\" d=\"M 1667.788636 550.8 \r\nL 1670.243182 550.8 \r\nL 1670.243182 410.87722 \r\nL 1667.788636 410.87722 \r\nz\r\n\" style=\"fill:#d62728;\"/>\r\n   </g>\r\n   <g id=\"patch_127\">\r\n    <path clip-path=\"url(#p8fd74fd0a7)\" d=\"M 50.243182 550.8 \r\nL 52.697727 550.8 \r\nL 52.697727 207.989189 \r\nL 50.243182 207.989189 \r\nz\r\n\" style=\"fill:#9467bd;\"/>\r\n   </g>\r\n   <g id=\"patch_128\">\r\n    <path clip-path=\"url(#p8fd74fd0a7)\" d=\"M 104.243182 550.8 \r\nL 106.697727 550.8 \r\nL 106.697727 54.074131 \r\nL 104.243182 54.074131 \r\nz\r\n\" style=\"fill:#9467bd;\"/>\r\n   </g>\r\n   <g id=\"patch_129\">\r\n    <path clip-path=\"url(#p8fd74fd0a7)\" d=\"M 158.243182 550.8 \r\nL 160.697727 550.8 \r\nL 160.697727 124.035521 \r\nL 158.243182 124.035521 \r\nz\r\n\" style=\"fill:#9467bd;\"/>\r\n   </g>\r\n   <g id=\"patch_130\">\r\n    <path clip-path=\"url(#p8fd74fd0a7)\" d=\"M 212.243182 550.8 \r\nL 214.697727 550.8 \r\nL 214.697727 33.085714 \r\nL 212.243182 33.085714 \r\nz\r\n\" style=\"fill:#9467bd;\"/>\r\n   </g>\r\n   <g id=\"patch_131\">\r\n    <path clip-path=\"url(#p8fd74fd0a7)\" d=\"M 266.243182 550.8 \r\nL 268.697727 550.8 \r\nL 268.697727 124.035521 \r\nL 266.243182 124.035521 \r\nz\r\n\" style=\"fill:#9467bd;\"/>\r\n   </g>\r\n   <g id=\"patch_132\">\r\n    <path clip-path=\"url(#p8fd74fd0a7)\" d=\"M 320.243182 550.8 \r\nL 322.697727 550.8 \r\nL 322.697727 228.977606 \r\nL 320.243182 228.977606 \r\nz\r\n\" style=\"fill:#9467bd;\"/>\r\n   </g>\r\n   <g id=\"patch_133\">\r\n    <path clip-path=\"url(#p8fd74fd0a7)\" d=\"M 374.243182 550.8 \r\nL 376.697727 550.8 \r\nL 376.697727 235.973745 \r\nL 374.243182 235.973745 \r\nz\r\n\" style=\"fill:#9467bd;\"/>\r\n   </g>\r\n   <g id=\"patch_134\">\r\n    <path clip-path=\"url(#p8fd74fd0a7)\" d=\"M 428.243182 550.8 \r\nL 430.697727 550.8 \r\nL 430.697727 145.023938 \r\nL 428.243182 145.023938 \r\nz\r\n\" style=\"fill:#9467bd;\"/>\r\n   </g>\r\n   <g id=\"patch_135\">\r\n    <path clip-path=\"url(#p8fd74fd0a7)\" d=\"M 482.243182 550.8 \r\nL 484.697727 550.8 \r\nL 484.697727 82.058687 \r\nL 482.243182 82.058687 \r\nz\r\n\" style=\"fill:#9467bd;\"/>\r\n   </g>\r\n   <g id=\"patch_136\">\r\n    <path clip-path=\"url(#p8fd74fd0a7)\" d=\"M 536.243182 550.8 \r\nL 538.697727 550.8 \r\nL 538.697727 166.012355 \r\nL 536.243182 166.012355 \r\nz\r\n\" style=\"fill:#9467bd;\"/>\r\n   </g>\r\n   <g id=\"patch_137\">\r\n    <path clip-path=\"url(#p8fd74fd0a7)\" d=\"M 590.243182 550.8 \r\nL 592.697727 550.8 \r\nL 592.697727 61.07027 \r\nL 590.243182 61.07027 \r\nz\r\n\" style=\"fill:#9467bd;\"/>\r\n   </g>\r\n   <g id=\"patch_138\">\r\n    <path clip-path=\"url(#p8fd74fd0a7)\" d=\"M 644.243182 550.8 \r\nL 646.697727 550.8 \r\nL 646.697727 180.004633 \r\nL 644.243182 180.004633 \r\nz\r\n\" style=\"fill:#9467bd;\"/>\r\n   </g>\r\n   <g id=\"patch_139\">\r\n    <path clip-path=\"url(#p8fd74fd0a7)\" d=\"M 698.243182 550.8 \r\nL 700.697727 550.8 \r\nL 700.697727 173.008494 \r\nL 698.243182 173.008494 \r\nz\r\n\" style=\"fill:#9467bd;\"/>\r\n   </g>\r\n   <g id=\"patch_140\">\r\n    <path clip-path=\"url(#p8fd74fd0a7)\" d=\"M 752.243182 550.8 \r\nL 754.697727 550.8 \r\nL 754.697727 117.039382 \r\nL 752.243182 117.039382 \r\nz\r\n\" style=\"fill:#9467bd;\"/>\r\n   </g>\r\n   <g id=\"patch_141\">\r\n    <path clip-path=\"url(#p8fd74fd0a7)\" d=\"M 806.243182 550.8 \r\nL 808.697727 550.8 \r\nL 808.697727 152.020077 \r\nL 806.243182 152.020077 \r\nz\r\n\" style=\"fill:#9467bd;\"/>\r\n   </g>\r\n   <g id=\"patch_142\">\r\n    <path clip-path=\"url(#p8fd74fd0a7)\" d=\"M 860.243182 550.8 \r\nL 862.697727 550.8 \r\nL 862.697727 256.962162 \r\nL 860.243182 256.962162 \r\nz\r\n\" style=\"fill:#9467bd;\"/>\r\n   </g>\r\n   <g id=\"patch_143\">\r\n    <path clip-path=\"url(#p8fd74fd0a7)\" d=\"M 914.243182 550.8 \r\nL 916.697727 550.8 \r\nL 916.697727 89.054826 \r\nL 914.243182 89.054826 \r\nz\r\n\" style=\"fill:#9467bd;\"/>\r\n   </g>\r\n   <g id=\"patch_144\">\r\n    <path clip-path=\"url(#p8fd74fd0a7)\" d=\"M 968.243182 550.8 \r\nL 970.697727 550.8 \r\nL 970.697727 103.047104 \r\nL 968.243182 103.047104 \r\nz\r\n\" style=\"fill:#9467bd;\"/>\r\n   </g>\r\n   <g id=\"patch_145\">\r\n    <path clip-path=\"url(#p8fd74fd0a7)\" d=\"M 1022.243182 550.8 \r\nL 1024.697727 550.8 \r\nL 1024.697727 187.000772 \r\nL 1022.243182 187.000772 \r\nz\r\n\" style=\"fill:#9467bd;\"/>\r\n   </g>\r\n   <g id=\"patch_146\">\r\n    <path clip-path=\"url(#p8fd74fd0a7)\" d=\"M 1076.243182 550.8 \r\nL 1078.697727 550.8 \r\nL 1078.697727 228.977606 \r\nL 1076.243182 228.977606 \r\nz\r\n\" style=\"fill:#9467bd;\"/>\r\n   </g>\r\n   <g id=\"patch_147\">\r\n    <path clip-path=\"url(#p8fd74fd0a7)\" d=\"M 1130.243182 550.8 \r\nL 1132.697727 550.8 \r\nL 1132.697727 124.035521 \r\nL 1130.243182 124.035521 \r\nz\r\n\" style=\"fill:#9467bd;\"/>\r\n   </g>\r\n   <g id=\"patch_148\">\r\n    <path clip-path=\"url(#p8fd74fd0a7)\" d=\"M 1184.243182 550.8 \r\nL 1186.697727 550.8 \r\nL 1186.697727 75.062548 \r\nL 1184.243182 75.062548 \r\nz\r\n\" style=\"fill:#9467bd;\"/>\r\n   </g>\r\n   <g id=\"patch_149\">\r\n    <path clip-path=\"url(#p8fd74fd0a7)\" d=\"M 1238.243182 550.8 \r\nL 1240.697727 550.8 \r\nL 1240.697727 47.077992 \r\nL 1238.243182 47.077992 \r\nz\r\n\" style=\"fill:#9467bd;\"/>\r\n   </g>\r\n   <g id=\"patch_150\">\r\n    <path clip-path=\"url(#p8fd74fd0a7)\" d=\"M 1292.243182 550.8 \r\nL 1294.697727 550.8 \r\nL 1294.697727 291.942857 \r\nL 1292.243182 291.942857 \r\nz\r\n\" style=\"fill:#9467bd;\"/>\r\n   </g>\r\n   <g id=\"patch_151\">\r\n    <path clip-path=\"url(#p8fd74fd0a7)\" d=\"M 1346.243182 550.8 \r\nL 1348.697727 550.8 \r\nL 1348.697727 61.07027 \r\nL 1346.243182 61.07027 \r\nz\r\n\" style=\"fill:#9467bd;\"/>\r\n   </g>\r\n   <g id=\"patch_152\">\r\n    <path clip-path=\"url(#p8fd74fd0a7)\" d=\"M 1400.243182 550.8 \r\nL 1402.697727 550.8 \r\nL 1402.697727 138.027799 \r\nL 1400.243182 138.027799 \r\nz\r\n\" style=\"fill:#9467bd;\"/>\r\n   </g>\r\n   <g id=\"patch_153\">\r\n    <path clip-path=\"url(#p8fd74fd0a7)\" d=\"M 1454.243182 550.8 \r\nL 1456.697727 550.8 \r\nL 1456.697727 103.047104 \r\nL 1454.243182 103.047104 \r\nz\r\n\" style=\"fill:#9467bd;\"/>\r\n   </g>\r\n   <g id=\"patch_154\">\r\n    <path clip-path=\"url(#p8fd74fd0a7)\" d=\"M 1508.243182 550.8 \r\nL 1510.697727 550.8 \r\nL 1510.697727 173.008494 \r\nL 1508.243182 173.008494 \r\nz\r\n\" style=\"fill:#9467bd;\"/>\r\n   </g>\r\n   <g id=\"patch_155\">\r\n    <path clip-path=\"url(#p8fd74fd0a7)\" d=\"M 1562.243182 550.8 \r\nL 1564.697727 550.8 \r\nL 1564.697727 221.981467 \r\nL 1562.243182 221.981467 \r\nz\r\n\" style=\"fill:#9467bd;\"/>\r\n   </g>\r\n   <g id=\"patch_156\">\r\n    <path clip-path=\"url(#p8fd74fd0a7)\" d=\"M 1616.243182 550.8 \r\nL 1618.697727 550.8 \r\nL 1618.697727 131.03166 \r\nL 1616.243182 131.03166 \r\nz\r\n\" style=\"fill:#9467bd;\"/>\r\n   </g>\r\n   <g id=\"patch_157\">\r\n    <path clip-path=\"url(#p8fd74fd0a7)\" d=\"M 1670.243182 550.8 \r\nL 1672.697727 550.8 \r\nL 1672.697727 110.043243 \r\nL 1670.243182 110.043243 \r\nz\r\n\" style=\"fill:#9467bd;\"/>\r\n   </g>\r\n   <g id=\"patch_158\">\r\n    <path clip-path=\"url(#p8fd74fd0a7)\" d=\"M 52.697727 550.8 \r\nL 55.152273 550.8 \r\nL 55.152273 494.830888 \r\nL 52.697727 494.830888 \r\nz\r\n\" style=\"fill:#8c564b;\"/>\r\n   </g>\r\n   <g id=\"patch_159\">\r\n    <path clip-path=\"url(#p8fd74fd0a7)\" d=\"M 106.697727 550.8 \r\nL 109.152273 550.8 \r\nL 109.152273 508.823166 \r\nL 106.697727 508.823166 \r\nz\r\n\" style=\"fill:#8c564b;\"/>\r\n   </g>\r\n   <g id=\"patch_160\">\r\n    <path clip-path=\"url(#p8fd74fd0a7)\" d=\"M 160.697727 550.8 \r\nL 163.152273 550.8 \r\nL 163.152273 361.904247 \r\nL 160.697727 361.904247 \r\nz\r\n\" style=\"fill:#8c564b;\"/>\r\n   </g>\r\n   <g id=\"patch_161\">\r\n    <path clip-path=\"url(#p8fd74fd0a7)\" d=\"M 214.697727 550.8 \r\nL 217.152273 550.8 \r\nL 217.152273 375.896525 \r\nL 214.697727 375.896525 \r\nz\r\n\" style=\"fill:#8c564b;\"/>\r\n   </g>\r\n   <g id=\"patch_162\">\r\n    <path clip-path=\"url(#p8fd74fd0a7)\" d=\"M 268.697727 550.8 \r\nL 271.152273 550.8 \r\nL 271.152273 333.919691 \r\nL 268.697727 333.919691 \r\nz\r\n\" style=\"fill:#8c564b;\"/>\r\n   </g>\r\n   <g id=\"patch_163\">\r\n    <path clip-path=\"url(#p8fd74fd0a7)\" d=\"M 322.697727 550.8 \r\nL 325.152273 550.8 \r\nL 325.152273 494.830888 \r\nL 322.697727 494.830888 \r\nz\r\n\" style=\"fill:#8c564b;\"/>\r\n   </g>\r\n   <g id=\"patch_164\">\r\n    <path clip-path=\"url(#p8fd74fd0a7)\" d=\"M 376.697727 550.8 \r\nL 379.152273 550.8 \r\nL 379.152273 536.807722 \r\nL 376.697727 536.807722 \r\nz\r\n\" style=\"fill:#8c564b;\"/>\r\n   </g>\r\n   <g id=\"patch_165\">\r\n    <path clip-path=\"url(#p8fd74fd0a7)\" d=\"M 430.697727 550.8 \r\nL 433.152273 550.8 \r\nL 433.152273 459.850193 \r\nL 430.697727 459.850193 \r\nz\r\n\" style=\"fill:#8c564b;\"/>\r\n   </g>\r\n   <g id=\"patch_166\">\r\n    <path clip-path=\"url(#p8fd74fd0a7)\" d=\"M 484.697727 550.8 \r\nL 487.152273 550.8 \r\nL 487.152273 382.892664 \r\nL 484.697727 382.892664 \r\nz\r\n\" style=\"fill:#8c564b;\"/>\r\n   </g>\r\n   <g id=\"patch_167\">\r\n    <path clip-path=\"url(#p8fd74fd0a7)\" d=\"M 538.697727 550.8 \r\nL 541.152273 550.8 \r\nL 541.152273 508.823166 \r\nL 538.697727 508.823166 \r\nz\r\n\" style=\"fill:#8c564b;\"/>\r\n   </g>\r\n   <g id=\"patch_168\">\r\n    <path clip-path=\"url(#p8fd74fd0a7)\" d=\"M 592.697727 550.8 \r\nL 595.152273 550.8 \r\nL 595.152273 501.827027 \r\nL 592.697727 501.827027 \r\nz\r\n\" style=\"fill:#8c564b;\"/>\r\n   </g>\r\n   <g id=\"patch_169\">\r\n    <path clip-path=\"url(#p8fd74fd0a7)\" d=\"M 646.697727 550.8 \r\nL 649.152273 550.8 \r\nL 649.152273 494.830888 \r\nL 646.697727 494.830888 \r\nz\r\n\" style=\"fill:#8c564b;\"/>\r\n   </g>\r\n   <g id=\"patch_170\">\r\n    <path clip-path=\"url(#p8fd74fd0a7)\" d=\"M 700.697727 550.8 \r\nL 703.152273 550.8 \r\nL 703.152273 396.884942 \r\nL 700.697727 396.884942 \r\nz\r\n\" style=\"fill:#8c564b;\"/>\r\n   </g>\r\n   <g id=\"patch_171\">\r\n    <path clip-path=\"url(#p8fd74fd0a7)\" d=\"M 754.697727 550.8 \r\nL 757.152273 550.8 \r\nL 757.152273 424.869498 \r\nL 754.697727 424.869498 \r\nz\r\n\" style=\"fill:#8c564b;\"/>\r\n   </g>\r\n   <g id=\"patch_172\">\r\n    <path clip-path=\"url(#p8fd74fd0a7)\" d=\"M 808.697727 550.8 \r\nL 811.152273 550.8 \r\nL 811.152273 452.854054 \r\nL 808.697727 452.854054 \r\nz\r\n\" style=\"fill:#8c564b;\"/>\r\n   </g>\r\n   <g id=\"patch_173\">\r\n    <path clip-path=\"url(#p8fd74fd0a7)\" d=\"M 862.697727 550.8 \r\nL 865.152273 550.8 \r\nL 865.152273 424.869498 \r\nL 862.697727 424.869498 \r\nz\r\n\" style=\"fill:#8c564b;\"/>\r\n   </g>\r\n   <g id=\"patch_174\">\r\n    <path clip-path=\"url(#p8fd74fd0a7)\" d=\"M 916.697727 550.8 \r\nL 919.152273 550.8 \r\nL 919.152273 375.896525 \r\nL 916.697727 375.896525 \r\nz\r\n\" style=\"fill:#8c564b;\"/>\r\n   </g>\r\n   <g id=\"patch_175\">\r\n    <path clip-path=\"url(#p8fd74fd0a7)\" d=\"M 970.697727 550.8 \r\nL 973.152273 550.8 \r\nL 973.152273 333.919691 \r\nL 970.697727 333.919691 \r\nz\r\n\" style=\"fill:#8c564b;\"/>\r\n   </g>\r\n   <g id=\"patch_176\">\r\n    <path clip-path=\"url(#p8fd74fd0a7)\" d=\"M 1024.697727 550.8 \r\nL 1027.152273 550.8 \r\nL 1027.152273 466.846332 \r\nL 1024.697727 466.846332 \r\nz\r\n\" style=\"fill:#8c564b;\"/>\r\n   </g>\r\n   <g id=\"patch_177\">\r\n    <path clip-path=\"url(#p8fd74fd0a7)\" d=\"M 1078.697727 550.8 \r\nL 1081.152273 550.8 \r\nL 1081.152273 403.881081 \r\nL 1078.697727 403.881081 \r\nz\r\n\" style=\"fill:#8c564b;\"/>\r\n   </g>\r\n   <g id=\"patch_178\">\r\n    <path clip-path=\"url(#p8fd74fd0a7)\" d=\"M 1132.697727 550.8 \r\nL 1135.152273 550.8 \r\nL 1135.152273 522.815444 \r\nL 1132.697727 522.815444 \r\nz\r\n\" style=\"fill:#8c564b;\"/>\r\n   </g>\r\n   <g id=\"patch_179\">\r\n    <path clip-path=\"url(#p8fd74fd0a7)\" d=\"M 1186.697727 550.8 \r\nL 1189.152273 550.8 \r\nL 1189.152273 263.958301 \r\nL 1186.697727 263.958301 \r\nz\r\n\" style=\"fill:#8c564b;\"/>\r\n   </g>\r\n   <g id=\"patch_180\">\r\n    <path clip-path=\"url(#p8fd74fd0a7)\" d=\"M 1240.697727 550.8 \r\nL 1243.152273 550.8 \r\nL 1243.152273 417.873359 \r\nL 1240.697727 417.873359 \r\nz\r\n\" style=\"fill:#8c564b;\"/>\r\n   </g>\r\n   <g id=\"patch_181\">\r\n    <path clip-path=\"url(#p8fd74fd0a7)\" d=\"M 1294.697727 550.8 \r\nL 1297.152273 550.8 \r\nL 1297.152273 417.873359 \r\nL 1294.697727 417.873359 \r\nz\r\n\" style=\"fill:#8c564b;\"/>\r\n   </g>\r\n   <g id=\"patch_182\">\r\n    <path clip-path=\"url(#p8fd74fd0a7)\" d=\"M 1348.697727 550.8 \r\nL 1351.152273 550.8 \r\nL 1351.152273 389.888803 \r\nL 1348.697727 389.888803 \r\nz\r\n\" style=\"fill:#8c564b;\"/>\r\n   </g>\r\n   <g id=\"patch_183\">\r\n    <path clip-path=\"url(#p8fd74fd0a7)\" d=\"M 1402.697727 550.8 \r\nL 1405.152273 550.8 \r\nL 1405.152273 312.931274 \r\nL 1402.697727 312.931274 \r\nz\r\n\" style=\"fill:#8c564b;\"/>\r\n   </g>\r\n   <g id=\"patch_184\">\r\n    <path clip-path=\"url(#p8fd74fd0a7)\" d=\"M 1456.697727 550.8 \r\nL 1459.152273 550.8 \r\nL 1459.152273 431.865637 \r\nL 1456.697727 431.865637 \r\nz\r\n\" style=\"fill:#8c564b;\"/>\r\n   </g>\r\n   <g id=\"patch_185\">\r\n    <path clip-path=\"url(#p8fd74fd0a7)\" d=\"M 1510.697727 550.8 \r\nL 1513.152273 550.8 \r\nL 1513.152273 382.892664 \r\nL 1510.697727 382.892664 \r\nz\r\n\" style=\"fill:#8c564b;\"/>\r\n   </g>\r\n   <g id=\"patch_186\">\r\n    <path clip-path=\"url(#p8fd74fd0a7)\" d=\"M 1564.697727 550.8 \r\nL 1567.152273 550.8 \r\nL 1567.152273 466.846332 \r\nL 1564.697727 466.846332 \r\nz\r\n\" style=\"fill:#8c564b;\"/>\r\n   </g>\r\n   <g id=\"patch_187\">\r\n    <path clip-path=\"url(#p8fd74fd0a7)\" d=\"M 1618.697727 550.8 \r\nL 1621.152273 550.8 \r\nL 1621.152273 515.819305 \r\nL 1618.697727 515.819305 \r\nz\r\n\" style=\"fill:#8c564b;\"/>\r\n   </g>\r\n   <g id=\"patch_188\">\r\n    <path clip-path=\"url(#p8fd74fd0a7)\" d=\"M 1672.697727 550.8 \r\nL 1675.152273 550.8 \r\nL 1675.152273 466.846332 \r\nL 1672.697727 466.846332 \r\nz\r\n\" style=\"fill:#8c564b;\"/>\r\n   </g>\r\n   <g id=\"patch_189\">\r\n    <path clip-path=\"url(#p8fd74fd0a7)\" d=\"M 55.152273 550.8 \r\nL 57.606818 550.8 \r\nL 57.606818 424.869498 \r\nL 55.152273 424.869498 \r\nz\r\n\" style=\"fill:#e377c2;\"/>\r\n   </g>\r\n   <g id=\"patch_190\">\r\n    <path clip-path=\"url(#p8fd74fd0a7)\" d=\"M 109.152273 550.8 \r\nL 111.606818 550.8 \r\nL 111.606818 452.854054 \r\nL 109.152273 452.854054 \r\nz\r\n\" style=\"fill:#e377c2;\"/>\r\n   </g>\r\n   <g id=\"patch_191\">\r\n    <path clip-path=\"url(#p8fd74fd0a7)\" d=\"M 163.152273 550.8 \r\nL 165.606818 550.8 \r\nL 165.606818 480.83861 \r\nL 163.152273 480.83861 \r\nz\r\n\" style=\"fill:#e377c2;\"/>\r\n   </g>\r\n   <g id=\"patch_192\">\r\n    <path clip-path=\"url(#p8fd74fd0a7)\" d=\"M 217.152273 550.8 \r\nL 219.606818 550.8 \r\nL 219.606818 480.83861 \r\nL 217.152273 480.83861 \r\nz\r\n\" style=\"fill:#e377c2;\"/>\r\n   </g>\r\n   <g id=\"patch_193\">\r\n    <path clip-path=\"url(#p8fd74fd0a7)\" d=\"M 271.152273 550.8 \r\nL 273.606818 550.8 \r\nL 273.606818 473.842471 \r\nL 271.152273 473.842471 \r\nz\r\n\" style=\"fill:#e377c2;\"/>\r\n   </g>\r\n   <g id=\"patch_194\">\r\n    <path clip-path=\"url(#p8fd74fd0a7)\" d=\"M 325.152273 550.8 \r\nL 327.606818 550.8 \r\nL 327.606818 473.842471 \r\nL 325.152273 473.842471 \r\nz\r\n\" style=\"fill:#e377c2;\"/>\r\n   </g>\r\n   <g id=\"patch_195\">\r\n    <path clip-path=\"url(#p8fd74fd0a7)\" d=\"M 379.152273 550.8 \r\nL 381.606818 550.8 \r\nL 381.606818 438.861776 \r\nL 379.152273 438.861776 \r\nz\r\n\" style=\"fill:#e377c2;\"/>\r\n   </g>\r\n   <g id=\"patch_196\">\r\n    <path clip-path=\"url(#p8fd74fd0a7)\" d=\"M 433.152273 550.8 \r\nL 435.606818 550.8 \r\nL 435.606818 445.857915 \r\nL 433.152273 445.857915 \r\nz\r\n\" style=\"fill:#e377c2;\"/>\r\n   </g>\r\n   <g id=\"patch_197\">\r\n    <path clip-path=\"url(#p8fd74fd0a7)\" d=\"M 487.152273 550.8 \r\nL 489.606818 550.8 \r\nL 489.606818 473.842471 \r\nL 487.152273 473.842471 \r\nz\r\n\" style=\"fill:#e377c2;\"/>\r\n   </g>\r\n   <g id=\"patch_198\">\r\n    <path clip-path=\"url(#p8fd74fd0a7)\" d=\"M 541.152273 550.8 \r\nL 543.606818 550.8 \r\nL 543.606818 452.854054 \r\nL 541.152273 452.854054 \r\nz\r\n\" style=\"fill:#e377c2;\"/>\r\n   </g>\r\n   <g id=\"patch_199\">\r\n    <path clip-path=\"url(#p8fd74fd0a7)\" d=\"M 595.152273 550.8 \r\nL 597.606818 550.8 \r\nL 597.606818 473.842471 \r\nL 595.152273 473.842471 \r\nz\r\n\" style=\"fill:#e377c2;\"/>\r\n   </g>\r\n   <g id=\"patch_200\">\r\n    <path clip-path=\"url(#p8fd74fd0a7)\" d=\"M 649.152273 550.8 \r\nL 651.606818 550.8 \r\nL 651.606818 410.87722 \r\nL 649.152273 410.87722 \r\nz\r\n\" style=\"fill:#e377c2;\"/>\r\n   </g>\r\n   <g id=\"patch_201\">\r\n    <path clip-path=\"url(#p8fd74fd0a7)\" d=\"M 703.152273 550.8 \r\nL 705.606818 550.8 \r\nL 705.606818 494.830888 \r\nL 703.152273 494.830888 \r\nz\r\n\" style=\"fill:#e377c2;\"/>\r\n   </g>\r\n   <g id=\"patch_202\">\r\n    <path clip-path=\"url(#p8fd74fd0a7)\" d=\"M 757.152273 550.8 \r\nL 759.606818 550.8 \r\nL 759.606818 473.842471 \r\nL 757.152273 473.842471 \r\nz\r\n\" style=\"fill:#e377c2;\"/>\r\n   </g>\r\n   <g id=\"patch_203\">\r\n    <path clip-path=\"url(#p8fd74fd0a7)\" d=\"M 811.152273 550.8 \r\nL 813.606818 550.8 \r\nL 813.606818 466.846332 \r\nL 811.152273 466.846332 \r\nz\r\n\" style=\"fill:#e377c2;\"/>\r\n   </g>\r\n   <g id=\"patch_204\">\r\n    <path clip-path=\"url(#p8fd74fd0a7)\" d=\"M 865.152273 550.8 \r\nL 867.606818 550.8 \r\nL 867.606818 459.850193 \r\nL 865.152273 459.850193 \r\nz\r\n\" style=\"fill:#e377c2;\"/>\r\n   </g>\r\n   <g id=\"patch_205\">\r\n    <path clip-path=\"url(#p8fd74fd0a7)\" d=\"M 919.152273 550.8 \r\nL 921.606818 550.8 \r\nL 921.606818 487.834749 \r\nL 919.152273 487.834749 \r\nz\r\n\" style=\"fill:#e377c2;\"/>\r\n   </g>\r\n   <g id=\"patch_206\">\r\n    <path clip-path=\"url(#p8fd74fd0a7)\" d=\"M 973.152273 550.8 \r\nL 975.606818 550.8 \r\nL 975.606818 466.846332 \r\nL 973.152273 466.846332 \r\nz\r\n\" style=\"fill:#e377c2;\"/>\r\n   </g>\r\n   <g id=\"patch_207\">\r\n    <path clip-path=\"url(#p8fd74fd0a7)\" d=\"M 1027.152273 550.8 \r\nL 1029.606818 550.8 \r\nL 1029.606818 403.881081 \r\nL 1027.152273 403.881081 \r\nz\r\n\" style=\"fill:#e377c2;\"/>\r\n   </g>\r\n   <g id=\"patch_208\">\r\n    <path clip-path=\"url(#p8fd74fd0a7)\" d=\"M 1081.152273 550.8 \r\nL 1083.606818 550.8 \r\nL 1083.606818 445.857915 \r\nL 1081.152273 445.857915 \r\nz\r\n\" style=\"fill:#e377c2;\"/>\r\n   </g>\r\n   <g id=\"patch_209\">\r\n    <path clip-path=\"url(#p8fd74fd0a7)\" d=\"M 1135.152273 550.8 \r\nL 1137.606818 550.8 \r\nL 1137.606818 431.865637 \r\nL 1135.152273 431.865637 \r\nz\r\n\" style=\"fill:#e377c2;\"/>\r\n   </g>\r\n   <g id=\"patch_210\">\r\n    <path clip-path=\"url(#p8fd74fd0a7)\" d=\"M 1189.152273 550.8 \r\nL 1191.606818 550.8 \r\nL 1191.606818 410.87722 \r\nL 1189.152273 410.87722 \r\nz\r\n\" style=\"fill:#e377c2;\"/>\r\n   </g>\r\n   <g id=\"patch_211\">\r\n    <path clip-path=\"url(#p8fd74fd0a7)\" d=\"M 1243.152273 550.8 \r\nL 1245.606818 550.8 \r\nL 1245.606818 445.857915 \r\nL 1243.152273 445.857915 \r\nz\r\n\" style=\"fill:#e377c2;\"/>\r\n   </g>\r\n   <g id=\"patch_212\">\r\n    <path clip-path=\"url(#p8fd74fd0a7)\" d=\"M 1297.152273 550.8 \r\nL 1299.606818 550.8 \r\nL 1299.606818 487.834749 \r\nL 1297.152273 487.834749 \r\nz\r\n\" style=\"fill:#e377c2;\"/>\r\n   </g>\r\n   <g id=\"patch_213\">\r\n    <path clip-path=\"url(#p8fd74fd0a7)\" d=\"M 1351.152273 550.8 \r\nL 1353.606818 550.8 \r\nL 1353.606818 466.846332 \r\nL 1351.152273 466.846332 \r\nz\r\n\" style=\"fill:#e377c2;\"/>\r\n   </g>\r\n   <g id=\"patch_214\">\r\n    <path clip-path=\"url(#p8fd74fd0a7)\" d=\"M 1405.152273 550.8 \r\nL 1407.606818 550.8 \r\nL 1407.606818 445.857915 \r\nL 1405.152273 445.857915 \r\nz\r\n\" style=\"fill:#e377c2;\"/>\r\n   </g>\r\n   <g id=\"patch_215\">\r\n    <path clip-path=\"url(#p8fd74fd0a7)\" d=\"M 1459.152273 550.8 \r\nL 1461.606818 550.8 \r\nL 1461.606818 487.834749 \r\nL 1459.152273 487.834749 \r\nz\r\n\" style=\"fill:#e377c2;\"/>\r\n   </g>\r\n   <g id=\"patch_216\">\r\n    <path clip-path=\"url(#p8fd74fd0a7)\" d=\"M 1513.152273 550.8 \r\nL 1515.606818 550.8 \r\nL 1515.606818 473.842471 \r\nL 1513.152273 473.842471 \r\nz\r\n\" style=\"fill:#e377c2;\"/>\r\n   </g>\r\n   <g id=\"patch_217\">\r\n    <path clip-path=\"url(#p8fd74fd0a7)\" d=\"M 1567.152273 550.8 \r\nL 1569.606818 550.8 \r\nL 1569.606818 403.881081 \r\nL 1567.152273 403.881081 \r\nz\r\n\" style=\"fill:#e377c2;\"/>\r\n   </g>\r\n   <g id=\"patch_218\">\r\n    <path clip-path=\"url(#p8fd74fd0a7)\" d=\"M 1621.152273 550.8 \r\nL 1623.606818 550.8 \r\nL 1623.606818 424.869498 \r\nL 1621.152273 424.869498 \r\nz\r\n\" style=\"fill:#e377c2;\"/>\r\n   </g>\r\n   <g id=\"patch_219\">\r\n    <path clip-path=\"url(#p8fd74fd0a7)\" d=\"M 1675.152273 550.8 \r\nL 1677.606818 550.8 \r\nL 1677.606818 459.850193 \r\nL 1675.152273 459.850193 \r\nz\r\n\" style=\"fill:#e377c2;\"/>\r\n   </g>\r\n   <g id=\"patch_220\">\r\n    <path clip-path=\"url(#p8fd74fd0a7)\" d=\"M 57.606818 550.8 \r\nL 60.061364 550.8 \r\nL 60.061364 263.958301 \r\nL 57.606818 263.958301 \r\nz\r\n\" style=\"fill:#7f7f7f;\"/>\r\n   </g>\r\n   <g id=\"patch_221\">\r\n    <path clip-path=\"url(#p8fd74fd0a7)\" d=\"M 111.606818 550.8 \r\nL 114.061364 550.8 \r\nL 114.061364 263.958301 \r\nL 111.606818 263.958301 \r\nz\r\n\" style=\"fill:#7f7f7f;\"/>\r\n   </g>\r\n   <g id=\"patch_222\">\r\n    <path clip-path=\"url(#p8fd74fd0a7)\" d=\"M 165.606818 550.8 \r\nL 168.061364 550.8 \r\nL 168.061364 166.012355 \r\nL 165.606818 166.012355 \r\nz\r\n\" style=\"fill:#7f7f7f;\"/>\r\n   </g>\r\n   <g id=\"patch_223\">\r\n    <path clip-path=\"url(#p8fd74fd0a7)\" d=\"M 219.606818 550.8 \r\nL 222.061364 550.8 \r\nL 222.061364 82.058687 \r\nL 219.606818 82.058687 \r\nz\r\n\" style=\"fill:#7f7f7f;\"/>\r\n   </g>\r\n   <g id=\"patch_224\">\r\n    <path clip-path=\"url(#p8fd74fd0a7)\" d=\"M 273.606818 550.8 \r\nL 276.061364 550.8 \r\nL 276.061364 110.043243 \r\nL 273.606818 110.043243 \r\nz\r\n\" style=\"fill:#7f7f7f;\"/>\r\n   </g>\r\n   <g id=\"patch_225\">\r\n    <path clip-path=\"url(#p8fd74fd0a7)\" d=\"M 327.606818 550.8 \r\nL 330.061364 550.8 \r\nL 330.061364 298.938996 \r\nL 327.606818 298.938996 \r\nz\r\n\" style=\"fill:#7f7f7f;\"/>\r\n   </g>\r\n   <g id=\"patch_226\">\r\n    <path clip-path=\"url(#p8fd74fd0a7)\" d=\"M 381.606818 550.8 \r\nL 384.061364 550.8 \r\nL 384.061364 389.888803 \r\nL 381.606818 389.888803 \r\nz\r\n\" style=\"fill:#7f7f7f;\"/>\r\n   </g>\r\n   <g id=\"patch_227\">\r\n    <path clip-path=\"url(#p8fd74fd0a7)\" d=\"M 435.606818 550.8 \r\nL 438.061364 550.8 \r\nL 438.061364 249.966023 \r\nL 435.606818 249.966023 \r\nz\r\n\" style=\"fill:#7f7f7f;\"/>\r\n   </g>\r\n   <g id=\"patch_228\">\r\n    <path clip-path=\"url(#p8fd74fd0a7)\" d=\"M 489.606818 550.8 \r\nL 492.061364 550.8 \r\nL 492.061364 180.004633 \r\nL 489.606818 180.004633 \r\nz\r\n\" style=\"fill:#7f7f7f;\"/>\r\n   </g>\r\n   <g id=\"patch_229\">\r\n    <path clip-path=\"url(#p8fd74fd0a7)\" d=\"M 543.606818 550.8 \r\nL 546.061364 550.8 \r\nL 546.061364 375.896525 \r\nL 543.606818 375.896525 \r\nz\r\n\" style=\"fill:#7f7f7f;\"/>\r\n   </g>\r\n   <g id=\"patch_230\">\r\n    <path clip-path=\"url(#p8fd74fd0a7)\" d=\"M 597.606818 550.8 \r\nL 600.061364 550.8 \r\nL 600.061364 207.989189 \r\nL 597.606818 207.989189 \r\nz\r\n\" style=\"fill:#7f7f7f;\"/>\r\n   </g>\r\n   <g id=\"patch_231\">\r\n    <path clip-path=\"url(#p8fd74fd0a7)\" d=\"M 651.606818 550.8 \r\nL 654.061364 550.8 \r\nL 654.061364 277.950579 \r\nL 651.606818 277.950579 \r\nz\r\n\" style=\"fill:#7f7f7f;\"/>\r\n   </g>\r\n   <g id=\"patch_232\">\r\n    <path clip-path=\"url(#p8fd74fd0a7)\" d=\"M 705.606818 550.8 \r\nL 708.061364 550.8 \r\nL 708.061364 173.008494 \r\nL 705.606818 173.008494 \r\nz\r\n\" style=\"fill:#7f7f7f;\"/>\r\n   </g>\r\n   <g id=\"patch_233\">\r\n    <path clip-path=\"url(#p8fd74fd0a7)\" d=\"M 759.606818 550.8 \r\nL 762.061364 550.8 \r\nL 762.061364 166.012355 \r\nL 759.606818 166.012355 \r\nz\r\n\" style=\"fill:#7f7f7f;\"/>\r\n   </g>\r\n   <g id=\"patch_234\">\r\n    <path clip-path=\"url(#p8fd74fd0a7)\" d=\"M 813.606818 550.8 \r\nL 816.061364 550.8 \r\nL 816.061364 291.942857 \r\nL 813.606818 291.942857 \r\nz\r\n\" style=\"fill:#7f7f7f;\"/>\r\n   </g>\r\n   <g id=\"patch_235\">\r\n    <path clip-path=\"url(#p8fd74fd0a7)\" d=\"M 867.606818 550.8 \r\nL 870.061364 550.8 \r\nL 870.061364 312.931274 \r\nL 867.606818 312.931274 \r\nz\r\n\" style=\"fill:#7f7f7f;\"/>\r\n   </g>\r\n   <g id=\"patch_236\">\r\n    <path clip-path=\"url(#p8fd74fd0a7)\" d=\"M 921.606818 550.8 \r\nL 924.061364 550.8 \r\nL 924.061364 138.027799 \r\nL 921.606818 138.027799 \r\nz\r\n\" style=\"fill:#7f7f7f;\"/>\r\n   </g>\r\n   <g id=\"patch_237\">\r\n    <path clip-path=\"url(#p8fd74fd0a7)\" d=\"M 975.606818 550.8 \r\nL 978.061364 550.8 \r\nL 978.061364 152.020077 \r\nL 975.606818 152.020077 \r\nz\r\n\" style=\"fill:#7f7f7f;\"/>\r\n   </g>\r\n   <g id=\"patch_238\">\r\n    <path clip-path=\"url(#p8fd74fd0a7)\" d=\"M 1029.606818 550.8 \r\nL 1032.061364 550.8 \r\nL 1032.061364 319.927413 \r\nL 1029.606818 319.927413 \r\nz\r\n\" style=\"fill:#7f7f7f;\"/>\r\n   </g>\r\n   <g id=\"patch_239\">\r\n    <path clip-path=\"url(#p8fd74fd0a7)\" d=\"M 1083.606818 550.8 \r\nL 1086.061364 550.8 \r\nL 1086.061364 256.962162 \r\nL 1083.606818 256.962162 \r\nz\r\n\" style=\"fill:#7f7f7f;\"/>\r\n   </g>\r\n   <g id=\"patch_240\">\r\n    <path clip-path=\"url(#p8fd74fd0a7)\" d=\"M 1137.606818 550.8 \r\nL 1140.061364 550.8 \r\nL 1140.061364 291.942857 \r\nL 1137.606818 291.942857 \r\nz\r\n\" style=\"fill:#7f7f7f;\"/>\r\n   </g>\r\n   <g id=\"patch_241\">\r\n    <path clip-path=\"url(#p8fd74fd0a7)\" d=\"M 1191.606818 550.8 \r\nL 1194.061364 550.8 \r\nL 1194.061364 124.035521 \r\nL 1191.606818 124.035521 \r\nz\r\n\" style=\"fill:#7f7f7f;\"/>\r\n   </g>\r\n   <g id=\"patch_242\">\r\n    <path clip-path=\"url(#p8fd74fd0a7)\" d=\"M 1245.606818 550.8 \r\nL 1248.061364 550.8 \r\nL 1248.061364 117.039382 \r\nL 1245.606818 117.039382 \r\nz\r\n\" style=\"fill:#7f7f7f;\"/>\r\n   </g>\r\n   <g id=\"patch_243\">\r\n    <path clip-path=\"url(#p8fd74fd0a7)\" d=\"M 1299.606818 550.8 \r\nL 1302.061364 550.8 \r\nL 1302.061364 333.919691 \r\nL 1299.606818 333.919691 \r\nz\r\n\" style=\"fill:#7f7f7f;\"/>\r\n   </g>\r\n   <g id=\"patch_244\">\r\n    <path clip-path=\"url(#p8fd74fd0a7)\" d=\"M 1353.606818 550.8 \r\nL 1356.061364 550.8 \r\nL 1356.061364 110.043243 \r\nL 1353.606818 110.043243 \r\nz\r\n\" style=\"fill:#7f7f7f;\"/>\r\n   </g>\r\n   <g id=\"patch_245\">\r\n    <path clip-path=\"url(#p8fd74fd0a7)\" d=\"M 1407.606818 550.8 \r\nL 1410.061364 550.8 \r\nL 1410.061364 138.027799 \r\nL 1407.606818 138.027799 \r\nz\r\n\" style=\"fill:#7f7f7f;\"/>\r\n   </g>\r\n   <g id=\"patch_246\">\r\n    <path clip-path=\"url(#p8fd74fd0a7)\" d=\"M 1461.606818 550.8 \r\nL 1464.061364 550.8 \r\nL 1464.061364 159.016216 \r\nL 1461.606818 159.016216 \r\nz\r\n\" style=\"fill:#7f7f7f;\"/>\r\n   </g>\r\n   <g id=\"patch_247\">\r\n    <path clip-path=\"url(#p8fd74fd0a7)\" d=\"M 1515.606818 550.8 \r\nL 1518.061364 550.8 \r\nL 1518.061364 263.958301 \r\nL 1515.606818 263.958301 \r\nz\r\n\" style=\"fill:#7f7f7f;\"/>\r\n   </g>\r\n   <g id=\"patch_248\">\r\n    <path clip-path=\"url(#p8fd74fd0a7)\" d=\"M 1569.606818 550.8 \r\nL 1572.061364 550.8 \r\nL 1572.061364 368.900386 \r\nL 1569.606818 368.900386 \r\nz\r\n\" style=\"fill:#7f7f7f;\"/>\r\n   </g>\r\n   <g id=\"patch_249\">\r\n    <path clip-path=\"url(#p8fd74fd0a7)\" d=\"M 1623.606818 550.8 \r\nL 1626.061364 550.8 \r\nL 1626.061364 333.919691 \r\nL 1623.606818 333.919691 \r\nz\r\n\" style=\"fill:#7f7f7f;\"/>\r\n   </g>\r\n   <g id=\"patch_250\">\r\n    <path clip-path=\"url(#p8fd74fd0a7)\" d=\"M 1677.606818 550.8 \r\nL 1680.061364 550.8 \r\nL 1680.061364 256.962162 \r\nL 1677.606818 256.962162 \r\nz\r\n\" style=\"fill:#7f7f7f;\"/>\r\n   </g>\r\n   <g id=\"patch_251\">\r\n    <path clip-path=\"url(#p8fd74fd0a7)\" d=\"M 60.061364 550.8 \r\nL 62.515909 550.8 \r\nL 62.515909 207.989189 \r\nL 60.061364 207.989189 \r\nz\r\n\" style=\"fill:#bcbd22;\"/>\r\n   </g>\r\n   <g id=\"patch_252\">\r\n    <path clip-path=\"url(#p8fd74fd0a7)\" d=\"M 114.061364 550.8 \r\nL 116.515909 550.8 \r\nL 116.515909 117.039382 \r\nL 114.061364 117.039382 \r\nz\r\n\" style=\"fill:#bcbd22;\"/>\r\n   </g>\r\n   <g id=\"patch_253\">\r\n    <path clip-path=\"url(#p8fd74fd0a7)\" d=\"M 168.061364 550.8 \r\nL 170.515909 550.8 \r\nL 170.515909 131.03166 \r\nL 168.061364 131.03166 \r\nz\r\n\" style=\"fill:#bcbd22;\"/>\r\n   </g>\r\n   <g id=\"patch_254\">\r\n    <path clip-path=\"url(#p8fd74fd0a7)\" d=\"M 222.061364 550.8 \r\nL 224.515909 550.8 \r\nL 224.515909 54.074131 \r\nL 222.061364 54.074131 \r\nz\r\n\" style=\"fill:#bcbd22;\"/>\r\n   </g>\r\n   <g id=\"patch_255\">\r\n    <path clip-path=\"url(#p8fd74fd0a7)\" d=\"M 276.061364 550.8 \r\nL 278.515909 550.8 \r\nL 278.515909 193.996911 \r\nL 276.061364 193.996911 \r\nz\r\n\" style=\"fill:#bcbd22;\"/>\r\n   </g>\r\n   <g id=\"patch_256\">\r\n    <path clip-path=\"url(#p8fd74fd0a7)\" d=\"M 330.061364 550.8 \r\nL 332.515909 550.8 \r\nL 332.515909 256.962162 \r\nL 330.061364 256.962162 \r\nz\r\n\" style=\"fill:#bcbd22;\"/>\r\n   </g>\r\n   <g id=\"patch_257\">\r\n    <path clip-path=\"url(#p8fd74fd0a7)\" d=\"M 384.061364 550.8 \r\nL 386.515909 550.8 \r\nL 386.515909 389.888803 \r\nL 384.061364 389.888803 \r\nz\r\n\" style=\"fill:#bcbd22;\"/>\r\n   </g>\r\n   <g id=\"patch_258\">\r\n    <path clip-path=\"url(#p8fd74fd0a7)\" d=\"M 438.061364 550.8 \r\nL 440.515909 550.8 \r\nL 440.515909 152.020077 \r\nL 438.061364 152.020077 \r\nz\r\n\" style=\"fill:#bcbd22;\"/>\r\n   </g>\r\n   <g id=\"patch_259\">\r\n    <path clip-path=\"url(#p8fd74fd0a7)\" d=\"M 492.061364 550.8 \r\nL 494.515909 550.8 \r\nL 494.515909 124.035521 \r\nL 492.061364 124.035521 \r\nz\r\n\" style=\"fill:#bcbd22;\"/>\r\n   </g>\r\n   <g id=\"patch_260\">\r\n    <path clip-path=\"url(#p8fd74fd0a7)\" d=\"M 546.061364 550.8 \r\nL 548.515909 550.8 \r\nL 548.515909 249.966023 \r\nL 546.061364 249.966023 \r\nz\r\n\" style=\"fill:#bcbd22;\"/>\r\n   </g>\r\n   <g id=\"patch_261\">\r\n    <path clip-path=\"url(#p8fd74fd0a7)\" d=\"M 600.061364 550.8 \r\nL 602.515909 550.8 \r\nL 602.515909 47.077992 \r\nL 600.061364 47.077992 \r\nz\r\n\" style=\"fill:#bcbd22;\"/>\r\n   </g>\r\n   <g id=\"patch_262\">\r\n    <path clip-path=\"url(#p8fd74fd0a7)\" d=\"M 654.061364 550.8 \r\nL 656.515909 550.8 \r\nL 656.515909 173.008494 \r\nL 654.061364 173.008494 \r\nz\r\n\" style=\"fill:#bcbd22;\"/>\r\n   </g>\r\n   <g id=\"patch_263\">\r\n    <path clip-path=\"url(#p8fd74fd0a7)\" d=\"M 708.061364 550.8 \r\nL 710.515909 550.8 \r\nL 710.515909 166.012355 \r\nL 708.061364 166.012355 \r\nz\r\n\" style=\"fill:#bcbd22;\"/>\r\n   </g>\r\n   <g id=\"patch_264\">\r\n    <path clip-path=\"url(#p8fd74fd0a7)\" d=\"M 762.061364 550.8 \r\nL 764.515909 550.8 \r\nL 764.515909 117.039382 \r\nL 762.061364 117.039382 \r\nz\r\n\" style=\"fill:#bcbd22;\"/>\r\n   </g>\r\n   <g id=\"patch_265\">\r\n    <path clip-path=\"url(#p8fd74fd0a7)\" d=\"M 816.061364 550.8 \r\nL 818.515909 550.8 \r\nL 818.515909 180.004633 \r\nL 816.061364 180.004633 \r\nz\r\n\" style=\"fill:#bcbd22;\"/>\r\n   </g>\r\n   <g id=\"patch_266\">\r\n    <path clip-path=\"url(#p8fd74fd0a7)\" d=\"M 870.061364 550.8 \r\nL 872.515909 550.8 \r\nL 872.515909 256.962162 \r\nL 870.061364 256.962162 \r\nz\r\n\" style=\"fill:#bcbd22;\"/>\r\n   </g>\r\n   <g id=\"patch_267\">\r\n    <path clip-path=\"url(#p8fd74fd0a7)\" d=\"M 924.061364 550.8 \r\nL 926.515909 550.8 \r\nL 926.515909 103.047104 \r\nL 924.061364 103.047104 \r\nz\r\n\" style=\"fill:#bcbd22;\"/>\r\n   </g>\r\n   <g id=\"patch_268\">\r\n    <path clip-path=\"url(#p8fd74fd0a7)\" d=\"M 978.061364 550.8 \r\nL 980.515909 550.8 \r\nL 980.515909 103.047104 \r\nL 978.061364 103.047104 \r\nz\r\n\" style=\"fill:#bcbd22;\"/>\r\n   </g>\r\n   <g id=\"patch_269\">\r\n    <path clip-path=\"url(#p8fd74fd0a7)\" d=\"M 1032.061364 550.8 \r\nL 1034.515909 550.8 \r\nL 1034.515909 235.973745 \r\nL 1032.061364 235.973745 \r\nz\r\n\" style=\"fill:#bcbd22;\"/>\r\n   </g>\r\n   <g id=\"patch_270\">\r\n    <path clip-path=\"url(#p8fd74fd0a7)\" d=\"M 1086.061364 550.8 \r\nL 1088.515909 550.8 \r\nL 1088.515909 270.95444 \r\nL 1086.061364 270.95444 \r\nz\r\n\" style=\"fill:#bcbd22;\"/>\r\n   </g>\r\n   <g id=\"patch_271\">\r\n    <path clip-path=\"url(#p8fd74fd0a7)\" d=\"M 1140.061364 550.8 \r\nL 1142.515909 550.8 \r\nL 1142.515909 221.981467 \r\nL 1140.061364 221.981467 \r\nz\r\n\" style=\"fill:#bcbd22;\"/>\r\n   </g>\r\n   <g id=\"patch_272\">\r\n    <path clip-path=\"url(#p8fd74fd0a7)\" d=\"M 1194.061364 550.8 \r\nL 1196.515909 550.8 \r\nL 1196.515909 103.047104 \r\nL 1194.061364 103.047104 \r\nz\r\n\" style=\"fill:#bcbd22;\"/>\r\n   </g>\r\n   <g id=\"patch_273\">\r\n    <path clip-path=\"url(#p8fd74fd0a7)\" d=\"M 1248.061364 550.8 \r\nL 1250.515909 550.8 \r\nL 1250.515909 40.081853 \r\nL 1248.061364 40.081853 \r\nz\r\n\" style=\"fill:#bcbd22;\"/>\r\n   </g>\r\n   <g id=\"patch_274\">\r\n    <path clip-path=\"url(#p8fd74fd0a7)\" d=\"M 1302.061364 550.8 \r\nL 1304.515909 550.8 \r\nL 1304.515909 256.962162 \r\nL 1302.061364 256.962162 \r\nz\r\n\" style=\"fill:#bcbd22;\"/>\r\n   </g>\r\n   <g id=\"patch_275\">\r\n    <path clip-path=\"url(#p8fd74fd0a7)\" d=\"M 1356.061364 550.8 \r\nL 1358.515909 550.8 \r\nL 1358.515909 75.062548 \r\nL 1356.061364 75.062548 \r\nz\r\n\" style=\"fill:#bcbd22;\"/>\r\n   </g>\r\n   <g id=\"patch_276\">\r\n    <path clip-path=\"url(#p8fd74fd0a7)\" d=\"M 1410.061364 550.8 \r\nL 1412.515909 550.8 \r\nL 1412.515909 110.043243 \r\nL 1410.061364 110.043243 \r\nz\r\n\" style=\"fill:#bcbd22;\"/>\r\n   </g>\r\n   <g id=\"patch_277\">\r\n    <path clip-path=\"url(#p8fd74fd0a7)\" d=\"M 1464.061364 550.8 \r\nL 1466.515909 550.8 \r\nL 1466.515909 124.035521 \r\nL 1464.061364 124.035521 \r\nz\r\n\" style=\"fill:#bcbd22;\"/>\r\n   </g>\r\n   <g id=\"patch_278\">\r\n    <path clip-path=\"url(#p8fd74fd0a7)\" d=\"M 1518.061364 550.8 \r\nL 1520.515909 550.8 \r\nL 1520.515909 193.996911 \r\nL 1518.061364 193.996911 \r\nz\r\n\" style=\"fill:#bcbd22;\"/>\r\n   </g>\r\n   <g id=\"patch_279\">\r\n    <path clip-path=\"url(#p8fd74fd0a7)\" d=\"M 1572.061364 550.8 \r\nL 1574.515909 550.8 \r\nL 1574.515909 270.95444 \r\nL 1572.061364 270.95444 \r\nz\r\n\" style=\"fill:#bcbd22;\"/>\r\n   </g>\r\n   <g id=\"patch_280\">\r\n    <path clip-path=\"url(#p8fd74fd0a7)\" d=\"M 1626.061364 550.8 \r\nL 1628.515909 550.8 \r\nL 1628.515909 214.985328 \r\nL 1626.061364 214.985328 \r\nz\r\n\" style=\"fill:#bcbd22;\"/>\r\n   </g>\r\n   <g id=\"patch_281\">\r\n    <path clip-path=\"url(#p8fd74fd0a7)\" d=\"M 1680.061364 550.8 \r\nL 1682.515909 550.8 \r\nL 1682.515909 117.039382 \r\nL 1680.061364 117.039382 \r\nz\r\n\" style=\"fill:#bcbd22;\"/>\r\n   </g>\r\n   <g id=\"patch_282\">\r\n    <path clip-path=\"url(#p8fd74fd0a7)\" d=\"M 62.515909 550.8 \r\nL 64.970455 550.8 \r\nL 64.970455 438.861776 \r\nL 62.515909 438.861776 \r\nz\r\n\" style=\"fill:#17becf;\"/>\r\n   </g>\r\n   <g id=\"patch_283\">\r\n    <path clip-path=\"url(#p8fd74fd0a7)\" d=\"M 116.515909 550.8 \r\nL 118.970455 550.8 \r\nL 118.970455 445.857915 \r\nL 116.515909 445.857915 \r\nz\r\n\" style=\"fill:#17becf;\"/>\r\n   </g>\r\n   <g id=\"patch_284\">\r\n    <path clip-path=\"url(#p8fd74fd0a7)\" d=\"M 170.515909 550.8 \r\nL 172.970455 550.8 \r\nL 172.970455 270.95444 \r\nL 170.515909 270.95444 \r\nz\r\n\" style=\"fill:#17becf;\"/>\r\n   </g>\r\n   <g id=\"patch_285\">\r\n    <path clip-path=\"url(#p8fd74fd0a7)\" d=\"M 224.515909 550.8 \r\nL 226.970455 550.8 \r\nL 226.970455 291.942857 \r\nL 224.515909 291.942857 \r\nz\r\n\" style=\"fill:#17becf;\"/>\r\n   </g>\r\n   <g id=\"patch_286\">\r\n    <path clip-path=\"url(#p8fd74fd0a7)\" d=\"M 278.515909 550.8 \r\nL 280.970455 550.8 \r\nL 280.970455 263.958301 \r\nL 278.515909 263.958301 \r\nz\r\n\" style=\"fill:#17becf;\"/>\r\n   </g>\r\n   <g id=\"patch_287\">\r\n    <path clip-path=\"url(#p8fd74fd0a7)\" d=\"M 332.515909 550.8 \r\nL 334.970455 550.8 \r\nL 334.970455 417.873359 \r\nL 332.515909 417.873359 \r\nz\r\n\" style=\"fill:#17becf;\"/>\r\n   </g>\r\n   <g id=\"patch_288\">\r\n    <path clip-path=\"url(#p8fd74fd0a7)\" d=\"M 386.515909 550.8 \r\nL 388.970455 550.8 \r\nL 388.970455 501.827027 \r\nL 386.515909 501.827027 \r\nz\r\n\" style=\"fill:#17becf;\"/>\r\n   </g>\r\n   <g id=\"patch_289\">\r\n    <path clip-path=\"url(#p8fd74fd0a7)\" d=\"M 440.515909 550.8 \r\nL 442.970455 550.8 \r\nL 442.970455 403.881081 \r\nL 440.515909 403.881081 \r\nz\r\n\" style=\"fill:#17becf;\"/>\r\n   </g>\r\n   <g id=\"patch_290\">\r\n    <path clip-path=\"url(#p8fd74fd0a7)\" d=\"M 494.515909 550.8 \r\nL 496.970455 550.8 \r\nL 496.970455 291.942857 \r\nL 494.515909 291.942857 \r\nz\r\n\" style=\"fill:#17becf;\"/>\r\n   </g>\r\n   <g id=\"patch_291\">\r\n    <path clip-path=\"url(#p8fd74fd0a7)\" d=\"M 548.515909 550.8 \r\nL 550.970455 550.8 \r\nL 550.970455 445.857915 \r\nL 548.515909 445.857915 \r\nz\r\n\" style=\"fill:#17becf;\"/>\r\n   </g>\r\n   <g id=\"patch_292\">\r\n    <path clip-path=\"url(#p8fd74fd0a7)\" d=\"M 602.515909 550.8 \r\nL 604.970455 550.8 \r\nL 604.970455 410.87722 \r\nL 602.515909 410.87722 \r\nz\r\n\" style=\"fill:#17becf;\"/>\r\n   </g>\r\n   <g id=\"patch_293\">\r\n    <path clip-path=\"url(#p8fd74fd0a7)\" d=\"M 656.515909 550.8 \r\nL 658.970455 550.8 \r\nL 658.970455 438.861776 \r\nL 656.515909 438.861776 \r\nz\r\n\" style=\"fill:#17becf;\"/>\r\n   </g>\r\n   <g id=\"patch_294\">\r\n    <path clip-path=\"url(#p8fd74fd0a7)\" d=\"M 710.515909 550.8 \r\nL 712.970455 550.8 \r\nL 712.970455 312.931274 \r\nL 710.515909 312.931274 \r\nz\r\n\" style=\"fill:#17becf;\"/>\r\n   </g>\r\n   <g id=\"patch_295\">\r\n    <path clip-path=\"url(#p8fd74fd0a7)\" d=\"M 764.515909 550.8 \r\nL 766.970455 550.8 \r\nL 766.970455 333.919691 \r\nL 764.515909 333.919691 \r\nz\r\n\" style=\"fill:#17becf;\"/>\r\n   </g>\r\n   <g id=\"patch_296\">\r\n    <path clip-path=\"url(#p8fd74fd0a7)\" d=\"M 818.515909 550.8 \r\nL 820.970455 550.8 \r\nL 820.970455 424.869498 \r\nL 818.515909 424.869498 \r\nz\r\n\" style=\"fill:#17becf;\"/>\r\n   </g>\r\n   <g id=\"patch_297\">\r\n    <path clip-path=\"url(#p8fd74fd0a7)\" d=\"M 872.515909 550.8 \r\nL 874.970455 550.8 \r\nL 874.970455 424.869498 \r\nL 872.515909 424.869498 \r\nz\r\n\" style=\"fill:#17becf;\"/>\r\n   </g>\r\n   <g id=\"patch_298\">\r\n    <path clip-path=\"url(#p8fd74fd0a7)\" d=\"M 926.515909 550.8 \r\nL 928.970455 550.8 \r\nL 928.970455 256.962162 \r\nL 926.515909 256.962162 \r\nz\r\n\" style=\"fill:#17becf;\"/>\r\n   </g>\r\n   <g id=\"patch_299\">\r\n    <path clip-path=\"url(#p8fd74fd0a7)\" d=\"M 980.515909 550.8 \r\nL 982.970455 550.8 \r\nL 982.970455 214.985328 \r\nL 980.515909 214.985328 \r\nz\r\n\" style=\"fill:#17becf;\"/>\r\n   </g>\r\n   <g id=\"patch_300\">\r\n    <path clip-path=\"url(#p8fd74fd0a7)\" d=\"M 1034.515909 550.8 \r\nL 1036.970455 550.8 \r\nL 1036.970455 431.865637 \r\nL 1034.515909 431.865637 \r\nz\r\n\" style=\"fill:#17becf;\"/>\r\n   </g>\r\n   <g id=\"patch_301\">\r\n    <path clip-path=\"url(#p8fd74fd0a7)\" d=\"M 1088.515909 550.8 \r\nL 1090.970455 550.8 \r\nL 1090.970455 396.884942 \r\nL 1088.515909 396.884942 \r\nz\r\n\" style=\"fill:#17becf;\"/>\r\n   </g>\r\n   <g id=\"patch_302\">\r\n    <path clip-path=\"url(#p8fd74fd0a7)\" d=\"M 1142.515909 550.8 \r\nL 1144.970455 550.8 \r\nL 1144.970455 480.83861 \r\nL 1142.515909 480.83861 \r\nz\r\n\" style=\"fill:#17becf;\"/>\r\n   </g>\r\n   <g id=\"patch_303\">\r\n    <path clip-path=\"url(#p8fd74fd0a7)\" d=\"M 1196.515909 550.8 \r\nL 1198.970455 550.8 \r\nL 1198.970455 200.99305 \r\nL 1196.515909 200.99305 \r\nz\r\n\" style=\"fill:#17becf;\"/>\r\n   </g>\r\n   <g id=\"patch_304\">\r\n    <path clip-path=\"url(#p8fd74fd0a7)\" d=\"M 1250.515909 550.8 \r\nL 1252.970455 550.8 \r\nL 1252.970455 326.923552 \r\nL 1250.515909 326.923552 \r\nz\r\n\" style=\"fill:#17becf;\"/>\r\n   </g>\r\n   <g id=\"patch_305\">\r\n    <path clip-path=\"url(#p8fd74fd0a7)\" d=\"M 1304.515909 550.8 \r\nL 1306.970455 550.8 \r\nL 1306.970455 417.873359 \r\nL 1304.515909 417.873359 \r\nz\r\n\" style=\"fill:#17becf;\"/>\r\n   </g>\r\n   <g id=\"patch_306\">\r\n    <path clip-path=\"url(#p8fd74fd0a7)\" d=\"M 1358.515909 550.8 \r\nL 1360.970455 550.8 \r\nL 1360.970455 256.962162 \r\nL 1358.515909 256.962162 \r\nz\r\n\" style=\"fill:#17becf;\"/>\r\n   </g>\r\n   <g id=\"patch_307\">\r\n    <path clip-path=\"url(#p8fd74fd0a7)\" d=\"M 1412.515909 550.8 \r\nL 1414.970455 550.8 \r\nL 1414.970455 312.931274 \r\nL 1412.515909 312.931274 \r\nz\r\n\" style=\"fill:#17becf;\"/>\r\n   </g>\r\n   <g id=\"patch_308\">\r\n    <path clip-path=\"url(#p8fd74fd0a7)\" d=\"M 1466.515909 550.8 \r\nL 1468.970455 550.8 \r\nL 1468.970455 319.927413 \r\nL 1466.515909 319.927413 \r\nz\r\n\" style=\"fill:#17becf;\"/>\r\n   </g>\r\n   <g id=\"patch_309\">\r\n    <path clip-path=\"url(#p8fd74fd0a7)\" d=\"M 1520.515909 550.8 \r\nL 1522.970455 550.8 \r\nL 1522.970455 361.904247 \r\nL 1520.515909 361.904247 \r\nz\r\n\" style=\"fill:#17becf;\"/>\r\n   </g>\r\n   <g id=\"patch_310\">\r\n    <path clip-path=\"url(#p8fd74fd0a7)\" d=\"M 1574.515909 550.8 \r\nL 1576.970455 550.8 \r\nL 1576.970455 445.857915 \r\nL 1574.515909 445.857915 \r\nz\r\n\" style=\"fill:#17becf;\"/>\r\n   </g>\r\n   <g id=\"patch_311\">\r\n    <path clip-path=\"url(#p8fd74fd0a7)\" d=\"M 1628.515909 550.8 \r\nL 1630.970455 550.8 \r\nL 1630.970455 473.842471 \r\nL 1628.515909 473.842471 \r\nz\r\n\" style=\"fill:#17becf;\"/>\r\n   </g>\r\n   <g id=\"patch_312\">\r\n    <path clip-path=\"url(#p8fd74fd0a7)\" d=\"M 1682.515909 550.8 \r\nL 1684.970455 550.8 \r\nL 1684.970455 431.865637 \r\nL 1682.515909 431.865637 \r\nz\r\n\" style=\"fill:#17becf;\"/>\r\n   </g>\r\n   <g id=\"patch_313\">\r\n    <path clip-path=\"url(#p8fd74fd0a7)\" d=\"M 64.970455 550.8 \r\nL 67.425 550.8 \r\nL 67.425 312.931274 \r\nL 64.970455 312.931274 \r\nz\r\n\" style=\"fill:#1f77b4;\"/>\r\n   </g>\r\n   <g id=\"patch_314\">\r\n    <path clip-path=\"url(#p8fd74fd0a7)\" d=\"M 118.970455 550.8 \r\nL 121.425 550.8 \r\nL 121.425 382.892664 \r\nL 118.970455 382.892664 \r\nz\r\n\" style=\"fill:#1f77b4;\"/>\r\n   </g>\r\n   <g id=\"patch_315\">\r\n    <path clip-path=\"url(#p8fd74fd0a7)\" d=\"M 172.970455 550.8 \r\nL 175.425 550.8 \r\nL 175.425 221.981467 \r\nL 172.970455 221.981467 \r\nz\r\n\" style=\"fill:#1f77b4;\"/>\r\n   </g>\r\n   <g id=\"patch_316\">\r\n    <path clip-path=\"url(#p8fd74fd0a7)\" d=\"M 226.970455 550.8 \r\nL 229.425 550.8 \r\nL 229.425 228.977606 \r\nL 226.970455 228.977606 \r\nz\r\n\" style=\"fill:#1f77b4;\"/>\r\n   </g>\r\n   <g id=\"patch_317\">\r\n    <path clip-path=\"url(#p8fd74fd0a7)\" d=\"M 280.970455 550.8 \r\nL 283.425 550.8 \r\nL 283.425 152.020077 \r\nL 280.970455 152.020077 \r\nz\r\n\" style=\"fill:#1f77b4;\"/>\r\n   </g>\r\n   <g id=\"patch_318\">\r\n    <path clip-path=\"url(#p8fd74fd0a7)\" d=\"M 334.970455 550.8 \r\nL 337.425 550.8 \r\nL 337.425 354.908108 \r\nL 334.970455 354.908108 \r\nz\r\n\" style=\"fill:#1f77b4;\"/>\r\n   </g>\r\n   <g id=\"patch_319\">\r\n    <path clip-path=\"url(#p8fd74fd0a7)\" d=\"M 388.970455 550.8 \r\nL 391.425 550.8 \r\nL 391.425 480.83861 \r\nL 388.970455 480.83861 \r\nz\r\n\" style=\"fill:#1f77b4;\"/>\r\n   </g>\r\n   <g id=\"patch_320\">\r\n    <path clip-path=\"url(#p8fd74fd0a7)\" d=\"M 442.970455 550.8 \r\nL 445.425 550.8 \r\nL 445.425 312.931274 \r\nL 442.970455 312.931274 \r\nz\r\n\" style=\"fill:#1f77b4;\"/>\r\n   </g>\r\n   <g id=\"patch_321\">\r\n    <path clip-path=\"url(#p8fd74fd0a7)\" d=\"M 496.970455 550.8 \r\nL 499.425 550.8 \r\nL 499.425 263.958301 \r\nL 496.970455 263.958301 \r\nz\r\n\" style=\"fill:#1f77b4;\"/>\r\n   </g>\r\n   <g id=\"patch_322\">\r\n    <path clip-path=\"url(#p8fd74fd0a7)\" d=\"M 550.970455 550.8 \r\nL 553.425 550.8 \r\nL 553.425 361.904247 \r\nL 550.970455 361.904247 \r\nz\r\n\" style=\"fill:#1f77b4;\"/>\r\n   </g>\r\n   <g id=\"patch_323\">\r\n    <path clip-path=\"url(#p8fd74fd0a7)\" d=\"M 604.970455 550.8 \r\nL 607.425 550.8 \r\nL 607.425 277.950579 \r\nL 604.970455 277.950579 \r\nz\r\n\" style=\"fill:#1f77b4;\"/>\r\n   </g>\r\n   <g id=\"patch_324\">\r\n    <path clip-path=\"url(#p8fd74fd0a7)\" d=\"M 658.970455 550.8 \r\nL 661.425 550.8 \r\nL 661.425 340.91583 \r\nL 658.970455 340.91583 \r\nz\r\n\" style=\"fill:#1f77b4;\"/>\r\n   </g>\r\n   <g id=\"patch_325\">\r\n    <path clip-path=\"url(#p8fd74fd0a7)\" d=\"M 712.970455 550.8 \r\nL 715.425 550.8 \r\nL 715.425 214.985328 \r\nL 712.970455 214.985328 \r\nz\r\n\" style=\"fill:#1f77b4;\"/>\r\n   </g>\r\n   <g id=\"patch_326\">\r\n    <path clip-path=\"url(#p8fd74fd0a7)\" d=\"M 766.970455 550.8 \r\nL 769.425 550.8 \r\nL 769.425 235.973745 \r\nL 766.970455 235.973745 \r\nz\r\n\" style=\"fill:#1f77b4;\"/>\r\n   </g>\r\n   <g id=\"patch_327\">\r\n    <path clip-path=\"url(#p8fd74fd0a7)\" d=\"M 820.970455 550.8 \r\nL 823.425 550.8 \r\nL 823.425 368.900386 \r\nL 820.970455 368.900386 \r\nz\r\n\" style=\"fill:#1f77b4;\"/>\r\n   </g>\r\n   <g id=\"patch_328\">\r\n    <path clip-path=\"url(#p8fd74fd0a7)\" d=\"M 874.970455 550.8 \r\nL 877.425 550.8 \r\nL 877.425 291.942857 \r\nL 874.970455 291.942857 \r\nz\r\n\" style=\"fill:#1f77b4;\"/>\r\n   </g>\r\n   <g id=\"patch_329\">\r\n    <path clip-path=\"url(#p8fd74fd0a7)\" d=\"M 928.970455 550.8 \r\nL 931.425 550.8 \r\nL 931.425 228.977606 \r\nL 928.970455 228.977606 \r\nz\r\n\" style=\"fill:#1f77b4;\"/>\r\n   </g>\r\n   <g id=\"patch_330\">\r\n    <path clip-path=\"url(#p8fd74fd0a7)\" d=\"M 982.970455 550.8 \r\nL 985.425 550.8 \r\nL 985.425 291.942857 \r\nL 982.970455 291.942857 \r\nz\r\n\" style=\"fill:#1f77b4;\"/>\r\n   </g>\r\n   <g id=\"patch_331\">\r\n    <path clip-path=\"url(#p8fd74fd0a7)\" d=\"M 1036.970455 550.8 \r\nL 1039.425 550.8 \r\nL 1039.425 347.911969 \r\nL 1036.970455 347.911969 \r\nz\r\n\" style=\"fill:#1f77b4;\"/>\r\n   </g>\r\n   <g id=\"patch_332\">\r\n    <path clip-path=\"url(#p8fd74fd0a7)\" d=\"M 1090.970455 550.8 \r\nL 1093.425 550.8 \r\nL 1093.425 319.927413 \r\nL 1090.970455 319.927413 \r\nz\r\n\" style=\"fill:#1f77b4;\"/>\r\n   </g>\r\n   <g id=\"patch_333\">\r\n    <path clip-path=\"url(#p8fd74fd0a7)\" d=\"M 1144.970455 550.8 \r\nL 1147.425 550.8 \r\nL 1147.425 424.869498 \r\nL 1144.970455 424.869498 \r\nz\r\n\" style=\"fill:#1f77b4;\"/>\r\n   </g>\r\n   <g id=\"patch_334\">\r\n    <path clip-path=\"url(#p8fd74fd0a7)\" d=\"M 1198.970455 550.8 \r\nL 1201.425 550.8 \r\nL 1201.425 207.989189 \r\nL 1198.970455 207.989189 \r\nz\r\n\" style=\"fill:#1f77b4;\"/>\r\n   </g>\r\n   <g id=\"patch_335\">\r\n    <path clip-path=\"url(#p8fd74fd0a7)\" d=\"M 1252.970455 550.8 \r\nL 1255.425 550.8 \r\nL 1255.425 228.977606 \r\nL 1252.970455 228.977606 \r\nz\r\n\" style=\"fill:#1f77b4;\"/>\r\n   </g>\r\n   <g id=\"patch_336\">\r\n    <path clip-path=\"url(#p8fd74fd0a7)\" d=\"M 1306.970455 550.8 \r\nL 1309.425 550.8 \r\nL 1309.425 249.966023 \r\nL 1306.970455 249.966023 \r\nz\r\n\" style=\"fill:#1f77b4;\"/>\r\n   </g>\r\n   <g id=\"patch_337\">\r\n    <path clip-path=\"url(#p8fd74fd0a7)\" d=\"M 1360.970455 550.8 \r\nL 1363.425 550.8 \r\nL 1363.425 200.99305 \r\nL 1360.970455 200.99305 \r\nz\r\n\" style=\"fill:#1f77b4;\"/>\r\n   </g>\r\n   <g id=\"patch_338\">\r\n    <path clip-path=\"url(#p8fd74fd0a7)\" d=\"M 1414.970455 550.8 \r\nL 1417.425 550.8 \r\nL 1417.425 221.981467 \r\nL 1414.970455 221.981467 \r\nz\r\n\" style=\"fill:#1f77b4;\"/>\r\n   </g>\r\n   <g id=\"patch_339\">\r\n    <path clip-path=\"url(#p8fd74fd0a7)\" d=\"M 1468.970455 550.8 \r\nL 1471.425 550.8 \r\nL 1471.425 256.962162 \r\nL 1468.970455 256.962162 \r\nz\r\n\" style=\"fill:#1f77b4;\"/>\r\n   </g>\r\n   <g id=\"patch_340\">\r\n    <path clip-path=\"url(#p8fd74fd0a7)\" d=\"M 1522.970455 550.8 \r\nL 1525.425 550.8 \r\nL 1525.425 263.958301 \r\nL 1522.970455 263.958301 \r\nz\r\n\" style=\"fill:#1f77b4;\"/>\r\n   </g>\r\n   <g id=\"patch_341\">\r\n    <path clip-path=\"url(#p8fd74fd0a7)\" d=\"M 1576.970455 550.8 \r\nL 1579.425 550.8 \r\nL 1579.425 361.904247 \r\nL 1576.970455 361.904247 \r\nz\r\n\" style=\"fill:#1f77b4;\"/>\r\n   </g>\r\n   <g id=\"patch_342\">\r\n    <path clip-path=\"url(#p8fd74fd0a7)\" d=\"M 1630.970455 550.8 \r\nL 1633.425 550.8 \r\nL 1633.425 389.888803 \r\nL 1630.970455 389.888803 \r\nz\r\n\" style=\"fill:#1f77b4;\"/>\r\n   </g>\r\n   <g id=\"patch_343\">\r\n    <path clip-path=\"url(#p8fd74fd0a7)\" d=\"M 1684.970455 550.8 \r\nL 1687.425 550.8 \r\nL 1687.425 375.896525 \r\nL 1684.970455 375.896525 \r\nz\r\n\" style=\"fill:#1f77b4;\"/>\r\n   </g>\r\n   <g id=\"matplotlib.axis_1\">\r\n    <g id=\"xtick_1\">\r\n     <g id=\"line2d_1\">\r\n      <defs>\r\n       <path d=\"M 0 0 \r\nL 0 3.5 \r\n\" id=\"mdc3eca4fe2\" style=\"stroke:#000000;stroke-width:0.8;\"/>\r\n      </defs>\r\n      <g>\r\n       <use style=\"stroke:#000000;stroke-width:0.8;\" x=\"53.925\" xlink:href=\"#mdc3eca4fe2\" y=\"550.8\"/>\r\n      </g>\r\n     </g>\r\n     <g id=\"text_1\">\r\n      <!-- Austria -->\r\n      <g transform=\"translate(56.684375 593.125)rotate(-90)scale(0.1 -0.1)\">\r\n       <defs>\r\n        <path d=\"M 34.1875 63.1875 \r\nL 20.796875 26.90625 \r\nL 47.609375 26.90625 \r\nz\r\nM 28.609375 72.90625 \r\nL 39.796875 72.90625 \r\nL 67.578125 0 \r\nL 57.328125 0 \r\nL 50.6875 18.703125 \r\nL 17.828125 18.703125 \r\nL 11.1875 0 \r\nL 0.78125 0 \r\nz\r\n\" id=\"DejaVuSans-65\"/>\r\n        <path d=\"M 8.5 21.578125 \r\nL 8.5 54.6875 \r\nL 17.484375 54.6875 \r\nL 17.484375 21.921875 \r\nQ 17.484375 14.15625 20.5 10.265625 \r\nQ 23.53125 6.390625 29.59375 6.390625 \r\nQ 36.859375 6.390625 41.078125 11.03125 \r\nQ 45.3125 15.671875 45.3125 23.6875 \r\nL 45.3125 54.6875 \r\nL 54.296875 54.6875 \r\nL 54.296875 0 \r\nL 45.3125 0 \r\nL 45.3125 8.40625 \r\nQ 42.046875 3.421875 37.71875 1 \r\nQ 33.40625 -1.421875 27.6875 -1.421875 \r\nQ 18.265625 -1.421875 13.375 4.4375 \r\nQ 8.5 10.296875 8.5 21.578125 \r\nz\r\nM 31.109375 56 \r\nz\r\n\" id=\"DejaVuSans-117\"/>\r\n        <path d=\"M 44.28125 53.078125 \r\nL 44.28125 44.578125 \r\nQ 40.484375 46.53125 36.375 47.5 \r\nQ 32.28125 48.484375 27.875 48.484375 \r\nQ 21.1875 48.484375 17.84375 46.4375 \r\nQ 14.5 44.390625 14.5 40.28125 \r\nQ 14.5 37.15625 16.890625 35.375 \r\nQ 19.28125 33.59375 26.515625 31.984375 \r\nL 29.59375 31.296875 \r\nQ 39.15625 29.25 43.1875 25.515625 \r\nQ 47.21875 21.78125 47.21875 15.09375 \r\nQ 47.21875 7.46875 41.1875 3.015625 \r\nQ 35.15625 -1.421875 24.609375 -1.421875 \r\nQ 20.21875 -1.421875 15.453125 -0.5625 \r\nQ 10.6875 0.296875 5.421875 2 \r\nL 5.421875 11.28125 \r\nQ 10.40625 8.6875 15.234375 7.390625 \r\nQ 20.0625 6.109375 24.8125 6.109375 \r\nQ 31.15625 6.109375 34.5625 8.28125 \r\nQ 37.984375 10.453125 37.984375 14.40625 \r\nQ 37.984375 18.0625 35.515625 20.015625 \r\nQ 33.0625 21.96875 24.703125 23.78125 \r\nL 21.578125 24.515625 \r\nQ 13.234375 26.265625 9.515625 29.90625 \r\nQ 5.8125 33.546875 5.8125 39.890625 \r\nQ 5.8125 47.609375 11.28125 51.796875 \r\nQ 16.75 56 26.8125 56 \r\nQ 31.78125 56 36.171875 55.265625 \r\nQ 40.578125 54.546875 44.28125 53.078125 \r\nz\r\n\" id=\"DejaVuSans-115\"/>\r\n        <path d=\"M 18.3125 70.21875 \r\nL 18.3125 54.6875 \r\nL 36.8125 54.6875 \r\nL 36.8125 47.703125 \r\nL 18.3125 47.703125 \r\nL 18.3125 18.015625 \r\nQ 18.3125 11.328125 20.140625 9.421875 \r\nQ 21.96875 7.515625 27.59375 7.515625 \r\nL 36.8125 7.515625 \r\nL 36.8125 0 \r\nL 27.59375 0 \r\nQ 17.1875 0 13.234375 3.875 \r\nQ 9.28125 7.765625 9.28125 18.015625 \r\nL 9.28125 47.703125 \r\nL 2.6875 47.703125 \r\nL 2.6875 54.6875 \r\nL 9.28125 54.6875 \r\nL 9.28125 70.21875 \r\nz\r\n\" id=\"DejaVuSans-116\"/>\r\n        <path d=\"M 41.109375 46.296875 \r\nQ 39.59375 47.171875 37.8125 47.578125 \r\nQ 36.03125 48 33.890625 48 \r\nQ 26.265625 48 22.1875 43.046875 \r\nQ 18.109375 38.09375 18.109375 28.8125 \r\nL 18.109375 0 \r\nL 9.078125 0 \r\nL 9.078125 54.6875 \r\nL 18.109375 54.6875 \r\nL 18.109375 46.1875 \r\nQ 20.953125 51.171875 25.484375 53.578125 \r\nQ 30.03125 56 36.53125 56 \r\nQ 37.453125 56 38.578125 55.875 \r\nQ 39.703125 55.765625 41.0625 55.515625 \r\nz\r\n\" id=\"DejaVuSans-114\"/>\r\n        <path d=\"M 9.421875 54.6875 \r\nL 18.40625 54.6875 \r\nL 18.40625 0 \r\nL 9.421875 0 \r\nz\r\nM 9.421875 75.984375 \r\nL 18.40625 75.984375 \r\nL 18.40625 64.59375 \r\nL 9.421875 64.59375 \r\nz\r\n\" id=\"DejaVuSans-105\"/>\r\n        <path d=\"M 34.28125 27.484375 \r\nQ 23.390625 27.484375 19.1875 25 \r\nQ 14.984375 22.515625 14.984375 16.5 \r\nQ 14.984375 11.71875 18.140625 8.90625 \r\nQ 21.296875 6.109375 26.703125 6.109375 \r\nQ 34.1875 6.109375 38.703125 11.40625 \r\nQ 43.21875 16.703125 43.21875 25.484375 \r\nL 43.21875 27.484375 \r\nz\r\nM 52.203125 31.203125 \r\nL 52.203125 0 \r\nL 43.21875 0 \r\nL 43.21875 8.296875 \r\nQ 40.140625 3.328125 35.546875 0.953125 \r\nQ 30.953125 -1.421875 24.3125 -1.421875 \r\nQ 15.921875 -1.421875 10.953125 3.296875 \r\nQ 6 8.015625 6 15.921875 \r\nQ 6 25.140625 12.171875 29.828125 \r\nQ 18.359375 34.515625 30.609375 34.515625 \r\nL 43.21875 34.515625 \r\nL 43.21875 35.40625 \r\nQ 43.21875 41.609375 39.140625 45 \r\nQ 35.0625 48.390625 27.6875 48.390625 \r\nQ 23 48.390625 18.546875 47.265625 \r\nQ 14.109375 46.140625 10.015625 43.890625 \r\nL 10.015625 52.203125 \r\nQ 14.9375 54.109375 19.578125 55.046875 \r\nQ 24.21875 56 28.609375 56 \r\nQ 40.484375 56 46.34375 49.84375 \r\nQ 52.203125 43.703125 52.203125 31.203125 \r\nz\r\n\" id=\"DejaVuSans-97\"/>\r\n       </defs>\r\n       <use xlink:href=\"#DejaVuSans-65\"/>\r\n       <use x=\"68.408203\" xlink:href=\"#DejaVuSans-117\"/>\r\n       <use x=\"131.787109\" xlink:href=\"#DejaVuSans-115\"/>\r\n       <use x=\"183.886719\" xlink:href=\"#DejaVuSans-116\"/>\r\n       <use x=\"223.095703\" xlink:href=\"#DejaVuSans-114\"/>\r\n       <use x=\"264.208984\" xlink:href=\"#DejaVuSans-105\"/>\r\n       <use x=\"291.992188\" xlink:href=\"#DejaVuSans-97\"/>\r\n      </g>\r\n     </g>\r\n    </g>\r\n    <g id=\"xtick_2\">\r\n     <g id=\"line2d_2\">\r\n      <g>\r\n       <use style=\"stroke:#000000;stroke-width:0.8;\" x=\"107.925\" xlink:href=\"#mdc3eca4fe2\" y=\"550.8\"/>\r\n      </g>\r\n     </g>\r\n     <g id=\"text_2\">\r\n      <!-- Belgium -->\r\n      <g transform=\"translate(110.684375 598.796875)rotate(-90)scale(0.1 -0.1)\">\r\n       <defs>\r\n        <path d=\"M 19.671875 34.8125 \r\nL 19.671875 8.109375 \r\nL 35.5 8.109375 \r\nQ 43.453125 8.109375 47.28125 11.40625 \r\nQ 51.125 14.703125 51.125 21.484375 \r\nQ 51.125 28.328125 47.28125 31.5625 \r\nQ 43.453125 34.8125 35.5 34.8125 \r\nz\r\nM 19.671875 64.796875 \r\nL 19.671875 42.828125 \r\nL 34.28125 42.828125 \r\nQ 41.5 42.828125 45.03125 45.53125 \r\nQ 48.578125 48.25 48.578125 53.8125 \r\nQ 48.578125 59.328125 45.03125 62.0625 \r\nQ 41.5 64.796875 34.28125 64.796875 \r\nz\r\nM 9.8125 72.90625 \r\nL 35.015625 72.90625 \r\nQ 46.296875 72.90625 52.390625 68.21875 \r\nQ 58.5 63.53125 58.5 54.890625 \r\nQ 58.5 48.1875 55.375 44.234375 \r\nQ 52.25 40.28125 46.1875 39.3125 \r\nQ 53.46875 37.75 57.5 32.78125 \r\nQ 61.53125 27.828125 61.53125 20.40625 \r\nQ 61.53125 10.640625 54.890625 5.3125 \r\nQ 48.25 0 35.984375 0 \r\nL 9.8125 0 \r\nz\r\n\" id=\"DejaVuSans-66\"/>\r\n        <path d=\"M 56.203125 29.59375 \r\nL 56.203125 25.203125 \r\nL 14.890625 25.203125 \r\nQ 15.484375 15.921875 20.484375 11.0625 \r\nQ 25.484375 6.203125 34.421875 6.203125 \r\nQ 39.59375 6.203125 44.453125 7.46875 \r\nQ 49.3125 8.734375 54.109375 11.28125 \r\nL 54.109375 2.78125 \r\nQ 49.265625 0.734375 44.1875 -0.34375 \r\nQ 39.109375 -1.421875 33.890625 -1.421875 \r\nQ 20.796875 -1.421875 13.15625 6.1875 \r\nQ 5.515625 13.8125 5.515625 26.8125 \r\nQ 5.515625 40.234375 12.765625 48.109375 \r\nQ 20.015625 56 32.328125 56 \r\nQ 43.359375 56 49.78125 48.890625 \r\nQ 56.203125 41.796875 56.203125 29.59375 \r\nz\r\nM 47.21875 32.234375 \r\nQ 47.125 39.59375 43.09375 43.984375 \r\nQ 39.0625 48.390625 32.421875 48.390625 \r\nQ 24.90625 48.390625 20.390625 44.140625 \r\nQ 15.875 39.890625 15.1875 32.171875 \r\nz\r\n\" id=\"DejaVuSans-101\"/>\r\n        <path d=\"M 9.421875 75.984375 \r\nL 18.40625 75.984375 \r\nL 18.40625 0 \r\nL 9.421875 0 \r\nz\r\n\" id=\"DejaVuSans-108\"/>\r\n        <path d=\"M 45.40625 27.984375 \r\nQ 45.40625 37.75 41.375 43.109375 \r\nQ 37.359375 48.484375 30.078125 48.484375 \r\nQ 22.859375 48.484375 18.828125 43.109375 \r\nQ 14.796875 37.75 14.796875 27.984375 \r\nQ 14.796875 18.265625 18.828125 12.890625 \r\nQ 22.859375 7.515625 30.078125 7.515625 \r\nQ 37.359375 7.515625 41.375 12.890625 \r\nQ 45.40625 18.265625 45.40625 27.984375 \r\nz\r\nM 54.390625 6.78125 \r\nQ 54.390625 -7.171875 48.1875 -13.984375 \r\nQ 42 -20.796875 29.203125 -20.796875 \r\nQ 24.46875 -20.796875 20.265625 -20.09375 \r\nQ 16.0625 -19.390625 12.109375 -17.921875 \r\nL 12.109375 -9.1875 \r\nQ 16.0625 -11.328125 19.921875 -12.34375 \r\nQ 23.78125 -13.375 27.78125 -13.375 \r\nQ 36.625 -13.375 41.015625 -8.765625 \r\nQ 45.40625 -4.15625 45.40625 5.171875 \r\nL 45.40625 9.625 \r\nQ 42.625 4.78125 38.28125 2.390625 \r\nQ 33.9375 0 27.875 0 \r\nQ 17.828125 0 11.671875 7.65625 \r\nQ 5.515625 15.328125 5.515625 27.984375 \r\nQ 5.515625 40.671875 11.671875 48.328125 \r\nQ 17.828125 56 27.875 56 \r\nQ 33.9375 56 38.28125 53.609375 \r\nQ 42.625 51.21875 45.40625 46.390625 \r\nL 45.40625 54.6875 \r\nL 54.390625 54.6875 \r\nz\r\n\" id=\"DejaVuSans-103\"/>\r\n        <path d=\"M 52 44.1875 \r\nQ 55.375 50.25 60.0625 53.125 \r\nQ 64.75 56 71.09375 56 \r\nQ 79.640625 56 84.28125 50.015625 \r\nQ 88.921875 44.046875 88.921875 33.015625 \r\nL 88.921875 0 \r\nL 79.890625 0 \r\nL 79.890625 32.71875 \r\nQ 79.890625 40.578125 77.09375 44.375 \r\nQ 74.3125 48.1875 68.609375 48.1875 \r\nQ 61.625 48.1875 57.5625 43.546875 \r\nQ 53.515625 38.921875 53.515625 30.90625 \r\nL 53.515625 0 \r\nL 44.484375 0 \r\nL 44.484375 32.71875 \r\nQ 44.484375 40.625 41.703125 44.40625 \r\nQ 38.921875 48.1875 33.109375 48.1875 \r\nQ 26.21875 48.1875 22.15625 43.53125 \r\nQ 18.109375 38.875 18.109375 30.90625 \r\nL 18.109375 0 \r\nL 9.078125 0 \r\nL 9.078125 54.6875 \r\nL 18.109375 54.6875 \r\nL 18.109375 46.1875 \r\nQ 21.1875 51.21875 25.484375 53.609375 \r\nQ 29.78125 56 35.6875 56 \r\nQ 41.65625 56 45.828125 52.96875 \r\nQ 50 49.953125 52 44.1875 \r\nz\r\n\" id=\"DejaVuSans-109\"/>\r\n       </defs>\r\n       <use xlink:href=\"#DejaVuSans-66\"/>\r\n       <use x=\"68.603516\" xlink:href=\"#DejaVuSans-101\"/>\r\n       <use x=\"130.126953\" xlink:href=\"#DejaVuSans-108\"/>\r\n       <use x=\"157.910156\" xlink:href=\"#DejaVuSans-103\"/>\r\n       <use x=\"221.386719\" xlink:href=\"#DejaVuSans-105\"/>\r\n       <use x=\"249.169922\" xlink:href=\"#DejaVuSans-117\"/>\r\n       <use x=\"312.548828\" xlink:href=\"#DejaVuSans-109\"/>\r\n      </g>\r\n     </g>\r\n    </g>\r\n    <g id=\"xtick_3\">\r\n     <g id=\"line2d_3\">\r\n      <g>\r\n       <use style=\"stroke:#000000;stroke-width:0.8;\" x=\"161.925\" xlink:href=\"#mdc3eca4fe2\" y=\"550.8\"/>\r\n      </g>\r\n     </g>\r\n     <g id=\"text_3\">\r\n      <!-- Bulgaria -->\r\n      <g transform=\"translate(164.684375 599.270313)rotate(-90)scale(0.1 -0.1)\">\r\n       <use xlink:href=\"#DejaVuSans-66\"/>\r\n       <use x=\"68.603516\" xlink:href=\"#DejaVuSans-117\"/>\r\n       <use x=\"131.982422\" xlink:href=\"#DejaVuSans-108\"/>\r\n       <use x=\"159.765625\" xlink:href=\"#DejaVuSans-103\"/>\r\n       <use x=\"223.242188\" xlink:href=\"#DejaVuSans-97\"/>\r\n       <use x=\"284.521484\" xlink:href=\"#DejaVuSans-114\"/>\r\n       <use x=\"325.634766\" xlink:href=\"#DejaVuSans-105\"/>\r\n       <use x=\"353.417969\" xlink:href=\"#DejaVuSans-97\"/>\r\n      </g>\r\n     </g>\r\n    </g>\r\n    <g id=\"xtick_4\">\r\n     <g id=\"line2d_4\">\r\n      <g>\r\n       <use style=\"stroke:#000000;stroke-width:0.8;\" x=\"215.925\" xlink:href=\"#mdc3eca4fe2\" y=\"550.8\"/>\r\n      </g>\r\n     </g>\r\n     <g id=\"text_4\">\r\n      <!-- Croatia -->\r\n      <g transform=\"translate(218.684375 593.742188)rotate(-90)scale(0.1 -0.1)\">\r\n       <defs>\r\n        <path d=\"M 64.40625 67.28125 \r\nL 64.40625 56.890625 \r\nQ 59.421875 61.53125 53.78125 63.8125 \r\nQ 48.140625 66.109375 41.796875 66.109375 \r\nQ 29.296875 66.109375 22.65625 58.46875 \r\nQ 16.015625 50.828125 16.015625 36.375 \r\nQ 16.015625 21.96875 22.65625 14.328125 \r\nQ 29.296875 6.6875 41.796875 6.6875 \r\nQ 48.140625 6.6875 53.78125 8.984375 \r\nQ 59.421875 11.28125 64.40625 15.921875 \r\nL 64.40625 5.609375 \r\nQ 59.234375 2.09375 53.4375 0.328125 \r\nQ 47.65625 -1.421875 41.21875 -1.421875 \r\nQ 24.65625 -1.421875 15.125 8.703125 \r\nQ 5.609375 18.84375 5.609375 36.375 \r\nQ 5.609375 53.953125 15.125 64.078125 \r\nQ 24.65625 74.21875 41.21875 74.21875 \r\nQ 47.75 74.21875 53.53125 72.484375 \r\nQ 59.328125 70.75 64.40625 67.28125 \r\nz\r\n\" id=\"DejaVuSans-67\"/>\r\n        <path d=\"M 30.609375 48.390625 \r\nQ 23.390625 48.390625 19.1875 42.75 \r\nQ 14.984375 37.109375 14.984375 27.296875 \r\nQ 14.984375 17.484375 19.15625 11.84375 \r\nQ 23.34375 6.203125 30.609375 6.203125 \r\nQ 37.796875 6.203125 41.984375 11.859375 \r\nQ 46.1875 17.53125 46.1875 27.296875 \r\nQ 46.1875 37.015625 41.984375 42.703125 \r\nQ 37.796875 48.390625 30.609375 48.390625 \r\nz\r\nM 30.609375 56 \r\nQ 42.328125 56 49.015625 48.375 \r\nQ 55.71875 40.765625 55.71875 27.296875 \r\nQ 55.71875 13.875 49.015625 6.21875 \r\nQ 42.328125 -1.421875 30.609375 -1.421875 \r\nQ 18.84375 -1.421875 12.171875 6.21875 \r\nQ 5.515625 13.875 5.515625 27.296875 \r\nQ 5.515625 40.765625 12.171875 48.375 \r\nQ 18.84375 56 30.609375 56 \r\nz\r\n\" id=\"DejaVuSans-111\"/>\r\n       </defs>\r\n       <use xlink:href=\"#DejaVuSans-67\"/>\r\n       <use x=\"69.824219\" xlink:href=\"#DejaVuSans-114\"/>\r\n       <use x=\"108.6875\" xlink:href=\"#DejaVuSans-111\"/>\r\n       <use x=\"169.869141\" xlink:href=\"#DejaVuSans-97\"/>\r\n       <use x=\"231.148438\" xlink:href=\"#DejaVuSans-116\"/>\r\n       <use x=\"270.357422\" xlink:href=\"#DejaVuSans-105\"/>\r\n       <use x=\"298.140625\" xlink:href=\"#DejaVuSans-97\"/>\r\n      </g>\r\n     </g>\r\n    </g>\r\n    <g id=\"xtick_5\">\r\n     <g id=\"line2d_5\">\r\n      <g>\r\n       <use style=\"stroke:#000000;stroke-width:0.8;\" x=\"269.925\" xlink:href=\"#mdc3eca4fe2\" y=\"550.8\"/>\r\n      </g>\r\n     </g>\r\n     <g id=\"text_5\">\r\n      <!-- Cyprus -->\r\n      <g transform=\"translate(272.684375 592.707813)rotate(-90)scale(0.1 -0.1)\">\r\n       <defs>\r\n        <path d=\"M 32.171875 -5.078125 \r\nQ 28.375 -14.84375 24.75 -17.8125 \r\nQ 21.140625 -20.796875 15.09375 -20.796875 \r\nL 7.90625 -20.796875 \r\nL 7.90625 -13.28125 \r\nL 13.1875 -13.28125 \r\nQ 16.890625 -13.28125 18.9375 -11.515625 \r\nQ 21 -9.765625 23.484375 -3.21875 \r\nL 25.09375 0.875 \r\nL 2.984375 54.6875 \r\nL 12.5 54.6875 \r\nL 29.59375 11.921875 \r\nL 46.6875 54.6875 \r\nL 56.203125 54.6875 \r\nz\r\n\" id=\"DejaVuSans-121\"/>\r\n        <path d=\"M 18.109375 8.203125 \r\nL 18.109375 -20.796875 \r\nL 9.078125 -20.796875 \r\nL 9.078125 54.6875 \r\nL 18.109375 54.6875 \r\nL 18.109375 46.390625 \r\nQ 20.953125 51.265625 25.265625 53.625 \r\nQ 29.59375 56 35.59375 56 \r\nQ 45.5625 56 51.78125 48.09375 \r\nQ 58.015625 40.1875 58.015625 27.296875 \r\nQ 58.015625 14.40625 51.78125 6.484375 \r\nQ 45.5625 -1.421875 35.59375 -1.421875 \r\nQ 29.59375 -1.421875 25.265625 0.953125 \r\nQ 20.953125 3.328125 18.109375 8.203125 \r\nz\r\nM 48.6875 27.296875 \r\nQ 48.6875 37.203125 44.609375 42.84375 \r\nQ 40.53125 48.484375 33.40625 48.484375 \r\nQ 26.265625 48.484375 22.1875 42.84375 \r\nQ 18.109375 37.203125 18.109375 27.296875 \r\nQ 18.109375 17.390625 22.1875 11.75 \r\nQ 26.265625 6.109375 33.40625 6.109375 \r\nQ 40.53125 6.109375 44.609375 11.75 \r\nQ 48.6875 17.390625 48.6875 27.296875 \r\nz\r\n\" id=\"DejaVuSans-112\"/>\r\n       </defs>\r\n       <use xlink:href=\"#DejaVuSans-67\"/>\r\n       <use x=\"69.824219\" xlink:href=\"#DejaVuSans-121\"/>\r\n       <use x=\"129.003906\" xlink:href=\"#DejaVuSans-112\"/>\r\n       <use x=\"192.480469\" xlink:href=\"#DejaVuSans-114\"/>\r\n       <use x=\"233.59375\" xlink:href=\"#DejaVuSans-117\"/>\r\n       <use x=\"296.972656\" xlink:href=\"#DejaVuSans-115\"/>\r\n      </g>\r\n     </g>\r\n    </g>\r\n    <g id=\"xtick_6\">\r\n     <g id=\"line2d_6\">\r\n      <g>\r\n       <use style=\"stroke:#000000;stroke-width:0.8;\" x=\"323.925\" xlink:href=\"#mdc3eca4fe2\" y=\"550.8\"/>\r\n      </g>\r\n     </g>\r\n     <g id=\"text_6\">\r\n      <!-- Czechia -->\r\n      <g transform=\"translate(326.684375 596.926563)rotate(-90)scale(0.1 -0.1)\">\r\n       <defs>\r\n        <path d=\"M 5.515625 54.6875 \r\nL 48.1875 54.6875 \r\nL 48.1875 46.484375 \r\nL 14.40625 7.171875 \r\nL 48.1875 7.171875 \r\nL 48.1875 0 \r\nL 4.296875 0 \r\nL 4.296875 8.203125 \r\nL 38.09375 47.515625 \r\nL 5.515625 47.515625 \r\nz\r\n\" id=\"DejaVuSans-122\"/>\r\n        <path d=\"M 48.78125 52.59375 \r\nL 48.78125 44.1875 \r\nQ 44.96875 46.296875 41.140625 47.34375 \r\nQ 37.3125 48.390625 33.40625 48.390625 \r\nQ 24.65625 48.390625 19.8125 42.84375 \r\nQ 14.984375 37.3125 14.984375 27.296875 \r\nQ 14.984375 17.28125 19.8125 11.734375 \r\nQ 24.65625 6.203125 33.40625 6.203125 \r\nQ 37.3125 6.203125 41.140625 7.25 \r\nQ 44.96875 8.296875 48.78125 10.40625 \r\nL 48.78125 2.09375 \r\nQ 45.015625 0.34375 40.984375 -0.53125 \r\nQ 36.96875 -1.421875 32.421875 -1.421875 \r\nQ 20.0625 -1.421875 12.78125 6.34375 \r\nQ 5.515625 14.109375 5.515625 27.296875 \r\nQ 5.515625 40.671875 12.859375 48.328125 \r\nQ 20.21875 56 33.015625 56 \r\nQ 37.15625 56 41.109375 55.140625 \r\nQ 45.0625 54.296875 48.78125 52.59375 \r\nz\r\n\" id=\"DejaVuSans-99\"/>\r\n        <path d=\"M 54.890625 33.015625 \r\nL 54.890625 0 \r\nL 45.90625 0 \r\nL 45.90625 32.71875 \r\nQ 45.90625 40.484375 42.875 44.328125 \r\nQ 39.84375 48.1875 33.796875 48.1875 \r\nQ 26.515625 48.1875 22.3125 43.546875 \r\nQ 18.109375 38.921875 18.109375 30.90625 \r\nL 18.109375 0 \r\nL 9.078125 0 \r\nL 9.078125 75.984375 \r\nL 18.109375 75.984375 \r\nL 18.109375 46.1875 \r\nQ 21.34375 51.125 25.703125 53.5625 \r\nQ 30.078125 56 35.796875 56 \r\nQ 45.21875 56 50.046875 50.171875 \r\nQ 54.890625 44.34375 54.890625 33.015625 \r\nz\r\n\" id=\"DejaVuSans-104\"/>\r\n       </defs>\r\n       <use xlink:href=\"#DejaVuSans-67\"/>\r\n       <use x=\"69.824219\" xlink:href=\"#DejaVuSans-122\"/>\r\n       <use x=\"122.314453\" xlink:href=\"#DejaVuSans-101\"/>\r\n       <use x=\"183.837891\" xlink:href=\"#DejaVuSans-99\"/>\r\n       <use x=\"238.818359\" xlink:href=\"#DejaVuSans-104\"/>\r\n       <use x=\"302.197266\" xlink:href=\"#DejaVuSans-105\"/>\r\n       <use x=\"329.980469\" xlink:href=\"#DejaVuSans-97\"/>\r\n      </g>\r\n     </g>\r\n    </g>\r\n    <g id=\"xtick_7\">\r\n     <g id=\"line2d_7\">\r\n      <g>\r\n       <use style=\"stroke:#000000;stroke-width:0.8;\" x=\"377.925\" xlink:href=\"#mdc3eca4fe2\" y=\"550.8\"/>\r\n      </g>\r\n     </g>\r\n     <g id=\"text_7\">\r\n      <!-- Denmark -->\r\n      <g transform=\"translate(380.684375 603.760938)rotate(-90)scale(0.1 -0.1)\">\r\n       <defs>\r\n        <path d=\"M 19.671875 64.796875 \r\nL 19.671875 8.109375 \r\nL 31.59375 8.109375 \r\nQ 46.6875 8.109375 53.6875 14.9375 \r\nQ 60.6875 21.78125 60.6875 36.53125 \r\nQ 60.6875 51.171875 53.6875 57.984375 \r\nQ 46.6875 64.796875 31.59375 64.796875 \r\nz\r\nM 9.8125 72.90625 \r\nL 30.078125 72.90625 \r\nQ 51.265625 72.90625 61.171875 64.09375 \r\nQ 71.09375 55.28125 71.09375 36.53125 \r\nQ 71.09375 17.671875 61.125 8.828125 \r\nQ 51.171875 0 30.078125 0 \r\nL 9.8125 0 \r\nz\r\n\" id=\"DejaVuSans-68\"/>\r\n        <path d=\"M 54.890625 33.015625 \r\nL 54.890625 0 \r\nL 45.90625 0 \r\nL 45.90625 32.71875 \r\nQ 45.90625 40.484375 42.875 44.328125 \r\nQ 39.84375 48.1875 33.796875 48.1875 \r\nQ 26.515625 48.1875 22.3125 43.546875 \r\nQ 18.109375 38.921875 18.109375 30.90625 \r\nL 18.109375 0 \r\nL 9.078125 0 \r\nL 9.078125 54.6875 \r\nL 18.109375 54.6875 \r\nL 18.109375 46.1875 \r\nQ 21.34375 51.125 25.703125 53.5625 \r\nQ 30.078125 56 35.796875 56 \r\nQ 45.21875 56 50.046875 50.171875 \r\nQ 54.890625 44.34375 54.890625 33.015625 \r\nz\r\n\" id=\"DejaVuSans-110\"/>\r\n        <path d=\"M 9.078125 75.984375 \r\nL 18.109375 75.984375 \r\nL 18.109375 31.109375 \r\nL 44.921875 54.6875 \r\nL 56.390625 54.6875 \r\nL 27.390625 29.109375 \r\nL 57.625 0 \r\nL 45.90625 0 \r\nL 18.109375 26.703125 \r\nL 18.109375 0 \r\nL 9.078125 0 \r\nz\r\n\" id=\"DejaVuSans-107\"/>\r\n       </defs>\r\n       <use xlink:href=\"#DejaVuSans-68\"/>\r\n       <use x=\"77.001953\" xlink:href=\"#DejaVuSans-101\"/>\r\n       <use x=\"138.525391\" xlink:href=\"#DejaVuSans-110\"/>\r\n       <use x=\"201.904297\" xlink:href=\"#DejaVuSans-109\"/>\r\n       <use x=\"299.316406\" xlink:href=\"#DejaVuSans-97\"/>\r\n       <use x=\"360.595703\" xlink:href=\"#DejaVuSans-114\"/>\r\n       <use x=\"401.708984\" xlink:href=\"#DejaVuSans-107\"/>\r\n      </g>\r\n     </g>\r\n    </g>\r\n    <g id=\"xtick_8\">\r\n     <g id=\"line2d_8\">\r\n      <g>\r\n       <use style=\"stroke:#000000;stroke-width:0.8;\" x=\"431.925\" xlink:href=\"#mdc3eca4fe2\" y=\"550.8\"/>\r\n      </g>\r\n     </g>\r\n     <g id=\"text_8\">\r\n      <!-- EU-28 -->\r\n      <g transform=\"translate(434.684375 587.770313)rotate(-90)scale(0.1 -0.1)\">\r\n       <defs>\r\n        <path d=\"M 9.8125 72.90625 \r\nL 55.90625 72.90625 \r\nL 55.90625 64.59375 \r\nL 19.671875 64.59375 \r\nL 19.671875 43.015625 \r\nL 54.390625 43.015625 \r\nL 54.390625 34.71875 \r\nL 19.671875 34.71875 \r\nL 19.671875 8.296875 \r\nL 56.78125 8.296875 \r\nL 56.78125 0 \r\nL 9.8125 0 \r\nz\r\n\" id=\"DejaVuSans-69\"/>\r\n        <path d=\"M 8.6875 72.90625 \r\nL 18.609375 72.90625 \r\nL 18.609375 28.609375 \r\nQ 18.609375 16.890625 22.84375 11.734375 \r\nQ 27.09375 6.59375 36.625 6.59375 \r\nQ 46.09375 6.59375 50.34375 11.734375 \r\nQ 54.59375 16.890625 54.59375 28.609375 \r\nL 54.59375 72.90625 \r\nL 64.5 72.90625 \r\nL 64.5 27.390625 \r\nQ 64.5 13.140625 57.4375 5.859375 \r\nQ 50.390625 -1.421875 36.625 -1.421875 \r\nQ 22.796875 -1.421875 15.734375 5.859375 \r\nQ 8.6875 13.140625 8.6875 27.390625 \r\nz\r\n\" id=\"DejaVuSans-85\"/>\r\n        <path d=\"M 4.890625 31.390625 \r\nL 31.203125 31.390625 \r\nL 31.203125 23.390625 \r\nL 4.890625 23.390625 \r\nz\r\n\" id=\"DejaVuSans-45\"/>\r\n        <path d=\"M 19.1875 8.296875 \r\nL 53.609375 8.296875 \r\nL 53.609375 0 \r\nL 7.328125 0 \r\nL 7.328125 8.296875 \r\nQ 12.9375 14.109375 22.625 23.890625 \r\nQ 32.328125 33.6875 34.8125 36.53125 \r\nQ 39.546875 41.84375 41.421875 45.53125 \r\nQ 43.3125 49.21875 43.3125 52.78125 \r\nQ 43.3125 58.59375 39.234375 62.25 \r\nQ 35.15625 65.921875 28.609375 65.921875 \r\nQ 23.96875 65.921875 18.8125 64.3125 \r\nQ 13.671875 62.703125 7.8125 59.421875 \r\nL 7.8125 69.390625 \r\nQ 13.765625 71.78125 18.9375 73 \r\nQ 24.125 74.21875 28.421875 74.21875 \r\nQ 39.75 74.21875 46.484375 68.546875 \r\nQ 53.21875 62.890625 53.21875 53.421875 \r\nQ 53.21875 48.921875 51.53125 44.890625 \r\nQ 49.859375 40.875 45.40625 35.40625 \r\nQ 44.1875 33.984375 37.640625 27.21875 \r\nQ 31.109375 20.453125 19.1875 8.296875 \r\nz\r\n\" id=\"DejaVuSans-50\"/>\r\n        <path d=\"M 31.78125 34.625 \r\nQ 24.75 34.625 20.71875 30.859375 \r\nQ 16.703125 27.09375 16.703125 20.515625 \r\nQ 16.703125 13.921875 20.71875 10.15625 \r\nQ 24.75 6.390625 31.78125 6.390625 \r\nQ 38.8125 6.390625 42.859375 10.171875 \r\nQ 46.921875 13.96875 46.921875 20.515625 \r\nQ 46.921875 27.09375 42.890625 30.859375 \r\nQ 38.875 34.625 31.78125 34.625 \r\nz\r\nM 21.921875 38.8125 \r\nQ 15.578125 40.375 12.03125 44.71875 \r\nQ 8.5 49.078125 8.5 55.328125 \r\nQ 8.5 64.0625 14.71875 69.140625 \r\nQ 20.953125 74.21875 31.78125 74.21875 \r\nQ 42.671875 74.21875 48.875 69.140625 \r\nQ 55.078125 64.0625 55.078125 55.328125 \r\nQ 55.078125 49.078125 51.53125 44.71875 \r\nQ 48 40.375 41.703125 38.8125 \r\nQ 48.828125 37.15625 52.796875 32.3125 \r\nQ 56.78125 27.484375 56.78125 20.515625 \r\nQ 56.78125 9.90625 50.3125 4.234375 \r\nQ 43.84375 -1.421875 31.78125 -1.421875 \r\nQ 19.734375 -1.421875 13.25 4.234375 \r\nQ 6.78125 9.90625 6.78125 20.515625 \r\nQ 6.78125 27.484375 10.78125 32.3125 \r\nQ 14.796875 37.15625 21.921875 38.8125 \r\nz\r\nM 18.3125 54.390625 \r\nQ 18.3125 48.734375 21.84375 45.5625 \r\nQ 25.390625 42.390625 31.78125 42.390625 \r\nQ 38.140625 42.390625 41.71875 45.5625 \r\nQ 45.3125 48.734375 45.3125 54.390625 \r\nQ 45.3125 60.0625 41.71875 63.234375 \r\nQ 38.140625 66.40625 31.78125 66.40625 \r\nQ 25.390625 66.40625 21.84375 63.234375 \r\nQ 18.3125 60.0625 18.3125 54.390625 \r\nz\r\n\" id=\"DejaVuSans-56\"/>\r\n       </defs>\r\n       <use xlink:href=\"#DejaVuSans-69\"/>\r\n       <use x=\"63.183594\" xlink:href=\"#DejaVuSans-85\"/>\r\n       <use x=\"136.376953\" xlink:href=\"#DejaVuSans-45\"/>\r\n       <use x=\"172.460938\" xlink:href=\"#DejaVuSans-50\"/>\r\n       <use x=\"236.083984\" xlink:href=\"#DejaVuSans-56\"/>\r\n      </g>\r\n     </g>\r\n    </g>\r\n    <g id=\"xtick_9\">\r\n     <g id=\"line2d_9\">\r\n      <g>\r\n       <use style=\"stroke:#000000;stroke-width:0.8;\" x=\"485.925\" xlink:href=\"#mdc3eca4fe2\" y=\"550.8\"/>\r\n      </g>\r\n     </g>\r\n     <g id=\"text_9\">\r\n      <!-- Estonia -->\r\n      <g transform=\"translate(488.684375 594.610938)rotate(-90)scale(0.1 -0.1)\">\r\n       <use xlink:href=\"#DejaVuSans-69\"/>\r\n       <use x=\"63.183594\" xlink:href=\"#DejaVuSans-115\"/>\r\n       <use x=\"115.283203\" xlink:href=\"#DejaVuSans-116\"/>\r\n       <use x=\"154.492188\" xlink:href=\"#DejaVuSans-111\"/>\r\n       <use x=\"215.673828\" xlink:href=\"#DejaVuSans-110\"/>\r\n       <use x=\"279.052734\" xlink:href=\"#DejaVuSans-105\"/>\r\n       <use x=\"306.835938\" xlink:href=\"#DejaVuSans-97\"/>\r\n      </g>\r\n     </g>\r\n    </g>\r\n    <g id=\"xtick_10\">\r\n     <g id=\"line2d_10\">\r\n      <g>\r\n       <use style=\"stroke:#000000;stroke-width:0.8;\" x=\"539.925\" xlink:href=\"#mdc3eca4fe2\" y=\"550.8\"/>\r\n      </g>\r\n     </g>\r\n     <g id=\"text_10\">\r\n      <!-- Finland -->\r\n      <g transform=\"translate(542.684375 593.534375)rotate(-90)scale(0.1 -0.1)\">\r\n       <defs>\r\n        <path d=\"M 9.8125 72.90625 \r\nL 51.703125 72.90625 \r\nL 51.703125 64.59375 \r\nL 19.671875 64.59375 \r\nL 19.671875 43.109375 \r\nL 48.578125 43.109375 \r\nL 48.578125 34.8125 \r\nL 19.671875 34.8125 \r\nL 19.671875 0 \r\nL 9.8125 0 \r\nz\r\n\" id=\"DejaVuSans-70\"/>\r\n        <path d=\"M 45.40625 46.390625 \r\nL 45.40625 75.984375 \r\nL 54.390625 75.984375 \r\nL 54.390625 0 \r\nL 45.40625 0 \r\nL 45.40625 8.203125 \r\nQ 42.578125 3.328125 38.25 0.953125 \r\nQ 33.9375 -1.421875 27.875 -1.421875 \r\nQ 17.96875 -1.421875 11.734375 6.484375 \r\nQ 5.515625 14.40625 5.515625 27.296875 \r\nQ 5.515625 40.1875 11.734375 48.09375 \r\nQ 17.96875 56 27.875 56 \r\nQ 33.9375 56 38.25 53.625 \r\nQ 42.578125 51.265625 45.40625 46.390625 \r\nz\r\nM 14.796875 27.296875 \r\nQ 14.796875 17.390625 18.875 11.75 \r\nQ 22.953125 6.109375 30.078125 6.109375 \r\nQ 37.203125 6.109375 41.296875 11.75 \r\nQ 45.40625 17.390625 45.40625 27.296875 \r\nQ 45.40625 37.203125 41.296875 42.84375 \r\nQ 37.203125 48.484375 30.078125 48.484375 \r\nQ 22.953125 48.484375 18.875 42.84375 \r\nQ 14.796875 37.203125 14.796875 27.296875 \r\nz\r\n\" id=\"DejaVuSans-100\"/>\r\n       </defs>\r\n       <use xlink:href=\"#DejaVuSans-70\"/>\r\n       <use x=\"50.269531\" xlink:href=\"#DejaVuSans-105\"/>\r\n       <use x=\"78.052734\" xlink:href=\"#DejaVuSans-110\"/>\r\n       <use x=\"141.431641\" xlink:href=\"#DejaVuSans-108\"/>\r\n       <use x=\"169.214844\" xlink:href=\"#DejaVuSans-97\"/>\r\n       <use x=\"230.494141\" xlink:href=\"#DejaVuSans-110\"/>\r\n       <use x=\"293.873047\" xlink:href=\"#DejaVuSans-100\"/>\r\n      </g>\r\n     </g>\r\n    </g>\r\n    <g id=\"xtick_11\">\r\n     <g id=\"line2d_11\">\r\n      <g>\r\n       <use style=\"stroke:#000000;stroke-width:0.8;\" x=\"593.925\" xlink:href=\"#mdc3eca4fe2\" y=\"550.8\"/>\r\n      </g>\r\n     </g>\r\n     <g id=\"text_11\">\r\n      <!-- France -->\r\n      <g transform=\"translate(596.684375 591.054688)rotate(-90)scale(0.1 -0.1)\">\r\n       <use xlink:href=\"#DejaVuSans-70\"/>\r\n       <use x=\"50.269531\" xlink:href=\"#DejaVuSans-114\"/>\r\n       <use x=\"91.382812\" xlink:href=\"#DejaVuSans-97\"/>\r\n       <use x=\"152.662109\" xlink:href=\"#DejaVuSans-110\"/>\r\n       <use x=\"216.041016\" xlink:href=\"#DejaVuSans-99\"/>\r\n       <use x=\"271.021484\" xlink:href=\"#DejaVuSans-101\"/>\r\n      </g>\r\n     </g>\r\n    </g>\r\n    <g id=\"xtick_12\">\r\n     <g id=\"line2d_12\">\r\n      <g>\r\n       <use style=\"stroke:#000000;stroke-width:0.8;\" x=\"647.925\" xlink:href=\"#mdc3eca4fe2\" y=\"550.8\"/>\r\n      </g>\r\n     </g>\r\n     <g id=\"text_12\">\r\n      <!-- Germany -->\r\n      <g transform=\"translate(650.684375 603.7625)rotate(-90)scale(0.1 -0.1)\">\r\n       <defs>\r\n        <path d=\"M 59.515625 10.40625 \r\nL 59.515625 29.984375 \r\nL 43.40625 29.984375 \r\nL 43.40625 38.09375 \r\nL 69.28125 38.09375 \r\nL 69.28125 6.78125 \r\nQ 63.578125 2.734375 56.6875 0.65625 \r\nQ 49.8125 -1.421875 42 -1.421875 \r\nQ 24.90625 -1.421875 15.25 8.5625 \r\nQ 5.609375 18.5625 5.609375 36.375 \r\nQ 5.609375 54.25 15.25 64.234375 \r\nQ 24.90625 74.21875 42 74.21875 \r\nQ 49.125 74.21875 55.546875 72.453125 \r\nQ 61.96875 70.703125 67.390625 67.28125 \r\nL 67.390625 56.78125 \r\nQ 61.921875 61.421875 55.765625 63.765625 \r\nQ 49.609375 66.109375 42.828125 66.109375 \r\nQ 29.4375 66.109375 22.71875 58.640625 \r\nQ 16.015625 51.171875 16.015625 36.375 \r\nQ 16.015625 21.625 22.71875 14.15625 \r\nQ 29.4375 6.6875 42.828125 6.6875 \r\nQ 48.046875 6.6875 52.140625 7.59375 \r\nQ 56.25 8.5 59.515625 10.40625 \r\nz\r\n\" id=\"DejaVuSans-71\"/>\r\n       </defs>\r\n       <use xlink:href=\"#DejaVuSans-71\"/>\r\n       <use x=\"77.490234\" xlink:href=\"#DejaVuSans-101\"/>\r\n       <use x=\"139.013672\" xlink:href=\"#DejaVuSans-114\"/>\r\n       <use x=\"178.376953\" xlink:href=\"#DejaVuSans-109\"/>\r\n       <use x=\"275.789062\" xlink:href=\"#DejaVuSans-97\"/>\r\n       <use x=\"337.068359\" xlink:href=\"#DejaVuSans-110\"/>\r\n       <use x=\"400.447266\" xlink:href=\"#DejaVuSans-121\"/>\r\n      </g>\r\n     </g>\r\n    </g>\r\n    <g id=\"xtick_13\">\r\n     <g id=\"line2d_13\">\r\n      <g>\r\n       <use style=\"stroke:#000000;stroke-width:0.8;\" x=\"701.925\" xlink:href=\"#mdc3eca4fe2\" y=\"550.8\"/>\r\n      </g>\r\n     </g>\r\n     <g id=\"text_13\">\r\n      <!-- Greece -->\r\n      <g transform=\"translate(704.684375 593.392188)rotate(-90)scale(0.1 -0.1)\">\r\n       <use xlink:href=\"#DejaVuSans-71\"/>\r\n       <use x=\"77.490234\" xlink:href=\"#DejaVuSans-114\"/>\r\n       <use x=\"116.353516\" xlink:href=\"#DejaVuSans-101\"/>\r\n       <use x=\"177.876953\" xlink:href=\"#DejaVuSans-101\"/>\r\n       <use x=\"239.400391\" xlink:href=\"#DejaVuSans-99\"/>\r\n       <use x=\"294.380859\" xlink:href=\"#DejaVuSans-101\"/>\r\n      </g>\r\n     </g>\r\n    </g>\r\n    <g id=\"xtick_14\">\r\n     <g id=\"line2d_14\">\r\n      <g>\r\n       <use style=\"stroke:#000000;stroke-width:0.8;\" x=\"755.925\" xlink:href=\"#mdc3eca4fe2\" y=\"550.8\"/>\r\n      </g>\r\n     </g>\r\n     <g id=\"text_14\">\r\n      <!-- Hungary -->\r\n      <g transform=\"translate(758.684375 600.501562)rotate(-90)scale(0.1 -0.1)\">\r\n       <defs>\r\n        <path d=\"M 9.8125 72.90625 \r\nL 19.671875 72.90625 \r\nL 19.671875 43.015625 \r\nL 55.515625 43.015625 \r\nL 55.515625 72.90625 \r\nL 65.375 72.90625 \r\nL 65.375 0 \r\nL 55.515625 0 \r\nL 55.515625 34.71875 \r\nL 19.671875 34.71875 \r\nL 19.671875 0 \r\nL 9.8125 0 \r\nz\r\n\" id=\"DejaVuSans-72\"/>\r\n       </defs>\r\n       <use xlink:href=\"#DejaVuSans-72\"/>\r\n       <use x=\"75.195312\" xlink:href=\"#DejaVuSans-117\"/>\r\n       <use x=\"138.574219\" xlink:href=\"#DejaVuSans-110\"/>\r\n       <use x=\"201.953125\" xlink:href=\"#DejaVuSans-103\"/>\r\n       <use x=\"265.429688\" xlink:href=\"#DejaVuSans-97\"/>\r\n       <use x=\"326.708984\" xlink:href=\"#DejaVuSans-114\"/>\r\n       <use x=\"367.822266\" xlink:href=\"#DejaVuSans-121\"/>\r\n      </g>\r\n     </g>\r\n    </g>\r\n    <g id=\"xtick_15\">\r\n     <g id=\"line2d_15\">\r\n      <g>\r\n       <use style=\"stroke:#000000;stroke-width:0.8;\" x=\"809.925\" xlink:href=\"#mdc3eca4fe2\" y=\"550.8\"/>\r\n      </g>\r\n     </g>\r\n     <g id=\"text_15\">\r\n      <!-- Ireland -->\r\n      <g transform=\"translate(812.684375 592.38125)rotate(-90)scale(0.1 -0.1)\">\r\n       <defs>\r\n        <path d=\"M 9.8125 72.90625 \r\nL 19.671875 72.90625 \r\nL 19.671875 0 \r\nL 9.8125 0 \r\nz\r\n\" id=\"DejaVuSans-73\"/>\r\n       </defs>\r\n       <use xlink:href=\"#DejaVuSans-73\"/>\r\n       <use x=\"29.492188\" xlink:href=\"#DejaVuSans-114\"/>\r\n       <use x=\"68.355469\" xlink:href=\"#DejaVuSans-101\"/>\r\n       <use x=\"129.878906\" xlink:href=\"#DejaVuSans-108\"/>\r\n       <use x=\"157.662109\" xlink:href=\"#DejaVuSans-97\"/>\r\n       <use x=\"218.941406\" xlink:href=\"#DejaVuSans-110\"/>\r\n       <use x=\"282.320312\" xlink:href=\"#DejaVuSans-100\"/>\r\n      </g>\r\n     </g>\r\n    </g>\r\n    <g id=\"xtick_16\">\r\n     <g id=\"line2d_16\">\r\n      <g>\r\n       <use style=\"stroke:#000000;stroke-width:0.8;\" x=\"863.925\" xlink:href=\"#mdc3eca4fe2\" y=\"550.8\"/>\r\n      </g>\r\n     </g>\r\n     <g id=\"text_16\">\r\n      <!-- Italy -->\r\n      <g transform=\"translate(866.684375 579.495313)rotate(-90)scale(0.1 -0.1)\">\r\n       <use xlink:href=\"#DejaVuSans-73\"/>\r\n       <use x=\"29.492188\" xlink:href=\"#DejaVuSans-116\"/>\r\n       <use x=\"68.701172\" xlink:href=\"#DejaVuSans-97\"/>\r\n       <use x=\"129.980469\" xlink:href=\"#DejaVuSans-108\"/>\r\n       <use x=\"157.763672\" xlink:href=\"#DejaVuSans-121\"/>\r\n      </g>\r\n     </g>\r\n    </g>\r\n    <g id=\"xtick_17\">\r\n     <g id=\"line2d_17\">\r\n      <g>\r\n       <use style=\"stroke:#000000;stroke-width:0.8;\" x=\"917.925\" xlink:href=\"#mdc3eca4fe2\" y=\"550.8\"/>\r\n      </g>\r\n     </g>\r\n     <g id=\"text_17\">\r\n      <!-- Latvia -->\r\n      <g transform=\"translate(920.684375 588.245313)rotate(-90)scale(0.1 -0.1)\">\r\n       <defs>\r\n        <path d=\"M 9.8125 72.90625 \r\nL 19.671875 72.90625 \r\nL 19.671875 8.296875 \r\nL 55.171875 8.296875 \r\nL 55.171875 0 \r\nL 9.8125 0 \r\nz\r\n\" id=\"DejaVuSans-76\"/>\r\n        <path d=\"M 2.984375 54.6875 \r\nL 12.5 54.6875 \r\nL 29.59375 8.796875 \r\nL 46.6875 54.6875 \r\nL 56.203125 54.6875 \r\nL 35.6875 0 \r\nL 23.484375 0 \r\nz\r\n\" id=\"DejaVuSans-118\"/>\r\n       </defs>\r\n       <use xlink:href=\"#DejaVuSans-76\"/>\r\n       <use x=\"55.712891\" xlink:href=\"#DejaVuSans-97\"/>\r\n       <use x=\"116.992188\" xlink:href=\"#DejaVuSans-116\"/>\r\n       <use x=\"156.201172\" xlink:href=\"#DejaVuSans-118\"/>\r\n       <use x=\"215.380859\" xlink:href=\"#DejaVuSans-105\"/>\r\n       <use x=\"243.164062\" xlink:href=\"#DejaVuSans-97\"/>\r\n      </g>\r\n     </g>\r\n    </g>\r\n    <g id=\"xtick_18\">\r\n     <g id=\"line2d_18\">\r\n      <g>\r\n       <use style=\"stroke:#000000;stroke-width:0.8;\" x=\"971.925\" xlink:href=\"#mdc3eca4fe2\" y=\"550.8\"/>\r\n      </g>\r\n     </g>\r\n     <g id=\"text_18\">\r\n      <!-- Lithuania -->\r\n      <g transform=\"translate(974.684375 604.117188)rotate(-90)scale(0.1 -0.1)\">\r\n       <use xlink:href=\"#DejaVuSans-76\"/>\r\n       <use x=\"55.712891\" xlink:href=\"#DejaVuSans-105\"/>\r\n       <use x=\"83.496094\" xlink:href=\"#DejaVuSans-116\"/>\r\n       <use x=\"122.705078\" xlink:href=\"#DejaVuSans-104\"/>\r\n       <use x=\"186.083984\" xlink:href=\"#DejaVuSans-117\"/>\r\n       <use x=\"249.462891\" xlink:href=\"#DejaVuSans-97\"/>\r\n       <use x=\"310.742188\" xlink:href=\"#DejaVuSans-110\"/>\r\n       <use x=\"374.121094\" xlink:href=\"#DejaVuSans-105\"/>\r\n       <use x=\"401.904297\" xlink:href=\"#DejaVuSans-97\"/>\r\n      </g>\r\n     </g>\r\n    </g>\r\n    <g id=\"xtick_19\">\r\n     <g id=\"line2d_19\">\r\n      <g>\r\n       <use style=\"stroke:#000000;stroke-width:0.8;\" x=\"1025.925\" xlink:href=\"#mdc3eca4fe2\" y=\"550.8\"/>\r\n      </g>\r\n     </g>\r\n     <g id=\"text_19\">\r\n      <!-- Luxembourg -->\r\n      <g transform=\"translate(1028.684375 620.123438)rotate(-90)scale(0.1 -0.1)\">\r\n       <defs>\r\n        <path d=\"M 54.890625 54.6875 \r\nL 35.109375 28.078125 \r\nL 55.90625 0 \r\nL 45.3125 0 \r\nL 29.390625 21.484375 \r\nL 13.484375 0 \r\nL 2.875 0 \r\nL 24.125 28.609375 \r\nL 4.6875 54.6875 \r\nL 15.28125 54.6875 \r\nL 29.78125 35.203125 \r\nL 44.28125 54.6875 \r\nz\r\n\" id=\"DejaVuSans-120\"/>\r\n        <path d=\"M 48.6875 27.296875 \r\nQ 48.6875 37.203125 44.609375 42.84375 \r\nQ 40.53125 48.484375 33.40625 48.484375 \r\nQ 26.265625 48.484375 22.1875 42.84375 \r\nQ 18.109375 37.203125 18.109375 27.296875 \r\nQ 18.109375 17.390625 22.1875 11.75 \r\nQ 26.265625 6.109375 33.40625 6.109375 \r\nQ 40.53125 6.109375 44.609375 11.75 \r\nQ 48.6875 17.390625 48.6875 27.296875 \r\nz\r\nM 18.109375 46.390625 \r\nQ 20.953125 51.265625 25.265625 53.625 \r\nQ 29.59375 56 35.59375 56 \r\nQ 45.5625 56 51.78125 48.09375 \r\nQ 58.015625 40.1875 58.015625 27.296875 \r\nQ 58.015625 14.40625 51.78125 6.484375 \r\nQ 45.5625 -1.421875 35.59375 -1.421875 \r\nQ 29.59375 -1.421875 25.265625 0.953125 \r\nQ 20.953125 3.328125 18.109375 8.203125 \r\nL 18.109375 0 \r\nL 9.078125 0 \r\nL 9.078125 75.984375 \r\nL 18.109375 75.984375 \r\nz\r\n\" id=\"DejaVuSans-98\"/>\r\n       </defs>\r\n       <use xlink:href=\"#DejaVuSans-76\"/>\r\n       <use x=\"53.962891\" xlink:href=\"#DejaVuSans-117\"/>\r\n       <use x=\"117.341797\" xlink:href=\"#DejaVuSans-120\"/>\r\n       <use x=\"173.396484\" xlink:href=\"#DejaVuSans-101\"/>\r\n       <use x=\"234.919922\" xlink:href=\"#DejaVuSans-109\"/>\r\n       <use x=\"332.332031\" xlink:href=\"#DejaVuSans-98\"/>\r\n       <use x=\"395.808594\" xlink:href=\"#DejaVuSans-111\"/>\r\n       <use x=\"456.990234\" xlink:href=\"#DejaVuSans-117\"/>\r\n       <use x=\"520.369141\" xlink:href=\"#DejaVuSans-114\"/>\r\n       <use x=\"559.732422\" xlink:href=\"#DejaVuSans-103\"/>\r\n      </g>\r\n     </g>\r\n    </g>\r\n    <g id=\"xtick_20\">\r\n     <g id=\"line2d_20\">\r\n      <g>\r\n       <use style=\"stroke:#000000;stroke-width:0.8;\" x=\"1079.925\" xlink:href=\"#mdc3eca4fe2\" y=\"550.8\"/>\r\n      </g>\r\n     </g>\r\n     <g id=\"text_20\">\r\n      <!-- Malta -->\r\n      <g transform=\"translate(1082.684375 585.382812)rotate(-90)scale(0.1 -0.1)\">\r\n       <defs>\r\n        <path d=\"M 9.8125 72.90625 \r\nL 24.515625 72.90625 \r\nL 43.109375 23.296875 \r\nL 61.8125 72.90625 \r\nL 76.515625 72.90625 \r\nL 76.515625 0 \r\nL 66.890625 0 \r\nL 66.890625 64.015625 \r\nL 48.09375 14.015625 \r\nL 38.1875 14.015625 \r\nL 19.390625 64.015625 \r\nL 19.390625 0 \r\nL 9.8125 0 \r\nz\r\n\" id=\"DejaVuSans-77\"/>\r\n       </defs>\r\n       <use xlink:href=\"#DejaVuSans-77\"/>\r\n       <use x=\"86.279297\" xlink:href=\"#DejaVuSans-97\"/>\r\n       <use x=\"147.558594\" xlink:href=\"#DejaVuSans-108\"/>\r\n       <use x=\"175.341797\" xlink:href=\"#DejaVuSans-116\"/>\r\n       <use x=\"214.550781\" xlink:href=\"#DejaVuSans-97\"/>\r\n      </g>\r\n     </g>\r\n    </g>\r\n    <g id=\"xtick_21\">\r\n     <g id=\"line2d_21\">\r\n      <g>\r\n       <use style=\"stroke:#000000;stroke-width:0.8;\" x=\"1133.925\" xlink:href=\"#mdc3eca4fe2\" y=\"550.8\"/>\r\n      </g>\r\n     </g>\r\n     <g id=\"text_21\">\r\n      <!-- Netherlands -->\r\n      <g transform=\"translate(1136.684375 618.757812)rotate(-90)scale(0.1 -0.1)\">\r\n       <defs>\r\n        <path d=\"M 9.8125 72.90625 \r\nL 23.09375 72.90625 \r\nL 55.421875 11.921875 \r\nL 55.421875 72.90625 \r\nL 64.984375 72.90625 \r\nL 64.984375 0 \r\nL 51.703125 0 \r\nL 19.390625 60.984375 \r\nL 19.390625 0 \r\nL 9.8125 0 \r\nz\r\n\" id=\"DejaVuSans-78\"/>\r\n       </defs>\r\n       <use xlink:href=\"#DejaVuSans-78\"/>\r\n       <use x=\"74.804688\" xlink:href=\"#DejaVuSans-101\"/>\r\n       <use x=\"136.328125\" xlink:href=\"#DejaVuSans-116\"/>\r\n       <use x=\"175.537109\" xlink:href=\"#DejaVuSans-104\"/>\r\n       <use x=\"238.916016\" xlink:href=\"#DejaVuSans-101\"/>\r\n       <use x=\"300.439453\" xlink:href=\"#DejaVuSans-114\"/>\r\n       <use x=\"341.552734\" xlink:href=\"#DejaVuSans-108\"/>\r\n       <use x=\"369.335938\" xlink:href=\"#DejaVuSans-97\"/>\r\n       <use x=\"430.615234\" xlink:href=\"#DejaVuSans-110\"/>\r\n       <use x=\"493.994141\" xlink:href=\"#DejaVuSans-100\"/>\r\n       <use x=\"557.470703\" xlink:href=\"#DejaVuSans-115\"/>\r\n      </g>\r\n     </g>\r\n    </g>\r\n    <g id=\"xtick_22\">\r\n     <g id=\"line2d_22\">\r\n      <g>\r\n       <use style=\"stroke:#000000;stroke-width:0.8;\" x=\"1187.925\" xlink:href=\"#mdc3eca4fe2\" y=\"550.8\"/>\r\n      </g>\r\n     </g>\r\n     <g id=\"text_22\">\r\n      <!-- North Macedonia -->\r\n      <g transform=\"translate(1190.684375 643.065625)rotate(-90)scale(0.1 -0.1)\">\r\n       <defs>\r\n        <path id=\"DejaVuSans-32\"/>\r\n       </defs>\r\n       <use xlink:href=\"#DejaVuSans-78\"/>\r\n       <use x=\"74.804688\" xlink:href=\"#DejaVuSans-111\"/>\r\n       <use x=\"135.986328\" xlink:href=\"#DejaVuSans-114\"/>\r\n       <use x=\"177.099609\" xlink:href=\"#DejaVuSans-116\"/>\r\n       <use x=\"216.308594\" xlink:href=\"#DejaVuSans-104\"/>\r\n       <use x=\"279.6875\" xlink:href=\"#DejaVuSans-32\"/>\r\n       <use x=\"311.474609\" xlink:href=\"#DejaVuSans-77\"/>\r\n       <use x=\"397.753906\" xlink:href=\"#DejaVuSans-97\"/>\r\n       <use x=\"459.033203\" xlink:href=\"#DejaVuSans-99\"/>\r\n       <use x=\"514.013672\" xlink:href=\"#DejaVuSans-101\"/>\r\n       <use x=\"575.537109\" xlink:href=\"#DejaVuSans-100\"/>\r\n       <use x=\"639.013672\" xlink:href=\"#DejaVuSans-111\"/>\r\n       <use x=\"700.195312\" xlink:href=\"#DejaVuSans-110\"/>\r\n       <use x=\"763.574219\" xlink:href=\"#DejaVuSans-105\"/>\r\n       <use x=\"791.357422\" xlink:href=\"#DejaVuSans-97\"/>\r\n      </g>\r\n     </g>\r\n    </g>\r\n    <g id=\"xtick_23\">\r\n     <g id=\"line2d_23\">\r\n      <g>\r\n       <use style=\"stroke:#000000;stroke-width:0.8;\" x=\"1241.925\" xlink:href=\"#mdc3eca4fe2\" y=\"550.8\"/>\r\n      </g>\r\n     </g>\r\n     <g id=\"text_23\">\r\n      <!-- Poland -->\r\n      <g transform=\"translate(1244.684375 591.178125)rotate(-90)scale(0.1 -0.1)\">\r\n       <defs>\r\n        <path d=\"M 19.671875 64.796875 \r\nL 19.671875 37.40625 \r\nL 32.078125 37.40625 \r\nQ 38.96875 37.40625 42.71875 40.96875 \r\nQ 46.484375 44.53125 46.484375 51.125 \r\nQ 46.484375 57.671875 42.71875 61.234375 \r\nQ 38.96875 64.796875 32.078125 64.796875 \r\nz\r\nM 9.8125 72.90625 \r\nL 32.078125 72.90625 \r\nQ 44.34375 72.90625 50.609375 67.359375 \r\nQ 56.890625 61.8125 56.890625 51.125 \r\nQ 56.890625 40.328125 50.609375 34.8125 \r\nQ 44.34375 29.296875 32.078125 29.296875 \r\nL 19.671875 29.296875 \r\nL 19.671875 0 \r\nL 9.8125 0 \r\nz\r\n\" id=\"DejaVuSans-80\"/>\r\n       </defs>\r\n       <use xlink:href=\"#DejaVuSans-80\"/>\r\n       <use x=\"56.677734\" xlink:href=\"#DejaVuSans-111\"/>\r\n       <use x=\"117.859375\" xlink:href=\"#DejaVuSans-108\"/>\r\n       <use x=\"145.642578\" xlink:href=\"#DejaVuSans-97\"/>\r\n       <use x=\"206.921875\" xlink:href=\"#DejaVuSans-110\"/>\r\n       <use x=\"270.300781\" xlink:href=\"#DejaVuSans-100\"/>\r\n      </g>\r\n     </g>\r\n    </g>\r\n    <g id=\"xtick_24\">\r\n     <g id=\"line2d_24\">\r\n      <g>\r\n       <use style=\"stroke:#000000;stroke-width:0.8;\" x=\"1295.925\" xlink:href=\"#mdc3eca4fe2\" y=\"550.8\"/>\r\n      </g>\r\n     </g>\r\n     <g id=\"text_24\">\r\n      <!-- Portugal -->\r\n      <g transform=\"translate(1298.684375 599.209375)rotate(-90)scale(0.1 -0.1)\">\r\n       <use xlink:href=\"#DejaVuSans-80\"/>\r\n       <use x=\"56.677734\" xlink:href=\"#DejaVuSans-111\"/>\r\n       <use x=\"117.859375\" xlink:href=\"#DejaVuSans-114\"/>\r\n       <use x=\"158.972656\" xlink:href=\"#DejaVuSans-116\"/>\r\n       <use x=\"198.181641\" xlink:href=\"#DejaVuSans-117\"/>\r\n       <use x=\"261.560547\" xlink:href=\"#DejaVuSans-103\"/>\r\n       <use x=\"325.037109\" xlink:href=\"#DejaVuSans-97\"/>\r\n       <use x=\"386.316406\" xlink:href=\"#DejaVuSans-108\"/>\r\n      </g>\r\n     </g>\r\n    </g>\r\n    <g id=\"xtick_25\">\r\n     <g id=\"line2d_25\">\r\n      <g>\r\n       <use style=\"stroke:#000000;stroke-width:0.8;\" x=\"1349.925\" xlink:href=\"#mdc3eca4fe2\" y=\"550.8\"/>\r\n      </g>\r\n     </g>\r\n     <g id=\"text_25\">\r\n      <!-- Romania -->\r\n      <g transform=\"translate(1352.684375 601.529688)rotate(-90)scale(0.1 -0.1)\">\r\n       <defs>\r\n        <path d=\"M 44.390625 34.1875 \r\nQ 47.5625 33.109375 50.5625 29.59375 \r\nQ 53.5625 26.078125 56.59375 19.921875 \r\nL 66.609375 0 \r\nL 56 0 \r\nL 46.6875 18.703125 \r\nQ 43.0625 26.03125 39.671875 28.421875 \r\nQ 36.28125 30.8125 30.421875 30.8125 \r\nL 19.671875 30.8125 \r\nL 19.671875 0 \r\nL 9.8125 0 \r\nL 9.8125 72.90625 \r\nL 32.078125 72.90625 \r\nQ 44.578125 72.90625 50.734375 67.671875 \r\nQ 56.890625 62.453125 56.890625 51.90625 \r\nQ 56.890625 45.015625 53.6875 40.46875 \r\nQ 50.484375 35.9375 44.390625 34.1875 \r\nz\r\nM 19.671875 64.796875 \r\nL 19.671875 38.921875 \r\nL 32.078125 38.921875 \r\nQ 39.203125 38.921875 42.84375 42.21875 \r\nQ 46.484375 45.515625 46.484375 51.90625 \r\nQ 46.484375 58.296875 42.84375 61.546875 \r\nQ 39.203125 64.796875 32.078125 64.796875 \r\nz\r\n\" id=\"DejaVuSans-82\"/>\r\n       </defs>\r\n       <use xlink:href=\"#DejaVuSans-82\"/>\r\n       <use x=\"64.982422\" xlink:href=\"#DejaVuSans-111\"/>\r\n       <use x=\"126.164062\" xlink:href=\"#DejaVuSans-109\"/>\r\n       <use x=\"223.576172\" xlink:href=\"#DejaVuSans-97\"/>\r\n       <use x=\"284.855469\" xlink:href=\"#DejaVuSans-110\"/>\r\n       <use x=\"348.234375\" xlink:href=\"#DejaVuSans-105\"/>\r\n       <use x=\"376.017578\" xlink:href=\"#DejaVuSans-97\"/>\r\n      </g>\r\n     </g>\r\n    </g>\r\n    <g id=\"xtick_26\">\r\n     <g id=\"line2d_26\">\r\n      <g>\r\n       <use style=\"stroke:#000000;stroke-width:0.8;\" x=\"1403.925\" xlink:href=\"#mdc3eca4fe2\" y=\"550.8\"/>\r\n      </g>\r\n     </g>\r\n     <g id=\"text_26\">\r\n      <!-- Serbia -->\r\n      <g transform=\"translate(1406.684375 589.667188)rotate(-90)scale(0.1 -0.1)\">\r\n       <defs>\r\n        <path d=\"M 53.515625 70.515625 \r\nL 53.515625 60.890625 \r\nQ 47.90625 63.578125 42.921875 64.890625 \r\nQ 37.9375 66.21875 33.296875 66.21875 \r\nQ 25.25 66.21875 20.875 63.09375 \r\nQ 16.5 59.96875 16.5 54.203125 \r\nQ 16.5 49.359375 19.40625 46.890625 \r\nQ 22.3125 44.4375 30.421875 42.921875 \r\nL 36.375 41.703125 \r\nQ 47.40625 39.59375 52.65625 34.296875 \r\nQ 57.90625 29 57.90625 20.125 \r\nQ 57.90625 9.515625 50.796875 4.046875 \r\nQ 43.703125 -1.421875 29.984375 -1.421875 \r\nQ 24.8125 -1.421875 18.96875 -0.25 \r\nQ 13.140625 0.921875 6.890625 3.21875 \r\nL 6.890625 13.375 \r\nQ 12.890625 10.015625 18.65625 8.296875 \r\nQ 24.421875 6.59375 29.984375 6.59375 \r\nQ 38.421875 6.59375 43.015625 9.90625 \r\nQ 47.609375 13.234375 47.609375 19.390625 \r\nQ 47.609375 24.75 44.3125 27.78125 \r\nQ 41.015625 30.8125 33.5 32.328125 \r\nL 27.484375 33.5 \r\nQ 16.453125 35.6875 11.515625 40.375 \r\nQ 6.59375 45.0625 6.59375 53.421875 \r\nQ 6.59375 63.09375 13.40625 68.65625 \r\nQ 20.21875 74.21875 32.171875 74.21875 \r\nQ 37.3125 74.21875 42.625 73.28125 \r\nQ 47.953125 72.359375 53.515625 70.515625 \r\nz\r\n\" id=\"DejaVuSans-83\"/>\r\n       </defs>\r\n       <use xlink:href=\"#DejaVuSans-83\"/>\r\n       <use x=\"63.476562\" xlink:href=\"#DejaVuSans-101\"/>\r\n       <use x=\"125\" xlink:href=\"#DejaVuSans-114\"/>\r\n       <use x=\"166.113281\" xlink:href=\"#DejaVuSans-98\"/>\r\n       <use x=\"229.589844\" xlink:href=\"#DejaVuSans-105\"/>\r\n       <use x=\"257.373047\" xlink:href=\"#DejaVuSans-97\"/>\r\n      </g>\r\n     </g>\r\n    </g>\r\n    <g id=\"xtick_27\">\r\n     <g id=\"line2d_27\">\r\n      <g>\r\n       <use style=\"stroke:#000000;stroke-width:0.8;\" x=\"1457.925\" xlink:href=\"#mdc3eca4fe2\" y=\"550.8\"/>\r\n      </g>\r\n     </g>\r\n     <g id=\"text_27\">\r\n      <!-- Slovakia -->\r\n      <g transform=\"translate(1460.684375 599.789062)rotate(-90)scale(0.1 -0.1)\">\r\n       <use xlink:href=\"#DejaVuSans-83\"/>\r\n       <use x=\"63.476562\" xlink:href=\"#DejaVuSans-108\"/>\r\n       <use x=\"91.259766\" xlink:href=\"#DejaVuSans-111\"/>\r\n       <use x=\"152.441406\" xlink:href=\"#DejaVuSans-118\"/>\r\n       <use x=\"211.621094\" xlink:href=\"#DejaVuSans-97\"/>\r\n       <use x=\"272.900391\" xlink:href=\"#DejaVuSans-107\"/>\r\n       <use x=\"330.810547\" xlink:href=\"#DejaVuSans-105\"/>\r\n       <use x=\"358.59375\" xlink:href=\"#DejaVuSans-97\"/>\r\n      </g>\r\n     </g>\r\n    </g>\r\n    <g id=\"xtick_28\">\r\n     <g id=\"line2d_28\">\r\n      <g>\r\n       <use style=\"stroke:#000000;stroke-width:0.8;\" x=\"1511.925\" xlink:href=\"#mdc3eca4fe2\" y=\"550.8\"/>\r\n      </g>\r\n     </g>\r\n     <g id=\"text_28\">\r\n      <!-- Slovenia -->\r\n      <g transform=\"translate(1514.684375 600.360937)rotate(-90)scale(0.1 -0.1)\">\r\n       <use xlink:href=\"#DejaVuSans-83\"/>\r\n       <use x=\"63.476562\" xlink:href=\"#DejaVuSans-108\"/>\r\n       <use x=\"91.259766\" xlink:href=\"#DejaVuSans-111\"/>\r\n       <use x=\"152.441406\" xlink:href=\"#DejaVuSans-118\"/>\r\n       <use x=\"211.621094\" xlink:href=\"#DejaVuSans-101\"/>\r\n       <use x=\"273.144531\" xlink:href=\"#DejaVuSans-110\"/>\r\n       <use x=\"336.523438\" xlink:href=\"#DejaVuSans-105\"/>\r\n       <use x=\"364.306641\" xlink:href=\"#DejaVuSans-97\"/>\r\n      </g>\r\n     </g>\r\n    </g>\r\n    <g id=\"xtick_29\">\r\n     <g id=\"line2d_29\">\r\n      <g>\r\n       <use style=\"stroke:#000000;stroke-width:0.8;\" x=\"1565.925\" xlink:href=\"#mdc3eca4fe2\" y=\"550.8\"/>\r\n      </g>\r\n     </g>\r\n     <g id=\"text_29\">\r\n      <!-- Spain -->\r\n      <g transform=\"translate(1568.684375 585.740625)rotate(-90)scale(0.1 -0.1)\">\r\n       <use xlink:href=\"#DejaVuSans-83\"/>\r\n       <use x=\"63.476562\" xlink:href=\"#DejaVuSans-112\"/>\r\n       <use x=\"126.953125\" xlink:href=\"#DejaVuSans-97\"/>\r\n       <use x=\"188.232422\" xlink:href=\"#DejaVuSans-105\"/>\r\n       <use x=\"216.015625\" xlink:href=\"#DejaVuSans-110\"/>\r\n      </g>\r\n     </g>\r\n    </g>\r\n    <g id=\"xtick_30\">\r\n     <g id=\"line2d_30\">\r\n      <g>\r\n       <use style=\"stroke:#000000;stroke-width:0.8;\" x=\"1619.925\" xlink:href=\"#mdc3eca4fe2\" y=\"550.8\"/>\r\n      </g>\r\n     </g>\r\n     <g id=\"text_30\">\r\n      <!-- Sweden -->\r\n      <g transform=\"translate(1622.684375 597.31875)rotate(-90)scale(0.1 -0.1)\">\r\n       <defs>\r\n        <path d=\"M 4.203125 54.6875 \r\nL 13.1875 54.6875 \r\nL 24.421875 12.015625 \r\nL 35.59375 54.6875 \r\nL 46.1875 54.6875 \r\nL 57.421875 12.015625 \r\nL 68.609375 54.6875 \r\nL 77.59375 54.6875 \r\nL 63.28125 0 \r\nL 52.6875 0 \r\nL 40.921875 44.828125 \r\nL 29.109375 0 \r\nL 18.5 0 \r\nz\r\n\" id=\"DejaVuSans-119\"/>\r\n       </defs>\r\n       <use xlink:href=\"#DejaVuSans-83\"/>\r\n       <use x=\"63.476562\" xlink:href=\"#DejaVuSans-119\"/>\r\n       <use x=\"145.263672\" xlink:href=\"#DejaVuSans-101\"/>\r\n       <use x=\"206.787109\" xlink:href=\"#DejaVuSans-100\"/>\r\n       <use x=\"270.263672\" xlink:href=\"#DejaVuSans-101\"/>\r\n       <use x=\"331.787109\" xlink:href=\"#DejaVuSans-110\"/>\r\n      </g>\r\n     </g>\r\n    </g>\r\n    <g id=\"xtick_31\">\r\n     <g id=\"line2d_31\">\r\n      <g>\r\n       <use style=\"stroke:#000000;stroke-width:0.8;\" x=\"1673.925\" xlink:href=\"#mdc3eca4fe2\" y=\"550.8\"/>\r\n      </g>\r\n     </g>\r\n     <g id=\"text_31\">\r\n      <!-- United Kingdom -->\r\n      <g transform=\"translate(1676.684375 638.064063)rotate(-90)scale(0.1 -0.1)\">\r\n       <defs>\r\n        <path d=\"M 9.8125 72.90625 \r\nL 19.671875 72.90625 \r\nL 19.671875 42.09375 \r\nL 52.390625 72.90625 \r\nL 65.09375 72.90625 \r\nL 28.90625 38.921875 \r\nL 67.671875 0 \r\nL 54.6875 0 \r\nL 19.671875 35.109375 \r\nL 19.671875 0 \r\nL 9.8125 0 \r\nz\r\n\" id=\"DejaVuSans-75\"/>\r\n       </defs>\r\n       <use xlink:href=\"#DejaVuSans-85\"/>\r\n       <use x=\"73.193359\" xlink:href=\"#DejaVuSans-110\"/>\r\n       <use x=\"136.572266\" xlink:href=\"#DejaVuSans-105\"/>\r\n       <use x=\"164.355469\" xlink:href=\"#DejaVuSans-116\"/>\r\n       <use x=\"203.564453\" xlink:href=\"#DejaVuSans-101\"/>\r\n       <use x=\"265.087891\" xlink:href=\"#DejaVuSans-100\"/>\r\n       <use x=\"328.564453\" xlink:href=\"#DejaVuSans-32\"/>\r\n       <use x=\"360.351562\" xlink:href=\"#DejaVuSans-75\"/>\r\n       <use x=\"425.927734\" xlink:href=\"#DejaVuSans-105\"/>\r\n       <use x=\"453.710938\" xlink:href=\"#DejaVuSans-110\"/>\r\n       <use x=\"517.089844\" xlink:href=\"#DejaVuSans-103\"/>\r\n       <use x=\"580.566406\" xlink:href=\"#DejaVuSans-100\"/>\r\n       <use x=\"644.042969\" xlink:href=\"#DejaVuSans-111\"/>\r\n       <use x=\"705.224609\" xlink:href=\"#DejaVuSans-109\"/>\r\n      </g>\r\n     </g>\r\n    </g>\r\n    <g id=\"text_32\">\r\n     <!-- CountryCode -->\r\n     <g transform=\"translate(831.260156 654.664062)scale(0.1 -0.1)\">\r\n      <use xlink:href=\"#DejaVuSans-67\"/>\r\n      <use x=\"69.824219\" xlink:href=\"#DejaVuSans-111\"/>\r\n      <use x=\"131.005859\" xlink:href=\"#DejaVuSans-117\"/>\r\n      <use x=\"194.384766\" xlink:href=\"#DejaVuSans-110\"/>\r\n      <use x=\"257.763672\" xlink:href=\"#DejaVuSans-116\"/>\r\n      <use x=\"296.972656\" xlink:href=\"#DejaVuSans-114\"/>\r\n      <use x=\"338.085938\" xlink:href=\"#DejaVuSans-121\"/>\r\n      <use x=\"397.265625\" xlink:href=\"#DejaVuSans-67\"/>\r\n      <use x=\"467.089844\" xlink:href=\"#DejaVuSans-111\"/>\r\n      <use x=\"528.271484\" xlink:href=\"#DejaVuSans-100\"/>\r\n      <use x=\"591.748047\" xlink:href=\"#DejaVuSans-101\"/>\r\n     </g>\r\n    </g>\r\n   </g>\r\n   <g id=\"matplotlib.axis_2\">\r\n    <g id=\"ytick_1\">\r\n     <g id=\"line2d_32\">\r\n      <defs>\r\n       <path d=\"M 0 0 \r\nL -3.5 0 \r\n\" id=\"mc21102e5be\" style=\"stroke:#000000;stroke-width:0.8;\"/>\r\n      </defs>\r\n      <g>\r\n       <use style=\"stroke:#000000;stroke-width:0.8;\" x=\"26.925\" xlink:href=\"#mc21102e5be\" y=\"550.8\"/>\r\n      </g>\r\n     </g>\r\n     <g id=\"text_33\">\r\n      <!-- 0 -->\r\n      <g transform=\"translate(13.5625 554.599219)scale(0.1 -0.1)\">\r\n       <defs>\r\n        <path d=\"M 31.78125 66.40625 \r\nQ 24.171875 66.40625 20.328125 58.90625 \r\nQ 16.5 51.421875 16.5 36.375 \r\nQ 16.5 21.390625 20.328125 13.890625 \r\nQ 24.171875 6.390625 31.78125 6.390625 \r\nQ 39.453125 6.390625 43.28125 13.890625 \r\nQ 47.125 21.390625 47.125 36.375 \r\nQ 47.125 51.421875 43.28125 58.90625 \r\nQ 39.453125 66.40625 31.78125 66.40625 \r\nz\r\nM 31.78125 74.21875 \r\nQ 44.046875 74.21875 50.515625 64.515625 \r\nQ 56.984375 54.828125 56.984375 36.375 \r\nQ 56.984375 17.96875 50.515625 8.265625 \r\nQ 44.046875 -1.421875 31.78125 -1.421875 \r\nQ 19.53125 -1.421875 13.0625 8.265625 \r\nQ 6.59375 17.96875 6.59375 36.375 \r\nQ 6.59375 54.828125 13.0625 64.515625 \r\nQ 19.53125 74.21875 31.78125 74.21875 \r\nz\r\n\" id=\"DejaVuSans-48\"/>\r\n       </defs>\r\n       <use xlink:href=\"#DejaVuSans-48\"/>\r\n      </g>\r\n     </g>\r\n    </g>\r\n    <g id=\"ytick_2\">\r\n     <g id=\"line2d_33\">\r\n      <g>\r\n       <use style=\"stroke:#000000;stroke-width:0.8;\" x=\"26.925\" xlink:href=\"#mc21102e5be\" y=\"480.83861\"/>\r\n      </g>\r\n     </g>\r\n     <g id=\"text_34\">\r\n      <!-- 10 -->\r\n      <g transform=\"translate(7.2 484.637829)scale(0.1 -0.1)\">\r\n       <defs>\r\n        <path d=\"M 12.40625 8.296875 \r\nL 28.515625 8.296875 \r\nL 28.515625 63.921875 \r\nL 10.984375 60.40625 \r\nL 10.984375 69.390625 \r\nL 28.421875 72.90625 \r\nL 38.28125 72.90625 \r\nL 38.28125 8.296875 \r\nL 54.390625 8.296875 \r\nL 54.390625 0 \r\nL 12.40625 0 \r\nz\r\n\" id=\"DejaVuSans-49\"/>\r\n       </defs>\r\n       <use xlink:href=\"#DejaVuSans-49\"/>\r\n       <use x=\"63.623047\" xlink:href=\"#DejaVuSans-48\"/>\r\n      </g>\r\n     </g>\r\n    </g>\r\n    <g id=\"ytick_3\">\r\n     <g id=\"line2d_34\">\r\n      <g>\r\n       <use style=\"stroke:#000000;stroke-width:0.8;\" x=\"26.925\" xlink:href=\"#mc21102e5be\" y=\"410.87722\"/>\r\n      </g>\r\n     </g>\r\n     <g id=\"text_35\">\r\n      <!-- 20 -->\r\n      <g transform=\"translate(7.2 414.676439)scale(0.1 -0.1)\">\r\n       <use xlink:href=\"#DejaVuSans-50\"/>\r\n       <use x=\"63.623047\" xlink:href=\"#DejaVuSans-48\"/>\r\n      </g>\r\n     </g>\r\n    </g>\r\n    <g id=\"ytick_4\">\r\n     <g id=\"line2d_35\">\r\n      <g>\r\n       <use style=\"stroke:#000000;stroke-width:0.8;\" x=\"26.925\" xlink:href=\"#mc21102e5be\" y=\"340.91583\"/>\r\n      </g>\r\n     </g>\r\n     <g id=\"text_36\">\r\n      <!-- 30 -->\r\n      <g transform=\"translate(7.2 344.715049)scale(0.1 -0.1)\">\r\n       <defs>\r\n        <path d=\"M 40.578125 39.3125 \r\nQ 47.65625 37.796875 51.625 33 \r\nQ 55.609375 28.21875 55.609375 21.1875 \r\nQ 55.609375 10.40625 48.1875 4.484375 \r\nQ 40.765625 -1.421875 27.09375 -1.421875 \r\nQ 22.515625 -1.421875 17.65625 -0.515625 \r\nQ 12.796875 0.390625 7.625 2.203125 \r\nL 7.625 11.71875 \r\nQ 11.71875 9.328125 16.59375 8.109375 \r\nQ 21.484375 6.890625 26.8125 6.890625 \r\nQ 36.078125 6.890625 40.9375 10.546875 \r\nQ 45.796875 14.203125 45.796875 21.1875 \r\nQ 45.796875 27.640625 41.28125 31.265625 \r\nQ 36.765625 34.90625 28.71875 34.90625 \r\nL 20.21875 34.90625 \r\nL 20.21875 43.015625 \r\nL 29.109375 43.015625 \r\nQ 36.375 43.015625 40.234375 45.921875 \r\nQ 44.09375 48.828125 44.09375 54.296875 \r\nQ 44.09375 59.90625 40.109375 62.90625 \r\nQ 36.140625 65.921875 28.71875 65.921875 \r\nQ 24.65625 65.921875 20.015625 65.03125 \r\nQ 15.375 64.15625 9.8125 62.3125 \r\nL 9.8125 71.09375 \r\nQ 15.4375 72.65625 20.34375 73.4375 \r\nQ 25.25 74.21875 29.59375 74.21875 \r\nQ 40.828125 74.21875 47.359375 69.109375 \r\nQ 53.90625 64.015625 53.90625 55.328125 \r\nQ 53.90625 49.265625 50.4375 45.09375 \r\nQ 46.96875 40.921875 40.578125 39.3125 \r\nz\r\n\" id=\"DejaVuSans-51\"/>\r\n       </defs>\r\n       <use xlink:href=\"#DejaVuSans-51\"/>\r\n       <use x=\"63.623047\" xlink:href=\"#DejaVuSans-48\"/>\r\n      </g>\r\n     </g>\r\n    </g>\r\n    <g id=\"ytick_5\">\r\n     <g id=\"line2d_36\">\r\n      <g>\r\n       <use style=\"stroke:#000000;stroke-width:0.8;\" x=\"26.925\" xlink:href=\"#mc21102e5be\" y=\"270.95444\"/>\r\n      </g>\r\n     </g>\r\n     <g id=\"text_37\">\r\n      <!-- 40 -->\r\n      <g transform=\"translate(7.2 274.753659)scale(0.1 -0.1)\">\r\n       <defs>\r\n        <path d=\"M 37.796875 64.3125 \r\nL 12.890625 25.390625 \r\nL 37.796875 25.390625 \r\nz\r\nM 35.203125 72.90625 \r\nL 47.609375 72.90625 \r\nL 47.609375 25.390625 \r\nL 58.015625 25.390625 \r\nL 58.015625 17.1875 \r\nL 47.609375 17.1875 \r\nL 47.609375 0 \r\nL 37.796875 0 \r\nL 37.796875 17.1875 \r\nL 4.890625 17.1875 \r\nL 4.890625 26.703125 \r\nz\r\n\" id=\"DejaVuSans-52\"/>\r\n       </defs>\r\n       <use xlink:href=\"#DejaVuSans-52\"/>\r\n       <use x=\"63.623047\" xlink:href=\"#DejaVuSans-48\"/>\r\n      </g>\r\n     </g>\r\n    </g>\r\n    <g id=\"ytick_6\">\r\n     <g id=\"line2d_37\">\r\n      <g>\r\n       <use style=\"stroke:#000000;stroke-width:0.8;\" x=\"26.925\" xlink:href=\"#mc21102e5be\" y=\"200.99305\"/>\r\n      </g>\r\n     </g>\r\n     <g id=\"text_38\">\r\n      <!-- 50 -->\r\n      <g transform=\"translate(7.2 204.792269)scale(0.1 -0.1)\">\r\n       <defs>\r\n        <path d=\"M 10.796875 72.90625 \r\nL 49.515625 72.90625 \r\nL 49.515625 64.59375 \r\nL 19.828125 64.59375 \r\nL 19.828125 46.734375 \r\nQ 21.96875 47.46875 24.109375 47.828125 \r\nQ 26.265625 48.1875 28.421875 48.1875 \r\nQ 40.625 48.1875 47.75 41.5 \r\nQ 54.890625 34.8125 54.890625 23.390625 \r\nQ 54.890625 11.625 47.5625 5.09375 \r\nQ 40.234375 -1.421875 26.90625 -1.421875 \r\nQ 22.3125 -1.421875 17.546875 -0.640625 \r\nQ 12.796875 0.140625 7.71875 1.703125 \r\nL 7.71875 11.625 \r\nQ 12.109375 9.234375 16.796875 8.0625 \r\nQ 21.484375 6.890625 26.703125 6.890625 \r\nQ 35.15625 6.890625 40.078125 11.328125 \r\nQ 45.015625 15.765625 45.015625 23.390625 \r\nQ 45.015625 31 40.078125 35.4375 \r\nQ 35.15625 39.890625 26.703125 39.890625 \r\nQ 22.75 39.890625 18.8125 39.015625 \r\nQ 14.890625 38.140625 10.796875 36.28125 \r\nz\r\n\" id=\"DejaVuSans-53\"/>\r\n       </defs>\r\n       <use xlink:href=\"#DejaVuSans-53\"/>\r\n       <use x=\"63.623047\" xlink:href=\"#DejaVuSans-48\"/>\r\n      </g>\r\n     </g>\r\n    </g>\r\n    <g id=\"ytick_7\">\r\n     <g id=\"line2d_38\">\r\n      <g>\r\n       <use style=\"stroke:#000000;stroke-width:0.8;\" x=\"26.925\" xlink:href=\"#mc21102e5be\" y=\"131.03166\"/>\r\n      </g>\r\n     </g>\r\n     <g id=\"text_39\">\r\n      <!-- 60 -->\r\n      <g transform=\"translate(7.2 134.830879)scale(0.1 -0.1)\">\r\n       <defs>\r\n        <path d=\"M 33.015625 40.375 \r\nQ 26.375 40.375 22.484375 35.828125 \r\nQ 18.609375 31.296875 18.609375 23.390625 \r\nQ 18.609375 15.53125 22.484375 10.953125 \r\nQ 26.375 6.390625 33.015625 6.390625 \r\nQ 39.65625 6.390625 43.53125 10.953125 \r\nQ 47.40625 15.53125 47.40625 23.390625 \r\nQ 47.40625 31.296875 43.53125 35.828125 \r\nQ 39.65625 40.375 33.015625 40.375 \r\nz\r\nM 52.59375 71.296875 \r\nL 52.59375 62.3125 \r\nQ 48.875 64.0625 45.09375 64.984375 \r\nQ 41.3125 65.921875 37.59375 65.921875 \r\nQ 27.828125 65.921875 22.671875 59.328125 \r\nQ 17.53125 52.734375 16.796875 39.40625 \r\nQ 19.671875 43.65625 24.015625 45.921875 \r\nQ 28.375 48.1875 33.59375 48.1875 \r\nQ 44.578125 48.1875 50.953125 41.515625 \r\nQ 57.328125 34.859375 57.328125 23.390625 \r\nQ 57.328125 12.15625 50.6875 5.359375 \r\nQ 44.046875 -1.421875 33.015625 -1.421875 \r\nQ 20.359375 -1.421875 13.671875 8.265625 \r\nQ 6.984375 17.96875 6.984375 36.375 \r\nQ 6.984375 53.65625 15.1875 63.9375 \r\nQ 23.390625 74.21875 37.203125 74.21875 \r\nQ 40.921875 74.21875 44.703125 73.484375 \r\nQ 48.484375 72.75 52.59375 71.296875 \r\nz\r\n\" id=\"DejaVuSans-54\"/>\r\n       </defs>\r\n       <use xlink:href=\"#DejaVuSans-54\"/>\r\n       <use x=\"63.623047\" xlink:href=\"#DejaVuSans-48\"/>\r\n      </g>\r\n     </g>\r\n    </g>\r\n    <g id=\"ytick_8\">\r\n     <g id=\"line2d_39\">\r\n      <g>\r\n       <use style=\"stroke:#000000;stroke-width:0.8;\" x=\"26.925\" xlink:href=\"#mc21102e5be\" y=\"61.07027\"/>\r\n      </g>\r\n     </g>\r\n     <g id=\"text_40\">\r\n      <!-- 70 -->\r\n      <g transform=\"translate(7.2 64.869489)scale(0.1 -0.1)\">\r\n       <defs>\r\n        <path d=\"M 8.203125 72.90625 \r\nL 55.078125 72.90625 \r\nL 55.078125 68.703125 \r\nL 28.609375 0 \r\nL 18.3125 0 \r\nL 43.21875 64.59375 \r\nL 8.203125 64.59375 \r\nz\r\n\" id=\"DejaVuSans-55\"/>\r\n       </defs>\r\n       <use xlink:href=\"#DejaVuSans-55\"/>\r\n       <use x=\"63.623047\" xlink:href=\"#DejaVuSans-48\"/>\r\n      </g>\r\n     </g>\r\n    </g>\r\n   </g>\r\n   <g id=\"patch_344\">\r\n    <path d=\"M 26.925 550.8 \r\nL 26.925 7.2 \r\n\" style=\"fill:none;stroke:#000000;stroke-linecap:square;stroke-linejoin:miter;stroke-width:0.8;\"/>\r\n   </g>\r\n   <g id=\"patch_345\">\r\n    <path d=\"M 1700.925 550.8 \r\nL 1700.925 7.2 \r\n\" style=\"fill:none;stroke:#000000;stroke-linecap:square;stroke-linejoin:miter;stroke-width:0.8;\"/>\r\n   </g>\r\n   <g id=\"patch_346\">\r\n    <path d=\"M 26.925 550.8 \r\nL 1700.925 550.8 \r\n\" style=\"fill:none;stroke:#000000;stroke-linecap:square;stroke-linejoin:miter;stroke-width:0.8;\"/>\r\n   </g>\r\n   <g id=\"patch_347\">\r\n    <path d=\"M 26.925 7.2 \r\nL 1700.925 7.2 \r\n\" style=\"fill:none;stroke:#000000;stroke-linecap:square;stroke-linejoin:miter;stroke-width:0.8;\"/>\r\n   </g>\r\n   <g id=\"legend_1\">\r\n    <g id=\"patch_348\">\r\n     <path d=\"M 1367.940625 191.3375 \r\nL 1693.925 191.3375 \r\nQ 1695.925 191.3375 1695.925 189.3375 \r\nL 1695.925 14.2 \r\nQ 1695.925 12.2 1693.925 12.2 \r\nL 1367.940625 12.2 \r\nQ 1365.940625 12.2 1365.940625 14.2 \r\nL 1365.940625 189.3375 \r\nQ 1365.940625 191.3375 1367.940625 191.3375 \r\nz\r\n\" style=\"fill:#ffffff;opacity:0.8;stroke:#cccccc;stroke-linejoin:miter;\"/>\r\n    </g>\r\n    <g id=\"text_41\">\r\n     <!-- answer -->\r\n     <g transform=\"translate(1512.874219 23.798437)scale(0.1 -0.1)\">\r\n      <use xlink:href=\"#DejaVuSans-97\"/>\r\n      <use x=\"61.279297\" xlink:href=\"#DejaVuSans-110\"/>\r\n      <use x=\"124.658203\" xlink:href=\"#DejaVuSans-115\"/>\r\n      <use x=\"176.757812\" xlink:href=\"#DejaVuSans-119\"/>\r\n      <use x=\"258.544922\" xlink:href=\"#DejaVuSans-101\"/>\r\n      <use x=\"320.068359\" xlink:href=\"#DejaVuSans-114\"/>\r\n     </g>\r\n    </g>\r\n    <g id=\"patch_349\">\r\n     <path d=\"M 1369.940625 38.476562 \r\nL 1389.940625 38.476562 \r\nL 1389.940625 31.476562 \r\nL 1369.940625 31.476562 \r\nz\r\n\" style=\"fill:#1f77b4;\"/>\r\n    </g>\r\n    <g id=\"text_42\">\r\n     <!-- Workplace  -->\r\n     <g transform=\"translate(1397.940625 38.476562)scale(0.1 -0.1)\">\r\n      <defs>\r\n       <path d=\"M 3.328125 72.90625 \r\nL 13.28125 72.90625 \r\nL 28.609375 11.28125 \r\nL 43.890625 72.90625 \r\nL 54.984375 72.90625 \r\nL 70.3125 11.28125 \r\nL 85.59375 72.90625 \r\nL 95.609375 72.90625 \r\nL 77.296875 0 \r\nL 64.890625 0 \r\nL 49.515625 63.28125 \r\nL 33.984375 0 \r\nL 21.578125 0 \r\nz\r\n\" id=\"DejaVuSans-87\"/>\r\n      </defs>\r\n      <use xlink:href=\"#DejaVuSans-87\"/>\r\n      <use x=\"93.001953\" xlink:href=\"#DejaVuSans-111\"/>\r\n      <use x=\"154.183594\" xlink:href=\"#DejaVuSans-114\"/>\r\n      <use x=\"195.296875\" xlink:href=\"#DejaVuSans-107\"/>\r\n      <use x=\"253.207031\" xlink:href=\"#DejaVuSans-112\"/>\r\n      <use x=\"316.683594\" xlink:href=\"#DejaVuSans-108\"/>\r\n      <use x=\"344.466797\" xlink:href=\"#DejaVuSans-97\"/>\r\n      <use x=\"405.746094\" xlink:href=\"#DejaVuSans-99\"/>\r\n      <use x=\"460.726562\" xlink:href=\"#DejaVuSans-101\"/>\r\n      <use x=\"522.25\" xlink:href=\"#DejaVuSans-32\"/>\r\n     </g>\r\n    </g>\r\n    <g id=\"patch_350\">\r\n     <path d=\"M 1369.940625 53.154688 \r\nL 1389.940625 53.154688 \r\nL 1389.940625 46.154688 \r\nL 1369.940625 46.154688 \r\nz\r\n\" style=\"fill:#17becf;\"/>\r\n    </g>\r\n    <g id=\"text_43\">\r\n     <!-- School  -->\r\n     <g transform=\"translate(1397.940625 53.154688)scale(0.1 -0.1)\">\r\n      <use xlink:href=\"#DejaVuSans-83\"/>\r\n      <use x=\"63.476562\" xlink:href=\"#DejaVuSans-99\"/>\r\n      <use x=\"118.457031\" xlink:href=\"#DejaVuSans-104\"/>\r\n      <use x=\"181.835938\" xlink:href=\"#DejaVuSans-111\"/>\r\n      <use x=\"243.017578\" xlink:href=\"#DejaVuSans-111\"/>\r\n      <use x=\"304.199219\" xlink:href=\"#DejaVuSans-108\"/>\r\n      <use x=\"331.982422\" xlink:href=\"#DejaVuSans-32\"/>\r\n     </g>\r\n    </g>\r\n    <g id=\"patch_351\">\r\n     <path d=\"M 1369.940625 67.832813 \r\nL 1389.940625 67.832813 \r\nL 1389.940625 60.832813 \r\nL 1369.940625 60.832813 \r\nz\r\n\" style=\"fill:#bcbd22;\"/>\r\n    </g>\r\n    <g id=\"text_44\">\r\n     <!-- Public transport  -->\r\n     <g transform=\"translate(1397.940625 67.832813)scale(0.1 -0.1)\">\r\n      <use xlink:href=\"#DejaVuSans-80\"/>\r\n      <use x=\"58.552734\" xlink:href=\"#DejaVuSans-117\"/>\r\n      <use x=\"121.931641\" xlink:href=\"#DejaVuSans-98\"/>\r\n      <use x=\"185.408203\" xlink:href=\"#DejaVuSans-108\"/>\r\n      <use x=\"213.191406\" xlink:href=\"#DejaVuSans-105\"/>\r\n      <use x=\"240.974609\" xlink:href=\"#DejaVuSans-99\"/>\r\n      <use x=\"295.955078\" xlink:href=\"#DejaVuSans-32\"/>\r\n      <use x=\"327.742188\" xlink:href=\"#DejaVuSans-116\"/>\r\n      <use x=\"366.951172\" xlink:href=\"#DejaVuSans-114\"/>\r\n      <use x=\"408.064453\" xlink:href=\"#DejaVuSans-97\"/>\r\n      <use x=\"469.34375\" xlink:href=\"#DejaVuSans-110\"/>\r\n      <use x=\"532.722656\" xlink:href=\"#DejaVuSans-115\"/>\r\n      <use x=\"584.822266\" xlink:href=\"#DejaVuSans-112\"/>\r\n      <use x=\"648.298828\" xlink:href=\"#DejaVuSans-111\"/>\r\n      <use x=\"709.480469\" xlink:href=\"#DejaVuSans-114\"/>\r\n      <use x=\"750.59375\" xlink:href=\"#DejaVuSans-116\"/>\r\n      <use x=\"789.802734\" xlink:href=\"#DejaVuSans-32\"/>\r\n     </g>\r\n    </g>\r\n    <g id=\"patch_352\">\r\n     <path d=\"M 1369.940625 82.510938 \r\nL 1389.940625 82.510938 \r\nL 1389.940625 75.510938 \r\nL 1369.940625 75.510938 \r\nz\r\n\" style=\"fill:#7f7f7f;\"/>\r\n    </g>\r\n    <g id=\"text_45\">\r\n     <!-- Public premises or buildings -->\r\n     <g transform=\"translate(1397.940625 82.510938)scale(0.1 -0.1)\">\r\n      <use xlink:href=\"#DejaVuSans-80\"/>\r\n      <use x=\"58.552734\" xlink:href=\"#DejaVuSans-117\"/>\r\n      <use x=\"121.931641\" xlink:href=\"#DejaVuSans-98\"/>\r\n      <use x=\"185.408203\" xlink:href=\"#DejaVuSans-108\"/>\r\n      <use x=\"213.191406\" xlink:href=\"#DejaVuSans-105\"/>\r\n      <use x=\"240.974609\" xlink:href=\"#DejaVuSans-99\"/>\r\n      <use x=\"295.955078\" xlink:href=\"#DejaVuSans-32\"/>\r\n      <use x=\"327.742188\" xlink:href=\"#DejaVuSans-112\"/>\r\n      <use x=\"391.21875\" xlink:href=\"#DejaVuSans-114\"/>\r\n      <use x=\"430.082031\" xlink:href=\"#DejaVuSans-101\"/>\r\n      <use x=\"491.605469\" xlink:href=\"#DejaVuSans-109\"/>\r\n      <use x=\"589.017578\" xlink:href=\"#DejaVuSans-105\"/>\r\n      <use x=\"616.800781\" xlink:href=\"#DejaVuSans-115\"/>\r\n      <use x=\"668.900391\" xlink:href=\"#DejaVuSans-101\"/>\r\n      <use x=\"730.423828\" xlink:href=\"#DejaVuSans-115\"/>\r\n      <use x=\"782.523438\" xlink:href=\"#DejaVuSans-32\"/>\r\n      <use x=\"814.310547\" xlink:href=\"#DejaVuSans-111\"/>\r\n      <use x=\"875.492188\" xlink:href=\"#DejaVuSans-114\"/>\r\n      <use x=\"916.605469\" xlink:href=\"#DejaVuSans-32\"/>\r\n      <use x=\"948.392578\" xlink:href=\"#DejaVuSans-98\"/>\r\n      <use x=\"1011.869141\" xlink:href=\"#DejaVuSans-117\"/>\r\n      <use x=\"1075.248047\" xlink:href=\"#DejaVuSans-105\"/>\r\n      <use x=\"1103.03125\" xlink:href=\"#DejaVuSans-108\"/>\r\n      <use x=\"1130.814453\" xlink:href=\"#DejaVuSans-100\"/>\r\n      <use x=\"1194.291016\" xlink:href=\"#DejaVuSans-105\"/>\r\n      <use x=\"1222.074219\" xlink:href=\"#DejaVuSans-110\"/>\r\n      <use x=\"1285.453125\" xlink:href=\"#DejaVuSans-103\"/>\r\n      <use x=\"1348.929688\" xlink:href=\"#DejaVuSans-115\"/>\r\n     </g>\r\n    </g>\r\n    <g id=\"patch_353\">\r\n     <path d=\"M 1369.940625 97.189062 \r\nL 1389.940625 97.189062 \r\nL 1389.940625 90.189062 \r\nL 1369.940625 90.189062 \r\nz\r\n\" style=\"fill:#e377c2;\"/>\r\n    </g>\r\n    <g id=\"text_46\">\r\n     <!-- Other  -->\r\n     <g transform=\"translate(1397.940625 97.189062)scale(0.1 -0.1)\">\r\n      <defs>\r\n       <path d=\"M 39.40625 66.21875 \r\nQ 28.65625 66.21875 22.328125 58.203125 \r\nQ 16.015625 50.203125 16.015625 36.375 \r\nQ 16.015625 22.609375 22.328125 14.59375 \r\nQ 28.65625 6.59375 39.40625 6.59375 \r\nQ 50.140625 6.59375 56.421875 14.59375 \r\nQ 62.703125 22.609375 62.703125 36.375 \r\nQ 62.703125 50.203125 56.421875 58.203125 \r\nQ 50.140625 66.21875 39.40625 66.21875 \r\nz\r\nM 39.40625 74.21875 \r\nQ 54.734375 74.21875 63.90625 63.9375 \r\nQ 73.09375 53.65625 73.09375 36.375 \r\nQ 73.09375 19.140625 63.90625 8.859375 \r\nQ 54.734375 -1.421875 39.40625 -1.421875 \r\nQ 24.03125 -1.421875 14.8125 8.828125 \r\nQ 5.609375 19.09375 5.609375 36.375 \r\nQ 5.609375 53.65625 14.8125 63.9375 \r\nQ 24.03125 74.21875 39.40625 74.21875 \r\nz\r\n\" id=\"DejaVuSans-79\"/>\r\n      </defs>\r\n      <use xlink:href=\"#DejaVuSans-79\"/>\r\n      <use x=\"78.710938\" xlink:href=\"#DejaVuSans-116\"/>\r\n      <use x=\"117.919922\" xlink:href=\"#DejaVuSans-104\"/>\r\n      <use x=\"181.298828\" xlink:href=\"#DejaVuSans-101\"/>\r\n      <use x=\"242.822266\" xlink:href=\"#DejaVuSans-114\"/>\r\n      <use x=\"283.935547\" xlink:href=\"#DejaVuSans-32\"/>\r\n     </g>\r\n    </g>\r\n    <g id=\"patch_354\">\r\n     <path d=\"M 1369.940625 111.867188 \r\nL 1389.940625 111.867188 \r\nL 1389.940625 104.867188 \r\nL 1369.940625 104.867188 \r\nz\r\n\" style=\"fill:#8c564b;\"/>\r\n    </g>\r\n    <g id=\"text_47\">\r\n     <!-- My home  -->\r\n     <g transform=\"translate(1397.940625 111.867188)scale(0.1 -0.1)\">\r\n      <use xlink:href=\"#DejaVuSans-77\"/>\r\n      <use x=\"86.279297\" xlink:href=\"#DejaVuSans-121\"/>\r\n      <use x=\"145.458984\" xlink:href=\"#DejaVuSans-32\"/>\r\n      <use x=\"177.246094\" xlink:href=\"#DejaVuSans-104\"/>\r\n      <use x=\"240.625\" xlink:href=\"#DejaVuSans-111\"/>\r\n      <use x=\"301.806641\" xlink:href=\"#DejaVuSans-109\"/>\r\n      <use x=\"399.21875\" xlink:href=\"#DejaVuSans-101\"/>\r\n      <use x=\"460.742188\" xlink:href=\"#DejaVuSans-32\"/>\r\n     </g>\r\n    </g>\r\n    <g id=\"patch_355\">\r\n     <path d=\"M 1369.940625 126.545313 \r\nL 1389.940625 126.545313 \r\nL 1389.940625 119.545313 \r\nL 1369.940625 119.545313 \r\nz\r\n\" style=\"fill:#9467bd;\"/>\r\n    </g>\r\n    <g id=\"text_48\">\r\n     <!-- In the street, a square, park, car park or other public place -->\r\n     <g transform=\"translate(1397.940625 126.545313)scale(0.1 -0.1)\">\r\n      <defs>\r\n       <path d=\"M 11.71875 12.40625 \r\nL 22.015625 12.40625 \r\nL 22.015625 4 \r\nL 14.015625 -11.625 \r\nL 7.71875 -11.625 \r\nL 11.71875 4 \r\nz\r\n\" id=\"DejaVuSans-44\"/>\r\n       <path d=\"M 14.796875 27.296875 \r\nQ 14.796875 17.390625 18.875 11.75 \r\nQ 22.953125 6.109375 30.078125 6.109375 \r\nQ 37.203125 6.109375 41.296875 11.75 \r\nQ 45.40625 17.390625 45.40625 27.296875 \r\nQ 45.40625 37.203125 41.296875 42.84375 \r\nQ 37.203125 48.484375 30.078125 48.484375 \r\nQ 22.953125 48.484375 18.875 42.84375 \r\nQ 14.796875 37.203125 14.796875 27.296875 \r\nz\r\nM 45.40625 8.203125 \r\nQ 42.578125 3.328125 38.25 0.953125 \r\nQ 33.9375 -1.421875 27.875 -1.421875 \r\nQ 17.96875 -1.421875 11.734375 6.484375 \r\nQ 5.515625 14.40625 5.515625 27.296875 \r\nQ 5.515625 40.1875 11.734375 48.09375 \r\nQ 17.96875 56 27.875 56 \r\nQ 33.9375 56 38.25 53.625 \r\nQ 42.578125 51.265625 45.40625 46.390625 \r\nL 45.40625 54.6875 \r\nL 54.390625 54.6875 \r\nL 54.390625 -20.796875 \r\nL 45.40625 -20.796875 \r\nz\r\n\" id=\"DejaVuSans-113\"/>\r\n      </defs>\r\n      <use xlink:href=\"#DejaVuSans-73\"/>\r\n      <use x=\"29.492188\" xlink:href=\"#DejaVuSans-110\"/>\r\n      <use x=\"92.871094\" xlink:href=\"#DejaVuSans-32\"/>\r\n      <use x=\"124.658203\" xlink:href=\"#DejaVuSans-116\"/>\r\n      <use x=\"163.867188\" xlink:href=\"#DejaVuSans-104\"/>\r\n      <use x=\"227.246094\" xlink:href=\"#DejaVuSans-101\"/>\r\n      <use x=\"288.769531\" xlink:href=\"#DejaVuSans-32\"/>\r\n      <use x=\"320.556641\" xlink:href=\"#DejaVuSans-115\"/>\r\n      <use x=\"372.65625\" xlink:href=\"#DejaVuSans-116\"/>\r\n      <use x=\"411.865234\" xlink:href=\"#DejaVuSans-114\"/>\r\n      <use x=\"450.728516\" xlink:href=\"#DejaVuSans-101\"/>\r\n      <use x=\"512.251953\" xlink:href=\"#DejaVuSans-101\"/>\r\n      <use x=\"573.775391\" xlink:href=\"#DejaVuSans-116\"/>\r\n      <use x=\"612.984375\" xlink:href=\"#DejaVuSans-44\"/>\r\n      <use x=\"644.771484\" xlink:href=\"#DejaVuSans-32\"/>\r\n      <use x=\"676.558594\" xlink:href=\"#DejaVuSans-97\"/>\r\n      <use x=\"737.837891\" xlink:href=\"#DejaVuSans-32\"/>\r\n      <use x=\"769.625\" xlink:href=\"#DejaVuSans-115\"/>\r\n      <use x=\"821.724609\" xlink:href=\"#DejaVuSans-113\"/>\r\n      <use x=\"885.201172\" xlink:href=\"#DejaVuSans-117\"/>\r\n      <use x=\"948.580078\" xlink:href=\"#DejaVuSans-97\"/>\r\n      <use x=\"1009.859375\" xlink:href=\"#DejaVuSans-114\"/>\r\n      <use x=\"1048.722656\" xlink:href=\"#DejaVuSans-101\"/>\r\n      <use x=\"1110.246094\" xlink:href=\"#DejaVuSans-44\"/>\r\n      <use x=\"1142.033203\" xlink:href=\"#DejaVuSans-32\"/>\r\n      <use x=\"1173.820312\" xlink:href=\"#DejaVuSans-112\"/>\r\n      <use x=\"1237.296875\" xlink:href=\"#DejaVuSans-97\"/>\r\n      <use x=\"1298.576172\" xlink:href=\"#DejaVuSans-114\"/>\r\n      <use x=\"1339.689453\" xlink:href=\"#DejaVuSans-107\"/>\r\n      <use x=\"1397.599609\" xlink:href=\"#DejaVuSans-44\"/>\r\n      <use x=\"1429.386719\" xlink:href=\"#DejaVuSans-32\"/>\r\n      <use x=\"1461.173828\" xlink:href=\"#DejaVuSans-99\"/>\r\n      <use x=\"1516.154297\" xlink:href=\"#DejaVuSans-97\"/>\r\n      <use x=\"1577.433594\" xlink:href=\"#DejaVuSans-114\"/>\r\n      <use x=\"1618.546875\" xlink:href=\"#DejaVuSans-32\"/>\r\n      <use x=\"1650.333984\" xlink:href=\"#DejaVuSans-112\"/>\r\n      <use x=\"1713.810547\" xlink:href=\"#DejaVuSans-97\"/>\r\n      <use x=\"1775.089844\" xlink:href=\"#DejaVuSans-114\"/>\r\n      <use x=\"1816.203125\" xlink:href=\"#DejaVuSans-107\"/>\r\n      <use x=\"1874.113281\" xlink:href=\"#DejaVuSans-32\"/>\r\n      <use x=\"1905.900391\" xlink:href=\"#DejaVuSans-111\"/>\r\n      <use x=\"1967.082031\" xlink:href=\"#DejaVuSans-114\"/>\r\n      <use x=\"2008.195312\" xlink:href=\"#DejaVuSans-32\"/>\r\n      <use x=\"2039.982422\" xlink:href=\"#DejaVuSans-111\"/>\r\n      <use x=\"2101.164062\" xlink:href=\"#DejaVuSans-116\"/>\r\n      <use x=\"2140.373047\" xlink:href=\"#DejaVuSans-104\"/>\r\n      <use x=\"2203.751953\" xlink:href=\"#DejaVuSans-101\"/>\r\n      <use x=\"2265.275391\" xlink:href=\"#DejaVuSans-114\"/>\r\n      <use x=\"2306.388672\" xlink:href=\"#DejaVuSans-32\"/>\r\n      <use x=\"2338.175781\" xlink:href=\"#DejaVuSans-112\"/>\r\n      <use x=\"2401.652344\" xlink:href=\"#DejaVuSans-117\"/>\r\n      <use x=\"2465.03125\" xlink:href=\"#DejaVuSans-98\"/>\r\n      <use x=\"2528.507812\" xlink:href=\"#DejaVuSans-108\"/>\r\n      <use x=\"2556.291016\" xlink:href=\"#DejaVuSans-105\"/>\r\n      <use x=\"2584.074219\" xlink:href=\"#DejaVuSans-99\"/>\r\n      <use x=\"2639.054688\" xlink:href=\"#DejaVuSans-32\"/>\r\n      <use x=\"2670.841797\" xlink:href=\"#DejaVuSans-112\"/>\r\n      <use x=\"2734.318359\" xlink:href=\"#DejaVuSans-108\"/>\r\n      <use x=\"2762.101562\" xlink:href=\"#DejaVuSans-97\"/>\r\n      <use x=\"2823.380859\" xlink:href=\"#DejaVuSans-99\"/>\r\n      <use x=\"2878.361328\" xlink:href=\"#DejaVuSans-101\"/>\r\n     </g>\r\n    </g>\r\n    <g id=\"patch_356\">\r\n     <path d=\"M 1369.940625 141.223438 \r\nL 1389.940625 141.223438 \r\nL 1389.940625 134.223438 \r\nL 1369.940625 134.223438 \r\nz\r\n\" style=\"fill:#d62728;\"/>\r\n    </g>\r\n    <g id=\"text_49\">\r\n     <!-- In a healthcare setting (hospital or other medical service) -->\r\n     <g transform=\"translate(1397.940625 141.223438)scale(0.1 -0.1)\">\r\n      <defs>\r\n       <path d=\"M 31 75.875 \r\nQ 24.46875 64.65625 21.28125 53.65625 \r\nQ 18.109375 42.671875 18.109375 31.390625 \r\nQ 18.109375 20.125 21.3125 9.0625 \r\nQ 24.515625 -2 31 -13.1875 \r\nL 23.1875 -13.1875 \r\nQ 15.875 -1.703125 12.234375 9.375 \r\nQ 8.59375 20.453125 8.59375 31.390625 \r\nQ 8.59375 42.28125 12.203125 53.3125 \r\nQ 15.828125 64.359375 23.1875 75.875 \r\nz\r\n\" id=\"DejaVuSans-40\"/>\r\n       <path d=\"M 8.015625 75.875 \r\nL 15.828125 75.875 \r\nQ 23.140625 64.359375 26.78125 53.3125 \r\nQ 30.421875 42.28125 30.421875 31.390625 \r\nQ 30.421875 20.453125 26.78125 9.375 \r\nQ 23.140625 -1.703125 15.828125 -13.1875 \r\nL 8.015625 -13.1875 \r\nQ 14.5 -2 17.703125 9.0625 \r\nQ 20.90625 20.125 20.90625 31.390625 \r\nQ 20.90625 42.671875 17.703125 53.65625 \r\nQ 14.5 64.65625 8.015625 75.875 \r\nz\r\n\" id=\"DejaVuSans-41\"/>\r\n      </defs>\r\n      <use xlink:href=\"#DejaVuSans-73\"/>\r\n      <use x=\"29.492188\" xlink:href=\"#DejaVuSans-110\"/>\r\n      <use x=\"92.871094\" xlink:href=\"#DejaVuSans-32\"/>\r\n      <use x=\"124.658203\" xlink:href=\"#DejaVuSans-97\"/>\r\n      <use x=\"185.9375\" xlink:href=\"#DejaVuSans-32\"/>\r\n      <use x=\"217.724609\" xlink:href=\"#DejaVuSans-104\"/>\r\n      <use x=\"281.103516\" xlink:href=\"#DejaVuSans-101\"/>\r\n      <use x=\"342.626953\" xlink:href=\"#DejaVuSans-97\"/>\r\n      <use x=\"403.90625\" xlink:href=\"#DejaVuSans-108\"/>\r\n      <use x=\"431.689453\" xlink:href=\"#DejaVuSans-116\"/>\r\n      <use x=\"470.898438\" xlink:href=\"#DejaVuSans-104\"/>\r\n      <use x=\"534.277344\" xlink:href=\"#DejaVuSans-99\"/>\r\n      <use x=\"589.257812\" xlink:href=\"#DejaVuSans-97\"/>\r\n      <use x=\"650.537109\" xlink:href=\"#DejaVuSans-114\"/>\r\n      <use x=\"689.400391\" xlink:href=\"#DejaVuSans-101\"/>\r\n      <use x=\"750.923828\" xlink:href=\"#DejaVuSans-32\"/>\r\n      <use x=\"782.710938\" xlink:href=\"#DejaVuSans-115\"/>\r\n      <use x=\"834.810547\" xlink:href=\"#DejaVuSans-101\"/>\r\n      <use x=\"896.333984\" xlink:href=\"#DejaVuSans-116\"/>\r\n      <use x=\"935.542969\" xlink:href=\"#DejaVuSans-116\"/>\r\n      <use x=\"974.751953\" xlink:href=\"#DejaVuSans-105\"/>\r\n      <use x=\"1002.535156\" xlink:href=\"#DejaVuSans-110\"/>\r\n      <use x=\"1065.914062\" xlink:href=\"#DejaVuSans-103\"/>\r\n      <use x=\"1129.390625\" xlink:href=\"#DejaVuSans-32\"/>\r\n      <use x=\"1161.177734\" xlink:href=\"#DejaVuSans-40\"/>\r\n      <use x=\"1200.191406\" xlink:href=\"#DejaVuSans-104\"/>\r\n      <use x=\"1263.570312\" xlink:href=\"#DejaVuSans-111\"/>\r\n      <use x=\"1324.751953\" xlink:href=\"#DejaVuSans-115\"/>\r\n      <use x=\"1376.851562\" xlink:href=\"#DejaVuSans-112\"/>\r\n      <use x=\"1440.328125\" xlink:href=\"#DejaVuSans-105\"/>\r\n      <use x=\"1468.111328\" xlink:href=\"#DejaVuSans-116\"/>\r\n      <use x=\"1507.320312\" xlink:href=\"#DejaVuSans-97\"/>\r\n      <use x=\"1568.599609\" xlink:href=\"#DejaVuSans-108\"/>\r\n      <use x=\"1596.382812\" xlink:href=\"#DejaVuSans-32\"/>\r\n      <use x=\"1628.169922\" xlink:href=\"#DejaVuSans-111\"/>\r\n      <use x=\"1689.351562\" xlink:href=\"#DejaVuSans-114\"/>\r\n      <use x=\"1730.464844\" xlink:href=\"#DejaVuSans-32\"/>\r\n      <use x=\"1762.251953\" xlink:href=\"#DejaVuSans-111\"/>\r\n      <use x=\"1823.433594\" xlink:href=\"#DejaVuSans-116\"/>\r\n      <use x=\"1862.642578\" xlink:href=\"#DejaVuSans-104\"/>\r\n      <use x=\"1926.021484\" xlink:href=\"#DejaVuSans-101\"/>\r\n      <use x=\"1987.544922\" xlink:href=\"#DejaVuSans-114\"/>\r\n      <use x=\"2028.658203\" xlink:href=\"#DejaVuSans-32\"/>\r\n      <use x=\"2060.445312\" xlink:href=\"#DejaVuSans-109\"/>\r\n      <use x=\"2157.857422\" xlink:href=\"#DejaVuSans-101\"/>\r\n      <use x=\"2219.380859\" xlink:href=\"#DejaVuSans-100\"/>\r\n      <use x=\"2282.857422\" xlink:href=\"#DejaVuSans-105\"/>\r\n      <use x=\"2310.640625\" xlink:href=\"#DejaVuSans-99\"/>\r\n      <use x=\"2365.621094\" xlink:href=\"#DejaVuSans-97\"/>\r\n      <use x=\"2426.900391\" xlink:href=\"#DejaVuSans-108\"/>\r\n      <use x=\"2454.683594\" xlink:href=\"#DejaVuSans-32\"/>\r\n      <use x=\"2486.470703\" xlink:href=\"#DejaVuSans-115\"/>\r\n      <use x=\"2538.570312\" xlink:href=\"#DejaVuSans-101\"/>\r\n      <use x=\"2600.09375\" xlink:href=\"#DejaVuSans-114\"/>\r\n      <use x=\"2641.207031\" xlink:href=\"#DejaVuSans-118\"/>\r\n      <use x=\"2700.386719\" xlink:href=\"#DejaVuSans-105\"/>\r\n      <use x=\"2728.169922\" xlink:href=\"#DejaVuSans-99\"/>\r\n      <use x=\"2783.150391\" xlink:href=\"#DejaVuSans-101\"/>\r\n      <use x=\"2844.673828\" xlink:href=\"#DejaVuSans-41\"/>\r\n     </g>\r\n    </g>\r\n    <g id=\"patch_357\">\r\n     <path d=\"M 1369.940625 155.901563 \r\nL 1389.940625 155.901563 \r\nL 1389.940625 148.901563 \r\nL 1369.940625 148.901563 \r\nz\r\n\" style=\"fill:#2ca02c;\"/>\r\n    </g>\r\n    <g id=\"text_50\">\r\n     <!-- Dont Know  -->\r\n     <g transform=\"translate(1397.940625 155.901563)scale(0.1 -0.1)\">\r\n      <use xlink:href=\"#DejaVuSans-68\"/>\r\n      <use x=\"77.001953\" xlink:href=\"#DejaVuSans-111\"/>\r\n      <use x=\"138.183594\" xlink:href=\"#DejaVuSans-110\"/>\r\n      <use x=\"201.5625\" xlink:href=\"#DejaVuSans-116\"/>\r\n      <use x=\"240.771484\" xlink:href=\"#DejaVuSans-32\"/>\r\n      <use x=\"272.558594\" xlink:href=\"#DejaVuSans-75\"/>\r\n      <use x=\"338.134766\" xlink:href=\"#DejaVuSans-110\"/>\r\n      <use x=\"401.513672\" xlink:href=\"#DejaVuSans-111\"/>\r\n      <use x=\"462.695312\" xlink:href=\"#DejaVuSans-119\"/>\r\n      <use x=\"544.482422\" xlink:href=\"#DejaVuSans-32\"/>\r\n     </g>\r\n    </g>\r\n    <g id=\"patch_358\">\r\n     <path d=\"M 1369.940625 170.579687 \r\nL 1389.940625 170.579687 \r\nL 1389.940625 163.579687 \r\nL 1369.940625 163.579687 \r\nz\r\n\" style=\"fill:#ff7f0e;\"/>\r\n    </g>\r\n    <g id=\"text_51\">\r\n     <!-- Around my family  -->\r\n     <g transform=\"translate(1397.940625 170.579687)scale(0.1 -0.1)\">\r\n      <defs>\r\n       <path d=\"M 37.109375 75.984375 \r\nL 37.109375 68.5 \r\nL 28.515625 68.5 \r\nQ 23.6875 68.5 21.796875 66.546875 \r\nQ 19.921875 64.59375 19.921875 59.515625 \r\nL 19.921875 54.6875 \r\nL 34.71875 54.6875 \r\nL 34.71875 47.703125 \r\nL 19.921875 47.703125 \r\nL 19.921875 0 \r\nL 10.890625 0 \r\nL 10.890625 47.703125 \r\nL 2.296875 47.703125 \r\nL 2.296875 54.6875 \r\nL 10.890625 54.6875 \r\nL 10.890625 58.5 \r\nQ 10.890625 67.625 15.140625 71.796875 \r\nQ 19.390625 75.984375 28.609375 75.984375 \r\nz\r\n\" id=\"DejaVuSans-102\"/>\r\n      </defs>\r\n      <use xlink:href=\"#DejaVuSans-65\"/>\r\n      <use x=\"68.408203\" xlink:href=\"#DejaVuSans-114\"/>\r\n      <use x=\"107.271484\" xlink:href=\"#DejaVuSans-111\"/>\r\n      <use x=\"168.453125\" xlink:href=\"#DejaVuSans-117\"/>\r\n      <use x=\"231.832031\" xlink:href=\"#DejaVuSans-110\"/>\r\n      <use x=\"295.210938\" xlink:href=\"#DejaVuSans-100\"/>\r\n      <use x=\"358.6875\" xlink:href=\"#DejaVuSans-32\"/>\r\n      <use x=\"390.474609\" xlink:href=\"#DejaVuSans-109\"/>\r\n      <use x=\"487.886719\" xlink:href=\"#DejaVuSans-121\"/>\r\n      <use x=\"547.066406\" xlink:href=\"#DejaVuSans-32\"/>\r\n      <use x=\"578.853516\" xlink:href=\"#DejaVuSans-102\"/>\r\n      <use x=\"614.058594\" xlink:href=\"#DejaVuSans-97\"/>\r\n      <use x=\"675.337891\" xlink:href=\"#DejaVuSans-109\"/>\r\n      <use x=\"772.75\" xlink:href=\"#DejaVuSans-105\"/>\r\n      <use x=\"800.533203\" xlink:href=\"#DejaVuSans-108\"/>\r\n      <use x=\"828.316406\" xlink:href=\"#DejaVuSans-121\"/>\r\n      <use x=\"887.496094\" xlink:href=\"#DejaVuSans-32\"/>\r\n     </g>\r\n    </g>\r\n    <g id=\"patch_359\">\r\n     <path d=\"M 1369.940625 185.257812 \r\nL 1389.940625 185.257812 \r\nL 1389.940625 178.257812 \r\nL 1369.940625 178.257812 \r\nz\r\n\" style=\"fill:#1f77b4;\"/>\r\n    </g>\r\n    <g id=\"text_52\">\r\n     <!-- A cafe, restaurant, pub, club -->\r\n     <g transform=\"translate(1397.940625 185.257812)scale(0.1 -0.1)\">\r\n      <use xlink:href=\"#DejaVuSans-65\"/>\r\n      <use x=\"68.408203\" xlink:href=\"#DejaVuSans-32\"/>\r\n      <use x=\"100.195312\" xlink:href=\"#DejaVuSans-99\"/>\r\n      <use x=\"155.175781\" xlink:href=\"#DejaVuSans-97\"/>\r\n      <use x=\"216.455078\" xlink:href=\"#DejaVuSans-102\"/>\r\n      <use x=\"251.660156\" xlink:href=\"#DejaVuSans-101\"/>\r\n      <use x=\"313.183594\" xlink:href=\"#DejaVuSans-44\"/>\r\n      <use x=\"344.970703\" xlink:href=\"#DejaVuSans-32\"/>\r\n      <use x=\"376.757812\" xlink:href=\"#DejaVuSans-114\"/>\r\n      <use x=\"415.621094\" xlink:href=\"#DejaVuSans-101\"/>\r\n      <use x=\"477.144531\" xlink:href=\"#DejaVuSans-115\"/>\r\n      <use x=\"529.244141\" xlink:href=\"#DejaVuSans-116\"/>\r\n      <use x=\"568.453125\" xlink:href=\"#DejaVuSans-97\"/>\r\n      <use x=\"629.732422\" xlink:href=\"#DejaVuSans-117\"/>\r\n      <use x=\"693.111328\" xlink:href=\"#DejaVuSans-114\"/>\r\n      <use x=\"734.224609\" xlink:href=\"#DejaVuSans-97\"/>\r\n      <use x=\"795.503906\" xlink:href=\"#DejaVuSans-110\"/>\r\n      <use x=\"858.882812\" xlink:href=\"#DejaVuSans-116\"/>\r\n      <use x=\"898.091797\" xlink:href=\"#DejaVuSans-44\"/>\r\n      <use x=\"929.878906\" xlink:href=\"#DejaVuSans-32\"/>\r\n      <use x=\"961.666016\" xlink:href=\"#DejaVuSans-112\"/>\r\n      <use x=\"1025.142578\" xlink:href=\"#DejaVuSans-117\"/>\r\n      <use x=\"1088.521484\" xlink:href=\"#DejaVuSans-98\"/>\r\n      <use x=\"1151.998047\" xlink:href=\"#DejaVuSans-44\"/>\r\n      <use x=\"1183.785156\" xlink:href=\"#DejaVuSans-32\"/>\r\n      <use x=\"1215.572266\" xlink:href=\"#DejaVuSans-99\"/>\r\n      <use x=\"1270.552734\" xlink:href=\"#DejaVuSans-108\"/>\r\n      <use x=\"1298.335938\" xlink:href=\"#DejaVuSans-117\"/>\r\n      <use x=\"1361.714844\" xlink:href=\"#DejaVuSans-98\"/>\r\n     </g>\r\n    </g>\r\n   </g>\r\n  </g>\r\n </g>\r\n <defs>\r\n  <clipPath id=\"p8fd74fd0a7\">\r\n   <rect height=\"543.6\" width=\"1674\" x=\"26.925\" y=\"7.2\"/>\r\n  </clipPath>\r\n </defs>\r\n</svg>\r\n",
      "image/png": "[encoded data removed]"
     },
     "metadata": {
      "needs_background": "light"
     }
    }
   ],
   "source": [
    "#visualización de la pregunta \n",
    "fig, ax= plt.subplots(figsize=(30, 10))\n",
    "table_paises[\"Where do you avoid being open about yourself as LGBTI for fear of being assaulted, threatened or harassed by others?\"].plot(kind=\"bar\", legend=\"reverse\", ax = ax)"
   ]
  },
  {
   "cell_type": "code",
   "execution_count": null,
   "metadata": {},
   "outputs": [],
   "source": [
    "#circunferencia probar para esta pregunta con el total\n",
    "df = px.data.gapminder().query(\"continent == 'Asia' and year == 2007\")\n",
    "fig = px.pie(df, values='pop', names='country')\n",
    "fig.update_traces(textposition='inside')\n",
    "fig.update_layout(uniformtext_minsize=12, uniformtext_mode='hide')\n",
    "fig.show()\n",
    "#otro para probar\n",
    "import plotly.graph_objects as go\n",
    "\n",
    "fig = go.Figure(go.Pie(\n",
    "    values = [40000000, 20000000, 30000000, 10000000],\n",
    "    labels = [\"Wages\", \"Operating expenses\", \"Cost of sales\", \"Insurance\"],\n",
    "    texttemplate = \"%{label}: %{value:$,s} <br>(%{percent})\",\n",
    "    textposition = \"inside\"))\n",
    "\n",
    "fig.show()"
   ]
  },
  {
   "cell_type": "code",
   "execution_count": 100,
   "metadata": {},
   "outputs": [
    {
     "output_type": "error",
     "ename": "TypeError",
     "evalue": "bar() missing 1 required positional argument: 'height'",
     "traceback": [
      "\u001b[1;31m---------------------------------------------------------------------------\u001b[0m",
      "\u001b[1;31mTypeError\u001b[0m                                 Traceback (most recent call last)",
      "\u001b[1;32m<ipython-input-100-453fa12f98be>\u001b[0m in \u001b[0;36m<module>\u001b[1;34m\u001b[0m\n\u001b[0;32m      2\u001b[0m \u001b[1;33m\u001b[0m\u001b[0m\n\u001b[0;32m      3\u001b[0m \u001b[0mbar_width\u001b[0m \u001b[1;33m=\u001b[0m \u001b[1;36m0.5\u001b[0m\u001b[1;33m\u001b[0m\u001b[1;33m\u001b[0m\u001b[0m\n\u001b[1;32m----> 4\u001b[1;33m b1 = ax.bar(table_paises[\"Where do you avoid being open about yourself as LGBTI for fear of being assaulted, threatened or harassed by others?\"],\n\u001b[0m\u001b[0;32m      5\u001b[0m             width=bar_width)\n",
      "\u001b[1;32m~\\AppData\\Local\\Programs\\Python\\Python39\\lib\\site-packages\\matplotlib\\__init__.py\u001b[0m in \u001b[0;36minner\u001b[1;34m(ax, data, *args, **kwargs)\u001b[0m\n\u001b[0;32m   1445\u001b[0m     \u001b[1;32mdef\u001b[0m \u001b[0minner\u001b[0m\u001b[1;33m(\u001b[0m\u001b[0max\u001b[0m\u001b[1;33m,\u001b[0m \u001b[1;33m*\u001b[0m\u001b[0margs\u001b[0m\u001b[1;33m,\u001b[0m \u001b[0mdata\u001b[0m\u001b[1;33m=\u001b[0m\u001b[1;32mNone\u001b[0m\u001b[1;33m,\u001b[0m \u001b[1;33m**\u001b[0m\u001b[0mkwargs\u001b[0m\u001b[1;33m)\u001b[0m\u001b[1;33m:\u001b[0m\u001b[1;33m\u001b[0m\u001b[1;33m\u001b[0m\u001b[0m\n\u001b[0;32m   1446\u001b[0m         \u001b[1;32mif\u001b[0m \u001b[0mdata\u001b[0m \u001b[1;32mis\u001b[0m \u001b[1;32mNone\u001b[0m\u001b[1;33m:\u001b[0m\u001b[1;33m\u001b[0m\u001b[1;33m\u001b[0m\u001b[0m\n\u001b[1;32m-> 1447\u001b[1;33m             \u001b[1;32mreturn\u001b[0m \u001b[0mfunc\u001b[0m\u001b[1;33m(\u001b[0m\u001b[0max\u001b[0m\u001b[1;33m,\u001b[0m \u001b[1;33m*\u001b[0m\u001b[0mmap\u001b[0m\u001b[1;33m(\u001b[0m\u001b[0msanitize_sequence\u001b[0m\u001b[1;33m,\u001b[0m \u001b[0margs\u001b[0m\u001b[1;33m)\u001b[0m\u001b[1;33m,\u001b[0m \u001b[1;33m**\u001b[0m\u001b[0mkwargs\u001b[0m\u001b[1;33m)\u001b[0m\u001b[1;33m\u001b[0m\u001b[1;33m\u001b[0m\u001b[0m\n\u001b[0m\u001b[0;32m   1448\u001b[0m \u001b[1;33m\u001b[0m\u001b[0m\n\u001b[0;32m   1449\u001b[0m         \u001b[0mbound\u001b[0m \u001b[1;33m=\u001b[0m \u001b[0mnew_sig\u001b[0m\u001b[1;33m.\u001b[0m\u001b[0mbind\u001b[0m\u001b[1;33m(\u001b[0m\u001b[0max\u001b[0m\u001b[1;33m,\u001b[0m \u001b[1;33m*\u001b[0m\u001b[0margs\u001b[0m\u001b[1;33m,\u001b[0m \u001b[1;33m**\u001b[0m\u001b[0mkwargs\u001b[0m\u001b[1;33m)\u001b[0m\u001b[1;33m\u001b[0m\u001b[1;33m\u001b[0m\u001b[0m\n",
      "\u001b[1;31mTypeError\u001b[0m: bar() missing 1 required positional argument: 'height'"
     ]
    }
   ],
   "source": [
    "#Intento\n",
    "fig, ax = plt.subplots(figsize=(40, 10))\n",
    "\n",
    "bar_width = 0.5\n",
    "b1 = ax.bar(table_paises[\"Where do you avoid being open about yourself as LGBTI for fear of being assaulted, threatened or harassed by others?\"],\n",
    "            width=bar_width)"
   ]
  },
  {
   "cell_type": "code",
   "execution_count": 71,
   "metadata": {},
   "outputs": [
    {
     "output_type": "execute_result",
     "data": {
      "text/plain": [
       "answer      CountryCode  A cafe, restaurant, pub, club  Around my family   \\\n",
       "0               Austria                             35                 26   \n",
       "1               Belgium                             37                 21   \n",
       "2              Bulgaria                             53                 46   \n",
       "3               Croatia                             64                 41   \n",
       "4                Cyprus                             59                 55   \n",
       "5               Czechia                             34                 29   \n",
       "6               Denmark                             32                  8   \n",
       "7                 EU-28                             39                 29   \n",
       "8               Estonia                             50                 41   \n",
       "9               Finland                             45                 17   \n",
       "10               France                             41                 26   \n",
       "11              Germany                             30                 22   \n",
       "12               Greece                             40                 51   \n",
       "13              Hungary                             47                 30   \n",
       "14              Ireland                             35                 25   \n",
       "15                Italy                             29                 33   \n",
       "16               Latvia                             52                 43   \n",
       "17            Lithuania                             50                 50   \n",
       "18           Luxembourg                             31                 29   \n",
       "19                Malta                             34                 35   \n",
       "20          Netherlands                             40                 15   \n",
       "21      North Macedonia                             57                 60   \n",
       "22               Poland                             51                 41   \n",
       "23             Portugal                             32                 42   \n",
       "24              Romania                             54                 55   \n",
       "25               Serbia                             49                 49   \n",
       "26             Slovakia                             54                 39   \n",
       "27             Slovenia                             38                 37   \n",
       "28                Spain                             32                 24   \n",
       "29               Sweden                             33                 14   \n",
       "30       United Kingdom                             42                 25   \n",
       "\n",
       "answer  Dont Know   \\\n",
       "0               10   \n",
       "1                8   \n",
       "2                7   \n",
       "3                4   \n",
       "4                7   \n",
       "5               13   \n",
       "6               23   \n",
       "7                9   \n",
       "8                6   \n",
       "9               16   \n",
       "10               6   \n",
       "11              10   \n",
       "12               5   \n",
       "13               6   \n",
       "14               9   \n",
       "15              13   \n",
       "16               5   \n",
       "17               7   \n",
       "18              12   \n",
       "19              12   \n",
       "20              13   \n",
       "21               7   \n",
       "22               5   \n",
       "23              15   \n",
       "24               6   \n",
       "25               6   \n",
       "26               6   \n",
       "27               7   \n",
       "28              15   \n",
       "29              12   \n",
       "30               9   \n",
       "\n",
       "answer  In a healthcare setting (hospital or other medical service)  \\\n",
       "0                                                      22             \n",
       "1                                                      17             \n",
       "2                                                      42             \n",
       "3                                                      47             \n",
       "4                                                      41             \n",
       "5                                                      26             \n",
       "6                                                       6             \n",
       "7                                                      27             \n",
       "8                                                      32             \n",
       "9                                                      17             \n",
       "10                                                     26             \n",
       "11                                                     20             \n",
       "12                                                     34             \n",
       "13                                                     46             \n",
       "14                                                     16             \n",
       "15                                                     21             \n",
       "16                                                     42             \n",
       "17                                                     43             \n",
       "18                                                     19             \n",
       "19                                                     24             \n",
       "20                                                     10             \n",
       "21                                                     49             \n",
       "22                                                     51             \n",
       "23                                                     25             \n",
       "24                                                     54             \n",
       "25                                                     41             \n",
       "26                                                     46             \n",
       "27                                                     29             \n",
       "28                                                     17             \n",
       "29                                                     17             \n",
       "30                                                     20             \n",
       "\n",
       "answer  In the street, a square, park, car park or other public place  \\\n",
       "0                                                      49               \n",
       "1                                                      71               \n",
       "2                                                      61               \n",
       "3                                                      74               \n",
       "4                                                      61               \n",
       "5                                                      46               \n",
       "6                                                      45               \n",
       "7                                                      58               \n",
       "8                                                      67               \n",
       "9                                                      55               \n",
       "10                                                     70               \n",
       "11                                                     53               \n",
       "12                                                     54               \n",
       "13                                                     62               \n",
       "14                                                     57               \n",
       "15                                                     42               \n",
       "16                                                     66               \n",
       "17                                                     64               \n",
       "18                                                     52               \n",
       "19                                                     46               \n",
       "20                                                     61               \n",
       "21                                                     68               \n",
       "22                                                     72               \n",
       "23                                                     37               \n",
       "24                                                     70               \n",
       "25                                                     59               \n",
       "26                                                     64               \n",
       "27                                                     54               \n",
       "28                                                     47               \n",
       "29                                                     60               \n",
       "30                                                     63               \n",
       "\n",
       "answer  My home   Other   Public premises or buildings  Public transport   \\\n",
       "0              8      18                            41                 49   \n",
       "1              6      14                            41                 62   \n",
       "2             27      10                            55                 60   \n",
       "3             25      10                            67                 71   \n",
       "4             31      11                            63                 51   \n",
       "5              8      11                            36                 42   \n",
       "6              2      16                            23                 23   \n",
       "7             13      15                            43                 57   \n",
       "8             24      11                            53                 61   \n",
       "9              6      14                            25                 43   \n",
       "10             7      11                            49                 72   \n",
       "11             8      20                            39                 54   \n",
       "12            22       8                            54                 55   \n",
       "13            18      11                            55                 62   \n",
       "14            14      12                            37                 53   \n",
       "15            18      13                            34                 42   \n",
       "16            25       9                            59                 64   \n",
       "17            31      12                            57                 64   \n",
       "18            12      21                            33                 45   \n",
       "19            21      15                            42                 40   \n",
       "20             4      17                            37                 47   \n",
       "21            41      20                            61                 64   \n",
       "22            19      15                            62                 73   \n",
       "23            19       9                            31                 42   \n",
       "24            23      12                            63                 68   \n",
       "25            34      15                            59                 63   \n",
       "26            17       9                            56                 61   \n",
       "27            24      11                            41                 51   \n",
       "28            12      21                            26                 40   \n",
       "29             5      18                            31                 48   \n",
       "30            12      13                            42                 62   \n",
       "\n",
       "answer  School   Workplace   \n",
       "0            16          34  \n",
       "1            15          24  \n",
       "2            40          47  \n",
       "3            37          46  \n",
       "4            41          57  \n",
       "5            19          28  \n",
       "6             7          10  \n",
       "7            21          34  \n",
       "8            37          41  \n",
       "9            15          27  \n",
       "10           20          39  \n",
       "11           16          30  \n",
       "12           34          48  \n",
       "13           31          45  \n",
       "14           18          26  \n",
       "15           18          37  \n",
       "16           42          46  \n",
       "17           48          37  \n",
       "18           17          29  \n",
       "19           22          33  \n",
       "20           10          18  \n",
       "21           50          49  \n",
       "22           32          46  \n",
       "23           19          43  \n",
       "24           42          50  \n",
       "25           34          47  \n",
       "26           33          42  \n",
       "27           27          41  \n",
       "28           15          27  \n",
       "29           11          23  \n",
       "30           17          25  "
      ],
      "text/html": "<div>\n<style scoped>\n    .dataframe tbody tr th:only-of-type {\n        vertical-align: middle;\n    }\n\n    .dataframe tbody tr th {\n        vertical-align: top;\n    }\n\n    .dataframe thead th {\n        text-align: right;\n    }\n</style>\n<table border=\"1\" class=\"dataframe\">\n  <thead>\n    <tr style=\"text-align: right;\">\n      <th>answer</th>\n      <th>CountryCode</th>\n      <th>A cafe, restaurant, pub, club</th>\n      <th>Around my family</th>\n      <th>Dont Know</th>\n      <th>In a healthcare setting (hospital or other medical service)</th>\n      <th>In the street, a square, park, car park or other public place</th>\n      <th>My home</th>\n      <th>Other</th>\n      <th>Public premises or buildings</th>\n      <th>Public transport</th>\n      <th>School</th>\n      <th>Workplace</th>\n    </tr>\n  </thead>\n  <tbody>\n    <tr>\n      <th>0</th>\n      <td>Austria</td>\n      <td>35</td>\n      <td>26</td>\n      <td>10</td>\n      <td>22</td>\n      <td>49</td>\n      <td>8</td>\n      <td>18</td>\n      <td>41</td>\n      <td>49</td>\n      <td>16</td>\n      <td>34</td>\n    </tr>\n    <tr>\n      <th>1</th>\n      <td>Belgium</td>\n      <td>37</td>\n      <td>21</td>\n      <td>8</td>\n      <td>17</td>\n      <td>71</td>\n      <td>6</td>\n      <td>14</td>\n      <td>41</td>\n      <td>62</td>\n      <td>15</td>\n      <td>24</td>\n    </tr>\n    <tr>\n      <th>2</th>\n      <td>Bulgaria</td>\n      <td>53</td>\n      <td>46</td>\n      <td>7</td>\n      <td>42</td>\n      <td>61</td>\n      <td>27</td>\n      <td>10</td>\n      <td>55</td>\n      <td>60</td>\n      <td>40</td>\n      <td>47</td>\n    </tr>\n    <tr>\n      <th>3</th>\n      <td>Croatia</td>\n      <td>64</td>\n      <td>41</td>\n      <td>4</td>\n      <td>47</td>\n      <td>74</td>\n      <td>25</td>\n      <td>10</td>\n      <td>67</td>\n      <td>71</td>\n      <td>37</td>\n      <td>46</td>\n    </tr>\n    <tr>\n      <th>4</th>\n      <td>Cyprus</td>\n      <td>59</td>\n      <td>55</td>\n      <td>7</td>\n      <td>41</td>\n      <td>61</td>\n      <td>31</td>\n      <td>11</td>\n      <td>63</td>\n      <td>51</td>\n      <td>41</td>\n      <td>57</td>\n    </tr>\n    <tr>\n      <th>5</th>\n      <td>Czechia</td>\n      <td>34</td>\n      <td>29</td>\n      <td>13</td>\n      <td>26</td>\n      <td>46</td>\n      <td>8</td>\n      <td>11</td>\n      <td>36</td>\n      <td>42</td>\n      <td>19</td>\n      <td>28</td>\n    </tr>\n    <tr>\n      <th>6</th>\n      <td>Denmark</td>\n      <td>32</td>\n      <td>8</td>\n      <td>23</td>\n      <td>6</td>\n      <td>45</td>\n      <td>2</td>\n      <td>16</td>\n      <td>23</td>\n      <td>23</td>\n      <td>7</td>\n      <td>10</td>\n    </tr>\n    <tr>\n      <th>7</th>\n      <td>EU-28</td>\n      <td>39</td>\n      <td>29</td>\n      <td>9</td>\n      <td>27</td>\n      <td>58</td>\n      <td>13</td>\n      <td>15</td>\n      <td>43</td>\n      <td>57</td>\n      <td>21</td>\n      <td>34</td>\n    </tr>\n    <tr>\n      <th>8</th>\n      <td>Estonia</td>\n      <td>50</td>\n      <td>41</td>\n      <td>6</td>\n      <td>32</td>\n      <td>67</td>\n      <td>24</td>\n      <td>11</td>\n      <td>53</td>\n      <td>61</td>\n      <td>37</td>\n      <td>41</td>\n    </tr>\n    <tr>\n      <th>9</th>\n      <td>Finland</td>\n      <td>45</td>\n      <td>17</td>\n      <td>16</td>\n      <td>17</td>\n      <td>55</td>\n      <td>6</td>\n      <td>14</td>\n      <td>25</td>\n      <td>43</td>\n      <td>15</td>\n      <td>27</td>\n    </tr>\n    <tr>\n      <th>10</th>\n      <td>France</td>\n      <td>41</td>\n      <td>26</td>\n      <td>6</td>\n      <td>26</td>\n      <td>70</td>\n      <td>7</td>\n      <td>11</td>\n      <td>49</td>\n      <td>72</td>\n      <td>20</td>\n      <td>39</td>\n    </tr>\n    <tr>\n      <th>11</th>\n      <td>Germany</td>\n      <td>30</td>\n      <td>22</td>\n      <td>10</td>\n      <td>20</td>\n      <td>53</td>\n      <td>8</td>\n      <td>20</td>\n      <td>39</td>\n      <td>54</td>\n      <td>16</td>\n      <td>30</td>\n    </tr>\n    <tr>\n      <th>12</th>\n      <td>Greece</td>\n      <td>40</td>\n      <td>51</td>\n      <td>5</td>\n      <td>34</td>\n      <td>54</td>\n      <td>22</td>\n      <td>8</td>\n      <td>54</td>\n      <td>55</td>\n      <td>34</td>\n      <td>48</td>\n    </tr>\n    <tr>\n      <th>13</th>\n      <td>Hungary</td>\n      <td>47</td>\n      <td>30</td>\n      <td>6</td>\n      <td>46</td>\n      <td>62</td>\n      <td>18</td>\n      <td>11</td>\n      <td>55</td>\n      <td>62</td>\n      <td>31</td>\n      <td>45</td>\n    </tr>\n    <tr>\n      <th>14</th>\n      <td>Ireland</td>\n      <td>35</td>\n      <td>25</td>\n      <td>9</td>\n      <td>16</td>\n      <td>57</td>\n      <td>14</td>\n      <td>12</td>\n      <td>37</td>\n      <td>53</td>\n      <td>18</td>\n      <td>26</td>\n    </tr>\n    <tr>\n      <th>15</th>\n      <td>Italy</td>\n      <td>29</td>\n      <td>33</td>\n      <td>13</td>\n      <td>21</td>\n      <td>42</td>\n      <td>18</td>\n      <td>13</td>\n      <td>34</td>\n      <td>42</td>\n      <td>18</td>\n      <td>37</td>\n    </tr>\n    <tr>\n      <th>16</th>\n      <td>Latvia</td>\n      <td>52</td>\n      <td>43</td>\n      <td>5</td>\n      <td>42</td>\n      <td>66</td>\n      <td>25</td>\n      <td>9</td>\n      <td>59</td>\n      <td>64</td>\n      <td>42</td>\n      <td>46</td>\n    </tr>\n    <tr>\n      <th>17</th>\n      <td>Lithuania</td>\n      <td>50</td>\n      <td>50</td>\n      <td>7</td>\n      <td>43</td>\n      <td>64</td>\n      <td>31</td>\n      <td>12</td>\n      <td>57</td>\n      <td>64</td>\n      <td>48</td>\n      <td>37</td>\n    </tr>\n    <tr>\n      <th>18</th>\n      <td>Luxembourg</td>\n      <td>31</td>\n      <td>29</td>\n      <td>12</td>\n      <td>19</td>\n      <td>52</td>\n      <td>12</td>\n      <td>21</td>\n      <td>33</td>\n      <td>45</td>\n      <td>17</td>\n      <td>29</td>\n    </tr>\n    <tr>\n      <th>19</th>\n      <td>Malta</td>\n      <td>34</td>\n      <td>35</td>\n      <td>12</td>\n      <td>24</td>\n      <td>46</td>\n      <td>21</td>\n      <td>15</td>\n      <td>42</td>\n      <td>40</td>\n      <td>22</td>\n      <td>33</td>\n    </tr>\n    <tr>\n      <th>20</th>\n      <td>Netherlands</td>\n      <td>40</td>\n      <td>15</td>\n      <td>13</td>\n      <td>10</td>\n      <td>61</td>\n      <td>4</td>\n      <td>17</td>\n      <td>37</td>\n      <td>47</td>\n      <td>10</td>\n      <td>18</td>\n    </tr>\n    <tr>\n      <th>21</th>\n      <td>North Macedonia</td>\n      <td>57</td>\n      <td>60</td>\n      <td>7</td>\n      <td>49</td>\n      <td>68</td>\n      <td>41</td>\n      <td>20</td>\n      <td>61</td>\n      <td>64</td>\n      <td>50</td>\n      <td>49</td>\n    </tr>\n    <tr>\n      <th>22</th>\n      <td>Poland</td>\n      <td>51</td>\n      <td>41</td>\n      <td>5</td>\n      <td>51</td>\n      <td>72</td>\n      <td>19</td>\n      <td>15</td>\n      <td>62</td>\n      <td>73</td>\n      <td>32</td>\n      <td>46</td>\n    </tr>\n    <tr>\n      <th>23</th>\n      <td>Portugal</td>\n      <td>32</td>\n      <td>42</td>\n      <td>15</td>\n      <td>25</td>\n      <td>37</td>\n      <td>19</td>\n      <td>9</td>\n      <td>31</td>\n      <td>42</td>\n      <td>19</td>\n      <td>43</td>\n    </tr>\n    <tr>\n      <th>24</th>\n      <td>Romania</td>\n      <td>54</td>\n      <td>55</td>\n      <td>6</td>\n      <td>54</td>\n      <td>70</td>\n      <td>23</td>\n      <td>12</td>\n      <td>63</td>\n      <td>68</td>\n      <td>42</td>\n      <td>50</td>\n    </tr>\n    <tr>\n      <th>25</th>\n      <td>Serbia</td>\n      <td>49</td>\n      <td>49</td>\n      <td>6</td>\n      <td>41</td>\n      <td>59</td>\n      <td>34</td>\n      <td>15</td>\n      <td>59</td>\n      <td>63</td>\n      <td>34</td>\n      <td>47</td>\n    </tr>\n    <tr>\n      <th>26</th>\n      <td>Slovakia</td>\n      <td>54</td>\n      <td>39</td>\n      <td>6</td>\n      <td>46</td>\n      <td>64</td>\n      <td>17</td>\n      <td>9</td>\n      <td>56</td>\n      <td>61</td>\n      <td>33</td>\n      <td>42</td>\n    </tr>\n    <tr>\n      <th>27</th>\n      <td>Slovenia</td>\n      <td>38</td>\n      <td>37</td>\n      <td>7</td>\n      <td>29</td>\n      <td>54</td>\n      <td>24</td>\n      <td>11</td>\n      <td>41</td>\n      <td>51</td>\n      <td>27</td>\n      <td>41</td>\n    </tr>\n    <tr>\n      <th>28</th>\n      <td>Spain</td>\n      <td>32</td>\n      <td>24</td>\n      <td>15</td>\n      <td>17</td>\n      <td>47</td>\n      <td>12</td>\n      <td>21</td>\n      <td>26</td>\n      <td>40</td>\n      <td>15</td>\n      <td>27</td>\n    </tr>\n    <tr>\n      <th>29</th>\n      <td>Sweden</td>\n      <td>33</td>\n      <td>14</td>\n      <td>12</td>\n      <td>17</td>\n      <td>60</td>\n      <td>5</td>\n      <td>18</td>\n      <td>31</td>\n      <td>48</td>\n      <td>11</td>\n      <td>23</td>\n    </tr>\n    <tr>\n      <th>30</th>\n      <td>United Kingdom</td>\n      <td>42</td>\n      <td>25</td>\n      <td>9</td>\n      <td>20</td>\n      <td>63</td>\n      <td>12</td>\n      <td>13</td>\n      <td>42</td>\n      <td>62</td>\n      <td>17</td>\n      <td>25</td>\n    </tr>\n  </tbody>\n</table>\n</div>"
     },
     "metadata": {},
     "execution_count": 71
    }
   ],
   "source": [
    "table_paises= table_paises.reset_index()\n",
    "table_paises"
   ]
  },
  {
   "cell_type": "code",
   "execution_count": 18,
   "metadata": {},
   "outputs": [
    {
     "output_type": "execute_result",
     "data": {
      "text/plain": [
       "0     22\n",
       "1     17\n",
       "2     42\n",
       "3     47\n",
       "4     41\n",
       "5     26\n",
       "6      6\n",
       "7     27\n",
       "8     32\n",
       "9     17\n",
       "10    26\n",
       "11    20\n",
       "12    34\n",
       "13    46\n",
       "14    16\n",
       "15    21\n",
       "16    42\n",
       "17    43\n",
       "18    19\n",
       "19    24\n",
       "20    10\n",
       "21    49\n",
       "22    51\n",
       "23    25\n",
       "24    54\n",
       "25    41\n",
       "26    46\n",
       "27    29\n",
       "28    17\n",
       "29    17\n",
       "30    20\n",
       "Name: In a healthcare setting (hospital or other medical service), dtype: int32"
      ]
     },
     "metadata": {},
     "execution_count": 18
    }
   ],
   "source": [
    "table_paises[\"In a healthcare setting (hospital or other medical service)\"]"
   ]
  },
  {
   "cell_type": "code",
   "execution_count": 40,
   "metadata": {},
   "outputs": [
    {
     "output_type": "execute_result",
     "data": {
      "text/plain": [
       "                                                         0        1   \\\n",
       "answer                                                                 \n",
       "CountryCode                                         Austria  Belgium   \n",
       "A cafe, restaurant, pub, club                            35       37   \n",
       "Around my family                                         26       21   \n",
       "Dont Know                                                10        8   \n",
       "In a healthcare setting (hospital or other medi...       22       17   \n",
       "In the street, a square, park, car park or othe...       49       71   \n",
       "My home                                                   8        6   \n",
       "Other                                                    18       14   \n",
       "Public premises or buildings                             41       41   \n",
       "Public transport                                         49       62   \n",
       "School                                                   16       15   \n",
       "Workplace                                                34       24   \n",
       "\n",
       "                                                          2        3       4   \\\n",
       "answer                                                                          \n",
       "CountryCode                                         Bulgaria  Croatia  Cyprus   \n",
       "A cafe, restaurant, pub, club                             53       64      59   \n",
       "Around my family                                          46       41      55   \n",
       "Dont Know                                                  7        4       7   \n",
       "In a healthcare setting (hospital or other medi...        42       47      41   \n",
       "In the street, a square, park, car park or othe...        61       74      61   \n",
       "My home                                                   27       25      31   \n",
       "Other                                                     10       10      11   \n",
       "Public premises or buildings                              55       67      63   \n",
       "Public transport                                          60       71      51   \n",
       "School                                                    40       37      41   \n",
       "Workplace                                                 47       46      57   \n",
       "\n",
       "                                                         5        6      7   \\\n",
       "answer                                                                        \n",
       "CountryCode                                         Czechia  Denmark  EU-28   \n",
       "A cafe, restaurant, pub, club                            34       32     39   \n",
       "Around my family                                         29        8     29   \n",
       "Dont Know                                                13       23      9   \n",
       "In a healthcare setting (hospital or other medi...       26        6     27   \n",
       "In the street, a square, park, car park or othe...       46       45     58   \n",
       "My home                                                   8        2     13   \n",
       "Other                                                    11       16     15   \n",
       "Public premises or buildings                             36       23     43   \n",
       "Public transport                                         42       23     57   \n",
       "School                                                   19        7     21   \n",
       "Workplace                                                28       10     34   \n",
       "\n",
       "                                                         8        9   ...  \\\n",
       "answer                                                                ...   \n",
       "CountryCode                                         Estonia  Finland  ...   \n",
       "A cafe, restaurant, pub, club                            50       45  ...   \n",
       "Around my family                                         41       17  ...   \n",
       "Dont Know                                                 6       16  ...   \n",
       "In a healthcare setting (hospital or other medi...       32       17  ...   \n",
       "In the street, a square, park, car park or othe...       67       55  ...   \n",
       "My home                                                  24        6  ...   \n",
       "Other                                                    11       14  ...   \n",
       "Public premises or buildings                             53       25  ...   \n",
       "Public transport                                         61       43  ...   \n",
       "School                                                   37       15  ...   \n",
       "Workplace                                                41       27  ...   \n",
       "\n",
       "                                                                 21      22  \\\n",
       "answer                                                                        \n",
       "CountryCode                                         North Macedonia  Poland   \n",
       "A cafe, restaurant, pub, club                                    57      51   \n",
       "Around my family                                                 60      41   \n",
       "Dont Know                                                         7       5   \n",
       "In a healthcare setting (hospital or other medi...               49      51   \n",
       "In the street, a square, park, car park or othe...               68      72   \n",
       "My home                                                          41      19   \n",
       "Other                                                            20      15   \n",
       "Public premises or buildings                                     61      62   \n",
       "Public transport                                                 64      73   \n",
       "School                                                           50      32   \n",
       "Workplace                                                        49      46   \n",
       "\n",
       "                                                          23       24      25  \\\n",
       "answer                                                                          \n",
       "CountryCode                                         Portugal  Romania  Serbia   \n",
       "A cafe, restaurant, pub, club                             32       54      49   \n",
       "Around my family                                          42       55      49   \n",
       "Dont Know                                                 15        6       6   \n",
       "In a healthcare setting (hospital or other medi...        25       54      41   \n",
       "In the street, a square, park, car park or othe...        37       70      59   \n",
       "My home                                                   19       23      34   \n",
       "Other                                                      9       12      15   \n",
       "Public premises or buildings                              31       63      59   \n",
       "Public transport                                          42       68      63   \n",
       "School                                                    19       42      34   \n",
       "Workplace                                                 43       50      47   \n",
       "\n",
       "                                                          26        27     28  \\\n",
       "answer                                                                          \n",
       "CountryCode                                         Slovakia  Slovenia  Spain   \n",
       "A cafe, restaurant, pub, club                             54        38     32   \n",
       "Around my family                                          39        37     24   \n",
       "Dont Know                                                  6         7     15   \n",
       "In a healthcare setting (hospital or other medi...        46        29     17   \n",
       "In the street, a square, park, car park or othe...        64        54     47   \n",
       "My home                                                   17        24     12   \n",
       "Other                                                      9        11     21   \n",
       "Public premises or buildings                              56        41     26   \n",
       "Public transport                                          61        51     40   \n",
       "School                                                    33        27     15   \n",
       "Workplace                                                 42        41     27   \n",
       "\n",
       "                                                        29              30  \n",
       "answer                                                                      \n",
       "CountryCode                                         Sweden  United Kingdom  \n",
       "A cafe, restaurant, pub, club                           33              42  \n",
       "Around my family                                        14              25  \n",
       "Dont Know                                               12               9  \n",
       "In a healthcare setting (hospital or other medi...      17              20  \n",
       "In the street, a square, park, car park or othe...      60              63  \n",
       "My home                                                  5              12  \n",
       "Other                                                   18              13  \n",
       "Public premises or buildings                            31              42  \n",
       "Public transport                                        48              62  \n",
       "School                                                  11              17  \n",
       "Workplace                                               23              25  \n",
       "\n",
       "[12 rows x 31 columns]"
      ],
      "text/html": "<div>\n<style scoped>\n    .dataframe tbody tr th:only-of-type {\n        vertical-align: middle;\n    }\n\n    .dataframe tbody tr th {\n        vertical-align: top;\n    }\n\n    .dataframe thead th {\n        text-align: right;\n    }\n</style>\n<table border=\"1\" class=\"dataframe\">\n  <thead>\n    <tr style=\"text-align: right;\">\n      <th></th>\n      <th>0</th>\n      <th>1</th>\n      <th>2</th>\n      <th>3</th>\n      <th>4</th>\n      <th>5</th>\n      <th>6</th>\n      <th>7</th>\n      <th>8</th>\n      <th>9</th>\n      <th>...</th>\n      <th>21</th>\n      <th>22</th>\n      <th>23</th>\n      <th>24</th>\n      <th>25</th>\n      <th>26</th>\n      <th>27</th>\n      <th>28</th>\n      <th>29</th>\n      <th>30</th>\n    </tr>\n    <tr>\n      <th>answer</th>\n      <th></th>\n      <th></th>\n      <th></th>\n      <th></th>\n      <th></th>\n      <th></th>\n      <th></th>\n      <th></th>\n      <th></th>\n      <th></th>\n      <th></th>\n      <th></th>\n      <th></th>\n      <th></th>\n      <th></th>\n      <th></th>\n      <th></th>\n      <th></th>\n      <th></th>\n      <th></th>\n      <th></th>\n    </tr>\n  </thead>\n  <tbody>\n    <tr>\n      <th>CountryCode</th>\n      <td>Austria</td>\n      <td>Belgium</td>\n      <td>Bulgaria</td>\n      <td>Croatia</td>\n      <td>Cyprus</td>\n      <td>Czechia</td>\n      <td>Denmark</td>\n      <td>EU-28</td>\n      <td>Estonia</td>\n      <td>Finland</td>\n      <td>...</td>\n      <td>North Macedonia</td>\n      <td>Poland</td>\n      <td>Portugal</td>\n      <td>Romania</td>\n      <td>Serbia</td>\n      <td>Slovakia</td>\n      <td>Slovenia</td>\n      <td>Spain</td>\n      <td>Sweden</td>\n      <td>United Kingdom</td>\n    </tr>\n    <tr>\n      <th>A cafe, restaurant, pub, club</th>\n      <td>35</td>\n      <td>37</td>\n      <td>53</td>\n      <td>64</td>\n      <td>59</td>\n      <td>34</td>\n      <td>32</td>\n      <td>39</td>\n      <td>50</td>\n      <td>45</td>\n      <td>...</td>\n      <td>57</td>\n      <td>51</td>\n      <td>32</td>\n      <td>54</td>\n      <td>49</td>\n      <td>54</td>\n      <td>38</td>\n      <td>32</td>\n      <td>33</td>\n      <td>42</td>\n    </tr>\n    <tr>\n      <th>Around my family</th>\n      <td>26</td>\n      <td>21</td>\n      <td>46</td>\n      <td>41</td>\n      <td>55</td>\n      <td>29</td>\n      <td>8</td>\n      <td>29</td>\n      <td>41</td>\n      <td>17</td>\n      <td>...</td>\n      <td>60</td>\n      <td>41</td>\n      <td>42</td>\n      <td>55</td>\n      <td>49</td>\n      <td>39</td>\n      <td>37</td>\n      <td>24</td>\n      <td>14</td>\n      <td>25</td>\n    </tr>\n    <tr>\n      <th>Dont Know</th>\n      <td>10</td>\n      <td>8</td>\n      <td>7</td>\n      <td>4</td>\n      <td>7</td>\n      <td>13</td>\n      <td>23</td>\n      <td>9</td>\n      <td>6</td>\n      <td>16</td>\n      <td>...</td>\n      <td>7</td>\n      <td>5</td>\n      <td>15</td>\n      <td>6</td>\n      <td>6</td>\n      <td>6</td>\n      <td>7</td>\n      <td>15</td>\n      <td>12</td>\n      <td>9</td>\n    </tr>\n    <tr>\n      <th>In a healthcare setting (hospital or other medical service)</th>\n      <td>22</td>\n      <td>17</td>\n      <td>42</td>\n      <td>47</td>\n      <td>41</td>\n      <td>26</td>\n      <td>6</td>\n      <td>27</td>\n      <td>32</td>\n      <td>17</td>\n      <td>...</td>\n      <td>49</td>\n      <td>51</td>\n      <td>25</td>\n      <td>54</td>\n      <td>41</td>\n      <td>46</td>\n      <td>29</td>\n      <td>17</td>\n      <td>17</td>\n      <td>20</td>\n    </tr>\n    <tr>\n      <th>In the street, a square, park, car park or other public place</th>\n      <td>49</td>\n      <td>71</td>\n      <td>61</td>\n      <td>74</td>\n      <td>61</td>\n      <td>46</td>\n      <td>45</td>\n      <td>58</td>\n      <td>67</td>\n      <td>55</td>\n      <td>...</td>\n      <td>68</td>\n      <td>72</td>\n      <td>37</td>\n      <td>70</td>\n      <td>59</td>\n      <td>64</td>\n      <td>54</td>\n      <td>47</td>\n      <td>60</td>\n      <td>63</td>\n    </tr>\n    <tr>\n      <th>My home</th>\n      <td>8</td>\n      <td>6</td>\n      <td>27</td>\n      <td>25</td>\n      <td>31</td>\n      <td>8</td>\n      <td>2</td>\n      <td>13</td>\n      <td>24</td>\n      <td>6</td>\n      <td>...</td>\n      <td>41</td>\n      <td>19</td>\n      <td>19</td>\n      <td>23</td>\n      <td>34</td>\n      <td>17</td>\n      <td>24</td>\n      <td>12</td>\n      <td>5</td>\n      <td>12</td>\n    </tr>\n    <tr>\n      <th>Other</th>\n      <td>18</td>\n      <td>14</td>\n      <td>10</td>\n      <td>10</td>\n      <td>11</td>\n      <td>11</td>\n      <td>16</td>\n      <td>15</td>\n      <td>11</td>\n      <td>14</td>\n      <td>...</td>\n      <td>20</td>\n      <td>15</td>\n      <td>9</td>\n      <td>12</td>\n      <td>15</td>\n      <td>9</td>\n      <td>11</td>\n      <td>21</td>\n      <td>18</td>\n      <td>13</td>\n    </tr>\n    <tr>\n      <th>Public premises or buildings</th>\n      <td>41</td>\n      <td>41</td>\n      <td>55</td>\n      <td>67</td>\n      <td>63</td>\n      <td>36</td>\n      <td>23</td>\n      <td>43</td>\n      <td>53</td>\n      <td>25</td>\n      <td>...</td>\n      <td>61</td>\n      <td>62</td>\n      <td>31</td>\n      <td>63</td>\n      <td>59</td>\n      <td>56</td>\n      <td>41</td>\n      <td>26</td>\n      <td>31</td>\n      <td>42</td>\n    </tr>\n    <tr>\n      <th>Public transport</th>\n      <td>49</td>\n      <td>62</td>\n      <td>60</td>\n      <td>71</td>\n      <td>51</td>\n      <td>42</td>\n      <td>23</td>\n      <td>57</td>\n      <td>61</td>\n      <td>43</td>\n      <td>...</td>\n      <td>64</td>\n      <td>73</td>\n      <td>42</td>\n      <td>68</td>\n      <td>63</td>\n      <td>61</td>\n      <td>51</td>\n      <td>40</td>\n      <td>48</td>\n      <td>62</td>\n    </tr>\n    <tr>\n      <th>School</th>\n      <td>16</td>\n      <td>15</td>\n      <td>40</td>\n      <td>37</td>\n      <td>41</td>\n      <td>19</td>\n      <td>7</td>\n      <td>21</td>\n      <td>37</td>\n      <td>15</td>\n      <td>...</td>\n      <td>50</td>\n      <td>32</td>\n      <td>19</td>\n      <td>42</td>\n      <td>34</td>\n      <td>33</td>\n      <td>27</td>\n      <td>15</td>\n      <td>11</td>\n      <td>17</td>\n    </tr>\n    <tr>\n      <th>Workplace</th>\n      <td>34</td>\n      <td>24</td>\n      <td>47</td>\n      <td>46</td>\n      <td>57</td>\n      <td>28</td>\n      <td>10</td>\n      <td>34</td>\n      <td>41</td>\n      <td>27</td>\n      <td>...</td>\n      <td>49</td>\n      <td>46</td>\n      <td>43</td>\n      <td>50</td>\n      <td>47</td>\n      <td>42</td>\n      <td>41</td>\n      <td>27</td>\n      <td>23</td>\n      <td>25</td>\n    </tr>\n  </tbody>\n</table>\n<p>12 rows × 31 columns</p>\n</div>"
     },
     "metadata": {},
     "execution_count": 40
    }
   ],
   "source": [
    "m = table_paises.T\n",
    "m"
   ]
  },
  {
   "cell_type": "code",
   "execution_count": 28,
   "metadata": {},
   "outputs": [
    {
     "output_type": "execute_result",
     "data": {
      "text/plain": [
       "array([[<AxesSubplot:title={'center':'A cafe, restaurant, pub, club'}>,\n",
       "        <AxesSubplot:title={'center':'Around my family '}>,\n",
       "        <AxesSubplot:title={'center':'Dont Know '}>],\n",
       "       [<AxesSubplot:title={'center':'In a healthcare setting (hospital or other medical service)'}>,\n",
       "        <AxesSubplot:title={'center':'In the street, a square, park, car park or other public place'}>,\n",
       "        <AxesSubplot:title={'center':'My home '}>],\n",
       "       [<AxesSubplot:title={'center':'Other '}>,\n",
       "        <AxesSubplot:title={'center':'Public premises or buildings'}>,\n",
       "        <AxesSubplot:title={'center':'Public transport '}>],\n",
       "       [<AxesSubplot:title={'center':'School '}>,\n",
       "        <AxesSubplot:title={'center':'Workplace '}>, <AxesSubplot:>]],\n",
       "      dtype=object)"
      ]
     },
     "metadata": {},
     "execution_count": 28
    },
    {
     "output_type": "display_data",
     "data": {
      "text/plain": "<Figure size 432x288 with 12 Axes>",
      "image/svg+xml": "<?xml version=\"1.0\" encoding=\"utf-8\" standalone=\"no\"?>\r\n<!DOCTYPE svg PUBLIC \"-//W3C//DTD SVG 1.1//EN\"\r\n  \"http://www.w3.org/Graphics/SVG/1.1/DTD/svg11.dtd\">\r\n<!-- Created with matplotlib (https://matplotlib.org/) -->\r\n<svg height=\"263.63625pt\" version=\"1.1\" viewBox=\"0 0 484.710938 263.63625\" width=\"484.710938pt\" xmlns=\"http://www.w3.org/2000/svg\" xmlns:xlink=\"http://www.w3.org/1999/xlink\">\r\n <metadata>\r\n  <rdf:RDF xmlns:cc=\"http://creativecommons.org/ns#\" xmlns:dc=\"http://purl.org/dc/elements/1.1/\" xmlns:rdf=\"http://www.w3.org/1999/02/22-rdf-syntax-ns#\">\r\n   <cc:Work>\r\n    <dc:type rdf:resource=\"http://purl.org/dc/dcmitype/StillImage\"/>\r\n    <dc:date>2021-01-05T11:32:20.661510</dc:date>\r\n    <dc:format>image/svg+xml</dc:format>\r\n    <dc:creator>\r\n     <cc:Agent>\r\n      <dc:title>Matplotlib v3.3.3, https://matplotlib.org/</dc:title>\r\n     </cc:Agent>\r\n    </dc:creator>\r\n   </cc:Work>\r\n  </rdf:RDF>\r\n </metadata>\r\n <defs>\r\n  <style type=\"text/css\">*{stroke-linecap:butt;stroke-linejoin:round;}</style>\r\n </defs>\r\n <g id=\"figure_1\">\r\n  <g id=\"patch_1\">\r\n   <path d=\"M 0 263.63625 \r\nL 484.710937 263.63625 \r\nL 484.710937 0 \r\nL 0 0 \r\nz\r\n\" style=\"fill:none;\"/>\r\n  </g>\r\n  <g id=\"axes_1\">\r\n   <g id=\"patch_2\">\r\n    <path d=\"M 133.720312 66.693635 \r\nL 226.720312 66.693635 \r\nL 226.720312 22.318125 \r\nL 133.720312 22.318125 \r\nz\r\n\" style=\"fill:#ffffff;\"/>\r\n   </g>\r\n   <g id=\"patch_3\">\r\n    <path clip-path=\"url(#p91a9310e16)\" d=\"M 137.947585 66.693635 \r\nL 146.402131 66.693635 \r\nL 146.402131 24.431245 \r\nL 137.947585 24.431245 \r\nz\r\n\" style=\"fill:#1f77b4;\"/>\r\n   </g>\r\n   <g id=\"patch_4\">\r\n    <path clip-path=\"url(#p91a9310e16)\" d=\"M 146.402131 66.693635 \r\nL 154.856676 66.693635 \r\nL 154.856676 31.474976 \r\nL 146.402131 31.474976 \r\nz\r\n\" style=\"fill:#1f77b4;\"/>\r\n   </g>\r\n   <g id=\"patch_5\">\r\n    <path clip-path=\"url(#p91a9310e16)\" d=\"M 154.856676 66.693635 \r\nL 163.311222 66.693635 \r\nL 163.311222 45.56244 \r\nL 154.856676 45.56244 \r\nz\r\n\" style=\"fill:#1f77b4;\"/>\r\n   </g>\r\n   <g id=\"patch_6\">\r\n    <path clip-path=\"url(#p91a9310e16)\" d=\"M 163.311222 66.693635 \r\nL 171.765767 66.693635 \r\nL 171.765767 38.518708 \r\nL 163.311222 38.518708 \r\nz\r\n\" style=\"fill:#1f77b4;\"/>\r\n   </g>\r\n   <g id=\"patch_7\">\r\n    <path clip-path=\"url(#p91a9310e16)\" d=\"M 171.765767 66.693635 \r\nL 180.220313 66.693635 \r\nL 180.220313 59.649903 \r\nL 171.765767 59.649903 \r\nz\r\n\" style=\"fill:#1f77b4;\"/>\r\n   </g>\r\n   <g id=\"patch_8\">\r\n    <path clip-path=\"url(#p91a9310e16)\" d=\"M 180.220312 66.693635 \r\nL 188.674858 66.693635 \r\nL 188.674858 52.606172 \r\nL 180.220312 52.606172 \r\nz\r\n\" style=\"fill:#1f77b4;\"/>\r\n   </g>\r\n   <g id=\"patch_9\">\r\n    <path clip-path=\"url(#p91a9310e16)\" d=\"M 188.674858 66.693635 \r\nL 197.129403 66.693635 \r\nL 197.129403 31.474976 \r\nL 188.674858 31.474976 \r\nz\r\n\" style=\"fill:#1f77b4;\"/>\r\n   </g>\r\n   <g id=\"patch_10\">\r\n    <path clip-path=\"url(#p91a9310e16)\" d=\"M 197.129403 66.693635 \r\nL 205.583949 66.693635 \r\nL 205.583949 52.606172 \r\nL 197.129403 52.606172 \r\nz\r\n\" style=\"fill:#1f77b4;\"/>\r\n   </g>\r\n   <g id=\"patch_11\">\r\n    <path clip-path=\"url(#p91a9310e16)\" d=\"M 205.583949 66.693635 \r\nL 214.038494 66.693635 \r\nL 214.038494 52.606172 \r\nL 205.583949 52.606172 \r\nz\r\n\" style=\"fill:#1f77b4;\"/>\r\n   </g>\r\n   <g id=\"patch_12\">\r\n    <path clip-path=\"url(#p91a9310e16)\" d=\"M 214.038494 66.693635 \r\nL 222.49304 66.693635 \r\nL 222.49304 59.649903 \r\nL 214.038494 59.649903 \r\nz\r\n\" style=\"fill:#1f77b4;\"/>\r\n   </g>\r\n   <g id=\"matplotlib.axis_1\">\r\n    <g id=\"xtick_1\">\r\n     <g id=\"line2d_1\">\r\n      <path clip-path=\"url(#p91a9310e16)\" d=\"M 164.519014 66.693635 \r\nL 164.519014 22.318125 \r\n\" style=\"fill:none;stroke:#b0b0b0;stroke-linecap:square;stroke-width:0.8;\"/>\r\n     </g>\r\n     <g id=\"line2d_2\">\r\n      <defs>\r\n       <path d=\"M 0 0 \r\nL 0 3.5 \r\n\" id=\"m646e142152\" style=\"stroke:#000000;stroke-width:0.8;\"/>\r\n      </defs>\r\n      <g>\r\n       <use style=\"stroke:#000000;stroke-width:0.8;\" x=\"164.519014\" xlink:href=\"#m646e142152\" y=\"66.693635\"/>\r\n      </g>\r\n     </g>\r\n     <g id=\"text_1\">\r\n      <!-- 40 -->\r\n      <g transform=\"translate(158.156514 81.292073)scale(0.1 -0.1)\">\r\n       <defs>\r\n        <path d=\"M 37.796875 64.3125 \r\nL 12.890625 25.390625 \r\nL 37.796875 25.390625 \r\nz\r\nM 35.203125 72.90625 \r\nL 47.609375 72.90625 \r\nL 47.609375 25.390625 \r\nL 58.015625 25.390625 \r\nL 58.015625 17.1875 \r\nL 47.609375 17.1875 \r\nL 47.609375 0 \r\nL 37.796875 0 \r\nL 37.796875 17.1875 \r\nL 4.890625 17.1875 \r\nL 4.890625 26.703125 \r\nz\r\n\" id=\"DejaVuSans-52\"/>\r\n        <path d=\"M 31.78125 66.40625 \r\nQ 24.171875 66.40625 20.328125 58.90625 \r\nQ 16.5 51.421875 16.5 36.375 \r\nQ 16.5 21.390625 20.328125 13.890625 \r\nQ 24.171875 6.390625 31.78125 6.390625 \r\nQ 39.453125 6.390625 43.28125 13.890625 \r\nQ 47.125 21.390625 47.125 36.375 \r\nQ 47.125 51.421875 43.28125 58.90625 \r\nQ 39.453125 66.40625 31.78125 66.40625 \r\nz\r\nM 31.78125 74.21875 \r\nQ 44.046875 74.21875 50.515625 64.515625 \r\nQ 56.984375 54.828125 56.984375 36.375 \r\nQ 56.984375 17.96875 50.515625 8.265625 \r\nQ 44.046875 -1.421875 31.78125 -1.421875 \r\nQ 19.53125 -1.421875 13.0625 8.265625 \r\nQ 6.59375 17.96875 6.59375 36.375 \r\nQ 6.59375 54.828125 13.0625 64.515625 \r\nQ 19.53125 74.21875 31.78125 74.21875 \r\nz\r\n\" id=\"DejaVuSans-48\"/>\r\n       </defs>\r\n       <use xlink:href=\"#DejaVuSans-52\"/>\r\n       <use x=\"63.623047\" xlink:href=\"#DejaVuSans-48\"/>\r\n      </g>\r\n     </g>\r\n    </g>\r\n    <g id=\"xtick_2\">\r\n     <g id=\"line2d_3\">\r\n      <path clip-path=\"url(#p91a9310e16)\" d=\"M 212.830702 66.693635 \r\nL 212.830702 22.318125 \r\n\" style=\"fill:none;stroke:#b0b0b0;stroke-linecap:square;stroke-width:0.8;\"/>\r\n     </g>\r\n     <g id=\"line2d_4\">\r\n      <g>\r\n       <use style=\"stroke:#000000;stroke-width:0.8;\" x=\"212.830702\" xlink:href=\"#m646e142152\" y=\"66.693635\"/>\r\n      </g>\r\n     </g>\r\n     <g id=\"text_2\">\r\n      <!-- 60 -->\r\n      <g transform=\"translate(206.468202 81.292073)scale(0.1 -0.1)\">\r\n       <defs>\r\n        <path d=\"M 33.015625 40.375 \r\nQ 26.375 40.375 22.484375 35.828125 \r\nQ 18.609375 31.296875 18.609375 23.390625 \r\nQ 18.609375 15.53125 22.484375 10.953125 \r\nQ 26.375 6.390625 33.015625 6.390625 \r\nQ 39.65625 6.390625 43.53125 10.953125 \r\nQ 47.40625 15.53125 47.40625 23.390625 \r\nQ 47.40625 31.296875 43.53125 35.828125 \r\nQ 39.65625 40.375 33.015625 40.375 \r\nz\r\nM 52.59375 71.296875 \r\nL 52.59375 62.3125 \r\nQ 48.875 64.0625 45.09375 64.984375 \r\nQ 41.3125 65.921875 37.59375 65.921875 \r\nQ 27.828125 65.921875 22.671875 59.328125 \r\nQ 17.53125 52.734375 16.796875 39.40625 \r\nQ 19.671875 43.65625 24.015625 45.921875 \r\nQ 28.375 48.1875 33.59375 48.1875 \r\nQ 44.578125 48.1875 50.953125 41.515625 \r\nQ 57.328125 34.859375 57.328125 23.390625 \r\nQ 57.328125 12.15625 50.6875 5.359375 \r\nQ 44.046875 -1.421875 33.015625 -1.421875 \r\nQ 20.359375 -1.421875 13.671875 8.265625 \r\nQ 6.984375 17.96875 6.984375 36.375 \r\nQ 6.984375 53.65625 15.1875 63.9375 \r\nQ 23.390625 74.21875 37.203125 74.21875 \r\nQ 40.921875 74.21875 44.703125 73.484375 \r\nQ 48.484375 72.75 52.59375 71.296875 \r\nz\r\n\" id=\"DejaVuSans-54\"/>\r\n       </defs>\r\n       <use xlink:href=\"#DejaVuSans-54\"/>\r\n       <use x=\"63.623047\" xlink:href=\"#DejaVuSans-48\"/>\r\n      </g>\r\n     </g>\r\n    </g>\r\n   </g>\r\n   <g id=\"matplotlib.axis_2\">\r\n    <g id=\"ytick_1\">\r\n     <g id=\"line2d_5\">\r\n      <path clip-path=\"url(#p91a9310e16)\" d=\"M 133.720312 66.693635 \r\nL 226.720312 66.693635 \r\n\" style=\"fill:none;stroke:#b0b0b0;stroke-linecap:square;stroke-width:0.8;\"/>\r\n     </g>\r\n     <g id=\"line2d_6\">\r\n      <defs>\r\n       <path d=\"M 0 0 \r\nL -3.5 0 \r\n\" id=\"mb185370718\" style=\"stroke:#000000;stroke-width:0.8;\"/>\r\n      </defs>\r\n      <g>\r\n       <use style=\"stroke:#000000;stroke-width:0.8;\" x=\"133.720312\" xlink:href=\"#mb185370718\" y=\"66.693635\"/>\r\n      </g>\r\n     </g>\r\n     <g id=\"text_3\">\r\n      <!-- 0 -->\r\n      <g transform=\"translate(120.357812 70.492854)scale(0.1 -0.1)\">\r\n       <use xlink:href=\"#DejaVuSans-48\"/>\r\n      </g>\r\n     </g>\r\n    </g>\r\n    <g id=\"ytick_2\">\r\n     <g id=\"line2d_7\">\r\n      <path clip-path=\"url(#p91a9310e16)\" d=\"M 133.720312 31.474976 \r\nL 226.720312 31.474976 \r\n\" style=\"fill:none;stroke:#b0b0b0;stroke-linecap:square;stroke-width:0.8;\"/>\r\n     </g>\r\n     <g id=\"line2d_8\">\r\n      <g>\r\n       <use style=\"stroke:#000000;stroke-width:0.8;\" x=\"133.720312\" xlink:href=\"#mb185370718\" y=\"31.474976\"/>\r\n      </g>\r\n     </g>\r\n     <g id=\"text_4\">\r\n      <!-- 5 -->\r\n      <g transform=\"translate(120.357812 35.274195)scale(0.1 -0.1)\">\r\n       <defs>\r\n        <path d=\"M 10.796875 72.90625 \r\nL 49.515625 72.90625 \r\nL 49.515625 64.59375 \r\nL 19.828125 64.59375 \r\nL 19.828125 46.734375 \r\nQ 21.96875 47.46875 24.109375 47.828125 \r\nQ 26.265625 48.1875 28.421875 48.1875 \r\nQ 40.625 48.1875 47.75 41.5 \r\nQ 54.890625 34.8125 54.890625 23.390625 \r\nQ 54.890625 11.625 47.5625 5.09375 \r\nQ 40.234375 -1.421875 26.90625 -1.421875 \r\nQ 22.3125 -1.421875 17.546875 -0.640625 \r\nQ 12.796875 0.140625 7.71875 1.703125 \r\nL 7.71875 11.625 \r\nQ 12.109375 9.234375 16.796875 8.0625 \r\nQ 21.484375 6.890625 26.703125 6.890625 \r\nQ 35.15625 6.890625 40.078125 11.328125 \r\nQ 45.015625 15.765625 45.015625 23.390625 \r\nQ 45.015625 31 40.078125 35.4375 \r\nQ 35.15625 39.890625 26.703125 39.890625 \r\nQ 22.75 39.890625 18.8125 39.015625 \r\nQ 14.890625 38.140625 10.796875 36.28125 \r\nz\r\n\" id=\"DejaVuSans-53\"/>\r\n       </defs>\r\n       <use xlink:href=\"#DejaVuSans-53\"/>\r\n      </g>\r\n     </g>\r\n    </g>\r\n   </g>\r\n   <g id=\"patch_13\">\r\n    <path d=\"M 133.720312 66.693635 \r\nL 133.720312 22.318125 \r\n\" style=\"fill:none;stroke:#000000;stroke-linecap:square;stroke-linejoin:miter;stroke-width:0.8;\"/>\r\n   </g>\r\n   <g id=\"patch_14\">\r\n    <path d=\"M 226.720312 66.693635 \r\nL 226.720312 22.318125 \r\n\" style=\"fill:none;stroke:#000000;stroke-linecap:square;stroke-linejoin:miter;stroke-width:0.8;\"/>\r\n   </g>\r\n   <g id=\"patch_15\">\r\n    <path d=\"M 133.720312 66.693635 \r\nL 226.720312 66.693635 \r\n\" style=\"fill:none;stroke:#000000;stroke-linecap:square;stroke-linejoin:miter;stroke-width:0.8;\"/>\r\n   </g>\r\n   <g id=\"patch_16\">\r\n    <path d=\"M 133.720312 22.318125 \r\nL 226.720312 22.318125 \r\n\" style=\"fill:none;stroke:#000000;stroke-linecap:square;stroke-linejoin:miter;stroke-width:0.8;\"/>\r\n   </g>\r\n   <g id=\"text_5\">\r\n    <!-- A cafe, restaurant, pub, club -->\r\n    <g transform=\"translate(94.710937 16.318125)scale(0.12 -0.12)\">\r\n     <defs>\r\n      <path d=\"M 34.1875 63.1875 \r\nL 20.796875 26.90625 \r\nL 47.609375 26.90625 \r\nz\r\nM 28.609375 72.90625 \r\nL 39.796875 72.90625 \r\nL 67.578125 0 \r\nL 57.328125 0 \r\nL 50.6875 18.703125 \r\nL 17.828125 18.703125 \r\nL 11.1875 0 \r\nL 0.78125 0 \r\nz\r\n\" id=\"DejaVuSans-65\"/>\r\n      <path id=\"DejaVuSans-32\"/>\r\n      <path d=\"M 48.78125 52.59375 \r\nL 48.78125 44.1875 \r\nQ 44.96875 46.296875 41.140625 47.34375 \r\nQ 37.3125 48.390625 33.40625 48.390625 \r\nQ 24.65625 48.390625 19.8125 42.84375 \r\nQ 14.984375 37.3125 14.984375 27.296875 \r\nQ 14.984375 17.28125 19.8125 11.734375 \r\nQ 24.65625 6.203125 33.40625 6.203125 \r\nQ 37.3125 6.203125 41.140625 7.25 \r\nQ 44.96875 8.296875 48.78125 10.40625 \r\nL 48.78125 2.09375 \r\nQ 45.015625 0.34375 40.984375 -0.53125 \r\nQ 36.96875 -1.421875 32.421875 -1.421875 \r\nQ 20.0625 -1.421875 12.78125 6.34375 \r\nQ 5.515625 14.109375 5.515625 27.296875 \r\nQ 5.515625 40.671875 12.859375 48.328125 \r\nQ 20.21875 56 33.015625 56 \r\nQ 37.15625 56 41.109375 55.140625 \r\nQ 45.0625 54.296875 48.78125 52.59375 \r\nz\r\n\" id=\"DejaVuSans-99\"/>\r\n      <path d=\"M 34.28125 27.484375 \r\nQ 23.390625 27.484375 19.1875 25 \r\nQ 14.984375 22.515625 14.984375 16.5 \r\nQ 14.984375 11.71875 18.140625 8.90625 \r\nQ 21.296875 6.109375 26.703125 6.109375 \r\nQ 34.1875 6.109375 38.703125 11.40625 \r\nQ 43.21875 16.703125 43.21875 25.484375 \r\nL 43.21875 27.484375 \r\nz\r\nM 52.203125 31.203125 \r\nL 52.203125 0 \r\nL 43.21875 0 \r\nL 43.21875 8.296875 \r\nQ 40.140625 3.328125 35.546875 0.953125 \r\nQ 30.953125 -1.421875 24.3125 -1.421875 \r\nQ 15.921875 -1.421875 10.953125 3.296875 \r\nQ 6 8.015625 6 15.921875 \r\nQ 6 25.140625 12.171875 29.828125 \r\nQ 18.359375 34.515625 30.609375 34.515625 \r\nL 43.21875 34.515625 \r\nL 43.21875 35.40625 \r\nQ 43.21875 41.609375 39.140625 45 \r\nQ 35.0625 48.390625 27.6875 48.390625 \r\nQ 23 48.390625 18.546875 47.265625 \r\nQ 14.109375 46.140625 10.015625 43.890625 \r\nL 10.015625 52.203125 \r\nQ 14.9375 54.109375 19.578125 55.046875 \r\nQ 24.21875 56 28.609375 56 \r\nQ 40.484375 56 46.34375 49.84375 \r\nQ 52.203125 43.703125 52.203125 31.203125 \r\nz\r\n\" id=\"DejaVuSans-97\"/>\r\n      <path d=\"M 37.109375 75.984375 \r\nL 37.109375 68.5 \r\nL 28.515625 68.5 \r\nQ 23.6875 68.5 21.796875 66.546875 \r\nQ 19.921875 64.59375 19.921875 59.515625 \r\nL 19.921875 54.6875 \r\nL 34.71875 54.6875 \r\nL 34.71875 47.703125 \r\nL 19.921875 47.703125 \r\nL 19.921875 0 \r\nL 10.890625 0 \r\nL 10.890625 47.703125 \r\nL 2.296875 47.703125 \r\nL 2.296875 54.6875 \r\nL 10.890625 54.6875 \r\nL 10.890625 58.5 \r\nQ 10.890625 67.625 15.140625 71.796875 \r\nQ 19.390625 75.984375 28.609375 75.984375 \r\nz\r\n\" id=\"DejaVuSans-102\"/>\r\n      <path d=\"M 56.203125 29.59375 \r\nL 56.203125 25.203125 \r\nL 14.890625 25.203125 \r\nQ 15.484375 15.921875 20.484375 11.0625 \r\nQ 25.484375 6.203125 34.421875 6.203125 \r\nQ 39.59375 6.203125 44.453125 7.46875 \r\nQ 49.3125 8.734375 54.109375 11.28125 \r\nL 54.109375 2.78125 \r\nQ 49.265625 0.734375 44.1875 -0.34375 \r\nQ 39.109375 -1.421875 33.890625 -1.421875 \r\nQ 20.796875 -1.421875 13.15625 6.1875 \r\nQ 5.515625 13.8125 5.515625 26.8125 \r\nQ 5.515625 40.234375 12.765625 48.109375 \r\nQ 20.015625 56 32.328125 56 \r\nQ 43.359375 56 49.78125 48.890625 \r\nQ 56.203125 41.796875 56.203125 29.59375 \r\nz\r\nM 47.21875 32.234375 \r\nQ 47.125 39.59375 43.09375 43.984375 \r\nQ 39.0625 48.390625 32.421875 48.390625 \r\nQ 24.90625 48.390625 20.390625 44.140625 \r\nQ 15.875 39.890625 15.1875 32.171875 \r\nz\r\n\" id=\"DejaVuSans-101\"/>\r\n      <path d=\"M 11.71875 12.40625 \r\nL 22.015625 12.40625 \r\nL 22.015625 4 \r\nL 14.015625 -11.625 \r\nL 7.71875 -11.625 \r\nL 11.71875 4 \r\nz\r\n\" id=\"DejaVuSans-44\"/>\r\n      <path d=\"M 41.109375 46.296875 \r\nQ 39.59375 47.171875 37.8125 47.578125 \r\nQ 36.03125 48 33.890625 48 \r\nQ 26.265625 48 22.1875 43.046875 \r\nQ 18.109375 38.09375 18.109375 28.8125 \r\nL 18.109375 0 \r\nL 9.078125 0 \r\nL 9.078125 54.6875 \r\nL 18.109375 54.6875 \r\nL 18.109375 46.1875 \r\nQ 20.953125 51.171875 25.484375 53.578125 \r\nQ 30.03125 56 36.53125 56 \r\nQ 37.453125 56 38.578125 55.875 \r\nQ 39.703125 55.765625 41.0625 55.515625 \r\nz\r\n\" id=\"DejaVuSans-114\"/>\r\n      <path d=\"M 44.28125 53.078125 \r\nL 44.28125 44.578125 \r\nQ 40.484375 46.53125 36.375 47.5 \r\nQ 32.28125 48.484375 27.875 48.484375 \r\nQ 21.1875 48.484375 17.84375 46.4375 \r\nQ 14.5 44.390625 14.5 40.28125 \r\nQ 14.5 37.15625 16.890625 35.375 \r\nQ 19.28125 33.59375 26.515625 31.984375 \r\nL 29.59375 31.296875 \r\nQ 39.15625 29.25 43.1875 25.515625 \r\nQ 47.21875 21.78125 47.21875 15.09375 \r\nQ 47.21875 7.46875 41.1875 3.015625 \r\nQ 35.15625 -1.421875 24.609375 -1.421875 \r\nQ 20.21875 -1.421875 15.453125 -0.5625 \r\nQ 10.6875 0.296875 5.421875 2 \r\nL 5.421875 11.28125 \r\nQ 10.40625 8.6875 15.234375 7.390625 \r\nQ 20.0625 6.109375 24.8125 6.109375 \r\nQ 31.15625 6.109375 34.5625 8.28125 \r\nQ 37.984375 10.453125 37.984375 14.40625 \r\nQ 37.984375 18.0625 35.515625 20.015625 \r\nQ 33.0625 21.96875 24.703125 23.78125 \r\nL 21.578125 24.515625 \r\nQ 13.234375 26.265625 9.515625 29.90625 \r\nQ 5.8125 33.546875 5.8125 39.890625 \r\nQ 5.8125 47.609375 11.28125 51.796875 \r\nQ 16.75 56 26.8125 56 \r\nQ 31.78125 56 36.171875 55.265625 \r\nQ 40.578125 54.546875 44.28125 53.078125 \r\nz\r\n\" id=\"DejaVuSans-115\"/>\r\n      <path d=\"M 18.3125 70.21875 \r\nL 18.3125 54.6875 \r\nL 36.8125 54.6875 \r\nL 36.8125 47.703125 \r\nL 18.3125 47.703125 \r\nL 18.3125 18.015625 \r\nQ 18.3125 11.328125 20.140625 9.421875 \r\nQ 21.96875 7.515625 27.59375 7.515625 \r\nL 36.8125 7.515625 \r\nL 36.8125 0 \r\nL 27.59375 0 \r\nQ 17.1875 0 13.234375 3.875 \r\nQ 9.28125 7.765625 9.28125 18.015625 \r\nL 9.28125 47.703125 \r\nL 2.6875 47.703125 \r\nL 2.6875 54.6875 \r\nL 9.28125 54.6875 \r\nL 9.28125 70.21875 \r\nz\r\n\" id=\"DejaVuSans-116\"/>\r\n      <path d=\"M 8.5 21.578125 \r\nL 8.5 54.6875 \r\nL 17.484375 54.6875 \r\nL 17.484375 21.921875 \r\nQ 17.484375 14.15625 20.5 10.265625 \r\nQ 23.53125 6.390625 29.59375 6.390625 \r\nQ 36.859375 6.390625 41.078125 11.03125 \r\nQ 45.3125 15.671875 45.3125 23.6875 \r\nL 45.3125 54.6875 \r\nL 54.296875 54.6875 \r\nL 54.296875 0 \r\nL 45.3125 0 \r\nL 45.3125 8.40625 \r\nQ 42.046875 3.421875 37.71875 1 \r\nQ 33.40625 -1.421875 27.6875 -1.421875 \r\nQ 18.265625 -1.421875 13.375 4.4375 \r\nQ 8.5 10.296875 8.5 21.578125 \r\nz\r\nM 31.109375 56 \r\nz\r\n\" id=\"DejaVuSans-117\"/>\r\n      <path d=\"M 54.890625 33.015625 \r\nL 54.890625 0 \r\nL 45.90625 0 \r\nL 45.90625 32.71875 \r\nQ 45.90625 40.484375 42.875 44.328125 \r\nQ 39.84375 48.1875 33.796875 48.1875 \r\nQ 26.515625 48.1875 22.3125 43.546875 \r\nQ 18.109375 38.921875 18.109375 30.90625 \r\nL 18.109375 0 \r\nL 9.078125 0 \r\nL 9.078125 54.6875 \r\nL 18.109375 54.6875 \r\nL 18.109375 46.1875 \r\nQ 21.34375 51.125 25.703125 53.5625 \r\nQ 30.078125 56 35.796875 56 \r\nQ 45.21875 56 50.046875 50.171875 \r\nQ 54.890625 44.34375 54.890625 33.015625 \r\nz\r\n\" id=\"DejaVuSans-110\"/>\r\n      <path d=\"M 18.109375 8.203125 \r\nL 18.109375 -20.796875 \r\nL 9.078125 -20.796875 \r\nL 9.078125 54.6875 \r\nL 18.109375 54.6875 \r\nL 18.109375 46.390625 \r\nQ 20.953125 51.265625 25.265625 53.625 \r\nQ 29.59375 56 35.59375 56 \r\nQ 45.5625 56 51.78125 48.09375 \r\nQ 58.015625 40.1875 58.015625 27.296875 \r\nQ 58.015625 14.40625 51.78125 6.484375 \r\nQ 45.5625 -1.421875 35.59375 -1.421875 \r\nQ 29.59375 -1.421875 25.265625 0.953125 \r\nQ 20.953125 3.328125 18.109375 8.203125 \r\nz\r\nM 48.6875 27.296875 \r\nQ 48.6875 37.203125 44.609375 42.84375 \r\nQ 40.53125 48.484375 33.40625 48.484375 \r\nQ 26.265625 48.484375 22.1875 42.84375 \r\nQ 18.109375 37.203125 18.109375 27.296875 \r\nQ 18.109375 17.390625 22.1875 11.75 \r\nQ 26.265625 6.109375 33.40625 6.109375 \r\nQ 40.53125 6.109375 44.609375 11.75 \r\nQ 48.6875 17.390625 48.6875 27.296875 \r\nz\r\n\" id=\"DejaVuSans-112\"/>\r\n      <path d=\"M 48.6875 27.296875 \r\nQ 48.6875 37.203125 44.609375 42.84375 \r\nQ 40.53125 48.484375 33.40625 48.484375 \r\nQ 26.265625 48.484375 22.1875 42.84375 \r\nQ 18.109375 37.203125 18.109375 27.296875 \r\nQ 18.109375 17.390625 22.1875 11.75 \r\nQ 26.265625 6.109375 33.40625 6.109375 \r\nQ 40.53125 6.109375 44.609375 11.75 \r\nQ 48.6875 17.390625 48.6875 27.296875 \r\nz\r\nM 18.109375 46.390625 \r\nQ 20.953125 51.265625 25.265625 53.625 \r\nQ 29.59375 56 35.59375 56 \r\nQ 45.5625 56 51.78125 48.09375 \r\nQ 58.015625 40.1875 58.015625 27.296875 \r\nQ 58.015625 14.40625 51.78125 6.484375 \r\nQ 45.5625 -1.421875 35.59375 -1.421875 \r\nQ 29.59375 -1.421875 25.265625 0.953125 \r\nQ 20.953125 3.328125 18.109375 8.203125 \r\nL 18.109375 0 \r\nL 9.078125 0 \r\nL 9.078125 75.984375 \r\nL 18.109375 75.984375 \r\nz\r\n\" id=\"DejaVuSans-98\"/>\r\n      <path d=\"M 9.421875 75.984375 \r\nL 18.40625 75.984375 \r\nL 18.40625 0 \r\nL 9.421875 0 \r\nz\r\n\" id=\"DejaVuSans-108\"/>\r\n     </defs>\r\n     <use xlink:href=\"#DejaVuSans-65\"/>\r\n     <use x=\"68.408203\" xlink:href=\"#DejaVuSans-32\"/>\r\n     <use x=\"100.195312\" xlink:href=\"#DejaVuSans-99\"/>\r\n     <use x=\"155.175781\" xlink:href=\"#DejaVuSans-97\"/>\r\n     <use x=\"216.455078\" xlink:href=\"#DejaVuSans-102\"/>\r\n     <use x=\"251.660156\" xlink:href=\"#DejaVuSans-101\"/>\r\n     <use x=\"313.183594\" xlink:href=\"#DejaVuSans-44\"/>\r\n     <use x=\"344.970703\" xlink:href=\"#DejaVuSans-32\"/>\r\n     <use x=\"376.757812\" xlink:href=\"#DejaVuSans-114\"/>\r\n     <use x=\"415.621094\" xlink:href=\"#DejaVuSans-101\"/>\r\n     <use x=\"477.144531\" xlink:href=\"#DejaVuSans-115\"/>\r\n     <use x=\"529.244141\" xlink:href=\"#DejaVuSans-116\"/>\r\n     <use x=\"568.453125\" xlink:href=\"#DejaVuSans-97\"/>\r\n     <use x=\"629.732422\" xlink:href=\"#DejaVuSans-117\"/>\r\n     <use x=\"693.111328\" xlink:href=\"#DejaVuSans-114\"/>\r\n     <use x=\"734.224609\" xlink:href=\"#DejaVuSans-97\"/>\r\n     <use x=\"795.503906\" xlink:href=\"#DejaVuSans-110\"/>\r\n     <use x=\"858.882812\" xlink:href=\"#DejaVuSans-116\"/>\r\n     <use x=\"898.091797\" xlink:href=\"#DejaVuSans-44\"/>\r\n     <use x=\"929.878906\" xlink:href=\"#DejaVuSans-32\"/>\r\n     <use x=\"961.666016\" xlink:href=\"#DejaVuSans-112\"/>\r\n     <use x=\"1025.142578\" xlink:href=\"#DejaVuSans-117\"/>\r\n     <use x=\"1088.521484\" xlink:href=\"#DejaVuSans-98\"/>\r\n     <use x=\"1151.998047\" xlink:href=\"#DejaVuSans-44\"/>\r\n     <use x=\"1183.785156\" xlink:href=\"#DejaVuSans-32\"/>\r\n     <use x=\"1215.572266\" xlink:href=\"#DejaVuSans-99\"/>\r\n     <use x=\"1270.552734\" xlink:href=\"#DejaVuSans-108\"/>\r\n     <use x=\"1298.335938\" xlink:href=\"#DejaVuSans-117\"/>\r\n     <use x=\"1361.714844\" xlink:href=\"#DejaVuSans-98\"/>\r\n    </g>\r\n   </g>\r\n  </g>\r\n  <g id=\"axes_2\">\r\n   <g id=\"patch_17\">\r\n    <path d=\"M 254.620313 66.693635 \r\nL 347.620313 66.693635 \r\nL 347.620313 22.318125 \r\nL 254.620313 22.318125 \r\nz\r\n\" style=\"fill:#ffffff;\"/>\r\n   </g>\r\n   <g id=\"patch_18\">\r\n    <path clip-path=\"url(#p39aae3fc44)\" d=\"M 258.847585 66.693635 \r\nL 267.302131 66.693635 \r\nL 267.302131 58.241157 \r\nL 258.847585 58.241157 \r\nz\r\n\" style=\"fill:#1f77b4;\"/>\r\n   </g>\r\n   <g id=\"patch_19\">\r\n    <path clip-path=\"url(#p39aae3fc44)\" d=\"M 267.302131 66.693635 \r\nL 275.756676 66.693635 \r\nL 275.756676 41.336201 \r\nL 267.302131 41.336201 \r\nz\r\n\" style=\"fill:#1f77b4;\"/>\r\n   </g>\r\n   <g id=\"patch_20\">\r\n    <path clip-path=\"url(#p39aae3fc44)\" d=\"M 275.756676 66.693635 \r\nL 284.211222 66.693635 \r\nL 284.211222 49.788679 \r\nL 275.756676 49.788679 \r\nz\r\n\" style=\"fill:#1f77b4;\"/>\r\n   </g>\r\n   <g id=\"patch_21\">\r\n    <path clip-path=\"url(#p39aae3fc44)\" d=\"M 284.211222 66.693635 \r\nL 292.665767 66.693635 \r\nL 292.665767 24.431245 \r\nL 284.211222 24.431245 \r\nz\r\n\" style=\"fill:#1f77b4;\"/>\r\n   </g>\r\n   <g id=\"patch_22\">\r\n    <path clip-path=\"url(#p39aae3fc44)\" d=\"M 292.665767 66.693635 \r\nL 301.120313 66.693635 \r\nL 301.120313 24.431245 \r\nL 292.665767 24.431245 \r\nz\r\n\" style=\"fill:#1f77b4;\"/>\r\n   </g>\r\n   <g id=\"patch_23\">\r\n    <path clip-path=\"url(#p39aae3fc44)\" d=\"M 301.120313 66.693635 \r\nL 309.574858 66.693635 \r\nL 309.574858 41.336201 \r\nL 301.120313 41.336201 \r\nz\r\n\" style=\"fill:#1f77b4;\"/>\r\n   </g>\r\n   <g id=\"patch_24\">\r\n    <path clip-path=\"url(#p39aae3fc44)\" d=\"M 309.574858 66.693635 \r\nL 318.029403 66.693635 \r\nL 318.029403 24.431245 \r\nL 309.574858 24.431245 \r\nz\r\n\" style=\"fill:#1f77b4;\"/>\r\n   </g>\r\n   <g id=\"patch_25\">\r\n    <path clip-path=\"url(#p39aae3fc44)\" d=\"M 318.029403 66.693635 \r\nL 326.483949 66.693635 \r\nL 326.483949 49.788679 \r\nL 318.029403 49.788679 \r\nz\r\n\" style=\"fill:#1f77b4;\"/>\r\n   </g>\r\n   <g id=\"patch_26\">\r\n    <path clip-path=\"url(#p39aae3fc44)\" d=\"M 326.483949 66.693635 \r\nL 334.938494 66.693635 \r\nL 334.938494 49.788679 \r\nL 326.483949 49.788679 \r\nz\r\n\" style=\"fill:#1f77b4;\"/>\r\n   </g>\r\n   <g id=\"patch_27\">\r\n    <path clip-path=\"url(#p39aae3fc44)\" d=\"M 334.938494 66.693635 \r\nL 343.39304 66.693635 \r\nL 343.39304 41.336201 \r\nL 334.938494 41.336201 \r\nz\r\n\" style=\"fill:#1f77b4;\"/>\r\n   </g>\r\n   <g id=\"matplotlib.axis_3\">\r\n    <g id=\"xtick_3\">\r\n     <g id=\"line2d_9\">\r\n      <path clip-path=\"url(#p39aae3fc44)\" d=\"M 278.358075 66.693635 \r\nL 278.358075 22.318125 \r\n\" style=\"fill:none;stroke:#b0b0b0;stroke-linecap:square;stroke-width:0.8;\"/>\r\n     </g>\r\n     <g id=\"line2d_10\">\r\n      <g>\r\n       <use style=\"stroke:#000000;stroke-width:0.8;\" x=\"278.358075\" xlink:href=\"#m646e142152\" y=\"66.693635\"/>\r\n      </g>\r\n     </g>\r\n     <g id=\"text_6\">\r\n      <!-- 20 -->\r\n      <g transform=\"translate(271.995575 81.292073)scale(0.1 -0.1)\">\r\n       <defs>\r\n        <path d=\"M 19.1875 8.296875 \r\nL 53.609375 8.296875 \r\nL 53.609375 0 \r\nL 7.328125 0 \r\nL 7.328125 8.296875 \r\nQ 12.9375 14.109375 22.625 23.890625 \r\nQ 32.328125 33.6875 34.8125 36.53125 \r\nQ 39.546875 41.84375 41.421875 45.53125 \r\nQ 43.3125 49.21875 43.3125 52.78125 \r\nQ 43.3125 58.59375 39.234375 62.25 \r\nQ 35.15625 65.921875 28.609375 65.921875 \r\nQ 23.96875 65.921875 18.8125 64.3125 \r\nQ 13.671875 62.703125 7.8125 59.421875 \r\nL 7.8125 69.390625 \r\nQ 13.765625 71.78125 18.9375 73 \r\nQ 24.125 74.21875 28.421875 74.21875 \r\nQ 39.75 74.21875 46.484375 68.546875 \r\nQ 53.21875 62.890625 53.21875 53.421875 \r\nQ 53.21875 48.921875 51.53125 44.890625 \r\nQ 49.859375 40.875 45.40625 35.40625 \r\nQ 44.1875 33.984375 37.640625 27.21875 \r\nQ 31.109375 20.453125 19.1875 8.296875 \r\nz\r\n\" id=\"DejaVuSans-50\"/>\r\n       </defs>\r\n       <use xlink:href=\"#DejaVuSans-50\"/>\r\n       <use x=\"63.623047\" xlink:href=\"#DejaVuSans-48\"/>\r\n      </g>\r\n     </g>\r\n    </g>\r\n    <g id=\"xtick_4\">\r\n     <g id=\"line2d_11\">\r\n      <path clip-path=\"url(#p39aae3fc44)\" d=\"M 310.875557 66.693635 \r\nL 310.875557 22.318125 \r\n\" style=\"fill:none;stroke:#b0b0b0;stroke-linecap:square;stroke-width:0.8;\"/>\r\n     </g>\r\n     <g id=\"line2d_12\">\r\n      <g>\r\n       <use style=\"stroke:#000000;stroke-width:0.8;\" x=\"310.875557\" xlink:href=\"#m646e142152\" y=\"66.693635\"/>\r\n      </g>\r\n     </g>\r\n     <g id=\"text_7\">\r\n      <!-- 40 -->\r\n      <g transform=\"translate(304.513057 81.292073)scale(0.1 -0.1)\">\r\n       <use xlink:href=\"#DejaVuSans-52\"/>\r\n       <use x=\"63.623047\" xlink:href=\"#DejaVuSans-48\"/>\r\n      </g>\r\n     </g>\r\n    </g>\r\n    <g id=\"xtick_5\">\r\n     <g id=\"line2d_13\">\r\n      <path clip-path=\"url(#p39aae3fc44)\" d=\"M 343.39304 66.693635 \r\nL 343.39304 22.318125 \r\n\" style=\"fill:none;stroke:#b0b0b0;stroke-linecap:square;stroke-width:0.8;\"/>\r\n     </g>\r\n     <g id=\"line2d_14\">\r\n      <g>\r\n       <use style=\"stroke:#000000;stroke-width:0.8;\" x=\"343.39304\" xlink:href=\"#m646e142152\" y=\"66.693635\"/>\r\n      </g>\r\n     </g>\r\n     <g id=\"text_8\">\r\n      <!-- 60 -->\r\n      <g transform=\"translate(337.03054 81.292073)scale(0.1 -0.1)\">\r\n       <use xlink:href=\"#DejaVuSans-54\"/>\r\n       <use x=\"63.623047\" xlink:href=\"#DejaVuSans-48\"/>\r\n      </g>\r\n     </g>\r\n    </g>\r\n   </g>\r\n   <g id=\"matplotlib.axis_4\">\r\n    <g id=\"ytick_3\">\r\n     <g id=\"line2d_15\">\r\n      <path clip-path=\"url(#p39aae3fc44)\" d=\"M 254.620313 66.693635 \r\nL 347.620313 66.693635 \r\n\" style=\"fill:none;stroke:#b0b0b0;stroke-linecap:square;stroke-width:0.8;\"/>\r\n     </g>\r\n     <g id=\"line2d_16\">\r\n      <g>\r\n       <use style=\"stroke:#000000;stroke-width:0.8;\" x=\"254.620313\" xlink:href=\"#mb185370718\" y=\"66.693635\"/>\r\n      </g>\r\n     </g>\r\n     <g id=\"text_9\">\r\n      <!-- 0 -->\r\n      <g transform=\"translate(241.257812 70.492854)scale(0.1 -0.1)\">\r\n       <use xlink:href=\"#DejaVuSans-48\"/>\r\n      </g>\r\n     </g>\r\n    </g>\r\n    <g id=\"ytick_4\">\r\n     <g id=\"line2d_17\">\r\n      <path clip-path=\"url(#p39aae3fc44)\" d=\"M 254.620313 24.431245 \r\nL 347.620313 24.431245 \r\n\" style=\"fill:none;stroke:#b0b0b0;stroke-linecap:square;stroke-width:0.8;\"/>\r\n     </g>\r\n     <g id=\"line2d_18\">\r\n      <g>\r\n       <use style=\"stroke:#000000;stroke-width:0.8;\" x=\"254.620313\" xlink:href=\"#mb185370718\" y=\"24.431245\"/>\r\n      </g>\r\n     </g>\r\n     <g id=\"text_10\">\r\n      <!-- 5 -->\r\n      <g transform=\"translate(241.257812 28.230463)scale(0.1 -0.1)\">\r\n       <use xlink:href=\"#DejaVuSans-53\"/>\r\n      </g>\r\n     </g>\r\n    </g>\r\n   </g>\r\n   <g id=\"patch_28\">\r\n    <path d=\"M 254.620313 66.693635 \r\nL 254.620313 22.318125 \r\n\" style=\"fill:none;stroke:#000000;stroke-linecap:square;stroke-linejoin:miter;stroke-width:0.8;\"/>\r\n   </g>\r\n   <g id=\"patch_29\">\r\n    <path d=\"M 347.620313 66.693635 \r\nL 347.620313 22.318125 \r\n\" style=\"fill:none;stroke:#000000;stroke-linecap:square;stroke-linejoin:miter;stroke-width:0.8;\"/>\r\n   </g>\r\n   <g id=\"patch_30\">\r\n    <path d=\"M 254.620313 66.693635 \r\nL 347.620313 66.693635 \r\n\" style=\"fill:none;stroke:#000000;stroke-linecap:square;stroke-linejoin:miter;stroke-width:0.8;\"/>\r\n   </g>\r\n   <g id=\"patch_31\">\r\n    <path d=\"M 254.620313 22.318125 \r\nL 347.620313 22.318125 \r\n\" style=\"fill:none;stroke:#000000;stroke-linecap:square;stroke-linejoin:miter;stroke-width:0.8;\"/>\r\n   </g>\r\n   <g id=\"text_11\">\r\n    <!-- Around my family  -->\r\n    <g transform=\"translate(245.964375 16.318125)scale(0.12 -0.12)\">\r\n     <defs>\r\n      <path d=\"M 30.609375 48.390625 \r\nQ 23.390625 48.390625 19.1875 42.75 \r\nQ 14.984375 37.109375 14.984375 27.296875 \r\nQ 14.984375 17.484375 19.15625 11.84375 \r\nQ 23.34375 6.203125 30.609375 6.203125 \r\nQ 37.796875 6.203125 41.984375 11.859375 \r\nQ 46.1875 17.53125 46.1875 27.296875 \r\nQ 46.1875 37.015625 41.984375 42.703125 \r\nQ 37.796875 48.390625 30.609375 48.390625 \r\nz\r\nM 30.609375 56 \r\nQ 42.328125 56 49.015625 48.375 \r\nQ 55.71875 40.765625 55.71875 27.296875 \r\nQ 55.71875 13.875 49.015625 6.21875 \r\nQ 42.328125 -1.421875 30.609375 -1.421875 \r\nQ 18.84375 -1.421875 12.171875 6.21875 \r\nQ 5.515625 13.875 5.515625 27.296875 \r\nQ 5.515625 40.765625 12.171875 48.375 \r\nQ 18.84375 56 30.609375 56 \r\nz\r\n\" id=\"DejaVuSans-111\"/>\r\n      <path d=\"M 45.40625 46.390625 \r\nL 45.40625 75.984375 \r\nL 54.390625 75.984375 \r\nL 54.390625 0 \r\nL 45.40625 0 \r\nL 45.40625 8.203125 \r\nQ 42.578125 3.328125 38.25 0.953125 \r\nQ 33.9375 -1.421875 27.875 -1.421875 \r\nQ 17.96875 -1.421875 11.734375 6.484375 \r\nQ 5.515625 14.40625 5.515625 27.296875 \r\nQ 5.515625 40.1875 11.734375 48.09375 \r\nQ 17.96875 56 27.875 56 \r\nQ 33.9375 56 38.25 53.625 \r\nQ 42.578125 51.265625 45.40625 46.390625 \r\nz\r\nM 14.796875 27.296875 \r\nQ 14.796875 17.390625 18.875 11.75 \r\nQ 22.953125 6.109375 30.078125 6.109375 \r\nQ 37.203125 6.109375 41.296875 11.75 \r\nQ 45.40625 17.390625 45.40625 27.296875 \r\nQ 45.40625 37.203125 41.296875 42.84375 \r\nQ 37.203125 48.484375 30.078125 48.484375 \r\nQ 22.953125 48.484375 18.875 42.84375 \r\nQ 14.796875 37.203125 14.796875 27.296875 \r\nz\r\n\" id=\"DejaVuSans-100\"/>\r\n      <path d=\"M 52 44.1875 \r\nQ 55.375 50.25 60.0625 53.125 \r\nQ 64.75 56 71.09375 56 \r\nQ 79.640625 56 84.28125 50.015625 \r\nQ 88.921875 44.046875 88.921875 33.015625 \r\nL 88.921875 0 \r\nL 79.890625 0 \r\nL 79.890625 32.71875 \r\nQ 79.890625 40.578125 77.09375 44.375 \r\nQ 74.3125 48.1875 68.609375 48.1875 \r\nQ 61.625 48.1875 57.5625 43.546875 \r\nQ 53.515625 38.921875 53.515625 30.90625 \r\nL 53.515625 0 \r\nL 44.484375 0 \r\nL 44.484375 32.71875 \r\nQ 44.484375 40.625 41.703125 44.40625 \r\nQ 38.921875 48.1875 33.109375 48.1875 \r\nQ 26.21875 48.1875 22.15625 43.53125 \r\nQ 18.109375 38.875 18.109375 30.90625 \r\nL 18.109375 0 \r\nL 9.078125 0 \r\nL 9.078125 54.6875 \r\nL 18.109375 54.6875 \r\nL 18.109375 46.1875 \r\nQ 21.1875 51.21875 25.484375 53.609375 \r\nQ 29.78125 56 35.6875 56 \r\nQ 41.65625 56 45.828125 52.96875 \r\nQ 50 49.953125 52 44.1875 \r\nz\r\n\" id=\"DejaVuSans-109\"/>\r\n      <path d=\"M 32.171875 -5.078125 \r\nQ 28.375 -14.84375 24.75 -17.8125 \r\nQ 21.140625 -20.796875 15.09375 -20.796875 \r\nL 7.90625 -20.796875 \r\nL 7.90625 -13.28125 \r\nL 13.1875 -13.28125 \r\nQ 16.890625 -13.28125 18.9375 -11.515625 \r\nQ 21 -9.765625 23.484375 -3.21875 \r\nL 25.09375 0.875 \r\nL 2.984375 54.6875 \r\nL 12.5 54.6875 \r\nL 29.59375 11.921875 \r\nL 46.6875 54.6875 \r\nL 56.203125 54.6875 \r\nz\r\n\" id=\"DejaVuSans-121\"/>\r\n      <path d=\"M 9.421875 54.6875 \r\nL 18.40625 54.6875 \r\nL 18.40625 0 \r\nL 9.421875 0 \r\nz\r\nM 9.421875 75.984375 \r\nL 18.40625 75.984375 \r\nL 18.40625 64.59375 \r\nL 9.421875 64.59375 \r\nz\r\n\" id=\"DejaVuSans-105\"/>\r\n     </defs>\r\n     <use xlink:href=\"#DejaVuSans-65\"/>\r\n     <use x=\"68.408203\" xlink:href=\"#DejaVuSans-114\"/>\r\n     <use x=\"107.271484\" xlink:href=\"#DejaVuSans-111\"/>\r\n     <use x=\"168.453125\" xlink:href=\"#DejaVuSans-117\"/>\r\n     <use x=\"231.832031\" xlink:href=\"#DejaVuSans-110\"/>\r\n     <use x=\"295.210938\" xlink:href=\"#DejaVuSans-100\"/>\r\n     <use x=\"358.6875\" xlink:href=\"#DejaVuSans-32\"/>\r\n     <use x=\"390.474609\" xlink:href=\"#DejaVuSans-109\"/>\r\n     <use x=\"487.886719\" xlink:href=\"#DejaVuSans-121\"/>\r\n     <use x=\"547.066406\" xlink:href=\"#DejaVuSans-32\"/>\r\n     <use x=\"578.853516\" xlink:href=\"#DejaVuSans-102\"/>\r\n     <use x=\"614.058594\" xlink:href=\"#DejaVuSans-97\"/>\r\n     <use x=\"675.337891\" xlink:href=\"#DejaVuSans-109\"/>\r\n     <use x=\"772.75\" xlink:href=\"#DejaVuSans-105\"/>\r\n     <use x=\"800.533203\" xlink:href=\"#DejaVuSans-108\"/>\r\n     <use x=\"828.316406\" xlink:href=\"#DejaVuSans-121\"/>\r\n     <use x=\"887.496094\" xlink:href=\"#DejaVuSans-32\"/>\r\n    </g>\r\n   </g>\r\n  </g>\r\n  <g id=\"axes_3\">\r\n   <g id=\"patch_32\">\r\n    <path d=\"M 375.520312 66.693635 \r\nL 468.520312 66.693635 \r\nL 468.520312 22.318125 \r\nL 375.520312 22.318125 \r\nz\r\n\" style=\"fill:#ffffff;\"/>\r\n   </g>\r\n   <g id=\"patch_33\">\r\n    <path clip-path=\"url(#p02ab6fb2a6)\" d=\"M 379.747585 66.693635 \r\nL 388.202131 66.693635 \r\nL 388.202131 51.325493 \r\nL 379.747585 51.325493 \r\nz\r\n\" style=\"fill:#1f77b4;\"/>\r\n   </g>\r\n   <g id=\"patch_34\">\r\n    <path clip-path=\"url(#p02ab6fb2a6)\" d=\"M 388.202131 66.693635 \r\nL 396.656676 66.693635 \r\nL 396.656676 24.431245 \r\nL 388.202131 24.431245 \r\nz\r\n\" style=\"fill:#1f77b4;\"/>\r\n   </g>\r\n   <g id=\"patch_35\">\r\n    <path clip-path=\"url(#p02ab6fb2a6)\" d=\"M 396.656676 66.693635 \r\nL 405.111222 66.693635 \r\nL 405.111222 51.325493 \r\nL 396.656676 51.325493 \r\nz\r\n\" style=\"fill:#1f77b4;\"/>\r\n   </g>\r\n   <g id=\"patch_36\">\r\n    <path clip-path=\"url(#p02ab6fb2a6)\" d=\"M 405.111222 66.693635 \r\nL 413.565767 66.693635 \r\nL 413.565767 59.009564 \r\nL 405.111222 59.009564 \r\nz\r\n\" style=\"fill:#1f77b4;\"/>\r\n   </g>\r\n   <g id=\"patch_37\">\r\n    <path clip-path=\"url(#p02ab6fb2a6)\" d=\"M 413.565767 66.693635 \r\nL 422.020312 66.693635 \r\nL 422.020312 43.641422 \r\nL 413.565767 43.641422 \r\nz\r\n\" style=\"fill:#1f77b4;\"/>\r\n   </g>\r\n   <g id=\"patch_38\">\r\n    <path clip-path=\"url(#p02ab6fb2a6)\" d=\"M 422.020312 66.693635 \r\nL 430.474858 66.693635 \r\nL 430.474858 59.009564 \r\nL 422.020312 59.009564 \r\nz\r\n\" style=\"fill:#1f77b4;\"/>\r\n   </g>\r\n   <g id=\"patch_39\">\r\n    <path clip-path=\"url(#p02ab6fb2a6)\" d=\"M 430.474858 66.693635 \r\nL 438.929403 66.693635 \r\nL 438.929403 62.8516 \r\nL 430.474858 62.8516 \r\nz\r\n\" style=\"fill:#1f77b4;\"/>\r\n   </g>\r\n   <g id=\"patch_40\">\r\n    <path clip-path=\"url(#p02ab6fb2a6)\" d=\"M 438.929403 66.693635 \r\nL 447.383949 66.693635 \r\nL 447.383949 66.693635 \r\nL 438.929403 66.693635 \r\nz\r\n\" style=\"fill:#1f77b4;\"/>\r\n   </g>\r\n   <g id=\"patch_41\">\r\n    <path clip-path=\"url(#p02ab6fb2a6)\" d=\"M 447.383949 66.693635 \r\nL 455.838494 66.693635 \r\nL 455.838494 66.693635 \r\nL 447.383949 66.693635 \r\nz\r\n\" style=\"fill:#1f77b4;\"/>\r\n   </g>\r\n   <g id=\"patch_42\">\r\n    <path clip-path=\"url(#p02ab6fb2a6)\" d=\"M 455.838494 66.693635 \r\nL 464.29304 66.693635 \r\nL 464.29304 62.8516 \r\nL 455.838494 62.8516 \r\nz\r\n\" style=\"fill:#1f77b4;\"/>\r\n   </g>\r\n   <g id=\"matplotlib.axis_5\">\r\n    <g id=\"xtick_6\">\r\n     <g id=\"line2d_19\">\r\n      <path clip-path=\"url(#p02ab6fb2a6)\" d=\"M 406.44615 66.693635 \r\nL 406.44615 22.318125 \r\n\" style=\"fill:none;stroke:#b0b0b0;stroke-linecap:square;stroke-width:0.8;\"/>\r\n     </g>\r\n     <g id=\"line2d_20\">\r\n      <g>\r\n       <use style=\"stroke:#000000;stroke-width:0.8;\" x=\"406.44615\" xlink:href=\"#m646e142152\" y=\"66.693635\"/>\r\n      </g>\r\n     </g>\r\n     <g id=\"text_12\">\r\n      <!-- 10 -->\r\n      <g transform=\"translate(400.08365 81.292073)scale(0.1 -0.1)\">\r\n       <defs>\r\n        <path d=\"M 12.40625 8.296875 \r\nL 28.515625 8.296875 \r\nL 28.515625 63.921875 \r\nL 10.984375 60.40625 \r\nL 10.984375 69.390625 \r\nL 28.421875 72.90625 \r\nL 38.28125 72.90625 \r\nL 38.28125 8.296875 \r\nL 54.390625 8.296875 \r\nL 54.390625 0 \r\nL 12.40625 0 \r\nz\r\n\" id=\"DejaVuSans-49\"/>\r\n       </defs>\r\n       <use xlink:href=\"#DejaVuSans-49\"/>\r\n       <use x=\"63.623047\" xlink:href=\"#DejaVuSans-48\"/>\r\n      </g>\r\n     </g>\r\n    </g>\r\n    <g id=\"xtick_7\">\r\n     <g id=\"line2d_21\">\r\n      <path clip-path=\"url(#p02ab6fb2a6)\" d=\"M 450.943757 66.693635 \r\nL 450.943757 22.318125 \r\n\" style=\"fill:none;stroke:#b0b0b0;stroke-linecap:square;stroke-width:0.8;\"/>\r\n     </g>\r\n     <g id=\"line2d_22\">\r\n      <g>\r\n       <use style=\"stroke:#000000;stroke-width:0.8;\" x=\"450.943757\" xlink:href=\"#m646e142152\" y=\"66.693635\"/>\r\n      </g>\r\n     </g>\r\n     <g id=\"text_13\">\r\n      <!-- 20 -->\r\n      <g transform=\"translate(444.581257 81.292073)scale(0.1 -0.1)\">\r\n       <use xlink:href=\"#DejaVuSans-50\"/>\r\n       <use x=\"63.623047\" xlink:href=\"#DejaVuSans-48\"/>\r\n      </g>\r\n     </g>\r\n    </g>\r\n   </g>\r\n   <g id=\"matplotlib.axis_6\">\r\n    <g id=\"ytick_5\">\r\n     <g id=\"line2d_23\">\r\n      <path clip-path=\"url(#p02ab6fb2a6)\" d=\"M 375.520312 66.693635 \r\nL 468.520312 66.693635 \r\n\" style=\"fill:none;stroke:#b0b0b0;stroke-linecap:square;stroke-width:0.8;\"/>\r\n     </g>\r\n     <g id=\"line2d_24\">\r\n      <g>\r\n       <use style=\"stroke:#000000;stroke-width:0.8;\" x=\"375.520312\" xlink:href=\"#mb185370718\" y=\"66.693635\"/>\r\n      </g>\r\n     </g>\r\n     <g id=\"text_14\">\r\n      <!-- 0 -->\r\n      <g transform=\"translate(362.157812 70.492854)scale(0.1 -0.1)\">\r\n       <use xlink:href=\"#DejaVuSans-48\"/>\r\n      </g>\r\n     </g>\r\n    </g>\r\n    <g id=\"ytick_6\">\r\n     <g id=\"line2d_25\">\r\n      <path clip-path=\"url(#p02ab6fb2a6)\" d=\"M 375.520312 28.27328 \r\nL 468.520312 28.27328 \r\n\" style=\"fill:none;stroke:#b0b0b0;stroke-linecap:square;stroke-width:0.8;\"/>\r\n     </g>\r\n     <g id=\"line2d_26\">\r\n      <g>\r\n       <use style=\"stroke:#000000;stroke-width:0.8;\" x=\"375.520312\" xlink:href=\"#mb185370718\" y=\"28.27328\"/>\r\n      </g>\r\n     </g>\r\n     <g id=\"text_15\">\r\n      <!-- 10 -->\r\n      <g transform=\"translate(355.795312 32.072499)scale(0.1 -0.1)\">\r\n       <use xlink:href=\"#DejaVuSans-49\"/>\r\n       <use x=\"63.623047\" xlink:href=\"#DejaVuSans-48\"/>\r\n      </g>\r\n     </g>\r\n    </g>\r\n   </g>\r\n   <g id=\"patch_43\">\r\n    <path d=\"M 375.520312 66.693635 \r\nL 375.520312 22.318125 \r\n\" style=\"fill:none;stroke:#000000;stroke-linecap:square;stroke-linejoin:miter;stroke-width:0.8;\"/>\r\n   </g>\r\n   <g id=\"patch_44\">\r\n    <path d=\"M 468.520312 66.693635 \r\nL 468.520312 22.318125 \r\n\" style=\"fill:none;stroke:#000000;stroke-linecap:square;stroke-linejoin:miter;stroke-width:0.8;\"/>\r\n   </g>\r\n   <g id=\"patch_45\">\r\n    <path d=\"M 375.520312 66.693635 \r\nL 468.520312 66.693635 \r\n\" style=\"fill:none;stroke:#000000;stroke-linecap:square;stroke-linejoin:miter;stroke-width:0.8;\"/>\r\n   </g>\r\n   <g id=\"patch_46\">\r\n    <path d=\"M 375.520312 22.318125 \r\nL 468.520312 22.318125 \r\n\" style=\"fill:none;stroke:#000000;stroke-linecap:square;stroke-linejoin:miter;stroke-width:0.8;\"/>\r\n   </g>\r\n   <g id=\"text_16\">\r\n    <!-- Dont Know  -->\r\n    <g transform=\"translate(387.445312 16.318125)scale(0.12 -0.12)\">\r\n     <defs>\r\n      <path d=\"M 19.671875 64.796875 \r\nL 19.671875 8.109375 \r\nL 31.59375 8.109375 \r\nQ 46.6875 8.109375 53.6875 14.9375 \r\nQ 60.6875 21.78125 60.6875 36.53125 \r\nQ 60.6875 51.171875 53.6875 57.984375 \r\nQ 46.6875 64.796875 31.59375 64.796875 \r\nz\r\nM 9.8125 72.90625 \r\nL 30.078125 72.90625 \r\nQ 51.265625 72.90625 61.171875 64.09375 \r\nQ 71.09375 55.28125 71.09375 36.53125 \r\nQ 71.09375 17.671875 61.125 8.828125 \r\nQ 51.171875 0 30.078125 0 \r\nL 9.8125 0 \r\nz\r\n\" id=\"DejaVuSans-68\"/>\r\n      <path d=\"M 9.8125 72.90625 \r\nL 19.671875 72.90625 \r\nL 19.671875 42.09375 \r\nL 52.390625 72.90625 \r\nL 65.09375 72.90625 \r\nL 28.90625 38.921875 \r\nL 67.671875 0 \r\nL 54.6875 0 \r\nL 19.671875 35.109375 \r\nL 19.671875 0 \r\nL 9.8125 0 \r\nz\r\n\" id=\"DejaVuSans-75\"/>\r\n      <path d=\"M 4.203125 54.6875 \r\nL 13.1875 54.6875 \r\nL 24.421875 12.015625 \r\nL 35.59375 54.6875 \r\nL 46.1875 54.6875 \r\nL 57.421875 12.015625 \r\nL 68.609375 54.6875 \r\nL 77.59375 54.6875 \r\nL 63.28125 0 \r\nL 52.6875 0 \r\nL 40.921875 44.828125 \r\nL 29.109375 0 \r\nL 18.5 0 \r\nz\r\n\" id=\"DejaVuSans-119\"/>\r\n     </defs>\r\n     <use xlink:href=\"#DejaVuSans-68\"/>\r\n     <use x=\"77.001953\" xlink:href=\"#DejaVuSans-111\"/>\r\n     <use x=\"138.183594\" xlink:href=\"#DejaVuSans-110\"/>\r\n     <use x=\"201.5625\" xlink:href=\"#DejaVuSans-116\"/>\r\n     <use x=\"240.771484\" xlink:href=\"#DejaVuSans-32\"/>\r\n     <use x=\"272.558594\" xlink:href=\"#DejaVuSans-75\"/>\r\n     <use x=\"338.134766\" xlink:href=\"#DejaVuSans-110\"/>\r\n     <use x=\"401.513672\" xlink:href=\"#DejaVuSans-111\"/>\r\n     <use x=\"462.695312\" xlink:href=\"#DejaVuSans-119\"/>\r\n     <use x=\"544.482422\" xlink:href=\"#DejaVuSans-32\"/>\r\n    </g>\r\n   </g>\r\n  </g>\r\n  <g id=\"axes_4\">\r\n   <g id=\"patch_47\">\r\n    <path d=\"M 133.720312 124.381798 \r\nL 226.720312 124.381798 \r\nL 226.720312 80.006288 \r\nL 133.720312 80.006288 \r\nz\r\n\" style=\"fill:#ffffff;\"/>\r\n   </g>\r\n   <g id=\"patch_48\">\r\n    <path clip-path=\"url(#p8c27a768bd)\" d=\"M 137.947585 124.381798 \r\nL 146.402131 124.381798 \r\nL 146.402131 113.816201 \r\nL 137.947585 113.816201 \r\nz\r\n\" style=\"fill:#1f77b4;\"/>\r\n   </g>\r\n   <g id=\"patch_49\">\r\n    <path clip-path=\"url(#p8c27a768bd)\" d=\"M 146.402131 124.381798 \r\nL 154.856676 124.381798 \r\nL 154.856676 124.381798 \r\nL 146.402131 124.381798 \r\nz\r\n\" style=\"fill:#1f77b4;\"/>\r\n   </g>\r\n   <g id=\"patch_50\">\r\n    <path clip-path=\"url(#p8c27a768bd)\" d=\"M 154.856676 124.381798 \r\nL 163.311222 124.381798 \r\nL 163.311222 82.119408 \r\nL 154.856676 82.119408 \r\nz\r\n\" style=\"fill:#1f77b4;\"/>\r\n   </g>\r\n   <g id=\"patch_51\">\r\n    <path clip-path=\"url(#p8c27a768bd)\" d=\"M 163.311222 124.381798 \r\nL 171.765767 124.381798 \r\nL 171.765767 103.250603 \r\nL 163.311222 103.250603 \r\nz\r\n\" style=\"fill:#1f77b4;\"/>\r\n   </g>\r\n   <g id=\"patch_52\">\r\n    <path clip-path=\"url(#p8c27a768bd)\" d=\"M 171.765767 124.381798 \r\nL 180.220313 124.381798 \r\nL 180.220313 103.250603 \r\nL 171.765767 103.250603 \r\nz\r\n\" style=\"fill:#1f77b4;\"/>\r\n   </g>\r\n   <g id=\"patch_53\">\r\n    <path clip-path=\"url(#p8c27a768bd)\" d=\"M 180.220312 124.381798 \r\nL 188.674858 124.381798 \r\nL 188.674858 113.816201 \r\nL 180.220312 113.816201 \r\nz\r\n\" style=\"fill:#1f77b4;\"/>\r\n   </g>\r\n   <g id=\"patch_54\">\r\n    <path clip-path=\"url(#p8c27a768bd)\" d=\"M 188.674858 124.381798 \r\nL 197.129403 124.381798 \r\nL 197.129403 124.381798 \r\nL 188.674858 124.381798 \r\nz\r\n\" style=\"fill:#1f77b4;\"/>\r\n   </g>\r\n   <g id=\"patch_55\">\r\n    <path clip-path=\"url(#p8c27a768bd)\" d=\"M 197.129403 124.381798 \r\nL 205.583949 124.381798 \r\nL 205.583949 97.967804 \r\nL 197.129403 97.967804 \r\nz\r\n\" style=\"fill:#1f77b4;\"/>\r\n   </g>\r\n   <g id=\"patch_56\">\r\n    <path clip-path=\"url(#p8c27a768bd)\" d=\"M 205.583949 124.381798 \r\nL 214.038494 124.381798 \r\nL 214.038494 103.250603 \r\nL 205.583949 103.250603 \r\nz\r\n\" style=\"fill:#1f77b4;\"/>\r\n   </g>\r\n   <g id=\"patch_57\">\r\n    <path clip-path=\"url(#p8c27a768bd)\" d=\"M 214.038494 124.381798 \r\nL 222.49304 124.381798 \r\nL 222.49304 113.816201 \r\nL 214.038494 113.816201 \r\nz\r\n\" style=\"fill:#1f77b4;\"/>\r\n   </g>\r\n   <g id=\"matplotlib.axis_7\">\r\n    <g id=\"xtick_8\">\r\n     <g id=\"line2d_27\">\r\n      <path clip-path=\"url(#p8c27a768bd)\" d=\"M 162.606676 124.381798 \r\nL 162.606676 80.006288 \r\n\" style=\"fill:none;stroke:#b0b0b0;stroke-linecap:square;stroke-width:0.8;\"/>\r\n     </g>\r\n     <g id=\"line2d_28\">\r\n      <g>\r\n       <use style=\"stroke:#000000;stroke-width:0.8;\" x=\"162.606676\" xlink:href=\"#m646e142152\" y=\"124.381798\"/>\r\n      </g>\r\n     </g>\r\n     <g id=\"text_17\">\r\n      <!-- 20 -->\r\n      <g transform=\"translate(156.244176 138.980236)scale(0.1 -0.1)\">\r\n       <use xlink:href=\"#DejaVuSans-50\"/>\r\n       <use x=\"63.623047\" xlink:href=\"#DejaVuSans-48\"/>\r\n      </g>\r\n     </g>\r\n    </g>\r\n    <g id=\"xtick_9\">\r\n     <g id=\"line2d_29\">\r\n      <path clip-path=\"url(#p8c27a768bd)\" d=\"M 197.833949 124.381798 \r\nL 197.833949 80.006288 \r\n\" style=\"fill:none;stroke:#b0b0b0;stroke-linecap:square;stroke-width:0.8;\"/>\r\n     </g>\r\n     <g id=\"line2d_30\">\r\n      <g>\r\n       <use style=\"stroke:#000000;stroke-width:0.8;\" x=\"197.833949\" xlink:href=\"#m646e142152\" y=\"124.381798\"/>\r\n      </g>\r\n     </g>\r\n     <g id=\"text_18\">\r\n      <!-- 40 -->\r\n      <g transform=\"translate(191.471449 138.980236)scale(0.1 -0.1)\">\r\n       <use xlink:href=\"#DejaVuSans-52\"/>\r\n       <use x=\"63.623047\" xlink:href=\"#DejaVuSans-48\"/>\r\n      </g>\r\n     </g>\r\n    </g>\r\n   </g>\r\n   <g id=\"matplotlib.axis_8\">\r\n    <g id=\"ytick_7\">\r\n     <g id=\"line2d_31\">\r\n      <path clip-path=\"url(#p8c27a768bd)\" d=\"M 133.720312 124.381798 \r\nL 226.720312 124.381798 \r\n\" style=\"fill:none;stroke:#b0b0b0;stroke-linecap:square;stroke-width:0.8;\"/>\r\n     </g>\r\n     <g id=\"line2d_32\">\r\n      <g>\r\n       <use style=\"stroke:#000000;stroke-width:0.8;\" x=\"133.720312\" xlink:href=\"#mb185370718\" y=\"124.381798\"/>\r\n      </g>\r\n     </g>\r\n     <g id=\"text_19\">\r\n      <!-- 0 -->\r\n      <g transform=\"translate(120.357812 128.181017)scale(0.1 -0.1)\">\r\n       <use xlink:href=\"#DejaVuSans-48\"/>\r\n      </g>\r\n     </g>\r\n    </g>\r\n    <g id=\"ytick_8\">\r\n     <g id=\"line2d_33\">\r\n      <path clip-path=\"url(#p8c27a768bd)\" d=\"M 133.720312 97.967804 \r\nL 226.720312 97.967804 \r\n\" style=\"fill:none;stroke:#b0b0b0;stroke-linecap:square;stroke-width:0.8;\"/>\r\n     </g>\r\n     <g id=\"line2d_34\">\r\n      <g>\r\n       <use style=\"stroke:#000000;stroke-width:0.8;\" x=\"133.720312\" xlink:href=\"#mb185370718\" y=\"97.967804\"/>\r\n      </g>\r\n     </g>\r\n     <g id=\"text_20\">\r\n      <!-- 5 -->\r\n      <g transform=\"translate(120.357812 101.767023)scale(0.1 -0.1)\">\r\n       <use xlink:href=\"#DejaVuSans-53\"/>\r\n      </g>\r\n     </g>\r\n    </g>\r\n   </g>\r\n   <g id=\"patch_58\">\r\n    <path d=\"M 133.720312 124.381798 \r\nL 133.720312 80.006288 \r\n\" style=\"fill:none;stroke:#000000;stroke-linecap:square;stroke-linejoin:miter;stroke-width:0.8;\"/>\r\n   </g>\r\n   <g id=\"patch_59\">\r\n    <path d=\"M 226.720312 124.381798 \r\nL 226.720312 80.006288 \r\n\" style=\"fill:none;stroke:#000000;stroke-linecap:square;stroke-linejoin:miter;stroke-width:0.8;\"/>\r\n   </g>\r\n   <g id=\"patch_60\">\r\n    <path d=\"M 133.720312 124.381798 \r\nL 226.720312 124.381798 \r\n\" style=\"fill:none;stroke:#000000;stroke-linecap:square;stroke-linejoin:miter;stroke-width:0.8;\"/>\r\n   </g>\r\n   <g id=\"patch_61\">\r\n    <path d=\"M 133.720312 80.006288 \r\nL 226.720312 80.006288 \r\n\" style=\"fill:none;stroke:#000000;stroke-linecap:square;stroke-linejoin:miter;stroke-width:0.8;\"/>\r\n   </g>\r\n   <g id=\"text_21\">\r\n    <!-- In a healthcare setting (hospital or other medical service) -->\r\n    <g transform=\"translate(7.2 74.006288)scale(0.12 -0.12)\">\r\n     <defs>\r\n      <path d=\"M 9.8125 72.90625 \r\nL 19.671875 72.90625 \r\nL 19.671875 0 \r\nL 9.8125 0 \r\nz\r\n\" id=\"DejaVuSans-73\"/>\r\n      <path d=\"M 54.890625 33.015625 \r\nL 54.890625 0 \r\nL 45.90625 0 \r\nL 45.90625 32.71875 \r\nQ 45.90625 40.484375 42.875 44.328125 \r\nQ 39.84375 48.1875 33.796875 48.1875 \r\nQ 26.515625 48.1875 22.3125 43.546875 \r\nQ 18.109375 38.921875 18.109375 30.90625 \r\nL 18.109375 0 \r\nL 9.078125 0 \r\nL 9.078125 75.984375 \r\nL 18.109375 75.984375 \r\nL 18.109375 46.1875 \r\nQ 21.34375 51.125 25.703125 53.5625 \r\nQ 30.078125 56 35.796875 56 \r\nQ 45.21875 56 50.046875 50.171875 \r\nQ 54.890625 44.34375 54.890625 33.015625 \r\nz\r\n\" id=\"DejaVuSans-104\"/>\r\n      <path d=\"M 45.40625 27.984375 \r\nQ 45.40625 37.75 41.375 43.109375 \r\nQ 37.359375 48.484375 30.078125 48.484375 \r\nQ 22.859375 48.484375 18.828125 43.109375 \r\nQ 14.796875 37.75 14.796875 27.984375 \r\nQ 14.796875 18.265625 18.828125 12.890625 \r\nQ 22.859375 7.515625 30.078125 7.515625 \r\nQ 37.359375 7.515625 41.375 12.890625 \r\nQ 45.40625 18.265625 45.40625 27.984375 \r\nz\r\nM 54.390625 6.78125 \r\nQ 54.390625 -7.171875 48.1875 -13.984375 \r\nQ 42 -20.796875 29.203125 -20.796875 \r\nQ 24.46875 -20.796875 20.265625 -20.09375 \r\nQ 16.0625 -19.390625 12.109375 -17.921875 \r\nL 12.109375 -9.1875 \r\nQ 16.0625 -11.328125 19.921875 -12.34375 \r\nQ 23.78125 -13.375 27.78125 -13.375 \r\nQ 36.625 -13.375 41.015625 -8.765625 \r\nQ 45.40625 -4.15625 45.40625 5.171875 \r\nL 45.40625 9.625 \r\nQ 42.625 4.78125 38.28125 2.390625 \r\nQ 33.9375 0 27.875 0 \r\nQ 17.828125 0 11.671875 7.65625 \r\nQ 5.515625 15.328125 5.515625 27.984375 \r\nQ 5.515625 40.671875 11.671875 48.328125 \r\nQ 17.828125 56 27.875 56 \r\nQ 33.9375 56 38.28125 53.609375 \r\nQ 42.625 51.21875 45.40625 46.390625 \r\nL 45.40625 54.6875 \r\nL 54.390625 54.6875 \r\nz\r\n\" id=\"DejaVuSans-103\"/>\r\n      <path d=\"M 31 75.875 \r\nQ 24.46875 64.65625 21.28125 53.65625 \r\nQ 18.109375 42.671875 18.109375 31.390625 \r\nQ 18.109375 20.125 21.3125 9.0625 \r\nQ 24.515625 -2 31 -13.1875 \r\nL 23.1875 -13.1875 \r\nQ 15.875 -1.703125 12.234375 9.375 \r\nQ 8.59375 20.453125 8.59375 31.390625 \r\nQ 8.59375 42.28125 12.203125 53.3125 \r\nQ 15.828125 64.359375 23.1875 75.875 \r\nz\r\n\" id=\"DejaVuSans-40\"/>\r\n      <path d=\"M 2.984375 54.6875 \r\nL 12.5 54.6875 \r\nL 29.59375 8.796875 \r\nL 46.6875 54.6875 \r\nL 56.203125 54.6875 \r\nL 35.6875 0 \r\nL 23.484375 0 \r\nz\r\n\" id=\"DejaVuSans-118\"/>\r\n      <path d=\"M 8.015625 75.875 \r\nL 15.828125 75.875 \r\nQ 23.140625 64.359375 26.78125 53.3125 \r\nQ 30.421875 42.28125 30.421875 31.390625 \r\nQ 30.421875 20.453125 26.78125 9.375 \r\nQ 23.140625 -1.703125 15.828125 -13.1875 \r\nL 8.015625 -13.1875 \r\nQ 14.5 -2 17.703125 9.0625 \r\nQ 20.90625 20.125 20.90625 31.390625 \r\nQ 20.90625 42.671875 17.703125 53.65625 \r\nQ 14.5 64.65625 8.015625 75.875 \r\nz\r\n\" id=\"DejaVuSans-41\"/>\r\n     </defs>\r\n     <use xlink:href=\"#DejaVuSans-73\"/>\r\n     <use x=\"29.492188\" xlink:href=\"#DejaVuSans-110\"/>\r\n     <use x=\"92.871094\" xlink:href=\"#DejaVuSans-32\"/>\r\n     <use x=\"124.658203\" xlink:href=\"#DejaVuSans-97\"/>\r\n     <use x=\"185.9375\" xlink:href=\"#DejaVuSans-32\"/>\r\n     <use x=\"217.724609\" xlink:href=\"#DejaVuSans-104\"/>\r\n     <use x=\"281.103516\" xlink:href=\"#DejaVuSans-101\"/>\r\n     <use x=\"342.626953\" xlink:href=\"#DejaVuSans-97\"/>\r\n     <use x=\"403.90625\" xlink:href=\"#DejaVuSans-108\"/>\r\n     <use x=\"431.689453\" xlink:href=\"#DejaVuSans-116\"/>\r\n     <use x=\"470.898438\" xlink:href=\"#DejaVuSans-104\"/>\r\n     <use x=\"534.277344\" xlink:href=\"#DejaVuSans-99\"/>\r\n     <use x=\"589.257812\" xlink:href=\"#DejaVuSans-97\"/>\r\n     <use x=\"650.537109\" xlink:href=\"#DejaVuSans-114\"/>\r\n     <use x=\"689.400391\" xlink:href=\"#DejaVuSans-101\"/>\r\n     <use x=\"750.923828\" xlink:href=\"#DejaVuSans-32\"/>\r\n     <use x=\"782.710938\" xlink:href=\"#DejaVuSans-115\"/>\r\n     <use x=\"834.810547\" xlink:href=\"#DejaVuSans-101\"/>\r\n     <use x=\"896.333984\" xlink:href=\"#DejaVuSans-116\"/>\r\n     <use x=\"935.542969\" xlink:href=\"#DejaVuSans-116\"/>\r\n     <use x=\"974.751953\" xlink:href=\"#DejaVuSans-105\"/>\r\n     <use x=\"1002.535156\" xlink:href=\"#DejaVuSans-110\"/>\r\n     <use x=\"1065.914062\" xlink:href=\"#DejaVuSans-103\"/>\r\n     <use x=\"1129.390625\" xlink:href=\"#DejaVuSans-32\"/>\r\n     <use x=\"1161.177734\" xlink:href=\"#DejaVuSans-40\"/>\r\n     <use x=\"1200.191406\" xlink:href=\"#DejaVuSans-104\"/>\r\n     <use x=\"1263.570312\" xlink:href=\"#DejaVuSans-111\"/>\r\n     <use x=\"1324.751953\" xlink:href=\"#DejaVuSans-115\"/>\r\n     <use x=\"1376.851562\" xlink:href=\"#DejaVuSans-112\"/>\r\n     <use x=\"1440.328125\" xlink:href=\"#DejaVuSans-105\"/>\r\n     <use x=\"1468.111328\" xlink:href=\"#DejaVuSans-116\"/>\r\n     <use x=\"1507.320312\" xlink:href=\"#DejaVuSans-97\"/>\r\n     <use x=\"1568.599609\" xlink:href=\"#DejaVuSans-108\"/>\r\n     <use x=\"1596.382812\" xlink:href=\"#DejaVuSans-32\"/>\r\n     <use x=\"1628.169922\" xlink:href=\"#DejaVuSans-111\"/>\r\n     <use x=\"1689.351562\" xlink:href=\"#DejaVuSans-114\"/>\r\n     <use x=\"1730.464844\" xlink:href=\"#DejaVuSans-32\"/>\r\n     <use x=\"1762.251953\" xlink:href=\"#DejaVuSans-111\"/>\r\n     <use x=\"1823.433594\" xlink:href=\"#DejaVuSans-116\"/>\r\n     <use x=\"1862.642578\" xlink:href=\"#DejaVuSans-104\"/>\r\n     <use x=\"1926.021484\" xlink:href=\"#DejaVuSans-101\"/>\r\n     <use x=\"1987.544922\" xlink:href=\"#DejaVuSans-114\"/>\r\n     <use x=\"2028.658203\" xlink:href=\"#DejaVuSans-32\"/>\r\n     <use x=\"2060.445312\" xlink:href=\"#DejaVuSans-109\"/>\r\n     <use x=\"2157.857422\" xlink:href=\"#DejaVuSans-101\"/>\r\n     <use x=\"2219.380859\" xlink:href=\"#DejaVuSans-100\"/>\r\n     <use x=\"2282.857422\" xlink:href=\"#DejaVuSans-105\"/>\r\n     <use x=\"2310.640625\" xlink:href=\"#DejaVuSans-99\"/>\r\n     <use x=\"2365.621094\" xlink:href=\"#DejaVuSans-97\"/>\r\n     <use x=\"2426.900391\" xlink:href=\"#DejaVuSans-108\"/>\r\n     <use x=\"2454.683594\" xlink:href=\"#DejaVuSans-32\"/>\r\n     <use x=\"2486.470703\" xlink:href=\"#DejaVuSans-115\"/>\r\n     <use x=\"2538.570312\" xlink:href=\"#DejaVuSans-101\"/>\r\n     <use x=\"2600.09375\" xlink:href=\"#DejaVuSans-114\"/>\r\n     <use x=\"2641.207031\" xlink:href=\"#DejaVuSans-118\"/>\r\n     <use x=\"2700.386719\" xlink:href=\"#DejaVuSans-105\"/>\r\n     <use x=\"2728.169922\" xlink:href=\"#DejaVuSans-99\"/>\r\n     <use x=\"2783.150391\" xlink:href=\"#DejaVuSans-101\"/>\r\n     <use x=\"2844.673828\" xlink:href=\"#DejaVuSans-41\"/>\r\n    </g>\r\n   </g>\r\n  </g>\r\n  <g id=\"axes_5\">\r\n   <g id=\"patch_62\">\r\n    <path d=\"M 254.620313 124.381798 \r\nL 347.620313 124.381798 \r\nL 347.620313 80.006288 \r\nL 254.620313 80.006288 \r\nz\r\n\" style=\"fill:#ffffff;\"/>\r\n   </g>\r\n   <g id=\"patch_63\">\r\n    <path clip-path=\"url(#pfe768bdeae)\" d=\"M 258.847585 124.381798 \r\nL 267.302131 124.381798 \r\nL 267.302131 115.92932 \r\nL 258.847585 115.92932 \r\nz\r\n\" style=\"fill:#1f77b4;\"/>\r\n   </g>\r\n   <g id=\"patch_64\">\r\n    <path clip-path=\"url(#pfe768bdeae)\" d=\"M 267.302131 124.381798 \r\nL 275.756676 124.381798 \r\nL 275.756676 115.92932 \r\nL 267.302131 115.92932 \r\nz\r\n\" style=\"fill:#1f77b4;\"/>\r\n   </g>\r\n   <g id=\"patch_65\">\r\n    <path clip-path=\"url(#pfe768bdeae)\" d=\"M 275.756676 124.381798 \r\nL 284.211222 124.381798 \r\nL 284.211222 90.571886 \r\nL 275.756676 90.571886 \r\nz\r\n\" style=\"fill:#1f77b4;\"/>\r\n   </g>\r\n   <g id=\"patch_66\">\r\n    <path clip-path=\"url(#pfe768bdeae)\" d=\"M 284.211222 124.381798 \r\nL 292.665767 124.381798 \r\nL 292.665767 115.92932 \r\nL 284.211222 115.92932 \r\nz\r\n\" style=\"fill:#1f77b4;\"/>\r\n   </g>\r\n   <g id=\"patch_67\">\r\n    <path clip-path=\"url(#pfe768bdeae)\" d=\"M 292.665767 124.381798 \r\nL 301.120313 124.381798 \r\nL 301.120313 82.119408 \r\nL 292.665767 82.119408 \r\nz\r\n\" style=\"fill:#1f77b4;\"/>\r\n   </g>\r\n   <g id=\"patch_68\">\r\n    <path clip-path=\"url(#pfe768bdeae)\" d=\"M 301.120313 124.381798 \r\nL 309.574858 124.381798 \r\nL 309.574858 99.024364 \r\nL 301.120313 99.024364 \r\nz\r\n\" style=\"fill:#1f77b4;\"/>\r\n   </g>\r\n   <g id=\"patch_69\">\r\n    <path clip-path=\"url(#pfe768bdeae)\" d=\"M 309.574858 124.381798 \r\nL 318.029403 124.381798 \r\nL 318.029403 82.119408 \r\nL 309.574858 82.119408 \r\nz\r\n\" style=\"fill:#1f77b4;\"/>\r\n   </g>\r\n   <g id=\"patch_70\">\r\n    <path clip-path=\"url(#pfe768bdeae)\" d=\"M 318.029403 124.381798 \r\nL 326.483949 124.381798 \r\nL 326.483949 90.571886 \r\nL 318.029403 90.571886 \r\nz\r\n\" style=\"fill:#1f77b4;\"/>\r\n   </g>\r\n   <g id=\"patch_71\">\r\n    <path clip-path=\"url(#pfe768bdeae)\" d=\"M 326.483949 124.381798 \r\nL 334.938494 124.381798 \r\nL 334.938494 90.571886 \r\nL 326.483949 90.571886 \r\nz\r\n\" style=\"fill:#1f77b4;\"/>\r\n   </g>\r\n   <g id=\"patch_72\">\r\n    <path clip-path=\"url(#pfe768bdeae)\" d=\"M 334.938494 124.381798 \r\nL 343.39304 124.381798 \r\nL 343.39304 99.024364 \r\nL 334.938494 99.024364 \r\nz\r\n\" style=\"fill:#1f77b4;\"/>\r\n   </g>\r\n   <g id=\"matplotlib.axis_9\">\r\n    <g id=\"xtick_10\">\r\n     <g id=\"line2d_35\">\r\n      <path clip-path=\"url(#pfe768bdeae)\" d=\"M 265.702622 124.381798 \r\nL 265.702622 80.006288 \r\n\" style=\"fill:none;stroke:#b0b0b0;stroke-linecap:square;stroke-width:0.8;\"/>\r\n     </g>\r\n     <g id=\"line2d_36\">\r\n      <g>\r\n       <use style=\"stroke:#000000;stroke-width:0.8;\" x=\"265.702622\" xlink:href=\"#m646e142152\" y=\"124.381798\"/>\r\n      </g>\r\n     </g>\r\n     <g id=\"text_22\">\r\n      <!-- 40 -->\r\n      <g transform=\"translate(259.340122 138.980236)scale(0.1 -0.1)\">\r\n       <use xlink:href=\"#DejaVuSans-52\"/>\r\n       <use x=\"63.623047\" xlink:href=\"#DejaVuSans-48\"/>\r\n      </g>\r\n     </g>\r\n    </g>\r\n    <g id=\"xtick_11\">\r\n     <g id=\"line2d_37\">\r\n      <path clip-path=\"url(#pfe768bdeae)\" d=\"M 311.402868 124.381798 \r\nL 311.402868 80.006288 \r\n\" style=\"fill:none;stroke:#b0b0b0;stroke-linecap:square;stroke-width:0.8;\"/>\r\n     </g>\r\n     <g id=\"line2d_38\">\r\n      <g>\r\n       <use style=\"stroke:#000000;stroke-width:0.8;\" x=\"311.402868\" xlink:href=\"#m646e142152\" y=\"124.381798\"/>\r\n      </g>\r\n     </g>\r\n     <g id=\"text_23\">\r\n      <!-- 60 -->\r\n      <g transform=\"translate(305.040368 138.980236)scale(0.1 -0.1)\">\r\n       <use xlink:href=\"#DejaVuSans-54\"/>\r\n       <use x=\"63.623047\" xlink:href=\"#DejaVuSans-48\"/>\r\n      </g>\r\n     </g>\r\n    </g>\r\n   </g>\r\n   <g id=\"matplotlib.axis_10\">\r\n    <g id=\"ytick_9\">\r\n     <g id=\"line2d_39\">\r\n      <path clip-path=\"url(#pfe768bdeae)\" d=\"M 254.620313 124.381798 \r\nL 347.620313 124.381798 \r\n\" style=\"fill:none;stroke:#b0b0b0;stroke-linecap:square;stroke-width:0.8;\"/>\r\n     </g>\r\n     <g id=\"line2d_40\">\r\n      <g>\r\n       <use style=\"stroke:#000000;stroke-width:0.8;\" x=\"254.620313\" xlink:href=\"#mb185370718\" y=\"124.381798\"/>\r\n      </g>\r\n     </g>\r\n     <g id=\"text_24\">\r\n      <!-- 0 -->\r\n      <g transform=\"translate(241.257812 128.181017)scale(0.1 -0.1)\">\r\n       <use xlink:href=\"#DejaVuSans-48\"/>\r\n      </g>\r\n     </g>\r\n    </g>\r\n    <g id=\"ytick_10\">\r\n     <g id=\"line2d_41\">\r\n      <path clip-path=\"url(#pfe768bdeae)\" d=\"M 254.620313 82.119408 \r\nL 347.620313 82.119408 \r\n\" style=\"fill:none;stroke:#b0b0b0;stroke-linecap:square;stroke-width:0.8;\"/>\r\n     </g>\r\n     <g id=\"line2d_42\">\r\n      <g>\r\n       <use style=\"stroke:#000000;stroke-width:0.8;\" x=\"254.620313\" xlink:href=\"#mb185370718\" y=\"82.119408\"/>\r\n      </g>\r\n     </g>\r\n     <g id=\"text_25\">\r\n      <!-- 5 -->\r\n      <g transform=\"translate(241.257812 85.918627)scale(0.1 -0.1)\">\r\n       <use xlink:href=\"#DejaVuSans-53\"/>\r\n      </g>\r\n     </g>\r\n    </g>\r\n   </g>\r\n   <g id=\"patch_73\">\r\n    <path d=\"M 254.620313 124.381798 \r\nL 254.620313 80.006288 \r\n\" style=\"fill:none;stroke:#000000;stroke-linecap:square;stroke-linejoin:miter;stroke-width:0.8;\"/>\r\n   </g>\r\n   <g id=\"patch_74\">\r\n    <path d=\"M 347.620313 124.381798 \r\nL 347.620313 80.006288 \r\n\" style=\"fill:none;stroke:#000000;stroke-linecap:square;stroke-linejoin:miter;stroke-width:0.8;\"/>\r\n   </g>\r\n   <g id=\"patch_75\">\r\n    <path d=\"M 254.620313 124.381798 \r\nL 347.620313 124.381798 \r\n\" style=\"fill:none;stroke:#000000;stroke-linecap:square;stroke-linejoin:miter;stroke-width:0.8;\"/>\r\n   </g>\r\n   <g id=\"patch_76\">\r\n    <path d=\"M 254.620313 80.006288 \r\nL 347.620313 80.006288 \r\n\" style=\"fill:none;stroke:#000000;stroke-linecap:square;stroke-linejoin:miter;stroke-width:0.8;\"/>\r\n   </g>\r\n   <g id=\"text_26\">\r\n    <!-- In the street, a square, park, car park or other public place -->\r\n    <g transform=\"translate(124.729688 74.006288)scale(0.12 -0.12)\">\r\n     <defs>\r\n      <path d=\"M 14.796875 27.296875 \r\nQ 14.796875 17.390625 18.875 11.75 \r\nQ 22.953125 6.109375 30.078125 6.109375 \r\nQ 37.203125 6.109375 41.296875 11.75 \r\nQ 45.40625 17.390625 45.40625 27.296875 \r\nQ 45.40625 37.203125 41.296875 42.84375 \r\nQ 37.203125 48.484375 30.078125 48.484375 \r\nQ 22.953125 48.484375 18.875 42.84375 \r\nQ 14.796875 37.203125 14.796875 27.296875 \r\nz\r\nM 45.40625 8.203125 \r\nQ 42.578125 3.328125 38.25 0.953125 \r\nQ 33.9375 -1.421875 27.875 -1.421875 \r\nQ 17.96875 -1.421875 11.734375 6.484375 \r\nQ 5.515625 14.40625 5.515625 27.296875 \r\nQ 5.515625 40.1875 11.734375 48.09375 \r\nQ 17.96875 56 27.875 56 \r\nQ 33.9375 56 38.25 53.625 \r\nQ 42.578125 51.265625 45.40625 46.390625 \r\nL 45.40625 54.6875 \r\nL 54.390625 54.6875 \r\nL 54.390625 -20.796875 \r\nL 45.40625 -20.796875 \r\nz\r\n\" id=\"DejaVuSans-113\"/>\r\n      <path d=\"M 9.078125 75.984375 \r\nL 18.109375 75.984375 \r\nL 18.109375 31.109375 \r\nL 44.921875 54.6875 \r\nL 56.390625 54.6875 \r\nL 27.390625 29.109375 \r\nL 57.625 0 \r\nL 45.90625 0 \r\nL 18.109375 26.703125 \r\nL 18.109375 0 \r\nL 9.078125 0 \r\nz\r\n\" id=\"DejaVuSans-107\"/>\r\n     </defs>\r\n     <use xlink:href=\"#DejaVuSans-73\"/>\r\n     <use x=\"29.492188\" xlink:href=\"#DejaVuSans-110\"/>\r\n     <use x=\"92.871094\" xlink:href=\"#DejaVuSans-32\"/>\r\n     <use x=\"124.658203\" xlink:href=\"#DejaVuSans-116\"/>\r\n     <use x=\"163.867188\" xlink:href=\"#DejaVuSans-104\"/>\r\n     <use x=\"227.246094\" xlink:href=\"#DejaVuSans-101\"/>\r\n     <use x=\"288.769531\" xlink:href=\"#DejaVuSans-32\"/>\r\n     <use x=\"320.556641\" xlink:href=\"#DejaVuSans-115\"/>\r\n     <use x=\"372.65625\" xlink:href=\"#DejaVuSans-116\"/>\r\n     <use x=\"411.865234\" xlink:href=\"#DejaVuSans-114\"/>\r\n     <use x=\"450.728516\" xlink:href=\"#DejaVuSans-101\"/>\r\n     <use x=\"512.251953\" xlink:href=\"#DejaVuSans-101\"/>\r\n     <use x=\"573.775391\" xlink:href=\"#DejaVuSans-116\"/>\r\n     <use x=\"612.984375\" xlink:href=\"#DejaVuSans-44\"/>\r\n     <use x=\"644.771484\" xlink:href=\"#DejaVuSans-32\"/>\r\n     <use x=\"676.558594\" xlink:href=\"#DejaVuSans-97\"/>\r\n     <use x=\"737.837891\" xlink:href=\"#DejaVuSans-32\"/>\r\n     <use x=\"769.625\" xlink:href=\"#DejaVuSans-115\"/>\r\n     <use x=\"821.724609\" xlink:href=\"#DejaVuSans-113\"/>\r\n     <use x=\"885.201172\" xlink:href=\"#DejaVuSans-117\"/>\r\n     <use x=\"948.580078\" xlink:href=\"#DejaVuSans-97\"/>\r\n     <use x=\"1009.859375\" xlink:href=\"#DejaVuSans-114\"/>\r\n     <use x=\"1048.722656\" xlink:href=\"#DejaVuSans-101\"/>\r\n     <use x=\"1110.246094\" xlink:href=\"#DejaVuSans-44\"/>\r\n     <use x=\"1142.033203\" xlink:href=\"#DejaVuSans-32\"/>\r\n     <use x=\"1173.820312\" xlink:href=\"#DejaVuSans-112\"/>\r\n     <use x=\"1237.296875\" xlink:href=\"#DejaVuSans-97\"/>\r\n     <use x=\"1298.576172\" xlink:href=\"#DejaVuSans-114\"/>\r\n     <use x=\"1339.689453\" xlink:href=\"#DejaVuSans-107\"/>\r\n     <use x=\"1397.599609\" xlink:href=\"#DejaVuSans-44\"/>\r\n     <use x=\"1429.386719\" xlink:href=\"#DejaVuSans-32\"/>\r\n     <use x=\"1461.173828\" xlink:href=\"#DejaVuSans-99\"/>\r\n     <use x=\"1516.154297\" xlink:href=\"#DejaVuSans-97\"/>\r\n     <use x=\"1577.433594\" xlink:href=\"#DejaVuSans-114\"/>\r\n     <use x=\"1618.546875\" xlink:href=\"#DejaVuSans-32\"/>\r\n     <use x=\"1650.333984\" xlink:href=\"#DejaVuSans-112\"/>\r\n     <use x=\"1713.810547\" xlink:href=\"#DejaVuSans-97\"/>\r\n     <use x=\"1775.089844\" xlink:href=\"#DejaVuSans-114\"/>\r\n     <use x=\"1816.203125\" xlink:href=\"#DejaVuSans-107\"/>\r\n     <use x=\"1874.113281\" xlink:href=\"#DejaVuSans-32\"/>\r\n     <use x=\"1905.900391\" xlink:href=\"#DejaVuSans-111\"/>\r\n     <use x=\"1967.082031\" xlink:href=\"#DejaVuSans-114\"/>\r\n     <use x=\"2008.195312\" xlink:href=\"#DejaVuSans-32\"/>\r\n     <use x=\"2039.982422\" xlink:href=\"#DejaVuSans-111\"/>\r\n     <use x=\"2101.164062\" xlink:href=\"#DejaVuSans-116\"/>\r\n     <use x=\"2140.373047\" xlink:href=\"#DejaVuSans-104\"/>\r\n     <use x=\"2203.751953\" xlink:href=\"#DejaVuSans-101\"/>\r\n     <use x=\"2265.275391\" xlink:href=\"#DejaVuSans-114\"/>\r\n     <use x=\"2306.388672\" xlink:href=\"#DejaVuSans-32\"/>\r\n     <use x=\"2338.175781\" xlink:href=\"#DejaVuSans-112\"/>\r\n     <use x=\"2401.652344\" xlink:href=\"#DejaVuSans-117\"/>\r\n     <use x=\"2465.03125\" xlink:href=\"#DejaVuSans-98\"/>\r\n     <use x=\"2528.507812\" xlink:href=\"#DejaVuSans-108\"/>\r\n     <use x=\"2556.291016\" xlink:href=\"#DejaVuSans-105\"/>\r\n     <use x=\"2584.074219\" xlink:href=\"#DejaVuSans-99\"/>\r\n     <use x=\"2639.054688\" xlink:href=\"#DejaVuSans-32\"/>\r\n     <use x=\"2670.841797\" xlink:href=\"#DejaVuSans-112\"/>\r\n     <use x=\"2734.318359\" xlink:href=\"#DejaVuSans-108\"/>\r\n     <use x=\"2762.101562\" xlink:href=\"#DejaVuSans-97\"/>\r\n     <use x=\"2823.380859\" xlink:href=\"#DejaVuSans-99\"/>\r\n     <use x=\"2878.361328\" xlink:href=\"#DejaVuSans-101\"/>\r\n    </g>\r\n   </g>\r\n  </g>\r\n  <g id=\"axes_6\">\r\n   <g id=\"patch_77\">\r\n    <path d=\"M 375.520312 124.381798 \r\nL 468.520312 124.381798 \r\nL 468.520312 80.006288 \r\nL 375.520312 80.006288 \r\nz\r\n\" style=\"fill:#ffffff;\"/>\r\n   </g>\r\n   <g id=\"patch_78\">\r\n    <path clip-path=\"url(#pf817ea3816)\" d=\"M 379.747585 124.381798 \r\nL 388.202131 124.381798 \r\nL 388.202131 103.250603 \r\nL 379.747585 103.250603 \r\nz\r\n\" style=\"fill:#1f77b4;\"/>\r\n   </g>\r\n   <g id=\"patch_79\">\r\n    <path clip-path=\"url(#pf817ea3816)\" d=\"M 388.202131 124.381798 \r\nL 396.656676 124.381798 \r\nL 396.656676 82.119408 \r\nL 388.202131 82.119408 \r\nz\r\n\" style=\"fill:#1f77b4;\"/>\r\n   </g>\r\n   <g id=\"patch_80\">\r\n    <path clip-path=\"url(#pf817ea3816)\" d=\"M 396.656676 124.381798 \r\nL 405.111222 124.381798 \r\nL 405.111222 96.206871 \r\nL 396.656676 96.206871 \r\nz\r\n\" style=\"fill:#1f77b4;\"/>\r\n   </g>\r\n   <g id=\"patch_81\">\r\n    <path clip-path=\"url(#pf817ea3816)\" d=\"M 405.111222 124.381798 \r\nL 413.565767 124.381798 \r\nL 413.565767 110.294335 \r\nL 405.111222 110.294335 \r\nz\r\n\" style=\"fill:#1f77b4;\"/>\r\n   </g>\r\n   <g id=\"patch_82\">\r\n    <path clip-path=\"url(#pf817ea3816)\" d=\"M 413.565767 124.381798 \r\nL 422.020312 124.381798 \r\nL 422.020312 89.16314 \r\nL 413.565767 89.16314 \r\nz\r\n\" style=\"fill:#1f77b4;\"/>\r\n   </g>\r\n   <g id=\"patch_83\">\r\n    <path clip-path=\"url(#pf817ea3816)\" d=\"M 422.020312 124.381798 \r\nL 430.474858 124.381798 \r\nL 430.474858 82.119408 \r\nL 422.020312 82.119408 \r\nz\r\n\" style=\"fill:#1f77b4;\"/>\r\n   </g>\r\n   <g id=\"patch_84\">\r\n    <path clip-path=\"url(#pf817ea3816)\" d=\"M 430.474858 124.381798 \r\nL 438.929403 124.381798 \r\nL 438.929403 117.338067 \r\nL 430.474858 117.338067 \r\nz\r\n\" style=\"fill:#1f77b4;\"/>\r\n   </g>\r\n   <g id=\"patch_85\">\r\n    <path clip-path=\"url(#pf817ea3816)\" d=\"M 438.929403 124.381798 \r\nL 447.383949 124.381798 \r\nL 447.383949 110.294335 \r\nL 438.929403 110.294335 \r\nz\r\n\" style=\"fill:#1f77b4;\"/>\r\n   </g>\r\n   <g id=\"patch_86\">\r\n    <path clip-path=\"url(#pf817ea3816)\" d=\"M 447.383949 124.381798 \r\nL 455.838494 124.381798 \r\nL 455.838494 117.338067 \r\nL 447.383949 117.338067 \r\nz\r\n\" style=\"fill:#1f77b4;\"/>\r\n   </g>\r\n   <g id=\"patch_87\">\r\n    <path clip-path=\"url(#pf817ea3816)\" d=\"M 455.838494 124.381798 \r\nL 464.29304 124.381798 \r\nL 464.29304 117.338067 \r\nL 455.838494 117.338067 \r\nz\r\n\" style=\"fill:#1f77b4;\"/>\r\n   </g>\r\n   <g id=\"matplotlib.axis_11\">\r\n    <g id=\"xtick_12\">\r\n     <g id=\"line2d_43\">\r\n      <path clip-path=\"url(#pf817ea3816)\" d=\"M 418.768564 124.381798 \r\nL 418.768564 80.006288 \r\n\" style=\"fill:none;stroke:#b0b0b0;stroke-linecap:square;stroke-width:0.8;\"/>\r\n     </g>\r\n     <g id=\"line2d_44\">\r\n      <g>\r\n       <use style=\"stroke:#000000;stroke-width:0.8;\" x=\"418.768564\" xlink:href=\"#m646e142152\" y=\"124.381798\"/>\r\n      </g>\r\n     </g>\r\n     <g id=\"text_27\">\r\n      <!-- 20 -->\r\n      <g transform=\"translate(412.406064 138.980236)scale(0.1 -0.1)\">\r\n       <use xlink:href=\"#DejaVuSans-50\"/>\r\n       <use x=\"63.623047\" xlink:href=\"#DejaVuSans-48\"/>\r\n      </g>\r\n     </g>\r\n    </g>\r\n    <g id=\"xtick_13\">\r\n     <g id=\"line2d_45\">\r\n      <path clip-path=\"url(#pf817ea3816)\" d=\"M 462.125208 124.381798 \r\nL 462.125208 80.006288 \r\n\" style=\"fill:none;stroke:#b0b0b0;stroke-linecap:square;stroke-width:0.8;\"/>\r\n     </g>\r\n     <g id=\"line2d_46\">\r\n      <g>\r\n       <use style=\"stroke:#000000;stroke-width:0.8;\" x=\"462.125208\" xlink:href=\"#m646e142152\" y=\"124.381798\"/>\r\n      </g>\r\n     </g>\r\n     <g id=\"text_28\">\r\n      <!-- 40 -->\r\n      <g transform=\"translate(455.762708 138.980236)scale(0.1 -0.1)\">\r\n       <use xlink:href=\"#DejaVuSans-52\"/>\r\n       <use x=\"63.623047\" xlink:href=\"#DejaVuSans-48\"/>\r\n      </g>\r\n     </g>\r\n    </g>\r\n   </g>\r\n   <g id=\"matplotlib.axis_12\">\r\n    <g id=\"ytick_11\">\r\n     <g id=\"line2d_47\">\r\n      <path clip-path=\"url(#pf817ea3816)\" d=\"M 375.520312 124.381798 \r\nL 468.520312 124.381798 \r\n\" style=\"fill:none;stroke:#b0b0b0;stroke-linecap:square;stroke-width:0.8;\"/>\r\n     </g>\r\n     <g id=\"line2d_48\">\r\n      <g>\r\n       <use style=\"stroke:#000000;stroke-width:0.8;\" x=\"375.520312\" xlink:href=\"#mb185370718\" y=\"124.381798\"/>\r\n      </g>\r\n     </g>\r\n     <g id=\"text_29\">\r\n      <!-- 0 -->\r\n      <g transform=\"translate(362.157812 128.181017)scale(0.1 -0.1)\">\r\n       <use xlink:href=\"#DejaVuSans-48\"/>\r\n      </g>\r\n     </g>\r\n    </g>\r\n    <g id=\"ytick_12\">\r\n     <g id=\"line2d_49\">\r\n      <path clip-path=\"url(#pf817ea3816)\" d=\"M 375.520312 89.16314 \r\nL 468.520312 89.16314 \r\n\" style=\"fill:none;stroke:#b0b0b0;stroke-linecap:square;stroke-width:0.8;\"/>\r\n     </g>\r\n     <g id=\"line2d_50\">\r\n      <g>\r\n       <use style=\"stroke:#000000;stroke-width:0.8;\" x=\"375.520312\" xlink:href=\"#mb185370718\" y=\"89.16314\"/>\r\n      </g>\r\n     </g>\r\n     <g id=\"text_30\">\r\n      <!-- 5 -->\r\n      <g transform=\"translate(362.157812 92.962358)scale(0.1 -0.1)\">\r\n       <use xlink:href=\"#DejaVuSans-53\"/>\r\n      </g>\r\n     </g>\r\n    </g>\r\n   </g>\r\n   <g id=\"patch_88\">\r\n    <path d=\"M 375.520312 124.381798 \r\nL 375.520312 80.006288 \r\n\" style=\"fill:none;stroke:#000000;stroke-linecap:square;stroke-linejoin:miter;stroke-width:0.8;\"/>\r\n   </g>\r\n   <g id=\"patch_89\">\r\n    <path d=\"M 468.520312 124.381798 \r\nL 468.520312 80.006288 \r\n\" style=\"fill:none;stroke:#000000;stroke-linecap:square;stroke-linejoin:miter;stroke-width:0.8;\"/>\r\n   </g>\r\n   <g id=\"patch_90\">\r\n    <path d=\"M 375.520312 124.381798 \r\nL 468.520312 124.381798 \r\n\" style=\"fill:none;stroke:#000000;stroke-linecap:square;stroke-linejoin:miter;stroke-width:0.8;\"/>\r\n   </g>\r\n   <g id=\"patch_91\">\r\n    <path d=\"M 375.520312 80.006288 \r\nL 468.520312 80.006288 \r\n\" style=\"fill:none;stroke:#000000;stroke-linecap:square;stroke-linejoin:miter;stroke-width:0.8;\"/>\r\n   </g>\r\n   <g id=\"text_31\">\r\n    <!-- My home  -->\r\n    <g transform=\"translate(392.468437 74.006288)scale(0.12 -0.12)\">\r\n     <defs>\r\n      <path d=\"M 9.8125 72.90625 \r\nL 24.515625 72.90625 \r\nL 43.109375 23.296875 \r\nL 61.8125 72.90625 \r\nL 76.515625 72.90625 \r\nL 76.515625 0 \r\nL 66.890625 0 \r\nL 66.890625 64.015625 \r\nL 48.09375 14.015625 \r\nL 38.1875 14.015625 \r\nL 19.390625 64.015625 \r\nL 19.390625 0 \r\nL 9.8125 0 \r\nz\r\n\" id=\"DejaVuSans-77\"/>\r\n     </defs>\r\n     <use xlink:href=\"#DejaVuSans-77\"/>\r\n     <use x=\"86.279297\" xlink:href=\"#DejaVuSans-121\"/>\r\n     <use x=\"145.458984\" xlink:href=\"#DejaVuSans-32\"/>\r\n     <use x=\"177.246094\" xlink:href=\"#DejaVuSans-104\"/>\r\n     <use x=\"240.625\" xlink:href=\"#DejaVuSans-111\"/>\r\n     <use x=\"301.806641\" xlink:href=\"#DejaVuSans-109\"/>\r\n     <use x=\"399.21875\" xlink:href=\"#DejaVuSans-101\"/>\r\n     <use x=\"460.742188\" xlink:href=\"#DejaVuSans-32\"/>\r\n    </g>\r\n   </g>\r\n  </g>\r\n  <g id=\"axes_7\">\r\n   <g id=\"patch_92\">\r\n    <path d=\"M 133.720312 182.069962 \r\nL 226.720312 182.069962 \r\nL 226.720312 137.694452 \r\nL 133.720312 137.694452 \r\nz\r\n\" style=\"fill:#ffffff;\"/>\r\n   </g>\r\n   <g id=\"patch_93\">\r\n    <path clip-path=\"url(#p765b1654ce)\" d=\"M 137.947585 182.069962 \r\nL 146.402131 182.069962 \r\nL 146.402131 153.895035 \r\nL 137.947585 153.895035 \r\nz\r\n\" style=\"fill:#1f77b4;\"/>\r\n   </g>\r\n   <g id=\"patch_94\">\r\n    <path clip-path=\"url(#p765b1654ce)\" d=\"M 146.402131 182.069962 \r\nL 154.856676 182.069962 \r\nL 154.856676 167.982498 \r\nL 146.402131 167.982498 \r\nz\r\n\" style=\"fill:#1f77b4;\"/>\r\n   </g>\r\n   <g id=\"patch_95\">\r\n    <path clip-path=\"url(#p765b1654ce)\" d=\"M 154.856676 182.069962 \r\nL 163.311222 182.069962 \r\nL 163.311222 139.807571 \r\nL 154.856676 139.807571 \r\nz\r\n\" style=\"fill:#1f77b4;\"/>\r\n   </g>\r\n   <g id=\"patch_96\">\r\n    <path clip-path=\"url(#p765b1654ce)\" d=\"M 163.311222 182.069962 \r\nL 171.765767 182.069962 \r\nL 171.765767 146.851303 \r\nL 163.311222 146.851303 \r\nz\r\n\" style=\"fill:#1f77b4;\"/>\r\n   </g>\r\n   <g id=\"patch_97\">\r\n    <path clip-path=\"url(#p765b1654ce)\" d=\"M 171.765767 182.069962 \r\nL 180.220313 182.069962 \r\nL 180.220313 167.982498 \r\nL 171.765767 167.982498 \r\nz\r\n\" style=\"fill:#1f77b4;\"/>\r\n   </g>\r\n   <g id=\"patch_98\">\r\n    <path clip-path=\"url(#p765b1654ce)\" d=\"M 180.220312 182.069962 \r\nL 188.674858 182.069962 \r\nL 188.674858 153.895035 \r\nL 180.220312 153.895035 \r\nz\r\n\" style=\"fill:#1f77b4;\"/>\r\n   </g>\r\n   <g id=\"patch_99\">\r\n    <path clip-path=\"url(#p765b1654ce)\" d=\"M 188.674858 182.069962 \r\nL 197.129403 182.069962 \r\nL 197.129403 167.982498 \r\nL 188.674858 167.982498 \r\nz\r\n\" style=\"fill:#1f77b4;\"/>\r\n   </g>\r\n   <g id=\"patch_100\">\r\n    <path clip-path=\"url(#p765b1654ce)\" d=\"M 197.129403 182.069962 \r\nL 205.583949 182.069962 \r\nL 205.583949 167.982498 \r\nL 197.129403 167.982498 \r\nz\r\n\" style=\"fill:#1f77b4;\"/>\r\n   </g>\r\n   <g id=\"patch_101\">\r\n    <path clip-path=\"url(#p765b1654ce)\" d=\"M 205.583949 182.069962 \r\nL 214.038494 182.069962 \r\nL 214.038494 182.069962 \r\nL 205.583949 182.069962 \r\nz\r\n\" style=\"fill:#1f77b4;\"/>\r\n   </g>\r\n   <g id=\"patch_102\">\r\n    <path clip-path=\"url(#p765b1654ce)\" d=\"M 214.038494 182.069962 \r\nL 222.49304 182.069962 \r\nL 222.49304 153.895035 \r\nL 214.038494 153.895035 \r\nz\r\n\" style=\"fill:#1f77b4;\"/>\r\n   </g>\r\n   <g id=\"matplotlib.axis_13\">\r\n    <g id=\"xtick_14\">\r\n     <g id=\"line2d_51\">\r\n      <path clip-path=\"url(#p765b1654ce)\" d=\"M 150.954578 182.069962 \r\nL 150.954578 137.694452 \r\n\" style=\"fill:none;stroke:#b0b0b0;stroke-linecap:square;stroke-width:0.8;\"/>\r\n     </g>\r\n     <g id=\"line2d_52\">\r\n      <g>\r\n       <use style=\"stroke:#000000;stroke-width:0.8;\" x=\"150.954578\" xlink:href=\"#m646e142152\" y=\"182.069962\"/>\r\n      </g>\r\n     </g>\r\n     <g id=\"text_32\">\r\n      <!-- 10 -->\r\n      <g transform=\"translate(144.592078 196.668399)scale(0.1 -0.1)\">\r\n       <use xlink:href=\"#DejaVuSans-49\"/>\r\n       <use x=\"63.623047\" xlink:href=\"#DejaVuSans-48\"/>\r\n      </g>\r\n     </g>\r\n    </g>\r\n    <g id=\"xtick_15\">\r\n     <g id=\"line2d_53\">\r\n      <path clip-path=\"url(#p765b1654ce)\" d=\"M 183.472061 182.069962 \r\nL 183.472061 137.694452 \r\n\" style=\"fill:none;stroke:#b0b0b0;stroke-linecap:square;stroke-width:0.8;\"/>\r\n     </g>\r\n     <g id=\"line2d_54\">\r\n      <g>\r\n       <use style=\"stroke:#000000;stroke-width:0.8;\" x=\"183.472061\" xlink:href=\"#m646e142152\" y=\"182.069962\"/>\r\n      </g>\r\n     </g>\r\n     <g id=\"text_33\">\r\n      <!-- 15 -->\r\n      <g transform=\"translate(177.109561 196.668399)scale(0.1 -0.1)\">\r\n       <use xlink:href=\"#DejaVuSans-49\"/>\r\n       <use x=\"63.623047\" xlink:href=\"#DejaVuSans-53\"/>\r\n      </g>\r\n     </g>\r\n    </g>\r\n    <g id=\"xtick_16\">\r\n     <g id=\"line2d_55\">\r\n      <path clip-path=\"url(#p765b1654ce)\" d=\"M 215.989543 182.069962 \r\nL 215.989543 137.694452 \r\n\" style=\"fill:none;stroke:#b0b0b0;stroke-linecap:square;stroke-width:0.8;\"/>\r\n     </g>\r\n     <g id=\"line2d_56\">\r\n      <g>\r\n       <use style=\"stroke:#000000;stroke-width:0.8;\" x=\"215.989543\" xlink:href=\"#m646e142152\" y=\"182.069962\"/>\r\n      </g>\r\n     </g>\r\n     <g id=\"text_34\">\r\n      <!-- 20 -->\r\n      <g transform=\"translate(209.627043 196.668399)scale(0.1 -0.1)\">\r\n       <use xlink:href=\"#DejaVuSans-50\"/>\r\n       <use x=\"63.623047\" xlink:href=\"#DejaVuSans-48\"/>\r\n      </g>\r\n     </g>\r\n    </g>\r\n   </g>\r\n   <g id=\"matplotlib.axis_14\">\r\n    <g id=\"ytick_13\">\r\n     <g id=\"line2d_57\">\r\n      <path clip-path=\"url(#p765b1654ce)\" d=\"M 133.720312 182.069962 \r\nL 226.720312 182.069962 \r\n\" style=\"fill:none;stroke:#b0b0b0;stroke-linecap:square;stroke-width:0.8;\"/>\r\n     </g>\r\n     <g id=\"line2d_58\">\r\n      <g>\r\n       <use style=\"stroke:#000000;stroke-width:0.8;\" x=\"133.720312\" xlink:href=\"#mb185370718\" y=\"182.069962\"/>\r\n      </g>\r\n     </g>\r\n     <g id=\"text_35\">\r\n      <!-- 0 -->\r\n      <g transform=\"translate(120.357812 185.86918)scale(0.1 -0.1)\">\r\n       <use xlink:href=\"#DejaVuSans-48\"/>\r\n      </g>\r\n     </g>\r\n    </g>\r\n    <g id=\"ytick_14\">\r\n     <g id=\"line2d_59\">\r\n      <path clip-path=\"url(#p765b1654ce)\" d=\"M 133.720312 146.851303 \r\nL 226.720312 146.851303 \r\n\" style=\"fill:none;stroke:#b0b0b0;stroke-linecap:square;stroke-width:0.8;\"/>\r\n     </g>\r\n     <g id=\"line2d_60\">\r\n      <g>\r\n       <use style=\"stroke:#000000;stroke-width:0.8;\" x=\"133.720312\" xlink:href=\"#mb185370718\" y=\"146.851303\"/>\r\n      </g>\r\n     </g>\r\n     <g id=\"text_36\">\r\n      <!-- 5 -->\r\n      <g transform=\"translate(120.357812 150.650522)scale(0.1 -0.1)\">\r\n       <use xlink:href=\"#DejaVuSans-53\"/>\r\n      </g>\r\n     </g>\r\n    </g>\r\n   </g>\r\n   <g id=\"patch_103\">\r\n    <path d=\"M 133.720312 182.069962 \r\nL 133.720312 137.694452 \r\n\" style=\"fill:none;stroke:#000000;stroke-linecap:square;stroke-linejoin:miter;stroke-width:0.8;\"/>\r\n   </g>\r\n   <g id=\"patch_104\">\r\n    <path d=\"M 226.720312 182.069962 \r\nL 226.720312 137.694452 \r\n\" style=\"fill:none;stroke:#000000;stroke-linecap:square;stroke-linejoin:miter;stroke-width:0.8;\"/>\r\n   </g>\r\n   <g id=\"patch_105\">\r\n    <path d=\"M 133.720312 182.069962 \r\nL 226.720312 182.069962 \r\n\" style=\"fill:none;stroke:#000000;stroke-linecap:square;stroke-linejoin:miter;stroke-width:0.8;\"/>\r\n   </g>\r\n   <g id=\"patch_106\">\r\n    <path d=\"M 133.720312 137.694452 \r\nL 226.720312 137.694452 \r\n\" style=\"fill:none;stroke:#000000;stroke-linecap:square;stroke-linejoin:miter;stroke-width:0.8;\"/>\r\n   </g>\r\n   <g id=\"text_37\">\r\n    <!-- Other  -->\r\n    <g transform=\"translate(161.277187 131.694452)scale(0.12 -0.12)\">\r\n     <defs>\r\n      <path d=\"M 39.40625 66.21875 \r\nQ 28.65625 66.21875 22.328125 58.203125 \r\nQ 16.015625 50.203125 16.015625 36.375 \r\nQ 16.015625 22.609375 22.328125 14.59375 \r\nQ 28.65625 6.59375 39.40625 6.59375 \r\nQ 50.140625 6.59375 56.421875 14.59375 \r\nQ 62.703125 22.609375 62.703125 36.375 \r\nQ 62.703125 50.203125 56.421875 58.203125 \r\nQ 50.140625 66.21875 39.40625 66.21875 \r\nz\r\nM 39.40625 74.21875 \r\nQ 54.734375 74.21875 63.90625 63.9375 \r\nQ 73.09375 53.65625 73.09375 36.375 \r\nQ 73.09375 19.140625 63.90625 8.859375 \r\nQ 54.734375 -1.421875 39.40625 -1.421875 \r\nQ 24.03125 -1.421875 14.8125 8.828125 \r\nQ 5.609375 19.09375 5.609375 36.375 \r\nQ 5.609375 53.65625 14.8125 63.9375 \r\nQ 24.03125 74.21875 39.40625 74.21875 \r\nz\r\n\" id=\"DejaVuSans-79\"/>\r\n     </defs>\r\n     <use xlink:href=\"#DejaVuSans-79\"/>\r\n     <use x=\"78.710938\" xlink:href=\"#DejaVuSans-116\"/>\r\n     <use x=\"117.919922\" xlink:href=\"#DejaVuSans-104\"/>\r\n     <use x=\"181.298828\" xlink:href=\"#DejaVuSans-101\"/>\r\n     <use x=\"242.822266\" xlink:href=\"#DejaVuSans-114\"/>\r\n     <use x=\"283.935547\" xlink:href=\"#DejaVuSans-32\"/>\r\n    </g>\r\n   </g>\r\n  </g>\r\n  <g id=\"axes_8\">\r\n   <g id=\"patch_107\">\r\n    <path d=\"M 254.620313 182.069962 \r\nL 347.620313 182.069962 \r\nL 347.620313 137.694452 \r\nL 254.620313 137.694452 \r\nz\r\n\" style=\"fill:#ffffff;\"/>\r\n   </g>\r\n   <g id=\"patch_108\">\r\n    <path clip-path=\"url(#pb0066bde31)\" d=\"M 258.847585 182.069962 \r\nL 267.302131 182.069962 \r\nL 267.302131 160.938766 \r\nL 258.847585 160.938766 \r\nz\r\n\" style=\"fill:#1f77b4;\"/>\r\n   </g>\r\n   <g id=\"patch_109\">\r\n    <path clip-path=\"url(#pb0066bde31)\" d=\"M 267.302131 182.069962 \r\nL 275.756676 182.069962 \r\nL 275.756676 167.982498 \r\nL 267.302131 167.982498 \r\nz\r\n\" style=\"fill:#1f77b4;\"/>\r\n   </g>\r\n   <g id=\"patch_110\">\r\n    <path clip-path=\"url(#pb0066bde31)\" d=\"M 275.756676 182.069962 \r\nL 284.211222 182.069962 \r\nL 284.211222 160.938766 \r\nL 275.756676 160.938766 \r\nz\r\n\" style=\"fill:#1f77b4;\"/>\r\n   </g>\r\n   <g id=\"patch_111\">\r\n    <path clip-path=\"url(#pb0066bde31)\" d=\"M 284.211222 182.069962 \r\nL 292.665767 182.069962 \r\nL 292.665767 160.938766 \r\nL 284.211222 160.938766 \r\nz\r\n\" style=\"fill:#1f77b4;\"/>\r\n   </g>\r\n   <g id=\"patch_112\">\r\n    <path clip-path=\"url(#pb0066bde31)\" d=\"M 292.665767 182.069962 \r\nL 301.120313 182.069962 \r\nL 301.120313 139.807571 \r\nL 292.665767 139.807571 \r\nz\r\n\" style=\"fill:#1f77b4;\"/>\r\n   </g>\r\n   <g id=\"patch_113\">\r\n    <path clip-path=\"url(#pb0066bde31)\" d=\"M 301.120313 182.069962 \r\nL 309.574858 182.069962 \r\nL 309.574858 175.02623 \r\nL 301.120313 175.02623 \r\nz\r\n\" style=\"fill:#1f77b4;\"/>\r\n   </g>\r\n   <g id=\"patch_114\">\r\n    <path clip-path=\"url(#pb0066bde31)\" d=\"M 309.574858 182.069962 \r\nL 318.029403 182.069962 \r\nL 318.029403 175.02623 \r\nL 309.574858 175.02623 \r\nz\r\n\" style=\"fill:#1f77b4;\"/>\r\n   </g>\r\n   <g id=\"patch_115\">\r\n    <path clip-path=\"url(#pb0066bde31)\" d=\"M 318.029403 182.069962 \r\nL 326.483949 182.069962 \r\nL 326.483949 146.851303 \r\nL 318.029403 146.851303 \r\nz\r\n\" style=\"fill:#1f77b4;\"/>\r\n   </g>\r\n   <g id=\"patch_116\">\r\n    <path clip-path=\"url(#pb0066bde31)\" d=\"M 326.483949 182.069962 \r\nL 334.938494 182.069962 \r\nL 334.938494 153.895035 \r\nL 326.483949 153.895035 \r\nz\r\n\" style=\"fill:#1f77b4;\"/>\r\n   </g>\r\n   <g id=\"patch_117\">\r\n    <path clip-path=\"url(#pb0066bde31)\" d=\"M 334.938494 182.069962 \r\nL 343.39304 182.069962 \r\nL 343.39304 160.938766 \r\nL 334.938494 160.938766 \r\nz\r\n\" style=\"fill:#1f77b4;\"/>\r\n   </g>\r\n   <g id=\"matplotlib.axis_15\">\r\n    <g id=\"xtick_17\">\r\n     <g id=\"line2d_61\">\r\n      <path clip-path=\"url(#pb0066bde31)\" d=\"M 291.512874 182.069962 \r\nL 291.512874 137.694452 \r\n\" style=\"fill:none;stroke:#b0b0b0;stroke-linecap:square;stroke-width:0.8;\"/>\r\n     </g>\r\n     <g id=\"line2d_62\">\r\n      <g>\r\n       <use style=\"stroke:#000000;stroke-width:0.8;\" x=\"291.512874\" xlink:href=\"#m646e142152\" y=\"182.069962\"/>\r\n      </g>\r\n     </g>\r\n     <g id=\"text_38\">\r\n      <!-- 40 -->\r\n      <g transform=\"translate(285.150374 196.668399)scale(0.1 -0.1)\">\r\n       <use xlink:href=\"#DejaVuSans-52\"/>\r\n       <use x=\"63.623047\" xlink:href=\"#DejaVuSans-48\"/>\r\n      </g>\r\n     </g>\r\n    </g>\r\n    <g id=\"xtick_18\">\r\n     <g id=\"line2d_63\">\r\n      <path clip-path=\"url(#pb0066bde31)\" d=\"M 329.942627 182.069962 \r\nL 329.942627 137.694452 \r\n\" style=\"fill:none;stroke:#b0b0b0;stroke-linecap:square;stroke-width:0.8;\"/>\r\n     </g>\r\n     <g id=\"line2d_64\">\r\n      <g>\r\n       <use style=\"stroke:#000000;stroke-width:0.8;\" x=\"329.942627\" xlink:href=\"#m646e142152\" y=\"182.069962\"/>\r\n      </g>\r\n     </g>\r\n     <g id=\"text_39\">\r\n      <!-- 60 -->\r\n      <g transform=\"translate(323.580127 196.668399)scale(0.1 -0.1)\">\r\n       <use xlink:href=\"#DejaVuSans-54\"/>\r\n       <use x=\"63.623047\" xlink:href=\"#DejaVuSans-48\"/>\r\n      </g>\r\n     </g>\r\n    </g>\r\n   </g>\r\n   <g id=\"matplotlib.axis_16\">\r\n    <g id=\"ytick_15\">\r\n     <g id=\"line2d_65\">\r\n      <path clip-path=\"url(#pb0066bde31)\" d=\"M 254.620313 182.069962 \r\nL 347.620313 182.069962 \r\n\" style=\"fill:none;stroke:#b0b0b0;stroke-linecap:square;stroke-width:0.8;\"/>\r\n     </g>\r\n     <g id=\"line2d_66\">\r\n      <g>\r\n       <use style=\"stroke:#000000;stroke-width:0.8;\" x=\"254.620313\" xlink:href=\"#mb185370718\" y=\"182.069962\"/>\r\n      </g>\r\n     </g>\r\n     <g id=\"text_40\">\r\n      <!-- 0 -->\r\n      <g transform=\"translate(241.257812 185.86918)scale(0.1 -0.1)\">\r\n       <use xlink:href=\"#DejaVuSans-48\"/>\r\n      </g>\r\n     </g>\r\n    </g>\r\n    <g id=\"ytick_16\">\r\n     <g id=\"line2d_67\">\r\n      <path clip-path=\"url(#pb0066bde31)\" d=\"M 254.620313 146.851303 \r\nL 347.620313 146.851303 \r\n\" style=\"fill:none;stroke:#b0b0b0;stroke-linecap:square;stroke-width:0.8;\"/>\r\n     </g>\r\n     <g id=\"line2d_68\">\r\n      <g>\r\n       <use style=\"stroke:#000000;stroke-width:0.8;\" x=\"254.620313\" xlink:href=\"#mb185370718\" y=\"146.851303\"/>\r\n      </g>\r\n     </g>\r\n     <g id=\"text_41\">\r\n      <!-- 5 -->\r\n      <g transform=\"translate(241.257812 150.650522)scale(0.1 -0.1)\">\r\n       <use xlink:href=\"#DejaVuSans-53\"/>\r\n      </g>\r\n     </g>\r\n    </g>\r\n   </g>\r\n   <g id=\"patch_118\">\r\n    <path d=\"M 254.620313 182.069962 \r\nL 254.620313 137.694452 \r\n\" style=\"fill:none;stroke:#000000;stroke-linecap:square;stroke-linejoin:miter;stroke-width:0.8;\"/>\r\n   </g>\r\n   <g id=\"patch_119\">\r\n    <path d=\"M 347.620313 182.069962 \r\nL 347.620313 137.694452 \r\n\" style=\"fill:none;stroke:#000000;stroke-linecap:square;stroke-linejoin:miter;stroke-width:0.8;\"/>\r\n   </g>\r\n   <g id=\"patch_120\">\r\n    <path d=\"M 254.620313 182.069962 \r\nL 347.620313 182.069962 \r\n\" style=\"fill:none;stroke:#000000;stroke-linecap:square;stroke-linejoin:miter;stroke-width:0.8;\"/>\r\n   </g>\r\n   <g id=\"patch_121\">\r\n    <path d=\"M 254.620313 137.694452 \r\nL 347.620313 137.694452 \r\n\" style=\"fill:none;stroke:#000000;stroke-linecap:square;stroke-linejoin:miter;stroke-width:0.8;\"/>\r\n   </g>\r\n   <g id=\"text_42\">\r\n    <!-- Public premises or buildings -->\r\n    <g transform=\"translate(217.059375 131.694452)scale(0.12 -0.12)\">\r\n     <defs>\r\n      <path d=\"M 19.671875 64.796875 \r\nL 19.671875 37.40625 \r\nL 32.078125 37.40625 \r\nQ 38.96875 37.40625 42.71875 40.96875 \r\nQ 46.484375 44.53125 46.484375 51.125 \r\nQ 46.484375 57.671875 42.71875 61.234375 \r\nQ 38.96875 64.796875 32.078125 64.796875 \r\nz\r\nM 9.8125 72.90625 \r\nL 32.078125 72.90625 \r\nQ 44.34375 72.90625 50.609375 67.359375 \r\nQ 56.890625 61.8125 56.890625 51.125 \r\nQ 56.890625 40.328125 50.609375 34.8125 \r\nQ 44.34375 29.296875 32.078125 29.296875 \r\nL 19.671875 29.296875 \r\nL 19.671875 0 \r\nL 9.8125 0 \r\nz\r\n\" id=\"DejaVuSans-80\"/>\r\n     </defs>\r\n     <use xlink:href=\"#DejaVuSans-80\"/>\r\n     <use x=\"58.552734\" xlink:href=\"#DejaVuSans-117\"/>\r\n     <use x=\"121.931641\" xlink:href=\"#DejaVuSans-98\"/>\r\n     <use x=\"185.408203\" xlink:href=\"#DejaVuSans-108\"/>\r\n     <use x=\"213.191406\" xlink:href=\"#DejaVuSans-105\"/>\r\n     <use x=\"240.974609\" xlink:href=\"#DejaVuSans-99\"/>\r\n     <use x=\"295.955078\" xlink:href=\"#DejaVuSans-32\"/>\r\n     <use x=\"327.742188\" xlink:href=\"#DejaVuSans-112\"/>\r\n     <use x=\"391.21875\" xlink:href=\"#DejaVuSans-114\"/>\r\n     <use x=\"430.082031\" xlink:href=\"#DejaVuSans-101\"/>\r\n     <use x=\"491.605469\" xlink:href=\"#DejaVuSans-109\"/>\r\n     <use x=\"589.017578\" xlink:href=\"#DejaVuSans-105\"/>\r\n     <use x=\"616.800781\" xlink:href=\"#DejaVuSans-115\"/>\r\n     <use x=\"668.900391\" xlink:href=\"#DejaVuSans-101\"/>\r\n     <use x=\"730.423828\" xlink:href=\"#DejaVuSans-115\"/>\r\n     <use x=\"782.523438\" xlink:href=\"#DejaVuSans-32\"/>\r\n     <use x=\"814.310547\" xlink:href=\"#DejaVuSans-111\"/>\r\n     <use x=\"875.492188\" xlink:href=\"#DejaVuSans-114\"/>\r\n     <use x=\"916.605469\" xlink:href=\"#DejaVuSans-32\"/>\r\n     <use x=\"948.392578\" xlink:href=\"#DejaVuSans-98\"/>\r\n     <use x=\"1011.869141\" xlink:href=\"#DejaVuSans-117\"/>\r\n     <use x=\"1075.248047\" xlink:href=\"#DejaVuSans-105\"/>\r\n     <use x=\"1103.03125\" xlink:href=\"#DejaVuSans-108\"/>\r\n     <use x=\"1130.814453\" xlink:href=\"#DejaVuSans-100\"/>\r\n     <use x=\"1194.291016\" xlink:href=\"#DejaVuSans-105\"/>\r\n     <use x=\"1222.074219\" xlink:href=\"#DejaVuSans-110\"/>\r\n     <use x=\"1285.453125\" xlink:href=\"#DejaVuSans-103\"/>\r\n     <use x=\"1348.929688\" xlink:href=\"#DejaVuSans-115\"/>\r\n    </g>\r\n   </g>\r\n  </g>\r\n  <g id=\"axes_9\">\r\n   <g id=\"patch_122\">\r\n    <path d=\"M 375.520312 182.069962 \r\nL 468.520312 182.069962 \r\nL 468.520312 137.694452 \r\nL 375.520312 137.694452 \r\nz\r\n\" style=\"fill:#ffffff;\"/>\r\n   </g>\r\n   <g id=\"patch_123\">\r\n    <path clip-path=\"url(#pea5b686e8c)\" d=\"M 379.747585 182.069962 \r\nL 388.202131 182.069962 \r\nL 388.202131 175.02623 \r\nL 379.747585 175.02623 \r\nz\r\n\" style=\"fill:#1f77b4;\"/>\r\n   </g>\r\n   <g id=\"patch_124\">\r\n    <path clip-path=\"url(#pea5b686e8c)\" d=\"M 388.202131 182.069962 \r\nL 396.656676 182.069962 \r\nL 396.656676 182.069962 \r\nL 388.202131 182.069962 \r\nz\r\n\" style=\"fill:#1f77b4;\"/>\r\n   </g>\r\n   <g id=\"patch_125\">\r\n    <path clip-path=\"url(#pea5b686e8c)\" d=\"M 396.656676 182.069962 \r\nL 405.111222 182.069962 \r\nL 405.111222 182.069962 \r\nL 396.656676 182.069962 \r\nz\r\n\" style=\"fill:#1f77b4;\"/>\r\n   </g>\r\n   <g id=\"patch_126\">\r\n    <path clip-path=\"url(#pea5b686e8c)\" d=\"M 405.111222 182.069962 \r\nL 413.565767 182.069962 \r\nL 413.565767 146.851303 \r\nL 405.111222 146.851303 \r\nz\r\n\" style=\"fill:#1f77b4;\"/>\r\n   </g>\r\n   <g id=\"patch_127\">\r\n    <path clip-path=\"url(#pea5b686e8c)\" d=\"M 413.565767 182.069962 \r\nL 422.020312 182.069962 \r\nL 422.020312 160.938766 \r\nL 413.565767 160.938766 \r\nz\r\n\" style=\"fill:#1f77b4;\"/>\r\n   </g>\r\n   <g id=\"patch_128\">\r\n    <path clip-path=\"url(#pea5b686e8c)\" d=\"M 422.020312 182.069962 \r\nL 430.474858 182.069962 \r\nL 430.474858 153.895035 \r\nL 422.020312 153.895035 \r\nz\r\n\" style=\"fill:#1f77b4;\"/>\r\n   </g>\r\n   <g id=\"patch_129\">\r\n    <path clip-path=\"url(#pea5b686e8c)\" d=\"M 430.474858 182.069962 \r\nL 438.929403 182.069962 \r\nL 438.929403 153.895035 \r\nL 430.474858 153.895035 \r\nz\r\n\" style=\"fill:#1f77b4;\"/>\r\n   </g>\r\n   <g id=\"patch_130\">\r\n    <path clip-path=\"url(#pea5b686e8c)\" d=\"M 438.929403 182.069962 \r\nL 447.383949 182.069962 \r\nL 447.383949 139.807571 \r\nL 438.929403 139.807571 \r\nz\r\n\" style=\"fill:#1f77b4;\"/>\r\n   </g>\r\n   <g id=\"patch_131\">\r\n    <path clip-path=\"url(#pea5b686e8c)\" d=\"M 447.383949 182.069962 \r\nL 455.838494 182.069962 \r\nL 455.838494 153.895035 \r\nL 447.383949 153.895035 \r\nz\r\n\" style=\"fill:#1f77b4;\"/>\r\n   </g>\r\n   <g id=\"patch_132\">\r\n    <path clip-path=\"url(#pea5b686e8c)\" d=\"M 455.838494 182.069962 \r\nL 464.29304 182.069962 \r\nL 464.29304 153.895035 \r\nL 455.838494 153.895035 \r\nz\r\n\" style=\"fill:#1f77b4;\"/>\r\n   </g>\r\n   <g id=\"matplotlib.axis_17\">\r\n    <g id=\"xtick_19\">\r\n     <g id=\"line2d_69\">\r\n      <path clip-path=\"url(#pea5b686e8c)\" d=\"M 408.49304 182.069962 \r\nL 408.49304 137.694452 \r\n\" style=\"fill:none;stroke:#b0b0b0;stroke-linecap:square;stroke-width:0.8;\"/>\r\n     </g>\r\n     <g id=\"line2d_70\">\r\n      <g>\r\n       <use style=\"stroke:#000000;stroke-width:0.8;\" x=\"408.49304\" xlink:href=\"#m646e142152\" y=\"182.069962\"/>\r\n      </g>\r\n     </g>\r\n     <g id=\"text_43\">\r\n      <!-- 40 -->\r\n      <g transform=\"translate(402.13054 196.668399)scale(0.1 -0.1)\">\r\n       <use xlink:href=\"#DejaVuSans-52\"/>\r\n       <use x=\"63.623047\" xlink:href=\"#DejaVuSans-48\"/>\r\n      </g>\r\n     </g>\r\n    </g>\r\n    <g id=\"xtick_20\">\r\n     <g id=\"line2d_71\">\r\n      <path clip-path=\"url(#pea5b686e8c)\" d=\"M 442.311222 182.069962 \r\nL 442.311222 137.694452 \r\n\" style=\"fill:none;stroke:#b0b0b0;stroke-linecap:square;stroke-width:0.8;\"/>\r\n     </g>\r\n     <g id=\"line2d_72\">\r\n      <g>\r\n       <use style=\"stroke:#000000;stroke-width:0.8;\" x=\"442.311222\" xlink:href=\"#m646e142152\" y=\"182.069962\"/>\r\n      </g>\r\n     </g>\r\n     <g id=\"text_44\">\r\n      <!-- 60 -->\r\n      <g transform=\"translate(435.948722 196.668399)scale(0.1 -0.1)\">\r\n       <use xlink:href=\"#DejaVuSans-54\"/>\r\n       <use x=\"63.623047\" xlink:href=\"#DejaVuSans-48\"/>\r\n      </g>\r\n     </g>\r\n    </g>\r\n   </g>\r\n   <g id=\"matplotlib.axis_18\">\r\n    <g id=\"ytick_17\">\r\n     <g id=\"line2d_73\">\r\n      <path clip-path=\"url(#pea5b686e8c)\" d=\"M 375.520312 182.069962 \r\nL 468.520312 182.069962 \r\n\" style=\"fill:none;stroke:#b0b0b0;stroke-linecap:square;stroke-width:0.8;\"/>\r\n     </g>\r\n     <g id=\"line2d_74\">\r\n      <g>\r\n       <use style=\"stroke:#000000;stroke-width:0.8;\" x=\"375.520312\" xlink:href=\"#mb185370718\" y=\"182.069962\"/>\r\n      </g>\r\n     </g>\r\n     <g id=\"text_45\">\r\n      <!-- 0 -->\r\n      <g transform=\"translate(362.157812 185.86918)scale(0.1 -0.1)\">\r\n       <use xlink:href=\"#DejaVuSans-48\"/>\r\n      </g>\r\n     </g>\r\n    </g>\r\n    <g id=\"ytick_18\">\r\n     <g id=\"line2d_75\">\r\n      <path clip-path=\"url(#pea5b686e8c)\" d=\"M 375.520312 146.851303 \r\nL 468.520312 146.851303 \r\n\" style=\"fill:none;stroke:#b0b0b0;stroke-linecap:square;stroke-width:0.8;\"/>\r\n     </g>\r\n     <g id=\"line2d_76\">\r\n      <g>\r\n       <use style=\"stroke:#000000;stroke-width:0.8;\" x=\"375.520312\" xlink:href=\"#mb185370718\" y=\"146.851303\"/>\r\n      </g>\r\n     </g>\r\n     <g id=\"text_46\">\r\n      <!-- 5 -->\r\n      <g transform=\"translate(362.157812 150.650522)scale(0.1 -0.1)\">\r\n       <use xlink:href=\"#DejaVuSans-53\"/>\r\n      </g>\r\n     </g>\r\n    </g>\r\n   </g>\r\n   <g id=\"patch_133\">\r\n    <path d=\"M 375.520312 182.069962 \r\nL 375.520312 137.694452 \r\n\" style=\"fill:none;stroke:#000000;stroke-linecap:square;stroke-linejoin:miter;stroke-width:0.8;\"/>\r\n   </g>\r\n   <g id=\"patch_134\">\r\n    <path d=\"M 468.520312 182.069962 \r\nL 468.520312 137.694452 \r\n\" style=\"fill:none;stroke:#000000;stroke-linecap:square;stroke-linejoin:miter;stroke-width:0.8;\"/>\r\n   </g>\r\n   <g id=\"patch_135\">\r\n    <path d=\"M 375.520312 182.069962 \r\nL 468.520312 182.069962 \r\n\" style=\"fill:none;stroke:#000000;stroke-linecap:square;stroke-linejoin:miter;stroke-width:0.8;\"/>\r\n   </g>\r\n   <g id=\"patch_136\">\r\n    <path d=\"M 375.520312 137.694452 \r\nL 468.520312 137.694452 \r\n\" style=\"fill:none;stroke:#000000;stroke-linecap:square;stroke-linejoin:miter;stroke-width:0.8;\"/>\r\n   </g>\r\n   <g id=\"text_47\">\r\n    <!-- Public transport  -->\r\n    <g transform=\"translate(372.726562 131.694452)scale(0.12 -0.12)\">\r\n     <use xlink:href=\"#DejaVuSans-80\"/>\r\n     <use x=\"58.552734\" xlink:href=\"#DejaVuSans-117\"/>\r\n     <use x=\"121.931641\" xlink:href=\"#DejaVuSans-98\"/>\r\n     <use x=\"185.408203\" xlink:href=\"#DejaVuSans-108\"/>\r\n     <use x=\"213.191406\" xlink:href=\"#DejaVuSans-105\"/>\r\n     <use x=\"240.974609\" xlink:href=\"#DejaVuSans-99\"/>\r\n     <use x=\"295.955078\" xlink:href=\"#DejaVuSans-32\"/>\r\n     <use x=\"327.742188\" xlink:href=\"#DejaVuSans-116\"/>\r\n     <use x=\"366.951172\" xlink:href=\"#DejaVuSans-114\"/>\r\n     <use x=\"408.064453\" xlink:href=\"#DejaVuSans-97\"/>\r\n     <use x=\"469.34375\" xlink:href=\"#DejaVuSans-110\"/>\r\n     <use x=\"532.722656\" xlink:href=\"#DejaVuSans-115\"/>\r\n     <use x=\"584.822266\" xlink:href=\"#DejaVuSans-112\"/>\r\n     <use x=\"648.298828\" xlink:href=\"#DejaVuSans-111\"/>\r\n     <use x=\"709.480469\" xlink:href=\"#DejaVuSans-114\"/>\r\n     <use x=\"750.59375\" xlink:href=\"#DejaVuSans-116\"/>\r\n     <use x=\"789.802734\" xlink:href=\"#DejaVuSans-32\"/>\r\n    </g>\r\n   </g>\r\n  </g>\r\n  <g id=\"axes_10\">\r\n   <g id=\"patch_137\">\r\n    <path d=\"M 133.720312 239.758125 \r\nL 226.720312 239.758125 \r\nL 226.720312 195.382615 \r\nL 133.720312 195.382615 \r\nz\r\n\" style=\"fill:#ffffff;\"/>\r\n   </g>\r\n   <g id=\"patch_138\">\r\n    <path clip-path=\"url(#p06f4e96a6f)\" d=\"M 137.947585 239.758125 \r\nL 146.402131 239.758125 \r\nL 146.402131 223.909728 \r\nL 137.947585 223.909728 \r\nz\r\n\" style=\"fill:#1f77b4;\"/>\r\n   </g>\r\n   <g id=\"patch_139\">\r\n    <path clip-path=\"url(#p06f4e96a6f)\" d=\"M 146.402131 239.758125 \r\nL 154.856676 239.758125 \r\nL 154.856676 223.909728 \r\nL 146.402131 223.909728 \r\nz\r\n\" style=\"fill:#1f77b4;\"/>\r\n   </g>\r\n   <g id=\"patch_140\">\r\n    <path clip-path=\"url(#p06f4e96a6f)\" d=\"M 154.856676 239.758125 \r\nL 163.311222 239.758125 \r\nL 163.311222 197.495734 \r\nL 154.856676 197.495734 \r\nz\r\n\" style=\"fill:#1f77b4;\"/>\r\n   </g>\r\n   <g id=\"patch_141\">\r\n    <path clip-path=\"url(#p06f4e96a6f)\" d=\"M 163.311222 239.758125 \r\nL 171.765767 239.758125 \r\nL 171.765767 223.909728 \r\nL 163.311222 223.909728 \r\nz\r\n\" style=\"fill:#1f77b4;\"/>\r\n   </g>\r\n   <g id=\"patch_142\">\r\n    <path clip-path=\"url(#p06f4e96a6f)\" d=\"M 171.765767 239.758125 \r\nL 180.220313 239.758125 \r\nL 180.220313 234.475326 \r\nL 171.765767 234.475326 \r\nz\r\n\" style=\"fill:#1f77b4;\"/>\r\n   </g>\r\n   <g id=\"patch_143\">\r\n    <path clip-path=\"url(#p06f4e96a6f)\" d=\"M 180.220312 239.758125 \r\nL 188.674858 239.758125 \r\nL 188.674858 229.192527 \r\nL 180.220312 229.192527 \r\nz\r\n\" style=\"fill:#1f77b4;\"/>\r\n   </g>\r\n   <g id=\"patch_144\">\r\n    <path clip-path=\"url(#p06f4e96a6f)\" d=\"M 188.674858 239.758125 \r\nL 197.129403 239.758125 \r\nL 197.129403 213.344131 \r\nL 188.674858 213.344131 \r\nz\r\n\" style=\"fill:#1f77b4;\"/>\r\n   </g>\r\n   <g id=\"patch_145\">\r\n    <path clip-path=\"url(#p06f4e96a6f)\" d=\"M 197.129403 239.758125 \r\nL 205.583949 239.758125 \r\nL 205.583949 229.192527 \r\nL 197.129403 229.192527 \r\nz\r\n\" style=\"fill:#1f77b4;\"/>\r\n   </g>\r\n   <g id=\"patch_146\">\r\n    <path clip-path=\"url(#p06f4e96a6f)\" d=\"M 205.583949 239.758125 \r\nL 214.038494 239.758125 \r\nL 214.038494 229.192527 \r\nL 205.583949 229.192527 \r\nz\r\n\" style=\"fill:#1f77b4;\"/>\r\n   </g>\r\n   <g id=\"patch_147\">\r\n    <path clip-path=\"url(#p06f4e96a6f)\" d=\"M 214.038494 239.758125 \r\nL 222.49304 239.758125 \r\nL 222.49304 229.192527 \r\nL 214.038494 229.192527 \r\nz\r\n\" style=\"fill:#1f77b4;\"/>\r\n   </g>\r\n   <g id=\"matplotlib.axis_19\">\r\n    <g id=\"xtick_21\">\r\n     <g id=\"line2d_77\">\r\n      <path clip-path=\"url(#p06f4e96a6f)\" d=\"M 163.507839 239.758125 \r\nL 163.507839 195.382615 \r\n\" style=\"fill:none;stroke:#b0b0b0;stroke-linecap:square;stroke-width:0.8;\"/>\r\n     </g>\r\n     <g id=\"line2d_78\">\r\n      <g>\r\n       <use style=\"stroke:#000000;stroke-width:0.8;\" x=\"163.507839\" xlink:href=\"#m646e142152\" y=\"239.758125\"/>\r\n      </g>\r\n     </g>\r\n     <g id=\"text_48\">\r\n      <!-- 20 -->\r\n      <g transform=\"translate(157.145339 254.356562)scale(0.1 -0.1)\">\r\n       <use xlink:href=\"#DejaVuSans-50\"/>\r\n       <use x=\"63.623047\" xlink:href=\"#DejaVuSans-48\"/>\r\n      </g>\r\n     </g>\r\n    </g>\r\n    <g id=\"xtick_22\">\r\n     <g id=\"line2d_79\">\r\n      <path clip-path=\"url(#p06f4e96a6f)\" d=\"M 202.831306 239.758125 \r\nL 202.831306 195.382615 \r\n\" style=\"fill:none;stroke:#b0b0b0;stroke-linecap:square;stroke-width:0.8;\"/>\r\n     </g>\r\n     <g id=\"line2d_80\">\r\n      <g>\r\n       <use style=\"stroke:#000000;stroke-width:0.8;\" x=\"202.831306\" xlink:href=\"#m646e142152\" y=\"239.758125\"/>\r\n      </g>\r\n     </g>\r\n     <g id=\"text_49\">\r\n      <!-- 40 -->\r\n      <g transform=\"translate(196.468806 254.356562)scale(0.1 -0.1)\">\r\n       <use xlink:href=\"#DejaVuSans-52\"/>\r\n       <use x=\"63.623047\" xlink:href=\"#DejaVuSans-48\"/>\r\n      </g>\r\n     </g>\r\n    </g>\r\n   </g>\r\n   <g id=\"matplotlib.axis_20\">\r\n    <g id=\"ytick_19\">\r\n     <g id=\"line2d_81\">\r\n      <path clip-path=\"url(#p06f4e96a6f)\" d=\"M 133.720312 239.758125 \r\nL 226.720312 239.758125 \r\n\" style=\"fill:none;stroke:#b0b0b0;stroke-linecap:square;stroke-width:0.8;\"/>\r\n     </g>\r\n     <g id=\"line2d_82\">\r\n      <g>\r\n       <use style=\"stroke:#000000;stroke-width:0.8;\" x=\"133.720312\" xlink:href=\"#mb185370718\" y=\"239.758125\"/>\r\n      </g>\r\n     </g>\r\n     <g id=\"text_50\">\r\n      <!-- 0 -->\r\n      <g transform=\"translate(120.357812 243.557344)scale(0.1 -0.1)\">\r\n       <use xlink:href=\"#DejaVuSans-48\"/>\r\n      </g>\r\n     </g>\r\n    </g>\r\n    <g id=\"ytick_20\">\r\n     <g id=\"line2d_83\">\r\n      <path clip-path=\"url(#p06f4e96a6f)\" d=\"M 133.720312 213.344131 \r\nL 226.720312 213.344131 \r\n\" style=\"fill:none;stroke:#b0b0b0;stroke-linecap:square;stroke-width:0.8;\"/>\r\n     </g>\r\n     <g id=\"line2d_84\">\r\n      <g>\r\n       <use style=\"stroke:#000000;stroke-width:0.8;\" x=\"133.720312\" xlink:href=\"#mb185370718\" y=\"213.344131\"/>\r\n      </g>\r\n     </g>\r\n     <g id=\"text_51\">\r\n      <!-- 5 -->\r\n      <g transform=\"translate(120.357812 217.14335)scale(0.1 -0.1)\">\r\n       <use xlink:href=\"#DejaVuSans-53\"/>\r\n      </g>\r\n     </g>\r\n    </g>\r\n   </g>\r\n   <g id=\"patch_148\">\r\n    <path d=\"M 133.720312 239.758125 \r\nL 133.720312 195.382615 \r\n\" style=\"fill:none;stroke:#000000;stroke-linecap:square;stroke-linejoin:miter;stroke-width:0.8;\"/>\r\n   </g>\r\n   <g id=\"patch_149\">\r\n    <path d=\"M 226.720312 239.758125 \r\nL 226.720312 195.382615 \r\n\" style=\"fill:none;stroke:#000000;stroke-linecap:square;stroke-linejoin:miter;stroke-width:0.8;\"/>\r\n   </g>\r\n   <g id=\"patch_150\">\r\n    <path d=\"M 133.720312 239.758125 \r\nL 226.720312 239.758125 \r\n\" style=\"fill:none;stroke:#000000;stroke-linecap:square;stroke-linejoin:miter;stroke-width:0.8;\"/>\r\n   </g>\r\n   <g id=\"patch_151\">\r\n    <path d=\"M 133.720312 195.382615 \r\nL 226.720312 195.382615 \r\n\" style=\"fill:none;stroke:#000000;stroke-linecap:square;stroke-linejoin:miter;stroke-width:0.8;\"/>\r\n   </g>\r\n   <g id=\"text_52\">\r\n    <!-- School  -->\r\n    <g transform=\"translate(158.393437 189.382615)scale(0.12 -0.12)\">\r\n     <defs>\r\n      <path d=\"M 53.515625 70.515625 \r\nL 53.515625 60.890625 \r\nQ 47.90625 63.578125 42.921875 64.890625 \r\nQ 37.9375 66.21875 33.296875 66.21875 \r\nQ 25.25 66.21875 20.875 63.09375 \r\nQ 16.5 59.96875 16.5 54.203125 \r\nQ 16.5 49.359375 19.40625 46.890625 \r\nQ 22.3125 44.4375 30.421875 42.921875 \r\nL 36.375 41.703125 \r\nQ 47.40625 39.59375 52.65625 34.296875 \r\nQ 57.90625 29 57.90625 20.125 \r\nQ 57.90625 9.515625 50.796875 4.046875 \r\nQ 43.703125 -1.421875 29.984375 -1.421875 \r\nQ 24.8125 -1.421875 18.96875 -0.25 \r\nQ 13.140625 0.921875 6.890625 3.21875 \r\nL 6.890625 13.375 \r\nQ 12.890625 10.015625 18.65625 8.296875 \r\nQ 24.421875 6.59375 29.984375 6.59375 \r\nQ 38.421875 6.59375 43.015625 9.90625 \r\nQ 47.609375 13.234375 47.609375 19.390625 \r\nQ 47.609375 24.75 44.3125 27.78125 \r\nQ 41.015625 30.8125 33.5 32.328125 \r\nL 27.484375 33.5 \r\nQ 16.453125 35.6875 11.515625 40.375 \r\nQ 6.59375 45.0625 6.59375 53.421875 \r\nQ 6.59375 63.09375 13.40625 68.65625 \r\nQ 20.21875 74.21875 32.171875 74.21875 \r\nQ 37.3125 74.21875 42.625 73.28125 \r\nQ 47.953125 72.359375 53.515625 70.515625 \r\nz\r\n\" id=\"DejaVuSans-83\"/>\r\n     </defs>\r\n     <use xlink:href=\"#DejaVuSans-83\"/>\r\n     <use x=\"63.476562\" xlink:href=\"#DejaVuSans-99\"/>\r\n     <use x=\"118.457031\" xlink:href=\"#DejaVuSans-104\"/>\r\n     <use x=\"181.835938\" xlink:href=\"#DejaVuSans-111\"/>\r\n     <use x=\"243.017578\" xlink:href=\"#DejaVuSans-111\"/>\r\n     <use x=\"304.199219\" xlink:href=\"#DejaVuSans-108\"/>\r\n     <use x=\"331.982422\" xlink:href=\"#DejaVuSans-32\"/>\r\n    </g>\r\n   </g>\r\n  </g>\r\n  <g id=\"axes_11\">\r\n   <g id=\"patch_152\">\r\n    <path d=\"M 254.620313 239.758125 \r\nL 347.620313 239.758125 \r\nL 347.620313 195.382615 \r\nL 254.620313 195.382615 \r\nz\r\n\" style=\"fill:#ffffff;\"/>\r\n   </g>\r\n   <g id=\"patch_153\">\r\n    <path clip-path=\"url(#pe14e9a488f)\" d=\"M 258.847585 239.758125 \r\nL 267.302131 239.758125 \r\nL 267.302131 233.720641 \r\nL 258.847585 233.720641 \r\nz\r\n\" style=\"fill:#1f77b4;\"/>\r\n   </g>\r\n   <g id=\"patch_154\">\r\n    <path clip-path=\"url(#pe14e9a488f)\" d=\"M 267.302131 239.758125 \r\nL 275.756676 239.758125 \r\nL 275.756676 233.720641 \r\nL 267.302131 233.720641 \r\nz\r\n\" style=\"fill:#1f77b4;\"/>\r\n   </g>\r\n   <g id=\"patch_155\">\r\n    <path clip-path=\"url(#pe14e9a488f)\" d=\"M 275.756676 239.758125 \r\nL 284.211222 239.758125 \r\nL 284.211222 227.683156 \r\nL 275.756676 227.683156 \r\nz\r\n\" style=\"fill:#1f77b4;\"/>\r\n   </g>\r\n   <g id=\"patch_156\">\r\n    <path clip-path=\"url(#pe14e9a488f)\" d=\"M 284.211222 239.758125 \r\nL 292.665767 239.758125 \r\nL 292.665767 209.570703 \r\nL 284.211222 209.570703 \r\nz\r\n\" style=\"fill:#1f77b4;\"/>\r\n   </g>\r\n   <g id=\"patch_157\">\r\n    <path clip-path=\"url(#pe14e9a488f)\" d=\"M 292.665767 239.758125 \r\nL 301.120313 239.758125 \r\nL 301.120313 221.645672 \r\nL 292.665767 221.645672 \r\nz\r\n\" style=\"fill:#1f77b4;\"/>\r\n   </g>\r\n   <g id=\"patch_158\">\r\n    <path clip-path=\"url(#pe14e9a488f)\" d=\"M 301.120313 239.758125 \r\nL 309.574858 239.758125 \r\nL 309.574858 215.608187 \r\nL 301.120313 215.608187 \r\nz\r\n\" style=\"fill:#1f77b4;\"/>\r\n   </g>\r\n   <g id=\"patch_159\">\r\n    <path clip-path=\"url(#pe14e9a488f)\" d=\"M 309.574858 239.758125 \r\nL 318.029403 239.758125 \r\nL 318.029403 215.608187 \r\nL 309.574858 215.608187 \r\nz\r\n\" style=\"fill:#1f77b4;\"/>\r\n   </g>\r\n   <g id=\"patch_160\">\r\n    <path clip-path=\"url(#pe14e9a488f)\" d=\"M 318.029403 239.758125 \r\nL 326.483949 239.758125 \r\nL 326.483949 197.495734 \r\nL 318.029403 197.495734 \r\nz\r\n\" style=\"fill:#1f77b4;\"/>\r\n   </g>\r\n   <g id=\"patch_161\">\r\n    <path clip-path=\"url(#pe14e9a488f)\" d=\"M 326.483949 239.758125 \r\nL 334.938494 239.758125 \r\nL 334.938494 221.645672 \r\nL 326.483949 221.645672 \r\nz\r\n\" style=\"fill:#1f77b4;\"/>\r\n   </g>\r\n   <g id=\"patch_162\">\r\n    <path clip-path=\"url(#pe14e9a488f)\" d=\"M 334.938494 239.758125 \r\nL 343.39304 239.758125 \r\nL 343.39304 233.720641 \r\nL 334.938494 233.720641 \r\nz\r\n\" style=\"fill:#1f77b4;\"/>\r\n   </g>\r\n   <g id=\"matplotlib.axis_21\">\r\n    <g id=\"xtick_23\">\r\n     <g id=\"line2d_85\">\r\n      <path clip-path=\"url(#pe14e9a488f)\" d=\"M 276.83598 239.758125 \r\nL 276.83598 195.382615 \r\n\" style=\"fill:none;stroke:#b0b0b0;stroke-linecap:square;stroke-width:0.8;\"/>\r\n     </g>\r\n     <g id=\"line2d_86\">\r\n      <g>\r\n       <use style=\"stroke:#000000;stroke-width:0.8;\" x=\"276.83598\" xlink:href=\"#m646e142152\" y=\"239.758125\"/>\r\n      </g>\r\n     </g>\r\n     <g id=\"text_53\">\r\n      <!-- 20 -->\r\n      <g transform=\"translate(270.47348 254.356562)scale(0.1 -0.1)\">\r\n       <use xlink:href=\"#DejaVuSans-50\"/>\r\n       <use x=\"63.623047\" xlink:href=\"#DejaVuSans-48\"/>\r\n      </g>\r\n     </g>\r\n    </g>\r\n    <g id=\"xtick_24\">\r\n     <g id=\"line2d_87\">\r\n      <path clip-path=\"url(#pe14e9a488f)\" d=\"M 312.812769 239.758125 \r\nL 312.812769 195.382615 \r\n\" style=\"fill:none;stroke:#b0b0b0;stroke-linecap:square;stroke-width:0.8;\"/>\r\n     </g>\r\n     <g id=\"line2d_88\">\r\n      <g>\r\n       <use style=\"stroke:#000000;stroke-width:0.8;\" x=\"312.812769\" xlink:href=\"#m646e142152\" y=\"239.758125\"/>\r\n      </g>\r\n     </g>\r\n     <g id=\"text_54\">\r\n      <!-- 40 -->\r\n      <g transform=\"translate(306.450269 254.356562)scale(0.1 -0.1)\">\r\n       <use xlink:href=\"#DejaVuSans-52\"/>\r\n       <use x=\"63.623047\" xlink:href=\"#DejaVuSans-48\"/>\r\n      </g>\r\n     </g>\r\n    </g>\r\n   </g>\r\n   <g id=\"matplotlib.axis_22\">\r\n    <g id=\"ytick_21\">\r\n     <g id=\"line2d_89\">\r\n      <path clip-path=\"url(#pe14e9a488f)\" d=\"M 254.620313 239.758125 \r\nL 347.620313 239.758125 \r\n\" style=\"fill:none;stroke:#b0b0b0;stroke-linecap:square;stroke-width:0.8;\"/>\r\n     </g>\r\n     <g id=\"line2d_90\">\r\n      <g>\r\n       <use style=\"stroke:#000000;stroke-width:0.8;\" x=\"254.620313\" xlink:href=\"#mb185370718\" y=\"239.758125\"/>\r\n      </g>\r\n     </g>\r\n     <g id=\"text_55\">\r\n      <!-- 0 -->\r\n      <g transform=\"translate(241.257812 243.557344)scale(0.1 -0.1)\">\r\n       <use xlink:href=\"#DejaVuSans-48\"/>\r\n      </g>\r\n     </g>\r\n    </g>\r\n    <g id=\"ytick_22\">\r\n     <g id=\"line2d_91\">\r\n      <path clip-path=\"url(#pe14e9a488f)\" d=\"M 254.620313 209.570703 \r\nL 347.620313 209.570703 \r\n\" style=\"fill:none;stroke:#b0b0b0;stroke-linecap:square;stroke-width:0.8;\"/>\r\n     </g>\r\n     <g id=\"line2d_92\">\r\n      <g>\r\n       <use style=\"stroke:#000000;stroke-width:0.8;\" x=\"254.620313\" xlink:href=\"#mb185370718\" y=\"209.570703\"/>\r\n      </g>\r\n     </g>\r\n     <g id=\"text_56\">\r\n      <!-- 5 -->\r\n      <g transform=\"translate(241.257812 213.369922)scale(0.1 -0.1)\">\r\n       <use xlink:href=\"#DejaVuSans-53\"/>\r\n      </g>\r\n     </g>\r\n    </g>\r\n   </g>\r\n   <g id=\"patch_163\">\r\n    <path d=\"M 254.620313 239.758125 \r\nL 254.620313 195.382615 \r\n\" style=\"fill:none;stroke:#000000;stroke-linecap:square;stroke-linejoin:miter;stroke-width:0.8;\"/>\r\n   </g>\r\n   <g id=\"patch_164\">\r\n    <path d=\"M 347.620313 239.758125 \r\nL 347.620313 195.382615 \r\n\" style=\"fill:none;stroke:#000000;stroke-linecap:square;stroke-linejoin:miter;stroke-width:0.8;\"/>\r\n   </g>\r\n   <g id=\"patch_165\">\r\n    <path d=\"M 254.620313 239.758125 \r\nL 347.620313 239.758125 \r\n\" style=\"fill:none;stroke:#000000;stroke-linecap:square;stroke-linejoin:miter;stroke-width:0.8;\"/>\r\n   </g>\r\n   <g id=\"patch_166\">\r\n    <path d=\"M 254.620313 195.382615 \r\nL 347.620313 195.382615 \r\n\" style=\"fill:none;stroke:#000000;stroke-linecap:square;stroke-linejoin:miter;stroke-width:0.8;\"/>\r\n   </g>\r\n   <g id=\"text_57\">\r\n    <!-- Workplace  -->\r\n    <g transform=\"translate(267.8775 189.382615)scale(0.12 -0.12)\">\r\n     <defs>\r\n      <path d=\"M 3.328125 72.90625 \r\nL 13.28125 72.90625 \r\nL 28.609375 11.28125 \r\nL 43.890625 72.90625 \r\nL 54.984375 72.90625 \r\nL 70.3125 11.28125 \r\nL 85.59375 72.90625 \r\nL 95.609375 72.90625 \r\nL 77.296875 0 \r\nL 64.890625 0 \r\nL 49.515625 63.28125 \r\nL 33.984375 0 \r\nL 21.578125 0 \r\nz\r\n\" id=\"DejaVuSans-87\"/>\r\n     </defs>\r\n     <use xlink:href=\"#DejaVuSans-87\"/>\r\n     <use x=\"93.001953\" xlink:href=\"#DejaVuSans-111\"/>\r\n     <use x=\"154.183594\" xlink:href=\"#DejaVuSans-114\"/>\r\n     <use x=\"195.296875\" xlink:href=\"#DejaVuSans-107\"/>\r\n     <use x=\"253.207031\" xlink:href=\"#DejaVuSans-112\"/>\r\n     <use x=\"316.683594\" xlink:href=\"#DejaVuSans-108\"/>\r\n     <use x=\"344.466797\" xlink:href=\"#DejaVuSans-97\"/>\r\n     <use x=\"405.746094\" xlink:href=\"#DejaVuSans-99\"/>\r\n     <use x=\"460.726562\" xlink:href=\"#DejaVuSans-101\"/>\r\n     <use x=\"522.25\" xlink:href=\"#DejaVuSans-32\"/>\r\n    </g>\r\n   </g>\r\n  </g>\r\n </g>\r\n <defs>\r\n  <clipPath id=\"p91a9310e16\">\r\n   <rect height=\"44.37551\" width=\"93\" x=\"133.720312\" y=\"22.318125\"/>\r\n  </clipPath>\r\n  <clipPath id=\"p39aae3fc44\">\r\n   <rect height=\"44.37551\" width=\"93\" x=\"254.620313\" y=\"22.318125\"/>\r\n  </clipPath>\r\n  <clipPath id=\"p02ab6fb2a6\">\r\n   <rect height=\"44.37551\" width=\"93\" x=\"375.520312\" y=\"22.318125\"/>\r\n  </clipPath>\r\n  <clipPath id=\"p8c27a768bd\">\r\n   <rect height=\"44.37551\" width=\"93\" x=\"133.720312\" y=\"80.006288\"/>\r\n  </clipPath>\r\n  <clipPath id=\"pfe768bdeae\">\r\n   <rect height=\"44.37551\" width=\"93\" x=\"254.620313\" y=\"80.006288\"/>\r\n  </clipPath>\r\n  <clipPath id=\"pf817ea3816\">\r\n   <rect height=\"44.37551\" width=\"93\" x=\"375.520312\" y=\"80.006288\"/>\r\n  </clipPath>\r\n  <clipPath id=\"p765b1654ce\">\r\n   <rect height=\"44.37551\" width=\"93\" x=\"133.720312\" y=\"137.694452\"/>\r\n  </clipPath>\r\n  <clipPath id=\"pb0066bde31\">\r\n   <rect height=\"44.37551\" width=\"93\" x=\"254.620313\" y=\"137.694452\"/>\r\n  </clipPath>\r\n  <clipPath id=\"pea5b686e8c\">\r\n   <rect height=\"44.37551\" width=\"93\" x=\"375.520312\" y=\"137.694452\"/>\r\n  </clipPath>\r\n  <clipPath id=\"p06f4e96a6f\">\r\n   <rect height=\"44.37551\" width=\"93\" x=\"133.720312\" y=\"195.382615\"/>\r\n  </clipPath>\r\n  <clipPath id=\"pe14e9a488f\">\r\n   <rect height=\"44.37551\" width=\"93\" x=\"254.620313\" y=\"195.382615\"/>\r\n  </clipPath>\r\n </defs>\r\n</svg>\r\n",
      "image/png": "[encoded data removed]"
     },
     "metadata": {
      "needs_background": "light"
     }
    }
   ],
   "source": [
    "table_paises.hist()"
   ]
  },
  {
   "cell_type": "code",
   "execution_count": 59,
   "metadata": {},
   "outputs": [
    {
     "output_type": "execute_result",
     "data": {
      "text/plain": [
       "                            13   \n",
       "                                                   Other                                                  15   \n",
       "                                                   Public premises or buildings                           43   \n",
       "                                                   Public transport                                       57   \n",
       "                                                   School                                                 21   \n",
       "                                                   Workplace                                              34   \n",
       "\n",
       "CountryCode                                                                                            Estonia  \\\n",
       "question_label                                     answer                                                        \n",
       "Where do you avoid being open about yourself as... A cafe, restaurant, pub, club                            50   \n",
       "                                                   Around my family                                         41   \n",
       "                                                   Dont Know                                                 6   \n",
       "                                                   In a healthcare setting (hospital or other medi...       32   \n",
       "                                                   In the street, a square, park, car park or othe...       67   \n",
       "                                                   My home                                                  24   \n",
       "                                                   Other                                                    11   \n",
       "                                                   Public premises or buildings                             53   \n",
       "                                                   Public transport                                         61   \n",
       "                                                   School                                                   37   \n",
       "                                                   Workplace                                                41   \n",
       "\n",
       "CountryCode                                                                                            Finland  \\\n",
       "question_label                                     answer                                                        \n",
       "Where do you avoid being open about yourself as... A cafe, restaurant, pub, club                            45   \n",
       "                                                   Around my family                                         17   \n",
       "                                                   Dont Know                                                16   \n",
       "                                                   In a healthcare setting (hospital or other medi...       17   \n",
       "                                                   In the street, a square, park, car park or othe...       55   \n",
       "                                                   My home                                                   6   \n",
       "                                                   Other                                                    14   \n",
       "                                                   Public premises or buildings                             25   \n",
       "                                                   Public transport                                         43   \n",
       "                                                   School                                                   15   \n",
       "                                                   Workplace                                                27   \n",
       "\n",
       "CountryCode                                                                                            ...  \\\n",
       "question_label                                     answer                                              ...   \n",
       "Where do you avoid being open about yourself as... A cafe, restaurant, pub, club                       ...   \n",
       "                                                   Around my family                                    ...   \n",
       "                                                   Dont Know                                           ...   \n",
       "                                                   In a healthcare setting (hospital or other medi...  ...   \n",
       "                                                   In the street, a square, park, car park or othe...  ...   \n",
       "                                                   My home                                             ...   \n",
       "                                                   Other                                               ...   \n",
       "                                                   Public premises or buildings                        ...   \n",
       "                                                   Public transport                                    ...   \n",
       "                                                   School                                              ...   \n",
       "                                                   Workplace                                           ...   \n",
       "\n",
       "CountryCode                                                                                            North Macedonia  \\\n",
       "question_label                                     answer                                                                \n",
       "Where do you avoid being open about yourself as... A cafe, restaurant, pub, club                                    57   \n",
       "                                                   Around my family                                                 60   \n",
       "                                                   Dont Know                                                         7   \n",
       "                                                   In a healthcare setting (hospital or other medi...               49   \n",
       "                                                   In the street, a square, park, car park or othe...               68   \n",
       "                                                   My home                                                          41   \n",
       "                                                   Other                                                            20   \n",
       "                                                   Public premises or buildings                                     61   \n",
       "                                                   Public transport                                                 64   \n",
       "                                                   School                                                           50   \n",
       "                                                   Workplace                                                        49   \n",
       "\n",
       "CountryCode                                                                                            Poland  \\\n",
       "question_label                                     answer                                                       \n",
       "Where do you avoid being open about yourself as... A cafe, restaurant, pub, club                           51   \n",
       "                                                   Around my family                                        41   \n",
       "                                                   Dont Know                                                5   \n",
       "                                                   In a healthcare setting (hospital or other medi...      51   \n",
       "                                                   In the street, a square, park, car park or othe...      72   \n",
       "                                                   My home                                                 19   \n",
       "                                                   Other                                                   15   \n",
       "                                                   Public premises or buildings                            62   \n",
       "                                                   Public transport                                        73   \n",
       "                                                   School                                                  32   \n",
       "                                                   Workplace                                               46   \n",
       "\n",
       "CountryCode                                                                                            Portugal  \\\n",
       "question_label                                     answer                                                         \n",
       "Where do you avoid being open about yourself as... A cafe, restaurant, pub, club                             32   \n",
       "                                                   Around my family                                          42   \n",
       "                                                   Dont Know                                                 15   \n",
       "                                                   In a healthcare setting (hospital or other medi...        25   \n",
       "                                                   In the street, a square, park, car park or othe...        37   \n",
       "                                                   My home                                                   19   \n",
       "                                                   Other                                                      9   \n",
       "                                                   Public premises or buildings                              31   \n",
       "                                                   Public transport                                          42   \n",
       "                                                   School                                                    19   \n",
       "                                                   Workplace                                                 43   \n",
       "\n",
       "CountryCode                                                                                            Romania  \\\n",
       "question_label                                     answer                                                        \n",
       "Where do you avoid being open about yourself as... A cafe, restaurant, pub, club                            54   \n",
       "                                                   Around my family                                         55   \n",
       "                                                   Dont Know                                                 6   \n",
       "                                                   In a healthcare setting (hospital or other medi...       54   \n",
       "                                                   In the street, a square, park, car park or othe...       70   \n",
       "                                                   My home                                                  23   \n",
       "                                                   Other                                                    12   \n",
       "                                                   Public premises or buildings                             63   \n",
       "                                                   Public transport                                         68   \n",
       "                                                   School                                                   42   \n",
       "                                                   Workplace                                                50   \n",
       "\n",
       "CountryCode                                                                                            Serbia  \\\n",
       "question_label                                     answer                                                       \n",
       "Where do you avoid being open about yourself as... A cafe, restaurant, pub, club                           49   \n",
       "                                                   Around my family                                        49   \n",
       "                                                   Dont Know                                                6   \n",
       "                                                   In a healthcare setting (hospital or other medi...      41   \n",
       "                                                   In the street, a square, park, car park or othe...      59   \n",
       "                                                   My home                                                 34   \n",
       "                                                   Other                                                   15   \n",
       "                                                   Public premises or buildings                            59   \n",
       "                                                   Public transport                                        63   \n",
       "                                                   School                                                  34   \n",
       "                                                   Workplace                                               47   \n",
       "\n",
       "CountryCode                                                                                            Slovakia  \\\n",
       "question_label                                     answer                                                         \n",
       "Where do you avoid being open about yourself as... A cafe, restaurant, pub, club                             54   \n",
       "                                                   Around my family                                          39   \n",
       "                                                   Dont Know                                                  6   \n",
       "                                                   In a healthcare setting (hospital or other medi...        46   \n",
       "                                                   In the street, a square, park, car park or othe...        64   \n",
       "                                                   My home                                                   17   \n",
       "                                                   Other                                                      9   \n",
       "                                                   Public premises or buildings                              56   \n",
       "                                                   Public transport                                          61   \n",
       "                                                   School                                                    33   \n",
       "                                                   Workplace                                                 42   \n",
       "\n",
       "CountryCode                                                                                            Slovenia  \\\n",
       "question_label                                     answer                                                         \n",
       "Where do you avoid being open about yourself as... A cafe, restaurant, pub, club                             38   \n",
       "                                                   Around my family                                          37   \n",
       "                                                   Dont Know                                                  7   \n",
       "                                                   In a healthcare setting (hospital or other medi...        29   \n",
       "                                                   In the street, a square, park, car park or othe...        54   \n",
       "                                                   My home                                                   24   \n",
       "                                                   Other                                                     11   \n",
       "                                                   Public premises or buildings                              41   \n",
       "                                                   Public transport                                          51   \n",
       "                                                   School                                                    27   \n",
       "                                                   Workplace                                                 41   \n",
       "\n",
       "CountryCode                                                                                            Spain  \\\n",
       "question_label                                     answer                                                      \n",
       "Where do you avoid being open about yourself as... A cafe, restaurant, pub, club                          32   \n",
       "                                                   Around my family                                       24   \n",
       "                                                   Dont Know                                              15   \n",
       "                                                   In a healthcare setting (hospital or other medi...     17   \n",
       "                                                   In the street, a square, park, car park or othe...     47   \n",
       "                                                   My home                                                12   \n",
       "                                                   Other                                                  21   \n",
       "                                                   Public premises or buildings                           26   \n",
       "                                                   Public transport                                       40   \n",
       "                                                   School                                                 15   \n",
       "                                                   Workplace                                              27   \n",
       "\n",
       "CountryCode                                                                                            Sweden  \\\n",
       "question_label                                     answer                                                       \n",
       "Where do you avoid being open about yourself as... A cafe, restaurant, pub, club                           33   \n",
       "                                                   Around my family                                        14   \n",
       "                                                   Dont Know                                               12   \n",
       "                                                   In a healthcare setting (hospital or other medi...      17   \n",
       "                                                   In the street, a square, park, car park or othe...      60   \n",
       "                                                   My home                                                  5   \n",
       "                                                   Other                                                   18   \n",
       "                                                   Public premises or buildings                            31   \n",
       "                                                   Public transport                                        48   \n",
       "                                                   School                                                  11   \n",
       "                                                   Workplace                                               23   \n",
       "\n",
       "CountryCode                                                                                            United Kingdom  \n",
       "question_label                                     answer                                                              \n",
       "Where do you avoid being open about yourself as... A cafe, restaurant, pub, club                                   42  \n",
       "                                                   Around my family                                                25  \n",
       "                                                   Dont Know                                                        9  \n",
       "                                                   In a healthcare setting (hospital or other medi...              20  \n",
       "                                                   In the street, a square, park, car park or othe...              63  \n",
       "                                                   My home                                                         12  \n",
       "                                                   Other                                                           13  \n",
       "                                                   Public premises or buildings                                    42  \n",
       "                                                   Public transport                                                62  \n",
       "                                                   School                                                          17  \n",
       "                                                   Workplace                                                       25  \n",
       "\n",
       "[11 rows x 31 columns]"
      ],
      "text/html": "<div>\n<style scoped>\n    .dataframe tbody tr th:only-of-type {\n        vertical-align: middle;\n    }\n\n    .dataframe tbody tr th {\n        vertical-align: top;\n    }\n\n    .dataframe thead th {\n        text-align: right;\n    }\n</style>\n<table border=\"1\" class=\"dataframe\">\n  <thead>\n    <tr style=\"text-align: right;\">\n      <th></th>\n      <th>CountryCode</th>\n      <th>Austria</th>\n      <th>Belgium</th>\n      <th>Bulgaria</th>\n      <th>Croatia</th>\n      <th>Cyprus</th>\n      <th>Czechia</th>\n      <th>Denmark</th>\n      <th>EU-28</th>\n      <th>Estonia</th>\n      <th>Finland</th>\n      <th>...</th>\n      <th>North Macedonia</th>\n      <th>Poland</th>\n      <th>Portugal</th>\n      <th>Romania</th>\n      <th>Serbia</th>\n      <th>Slovakia</th>\n      <th>Slovenia</th>\n      <th>Spain</th>\n      <th>Sweden</th>\n      <th>United Kingdom</th>\n    </tr>\n    <tr>\n      <th>question_label</th>\n      <th>answer</th>\n      <th></th>\n      <th></th>\n      <th></th>\n      <th></th>\n      <th></th>\n      <th></th>\n      <th></th>\n      <th></th>\n      <th></th>\n      <th></th>\n      <th></th>\n      <th></th>\n      <th></th>\n      <th></th>\n      <th></th>\n      <th></th>\n      <th></th>\n      <th></th>\n      <th></th>\n      <th></th>\n      <th></th>\n    </tr>\n  </thead>\n  <tbody>\n    <tr>\n      <th rowspan=\"11\" valign=\"top\">Where do you avoid being open about yourself as LGBTI for fear of being assaulted, threatened or harassed by others?</th>\n      <th>A cafe, restaurant, pub, club</th>\n      <td>35</td>\n      <td>37</td>\n      <td>53</td>\n      <td>64</td>\n      <td>59</td>\n      <td>34</td>\n      <td>32</td>\n      <td>39</td>\n      <td>50</td>\n      <td>45</td>\n      <td>...</td>\n      <td>57</td>\n      <td>51</td>\n      <td>32</td>\n      <td>54</td>\n      <td>49</td>\n      <td>54</td>\n      <td>38</td>\n      <td>32</td>\n      <td>33</td>\n      <td>42</td>\n    </tr>\n    <tr>\n      <th>Around my family</th>\n      <td>26</td>\n      <td>21</td>\n      <td>46</td>\n      <td>41</td>\n      <td>55</td>\n      <td>29</td>\n      <td>8</td>\n      <td>29</td>\n      <td>41</td>\n      <td>17</td>\n      <td>...</td>\n      <td>60</td>\n      <td>41</td>\n      <td>42</td>\n      <td>55</td>\n      <td>49</td>\n      <td>39</td>\n      <td>37</td>\n      <td>24</td>\n      <td>14</td>\n      <td>25</td>\n    </tr>\n    <tr>\n      <th>Dont Know</th>\n      <td>10</td>\n      <td>8</td>\n      <td>7</td>\n      <td>4</td>\n      <td>7</td>\n      <td>13</td>\n      <td>23</td>\n      <td>9</td>\n      <td>6</td>\n      <td>16</td>\n      <td>...</td>\n      <td>7</td>\n      <td>5</td>\n      <td>15</td>\n      <td>6</td>\n      <td>6</td>\n      <td>6</td>\n      <td>7</td>\n      <td>15</td>\n      <td>12</td>\n      <td>9</td>\n    </tr>\n    <tr>\n      <th>In a healthcare setting (hospital or other medical service)</th>\n      <td>22</td>\n      <td>17</td>\n      <td>42</td>\n      <td>47</td>\n      <td>41</td>\n      <td>26</td>\n      <td>6</td>\n      <td>27</td>\n      <td>32</td>\n      <td>17</td>\n      <td>...</td>\n      <td>49</td>\n      <td>51</td>\n      <td>25</td>\n      <td>54</td>\n      <td>41</td>\n      <td>46</td>\n      <td>29</td>\n      <td>17</td>\n      <td>17</td>\n      <td>20</td>\n    </tr>\n    <tr>\n      <th>In the street, a square, park, car park or other public place</th>\n      <td>49</td>\n      <td>71</td>\n      <td>61</td>\n      <td>74</td>\n      <td>61</td>\n      <td>46</td>\n      <td>45</td>\n      <td>58</td>\n      <td>67</td>\n      <td>55</td>\n      <td>...</td>\n      <td>68</td>\n      <td>72</td>\n      <td>37</td>\n      <td>70</td>\n      <td>59</td>\n      <td>64</td>\n      <td>54</td>\n      <td>47</td>\n      <td>60</td>\n      <td>63</td>\n    </tr>\n    <tr>\n      <th>My home</th>\n      <td>8</td>\n      <td>6</td>\n      <td>27</td>\n      <td>25</td>\n      <td>31</td>\n      <td>8</td>\n      <td>2</td>\n      <td>13</td>\n      <td>24</td>\n      <td>6</td>\n      <td>...</td>\n      <td>41</td>\n      <td>19</td>\n      <td>19</td>\n      <td>23</td>\n      <td>34</td>\n      <td>17</td>\n      <td>24</td>\n      <td>12</td>\n      <td>5</td>\n      <td>12</td>\n    </tr>\n    <tr>\n      <th>Other</th>\n      <td>18</td>\n      <td>14</td>\n      <td>10</td>\n      <td>10</td>\n      <td>11</td>\n      <td>11</td>\n      <td>16</td>\n      <td>15</td>\n      <td>11</td>\n      <td>14</td>\n      <td>...</td>\n      <td>20</td>\n      <td>15</td>\n      <td>9</td>\n      <td>12</td>\n      <td>15</td>\n      <td>9</td>\n      <td>11</td>\n      <td>21</td>\n      <td>18</td>\n      <td>13</td>\n    </tr>\n    <tr>\n      <th>Public premises or buildings</th>\n      <td>41</td>\n      <td>41</td>\n      <td>55</td>\n      <td>67</td>\n      <td>63</td>\n      <td>36</td>\n      <td>23</td>\n      <td>43</td>\n      <td>53</td>\n      <td>25</td>\n      <td>...</td>\n      <td>61</td>\n      <td>62</td>\n      <td>31</td>\n      <td>63</td>\n      <td>59</td>\n      <td>56</td>\n      <td>41</td>\n      <td>26</td>\n      <td>31</td>\n      <td>42</td>\n    </tr>\n    <tr>\n      <th>Public transport</th>\n      <td>49</td>\n      <td>62</td>\n      <td>60</td>\n      <td>71</td>\n      <td>51</td>\n      <td>42</td>\n      <td>23</td>\n      <td>57</td>\n      <td>61</td>\n      <td>43</td>\n      <td>...</td>\n      <td>64</td>\n      <td>73</td>\n      <td>42</td>\n      <td>68</td>\n      <td>63</td>\n      <td>61</td>\n      <td>51</td>\n      <td>40</td>\n      <td>48</td>\n      <td>62</td>\n    </tr>\n    <tr>\n      <th>School</th>\n      <td>16</td>\n      <td>15</td>\n      <td>40</td>\n      <td>37</td>\n      <td>41</td>\n      <td>19</td>\n      <td>7</td>\n      <td>21</td>\n      <td>37</td>\n      <td>15</td>\n      <td>...</td>\n      <td>50</td>\n      <td>32</td>\n      <td>19</td>\n      <td>42</td>\n      <td>34</td>\n      <td>33</td>\n      <td>27</td>\n      <td>15</td>\n      <td>11</td>\n      <td>17</td>\n    </tr>\n    <tr>\n      <th>Workplace</th>\n      <td>34</td>\n      <td>24</td>\n      <td>47</td>\n      <td>46</td>\n      <td>57</td>\n      <td>28</td>\n      <td>10</td>\n      <td>34</td>\n      <td>41</td>\n      <td>27</td>\n      <td>...</td>\n      <td>49</td>\n      <td>46</td>\n      <td>43</td>\n      <td>50</td>\n      <td>47</td>\n      <td>42</td>\n      <td>41</td>\n      <td>27</td>\n      <td>23</td>\n      <td>25</td>\n    </tr>\n  </tbody>\n</table>\n<p>11 rows × 31 columns</p>\n</div>"
     },
     "metadata": {},
     "execution_count": 59
    }
   ],
   "source": [
    "m =table_paises.T\n",
    "m"
   ]
  },
  {
   "cell_type": "code",
   "execution_count": 72,
   "metadata": {},
   "outputs": [
    {
     "output_type": "execute_result",
     "data": {
      "text/plain": [
       "answer      CountryCode  A cafe, restaurant, pub, club  Around my family   \\\n",
       "0               Austria                             35                 26   \n",
       "1               Belgium                             37                 21   \n",
       "2              Bulgaria                             53                 46   \n",
       "3               Croatia                             64                 41   \n",
       "4                Cyprus                             59                 55   \n",
       "5               Czechia                             34                 29   \n",
       "6               Denmark                             32                  8   \n",
       "7                 EU-28                             39                 29   \n",
       "8               Estonia                             50                 41   \n",
       "9               Finland                             45                 17   \n",
       "10               France                             41                 26   \n",
       "11              Germany                             30                 22   \n",
       "12               Greece                             40                 51   \n",
       "13              Hungary                             47                 30   \n",
       "14              Ireland                             35                 25   \n",
       "15                Italy                             29                 33   \n",
       "16               Latvia                             52                 43   \n",
       "17            Lithuania                             50                 50   \n",
       "18           Luxembourg                             31                 29   \n",
       "19                Malta                             34                 35   \n",
       "20          Netherlands                             40                 15   \n",
       "21      North Macedonia                             57                 60   \n",
       "22               Poland                             51                 41   \n",
       "23             Portugal                             32                 42   \n",
       "24              Romania                             54                 55   \n",
       "25               Serbia                             49                 49   \n",
       "26             Slovakia                             54                 39   \n",
       "27             Slovenia                             38                 37   \n",
       "28                Spain                             32                 24   \n",
       "29               Sweden                             33                 14   \n",
       "30       United Kingdom                             42                 25   \n",
       "\n",
       "answer  Dont Know   \\\n",
       "0               10   \n",
       "1                8   \n",
       "2                7   \n",
       "3                4   \n",
       "4                7   \n",
       "5               13   \n",
       "6               23   \n",
       "7                9   \n",
       "8                6   \n",
       "9               16   \n",
       "10               6   \n",
       "11              10   \n",
       "12               5   \n",
       "13               6   \n",
       "14               9   \n",
       "15              13   \n",
       "16               5   \n",
       "17               7   \n",
       "18              12   \n",
       "19              12   \n",
       "20              13   \n",
       "21               7   \n",
       "22               5   \n",
       "23              15   \n",
       "24               6   \n",
       "25               6   \n",
       "26               6   \n",
       "27               7   \n",
       "28              15   \n",
       "29              12   \n",
       "30               9   \n",
       "\n",
       "answer  In a healthcare setting (hospital or other medical service)  \\\n",
       "0                                                      22             \n",
       "1                                                      17             \n",
       "2                                                      42             \n",
       "3                                                      47             \n",
       "4                                                      41             \n",
       "5                                                      26             \n",
       "6                                                       6             \n",
       "7                                                      27             \n",
       "8                                                      32             \n",
       "9                                                      17             \n",
       "10                                                     26             \n",
       "11                                                     20             \n",
       "12                                                     34             \n",
       "13                                                     46             \n",
       "14                                                     16             \n",
       "15                                                     21             \n",
       "16                                                     42             \n",
       "17                                                     43             \n",
       "18                                                     19             \n",
       "19                                                     24             \n",
       "20                                                     10             \n",
       "21                                                     49             \n",
       "22                                                     51             \n",
       "23                                                     25             \n",
       "24                                                     54             \n",
       "25                                                     41             \n",
       "26                                                     46             \n",
       "27                                                     29             \n",
       "28                                                     17             \n",
       "29                                                     17             \n",
       "30                                                     20             \n",
       "\n",
       "answer  In the street, a square, park, car park or other public place  \\\n",
       "0                                                      49               \n",
       "1                                                      71               \n",
       "2                                                      61               \n",
       "3                                                      74               \n",
       "4                                                      61               \n",
       "5                                                      46               \n",
       "6                                                      45               \n",
       "7                                                      58               \n",
       "8                                                      67               \n",
       "9                                                      55               \n",
       "10                                                     70               \n",
       "11                                                     53               \n",
       "12                                                     54               \n",
       "13                                                     62               \n",
       "14                                                     57               \n",
       "15                                                     42               \n",
       "16                                                     66               \n",
       "17                                                     64               \n",
       "18                                                     52               \n",
       "19                                                     46               \n",
       "20                                                     61               \n",
       "21                                                     68               \n",
       "22                                                     72               \n",
       "23                                                     37               \n",
       "24                                                     70               \n",
       "25                                                     59               \n",
       "26                                                     64               \n",
       "27                                                     54               \n",
       "28                                                     47               \n",
       "29                                                     60               \n",
       "30                                                     63               \n",
       "\n",
       "answer  My home   Other   Public premises or buildings  Public transport   \\\n",
       "0              8      18                            41                 49   \n",
       "1              6      14                            41                 62   \n",
       "2             27      10                            55                 60   \n",
       "3             25      10                            67                 71   \n",
       "4             31      11                            63                 51   \n",
       "5              8      11                            36                 42   \n",
       "6              2      16                            23                 23   \n",
       "7             13      15                            43                 57   \n",
       "8             24      11                            53                 61   \n",
       "9              6      14                            25                 43   \n",
       "10             7      11                            49                 72   \n",
       "11             8      20                            39                 54   \n",
       "12            22       8                            54                 55   \n",
       "13            18      11                            55                 62   \n",
       "14            14      12                            37                 53   \n",
       "15            18      13                            34                 42   \n",
       "16            25       9                            59                 64   \n",
       "17            31      12                            57                 64   \n",
       "18            12      21                            33                 45   \n",
       "19            21      15                            42                 40   \n",
       "20             4      17                            37                 47   \n",
       "21            41      20                            61                 64   \n",
       "22            19      15                            62                 73   \n",
       "23            19       9                            31                 42   \n",
       "24            23      12                            63                 68   \n",
       "25            34      15                            59                 63   \n",
       "26            17       9                            56                 61   \n",
       "27            24      11                            41                 51   \n",
       "28            12      21                            26                 40   \n",
       "29             5      18                            31                 48   \n",
       "30            12      13                            42                 62   \n",
       "\n",
       "answer  School   Workplace   \n",
       "0            16          34  \n",
       "1            15          24  \n",
       "2            40          47  \n",
       "3            37          46  \n",
       "4            41          57  \n",
       "5            19          28  \n",
       "6             7          10  \n",
       "7            21          34  \n",
       "8            37          41  \n",
       "9            15          27  \n",
       "10           20          39  \n",
       "11           16          30  \n",
       "12           34          48  \n",
       "13           31          45  \n",
       "14           18          26  \n",
       "15           18          37  \n",
       "16           42          46  \n",
       "17           48          37  \n",
       "18           17          29  \n",
       "19           22          33  \n",
       "20           10          18  \n",
       "21           50          49  \n",
       "22           32          46  \n",
       "23           19          43  \n",
       "24           42          50  \n",
       "25           34          47  \n",
       "26           33          42  \n",
       "27           27          41  \n",
       "28           15          27  \n",
       "29           11          23  \n",
       "30           17          25  "
      ],
      "text/html": "<div>\n<style scoped>\n    .dataframe tbody tr th:only-of-type {\n        vertical-align: middle;\n    }\n\n    .dataframe tbody tr th {\n        vertical-align: top;\n    }\n\n    .dataframe thead th {\n        text-align: right;\n    }\n</style>\n<table border=\"1\" class=\"dataframe\">\n  <thead>\n    <tr style=\"text-align: right;\">\n      <th>answer</th>\n      <th>CountryCode</th>\n      <th>A cafe, restaurant, pub, club</th>\n      <th>Around my family</th>\n      <th>Dont Know</th>\n      <th>In a healthcare setting (hospital or other medical service)</th>\n      <th>In the street, a square, park, car park or other public place</th>\n      <th>My home</th>\n      <th>Other</th>\n      <th>Public premises or buildings</th>\n      <th>Public transport</th>\n      <th>School</th>\n      <th>Workplace</th>\n    </tr>\n  </thead>\n  <tbody>\n    <tr>\n      <th>0</th>\n      <td>Austria</td>\n      <td>35</td>\n      <td>26</td>\n      <td>10</td>\n      <td>22</td>\n      <td>49</td>\n      <td>8</td>\n      <td>18</td>\n      <td>41</td>\n      <td>49</td>\n      <td>16</td>\n      <td>34</td>\n    </tr>\n    <tr>\n      <th>1</th>\n      <td>Belgium</td>\n      <td>37</td>\n      <td>21</td>\n      <td>8</td>\n      <td>17</td>\n      <td>71</td>\n      <td>6</td>\n      <td>14</td>\n      <td>41</td>\n      <td>62</td>\n      <td>15</td>\n      <td>24</td>\n    </tr>\n    <tr>\n      <th>2</th>\n      <td>Bulgaria</td>\n      <td>53</td>\n      <td>46</td>\n      <td>7</td>\n      <td>42</td>\n      <td>61</td>\n      <td>27</td>\n      <td>10</td>\n      <td>55</td>\n      <td>60</td>\n      <td>40</td>\n      <td>47</td>\n    </tr>\n    <tr>\n      <th>3</th>\n      <td>Croatia</td>\n      <td>64</td>\n      <td>41</td>\n      <td>4</td>\n      <td>47</td>\n      <td>74</td>\n      <td>25</td>\n      <td>10</td>\n      <td>67</td>\n      <td>71</td>\n      <td>37</td>\n      <td>46</td>\n    </tr>\n    <tr>\n      <th>4</th>\n      <td>Cyprus</td>\n      <td>59</td>\n      <td>55</td>\n      <td>7</td>\n      <td>41</td>\n      <td>61</td>\n      <td>31</td>\n      <td>11</td>\n      <td>63</td>\n      <td>51</td>\n      <td>41</td>\n      <td>57</td>\n    </tr>\n    <tr>\n      <th>5</th>\n      <td>Czechia</td>\n      <td>34</td>\n      <td>29</td>\n      <td>13</td>\n      <td>26</td>\n      <td>46</td>\n      <td>8</td>\n      <td>11</td>\n      <td>36</td>\n      <td>42</td>\n      <td>19</td>\n      <td>28</td>\n    </tr>\n    <tr>\n      <th>6</th>\n      <td>Denmark</td>\n      <td>32</td>\n      <td>8</td>\n      <td>23</td>\n      <td>6</td>\n      <td>45</td>\n      <td>2</td>\n      <td>16</td>\n      <td>23</td>\n      <td>23</td>\n      <td>7</td>\n      <td>10</td>\n    </tr>\n    <tr>\n      <th>7</th>\n      <td>EU-28</td>\n      <td>39</td>\n      <td>29</td>\n      <td>9</td>\n      <td>27</td>\n      <td>58</td>\n      <td>13</td>\n      <td>15</td>\n      <td>43</td>\n      <td>57</td>\n      <td>21</td>\n      <td>34</td>\n    </tr>\n    <tr>\n      <th>8</th>\n      <td>Estonia</td>\n      <td>50</td>\n      <td>41</td>\n      <td>6</td>\n      <td>32</td>\n      <td>67</td>\n      <td>24</td>\n      <td>11</td>\n      <td>53</td>\n      <td>61</td>\n      <td>37</td>\n      <td>41</td>\n    </tr>\n    <tr>\n      <th>9</th>\n      <td>Finland</td>\n      <td>45</td>\n      <td>17</td>\n      <td>16</td>\n      <td>17</td>\n      <td>55</td>\n      <td>6</td>\n      <td>14</td>\n      <td>25</td>\n      <td>43</td>\n      <td>15</td>\n      <td>27</td>\n    </tr>\n    <tr>\n      <th>10</th>\n      <td>France</td>\n      <td>41</td>\n      <td>26</td>\n      <td>6</td>\n      <td>26</td>\n      <td>70</td>\n      <td>7</td>\n      <td>11</td>\n      <td>49</td>\n      <td>72</td>\n      <td>20</td>\n      <td>39</td>\n    </tr>\n    <tr>\n      <th>11</th>\n      <td>Germany</td>\n      <td>30</td>\n      <td>22</td>\n      <td>10</td>\n      <td>20</td>\n      <td>53</td>\n      <td>8</td>\n      <td>20</td>\n      <td>39</td>\n      <td>54</td>\n      <td>16</td>\n      <td>30</td>\n    </tr>\n    <tr>\n      <th>12</th>\n      <td>Greece</td>\n      <td>40</td>\n      <td>51</td>\n      <td>5</td>\n      <td>34</td>\n      <td>54</td>\n      <td>22</td>\n      <td>8</td>\n      <td>54</td>\n      <td>55</td>\n      <td>34</td>\n      <td>48</td>\n    </tr>\n    <tr>\n      <th>13</th>\n      <td>Hungary</td>\n      <td>47</td>\n      <td>30</td>\n      <td>6</td>\n      <td>46</td>\n      <td>62</td>\n      <td>18</td>\n      <td>11</td>\n      <td>55</td>\n      <td>62</td>\n      <td>31</td>\n      <td>45</td>\n    </tr>\n    <tr>\n      <th>14</th>\n      <td>Ireland</td>\n      <td>35</td>\n      <td>25</td>\n      <td>9</td>\n      <td>16</td>\n      <td>57</td>\n      <td>14</td>\n      <td>12</td>\n      <td>37</td>\n      <td>53</td>\n      <td>18</td>\n      <td>26</td>\n    </tr>\n    <tr>\n      <th>15</th>\n      <td>Italy</td>\n      <td>29</td>\n      <td>33</td>\n      <td>13</td>\n      <td>21</td>\n      <td>42</td>\n      <td>18</td>\n      <td>13</td>\n      <td>34</td>\n      <td>42</td>\n      <td>18</td>\n      <td>37</td>\n    </tr>\n    <tr>\n      <th>16</th>\n      <td>Latvia</td>\n      <td>52</td>\n      <td>43</td>\n      <td>5</td>\n      <td>42</td>\n      <td>66</td>\n      <td>25</td>\n      <td>9</td>\n      <td>59</td>\n      <td>64</td>\n      <td>42</td>\n      <td>46</td>\n    </tr>\n    <tr>\n      <th>17</th>\n      <td>Lithuania</td>\n      <td>50</td>\n      <td>50</td>\n      <td>7</td>\n      <td>43</td>\n      <td>64</td>\n      <td>31</td>\n      <td>12</td>\n      <td>57</td>\n      <td>64</td>\n      <td>48</td>\n      <td>37</td>\n    </tr>\n    <tr>\n      <th>18</th>\n      <td>Luxembourg</td>\n      <td>31</td>\n      <td>29</td>\n      <td>12</td>\n      <td>19</td>\n      <td>52</td>\n      <td>12</td>\n      <td>21</td>\n      <td>33</td>\n      <td>45</td>\n      <td>17</td>\n      <td>29</td>\n    </tr>\n    <tr>\n      <th>19</th>\n      <td>Malta</td>\n      <td>34</td>\n      <td>35</td>\n      <td>12</td>\n      <td>24</td>\n      <td>46</td>\n      <td>21</td>\n      <td>15</td>\n      <td>42</td>\n      <td>40</td>\n      <td>22</td>\n      <td>33</td>\n    </tr>\n    <tr>\n      <th>20</th>\n      <td>Netherlands</td>\n      <td>40</td>\n      <td>15</td>\n      <td>13</td>\n      <td>10</td>\n      <td>61</td>\n      <td>4</td>\n      <td>17</td>\n      <td>37</td>\n      <td>47</td>\n      <td>10</td>\n      <td>18</td>\n    </tr>\n    <tr>\n      <th>21</th>\n      <td>North Macedonia</td>\n      <td>57</td>\n      <td>60</td>\n      <td>7</td>\n      <td>49</td>\n      <td>68</td>\n      <td>41</td>\n      <td>20</td>\n      <td>61</td>\n      <td>64</td>\n      <td>50</td>\n      <td>49</td>\n    </tr>\n    <tr>\n      <th>22</th>\n      <td>Poland</td>\n      <td>51</td>\n      <td>41</td>\n      <td>5</td>\n      <td>51</td>\n      <td>72</td>\n      <td>19</td>\n      <td>15</td>\n      <td>62</td>\n      <td>73</td>\n      <td>32</td>\n      <td>46</td>\n    </tr>\n    <tr>\n      <th>23</th>\n      <td>Portugal</td>\n      <td>32</td>\n      <td>42</td>\n      <td>15</td>\n      <td>25</td>\n      <td>37</td>\n      <td>19</td>\n      <td>9</td>\n      <td>31</td>\n      <td>42</td>\n      <td>19</td>\n      <td>43</td>\n    </tr>\n    <tr>\n      <th>24</th>\n      <td>Romania</td>\n      <td>54</td>\n      <td>55</td>\n      <td>6</td>\n      <td>54</td>\n      <td>70</td>\n      <td>23</td>\n      <td>12</td>\n      <td>63</td>\n      <td>68</td>\n      <td>42</td>\n      <td>50</td>\n    </tr>\n    <tr>\n      <th>25</th>\n      <td>Serbia</td>\n      <td>49</td>\n      <td>49</td>\n      <td>6</td>\n      <td>41</td>\n      <td>59</td>\n      <td>34</td>\n      <td>15</td>\n      <td>59</td>\n      <td>63</td>\n      <td>34</td>\n      <td>47</td>\n    </tr>\n    <tr>\n      <th>26</th>\n      <td>Slovakia</td>\n      <td>54</td>\n      <td>39</td>\n      <td>6</td>\n      <td>46</td>\n      <td>64</td>\n      <td>17</td>\n      <td>9</td>\n      <td>56</td>\n      <td>61</td>\n      <td>33</td>\n      <td>42</td>\n    </tr>\n    <tr>\n      <th>27</th>\n      <td>Slovenia</td>\n      <td>38</td>\n      <td>37</td>\n      <td>7</td>\n      <td>29</td>\n      <td>54</td>\n      <td>24</td>\n      <td>11</td>\n      <td>41</td>\n      <td>51</td>\n      <td>27</td>\n      <td>41</td>\n    </tr>\n    <tr>\n      <th>28</th>\n      <td>Spain</td>\n      <td>32</td>\n      <td>24</td>\n      <td>15</td>\n      <td>17</td>\n      <td>47</td>\n      <td>12</td>\n      <td>21</td>\n      <td>26</td>\n      <td>40</td>\n      <td>15</td>\n      <td>27</td>\n    </tr>\n    <tr>\n      <th>29</th>\n      <td>Sweden</td>\n      <td>33</td>\n      <td>14</td>\n      <td>12</td>\n      <td>17</td>\n      <td>60</td>\n      <td>5</td>\n      <td>18</td>\n      <td>31</td>\n      <td>48</td>\n      <td>11</td>\n      <td>23</td>\n    </tr>\n    <tr>\n      <th>30</th>\n      <td>United Kingdom</td>\n      <td>42</td>\n      <td>25</td>\n      <td>9</td>\n      <td>20</td>\n      <td>63</td>\n      <td>12</td>\n      <td>13</td>\n      <td>42</td>\n      <td>62</td>\n      <td>17</td>\n      <td>25</td>\n    </tr>\n  </tbody>\n</table>\n</div>"
     },
     "metadata": {},
     "execution_count": 72
    }
   ],
   "source": [
    "table_paises"
   ]
  },
  {
   "cell_type": "code",
   "execution_count": 88,
   "metadata": {},
   "outputs": [
    {
     "output_type": "execute_result",
     "data": {
      "text/plain": [
       "['My home ',\n",
       " 'Around my family ',\n",
       " 'School ',\n",
       " 'Workplace ',\n",
       " 'A cafe, restaurant, pub, club',\n",
       " 'Public transport ',\n",
       " 'In the street, a square, park, car park or other public place',\n",
       " 'In a healthcare setting (hospital or other medical service)',\n",
       " 'Public premises or buildings',\n",
       " 'Other ',\n",
       " 'Dont Know ']"
      ]
     },
     "metadata": {},
     "execution_count": 88
    }
   ],
   "source": [
    "ans = ['My home ',\n",
    " 'Around my family ',\n",
    " 'School ',\n",
    " 'Workplace ',\n",
    " 'A cafe, restaurant, pub, club',\n",
    " 'Public transport ',\n",
    " 'In the street, a square, park, car park or other public place',\n",
    " 'In a healthcare setting (hospital or other medical service)',\n",
    " 'Public premises or buildings',\n",
    " 'Other ',\n",
    " 'Dont Know ']\n",
    "ans"
   ]
  },
  {
   "cell_type": "code",
   "execution_count": 31,
   "metadata": {},
   "outputs": [
    {
     "output_type": "execute_result",
     "data": {
      "text/plain": [
       "[Text(0.25, 0, 'Austria'),\n",
       " Text(1.25, 0, 'Belgium'),\n",
       " Text(2.25, 0, 'Bulgaria'),\n",
       " Text(3.25, 0, 'Croatia'),\n",
       " Text(4.25, 0, 'Cyprus'),\n",
       " Text(5.25, 0, 'Czechia'),\n",
       " Text(6.25, 0, 'Denmark'),\n",
       " Text(7.25, 0, 'EU-28'),\n",
       " Text(8.25, 0, 'Estonia'),\n",
       " Text(9.25, 0, 'Finland'),\n",
       " Text(10.25, 0, 'France'),\n",
       " Text(11.25, 0, 'Germany'),\n",
       " Text(12.25, 0, 'Greece'),\n",
       " Text(13.25, 0, 'Hungary'),\n",
       " Text(14.25, 0, 'Ireland'),\n",
       " Text(15.25, 0, 'Italy'),\n",
       " Text(16.25, 0, 'Latvia'),\n",
       " Text(17.25, 0, 'Lithuania'),\n",
       " Text(18.25, 0, 'Luxembourg'),\n",
       " Text(19.25, 0, 'Malta'),\n",
       " Text(20.25, 0, 'Netherlands'),\n",
       " Text(21.25, 0, 'North Macedonia'),\n",
       " Text(22.25, 0, 'Poland'),\n",
       " Text(23.25, 0, 'Portugal'),\n",
       " Text(24.25, 0, 'Romania'),\n",
       " Text(25.25, 0, 'Serbia'),\n",
       " Text(26.25, 0, 'Slovakia'),\n",
       " Text(27.25, 0, 'Slovenia'),\n",
       " Text(28.25, 0, 'Spain'),\n",
       " Text(29.25, 0, 'Sweden'),\n",
       " Text(30.25, 0, 'United Kingdom')]"
      ]
     },
     "metadata": {},
     "execution_count": 31
    },
    {
     "output_type": "display_data",
     "data": {
      "text/plain": "<Figure size 2880x720 with 1 Axes>",
      "image/svg+xml": "<?xml version=\"1.0\" encoding=\"utf-8\" standalone=\"no\"?>\r\n<!DOCTYPE svg PUBLIC \"-//W3C//DTD SVG 1.1//EN\"\r\n  \"http://www.w3.org/Graphics/SVG/1.1/DTD/svg11.dtd\">\r\n<!-- Created with matplotlib (https://matplotlib.org/) -->\r\n<svg height=\"574.678125pt\" version=\"1.1\" viewBox=\"0 0 2266.125 574.678125\" width=\"2266.125pt\" xmlns=\"http://www.w3.org/2000/svg\" xmlns:xlink=\"http://www.w3.org/1999/xlink\">\r\n <metadata>\r\n  <rdf:RDF xmlns:cc=\"http://creativecommons.org/ns#\" xmlns:dc=\"http://purl.org/dc/elements/1.1/\" xmlns:rdf=\"http://www.w3.org/1999/02/22-rdf-syntax-ns#\">\r\n   <cc:Work>\r\n    <dc:type rdf:resource=\"http://purl.org/dc/dcmitype/StillImage\"/>\r\n    <dc:date>2021-01-05T11:35:42.287591</dc:date>\r\n    <dc:format>image/svg+xml</dc:format>\r\n    <dc:creator>\r\n     <cc:Agent>\r\n      <dc:title>Matplotlib v3.3.3, https://matplotlib.org/</dc:title>\r\n     </cc:Agent>\r\n    </dc:creator>\r\n   </cc:Work>\r\n  </rdf:RDF>\r\n </metadata>\r\n <defs>\r\n  <style type=\"text/css\">*{stroke-linecap:butt;stroke-linejoin:round;}</style>\r\n </defs>\r\n <g id=\"figure_1\">\r\n  <g id=\"patch_1\">\r\n   <path d=\"M 0 574.678125 \r\nL 2266.125 574.678125 \r\nL 2266.125 0 \r\nL 0 0 \r\nz\r\n\" style=\"fill:none;\"/>\r\n  </g>\r\n  <g id=\"axes_1\">\r\n   <g id=\"patch_2\">\r\n    <path d=\"M 26.925 550.8 \r\nL 2258.925 550.8 \r\nL 2258.925 7.2 \r\nL 26.925 7.2 \r\nz\r\n\" style=\"fill:#ffffff;\"/>\r\n   </g>\r\n   <g id=\"patch_3\">\r\n    <path clip-path=\"url(#pcac9c527a0)\" d=\"M 128.379545 550.8 \r\nL 161.106818 550.8 \r\nL 161.106818 267.675 \r\nL 128.379545 267.675 \r\nz\r\n\" style=\"fill:#1f77b4;\"/>\r\n   </g>\r\n   <g id=\"patch_4\">\r\n    <path clip-path=\"url(#pcac9c527a0)\" d=\"M 193.834091 550.8 \r\nL 226.561364 550.8 \r\nL 226.561364 251.496429 \r\nL 193.834091 251.496429 \r\nz\r\n\" style=\"fill:#1f77b4;\"/>\r\n   </g>\r\n   <g id=\"patch_5\">\r\n    <path clip-path=\"url(#pcac9c527a0)\" d=\"M 259.288636 550.8 \r\nL 292.015909 550.8 \r\nL 292.015909 122.067857 \r\nL 259.288636 122.067857 \r\nz\r\n\" style=\"fill:#1f77b4;\"/>\r\n   </g>\r\n   <g id=\"patch_6\">\r\n    <path clip-path=\"url(#pcac9c527a0)\" d=\"M 324.743182 550.8 \r\nL 357.470455 550.8 \r\nL 357.470455 33.085714 \r\nL 324.743182 33.085714 \r\nz\r\n\" style=\"fill:#1f77b4;\"/>\r\n   </g>\r\n   <g id=\"patch_7\">\r\n    <path clip-path=\"url(#pcac9c527a0)\" d=\"M 390.197727 550.8 \r\nL 422.925 550.8 \r\nL 422.925 73.532143 \r\nL 390.197727 73.532143 \r\nz\r\n\" style=\"fill:#1f77b4;\"/>\r\n   </g>\r\n   <g id=\"patch_8\">\r\n    <path clip-path=\"url(#pcac9c527a0)\" d=\"M 455.652273 550.8 \r\nL 488.379545 550.8 \r\nL 488.379545 275.764286 \r\nL 455.652273 275.764286 \r\nz\r\n\" style=\"fill:#1f77b4;\"/>\r\n   </g>\r\n   <g id=\"patch_9\">\r\n    <path clip-path=\"url(#pcac9c527a0)\" d=\"M 521.106818 550.8 \r\nL 553.834091 550.8 \r\nL 553.834091 291.942857 \r\nL 521.106818 291.942857 \r\nz\r\n\" style=\"fill:#1f77b4;\"/>\r\n   </g>\r\n   <g id=\"patch_10\">\r\n    <path clip-path=\"url(#pcac9c527a0)\" d=\"M 586.561364 550.8 \r\nL 619.288636 550.8 \r\nL 619.288636 235.317857 \r\nL 586.561364 235.317857 \r\nz\r\n\" style=\"fill:#1f77b4;\"/>\r\n   </g>\r\n   <g id=\"patch_11\">\r\n    <path clip-path=\"url(#pcac9c527a0)\" d=\"M 652.015909 550.8 \r\nL 684.743182 550.8 \r\nL 684.743182 146.335714 \r\nL 652.015909 146.335714 \r\nz\r\n\" style=\"fill:#1f77b4;\"/>\r\n   </g>\r\n   <g id=\"patch_12\">\r\n    <path clip-path=\"url(#pcac9c527a0)\" d=\"M 717.470455 550.8 \r\nL 750.197727 550.8 \r\nL 750.197727 186.782143 \r\nL 717.470455 186.782143 \r\nz\r\n\" style=\"fill:#1f77b4;\"/>\r\n   </g>\r\n   <g id=\"patch_13\">\r\n    <path clip-path=\"url(#pcac9c527a0)\" d=\"M 782.925 550.8 \r\nL 815.652273 550.8 \r\nL 815.652273 219.139286 \r\nL 782.925 219.139286 \r\nz\r\n\" style=\"fill:#1f77b4;\"/>\r\n   </g>\r\n   <g id=\"patch_14\">\r\n    <path clip-path=\"url(#pcac9c527a0)\" d=\"M 848.379545 550.8 \r\nL 881.106818 550.8 \r\nL 881.106818 308.121429 \r\nL 848.379545 308.121429 \r\nz\r\n\" style=\"fill:#1f77b4;\"/>\r\n   </g>\r\n   <g id=\"patch_15\">\r\n    <path clip-path=\"url(#pcac9c527a0)\" d=\"M 913.834091 550.8 \r\nL 946.561364 550.8 \r\nL 946.561364 227.228571 \r\nL 913.834091 227.228571 \r\nz\r\n\" style=\"fill:#1f77b4;\"/>\r\n   </g>\r\n   <g id=\"patch_16\">\r\n    <path clip-path=\"url(#pcac9c527a0)\" d=\"M 979.288636 550.8 \r\nL 1012.015909 550.8 \r\nL 1012.015909 170.603571 \r\nL 979.288636 170.603571 \r\nz\r\n\" style=\"fill:#1f77b4;\"/>\r\n   </g>\r\n   <g id=\"patch_17\">\r\n    <path clip-path=\"url(#pcac9c527a0)\" d=\"M 1044.743182 550.8 \r\nL 1077.470455 550.8 \r\nL 1077.470455 267.675 \r\nL 1044.743182 267.675 \r\nz\r\n\" style=\"fill:#1f77b4;\"/>\r\n   </g>\r\n   <g id=\"patch_18\">\r\n    <path clip-path=\"url(#pcac9c527a0)\" d=\"M 1110.197727 550.8 \r\nL 1142.925 550.8 \r\nL 1142.925 316.210714 \r\nL 1110.197727 316.210714 \r\nz\r\n\" style=\"fill:#1f77b4;\"/>\r\n   </g>\r\n   <g id=\"patch_19\">\r\n    <path clip-path=\"url(#pcac9c527a0)\" d=\"M 1175.652273 550.8 \r\nL 1208.379545 550.8 \r\nL 1208.379545 130.157143 \r\nL 1175.652273 130.157143 \r\nz\r\n\" style=\"fill:#1f77b4;\"/>\r\n   </g>\r\n   <g id=\"patch_20\">\r\n    <path clip-path=\"url(#pcac9c527a0)\" d=\"M 1241.106818 550.8 \r\nL 1273.834091 550.8 \r\nL 1273.834091 146.335714 \r\nL 1241.106818 146.335714 \r\nz\r\n\" style=\"fill:#1f77b4;\"/>\r\n   </g>\r\n   <g id=\"patch_21\">\r\n    <path clip-path=\"url(#pcac9c527a0)\" d=\"M 1306.561364 550.8 \r\nL 1339.288636 550.8 \r\nL 1339.288636 300.032143 \r\nL 1306.561364 300.032143 \r\nz\r\n\" style=\"fill:#1f77b4;\"/>\r\n   </g>\r\n   <g id=\"patch_22\">\r\n    <path clip-path=\"url(#pcac9c527a0)\" d=\"M 1372.015909 550.8 \r\nL 1404.743182 550.8 \r\nL 1404.743182 275.764286 \r\nL 1372.015909 275.764286 \r\nz\r\n\" style=\"fill:#1f77b4;\"/>\r\n   </g>\r\n   <g id=\"patch_23\">\r\n    <path clip-path=\"url(#pcac9c527a0)\" d=\"M 1437.470455 550.8 \r\nL 1470.197727 550.8 \r\nL 1470.197727 227.228571 \r\nL 1437.470455 227.228571 \r\nz\r\n\" style=\"fill:#1f77b4;\"/>\r\n   </g>\r\n   <g id=\"patch_24\">\r\n    <path clip-path=\"url(#pcac9c527a0)\" d=\"M 1502.925 550.8 \r\nL 1535.652273 550.8 \r\nL 1535.652273 89.710714 \r\nL 1502.925 89.710714 \r\nz\r\n\" style=\"fill:#1f77b4;\"/>\r\n   </g>\r\n   <g id=\"patch_25\">\r\n    <path clip-path=\"url(#pcac9c527a0)\" d=\"M 1568.379545 550.8 \r\nL 1601.106818 550.8 \r\nL 1601.106818 138.246429 \r\nL 1568.379545 138.246429 \r\nz\r\n\" style=\"fill:#1f77b4;\"/>\r\n   </g>\r\n   <g id=\"patch_26\">\r\n    <path clip-path=\"url(#pcac9c527a0)\" d=\"M 1633.834091 550.8 \r\nL 1666.561364 550.8 \r\nL 1666.561364 291.942857 \r\nL 1633.834091 291.942857 \r\nz\r\n\" style=\"fill:#1f77b4;\"/>\r\n   </g>\r\n   <g id=\"patch_27\">\r\n    <path clip-path=\"url(#pcac9c527a0)\" d=\"M 1699.288636 550.8 \r\nL 1732.015909 550.8 \r\nL 1732.015909 113.978571 \r\nL 1699.288636 113.978571 \r\nz\r\n\" style=\"fill:#1f77b4;\"/>\r\n   </g>\r\n   <g id=\"patch_28\">\r\n    <path clip-path=\"url(#pcac9c527a0)\" d=\"M 1764.743182 550.8 \r\nL 1797.470455 550.8 \r\nL 1797.470455 154.425 \r\nL 1764.743182 154.425 \r\nz\r\n\" style=\"fill:#1f77b4;\"/>\r\n   </g>\r\n   <g id=\"patch_29\">\r\n    <path clip-path=\"url(#pcac9c527a0)\" d=\"M 1830.197727 550.8 \r\nL 1862.925 550.8 \r\nL 1862.925 113.978571 \r\nL 1830.197727 113.978571 \r\nz\r\n\" style=\"fill:#1f77b4;\"/>\r\n   </g>\r\n   <g id=\"patch_30\">\r\n    <path clip-path=\"url(#pcac9c527a0)\" d=\"M 1895.652273 550.8 \r\nL 1928.379545 550.8 \r\nL 1928.379545 243.407143 \r\nL 1895.652273 243.407143 \r\nz\r\n\" style=\"fill:#1f77b4;\"/>\r\n   </g>\r\n   <g id=\"patch_31\">\r\n    <path clip-path=\"url(#pcac9c527a0)\" d=\"M 1961.106818 550.8 \r\nL 1993.834091 550.8 \r\nL 1993.834091 291.942857 \r\nL 1961.106818 291.942857 \r\nz\r\n\" style=\"fill:#1f77b4;\"/>\r\n   </g>\r\n   <g id=\"patch_32\">\r\n    <path clip-path=\"url(#pcac9c527a0)\" d=\"M 2026.561364 550.8 \r\nL 2059.288636 550.8 \r\nL 2059.288636 283.853571 \r\nL 2026.561364 283.853571 \r\nz\r\n\" style=\"fill:#1f77b4;\"/>\r\n   </g>\r\n   <g id=\"patch_33\">\r\n    <path clip-path=\"url(#pcac9c527a0)\" d=\"M 2092.015909 550.8 \r\nL 2124.743182 550.8 \r\nL 2124.743182 211.05 \r\nL 2092.015909 211.05 \r\nz\r\n\" style=\"fill:#1f77b4;\"/>\r\n   </g>\r\n   <g id=\"patch_34\">\r\n    <path clip-path=\"url(#pcac9c527a0)\" d=\"M 161.106818 550.8 \r\nL 193.834091 550.8 \r\nL 193.834091 340.478571 \r\nL 161.106818 340.478571 \r\nz\r\n\" style=\"fill:#ff7f0e;\"/>\r\n   </g>\r\n   <g id=\"patch_35\">\r\n    <path clip-path=\"url(#pcac9c527a0)\" d=\"M 226.561364 550.8 \r\nL 259.288636 550.8 \r\nL 259.288636 380.925 \r\nL 226.561364 380.925 \r\nz\r\n\" style=\"fill:#ff7f0e;\"/>\r\n   </g>\r\n   <g id=\"patch_36\">\r\n    <path clip-path=\"url(#pcac9c527a0)\" d=\"M 292.015909 550.8 \r\nL 324.743182 550.8 \r\nL 324.743182 178.692857 \r\nL 292.015909 178.692857 \r\nz\r\n\" style=\"fill:#ff7f0e;\"/>\r\n   </g>\r\n   <g id=\"patch_37\">\r\n    <path clip-path=\"url(#pcac9c527a0)\" d=\"M 357.470455 550.8 \r\nL 390.197727 550.8 \r\nL 390.197727 219.139286 \r\nL 357.470455 219.139286 \r\nz\r\n\" style=\"fill:#ff7f0e;\"/>\r\n   </g>\r\n   <g id=\"patch_38\">\r\n    <path clip-path=\"url(#pcac9c527a0)\" d=\"M 422.925 550.8 \r\nL 455.652273 550.8 \r\nL 455.652273 105.889286 \r\nL 422.925 105.889286 \r\nz\r\n\" style=\"fill:#ff7f0e;\"/>\r\n   </g>\r\n   <g id=\"patch_39\">\r\n    <path clip-path=\"url(#pcac9c527a0)\" d=\"M 488.379545 550.8 \r\nL 521.106818 550.8 \r\nL 521.106818 316.210714 \r\nL 488.379545 316.210714 \r\nz\r\n\" style=\"fill:#ff7f0e;\"/>\r\n   </g>\r\n   <g id=\"patch_40\">\r\n    <path clip-path=\"url(#pcac9c527a0)\" d=\"M 553.834091 550.8 \r\nL 586.561364 550.8 \r\nL 586.561364 486.085714 \r\nL 553.834091 486.085714 \r\nz\r\n\" style=\"fill:#ff7f0e;\"/>\r\n   </g>\r\n   <g id=\"patch_41\">\r\n    <path clip-path=\"url(#pcac9c527a0)\" d=\"M 619.288636 550.8 \r\nL 652.015909 550.8 \r\nL 652.015909 316.210714 \r\nL 619.288636 316.210714 \r\nz\r\n\" style=\"fill:#ff7f0e;\"/>\r\n   </g>\r\n   <g id=\"patch_42\">\r\n    <path clip-path=\"url(#pcac9c527a0)\" d=\"M 684.743182 550.8 \r\nL 717.470455 550.8 \r\nL 717.470455 219.139286 \r\nL 684.743182 219.139286 \r\nz\r\n\" style=\"fill:#ff7f0e;\"/>\r\n   </g>\r\n   <g id=\"patch_43\">\r\n    <path clip-path=\"url(#pcac9c527a0)\" d=\"M 750.197727 550.8 \r\nL 782.925 550.8 \r\nL 782.925 413.282143 \r\nL 750.197727 413.282143 \r\nz\r\n\" style=\"fill:#ff7f0e;\"/>\r\n   </g>\r\n   <g id=\"patch_44\">\r\n    <path clip-path=\"url(#pcac9c527a0)\" d=\"M 815.652273 550.8 \r\nL 848.379545 550.8 \r\nL 848.379545 340.478571 \r\nL 815.652273 340.478571 \r\nz\r\n\" style=\"fill:#ff7f0e;\"/>\r\n   </g>\r\n   <g id=\"patch_45\">\r\n    <path clip-path=\"url(#pcac9c527a0)\" d=\"M 881.106818 550.8 \r\nL 913.834091 550.8 \r\nL 913.834091 372.835714 \r\nL 881.106818 372.835714 \r\nz\r\n\" style=\"fill:#ff7f0e;\"/>\r\n   </g>\r\n   <g id=\"patch_46\">\r\n    <path clip-path=\"url(#pcac9c527a0)\" d=\"M 946.561364 550.8 \r\nL 979.288636 550.8 \r\nL 979.288636 138.246429 \r\nL 946.561364 138.246429 \r\nz\r\n\" style=\"fill:#ff7f0e;\"/>\r\n   </g>\r\n   <g id=\"patch_47\">\r\n    <path clip-path=\"url(#pcac9c527a0)\" d=\"M 1012.015909 550.8 \r\nL 1044.743182 550.8 \r\nL 1044.743182 308.121429 \r\nL 1012.015909 308.121429 \r\nz\r\n\" style=\"fill:#ff7f0e;\"/>\r\n   </g>\r\n   <g id=\"patch_48\">\r\n    <path clip-path=\"url(#pcac9c527a0)\" d=\"M 1077.470455 550.8 \r\nL 1110.197727 550.8 \r\nL 1110.197727 348.567857 \r\nL 1077.470455 348.567857 \r\nz\r\n\" style=\"fill:#ff7f0e;\"/>\r\n   </g>\r\n   <g id=\"patch_49\">\r\n    <path clip-path=\"url(#pcac9c527a0)\" d=\"M 1142.925 550.8 \r\nL 1175.652273 550.8 \r\nL 1175.652273 283.853571 \r\nL 1142.925 283.853571 \r\nz\r\n\" style=\"fill:#ff7f0e;\"/>\r\n   </g>\r\n   <g id=\"patch_50\">\r\n    <path clip-path=\"url(#pcac9c527a0)\" d=\"M 1208.379545 550.8 \r\nL 1241.106818 550.8 \r\nL 1241.106818 202.960714 \r\nL 1208.379545 202.960714 \r\nz\r\n\" style=\"fill:#ff7f0e;\"/>\r\n   </g>\r\n   <g id=\"patch_51\">\r\n    <path clip-path=\"url(#pcac9c527a0)\" d=\"M 1273.834091 550.8 \r\nL 1306.561364 550.8 \r\nL 1306.561364 146.335714 \r\nL 1273.834091 146.335714 \r\nz\r\n\" style=\"fill:#ff7f0e;\"/>\r\n   </g>\r\n   <g id=\"patch_52\">\r\n    <path clip-path=\"url(#pcac9c527a0)\" d=\"M 1339.288636 550.8 \r\nL 1372.015909 550.8 \r\nL 1372.015909 316.210714 \r\nL 1339.288636 316.210714 \r\nz\r\n\" style=\"fill:#ff7f0e;\"/>\r\n   </g>\r\n   <g id=\"patch_53\">\r\n    <path clip-path=\"url(#pcac9c527a0)\" d=\"M 1404.743182 550.8 \r\nL 1437.470455 550.8 \r\nL 1437.470455 267.675 \r\nL 1404.743182 267.675 \r\nz\r\n\" style=\"fill:#ff7f0e;\"/>\r\n   </g>\r\n   <g id=\"patch_54\">\r\n    <path clip-path=\"url(#pcac9c527a0)\" d=\"M 1470.197727 550.8 \r\nL 1502.925 550.8 \r\nL 1502.925 429.460714 \r\nL 1470.197727 429.460714 \r\nz\r\n\" style=\"fill:#ff7f0e;\"/>\r\n   </g>\r\n   <g id=\"patch_55\">\r\n    <path clip-path=\"url(#pcac9c527a0)\" d=\"M 1535.652273 550.8 \r\nL 1568.379545 550.8 \r\nL 1568.379545 65.442857 \r\nL 1535.652273 65.442857 \r\nz\r\n\" style=\"fill:#ff7f0e;\"/>\r\n   </g>\r\n   <g id=\"patch_56\">\r\n    <path clip-path=\"url(#pcac9c527a0)\" d=\"M 1601.106818 550.8 \r\nL 1633.834091 550.8 \r\nL 1633.834091 219.139286 \r\nL 1601.106818 219.139286 \r\nz\r\n\" style=\"fill:#ff7f0e;\"/>\r\n   </g>\r\n   <g id=\"patch_57\">\r\n    <path clip-path=\"url(#pcac9c527a0)\" d=\"M 1666.561364 550.8 \r\nL 1699.288636 550.8 \r\nL 1699.288636 211.05 \r\nL 1666.561364 211.05 \r\nz\r\n\" style=\"fill:#ff7f0e;\"/>\r\n   </g>\r\n   <g id=\"patch_58\">\r\n    <path clip-path=\"url(#pcac9c527a0)\" d=\"M 1732.015909 550.8 \r\nL 1764.743182 550.8 \r\nL 1764.743182 105.889286 \r\nL 1732.015909 105.889286 \r\nz\r\n\" style=\"fill:#ff7f0e;\"/>\r\n   </g>\r\n   <g id=\"patch_59\">\r\n    <path clip-path=\"url(#pcac9c527a0)\" d=\"M 1797.470455 550.8 \r\nL 1830.197727 550.8 \r\nL 1830.197727 154.425 \r\nL 1797.470455 154.425 \r\nz\r\n\" style=\"fill:#ff7f0e;\"/>\r\n   </g>\r\n   <g id=\"patch_60\">\r\n    <path clip-path=\"url(#pcac9c527a0)\" d=\"M 1862.925 550.8 \r\nL 1895.652273 550.8 \r\nL 1895.652273 235.317857 \r\nL 1862.925 235.317857 \r\nz\r\n\" style=\"fill:#ff7f0e;\"/>\r\n   </g>\r\n   <g id=\"patch_61\">\r\n    <path clip-path=\"url(#pcac9c527a0)\" d=\"M 1928.379545 550.8 \r\nL 1961.106818 550.8 \r\nL 1961.106818 251.496429 \r\nL 1928.379545 251.496429 \r\nz\r\n\" style=\"fill:#ff7f0e;\"/>\r\n   </g>\r\n   <g id=\"patch_62\">\r\n    <path clip-path=\"url(#pcac9c527a0)\" d=\"M 1993.834091 550.8 \r\nL 2026.561364 550.8 \r\nL 2026.561364 356.657143 \r\nL 1993.834091 356.657143 \r\nz\r\n\" style=\"fill:#ff7f0e;\"/>\r\n   </g>\r\n   <g id=\"patch_63\">\r\n    <path clip-path=\"url(#pcac9c527a0)\" d=\"M 2059.288636 550.8 \r\nL 2092.015909 550.8 \r\nL 2092.015909 437.55 \r\nL 2059.288636 437.55 \r\nz\r\n\" style=\"fill:#ff7f0e;\"/>\r\n   </g>\r\n   <g id=\"patch_64\">\r\n    <path clip-path=\"url(#pcac9c527a0)\" d=\"M 2124.743182 550.8 \r\nL 2157.470455 550.8 \r\nL 2157.470455 348.567857 \r\nL 2124.743182 348.567857 \r\nz\r\n\" style=\"fill:#ff7f0e;\"/>\r\n   </g>\r\n   <g id=\"patch_65\">\r\n    <path clip-path=\"url(#pcac9c527a0)\" d=\"M 161.106818 550.8 \r\nL 193.834091 550.8 \r\nL 193.834091 469.907143 \r\nL 161.106818 469.907143 \r\nz\r\n\" style=\"fill:#2ca02c;\"/>\r\n   </g>\r\n   <g id=\"patch_66\">\r\n    <path clip-path=\"url(#pcac9c527a0)\" d=\"M 226.561364 550.8 \r\nL 259.288636 550.8 \r\nL 259.288636 486.085714 \r\nL 226.561364 486.085714 \r\nz\r\n\" style=\"fill:#2ca02c;\"/>\r\n   </g>\r\n   <g id=\"patch_67\">\r\n    <path clip-path=\"url(#pcac9c527a0)\" d=\"M 292.015909 550.8 \r\nL 324.743182 550.8 \r\nL 324.743182 494.175 \r\nL 292.015909 494.175 \r\nz\r\n\" style=\"fill:#2ca02c;\"/>\r\n   </g>\r\n   <g id=\"patch_68\">\r\n    <path clip-path=\"url(#pcac9c527a0)\" d=\"M 357.470455 550.8 \r\nL 390.197727 550.8 \r\nL 390.197727 518.442857 \r\nL 357.470455 518.442857 \r\nz\r\n\" style=\"fill:#2ca02c;\"/>\r\n   </g>\r\n   <g id=\"patch_69\">\r\n    <path clip-path=\"url(#pcac9c527a0)\" d=\"M 422.925 550.8 \r\nL 455.652273 550.8 \r\nL 455.652273 494.175 \r\nL 422.925 494.175 \r\nz\r\n\" style=\"fill:#2ca02c;\"/>\r\n   </g>\r\n   <g id=\"patch_70\">\r\n    <path clip-path=\"url(#pcac9c527a0)\" d=\"M 488.379545 550.8 \r\nL 521.106818 550.8 \r\nL 521.106818 445.639286 \r\nL 488.379545 445.639286 \r\nz\r\n\" style=\"fill:#2ca02c;\"/>\r\n   </g>\r\n   <g id=\"patch_71\">\r\n    <path clip-path=\"url(#pcac9c527a0)\" d=\"M 553.834091 550.8 \r\nL 586.561364 550.8 \r\nL 586.561364 364.746429 \r\nL 553.834091 364.746429 \r\nz\r\n\" style=\"fill:#2ca02c;\"/>\r\n   </g>\r\n   <g id=\"patch_72\">\r\n    <path clip-path=\"url(#pcac9c527a0)\" d=\"M 619.288636 550.8 \r\nL 652.015909 550.8 \r\nL 652.015909 477.996429 \r\nL 619.288636 477.996429 \r\nz\r\n\" style=\"fill:#2ca02c;\"/>\r\n   </g>\r\n   <g id=\"patch_73\">\r\n    <path clip-path=\"url(#pcac9c527a0)\" d=\"M 684.743182 550.8 \r\nL 717.470455 550.8 \r\nL 717.470455 502.264286 \r\nL 684.743182 502.264286 \r\nz\r\n\" style=\"fill:#2ca02c;\"/>\r\n   </g>\r\n   <g id=\"patch_74\">\r\n    <path clip-path=\"url(#pcac9c527a0)\" d=\"M 750.197727 550.8 \r\nL 782.925 550.8 \r\nL 782.925 421.371429 \r\nL 750.197727 421.371429 \r\nz\r\n\" style=\"fill:#2ca02c;\"/>\r\n   </g>\r\n   <g id=\"patch_75\">\r\n    <path clip-path=\"url(#pcac9c527a0)\" d=\"M 815.652273 550.8 \r\nL 848.379545 550.8 \r\nL 848.379545 502.264286 \r\nL 815.652273 502.264286 \r\nz\r\n\" style=\"fill:#2ca02c;\"/>\r\n   </g>\r\n   <g id=\"patch_76\">\r\n    <path clip-path=\"url(#pcac9c527a0)\" d=\"M 881.106818 550.8 \r\nL 913.834091 550.8 \r\nL 913.834091 469.907143 \r\nL 881.106818 469.907143 \r\nz\r\n\" style=\"fill:#2ca02c;\"/>\r\n   </g>\r\n   <g id=\"patch_77\">\r\n    <path clip-path=\"url(#pcac9c527a0)\" d=\"M 946.561364 550.8 \r\nL 979.288636 550.8 \r\nL 979.288636 510.353571 \r\nL 946.561364 510.353571 \r\nz\r\n\" style=\"fill:#2ca02c;\"/>\r\n   </g>\r\n   <g id=\"patch_78\">\r\n    <path clip-path=\"url(#pcac9c527a0)\" d=\"M 1012.015909 550.8 \r\nL 1044.743182 550.8 \r\nL 1044.743182 502.264286 \r\nL 1012.015909 502.264286 \r\nz\r\n\" style=\"fill:#2ca02c;\"/>\r\n   </g>\r\n   <g id=\"patch_79\">\r\n    <path clip-path=\"url(#pcac9c527a0)\" d=\"M 1077.470455 550.8 \r\nL 1110.197727 550.8 \r\nL 1110.197727 477.996429 \r\nL 1077.470455 477.996429 \r\nz\r\n\" style=\"fill:#2ca02c;\"/>\r\n   </g>\r\n   <g id=\"patch_80\">\r\n    <path clip-path=\"url(#pcac9c527a0)\" d=\"M 1142.925 550.8 \r\nL 1175.652273 550.8 \r\nL 1175.652273 445.639286 \r\nL 1142.925 445.639286 \r\nz\r\n\" style=\"fill:#2ca02c;\"/>\r\n   </g>\r\n   <g id=\"patch_81\">\r\n    <path clip-path=\"url(#pcac9c527a0)\" d=\"M 1208.379545 550.8 \r\nL 1241.106818 550.8 \r\nL 1241.106818 510.353571 \r\nL 1208.379545 510.353571 \r\nz\r\n\" style=\"fill:#2ca02c;\"/>\r\n   </g>\r\n   <g id=\"patch_82\">\r\n    <path clip-path=\"url(#pcac9c527a0)\" d=\"M 1273.834091 550.8 \r\nL 1306.561364 550.8 \r\nL 1306.561364 494.175 \r\nL 1273.834091 494.175 \r\nz\r\n\" style=\"fill:#2ca02c;\"/>\r\n   </g>\r\n   <g id=\"patch_83\">\r\n    <path clip-path=\"url(#pcac9c527a0)\" d=\"M 1339.288636 550.8 \r\nL 1372.015909 550.8 \r\nL 1372.015909 453.728571 \r\nL 1339.288636 453.728571 \r\nz\r\n\" style=\"fill:#2ca02c;\"/>\r\n   </g>\r\n   <g id=\"patch_84\">\r\n    <path clip-path=\"url(#pcac9c527a0)\" d=\"M 1404.743182 550.8 \r\nL 1437.470455 550.8 \r\nL 1437.470455 453.728571 \r\nL 1404.743182 453.728571 \r\nz\r\n\" style=\"fill:#2ca02c;\"/>\r\n   </g>\r\n   <g id=\"patch_85\">\r\n    <path clip-path=\"url(#pcac9c527a0)\" d=\"M 1470.197727 550.8 \r\nL 1502.925 550.8 \r\nL 1502.925 445.639286 \r\nL 1470.197727 445.639286 \r\nz\r\n\" style=\"fill:#2ca02c;\"/>\r\n   </g>\r\n   <g id=\"patch_86\">\r\n    <path clip-path=\"url(#pcac9c527a0)\" d=\"M 1535.652273 550.8 \r\nL 1568.379545 550.8 \r\nL 1568.379545 494.175 \r\nL 1535.652273 494.175 \r\nz\r\n\" style=\"fill:#2ca02c;\"/>\r\n   </g>\r\n   <g id=\"patch_87\">\r\n    <path clip-path=\"url(#pcac9c527a0)\" d=\"M 1601.106818 550.8 \r\nL 1633.834091 550.8 \r\nL 1633.834091 510.353571 \r\nL 1601.106818 510.353571 \r\nz\r\n\" style=\"fill:#2ca02c;\"/>\r\n   </g>\r\n   <g id=\"patch_88\">\r\n    <path clip-path=\"url(#pcac9c527a0)\" d=\"M 1666.561364 550.8 \r\nL 1699.288636 550.8 \r\nL 1699.288636 429.460714 \r\nL 1666.561364 429.460714 \r\nz\r\n\" style=\"fill:#2ca02c;\"/>\r\n   </g>\r\n   <g id=\"patch_89\">\r\n    <path clip-path=\"url(#pcac9c527a0)\" d=\"M 1732.015909 550.8 \r\nL 1764.743182 550.8 \r\nL 1764.743182 502.264286 \r\nL 1732.015909 502.264286 \r\nz\r\n\" style=\"fill:#2ca02c;\"/>\r\n   </g>\r\n   <g id=\"patch_90\">\r\n    <path clip-path=\"url(#pcac9c527a0)\" d=\"M 1797.470455 550.8 \r\nL 1830.197727 550.8 \r\nL 1830.197727 502.264286 \r\nL 1797.470455 502.264286 \r\nz\r\n\" style=\"fill:#2ca02c;\"/>\r\n   </g>\r\n   <g id=\"patch_91\">\r\n    <path clip-path=\"url(#pcac9c527a0)\" d=\"M 1862.925 550.8 \r\nL 1895.652273 550.8 \r\nL 1895.652273 502.264286 \r\nL 1862.925 502.264286 \r\nz\r\n\" style=\"fill:#2ca02c;\"/>\r\n   </g>\r\n   <g id=\"patch_92\">\r\n    <path clip-path=\"url(#pcac9c527a0)\" d=\"M 1928.379545 550.8 \r\nL 1961.106818 550.8 \r\nL 1961.106818 494.175 \r\nL 1928.379545 494.175 \r\nz\r\n\" style=\"fill:#2ca02c;\"/>\r\n   </g>\r\n   <g id=\"patch_93\">\r\n    <path clip-path=\"url(#pcac9c527a0)\" d=\"M 1993.834091 550.8 \r\nL 2026.561364 550.8 \r\nL 2026.561364 429.460714 \r\nL 1993.834091 429.460714 \r\nz\r\n\" style=\"fill:#2ca02c;\"/>\r\n   </g>\r\n   <g id=\"patch_94\">\r\n    <path clip-path=\"url(#pcac9c527a0)\" d=\"M 2059.288636 550.8 \r\nL 2092.015909 550.8 \r\nL 2092.015909 453.728571 \r\nL 2059.288636 453.728571 \r\nz\r\n\" style=\"fill:#2ca02c;\"/>\r\n   </g>\r\n   <g id=\"patch_95\">\r\n    <path clip-path=\"url(#pcac9c527a0)\" d=\"M 2124.743182 550.8 \r\nL 2157.470455 550.8 \r\nL 2157.470455 477.996429 \r\nL 2124.743182 477.996429 \r\nz\r\n\" style=\"fill:#2ca02c;\"/>\r\n   </g>\r\n   <g id=\"matplotlib.axis_1\">\r\n    <g id=\"xtick_1\">\r\n     <g id=\"line2d_1\">\r\n      <defs>\r\n       <path d=\"M 0 0 \r\nL 0 3.5 \r\n\" id=\"mb5f5d70430\" style=\"stroke:#000000;stroke-width:0.8;\"/>\r\n      </defs>\r\n      <g>\r\n       <use style=\"stroke:#000000;stroke-width:0.8;\" x=\"161.106818\" xlink:href=\"#mb5f5d70430\" y=\"550.8\"/>\r\n      </g>\r\n     </g>\r\n     <g id=\"text_1\">\r\n      <!-- Austria -->\r\n      <g transform=\"translate(143.444318 565.398438)scale(0.1 -0.1)\">\r\n       <defs>\r\n        <path d=\"M 34.1875 63.1875 \r\nL 20.796875 26.90625 \r\nL 47.609375 26.90625 \r\nz\r\nM 28.609375 72.90625 \r\nL 39.796875 72.90625 \r\nL 67.578125 0 \r\nL 57.328125 0 \r\nL 50.6875 18.703125 \r\nL 17.828125 18.703125 \r\nL 11.1875 0 \r\nL 0.78125 0 \r\nz\r\n\" id=\"DejaVuSans-65\"/>\r\n        <path d=\"M 8.5 21.578125 \r\nL 8.5 54.6875 \r\nL 17.484375 54.6875 \r\nL 17.484375 21.921875 \r\nQ 17.484375 14.15625 20.5 10.265625 \r\nQ 23.53125 6.390625 29.59375 6.390625 \r\nQ 36.859375 6.390625 41.078125 11.03125 \r\nQ 45.3125 15.671875 45.3125 23.6875 \r\nL 45.3125 54.6875 \r\nL 54.296875 54.6875 \r\nL 54.296875 0 \r\nL 45.3125 0 \r\nL 45.3125 8.40625 \r\nQ 42.046875 3.421875 37.71875 1 \r\nQ 33.40625 -1.421875 27.6875 -1.421875 \r\nQ 18.265625 -1.421875 13.375 4.4375 \r\nQ 8.5 10.296875 8.5 21.578125 \r\nz\r\nM 31.109375 56 \r\nz\r\n\" id=\"DejaVuSans-117\"/>\r\n        <path d=\"M 44.28125 53.078125 \r\nL 44.28125 44.578125 \r\nQ 40.484375 46.53125 36.375 47.5 \r\nQ 32.28125 48.484375 27.875 48.484375 \r\nQ 21.1875 48.484375 17.84375 46.4375 \r\nQ 14.5 44.390625 14.5 40.28125 \r\nQ 14.5 37.15625 16.890625 35.375 \r\nQ 19.28125 33.59375 26.515625 31.984375 \r\nL 29.59375 31.296875 \r\nQ 39.15625 29.25 43.1875 25.515625 \r\nQ 47.21875 21.78125 47.21875 15.09375 \r\nQ 47.21875 7.46875 41.1875 3.015625 \r\nQ 35.15625 -1.421875 24.609375 -1.421875 \r\nQ 20.21875 -1.421875 15.453125 -0.5625 \r\nQ 10.6875 0.296875 5.421875 2 \r\nL 5.421875 11.28125 \r\nQ 10.40625 8.6875 15.234375 7.390625 \r\nQ 20.0625 6.109375 24.8125 6.109375 \r\nQ 31.15625 6.109375 34.5625 8.28125 \r\nQ 37.984375 10.453125 37.984375 14.40625 \r\nQ 37.984375 18.0625 35.515625 20.015625 \r\nQ 33.0625 21.96875 24.703125 23.78125 \r\nL 21.578125 24.515625 \r\nQ 13.234375 26.265625 9.515625 29.90625 \r\nQ 5.8125 33.546875 5.8125 39.890625 \r\nQ 5.8125 47.609375 11.28125 51.796875 \r\nQ 16.75 56 26.8125 56 \r\nQ 31.78125 56 36.171875 55.265625 \r\nQ 40.578125 54.546875 44.28125 53.078125 \r\nz\r\n\" id=\"DejaVuSans-115\"/>\r\n        <path d=\"M 18.3125 70.21875 \r\nL 18.3125 54.6875 \r\nL 36.8125 54.6875 \r\nL 36.8125 47.703125 \r\nL 18.3125 47.703125 \r\nL 18.3125 18.015625 \r\nQ 18.3125 11.328125 20.140625 9.421875 \r\nQ 21.96875 7.515625 27.59375 7.515625 \r\nL 36.8125 7.515625 \r\nL 36.8125 0 \r\nL 27.59375 0 \r\nQ 17.1875 0 13.234375 3.875 \r\nQ 9.28125 7.765625 9.28125 18.015625 \r\nL 9.28125 47.703125 \r\nL 2.6875 47.703125 \r\nL 2.6875 54.6875 \r\nL 9.28125 54.6875 \r\nL 9.28125 70.21875 \r\nz\r\n\" id=\"DejaVuSans-116\"/>\r\n        <path d=\"M 41.109375 46.296875 \r\nQ 39.59375 47.171875 37.8125 47.578125 \r\nQ 36.03125 48 33.890625 48 \r\nQ 26.265625 48 22.1875 43.046875 \r\nQ 18.109375 38.09375 18.109375 28.8125 \r\nL 18.109375 0 \r\nL 9.078125 0 \r\nL 9.078125 54.6875 \r\nL 18.109375 54.6875 \r\nL 18.109375 46.1875 \r\nQ 20.953125 51.171875 25.484375 53.578125 \r\nQ 30.03125 56 36.53125 56 \r\nQ 37.453125 56 38.578125 55.875 \r\nQ 39.703125 55.765625 41.0625 55.515625 \r\nz\r\n\" id=\"DejaVuSans-114\"/>\r\n        <path d=\"M 9.421875 54.6875 \r\nL 18.40625 54.6875 \r\nL 18.40625 0 \r\nL 9.421875 0 \r\nz\r\nM 9.421875 75.984375 \r\nL 18.40625 75.984375 \r\nL 18.40625 64.59375 \r\nL 9.421875 64.59375 \r\nz\r\n\" id=\"DejaVuSans-105\"/>\r\n        <path d=\"M 34.28125 27.484375 \r\nQ 23.390625 27.484375 19.1875 25 \r\nQ 14.984375 22.515625 14.984375 16.5 \r\nQ 14.984375 11.71875 18.140625 8.90625 \r\nQ 21.296875 6.109375 26.703125 6.109375 \r\nQ 34.1875 6.109375 38.703125 11.40625 \r\nQ 43.21875 16.703125 43.21875 25.484375 \r\nL 43.21875 27.484375 \r\nz\r\nM 52.203125 31.203125 \r\nL 52.203125 0 \r\nL 43.21875 0 \r\nL 43.21875 8.296875 \r\nQ 40.140625 3.328125 35.546875 0.953125 \r\nQ 30.953125 -1.421875 24.3125 -1.421875 \r\nQ 15.921875 -1.421875 10.953125 3.296875 \r\nQ 6 8.015625 6 15.921875 \r\nQ 6 25.140625 12.171875 29.828125 \r\nQ 18.359375 34.515625 30.609375 34.515625 \r\nL 43.21875 34.515625 \r\nL 43.21875 35.40625 \r\nQ 43.21875 41.609375 39.140625 45 \r\nQ 35.0625 48.390625 27.6875 48.390625 \r\nQ 23 48.390625 18.546875 47.265625 \r\nQ 14.109375 46.140625 10.015625 43.890625 \r\nL 10.015625 52.203125 \r\nQ 14.9375 54.109375 19.578125 55.046875 \r\nQ 24.21875 56 28.609375 56 \r\nQ 40.484375 56 46.34375 49.84375 \r\nQ 52.203125 43.703125 52.203125 31.203125 \r\nz\r\n\" id=\"DejaVuSans-97\"/>\r\n       </defs>\r\n       <use xlink:href=\"#DejaVuSans-65\"/>\r\n       <use x=\"68.408203\" xlink:href=\"#DejaVuSans-117\"/>\r\n       <use x=\"131.787109\" xlink:href=\"#DejaVuSans-115\"/>\r\n       <use x=\"183.886719\" xlink:href=\"#DejaVuSans-116\"/>\r\n       <use x=\"223.095703\" xlink:href=\"#DejaVuSans-114\"/>\r\n       <use x=\"264.208984\" xlink:href=\"#DejaVuSans-105\"/>\r\n       <use x=\"291.992188\" xlink:href=\"#DejaVuSans-97\"/>\r\n      </g>\r\n     </g>\r\n    </g>\r\n    <g id=\"xtick_2\">\r\n     <g id=\"line2d_2\">\r\n      <g>\r\n       <use style=\"stroke:#000000;stroke-width:0.8;\" x=\"226.561364\" xlink:href=\"#mb5f5d70430\" y=\"550.8\"/>\r\n      </g>\r\n     </g>\r\n     <g id=\"text_2\">\r\n      <!-- Belgium -->\r\n      <g transform=\"translate(206.062926 565.398438)scale(0.1 -0.1)\">\r\n       <defs>\r\n        <path d=\"M 19.671875 34.8125 \r\nL 19.671875 8.109375 \r\nL 35.5 8.109375 \r\nQ 43.453125 8.109375 47.28125 11.40625 \r\nQ 51.125 14.703125 51.125 21.484375 \r\nQ 51.125 28.328125 47.28125 31.5625 \r\nQ 43.453125 34.8125 35.5 34.8125 \r\nz\r\nM 19.671875 64.796875 \r\nL 19.671875 42.828125 \r\nL 34.28125 42.828125 \r\nQ 41.5 42.828125 45.03125 45.53125 \r\nQ 48.578125 48.25 48.578125 53.8125 \r\nQ 48.578125 59.328125 45.03125 62.0625 \r\nQ 41.5 64.796875 34.28125 64.796875 \r\nz\r\nM 9.8125 72.90625 \r\nL 35.015625 72.90625 \r\nQ 46.296875 72.90625 52.390625 68.21875 \r\nQ 58.5 63.53125 58.5 54.890625 \r\nQ 58.5 48.1875 55.375 44.234375 \r\nQ 52.25 40.28125 46.1875 39.3125 \r\nQ 53.46875 37.75 57.5 32.78125 \r\nQ 61.53125 27.828125 61.53125 20.40625 \r\nQ 61.53125 10.640625 54.890625 5.3125 \r\nQ 48.25 0 35.984375 0 \r\nL 9.8125 0 \r\nz\r\n\" id=\"DejaVuSans-66\"/>\r\n        <path d=\"M 56.203125 29.59375 \r\nL 56.203125 25.203125 \r\nL 14.890625 25.203125 \r\nQ 15.484375 15.921875 20.484375 11.0625 \r\nQ 25.484375 6.203125 34.421875 6.203125 \r\nQ 39.59375 6.203125 44.453125 7.46875 \r\nQ 49.3125 8.734375 54.109375 11.28125 \r\nL 54.109375 2.78125 \r\nQ 49.265625 0.734375 44.1875 -0.34375 \r\nQ 39.109375 -1.421875 33.890625 -1.421875 \r\nQ 20.796875 -1.421875 13.15625 6.1875 \r\nQ 5.515625 13.8125 5.515625 26.8125 \r\nQ 5.515625 40.234375 12.765625 48.109375 \r\nQ 20.015625 56 32.328125 56 \r\nQ 43.359375 56 49.78125 48.890625 \r\nQ 56.203125 41.796875 56.203125 29.59375 \r\nz\r\nM 47.21875 32.234375 \r\nQ 47.125 39.59375 43.09375 43.984375 \r\nQ 39.0625 48.390625 32.421875 48.390625 \r\nQ 24.90625 48.390625 20.390625 44.140625 \r\nQ 15.875 39.890625 15.1875 32.171875 \r\nz\r\n\" id=\"DejaVuSans-101\"/>\r\n        <path d=\"M 9.421875 75.984375 \r\nL 18.40625 75.984375 \r\nL 18.40625 0 \r\nL 9.421875 0 \r\nz\r\n\" id=\"DejaVuSans-108\"/>\r\n        <path d=\"M 45.40625 27.984375 \r\nQ 45.40625 37.75 41.375 43.109375 \r\nQ 37.359375 48.484375 30.078125 48.484375 \r\nQ 22.859375 48.484375 18.828125 43.109375 \r\nQ 14.796875 37.75 14.796875 27.984375 \r\nQ 14.796875 18.265625 18.828125 12.890625 \r\nQ 22.859375 7.515625 30.078125 7.515625 \r\nQ 37.359375 7.515625 41.375 12.890625 \r\nQ 45.40625 18.265625 45.40625 27.984375 \r\nz\r\nM 54.390625 6.78125 \r\nQ 54.390625 -7.171875 48.1875 -13.984375 \r\nQ 42 -20.796875 29.203125 -20.796875 \r\nQ 24.46875 -20.796875 20.265625 -20.09375 \r\nQ 16.0625 -19.390625 12.109375 -17.921875 \r\nL 12.109375 -9.1875 \r\nQ 16.0625 -11.328125 19.921875 -12.34375 \r\nQ 23.78125 -13.375 27.78125 -13.375 \r\nQ 36.625 -13.375 41.015625 -8.765625 \r\nQ 45.40625 -4.15625 45.40625 5.171875 \r\nL 45.40625 9.625 \r\nQ 42.625 4.78125 38.28125 2.390625 \r\nQ 33.9375 0 27.875 0 \r\nQ 17.828125 0 11.671875 7.65625 \r\nQ 5.515625 15.328125 5.515625 27.984375 \r\nQ 5.515625 40.671875 11.671875 48.328125 \r\nQ 17.828125 56 27.875 56 \r\nQ 33.9375 56 38.28125 53.609375 \r\nQ 42.625 51.21875 45.40625 46.390625 \r\nL 45.40625 54.6875 \r\nL 54.390625 54.6875 \r\nz\r\n\" id=\"DejaVuSans-103\"/>\r\n        <path d=\"M 52 44.1875 \r\nQ 55.375 50.25 60.0625 53.125 \r\nQ 64.75 56 71.09375 56 \r\nQ 79.640625 56 84.28125 50.015625 \r\nQ 88.921875 44.046875 88.921875 33.015625 \r\nL 88.921875 0 \r\nL 79.890625 0 \r\nL 79.890625 32.71875 \r\nQ 79.890625 40.578125 77.09375 44.375 \r\nQ 74.3125 48.1875 68.609375 48.1875 \r\nQ 61.625 48.1875 57.5625 43.546875 \r\nQ 53.515625 38.921875 53.515625 30.90625 \r\nL 53.515625 0 \r\nL 44.484375 0 \r\nL 44.484375 32.71875 \r\nQ 44.484375 40.625 41.703125 44.40625 \r\nQ 38.921875 48.1875 33.109375 48.1875 \r\nQ 26.21875 48.1875 22.15625 43.53125 \r\nQ 18.109375 38.875 18.109375 30.90625 \r\nL 18.109375 0 \r\nL 9.078125 0 \r\nL 9.078125 54.6875 \r\nL 18.109375 54.6875 \r\nL 18.109375 46.1875 \r\nQ 21.1875 51.21875 25.484375 53.609375 \r\nQ 29.78125 56 35.6875 56 \r\nQ 41.65625 56 45.828125 52.96875 \r\nQ 50 49.953125 52 44.1875 \r\nz\r\n\" id=\"DejaVuSans-109\"/>\r\n       </defs>\r\n       <use xlink:href=\"#DejaVuSans-66\"/>\r\n       <use x=\"68.603516\" xlink:href=\"#DejaVuSans-101\"/>\r\n       <use x=\"130.126953\" xlink:href=\"#DejaVuSans-108\"/>\r\n       <use x=\"157.910156\" xlink:href=\"#DejaVuSans-103\"/>\r\n       <use x=\"221.386719\" xlink:href=\"#DejaVuSans-105\"/>\r\n       <use x=\"249.169922\" xlink:href=\"#DejaVuSans-117\"/>\r\n       <use x=\"312.548828\" xlink:href=\"#DejaVuSans-109\"/>\r\n      </g>\r\n     </g>\r\n    </g>\r\n    <g id=\"xtick_3\">\r\n     <g id=\"line2d_3\">\r\n      <g>\r\n       <use style=\"stroke:#000000;stroke-width:0.8;\" x=\"292.015909\" xlink:href=\"#mb5f5d70430\" y=\"550.8\"/>\r\n      </g>\r\n     </g>\r\n     <g id=\"text_3\">\r\n      <!-- Bulgaria -->\r\n      <g transform=\"translate(271.280753 565.398438)scale(0.1 -0.1)\">\r\n       <use xlink:href=\"#DejaVuSans-66\"/>\r\n       <use x=\"68.603516\" xlink:href=\"#DejaVuSans-117\"/>\r\n       <use x=\"131.982422\" xlink:href=\"#DejaVuSans-108\"/>\r\n       <use x=\"159.765625\" xlink:href=\"#DejaVuSans-103\"/>\r\n       <use x=\"223.242188\" xlink:href=\"#DejaVuSans-97\"/>\r\n       <use x=\"284.521484\" xlink:href=\"#DejaVuSans-114\"/>\r\n       <use x=\"325.634766\" xlink:href=\"#DejaVuSans-105\"/>\r\n       <use x=\"353.417969\" xlink:href=\"#DejaVuSans-97\"/>\r\n      </g>\r\n     </g>\r\n    </g>\r\n    <g id=\"xtick_4\">\r\n     <g id=\"line2d_4\">\r\n      <g>\r\n       <use style=\"stroke:#000000;stroke-width:0.8;\" x=\"357.470455\" xlink:href=\"#mb5f5d70430\" y=\"550.8\"/>\r\n      </g>\r\n     </g>\r\n     <g id=\"text_4\">\r\n      <!-- Croatia -->\r\n      <g transform=\"translate(339.499361 565.398438)scale(0.1 -0.1)\">\r\n       <defs>\r\n        <path d=\"M 64.40625 67.28125 \r\nL 64.40625 56.890625 \r\nQ 59.421875 61.53125 53.78125 63.8125 \r\nQ 48.140625 66.109375 41.796875 66.109375 \r\nQ 29.296875 66.109375 22.65625 58.46875 \r\nQ 16.015625 50.828125 16.015625 36.375 \r\nQ 16.015625 21.96875 22.65625 14.328125 \r\nQ 29.296875 6.6875 41.796875 6.6875 \r\nQ 48.140625 6.6875 53.78125 8.984375 \r\nQ 59.421875 11.28125 64.40625 15.921875 \r\nL 64.40625 5.609375 \r\nQ 59.234375 2.09375 53.4375 0.328125 \r\nQ 47.65625 -1.421875 41.21875 -1.421875 \r\nQ 24.65625 -1.421875 15.125 8.703125 \r\nQ 5.609375 18.84375 5.609375 36.375 \r\nQ 5.609375 53.953125 15.125 64.078125 \r\nQ 24.65625 74.21875 41.21875 74.21875 \r\nQ 47.75 74.21875 53.53125 72.484375 \r\nQ 59.328125 70.75 64.40625 67.28125 \r\nz\r\n\" id=\"DejaVuSans-67\"/>\r\n        <path d=\"M 30.609375 48.390625 \r\nQ 23.390625 48.390625 19.1875 42.75 \r\nQ 14.984375 37.109375 14.984375 27.296875 \r\nQ 14.984375 17.484375 19.15625 11.84375 \r\nQ 23.34375 6.203125 30.609375 6.203125 \r\nQ 37.796875 6.203125 41.984375 11.859375 \r\nQ 46.1875 17.53125 46.1875 27.296875 \r\nQ 46.1875 37.015625 41.984375 42.703125 \r\nQ 37.796875 48.390625 30.609375 48.390625 \r\nz\r\nM 30.609375 56 \r\nQ 42.328125 56 49.015625 48.375 \r\nQ 55.71875 40.765625 55.71875 27.296875 \r\nQ 55.71875 13.875 49.015625 6.21875 \r\nQ 42.328125 -1.421875 30.609375 -1.421875 \r\nQ 18.84375 -1.421875 12.171875 6.21875 \r\nQ 5.515625 13.875 5.515625 27.296875 \r\nQ 5.515625 40.765625 12.171875 48.375 \r\nQ 18.84375 56 30.609375 56 \r\nz\r\n\" id=\"DejaVuSans-111\"/>\r\n       </defs>\r\n       <use xlink:href=\"#DejaVuSans-67\"/>\r\n       <use x=\"69.824219\" xlink:href=\"#DejaVuSans-114\"/>\r\n       <use x=\"108.6875\" xlink:href=\"#DejaVuSans-111\"/>\r\n       <use x=\"169.869141\" xlink:href=\"#DejaVuSans-97\"/>\r\n       <use x=\"231.148438\" xlink:href=\"#DejaVuSans-116\"/>\r\n       <use x=\"270.357422\" xlink:href=\"#DejaVuSans-105\"/>\r\n       <use x=\"298.140625\" xlink:href=\"#DejaVuSans-97\"/>\r\n      </g>\r\n     </g>\r\n    </g>\r\n    <g id=\"xtick_5\">\r\n     <g id=\"line2d_5\">\r\n      <g>\r\n       <use style=\"stroke:#000000;stroke-width:0.8;\" x=\"422.925\" xlink:href=\"#mb5f5d70430\" y=\"550.8\"/>\r\n      </g>\r\n     </g>\r\n     <g id=\"text_5\">\r\n      <!-- Cyprus -->\r\n      <g transform=\"translate(405.471094 565.398438)scale(0.1 -0.1)\">\r\n       <defs>\r\n        <path d=\"M 32.171875 -5.078125 \r\nQ 28.375 -14.84375 24.75 -17.8125 \r\nQ 21.140625 -20.796875 15.09375 -20.796875 \r\nL 7.90625 -20.796875 \r\nL 7.90625 -13.28125 \r\nL 13.1875 -13.28125 \r\nQ 16.890625 -13.28125 18.9375 -11.515625 \r\nQ 21 -9.765625 23.484375 -3.21875 \r\nL 25.09375 0.875 \r\nL 2.984375 54.6875 \r\nL 12.5 54.6875 \r\nL 29.59375 11.921875 \r\nL 46.6875 54.6875 \r\nL 56.203125 54.6875 \r\nz\r\n\" id=\"DejaVuSans-121\"/>\r\n        <path d=\"M 18.109375 8.203125 \r\nL 18.109375 -20.796875 \r\nL 9.078125 -20.796875 \r\nL 9.078125 54.6875 \r\nL 18.109375 54.6875 \r\nL 18.109375 46.390625 \r\nQ 20.953125 51.265625 25.265625 53.625 \r\nQ 29.59375 56 35.59375 56 \r\nQ 45.5625 56 51.78125 48.09375 \r\nQ 58.015625 40.1875 58.015625 27.296875 \r\nQ 58.015625 14.40625 51.78125 6.484375 \r\nQ 45.5625 -1.421875 35.59375 -1.421875 \r\nQ 29.59375 -1.421875 25.265625 0.953125 \r\nQ 20.953125 3.328125 18.109375 8.203125 \r\nz\r\nM 48.6875 27.296875 \r\nQ 48.6875 37.203125 44.609375 42.84375 \r\nQ 40.53125 48.484375 33.40625 48.484375 \r\nQ 26.265625 48.484375 22.1875 42.84375 \r\nQ 18.109375 37.203125 18.109375 27.296875 \r\nQ 18.109375 17.390625 22.1875 11.75 \r\nQ 26.265625 6.109375 33.40625 6.109375 \r\nQ 40.53125 6.109375 44.609375 11.75 \r\nQ 48.6875 17.390625 48.6875 27.296875 \r\nz\r\n\" id=\"DejaVuSans-112\"/>\r\n       </defs>\r\n       <use xlink:href=\"#DejaVuSans-67\"/>\r\n       <use x=\"69.824219\" xlink:href=\"#DejaVuSans-121\"/>\r\n       <use x=\"129.003906\" xlink:href=\"#DejaVuSans-112\"/>\r\n       <use x=\"192.480469\" xlink:href=\"#DejaVuSans-114\"/>\r\n       <use x=\"233.59375\" xlink:href=\"#DejaVuSans-117\"/>\r\n       <use x=\"296.972656\" xlink:href=\"#DejaVuSans-115\"/>\r\n      </g>\r\n     </g>\r\n    </g>\r\n    <g id=\"xtick_6\">\r\n     <g id=\"line2d_6\">\r\n      <g>\r\n       <use style=\"stroke:#000000;stroke-width:0.8;\" x=\"488.379545\" xlink:href=\"#mb5f5d70430\" y=\"550.8\"/>\r\n      </g>\r\n     </g>\r\n     <g id=\"text_6\">\r\n      <!-- Czechia -->\r\n      <g transform=\"translate(468.816264 565.398438)scale(0.1 -0.1)\">\r\n       <defs>\r\n        <path d=\"M 5.515625 54.6875 \r\nL 48.1875 54.6875 \r\nL 48.1875 46.484375 \r\nL 14.40625 7.171875 \r\nL 48.1875 7.171875 \r\nL 48.1875 0 \r\nL 4.296875 0 \r\nL 4.296875 8.203125 \r\nL 38.09375 47.515625 \r\nL 5.515625 47.515625 \r\nz\r\n\" id=\"DejaVuSans-122\"/>\r\n        <path d=\"M 48.78125 52.59375 \r\nL 48.78125 44.1875 \r\nQ 44.96875 46.296875 41.140625 47.34375 \r\nQ 37.3125 48.390625 33.40625 48.390625 \r\nQ 24.65625 48.390625 19.8125 42.84375 \r\nQ 14.984375 37.3125 14.984375 27.296875 \r\nQ 14.984375 17.28125 19.8125 11.734375 \r\nQ 24.65625 6.203125 33.40625 6.203125 \r\nQ 37.3125 6.203125 41.140625 7.25 \r\nQ 44.96875 8.296875 48.78125 10.40625 \r\nL 48.78125 2.09375 \r\nQ 45.015625 0.34375 40.984375 -0.53125 \r\nQ 36.96875 -1.421875 32.421875 -1.421875 \r\nQ 20.0625 -1.421875 12.78125 6.34375 \r\nQ 5.515625 14.109375 5.515625 27.296875 \r\nQ 5.515625 40.671875 12.859375 48.328125 \r\nQ 20.21875 56 33.015625 56 \r\nQ 37.15625 56 41.109375 55.140625 \r\nQ 45.0625 54.296875 48.78125 52.59375 \r\nz\r\n\" id=\"DejaVuSans-99\"/>\r\n        <path d=\"M 54.890625 33.015625 \r\nL 54.890625 0 \r\nL 45.90625 0 \r\nL 45.90625 32.71875 \r\nQ 45.90625 40.484375 42.875 44.328125 \r\nQ 39.84375 48.1875 33.796875 48.1875 \r\nQ 26.515625 48.1875 22.3125 43.546875 \r\nQ 18.109375 38.921875 18.109375 30.90625 \r\nL 18.109375 0 \r\nL 9.078125 0 \r\nL 9.078125 75.984375 \r\nL 18.109375 75.984375 \r\nL 18.109375 46.1875 \r\nQ 21.34375 51.125 25.703125 53.5625 \r\nQ 30.078125 56 35.796875 56 \r\nQ 45.21875 56 50.046875 50.171875 \r\nQ 54.890625 44.34375 54.890625 33.015625 \r\nz\r\n\" id=\"DejaVuSans-104\"/>\r\n       </defs>\r\n       <use xlink:href=\"#DejaVuSans-67\"/>\r\n       <use x=\"69.824219\" xlink:href=\"#DejaVuSans-122\"/>\r\n       <use x=\"122.314453\" xlink:href=\"#DejaVuSans-101\"/>\r\n       <use x=\"183.837891\" xlink:href=\"#DejaVuSans-99\"/>\r\n       <use x=\"238.818359\" xlink:href=\"#DejaVuSans-104\"/>\r\n       <use x=\"302.197266\" xlink:href=\"#DejaVuSans-105\"/>\r\n       <use x=\"329.980469\" xlink:href=\"#DejaVuSans-97\"/>\r\n      </g>\r\n     </g>\r\n    </g>\r\n    <g id=\"xtick_7\">\r\n     <g id=\"line2d_7\">\r\n      <g>\r\n       <use style=\"stroke:#000000;stroke-width:0.8;\" x=\"553.834091\" xlink:href=\"#mb5f5d70430\" y=\"550.8\"/>\r\n      </g>\r\n     </g>\r\n     <g id=\"text_7\">\r\n      <!-- Denmark -->\r\n      <g transform=\"translate(530.853622 565.398438)scale(0.1 -0.1)\">\r\n       <defs>\r\n        <path d=\"M 19.671875 64.796875 \r\nL 19.671875 8.109375 \r\nL 31.59375 8.109375 \r\nQ 46.6875 8.109375 53.6875 14.9375 \r\nQ 60.6875 21.78125 60.6875 36.53125 \r\nQ 60.6875 51.171875 53.6875 57.984375 \r\nQ 46.6875 64.796875 31.59375 64.796875 \r\nz\r\nM 9.8125 72.90625 \r\nL 30.078125 72.90625 \r\nQ 51.265625 72.90625 61.171875 64.09375 \r\nQ 71.09375 55.28125 71.09375 36.53125 \r\nQ 71.09375 17.671875 61.125 8.828125 \r\nQ 51.171875 0 30.078125 0 \r\nL 9.8125 0 \r\nz\r\n\" id=\"DejaVuSans-68\"/>\r\n        <path d=\"M 54.890625 33.015625 \r\nL 54.890625 0 \r\nL 45.90625 0 \r\nL 45.90625 32.71875 \r\nQ 45.90625 40.484375 42.875 44.328125 \r\nQ 39.84375 48.1875 33.796875 48.1875 \r\nQ 26.515625 48.1875 22.3125 43.546875 \r\nQ 18.109375 38.921875 18.109375 30.90625 \r\nL 18.109375 0 \r\nL 9.078125 0 \r\nL 9.078125 54.6875 \r\nL 18.109375 54.6875 \r\nL 18.109375 46.1875 \r\nQ 21.34375 51.125 25.703125 53.5625 \r\nQ 30.078125 56 35.796875 56 \r\nQ 45.21875 56 50.046875 50.171875 \r\nQ 54.890625 44.34375 54.890625 33.015625 \r\nz\r\n\" id=\"DejaVuSans-110\"/>\r\n        <path d=\"M 9.078125 75.984375 \r\nL 18.109375 75.984375 \r\nL 18.109375 31.109375 \r\nL 44.921875 54.6875 \r\nL 56.390625 54.6875 \r\nL 27.390625 29.109375 \r\nL 57.625 0 \r\nL 45.90625 0 \r\nL 18.109375 26.703125 \r\nL 18.109375 0 \r\nL 9.078125 0 \r\nz\r\n\" id=\"DejaVuSans-107\"/>\r\n       </defs>\r\n       <use xlink:href=\"#DejaVuSans-68\"/>\r\n       <use x=\"77.001953\" xlink:href=\"#DejaVuSans-101\"/>\r\n       <use x=\"138.525391\" xlink:href=\"#DejaVuSans-110\"/>\r\n       <use x=\"201.904297\" xlink:href=\"#DejaVuSans-109\"/>\r\n       <use x=\"299.316406\" xlink:href=\"#DejaVuSans-97\"/>\r\n       <use x=\"360.595703\" xlink:href=\"#DejaVuSans-114\"/>\r\n       <use x=\"401.708984\" xlink:href=\"#DejaVuSans-107\"/>\r\n      </g>\r\n     </g>\r\n    </g>\r\n    <g id=\"xtick_8\">\r\n     <g id=\"line2d_8\">\r\n      <g>\r\n       <use style=\"stroke:#000000;stroke-width:0.8;\" x=\"619.288636\" xlink:href=\"#mb5f5d70430\" y=\"550.8\"/>\r\n      </g>\r\n     </g>\r\n     <g id=\"text_8\">\r\n      <!-- EU-28 -->\r\n      <g transform=\"translate(604.30348 565.398438)scale(0.1 -0.1)\">\r\n       <defs>\r\n        <path d=\"M 9.8125 72.90625 \r\nL 55.90625 72.90625 \r\nL 55.90625 64.59375 \r\nL 19.671875 64.59375 \r\nL 19.671875 43.015625 \r\nL 54.390625 43.015625 \r\nL 54.390625 34.71875 \r\nL 19.671875 34.71875 \r\nL 19.671875 8.296875 \r\nL 56.78125 8.296875 \r\nL 56.78125 0 \r\nL 9.8125 0 \r\nz\r\n\" id=\"DejaVuSans-69\"/>\r\n        <path d=\"M 8.6875 72.90625 \r\nL 18.609375 72.90625 \r\nL 18.609375 28.609375 \r\nQ 18.609375 16.890625 22.84375 11.734375 \r\nQ 27.09375 6.59375 36.625 6.59375 \r\nQ 46.09375 6.59375 50.34375 11.734375 \r\nQ 54.59375 16.890625 54.59375 28.609375 \r\nL 54.59375 72.90625 \r\nL 64.5 72.90625 \r\nL 64.5 27.390625 \r\nQ 64.5 13.140625 57.4375 5.859375 \r\nQ 50.390625 -1.421875 36.625 -1.421875 \r\nQ 22.796875 -1.421875 15.734375 5.859375 \r\nQ 8.6875 13.140625 8.6875 27.390625 \r\nz\r\n\" id=\"DejaVuSans-85\"/>\r\n        <path d=\"M 4.890625 31.390625 \r\nL 31.203125 31.390625 \r\nL 31.203125 23.390625 \r\nL 4.890625 23.390625 \r\nz\r\n\" id=\"DejaVuSans-45\"/>\r\n        <path d=\"M 19.1875 8.296875 \r\nL 53.609375 8.296875 \r\nL 53.609375 0 \r\nL 7.328125 0 \r\nL 7.328125 8.296875 \r\nQ 12.9375 14.109375 22.625 23.890625 \r\nQ 32.328125 33.6875 34.8125 36.53125 \r\nQ 39.546875 41.84375 41.421875 45.53125 \r\nQ 43.3125 49.21875 43.3125 52.78125 \r\nQ 43.3125 58.59375 39.234375 62.25 \r\nQ 35.15625 65.921875 28.609375 65.921875 \r\nQ 23.96875 65.921875 18.8125 64.3125 \r\nQ 13.671875 62.703125 7.8125 59.421875 \r\nL 7.8125 69.390625 \r\nQ 13.765625 71.78125 18.9375 73 \r\nQ 24.125 74.21875 28.421875 74.21875 \r\nQ 39.75 74.21875 46.484375 68.546875 \r\nQ 53.21875 62.890625 53.21875 53.421875 \r\nQ 53.21875 48.921875 51.53125 44.890625 \r\nQ 49.859375 40.875 45.40625 35.40625 \r\nQ 44.1875 33.984375 37.640625 27.21875 \r\nQ 31.109375 20.453125 19.1875 8.296875 \r\nz\r\n\" id=\"DejaVuSans-50\"/>\r\n        <path d=\"M 31.78125 34.625 \r\nQ 24.75 34.625 20.71875 30.859375 \r\nQ 16.703125 27.09375 16.703125 20.515625 \r\nQ 16.703125 13.921875 20.71875 10.15625 \r\nQ 24.75 6.390625 31.78125 6.390625 \r\nQ 38.8125 6.390625 42.859375 10.171875 \r\nQ 46.921875 13.96875 46.921875 20.515625 \r\nQ 46.921875 27.09375 42.890625 30.859375 \r\nQ 38.875 34.625 31.78125 34.625 \r\nz\r\nM 21.921875 38.8125 \r\nQ 15.578125 40.375 12.03125 44.71875 \r\nQ 8.5 49.078125 8.5 55.328125 \r\nQ 8.5 64.0625 14.71875 69.140625 \r\nQ 20.953125 74.21875 31.78125 74.21875 \r\nQ 42.671875 74.21875 48.875 69.140625 \r\nQ 55.078125 64.0625 55.078125 55.328125 \r\nQ 55.078125 49.078125 51.53125 44.71875 \r\nQ 48 40.375 41.703125 38.8125 \r\nQ 48.828125 37.15625 52.796875 32.3125 \r\nQ 56.78125 27.484375 56.78125 20.515625 \r\nQ 56.78125 9.90625 50.3125 4.234375 \r\nQ 43.84375 -1.421875 31.78125 -1.421875 \r\nQ 19.734375 -1.421875 13.25 4.234375 \r\nQ 6.78125 9.90625 6.78125 20.515625 \r\nQ 6.78125 27.484375 10.78125 32.3125 \r\nQ 14.796875 37.15625 21.921875 38.8125 \r\nz\r\nM 18.3125 54.390625 \r\nQ 18.3125 48.734375 21.84375 45.5625 \r\nQ 25.390625 42.390625 31.78125 42.390625 \r\nQ 38.140625 42.390625 41.71875 45.5625 \r\nQ 45.3125 48.734375 45.3125 54.390625 \r\nQ 45.3125 60.0625 41.71875 63.234375 \r\nQ 38.140625 66.40625 31.78125 66.40625 \r\nQ 25.390625 66.40625 21.84375 63.234375 \r\nQ 18.3125 60.0625 18.3125 54.390625 \r\nz\r\n\" id=\"DejaVuSans-56\"/>\r\n       </defs>\r\n       <use xlink:href=\"#DejaVuSans-69\"/>\r\n       <use x=\"63.183594\" xlink:href=\"#DejaVuSans-85\"/>\r\n       <use x=\"136.376953\" xlink:href=\"#DejaVuSans-45\"/>\r\n       <use x=\"172.460938\" xlink:href=\"#DejaVuSans-50\"/>\r\n       <use x=\"236.083984\" xlink:href=\"#DejaVuSans-56\"/>\r\n      </g>\r\n     </g>\r\n    </g>\r\n    <g id=\"xtick_9\">\r\n     <g id=\"line2d_9\">\r\n      <g>\r\n       <use style=\"stroke:#000000;stroke-width:0.8;\" x=\"684.743182\" xlink:href=\"#mb5f5d70430\" y=\"550.8\"/>\r\n      </g>\r\n     </g>\r\n     <g id=\"text_9\">\r\n      <!-- Estonia -->\r\n      <g transform=\"translate(666.337713 565.398438)scale(0.1 -0.1)\">\r\n       <use xlink:href=\"#DejaVuSans-69\"/>\r\n       <use x=\"63.183594\" xlink:href=\"#DejaVuSans-115\"/>\r\n       <use x=\"115.283203\" xlink:href=\"#DejaVuSans-116\"/>\r\n       <use x=\"154.492188\" xlink:href=\"#DejaVuSans-111\"/>\r\n       <use x=\"215.673828\" xlink:href=\"#DejaVuSans-110\"/>\r\n       <use x=\"279.052734\" xlink:href=\"#DejaVuSans-105\"/>\r\n       <use x=\"306.835938\" xlink:href=\"#DejaVuSans-97\"/>\r\n      </g>\r\n     </g>\r\n    </g>\r\n    <g id=\"xtick_10\">\r\n     <g id=\"line2d_10\">\r\n      <g>\r\n       <use style=\"stroke:#000000;stroke-width:0.8;\" x=\"750.197727\" xlink:href=\"#mb5f5d70430\" y=\"550.8\"/>\r\n      </g>\r\n     </g>\r\n     <g id=\"text_10\">\r\n      <!-- Finland -->\r\n      <g transform=\"translate(732.33054 565.398438)scale(0.1 -0.1)\">\r\n       <defs>\r\n        <path d=\"M 9.8125 72.90625 \r\nL 51.703125 72.90625 \r\nL 51.703125 64.59375 \r\nL 19.671875 64.59375 \r\nL 19.671875 43.109375 \r\nL 48.578125 43.109375 \r\nL 48.578125 34.8125 \r\nL 19.671875 34.8125 \r\nL 19.671875 0 \r\nL 9.8125 0 \r\nz\r\n\" id=\"DejaVuSans-70\"/>\r\n        <path d=\"M 45.40625 46.390625 \r\nL 45.40625 75.984375 \r\nL 54.390625 75.984375 \r\nL 54.390625 0 \r\nL 45.40625 0 \r\nL 45.40625 8.203125 \r\nQ 42.578125 3.328125 38.25 0.953125 \r\nQ 33.9375 -1.421875 27.875 -1.421875 \r\nQ 17.96875 -1.421875 11.734375 6.484375 \r\nQ 5.515625 14.40625 5.515625 27.296875 \r\nQ 5.515625 40.1875 11.734375 48.09375 \r\nQ 17.96875 56 27.875 56 \r\nQ 33.9375 56 38.25 53.625 \r\nQ 42.578125 51.265625 45.40625 46.390625 \r\nz\r\nM 14.796875 27.296875 \r\nQ 14.796875 17.390625 18.875 11.75 \r\nQ 22.953125 6.109375 30.078125 6.109375 \r\nQ 37.203125 6.109375 41.296875 11.75 \r\nQ 45.40625 17.390625 45.40625 27.296875 \r\nQ 45.40625 37.203125 41.296875 42.84375 \r\nQ 37.203125 48.484375 30.078125 48.484375 \r\nQ 22.953125 48.484375 18.875 42.84375 \r\nQ 14.796875 37.203125 14.796875 27.296875 \r\nz\r\n\" id=\"DejaVuSans-100\"/>\r\n       </defs>\r\n       <use xlink:href=\"#DejaVuSans-70\"/>\r\n       <use x=\"50.269531\" xlink:href=\"#DejaVuSans-105\"/>\r\n       <use x=\"78.052734\" xlink:href=\"#DejaVuSans-110\"/>\r\n       <use x=\"141.431641\" xlink:href=\"#DejaVuSans-108\"/>\r\n       <use x=\"169.214844\" xlink:href=\"#DejaVuSans-97\"/>\r\n       <use x=\"230.494141\" xlink:href=\"#DejaVuSans-110\"/>\r\n       <use x=\"293.873047\" xlink:href=\"#DejaVuSans-100\"/>\r\n      </g>\r\n     </g>\r\n    </g>\r\n    <g id=\"xtick_11\">\r\n     <g id=\"line2d_11\">\r\n      <g>\r\n       <use style=\"stroke:#000000;stroke-width:0.8;\" x=\"815.652273\" xlink:href=\"#mb5f5d70430\" y=\"550.8\"/>\r\n      </g>\r\n     </g>\r\n     <g id=\"text_11\">\r\n      <!-- France -->\r\n      <g transform=\"translate(799.024929 565.398438)scale(0.1 -0.1)\">\r\n       <use xlink:href=\"#DejaVuSans-70\"/>\r\n       <use x=\"50.269531\" xlink:href=\"#DejaVuSans-114\"/>\r\n       <use x=\"91.382812\" xlink:href=\"#DejaVuSans-97\"/>\r\n       <use x=\"152.662109\" xlink:href=\"#DejaVuSans-110\"/>\r\n       <use x=\"216.041016\" xlink:href=\"#DejaVuSans-99\"/>\r\n       <use x=\"271.021484\" xlink:href=\"#DejaVuSans-101\"/>\r\n      </g>\r\n     </g>\r\n    </g>\r\n    <g id=\"xtick_12\">\r\n     <g id=\"line2d_12\">\r\n      <g>\r\n       <use style=\"stroke:#000000;stroke-width:0.8;\" x=\"881.106818\" xlink:href=\"#mb5f5d70430\" y=\"550.8\"/>\r\n      </g>\r\n     </g>\r\n     <g id=\"text_12\">\r\n      <!-- Germany -->\r\n      <g transform=\"translate(858.125568 565.398438)scale(0.1 -0.1)\">\r\n       <defs>\r\n        <path d=\"M 59.515625 10.40625 \r\nL 59.515625 29.984375 \r\nL 43.40625 29.984375 \r\nL 43.40625 38.09375 \r\nL 69.28125 38.09375 \r\nL 69.28125 6.78125 \r\nQ 63.578125 2.734375 56.6875 0.65625 \r\nQ 49.8125 -1.421875 42 -1.421875 \r\nQ 24.90625 -1.421875 15.25 8.5625 \r\nQ 5.609375 18.5625 5.609375 36.375 \r\nQ 5.609375 54.25 15.25 64.234375 \r\nQ 24.90625 74.21875 42 74.21875 \r\nQ 49.125 74.21875 55.546875 72.453125 \r\nQ 61.96875 70.703125 67.390625 67.28125 \r\nL 67.390625 56.78125 \r\nQ 61.921875 61.421875 55.765625 63.765625 \r\nQ 49.609375 66.109375 42.828125 66.109375 \r\nQ 29.4375 66.109375 22.71875 58.640625 \r\nQ 16.015625 51.171875 16.015625 36.375 \r\nQ 16.015625 21.625 22.71875 14.15625 \r\nQ 29.4375 6.6875 42.828125 6.6875 \r\nQ 48.046875 6.6875 52.140625 7.59375 \r\nQ 56.25 8.5 59.515625 10.40625 \r\nz\r\n\" id=\"DejaVuSans-71\"/>\r\n       </defs>\r\n       <use xlink:href=\"#DejaVuSans-71\"/>\r\n       <use x=\"77.490234\" xlink:href=\"#DejaVuSans-101\"/>\r\n       <use x=\"139.013672\" xlink:href=\"#DejaVuSans-114\"/>\r\n       <use x=\"178.376953\" xlink:href=\"#DejaVuSans-109\"/>\r\n       <use x=\"275.789062\" xlink:href=\"#DejaVuSans-97\"/>\r\n       <use x=\"337.068359\" xlink:href=\"#DejaVuSans-110\"/>\r\n       <use x=\"400.447266\" xlink:href=\"#DejaVuSans-121\"/>\r\n      </g>\r\n     </g>\r\n    </g>\r\n    <g id=\"xtick_13\">\r\n     <g id=\"line2d_13\">\r\n      <g>\r\n       <use style=\"stroke:#000000;stroke-width:0.8;\" x=\"946.561364\" xlink:href=\"#mb5f5d70430\" y=\"550.8\"/>\r\n      </g>\r\n     </g>\r\n     <g id=\"text_13\">\r\n      <!-- Greece -->\r\n      <g transform=\"translate(928.76527 565.398438)scale(0.1 -0.1)\">\r\n       <use xlink:href=\"#DejaVuSans-71\"/>\r\n       <use x=\"77.490234\" xlink:href=\"#DejaVuSans-114\"/>\r\n       <use x=\"116.353516\" xlink:href=\"#DejaVuSans-101\"/>\r\n       <use x=\"177.876953\" xlink:href=\"#DejaVuSans-101\"/>\r\n       <use x=\"239.400391\" xlink:href=\"#DejaVuSans-99\"/>\r\n       <use x=\"294.380859\" xlink:href=\"#DejaVuSans-101\"/>\r\n      </g>\r\n     </g>\r\n    </g>\r\n    <g id=\"xtick_14\">\r\n     <g id=\"line2d_14\">\r\n      <g>\r\n       <use style=\"stroke:#000000;stroke-width:0.8;\" x=\"1012.015909\" xlink:href=\"#mb5f5d70430\" y=\"550.8\"/>\r\n      </g>\r\n     </g>\r\n     <g id=\"text_14\">\r\n      <!-- Hungary -->\r\n      <g transform=\"translate(990.665128 565.398438)scale(0.1 -0.1)\">\r\n       <defs>\r\n        <path d=\"M 9.8125 72.90625 \r\nL 19.671875 72.90625 \r\nL 19.671875 43.015625 \r\nL 55.515625 43.015625 \r\nL 55.515625 72.90625 \r\nL 65.375 72.90625 \r\nL 65.375 0 \r\nL 55.515625 0 \r\nL 55.515625 34.71875 \r\nL 19.671875 34.71875 \r\nL 19.671875 0 \r\nL 9.8125 0 \r\nz\r\n\" id=\"DejaVuSans-72\"/>\r\n       </defs>\r\n       <use xlink:href=\"#DejaVuSans-72\"/>\r\n       <use x=\"75.195312\" xlink:href=\"#DejaVuSans-117\"/>\r\n       <use x=\"138.574219\" xlink:href=\"#DejaVuSans-110\"/>\r\n       <use x=\"201.953125\" xlink:href=\"#DejaVuSans-103\"/>\r\n       <use x=\"265.429688\" xlink:href=\"#DejaVuSans-97\"/>\r\n       <use x=\"326.708984\" xlink:href=\"#DejaVuSans-114\"/>\r\n       <use x=\"367.822266\" xlink:href=\"#DejaVuSans-121\"/>\r\n      </g>\r\n     </g>\r\n    </g>\r\n    <g id=\"xtick_15\">\r\n     <g id=\"line2d_15\">\r\n      <g>\r\n       <use style=\"stroke:#000000;stroke-width:0.8;\" x=\"1077.470455\" xlink:href=\"#mb5f5d70430\" y=\"550.8\"/>\r\n      </g>\r\n     </g>\r\n     <g id=\"text_15\">\r\n      <!-- Ireland -->\r\n      <g transform=\"translate(1060.17983 565.398438)scale(0.1 -0.1)\">\r\n       <defs>\r\n        <path d=\"M 9.8125 72.90625 \r\nL 19.671875 72.90625 \r\nL 19.671875 0 \r\nL 9.8125 0 \r\nz\r\n\" id=\"DejaVuSans-73\"/>\r\n       </defs>\r\n       <use xlink:href=\"#DejaVuSans-73\"/>\r\n       <use x=\"29.492188\" xlink:href=\"#DejaVuSans-114\"/>\r\n       <use x=\"68.355469\" xlink:href=\"#DejaVuSans-101\"/>\r\n       <use x=\"129.878906\" xlink:href=\"#DejaVuSans-108\"/>\r\n       <use x=\"157.662109\" xlink:href=\"#DejaVuSans-97\"/>\r\n       <use x=\"218.941406\" xlink:href=\"#DejaVuSans-110\"/>\r\n       <use x=\"282.320312\" xlink:href=\"#DejaVuSans-100\"/>\r\n      </g>\r\n     </g>\r\n    </g>\r\n    <g id=\"xtick_16\">\r\n     <g id=\"line2d_16\">\r\n      <g>\r\n       <use style=\"stroke:#000000;stroke-width:0.8;\" x=\"1142.925\" xlink:href=\"#mb5f5d70430\" y=\"550.8\"/>\r\n      </g>\r\n     </g>\r\n     <g id=\"text_16\">\r\n      <!-- Italy -->\r\n      <g transform=\"translate(1132.077344 565.398438)scale(0.1 -0.1)\">\r\n       <use xlink:href=\"#DejaVuSans-73\"/>\r\n       <use x=\"29.492188\" xlink:href=\"#DejaVuSans-116\"/>\r\n       <use x=\"68.701172\" xlink:href=\"#DejaVuSans-97\"/>\r\n       <use x=\"129.980469\" xlink:href=\"#DejaVuSans-108\"/>\r\n       <use x=\"157.763672\" xlink:href=\"#DejaVuSans-121\"/>\r\n      </g>\r\n     </g>\r\n    </g>\r\n    <g id=\"xtick_17\">\r\n     <g id=\"line2d_17\">\r\n      <g>\r\n       <use style=\"stroke:#000000;stroke-width:0.8;\" x=\"1208.379545\" xlink:href=\"#mb5f5d70430\" y=\"550.8\"/>\r\n      </g>\r\n     </g>\r\n     <g id=\"text_17\">\r\n      <!-- Latvia -->\r\n      <g transform=\"translate(1193.156889 565.398438)scale(0.1 -0.1)\">\r\n       <defs>\r\n        <path d=\"M 9.8125 72.90625 \r\nL 19.671875 72.90625 \r\nL 19.671875 8.296875 \r\nL 55.171875 8.296875 \r\nL 55.171875 0 \r\nL 9.8125 0 \r\nz\r\n\" id=\"DejaVuSans-76\"/>\r\n        <path d=\"M 2.984375 54.6875 \r\nL 12.5 54.6875 \r\nL 29.59375 8.796875 \r\nL 46.6875 54.6875 \r\nL 56.203125 54.6875 \r\nL 35.6875 0 \r\nL 23.484375 0 \r\nz\r\n\" id=\"DejaVuSans-118\"/>\r\n       </defs>\r\n       <use xlink:href=\"#DejaVuSans-76\"/>\r\n       <use x=\"55.712891\" xlink:href=\"#DejaVuSans-97\"/>\r\n       <use x=\"116.992188\" xlink:href=\"#DejaVuSans-116\"/>\r\n       <use x=\"156.201172\" xlink:href=\"#DejaVuSans-118\"/>\r\n       <use x=\"215.380859\" xlink:href=\"#DejaVuSans-105\"/>\r\n       <use x=\"243.164062\" xlink:href=\"#DejaVuSans-97\"/>\r\n      </g>\r\n     </g>\r\n    </g>\r\n    <g id=\"xtick_18\">\r\n     <g id=\"line2d_18\">\r\n      <g>\r\n       <use style=\"stroke:#000000;stroke-width:0.8;\" x=\"1273.834091\" xlink:href=\"#mb5f5d70430\" y=\"550.8\"/>\r\n      </g>\r\n     </g>\r\n     <g id=\"text_18\">\r\n      <!-- Lithuania -->\r\n      <g transform=\"translate(1250.675497 565.398438)scale(0.1 -0.1)\">\r\n       <use xlink:href=\"#DejaVuSans-76\"/>\r\n       <use x=\"55.712891\" xlink:href=\"#DejaVuSans-105\"/>\r\n       <use x=\"83.496094\" xlink:href=\"#DejaVuSans-116\"/>\r\n       <use x=\"122.705078\" xlink:href=\"#DejaVuSans-104\"/>\r\n       <use x=\"186.083984\" xlink:href=\"#DejaVuSans-117\"/>\r\n       <use x=\"249.462891\" xlink:href=\"#DejaVuSans-97\"/>\r\n       <use x=\"310.742188\" xlink:href=\"#DejaVuSans-110\"/>\r\n       <use x=\"374.121094\" xlink:href=\"#DejaVuSans-105\"/>\r\n       <use x=\"401.904297\" xlink:href=\"#DejaVuSans-97\"/>\r\n      </g>\r\n     </g>\r\n    </g>\r\n    <g id=\"xtick_19\">\r\n     <g id=\"line2d_19\">\r\n      <g>\r\n       <use style=\"stroke:#000000;stroke-width:0.8;\" x=\"1339.288636\" xlink:href=\"#mb5f5d70430\" y=\"550.8\"/>\r\n      </g>\r\n     </g>\r\n     <g id=\"text_19\">\r\n      <!-- Luxembourg -->\r\n      <g transform=\"translate(1308.126918 565.398438)scale(0.1 -0.1)\">\r\n       <defs>\r\n        <path d=\"M 54.890625 54.6875 \r\nL 35.109375 28.078125 \r\nL 55.90625 0 \r\nL 45.3125 0 \r\nL 29.390625 21.484375 \r\nL 13.484375 0 \r\nL 2.875 0 \r\nL 24.125 28.609375 \r\nL 4.6875 54.6875 \r\nL 15.28125 54.6875 \r\nL 29.78125 35.203125 \r\nL 44.28125 54.6875 \r\nz\r\n\" id=\"DejaVuSans-120\"/>\r\n        <path d=\"M 48.6875 27.296875 \r\nQ 48.6875 37.203125 44.609375 42.84375 \r\nQ 40.53125 48.484375 33.40625 48.484375 \r\nQ 26.265625 48.484375 22.1875 42.84375 \r\nQ 18.109375 37.203125 18.109375 27.296875 \r\nQ 18.109375 17.390625 22.1875 11.75 \r\nQ 26.265625 6.109375 33.40625 6.109375 \r\nQ 40.53125 6.109375 44.609375 11.75 \r\nQ 48.6875 17.390625 48.6875 27.296875 \r\nz\r\nM 18.109375 46.390625 \r\nQ 20.953125 51.265625 25.265625 53.625 \r\nQ 29.59375 56 35.59375 56 \r\nQ 45.5625 56 51.78125 48.09375 \r\nQ 58.015625 40.1875 58.015625 27.296875 \r\nQ 58.015625 14.40625 51.78125 6.484375 \r\nQ 45.5625 -1.421875 35.59375 -1.421875 \r\nQ 29.59375 -1.421875 25.265625 0.953125 \r\nQ 20.953125 3.328125 18.109375 8.203125 \r\nL 18.109375 0 \r\nL 9.078125 0 \r\nL 9.078125 75.984375 \r\nL 18.109375 75.984375 \r\nz\r\n\" id=\"DejaVuSans-98\"/>\r\n       </defs>\r\n       <use xlink:href=\"#DejaVuSans-76\"/>\r\n       <use x=\"53.962891\" xlink:href=\"#DejaVuSans-117\"/>\r\n       <use x=\"117.341797\" xlink:href=\"#DejaVuSans-120\"/>\r\n       <use x=\"173.396484\" xlink:href=\"#DejaVuSans-101\"/>\r\n       <use x=\"234.919922\" xlink:href=\"#DejaVuSans-109\"/>\r\n       <use x=\"332.332031\" xlink:href=\"#DejaVuSans-98\"/>\r\n       <use x=\"395.808594\" xlink:href=\"#DejaVuSans-111\"/>\r\n       <use x=\"456.990234\" xlink:href=\"#DejaVuSans-117\"/>\r\n       <use x=\"520.369141\" xlink:href=\"#DejaVuSans-114\"/>\r\n       <use x=\"559.732422\" xlink:href=\"#DejaVuSans-103\"/>\r\n      </g>\r\n     </g>\r\n    </g>\r\n    <g id=\"xtick_20\">\r\n     <g id=\"line2d_20\">\r\n      <g>\r\n       <use style=\"stroke:#000000;stroke-width:0.8;\" x=\"1404.743182\" xlink:href=\"#mb5f5d70430\" y=\"550.8\"/>\r\n      </g>\r\n     </g>\r\n     <g id=\"text_20\">\r\n      <!-- Malta -->\r\n      <g transform=\"translate(1390.951776 565.398438)scale(0.1 -0.1)\">\r\n       <defs>\r\n        <path d=\"M 9.8125 72.90625 \r\nL 24.515625 72.90625 \r\nL 43.109375 23.296875 \r\nL 61.8125 72.90625 \r\nL 76.515625 72.90625 \r\nL 76.515625 0 \r\nL 66.890625 0 \r\nL 66.890625 64.015625 \r\nL 48.09375 14.015625 \r\nL 38.1875 14.015625 \r\nL 19.390625 64.015625 \r\nL 19.390625 0 \r\nL 9.8125 0 \r\nz\r\n\" id=\"DejaVuSans-77\"/>\r\n       </defs>\r\n       <use xlink:href=\"#DejaVuSans-77\"/>\r\n       <use x=\"86.279297\" xlink:href=\"#DejaVuSans-97\"/>\r\n       <use x=\"147.558594\" xlink:href=\"#DejaVuSans-108\"/>\r\n       <use x=\"175.341797\" xlink:href=\"#DejaVuSans-116\"/>\r\n       <use x=\"214.550781\" xlink:href=\"#DejaVuSans-97\"/>\r\n      </g>\r\n     </g>\r\n    </g>\r\n    <g id=\"xtick_21\">\r\n     <g id=\"line2d_21\">\r\n      <g>\r\n       <use style=\"stroke:#000000;stroke-width:0.8;\" x=\"1470.197727\" xlink:href=\"#mb5f5d70430\" y=\"550.8\"/>\r\n      </g>\r\n     </g>\r\n     <g id=\"text_21\">\r\n      <!-- Netherlands -->\r\n      <g transform=\"translate(1439.718821 565.398438)scale(0.1 -0.1)\">\r\n       <defs>\r\n        <path d=\"M 9.8125 72.90625 \r\nL 23.09375 72.90625 \r\nL 55.421875 11.921875 \r\nL 55.421875 72.90625 \r\nL 64.984375 72.90625 \r\nL 64.984375 0 \r\nL 51.703125 0 \r\nL 19.390625 60.984375 \r\nL 19.390625 0 \r\nL 9.8125 0 \r\nz\r\n\" id=\"DejaVuSans-78\"/>\r\n       </defs>\r\n       <use xlink:href=\"#DejaVuSans-78\"/>\r\n       <use x=\"74.804688\" xlink:href=\"#DejaVuSans-101\"/>\r\n       <use x=\"136.328125\" xlink:href=\"#DejaVuSans-116\"/>\r\n       <use x=\"175.537109\" xlink:href=\"#DejaVuSans-104\"/>\r\n       <use x=\"238.916016\" xlink:href=\"#DejaVuSans-101\"/>\r\n       <use x=\"300.439453\" xlink:href=\"#DejaVuSans-114\"/>\r\n       <use x=\"341.552734\" xlink:href=\"#DejaVuSans-108\"/>\r\n       <use x=\"369.335938\" xlink:href=\"#DejaVuSans-97\"/>\r\n       <use x=\"430.615234\" xlink:href=\"#DejaVuSans-110\"/>\r\n       <use x=\"493.994141\" xlink:href=\"#DejaVuSans-100\"/>\r\n       <use x=\"557.470703\" xlink:href=\"#DejaVuSans-115\"/>\r\n      </g>\r\n     </g>\r\n    </g>\r\n    <g id=\"xtick_22\">\r\n     <g id=\"line2d_22\">\r\n      <g>\r\n       <use style=\"stroke:#000000;stroke-width:0.8;\" x=\"1535.652273\" xlink:href=\"#mb5f5d70430\" y=\"550.8\"/>\r\n      </g>\r\n     </g>\r\n     <g id=\"text_22\">\r\n      <!-- North Macedonia -->\r\n      <g transform=\"translate(1493.01946 565.398438)scale(0.1 -0.1)\">\r\n       <defs>\r\n        <path id=\"DejaVuSans-32\"/>\r\n       </defs>\r\n       <use xlink:href=\"#DejaVuSans-78\"/>\r\n       <use x=\"74.804688\" xlink:href=\"#DejaVuSans-111\"/>\r\n       <use x=\"135.986328\" xlink:href=\"#DejaVuSans-114\"/>\r\n       <use x=\"177.099609\" xlink:href=\"#DejaVuSans-116\"/>\r\n       <use x=\"216.308594\" xlink:href=\"#DejaVuSans-104\"/>\r\n       <use x=\"279.6875\" xlink:href=\"#DejaVuSans-32\"/>\r\n       <use x=\"311.474609\" xlink:href=\"#DejaVuSans-77\"/>\r\n       <use x=\"397.753906\" xlink:href=\"#DejaVuSans-97\"/>\r\n       <use x=\"459.033203\" xlink:href=\"#DejaVuSans-99\"/>\r\n       <use x=\"514.013672\" xlink:href=\"#DejaVuSans-101\"/>\r\n       <use x=\"575.537109\" xlink:href=\"#DejaVuSans-100\"/>\r\n       <use x=\"639.013672\" xlink:href=\"#DejaVuSans-111\"/>\r\n       <use x=\"700.195312\" xlink:href=\"#DejaVuSans-110\"/>\r\n       <use x=\"763.574219\" xlink:href=\"#DejaVuSans-105\"/>\r\n       <use x=\"791.357422\" xlink:href=\"#DejaVuSans-97\"/>\r\n      </g>\r\n     </g>\r\n    </g>\r\n    <g id=\"xtick_23\">\r\n     <g id=\"line2d_23\">\r\n      <g>\r\n       <use style=\"stroke:#000000;stroke-width:0.8;\" x=\"1601.106818\" xlink:href=\"#mb5f5d70430\" y=\"550.8\"/>\r\n      </g>\r\n     </g>\r\n     <g id=\"text_23\">\r\n      <!-- Poland -->\r\n      <g transform=\"translate(1584.417756 565.398438)scale(0.1 -0.1)\">\r\n       <defs>\r\n        <path d=\"M 19.671875 64.796875 \r\nL 19.671875 37.40625 \r\nL 32.078125 37.40625 \r\nQ 38.96875 37.40625 42.71875 40.96875 \r\nQ 46.484375 44.53125 46.484375 51.125 \r\nQ 46.484375 57.671875 42.71875 61.234375 \r\nQ 38.96875 64.796875 32.078125 64.796875 \r\nz\r\nM 9.8125 72.90625 \r\nL 32.078125 72.90625 \r\nQ 44.34375 72.90625 50.609375 67.359375 \r\nQ 56.890625 61.8125 56.890625 51.125 \r\nQ 56.890625 40.328125 50.609375 34.8125 \r\nQ 44.34375 29.296875 32.078125 29.296875 \r\nL 19.671875 29.296875 \r\nL 19.671875 0 \r\nL 9.8125 0 \r\nz\r\n\" id=\"DejaVuSans-80\"/>\r\n       </defs>\r\n       <use xlink:href=\"#DejaVuSans-80\"/>\r\n       <use x=\"56.677734\" xlink:href=\"#DejaVuSans-111\"/>\r\n       <use x=\"117.859375\" xlink:href=\"#DejaVuSans-108\"/>\r\n       <use x=\"145.642578\" xlink:href=\"#DejaVuSans-97\"/>\r\n       <use x=\"206.921875\" xlink:href=\"#DejaVuSans-110\"/>\r\n       <use x=\"270.300781\" xlink:href=\"#DejaVuSans-100\"/>\r\n      </g>\r\n     </g>\r\n    </g>\r\n    <g id=\"xtick_24\">\r\n     <g id=\"line2d_24\">\r\n      <g>\r\n       <use style=\"stroke:#000000;stroke-width:0.8;\" x=\"1666.561364\" xlink:href=\"#mb5f5d70430\" y=\"550.8\"/>\r\n      </g>\r\n     </g>\r\n     <g id=\"text_24\">\r\n      <!-- Portugal -->\r\n      <g transform=\"translate(1645.856676 565.398438)scale(0.1 -0.1)\">\r\n       <use xlink:href=\"#DejaVuSans-80\"/>\r\n       <use x=\"56.677734\" xlink:href=\"#DejaVuSans-111\"/>\r\n       <use x=\"117.859375\" xlink:href=\"#DejaVuSans-114\"/>\r\n       <use x=\"158.972656\" xlink:href=\"#DejaVuSans-116\"/>\r\n       <use x=\"198.181641\" xlink:href=\"#DejaVuSans-117\"/>\r\n       <use x=\"261.560547\" xlink:href=\"#DejaVuSans-103\"/>\r\n       <use x=\"325.037109\" xlink:href=\"#DejaVuSans-97\"/>\r\n       <use x=\"386.316406\" xlink:href=\"#DejaVuSans-108\"/>\r\n      </g>\r\n     </g>\r\n    </g>\r\n    <g id=\"xtick_25\">\r\n     <g id=\"line2d_25\">\r\n      <g>\r\n       <use style=\"stroke:#000000;stroke-width:0.8;\" x=\"1732.015909\" xlink:href=\"#mb5f5d70430\" y=\"550.8\"/>\r\n      </g>\r\n     </g>\r\n     <g id=\"text_25\">\r\n      <!-- Romania -->\r\n      <g transform=\"translate(1710.151065 565.398438)scale(0.1 -0.1)\">\r\n       <defs>\r\n        <path d=\"M 44.390625 34.1875 \r\nQ 47.5625 33.109375 50.5625 29.59375 \r\nQ 53.5625 26.078125 56.59375 19.921875 \r\nL 66.609375 0 \r\nL 56 0 \r\nL 46.6875 18.703125 \r\nQ 43.0625 26.03125 39.671875 28.421875 \r\nQ 36.28125 30.8125 30.421875 30.8125 \r\nL 19.671875 30.8125 \r\nL 19.671875 0 \r\nL 9.8125 0 \r\nL 9.8125 72.90625 \r\nL 32.078125 72.90625 \r\nQ 44.578125 72.90625 50.734375 67.671875 \r\nQ 56.890625 62.453125 56.890625 51.90625 \r\nQ 56.890625 45.015625 53.6875 40.46875 \r\nQ 50.484375 35.9375 44.390625 34.1875 \r\nz\r\nM 19.671875 64.796875 \r\nL 19.671875 38.921875 \r\nL 32.078125 38.921875 \r\nQ 39.203125 38.921875 42.84375 42.21875 \r\nQ 46.484375 45.515625 46.484375 51.90625 \r\nQ 46.484375 58.296875 42.84375 61.546875 \r\nQ 39.203125 64.796875 32.078125 64.796875 \r\nz\r\n\" id=\"DejaVuSans-82\"/>\r\n       </defs>\r\n       <use xlink:href=\"#DejaVuSans-82\"/>\r\n       <use x=\"64.982422\" xlink:href=\"#DejaVuSans-111\"/>\r\n       <use x=\"126.164062\" xlink:href=\"#DejaVuSans-109\"/>\r\n       <use x=\"223.576172\" xlink:href=\"#DejaVuSans-97\"/>\r\n       <use x=\"284.855469\" xlink:href=\"#DejaVuSans-110\"/>\r\n       <use x=\"348.234375\" xlink:href=\"#DejaVuSans-105\"/>\r\n       <use x=\"376.017578\" xlink:href=\"#DejaVuSans-97\"/>\r\n      </g>\r\n     </g>\r\n    </g>\r\n    <g id=\"xtick_26\">\r\n     <g id=\"line2d_26\">\r\n      <g>\r\n       <use style=\"stroke:#000000;stroke-width:0.8;\" x=\"1797.470455\" xlink:href=\"#mb5f5d70430\" y=\"550.8\"/>\r\n      </g>\r\n     </g>\r\n     <g id=\"text_26\">\r\n      <!-- Serbia -->\r\n      <g transform=\"translate(1781.536861 565.398438)scale(0.1 -0.1)\">\r\n       <defs>\r\n        <path d=\"M 53.515625 70.515625 \r\nL 53.515625 60.890625 \r\nQ 47.90625 63.578125 42.921875 64.890625 \r\nQ 37.9375 66.21875 33.296875 66.21875 \r\nQ 25.25 66.21875 20.875 63.09375 \r\nQ 16.5 59.96875 16.5 54.203125 \r\nQ 16.5 49.359375 19.40625 46.890625 \r\nQ 22.3125 44.4375 30.421875 42.921875 \r\nL 36.375 41.703125 \r\nQ 47.40625 39.59375 52.65625 34.296875 \r\nQ 57.90625 29 57.90625 20.125 \r\nQ 57.90625 9.515625 50.796875 4.046875 \r\nQ 43.703125 -1.421875 29.984375 -1.421875 \r\nQ 24.8125 -1.421875 18.96875 -0.25 \r\nQ 13.140625 0.921875 6.890625 3.21875 \r\nL 6.890625 13.375 \r\nQ 12.890625 10.015625 18.65625 8.296875 \r\nQ 24.421875 6.59375 29.984375 6.59375 \r\nQ 38.421875 6.59375 43.015625 9.90625 \r\nQ 47.609375 13.234375 47.609375 19.390625 \r\nQ 47.609375 24.75 44.3125 27.78125 \r\nQ 41.015625 30.8125 33.5 32.328125 \r\nL 27.484375 33.5 \r\nQ 16.453125 35.6875 11.515625 40.375 \r\nQ 6.59375 45.0625 6.59375 53.421875 \r\nQ 6.59375 63.09375 13.40625 68.65625 \r\nQ 20.21875 74.21875 32.171875 74.21875 \r\nQ 37.3125 74.21875 42.625 73.28125 \r\nQ 47.953125 72.359375 53.515625 70.515625 \r\nz\r\n\" id=\"DejaVuSans-83\"/>\r\n       </defs>\r\n       <use xlink:href=\"#DejaVuSans-83\"/>\r\n       <use x=\"63.476562\" xlink:href=\"#DejaVuSans-101\"/>\r\n       <use x=\"125\" xlink:href=\"#DejaVuSans-114\"/>\r\n       <use x=\"166.113281\" xlink:href=\"#DejaVuSans-98\"/>\r\n       <use x=\"229.589844\" xlink:href=\"#DejaVuSans-105\"/>\r\n       <use x=\"257.373047\" xlink:href=\"#DejaVuSans-97\"/>\r\n      </g>\r\n     </g>\r\n    </g>\r\n    <g id=\"xtick_27\">\r\n     <g id=\"line2d_27\">\r\n      <g>\r\n       <use style=\"stroke:#000000;stroke-width:0.8;\" x=\"1862.925\" xlink:href=\"#mb5f5d70430\" y=\"550.8\"/>\r\n      </g>\r\n     </g>\r\n     <g id=\"text_27\">\r\n      <!-- Slovakia -->\r\n      <g transform=\"translate(1841.930469 565.398438)scale(0.1 -0.1)\">\r\n       <use xlink:href=\"#DejaVuSans-83\"/>\r\n       <use x=\"63.476562\" xlink:href=\"#DejaVuSans-108\"/>\r\n       <use x=\"91.259766\" xlink:href=\"#DejaVuSans-111\"/>\r\n       <use x=\"152.441406\" xlink:href=\"#DejaVuSans-118\"/>\r\n       <use x=\"211.621094\" xlink:href=\"#DejaVuSans-97\"/>\r\n       <use x=\"272.900391\" xlink:href=\"#DejaVuSans-107\"/>\r\n       <use x=\"330.810547\" xlink:href=\"#DejaVuSans-105\"/>\r\n       <use x=\"358.59375\" xlink:href=\"#DejaVuSans-97\"/>\r\n      </g>\r\n     </g>\r\n    </g>\r\n    <g id=\"xtick_28\">\r\n     <g id=\"line2d_28\">\r\n      <g>\r\n       <use style=\"stroke:#000000;stroke-width:0.8;\" x=\"1928.379545\" xlink:href=\"#mb5f5d70430\" y=\"550.8\"/>\r\n      </g>\r\n     </g>\r\n     <g id=\"text_28\">\r\n      <!-- Slovenia -->\r\n      <g transform=\"translate(1907.099077 565.398438)scale(0.1 -0.1)\">\r\n       <use xlink:href=\"#DejaVuSans-83\"/>\r\n       <use x=\"63.476562\" xlink:href=\"#DejaVuSans-108\"/>\r\n       <use x=\"91.259766\" xlink:href=\"#DejaVuSans-111\"/>\r\n       <use x=\"152.441406\" xlink:href=\"#DejaVuSans-118\"/>\r\n       <use x=\"211.621094\" xlink:href=\"#DejaVuSans-101\"/>\r\n       <use x=\"273.144531\" xlink:href=\"#DejaVuSans-110\"/>\r\n       <use x=\"336.523438\" xlink:href=\"#DejaVuSans-105\"/>\r\n       <use x=\"364.306641\" xlink:href=\"#DejaVuSans-97\"/>\r\n      </g>\r\n     </g>\r\n    </g>\r\n    <g id=\"xtick_29\">\r\n     <g id=\"line2d_29\">\r\n      <g>\r\n       <use style=\"stroke:#000000;stroke-width:0.8;\" x=\"1993.834091\" xlink:href=\"#mb5f5d70430\" y=\"550.8\"/>\r\n      </g>\r\n     </g>\r\n     <g id=\"text_29\">\r\n      <!-- Spain -->\r\n      <g transform=\"translate(1979.863778 565.398438)scale(0.1 -0.1)\">\r\n       <use xlink:href=\"#DejaVuSans-83\"/>\r\n       <use x=\"63.476562\" xlink:href=\"#DejaVuSans-112\"/>\r\n       <use x=\"126.953125\" xlink:href=\"#DejaVuSans-97\"/>\r\n       <use x=\"188.232422\" xlink:href=\"#DejaVuSans-105\"/>\r\n       <use x=\"216.015625\" xlink:href=\"#DejaVuSans-110\"/>\r\n      </g>\r\n     </g>\r\n    </g>\r\n    <g id=\"xtick_30\">\r\n     <g id=\"line2d_30\">\r\n      <g>\r\n       <use style=\"stroke:#000000;stroke-width:0.8;\" x=\"2059.288636\" xlink:href=\"#mb5f5d70430\" y=\"550.8\"/>\r\n      </g>\r\n     </g>\r\n     <g id=\"text_30\">\r\n      <!-- Sweden -->\r\n      <g transform=\"translate(2039.529261 565.398438)scale(0.1 -0.1)\">\r\n       <defs>\r\n        <path d=\"M 4.203125 54.6875 \r\nL 13.1875 54.6875 \r\nL 24.421875 12.015625 \r\nL 35.59375 54.6875 \r\nL 46.1875 54.6875 \r\nL 57.421875 12.015625 \r\nL 68.609375 54.6875 \r\nL 77.59375 54.6875 \r\nL 63.28125 0 \r\nL 52.6875 0 \r\nL 40.921875 44.828125 \r\nL 29.109375 0 \r\nL 18.5 0 \r\nz\r\n\" id=\"DejaVuSans-119\"/>\r\n       </defs>\r\n       <use xlink:href=\"#DejaVuSans-83\"/>\r\n       <use x=\"63.476562\" xlink:href=\"#DejaVuSans-119\"/>\r\n       <use x=\"145.263672\" xlink:href=\"#DejaVuSans-101\"/>\r\n       <use x=\"206.787109\" xlink:href=\"#DejaVuSans-100\"/>\r\n       <use x=\"270.263672\" xlink:href=\"#DejaVuSans-101\"/>\r\n       <use x=\"331.787109\" xlink:href=\"#DejaVuSans-110\"/>\r\n      </g>\r\n     </g>\r\n    </g>\r\n    <g id=\"xtick_31\">\r\n     <g id=\"line2d_31\">\r\n      <g>\r\n       <use style=\"stroke:#000000;stroke-width:0.8;\" x=\"2124.743182\" xlink:href=\"#mb5f5d70430\" y=\"550.8\"/>\r\n      </g>\r\n     </g>\r\n     <g id=\"text_31\">\r\n      <!-- United Kingdom -->\r\n      <g transform=\"translate(2084.611151 565.398438)scale(0.1 -0.1)\">\r\n       <defs>\r\n        <path d=\"M 9.8125 72.90625 \r\nL 19.671875 72.90625 \r\nL 19.671875 42.09375 \r\nL 52.390625 72.90625 \r\nL 65.09375 72.90625 \r\nL 28.90625 38.921875 \r\nL 67.671875 0 \r\nL 54.6875 0 \r\nL 19.671875 35.109375 \r\nL 19.671875 0 \r\nL 9.8125 0 \r\nz\r\n\" id=\"DejaVuSans-75\"/>\r\n       </defs>\r\n       <use xlink:href=\"#DejaVuSans-85\"/>\r\n       <use x=\"73.193359\" xlink:href=\"#DejaVuSans-110\"/>\r\n       <use x=\"136.572266\" xlink:href=\"#DejaVuSans-105\"/>\r\n       <use x=\"164.355469\" xlink:href=\"#DejaVuSans-116\"/>\r\n       <use x=\"203.564453\" xlink:href=\"#DejaVuSans-101\"/>\r\n       <use x=\"265.087891\" xlink:href=\"#DejaVuSans-100\"/>\r\n       <use x=\"328.564453\" xlink:href=\"#DejaVuSans-32\"/>\r\n       <use x=\"360.351562\" xlink:href=\"#DejaVuSans-75\"/>\r\n       <use x=\"425.927734\" xlink:href=\"#DejaVuSans-105\"/>\r\n       <use x=\"453.710938\" xlink:href=\"#DejaVuSans-110\"/>\r\n       <use x=\"517.089844\" xlink:href=\"#DejaVuSans-103\"/>\r\n       <use x=\"580.566406\" xlink:href=\"#DejaVuSans-100\"/>\r\n       <use x=\"644.042969\" xlink:href=\"#DejaVuSans-111\"/>\r\n       <use x=\"705.224609\" xlink:href=\"#DejaVuSans-109\"/>\r\n      </g>\r\n     </g>\r\n    </g>\r\n   </g>\r\n   <g id=\"matplotlib.axis_2\">\r\n    <g id=\"ytick_1\">\r\n     <g id=\"line2d_32\">\r\n      <defs>\r\n       <path d=\"M 0 0 \r\nL -3.5 0 \r\n\" id=\"mcf81ef0184\" style=\"stroke:#000000;stroke-width:0.8;\"/>\r\n      </defs>\r\n      <g>\r\n       <use style=\"stroke:#000000;stroke-width:0.8;\" x=\"26.925\" xlink:href=\"#mcf81ef0184\" y=\"550.8\"/>\r\n      </g>\r\n     </g>\r\n     <g id=\"text_32\">\r\n      <!-- 0 -->\r\n      <g transform=\"translate(13.5625 554.599219)scale(0.1 -0.1)\">\r\n       <defs>\r\n        <path d=\"M 31.78125 66.40625 \r\nQ 24.171875 66.40625 20.328125 58.90625 \r\nQ 16.5 51.421875 16.5 36.375 \r\nQ 16.5 21.390625 20.328125 13.890625 \r\nQ 24.171875 6.390625 31.78125 6.390625 \r\nQ 39.453125 6.390625 43.28125 13.890625 \r\nQ 47.125 21.390625 47.125 36.375 \r\nQ 47.125 51.421875 43.28125 58.90625 \r\nQ 39.453125 66.40625 31.78125 66.40625 \r\nz\r\nM 31.78125 74.21875 \r\nQ 44.046875 74.21875 50.515625 64.515625 \r\nQ 56.984375 54.828125 56.984375 36.375 \r\nQ 56.984375 17.96875 50.515625 8.265625 \r\nQ 44.046875 -1.421875 31.78125 -1.421875 \r\nQ 19.53125 -1.421875 13.0625 8.265625 \r\nQ 6.59375 17.96875 6.59375 36.375 \r\nQ 6.59375 54.828125 13.0625 64.515625 \r\nQ 19.53125 74.21875 31.78125 74.21875 \r\nz\r\n\" id=\"DejaVuSans-48\"/>\r\n       </defs>\r\n       <use xlink:href=\"#DejaVuSans-48\"/>\r\n      </g>\r\n     </g>\r\n    </g>\r\n    <g id=\"ytick_2\">\r\n     <g id=\"line2d_33\">\r\n      <g>\r\n       <use style=\"stroke:#000000;stroke-width:0.8;\" x=\"26.925\" xlink:href=\"#mcf81ef0184\" y=\"469.907143\"/>\r\n      </g>\r\n     </g>\r\n     <g id=\"text_33\">\r\n      <!-- 10 -->\r\n      <g transform=\"translate(7.2 473.706362)scale(0.1 -0.1)\">\r\n       <defs>\r\n        <path d=\"M 12.40625 8.296875 \r\nL 28.515625 8.296875 \r\nL 28.515625 63.921875 \r\nL 10.984375 60.40625 \r\nL 10.984375 69.390625 \r\nL 28.421875 72.90625 \r\nL 38.28125 72.90625 \r\nL 38.28125 8.296875 \r\nL 54.390625 8.296875 \r\nL 54.390625 0 \r\nL 12.40625 0 \r\nz\r\n\" id=\"DejaVuSans-49\"/>\r\n       </defs>\r\n       <use xlink:href=\"#DejaVuSans-49\"/>\r\n       <use x=\"63.623047\" xlink:href=\"#DejaVuSans-48\"/>\r\n      </g>\r\n     </g>\r\n    </g>\r\n    <g id=\"ytick_3\">\r\n     <g id=\"line2d_34\">\r\n      <g>\r\n       <use style=\"stroke:#000000;stroke-width:0.8;\" x=\"26.925\" xlink:href=\"#mcf81ef0184\" y=\"389.014286\"/>\r\n      </g>\r\n     </g>\r\n     <g id=\"text_34\">\r\n      <!-- 20 -->\r\n      <g transform=\"translate(7.2 392.813504)scale(0.1 -0.1)\">\r\n       <use xlink:href=\"#DejaVuSans-50\"/>\r\n       <use x=\"63.623047\" xlink:href=\"#DejaVuSans-48\"/>\r\n      </g>\r\n     </g>\r\n    </g>\r\n    <g id=\"ytick_4\">\r\n     <g id=\"line2d_35\">\r\n      <g>\r\n       <use style=\"stroke:#000000;stroke-width:0.8;\" x=\"26.925\" xlink:href=\"#mcf81ef0184\" y=\"308.121429\"/>\r\n      </g>\r\n     </g>\r\n     <g id=\"text_35\">\r\n      <!-- 30 -->\r\n      <g transform=\"translate(7.2 311.920647)scale(0.1 -0.1)\">\r\n       <defs>\r\n        <path d=\"M 40.578125 39.3125 \r\nQ 47.65625 37.796875 51.625 33 \r\nQ 55.609375 28.21875 55.609375 21.1875 \r\nQ 55.609375 10.40625 48.1875 4.484375 \r\nQ 40.765625 -1.421875 27.09375 -1.421875 \r\nQ 22.515625 -1.421875 17.65625 -0.515625 \r\nQ 12.796875 0.390625 7.625 2.203125 \r\nL 7.625 11.71875 \r\nQ 11.71875 9.328125 16.59375 8.109375 \r\nQ 21.484375 6.890625 26.8125 6.890625 \r\nQ 36.078125 6.890625 40.9375 10.546875 \r\nQ 45.796875 14.203125 45.796875 21.1875 \r\nQ 45.796875 27.640625 41.28125 31.265625 \r\nQ 36.765625 34.90625 28.71875 34.90625 \r\nL 20.21875 34.90625 \r\nL 20.21875 43.015625 \r\nL 29.109375 43.015625 \r\nQ 36.375 43.015625 40.234375 45.921875 \r\nQ 44.09375 48.828125 44.09375 54.296875 \r\nQ 44.09375 59.90625 40.109375 62.90625 \r\nQ 36.140625 65.921875 28.71875 65.921875 \r\nQ 24.65625 65.921875 20.015625 65.03125 \r\nQ 15.375 64.15625 9.8125 62.3125 \r\nL 9.8125 71.09375 \r\nQ 15.4375 72.65625 20.34375 73.4375 \r\nQ 25.25 74.21875 29.59375 74.21875 \r\nQ 40.828125 74.21875 47.359375 69.109375 \r\nQ 53.90625 64.015625 53.90625 55.328125 \r\nQ 53.90625 49.265625 50.4375 45.09375 \r\nQ 46.96875 40.921875 40.578125 39.3125 \r\nz\r\n\" id=\"DejaVuSans-51\"/>\r\n       </defs>\r\n       <use xlink:href=\"#DejaVuSans-51\"/>\r\n       <use x=\"63.623047\" xlink:href=\"#DejaVuSans-48\"/>\r\n      </g>\r\n     </g>\r\n    </g>\r\n    <g id=\"ytick_5\">\r\n     <g id=\"line2d_36\">\r\n      <g>\r\n       <use style=\"stroke:#000000;stroke-width:0.8;\" x=\"26.925\" xlink:href=\"#mcf81ef0184\" y=\"227.228571\"/>\r\n      </g>\r\n     </g>\r\n     <g id=\"text_36\">\r\n      <!-- 40 -->\r\n      <g transform=\"translate(7.2 231.02779)scale(0.1 -0.1)\">\r\n       <defs>\r\n        <path d=\"M 37.796875 64.3125 \r\nL 12.890625 25.390625 \r\nL 37.796875 25.390625 \r\nz\r\nM 35.203125 72.90625 \r\nL 47.609375 72.90625 \r\nL 47.609375 25.390625 \r\nL 58.015625 25.390625 \r\nL 58.015625 17.1875 \r\nL 47.609375 17.1875 \r\nL 47.609375 0 \r\nL 37.796875 0 \r\nL 37.796875 17.1875 \r\nL 4.890625 17.1875 \r\nL 4.890625 26.703125 \r\nz\r\n\" id=\"DejaVuSans-52\"/>\r\n       </defs>\r\n       <use xlink:href=\"#DejaVuSans-52\"/>\r\n       <use x=\"63.623047\" xlink:href=\"#DejaVuSans-48\"/>\r\n      </g>\r\n     </g>\r\n    </g>\r\n    <g id=\"ytick_6\">\r\n     <g id=\"line2d_37\">\r\n      <g>\r\n       <use style=\"stroke:#000000;stroke-width:0.8;\" x=\"26.925\" xlink:href=\"#mcf81ef0184\" y=\"146.335714\"/>\r\n      </g>\r\n     </g>\r\n     <g id=\"text_37\">\r\n      <!-- 50 -->\r\n      <g transform=\"translate(7.2 150.134933)scale(0.1 -0.1)\">\r\n       <defs>\r\n        <path d=\"M 10.796875 72.90625 \r\nL 49.515625 72.90625 \r\nL 49.515625 64.59375 \r\nL 19.828125 64.59375 \r\nL 19.828125 46.734375 \r\nQ 21.96875 47.46875 24.109375 47.828125 \r\nQ 26.265625 48.1875 28.421875 48.1875 \r\nQ 40.625 48.1875 47.75 41.5 \r\nQ 54.890625 34.8125 54.890625 23.390625 \r\nQ 54.890625 11.625 47.5625 5.09375 \r\nQ 40.234375 -1.421875 26.90625 -1.421875 \r\nQ 22.3125 -1.421875 17.546875 -0.640625 \r\nQ 12.796875 0.140625 7.71875 1.703125 \r\nL 7.71875 11.625 \r\nQ 12.109375 9.234375 16.796875 8.0625 \r\nQ 21.484375 6.890625 26.703125 6.890625 \r\nQ 35.15625 6.890625 40.078125 11.328125 \r\nQ 45.015625 15.765625 45.015625 23.390625 \r\nQ 45.015625 31 40.078125 35.4375 \r\nQ 35.15625 39.890625 26.703125 39.890625 \r\nQ 22.75 39.890625 18.8125 39.015625 \r\nQ 14.890625 38.140625 10.796875 36.28125 \r\nz\r\n\" id=\"DejaVuSans-53\"/>\r\n       </defs>\r\n       <use xlink:href=\"#DejaVuSans-53\"/>\r\n       <use x=\"63.623047\" xlink:href=\"#DejaVuSans-48\"/>\r\n      </g>\r\n     </g>\r\n    </g>\r\n    <g id=\"ytick_7\">\r\n     <g id=\"line2d_38\">\r\n      <g>\r\n       <use style=\"stroke:#000000;stroke-width:0.8;\" x=\"26.925\" xlink:href=\"#mcf81ef0184\" y=\"65.442857\"/>\r\n      </g>\r\n     </g>\r\n     <g id=\"text_38\">\r\n      <!-- 60 -->\r\n      <g transform=\"translate(7.2 69.242076)scale(0.1 -0.1)\">\r\n       <defs>\r\n        <path d=\"M 33.015625 40.375 \r\nQ 26.375 40.375 22.484375 35.828125 \r\nQ 18.609375 31.296875 18.609375 23.390625 \r\nQ 18.609375 15.53125 22.484375 10.953125 \r\nQ 26.375 6.390625 33.015625 6.390625 \r\nQ 39.65625 6.390625 43.53125 10.953125 \r\nQ 47.40625 15.53125 47.40625 23.390625 \r\nQ 47.40625 31.296875 43.53125 35.828125 \r\nQ 39.65625 40.375 33.015625 40.375 \r\nz\r\nM 52.59375 71.296875 \r\nL 52.59375 62.3125 \r\nQ 48.875 64.0625 45.09375 64.984375 \r\nQ 41.3125 65.921875 37.59375 65.921875 \r\nQ 27.828125 65.921875 22.671875 59.328125 \r\nQ 17.53125 52.734375 16.796875 39.40625 \r\nQ 19.671875 43.65625 24.015625 45.921875 \r\nQ 28.375 48.1875 33.59375 48.1875 \r\nQ 44.578125 48.1875 50.953125 41.515625 \r\nQ 57.328125 34.859375 57.328125 23.390625 \r\nQ 57.328125 12.15625 50.6875 5.359375 \r\nQ 44.046875 -1.421875 33.015625 -1.421875 \r\nQ 20.359375 -1.421875 13.671875 8.265625 \r\nQ 6.984375 17.96875 6.984375 36.375 \r\nQ 6.984375 53.65625 15.1875 63.9375 \r\nQ 23.390625 74.21875 37.203125 74.21875 \r\nQ 40.921875 74.21875 44.703125 73.484375 \r\nQ 48.484375 72.75 52.59375 71.296875 \r\nz\r\n\" id=\"DejaVuSans-54\"/>\r\n       </defs>\r\n       <use xlink:href=\"#DejaVuSans-54\"/>\r\n       <use x=\"63.623047\" xlink:href=\"#DejaVuSans-48\"/>\r\n      </g>\r\n     </g>\r\n    </g>\r\n   </g>\r\n   <g id=\"patch_96\">\r\n    <path d=\"M 26.925 550.8 \r\nL 26.925 7.2 \r\n\" style=\"fill:none;stroke:#000000;stroke-linecap:square;stroke-linejoin:miter;stroke-width:0.8;\"/>\r\n   </g>\r\n   <g id=\"patch_97\">\r\n    <path d=\"M 2258.925 550.8 \r\nL 2258.925 7.2 \r\n\" style=\"fill:none;stroke:#000000;stroke-linecap:square;stroke-linejoin:miter;stroke-width:0.8;\"/>\r\n   </g>\r\n   <g id=\"patch_98\">\r\n    <path d=\"M 26.925 550.8 \r\nL 2258.925 550.8 \r\n\" style=\"fill:none;stroke:#000000;stroke-linecap:square;stroke-linejoin:miter;stroke-width:0.8;\"/>\r\n   </g>\r\n   <g id=\"patch_99\">\r\n    <path d=\"M 26.925 7.2 \r\nL 2258.925 7.2 \r\n\" style=\"fill:none;stroke:#000000;stroke-linecap:square;stroke-linejoin:miter;stroke-width:0.8;\"/>\r\n   </g>\r\n  </g>\r\n </g>\r\n <defs>\r\n  <clipPath id=\"pcac9c527a0\">\r\n   <rect height=\"543.6\" width=\"2232\" x=\"26.925\" y=\"7.2\"/>\r\n  </clipPath>\r\n </defs>\r\n</svg>\r\n",
      "image/png": "[encoded data removed]"
     },
     "metadata": {
      "needs_background": "light"
     }
    }
   ],
   "source": [
    "#Primer intento de representar las columnas de las respuestas\n",
    "import numpy as np\n",
    "fig, ax = plt.subplots(figsize=(40, 10))\n",
    "x = np.arange(len(one_columns.CountryCode.unique()))\n",
    "bar_width = 0.5\n",
    "b1 = ax.bar(x, table_paises[\"A cafe, restaurant, pub, club\"],\n",
    "            width=bar_width)\n",
    "b2 = ax.bar(x + bar_width, table_paises['Around my family '],\n",
    "            width=bar_width)\n",
    "b3 = ax.bar(x + bar_width, table_paises['Dont Know '],\n",
    "            width=bar_width)\n",
    "\n",
    "# Fix the x-axes.\n",
    "ax.set_xticks(x + bar_width / 2)\n",
    "ax.set_xticklabels(table_paises.CountryCode.unique())  "
   ]
  },
  {
   "cell_type": "code",
   "execution_count": 31,
   "metadata": {},
   "outputs": [
    {
     "output_type": "execute_result",
     "data": {
      "text/plain": [
       "          CountryCode target_group subset question_code  \\\n",
       "1422          Austria          All    All       DEXg1_D   \n",
       "1423          Austria          All    All       DEXg1_D   \n",
       "1424          Austria          All    All       DEXg1_D   \n",
       "1425          Austria          All    All       DEXg1_D   \n",
       "1426          Belgium          All    All       DEXg1_D   \n",
       "...               ...          ...    ...           ...   \n",
       "4735  North Macedonia          All    All     DEXindg1c   \n",
       "4736  North Macedonia          All    All     DEXindg1c   \n",
       "4737           Serbia          All    All     DEXindg1c   \n",
       "4738           Serbia          All    All     DEXindg1c   \n",
       "4739           Serbia          All    All     DEXindg1c   \n",
       "\n",
       "                                         question_label              answer  \\\n",
       "1422  To how many work colleagues are you open about...                None   \n",
       "1423  To how many work colleagues are you open about...               A few   \n",
       "1424  To how many work colleagues are you open about...                Most   \n",
       "1425  To how many work colleagues are you open about...                 All   \n",
       "1426  To how many work colleagues are you open about...                None   \n",
       "...                                                 ...                 ...   \n",
       "4735                 Openness about being LGBTI at work    Selectively open   \n",
       "4736                 Openness about being LGBTI at work  Hide LGBT identity   \n",
       "4737                 Openness about being LGBTI at work           Very open   \n",
       "4738                 Openness about being LGBTI at work    Selectively open   \n",
       "4739                 Openness about being LGBTI at work  Hide LGBT identity   \n",
       "\n",
       "      percentage notes  \n",
       "1422          33   NaN  \n",
       "1423          25   NaN  \n",
       "1424          17   NaN  \n",
       "1425          25   NaN  \n",
       "1426          27   NaN  \n",
       "...          ...   ...  \n",
       "4735          46   NaN  \n",
       "4736          46   NaN  \n",
       "4737           9   NaN  \n",
       "4738          47   NaN  \n",
       "4739          44   NaN  \n",
       "\n",
       "[465 rows x 8 columns]"
      ],
      "text/html": "<div>\n<style scoped>\n    .dataframe tbody tr th:only-of-type {\n        vertical-align: middle;\n    }\n\n    .dataframe tbody tr th {\n        vertical-align: top;\n    }\n\n    .dataframe thead th {\n        text-align: right;\n    }\n</style>\n<table border=\"1\" class=\"dataframe\">\n  <thead>\n    <tr style=\"text-align: right;\">\n      <th></th>\n      <th>CountryCode</th>\n      <th>target_group</th>\n      <th>subset</th>\n      <th>question_code</th>\n      <th>question_label</th>\n      <th>answer</th>\n      <th>percentage</th>\n      <th>notes</th>\n    </tr>\n  </thead>\n  <tbody>\n    <tr>\n      <th>1422</th>\n      <td>Austria</td>\n      <td>All</td>\n      <td>All</td>\n      <td>DEXg1_D</td>\n      <td>To how many work colleagues are you open about...</td>\n      <td>None</td>\n      <td>33</td>\n      <td>NaN</td>\n    </tr>\n    <tr>\n      <th>1423</th>\n      <td>Austria</td>\n      <td>All</td>\n      <td>All</td>\n      <td>DEXg1_D</td>\n      <td>To how many work colleagues are you open about...</td>\n      <td>A few</td>\n      <td>25</td>\n      <td>NaN</td>\n    </tr>\n    <tr>\n      <th>1424</th>\n      <td>Austria</td>\n      <td>All</td>\n      <td>All</td>\n      <td>DEXg1_D</td>\n      <td>To how many work colleagues are you open about...</td>\n      <td>Most</td>\n      <td>17</td>\n      <td>NaN</td>\n    </tr>\n    <tr>\n      <th>1425</th>\n      <td>Austria</td>\n      <td>All</td>\n      <td>All</td>\n      <td>DEXg1_D</td>\n      <td>To how many work colleagues are you open about...</td>\n      <td>All</td>\n      <td>25</td>\n      <td>NaN</td>\n    </tr>\n    <tr>\n      <th>1426</th>\n      <td>Belgium</td>\n      <td>All</td>\n      <td>All</td>\n      <td>DEXg1_D</td>\n      <td>To how many work colleagues are you open about...</td>\n      <td>None</td>\n      <td>27</td>\n      <td>NaN</td>\n    </tr>\n    <tr>\n      <th>...</th>\n      <td>...</td>\n      <td>...</td>\n      <td>...</td>\n      <td>...</td>\n      <td>...</td>\n      <td>...</td>\n      <td>...</td>\n      <td>...</td>\n    </tr>\n    <tr>\n      <th>4735</th>\n      <td>North Macedonia</td>\n      <td>All</td>\n      <td>All</td>\n      <td>DEXindg1c</td>\n      <td>Openness about being LGBTI at work</td>\n      <td>Selectively open</td>\n      <td>46</td>\n      <td>NaN</td>\n    </tr>\n    <tr>\n      <th>4736</th>\n      <td>North Macedonia</td>\n      <td>All</td>\n      <td>All</td>\n      <td>DEXindg1c</td>\n      <td>Openness about being LGBTI at work</td>\n      <td>Hide LGBT identity</td>\n      <td>46</td>\n      <td>NaN</td>\n    </tr>\n    <tr>\n      <th>4737</th>\n      <td>Serbia</td>\n      <td>All</td>\n      <td>All</td>\n      <td>DEXindg1c</td>\n      <td>Openness about being LGBTI at work</td>\n      <td>Very open</td>\n      <td>9</td>\n      <td>NaN</td>\n    </tr>\n    <tr>\n      <th>4738</th>\n      <td>Serbia</td>\n      <td>All</td>\n      <td>All</td>\n      <td>DEXindg1c</td>\n      <td>Openness about being LGBTI at work</td>\n      <td>Selectively open</td>\n      <td>47</td>\n      <td>NaN</td>\n    </tr>\n    <tr>\n      <th>4739</th>\n      <td>Serbia</td>\n      <td>All</td>\n      <td>All</td>\n      <td>DEXindg1c</td>\n      <td>Openness about being LGBTI at work</td>\n      <td>Hide LGBT identity</td>\n      <td>44</td>\n      <td>NaN</td>\n    </tr>\n  </tbody>\n</table>\n<p>465 rows × 8 columns</p>\n</div>"
     },
     "metadata": {},
     "execution_count": 31
    }
   ],
   "source": [
    "#Aquí empieza para representar living_work\n",
    "living_work = living_data.loc[(living_data[\"question_label\"].str.contains(\"work\")) | (living_data[\"question_label\"].str.contains(\"job\")) | (living_data[\"question_label\"].str.contains(\"immediate\"))]\n",
    "living_work['percentage'] = living_work['percentage'].astype(int)\n",
    "living_work"
   ]
  },
  {
   "cell_type": "code",
   "execution_count": 173,
   "metadata": {},
   "outputs": [
    {
     "output_type": "display_data",
     "data": {
      "application/vnd.plotly.v1+json": {
       "config": {
        "plotlyServerURL": "https://plot.ly"
       },
       "data": [
        {
         "alignmentgroup": "True",
         "hovertemplate": "answer=None<br>question_label=To how many work colleagues are you open about being LGBTI<br>CountryCode=%{x}<br>percentage=%{y}<extra></extra>",
         "legendgroup": "None",
         "marker": {
          "color": "#636efa"
         },
         "name": "None",
         "offsetgroup": "None",
         "orientation": "v",
         "showlegend": true,
         "textposition": "auto",
         "type": "bar",
         "x": [
          "Austria",
          "Belgium",
          "Bulgaria",
          "Cyprus",
          "Czechia",
          "Germany",
          "Denmark",
          "Estonia",
          "Greece",
          "Spain",
          "Finland",
          "France",
          "Croatia",
          "Hungary",
          "Ireland",
          "Italy",
          "Lithuania",
          "Luxembourg",
          "Latvia",
          "Malta",
          "Netherlands",
          "Poland",
          "Portugal",
          "Romania",
          "Sweden",
          "Slovenia",
          "Slovakia",
          "United Kingdom",
          "EU-28",
          "North Macedonia",
          "Serbia"
         ],
         "xaxis": "x4",
         "y": [
          33,
          27,
          59,
          52,
          41,
          31,
          28,
          50,
          49,
          30,
          36,
          34,
          56,
          45,
          34,
          44,
          69,
          29,
          57,
          31,
          24,
          48,
          40,
          59,
          28,
          47,
          54,
          30,
          37,
          61,
          60
         ],
         "yaxis": "y4"
        },
        {
         "alignmentgroup": "True",
         "hovertemplate": "answer=None<br>question_label=To how many immediate superiors/heads of department are you open about being LGBTI<br>CountryCode=%{x}<br>percentage=%{y}<extra></extra>",
         "legendgroup": "None",
         "marker": {
          "color": "#636efa"
         },
         "name": "None",
         "offsetgroup": "None",
         "orientation": "v",
         "showlegend": false,
         "textposition": "auto",
         "type": "bar",
         "x": [
          "Austria",
          "Belgium",
          "Bulgaria",
          "Cyprus",
          "Czechia",
          "Germany",
          "Denmark",
          "Estonia",
          "Greece",
          "Spain",
          "Finland",
          "France",
          "Croatia",
          "Hungary",
          "Ireland",
          "Italy",
          "Lithuania",
          "Luxembourg",
          "Latvia",
          "Malta",
          "Netherlands",
          "Poland",
          "Portugal",
          "Romania",
          "Sweden",
          "Slovenia",
          "Slovakia",
          "United Kingdom",
          "EU-28",
          "North Macedonia",
          "Serbia"
         ],
         "xaxis": "x3",
         "y": [
          50,
          44,
          79,
          78,
          60,
          49,
          42,
          71,
          77,
          51,
          59,
          55,
          79,
          68,
          55,
          67,
          86,
          52,
          79,
          55,
          37,
          75,
          67,
          79,
          46,
          70,
          74,
          46,
          57,
          83,
          82
         ],
         "yaxis": "y3"
        },
        {
         "alignmentgroup": "True",
         "hovertemplate": "answer=None<br>question_label=To how many customers, clients, etc. at work are you open about being LGBTI<br>CountryCode=%{x}<br>percentage=%{y}<extra></extra>",
         "legendgroup": "None",
         "marker": {
          "color": "#636efa"
         },
         "name": "None",
         "offsetgroup": "None",
         "orientation": "v",
         "showlegend": false,
         "textposition": "auto",
         "type": "bar",
         "x": [
          "Austria",
          "Belgium",
          "Bulgaria",
          "Cyprus",
          "Czechia",
          "Germany",
          "Denmark",
          "Estonia",
          "Greece",
          "Spain",
          "Finland",
          "France",
          "Croatia",
          "Hungary",
          "Ireland",
          "Italy",
          "Lithuania",
          "Luxembourg",
          "Latvia",
          "Malta",
          "Netherlands",
          "Poland",
          "Portugal",
          "Romania",
          "Sweden",
          "Slovenia",
          "Slovakia",
          "United Kingdom",
          "EU-28",
          "North Macedonia",
          "Serbia"
         ],
         "xaxis": "x2",
         "y": [
          66,
          61,
          84,
          80,
          73,
          63,
          56,
          81,
          78,
          60,
          71,
          72,
          82,
          80,
          64,
          73,
          92,
          65,
          83,
          66,
          53,
          85,
          76,
          85,
          60,
          78,
          82,
          60,
          69,
          85,
          83
         ],
         "yaxis": "y2"
        },
        {
         "alignmentgroup": "True",
         "hovertemplate": "answer=A few<br>question_label=To how many work colleagues are you open about being LGBTI<br>CountryCode=%{x}<br>percentage=%{y}<extra></extra>",
         "legendgroup": "A few",
         "marker": {
          "color": "#EF553B"
         },
         "name": "A few",
         "offsetgroup": "A few",
         "orientation": "v",
         "showlegend": true,
         "textposition": "auto",
         "type": "bar",
         "x": [
          "Austria",
          "Belgium",
          "Bulgaria",
          "Cyprus",
          "Czechia",
          "Germany",
          "Denmark",
          "Estonia",
          "Greece",
          "Spain",
          "Finland",
          "France",
          "Croatia",
          "Hungary",
          "Ireland",
          "Italy",
          "Lithuania",
          "Luxembourg",
          "Latvia",
          "Malta",
          "Netherlands",
          "Poland",
          "Portugal",
          "Romania",
          "Sweden",
          "Slovenia",
          "Slovakia",
          "United Kingdom",
          "EU-28",
          "North Macedonia",
          "Serbia"
         ],
         "xaxis": "x4",
         "y": [
          25,
          23,
          24,
          31,
          26,
          25,
          18,
          28,
          35,
          29,
          29,
          27,
          25,
          32,
          25,
          27,
          21,
          25,
          29,
          27,
          21,
          30,
          33,
          25,
          22,
          26,
          26,
          23,
          26,
          26,
          26
         ],
         "yaxis": "y4"
        },
        {
         "alignmentgroup": "True",
         "hovertemplate": "answer=A few<br>question_label=To how many immediate superiors/heads of department are you open about being LGBTI<br>CountryCode=%{x}<br>percentage=%{y}<extra></extra>",
         "legendgroup": "A few",
         "marker": {
          "color": "#EF553B"
         },
         "name": "A few",
         "offsetgroup": "A few",
         "orientation": "v",
         "showlegend": false,
         "textposition": "auto",
         "type": "bar",
         "x": [
          "Austria",
          "Belgium",
          "Bulgaria",
          "Cyprus",
          "Czechia",
          "Germany",
          "Denmark",
          "Estonia",
          "Greece",
          "Spain",
          "Finland",
          "France",
          "Croatia",
          "Hungary",
          "Ireland",
          "Italy",
          "Lithuania",
          "Luxembourg",
          "Latvia",
          "Malta",
          "Netherlands",
          "Poland",
          "Portugal",
          "Romania",
          "Sweden",
          "Slovenia",
          "Slovakia",
          "United Kingdom",
          "EU-28",
          "North Macedonia",
          "Serbia"
         ],
         "xaxis": "x3",
         "y": [
          11,
          12,
          9,
          10,
          11,
          11,
          7,
          7,
          12,
          14,
          10,
          14,
          8,
          11,
          10,
          11,
          6,
          11,
          8,
          10,
          11,
          9,
          13,
          9,
          8,
          6,
          10,
          11,
          11,
          8,
          8
         ],
         "yaxis": "y3"
        },
        {
         "alignmentgroup": "True",
         "hovertemplate": "answer=A few<br>question_label=To how many customers, clients, etc. at work are you open about being LGBTI<br>CountryCode=%{x}<br>percentage=%{y}<extra></extra>",
         "legendgroup": "A few",
         "marker": {
          "color": "#EF553B"
         },
         "name": "A few",
         "offsetgroup": "A few",
         "orientation": "v",
         "showlegend": false,
         "textposition": "auto",
         "type": "bar",
         "x": [
          "Austria",
          "Belgium",
          "Bulgaria",
          "Cyprus",
          "Czechia",
          "Germany",
          "Denmark",
          "Estonia",
          "Greece",
          "Spain",
          "Finland",
          "France",
          "Croatia",
          "Hungary",
          "Ireland",
          "Italy",
          "Lithuania",
          "Luxembourg",
          "Latvia",
          "Malta",
          "Netherlands",
          "Poland",
          "Portugal",
          "Romania",
          "Sweden",
          "Slovenia",
          "Slovakia",
          "United Kingdom",
          "EU-28",
          "North Macedonia",
          "Serbia"
         ],
         "xaxis": "x2",
         "y": [
          16,
          18,
          10,
          13,
          15,
          18,
          16,
          11,
          16,
          21,
          16,
          15,
          10,
          11,
          17,
          16,
          4,
          13,
          12,
          16,
          19,
          9,
          15,
          7,
          16,
          15,
          13,
          17,
          16,
          10,
          11
         ],
         "yaxis": "y2"
        },
        {
         "alignmentgroup": "True",
         "hovertemplate": "answer=Most<br>question_label=To how many work colleagues are you open about being LGBTI<br>CountryCode=%{x}<br>percentage=%{y}<extra></extra>",
         "legendgroup": "Most",
         "marker": {
          "color": "#00cc96"
         },
         "name": "Most",
         "offsetgroup": "Most",
         "orientation": "v",
         "showlegend": true,
         "textposition": "auto",
         "type": "bar",
         "x": [
          "Austria",
          "Belgium",
          "Bulgaria",
          "Cyprus",
          "Czechia",
          "Germany",
          "Denmark",
          "Estonia",
          "Greece",
          "Spain",
          "Finland",
          "France",
          "Croatia",
          "Hungary",
          "Ireland",
          "Italy",
          "Lithuania",
          "Luxembourg",
          "Latvia",
          "Malta",
          "Netherlands",
          "Poland",
          "Portugal",
          "Romania",
          "Sweden",
          "Slovenia",
          "Slovakia",
          "United Kingdom",
          "EU-28",
          "North Macedonia",
          "Serbia"
         ],
         "xaxis": "x4",
         "y": [
          17,
          19,
          8,
          8,
          15,
          18,
          17,
          12,
          10,
          16,
          17,
          18,
          7,
          11,
          16,
          15,
          6,
          20,
          8,
          15,
          18,
          13,
          15,
          8,
          20,
          15,
          10,
          17,
          16,
          5,
          8
         ],
         "yaxis": "y4"
        },
        {
         "alignmentgroup": "True",
         "hovertemplate": "answer=Most<br>question_label=To how many immediate superiors/heads of department are you open about being LGBTI<br>CountryCode=%{x}<br>percentage=%{y}<extra></extra>",
         "legendgroup": "Most",
         "marker": {
          "color": "#00cc96"
         },
         "name": "Most",
         "offsetgroup": "Most",
         "orientation": "v",
         "showlegend": false,
         "textposition": "auto",
         "type": "bar",
         "x": [
          "Austria",
          "Belgium",
          "Bulgaria",
          "Cyprus",
          "Czechia",
          "Germany",
          "Denmark",
          "Estonia",
          "Greece",
          "Spain",
          "Finland",
          "France",
          "Croatia",
          "Hungary",
          "Ireland",
          "Italy",
          "Lithuania",
          "Luxembourg",
          "Latvia",
          "Malta",
          "Netherlands",
          "Poland",
          "Portugal",
          "Romania",
          "Sweden",
          "Slovenia",
          "Slovakia",
          "United Kingdom",
          "EU-28",
          "North Macedonia",
          "Serbia"
         ],
         "xaxis": "x3",
         "y": [
          9,
          11,
          3,
          3,
          8,
          10,
          9,
          6,
          4,
          8,
          6,
          10,
          4,
          7,
          8,
          8,
          3,
          11,
          4,
          7,
          9,
          5,
          9,
          3,
          9,
          8,
          6,
          8,
          8,
          4,
          4
         ],
         "yaxis": "y3"
        },
        {
         "alignmentgroup": "True",
         "hovertemplate": "answer=Most<br>question_label=To how many customers, clients, etc. at work are you open about being LGBTI<br>CountryCode=%{x}<br>percentage=%{y}<extra></extra>",
         "legendgroup": "Most",
         "marker": {
          "color": "#00cc96"
         },
         "name": "Most",
         "offsetgroup": "Most",
         "orientation": "v",
         "showlegend": false,
         "textposition": "auto",
         "type": "bar",
         "x": [
          "Austria",
          "Belgium",
          "Bulgaria",
          "Cyprus",
          "Czechia",
          "Germany",
          "Denmark",
          "Estonia",
          "Greece",
          "Spain",
          "Finland",
          "France",
          "Croatia",
          "Hungary",
          "Ireland",
          "Italy",
          "Lithuania",
          "Luxembourg",
          "Latvia",
          "Malta",
          "Netherlands",
          "Poland",
          "Portugal",
          "Romania",
          "Sweden",
          "Slovenia",
          "Slovakia",
          "United Kingdom",
          "EU-28",
          "North Macedonia",
          "Serbia"
         ],
         "xaxis": "x2",
         "y": [
          9,
          10,
          4,
          3,
          7,
          9,
          12,
          4,
          4,
          8,
          7,
          7,
          4,
          4,
          8,
          7,
          2,
          9,
          4,
          8,
          12,
          4,
          5,
          3,
          12,
          4,
          3,
          9,
          7,
          2,
          4
         ],
         "yaxis": "y2"
        },
        {
         "alignmentgroup": "True",
         "hovertemplate": "answer=All<br>question_label=To how many work colleagues are you open about being LGBTI<br>CountryCode=%{x}<br>percentage=%{y}<extra></extra>",
         "legendgroup": "All",
         "marker": {
          "color": "#ab63fa"
         },
         "name": "All",
         "offsetgroup": "All",
         "orientation": "v",
         "showlegend": true,
         "textposition": "auto",
         "type": "bar",
         "x": [
          "Austria",
          "Belgium",
          "Bulgaria",
          "Cyprus",
          "Czechia",
          "Germany",
          "Denmark",
          "Estonia",
          "Greece",
          "Spain",
          "Finland",
          "France",
          "Croatia",
          "Hungary",
          "Ireland",
          "Italy",
          "Lithuania",
          "Luxembourg",
          "Latvia",
          "Malta",
          "Netherlands",
          "Poland",
          "Portugal",
          "Romania",
          "Sweden",
          "Slovenia",
          "Slovakia",
          "United Kingdom",
          "EU-28",
          "North Macedonia",
          "Serbia"
         ],
         "xaxis": "x4",
         "y": [
          25,
          31,
          9,
          9,
          18,
          26,
          37,
          10,
          7,
          25,
          18,
          21,
          11,
          12,
          24,
          15,
          5,
          27,
          6,
          27,
          37,
          9,
          11,
          8,
          30,
          12,
          10,
          30,
          21,
          7,
          7
         ],
         "yaxis": "y4"
        },
        {
         "alignmentgroup": "True",
         "hovertemplate": "answer=All<br>question_label=To how many immediate superiors/heads of department are you open about being LGBTI<br>CountryCode=%{x}<br>percentage=%{y}<extra></extra>",
         "legendgroup": "All",
         "marker": {
          "color": "#ab63fa"
         },
         "name": "All",
         "offsetgroup": "All",
         "orientation": "v",
         "showlegend": false,
         "textposition": "auto",
         "type": "bar",
         "x": [
          "Austria",
          "Belgium",
          "Bulgaria",
          "Cyprus",
          "Czechia",
          "Germany",
          "Denmark",
          "Estonia",
          "Greece",
          "Spain",
          "Finland",
          "France",
          "Croatia",
          "Hungary",
          "Ireland",
          "Italy",
          "Lithuania",
          "Luxembourg",
          "Latvia",
          "Malta",
          "Netherlands",
          "Poland",
          "Portugal",
          "Romania",
          "Sweden",
          "Slovenia",
          "Slovakia",
          "United Kingdom",
          "EU-28",
          "North Macedonia",
          "Serbia"
         ],
         "xaxis": "x3",
         "y": [
          29,
          33,
          9,
          10,
          21,
          30,
          41,
          15,
          7,
          26,
          25,
          21,
          9,
          14,
          28,
          14,
          5,
          26,
          10,
          27,
          44,
          11,
          11,
          10,
          38,
          16,
          10,
          36,
          24,
          5,
          7
         ],
         "yaxis": "y3"
        },
        {
         "alignmentgroup": "True",
         "hovertemplate": "answer=All<br>question_label=To how many customers, clients, etc. at work are you open about being LGBTI<br>CountryCode=%{x}<br>percentage=%{y}<extra></extra>",
         "legendgroup": "All",
         "marker": {
          "color": "#ab63fa"
         },
         "name": "All",
         "offsetgroup": "All",
         "orientation": "v",
         "showlegend": false,
         "textposition": "auto",
         "type": "bar",
         "x": [
          "Austria",
          "Belgium",
          "Bulgaria",
          "Cyprus",
          "Czechia",
          "Germany",
          "Denmark",
          "Estonia",
          "Greece",
          "Spain",
          "Finland",
          "France",
          "Croatia",
          "Hungary",
          "Ireland",
          "Italy",
          "Lithuania",
          "Luxembourg",
          "Latvia",
          "Malta",
          "Netherlands",
          "Poland",
          "Portugal",
          "Romania",
          "Sweden",
          "Slovenia",
          "Slovakia",
          "United Kingdom",
          "EU-28",
          "North Macedonia",
          "Serbia"
         ],
         "xaxis": "x2",
         "y": [
          9,
          12,
          2,
          4,
          5,
          10,
          16,
          3,
          2,
          11,
          6,
          6,
          4,
          4,
          11,
          4,
          2,
          13,
          1,
          10,
          17,
          2,
          3,
          4,
          12,
          3,
          2,
          14,
          8,
          3,
          2
         ],
         "yaxis": "y2"
        },
        {
         "alignmentgroup": "True",
         "hovertemplate": "answer=Very open<br>question_label=Openness about being LGBTI at work<br>CountryCode=%{x}<br>percentage=%{y}<extra></extra>",
         "legendgroup": "Very open",
         "marker": {
          "color": "#FFA15A"
         },
         "name": "Very open",
         "offsetgroup": "Very open",
         "orientation": "v",
         "showlegend": true,
         "textposition": "auto",
         "type": "bar",
         "x": [
          "Austria",
          "Belgium",
          "Bulgaria",
          "Cyprus",
          "Czechia",
          "Germany",
          "Denmark",
          "Estonia",
          "Greece",
          "Spain",
          "Finland",
          "France",
          "Croatia",
          "Hungary",
          "Ireland",
          "Italy",
          "Lithuania",
          "Luxembourg",
          "Latvia",
          "Malta",
          "Netherlands",
          "Poland",
          "Portugal",
          "Romania",
          "Sweden",
          "Slovenia",
          "Slovakia",
          "United Kingdom",
          "EU-28",
          "North Macedonia",
          "Serbia"
         ],
         "xaxis": "x",
         "y": [
          20,
          28,
          9,
          9,
          16,
          21,
          33,
          10,
          8,
          32,
          8,
          23,
          9,
          12,
          22,
          15,
          7,
          23,
          6,
          27,
          28,
          10,
          14,
          8,
          23,
          12,
          8,
          29,
          21,
          7,
          9
         ],
         "yaxis": "y"
        },
        {
         "alignmentgroup": "True",
         "hovertemplate": "answer=Selectively open<br>question_label=Openness about being LGBTI at work<br>CountryCode=%{x}<br>percentage=%{y}<extra></extra>",
         "legendgroup": "Selectively open",
         "marker": {
          "color": "#19d3f3"
         },
         "name": "Selectively open",
         "offsetgroup": "Selectively open",
         "orientation": "v",
         "showlegend": true,
         "textposition": "auto",
         "type": "bar",
         "x": [
          "Austria",
          "Belgium",
          "Bulgaria",
          "Cyprus",
          "Czechia",
          "Germany",
          "Denmark",
          "Estonia",
          "Greece",
          "Spain",
          "Finland",
          "France",
          "Croatia",
          "Hungary",
          "Ireland",
          "Italy",
          "Lithuania",
          "Luxembourg",
          "Latvia",
          "Malta",
          "Netherlands",
          "Poland",
          "Portugal",
          "Romania",
          "Sweden",
          "Slovenia",
          "Slovakia",
          "United Kingdom",
          "EU-28",
          "North Macedonia",
          "Serbia"
         ],
         "xaxis": "x",
         "y": [
          58,
          52,
          43,
          53,
          57,
          58,
          50,
          60,
          49,
          48,
          65,
          50,
          50,
          52,
          55,
          53,
          43,
          57,
          48,
          51,
          56,
          54,
          59,
          44,
          59,
          56,
          51,
          52,
          53,
          46,
          47
         ],
         "yaxis": "y"
        },
        {
         "alignmentgroup": "True",
         "hovertemplate": "answer=Hide LGBT identity<br>question_label=Openness about being LGBTI at work<br>CountryCode=%{x}<br>percentage=%{y}<extra></extra>",
         "legendgroup": "Hide LGBT identity",
         "marker": {
          "color": "#FF6692"
         },
         "name": "Hide LGBT identity",
         "offsetgroup": "Hide LGBT identity",
         "orientation": "v",
         "showlegend": true,
         "textposition": "auto",
         "type": "bar",
         "x": [
          "Austria",
          "Belgium",
          "Bulgaria",
          "Cyprus",
          "Czechia",
          "Germany",
          "Denmark",
          "Estonia",
          "Greece",
          "Spain",
          "Finland",
          "France",
          "Croatia",
          "Hungary",
          "Ireland",
          "Italy",
          "Lithuania",
          "Luxembourg",
          "Latvia",
          "Malta",
          "Netherlands",
          "Poland",
          "Portugal",
          "Romania",
          "Sweden",
          "Slovenia",
          "Slovakia",
          "United Kingdom",
          "EU-28",
          "North Macedonia",
          "Serbia"
         ],
         "xaxis": "x",
         "y": [
          23,
          19,
          48,
          38,
          27,
          21,
          18,
          31,
          43,
          20,
          27,
          27,
          41,
          36,
          23,
          32,
          51,
          21,
          47,
          21,
          16,
          36,
          27,
          47,
          18,
          32,
          41,
          19,
          26,
          46,
          44
         ],
         "yaxis": "y"
        }
       ],
       "layout": {
        "annotations": [
         {
          "font": {},
          "showarrow": false,
          "text": "question_label=Openness about being LGBTI at work",
          "textangle": 90,
          "x": 0.98,
          "xanchor": "left",
          "xref": "paper",
          "y": 0.11375,
          "yanchor": "middle",
          "yref": "paper"
         },
         {
          "font": {},
          "showarrow": false,
          "text": "question_label=To how many customers, clients, etc. at work are you open about being LGBTI",
          "textangle": 90,
          "x": 0.98,
          "xanchor": "left",
          "xref": "paper",
          "y": 0.37124999999999997,
          "yanchor": "middle",
          "yref": "paper"
         },
         {
          "font": {},
          "showarrow": false,
          "text": "question_label=To how many immediate superiors/heads of department are you open about being LGBTI",
          "textangle": 90,
          "x": 0.98,
          "xanchor": "left",
          "xref": "paper",
          "y": 0.62875,
          "yanchor": "middle",
          "yref": "paper"
         },
         {
          "font": {},
          "showarrow": false,
          "text": "question_label=To how many work colleagues are you open about being LGBTI",
          "textangle": 90,
          "x": 0.98,
          "xanchor": "left",
          "xref": "paper",
          "y": 0.88625,
          "yanchor": "middle",
          "yref": "paper"
         }
        ],
        "barmode": "group",
        "height": 1000,
        "legend": {
         "title": {
          "text": "answer"
         },
         "tracegroupgap": 0
        },
        "margin": {
         "t": 60
        },
        "template": {
         "data": {
          "bar": [
           {
            "error_x": {
             "color": "#2a3f5f"
            },
            "error_y": {
             "color": "#2a3f5f"
            },
            "marker": {
             "line": {
              "color": "#E5ECF6",
              "width": 0.5
             }
            },
            "type": "bar"
           }
          ],
          "barpolar": [
           {
            "marker": {
             "line": {
              "color": "#E5ECF6",
              "width": 0.5
             }
            },
            "type": "barpolar"
           }
          ],
          "carpet": [
           {
            "aaxis": {
             "endlinecolor": "#2a3f5f",
             "gridcolor": "white",
             "linecolor": "white",
             "minorgridcolor": "white",
             "startlinecolor": "#2a3f5f"
            },
            "baxis": {
             "endlinecolor": "#2a3f5f",
             "gridcolor": "white",
             "linecolor": "white",
             "minorgridcolor": "white",
             "startlinecolor": "#2a3f5f"
            },
            "type": "carpet"
           }
          ],
          "choropleth": [
           {
            "colorbar": {
             "outlinewidth": 0,
             "ticks": ""
            },
            "type": "choropleth"
           }
          ],
          "contour": [
           {
            "colorbar": {
             "outlinewidth": 0,
             "ticks": ""
            },
            "colorscale": [
             [
              0,
              "#0d0887"
             ],
             [
              0.1111111111111111,
              "#46039f"
             ],
             [
              0.2222222222222222,
              "#7201a8"
             ],
             [
              0.3333333333333333,
              "#9c179e"
             ],
             [
              0.4444444444444444,
              "#bd3786"
             ],
             [
              0.5555555555555556,
              "#d8576b"
             ],
             [
              0.6666666666666666,
              "#ed7953"
             ],
             [
              0.7777777777777778,
              "#fb9f3a"
             ],
             [
              0.8888888888888888,
              "#fdca26"
             ],
             [
              1,
              "#f0f921"
             ]
            ],
            "type": "contour"
           }
          ],
          "contourcarpet": [
           {
            "colorbar": {
             "outlinewidth": 0,
             "ticks": ""
            },
            "type": "contourcarpet"
           }
          ],
          "heatmap": [
           {
            "colorbar": {
             "outlinewidth": 0,
             "ticks": ""
            },
            "colorscale": [
             [
              0,
              "#0d0887"
             ],
             [
              0.1111111111111111,
              "#46039f"
             ],
             [
              0.2222222222222222,
              "#7201a8"
             ],
             [
              0.3333333333333333,
              "#9c179e"
             ],
             [
              0.4444444444444444,
              "#bd3786"
             ],
             [
              0.5555555555555556,
              "#d8576b"
             ],
             [
              0.6666666666666666,
              "#ed7953"
             ],
             [
              0.7777777777777778,
              "#fb9f3a"
             ],
             [
              0.8888888888888888,
              "#fdca26"
             ],
             [
              1,
              "#f0f921"
             ]
            ],
            "type": "heatmap"
           }
          ],
          "heatmapgl": [
           {
            "colorbar": {
             "outlinewidth": 0,
             "ticks": ""
            },
            "colorscale": [
             [
              0,
              "#0d0887"
             ],
             [
              0.1111111111111111,
              "#46039f"
             ],
             [
              0.2222222222222222,
              "#7201a8"
             ],
             [
              0.3333333333333333,
              "#9c179e"
             ],
             [
              0.4444444444444444,
              "#bd3786"
             ],
             [
              0.5555555555555556,
              "#d8576b"
             ],
             [
              0.6666666666666666,
              "#ed7953"
             ],
             [
              0.7777777777777778,
              "#fb9f3a"
             ],
             [
              0.8888888888888888,
              "#fdca26"
             ],
             [
              1,
              "#f0f921"
             ]
            ],
            "type": "heatmapgl"
           }
          ],
          "histogram": [
           {
            "marker": {
             "colorbar": {
              "outlinewidth": 0,
              "ticks": ""
             }
            },
            "type": "histogram"
           }
          ],
          "histogram2d": [
           {
            "colorbar": {
             "outlinewidth": 0,
             "ticks": ""
            },
            "colorscale": [
             [
              0,
              "#0d0887"
             ],
             [
              0.1111111111111111,
              "#46039f"
             ],
             [
              0.2222222222222222,
              "#7201a8"
             ],
             [
              0.3333333333333333,
              "#9c179e"
             ],
             [
              0.4444444444444444,
              "#bd3786"
             ],
             [
              0.5555555555555556,
              "#d8576b"
             ],
             [
              0.6666666666666666,
              "#ed7953"
             ],
             [
              0.7777777777777778,
              "#fb9f3a"
             ],
             [
              0.8888888888888888,
              "#fdca26"
             ],
             [
              1,
              "#f0f921"
             ]
            ],
            "type": "histogram2d"
           }
          ],
          "histogram2dcontour": [
           {
            "colorbar": {
             "outlinewidth": 0,
             "ticks": ""
            },
            "colorscale": [
             [
              0,
              "#0d0887"
             ],
             [
              0.1111111111111111,
              "#46039f"
             ],
             [
              0.2222222222222222,
              "#7201a8"
             ],
             [
              0.3333333333333333,
              "#9c179e"
             ],
             [
              0.4444444444444444,
              "#bd3786"
             ],
             [
              0.5555555555555556,
              "#d8576b"
             ],
             [
              0.6666666666666666,
              "#ed7953"
             ],
             [
              0.7777777777777778,
              "#fb9f3a"
             ],
             [
              0.8888888888888888,
              "#fdca26"
             ],
             [
              1,
              "#f0f921"
             ]
            ],
            "type": "histogram2dcontour"
           }
          ],
          "mesh3d": [
           {
            "colorbar": {
             "outlinewidth": 0,
             "ticks": ""
            },
            "type": "mesh3d"
           }
          ],
          "parcoords": [
           {
            "line": {
             "colorbar": {
              "outlinewidth": 0,
              "ticks": ""
             }
            },
            "type": "parcoords"
           }
          ],
          "pie": [
           {
            "automargin": true,
            "type": "pie"
           }
          ],
          "scatter": [
           {
            "marker": {
             "colorbar": {
              "outlinewidth": 0,
              "ticks": ""
             }
            },
            "type": "scatter"
           }
          ],
          "scatter3d": [
           {
            "line": {
             "colorbar": {
              "outlinewidth": 0,
              "ticks": ""
             }
            },
            "marker": {
             "colorbar": {
              "outlinewidth": 0,
              "ticks": ""
             }
            },
            "type": "scatter3d"
           }
          ],
          "scattercarpet": [
           {
            "marker": {
             "colorbar": {
              "outlinewidth": 0,
              "ticks": ""
             }
            },
            "type": "scattercarpet"
           }
          ],
          "scattergeo": [
           {
            "marker": {
             "colorbar": {
              "outlinewidth": 0,
              "ticks": ""
             }
            },
            "type": "scattergeo"
           }
          ],
          "scattergl": [
           {
            "marker": {
             "colorbar": {
              "outlinewidth": 0,
              "ticks": ""
             }
            },
            "type": "scattergl"
           }
          ],
          "scattermapbox": [
           {
            "marker": {
             "colorbar": {
              "outlinewidth": 0,
              "ticks": ""
             }
            },
            "type": "scattermapbox"
           }
          ],
          "scatterpolar": [
           {
            "marker": {
             "colorbar": {
              "outlinewidth": 0,
              "ticks": ""
             }
            },
            "type": "scatterpolar"
           }
          ],
          "scatterpolargl": [
           {
            "marker": {
             "colorbar": {
              "outlinewidth": 0,
              "ticks": ""
             }
            },
            "type": "scatterpolargl"
           }
          ],
          "scatterternary": [
           {
            "marker": {
             "colorbar": {
              "outlinewidth": 0,
              "ticks": ""
             }
            },
            "type": "scatterternary"
           }
          ],
          "surface": [
           {
            "colorbar": {
             "outlinewidth": 0,
             "ticks": ""
            },
            "colorscale": [
             [
              0,
              "#0d0887"
             ],
             [
              0.1111111111111111,
              "#46039f"
             ],
             [
              0.2222222222222222,
              "#7201a8"
             ],
             [
              0.3333333333333333,
              "#9c179e"
             ],
             [
              0.4444444444444444,
              "#bd3786"
             ],
             [
              0.5555555555555556,
              "#d8576b"
             ],
             [
              0.6666666666666666,
              "#ed7953"
             ],
             [
              0.7777777777777778,
              "#fb9f3a"
             ],
             [
              0.8888888888888888,
              "#fdca26"
             ],
             [
              1,
              "#f0f921"
             ]
            ],
            "type": "surface"
           }
          ],
          "table": [
           {
            "cells": {
             "fill": {
              "color": "#EBF0F8"
             },
             "line": {
              "color": "white"
             }
            },
            "header": {
             "fill": {
              "color": "#C8D4E3"
             },
             "line": {
              "color": "white"
             }
            },
            "type": "table"
           }
          ]
         },
         "layout": {
          "annotationdefaults": {
           "arrowcolor": "#2a3f5f",
           "arrowhead": 0,
           "arrowwidth": 1
          },
          "autotypenumbers": "strict",
          "coloraxis": {
           "colorbar": {
            "outlinewidth": 0,
            "ticks": ""
           }
          },
          "colorscale": {
           "diverging": [
            [
             0,
             "#8e0152"
            ],
            [
             0.1,
             "#c51b7d"
            ],
            [
             0.2,
             "#de77ae"
            ],
            [
             0.3,
             "#f1b6da"
            ],
            [
             0.4,
             "#fde0ef"
            ],
            [
             0.5,
             "#f7f7f7"
            ],
            [
             0.6,
             "#e6f5d0"
            ],
            [
             0.7,
             "#b8e186"
            ],
            [
             0.8,
             "#7fbc41"
            ],
            [
             0.9,
             "#4d9221"
            ],
            [
             1,
             "#276419"
            ]
           ],
           "sequential": [
            [
             0,
             "#0d0887"
            ],
            [
             0.1111111111111111,
             "#46039f"
            ],
            [
             0.2222222222222222,
             "#7201a8"
            ],
            [
             0.3333333333333333,
             "#9c179e"
            ],
            [
             0.4444444444444444,
             "#bd3786"
            ],
            [
             0.5555555555555556,
             "#d8576b"
            ],
            [
             0.6666666666666666,
             "#ed7953"
            ],
            [
             0.7777777777777778,
             "#fb9f3a"
            ],
            [
             0.8888888888888888,
             "#fdca26"
            ],
            [
             1,
             "#f0f921"
            ]
           ],
           "sequentialminus": [
            [
             0,
             "#0d0887"
            ],
            [
             0.1111111111111111,
             "#46039f"
            ],
            [
             0.2222222222222222,
             "#7201a8"
            ],
            [
             0.3333333333333333,
             "#9c179e"
            ],
            [
             0.4444444444444444,
             "#bd3786"
            ],
            [
             0.5555555555555556,
             "#d8576b"
            ],
            [
             0.6666666666666666,
             "#ed7953"
            ],
            [
             0.7777777777777778,
             "#fb9f3a"
            ],
            [
             0.8888888888888888,
             "#fdca26"
            ],
            [
             1,
             "#f0f921"
            ]
           ]
          },
          "colorway": [
           "#636efa",
           "#EF553B",
           "#00cc96",
           "#ab63fa",
           "#FFA15A",
           "#19d3f3",
           "#FF6692",
           "#B6E880",
           "#FF97FF",
           "#FECB52"
          ],
          "font": {
           "color": "#2a3f5f"
          },
          "geo": {
           "bgcolor": "white",
           "lakecolor": "white",
           "landcolor": "#E5ECF6",
           "showlakes": true,
           "showland": true,
           "subunitcolor": "white"
          },
          "hoverlabel": {
           "align": "left"
          },
          "hovermode": "closest",
          "mapbox": {
           "style": "light"
          },
          "paper_bgcolor": "white",
          "plot_bgcolor": "#E5ECF6",
          "polar": {
           "angularaxis": {
            "gridcolor": "white",
            "linecolor": "white",
            "ticks": ""
           },
           "bgcolor": "#E5ECF6",
           "radialaxis": {
            "gridcolor": "white",
            "linecolor": "white",
            "ticks": ""
           }
          },
          "scene": {
           "xaxis": {
            "backgroundcolor": "#E5ECF6",
            "gridcolor": "white",
            "gridwidth": 2,
            "linecolor": "white",
            "showbackground": true,
            "ticks": "",
            "zerolinecolor": "white"
           },
           "yaxis": {
            "backgroundcolor": "#E5ECF6",
            "gridcolor": "white",
            "gridwidth": 2,
            "linecolor": "white",
            "showbackground": true,
            "ticks": "",
            "zerolinecolor": "white"
           },
           "zaxis": {
            "backgroundcolor": "#E5ECF6",
            "gridcolor": "white",
            "gridwidth": 2,
            "linecolor": "white",
            "showbackground": true,
            "ticks": "",
            "zerolinecolor": "white"
           }
          },
          "shapedefaults": {
           "line": {
            "color": "#2a3f5f"
           }
          },
          "ternary": {
           "aaxis": {
            "gridcolor": "white",
            "linecolor": "white",
            "ticks": ""
           },
           "baxis": {
            "gridcolor": "white",
            "linecolor": "white",
            "ticks": ""
           },
           "bgcolor": "#E5ECF6",
           "caxis": {
            "gridcolor": "white",
            "linecolor": "white",
            "ticks": ""
           }
          },
          "title": {
           "x": 0.05
          },
          "xaxis": {
           "automargin": true,
           "gridcolor": "white",
           "linecolor": "white",
           "ticks": "",
           "title": {
            "standoff": 15
           },
           "zerolinecolor": "white",
           "zerolinewidth": 2
          },
          "yaxis": {
           "automargin": true,
           "gridcolor": "white",
           "linecolor": "white",
           "ticks": "",
           "title": {
            "standoff": 15
           },
           "zerolinecolor": "white",
           "zerolinewidth": 2
          }
         }
        },
        "title": {
         "text": "Living and openly at work"
        },
        "width": 1100,
        "xaxis": {
         "anchor": "y",
         "domain": [
          0,
          0.98
         ],
         "title": {
          "text": "Country"
         }
        },
        "xaxis2": {
         "anchor": "y2",
         "domain": [
          0,
          0.98
         ],
         "matches": "x",
         "showticklabels": false,
         "title": {
          "text": "Country"
         }
        },
        "xaxis3": {
         "anchor": "y3",
         "domain": [
          0,
          0.98
         ],
         "matches": "x",
         "showticklabels": false,
         "title": {
          "text": "Country"
         }
        },
        "xaxis4": {
         "anchor": "y4",
         "domain": [
          0,
          0.98
         ],
         "matches": "x",
         "showticklabels": false,
         "title": {
          "text": "Country"
         }
        },
        "yaxis": {
         "anchor": "x",
         "domain": [
          0,
          0.2275
         ],
         "title": {
          "text": "percentage"
         }
        },
        "yaxis2": {
         "anchor": "x2",
         "domain": [
          0.2575,
          0.485
         ],
         "matches": "y",
         "title": {
          "text": "percentage"
         }
        },
        "yaxis3": {
         "anchor": "x3",
         "domain": [
          0.515,
          0.7425
         ],
         "matches": "y",
         "title": {
          "text": "percentage"
         }
        },
        "yaxis4": {
         "anchor": "x4",
         "domain": [
          0.7725,
          1
         ],
         "matches": "y",
         "title": {
          "text": "percentage"
         }
        }
       }
      }
     },
     "metadata": {}
    }
   ],
   "source": [
    "\n",
    "#Esta es la gráfica definitiva \n",
    "import plotly.express as px\n",
    "fig = px.bar(living_work, x=\"CountryCode\", y=\"percentage\", color=\"answer\", barmode=\"group\",\n",
    "             facet_row=\"question_label\",\n",
    "             #category_orders ={\"question_label\":\"Work colleagues\"},{\"question_label\":\"Inmediate superiors\"},{\"question_label\":\"Customers,clients\"},{\"question_label\":\"Openness\"},\n",
    "             width= 1100, height= 1000)\n",
    "fig.update_xaxes(title_text = 'Country') \n",
    "fig.update_layout(title_text = \"Living and openly at work\")\n",
    "fig.show()"
   ]
  },
  {
   "cell_type": "code",
   "execution_count": 72,
   "metadata": {},
   "outputs": [],
   "source": [
    "#otra opción para representar pero no entiendo lo que me representan los datos. \n",
    "hide= living_work.loc[(living_work[\"question_label\"]== \"Openness about being LGBTI at work\") & (living_work[\"answer\"]== \"Hide LGBT identity\")]\n",
    "Selectively= living_work.loc[(living_work[\"question_label\"]== \"Openness about being LGBTI at work\") & (living_work[\"answer\"]== \"Selectively open\")]\n",
    "very_open= living_work.loc[(living_work[\"question_label\"]== \"Openness about being LGBTI at work\") & (living_work[\"answer\"]== \"Very open\")]"
   ]
  },
  {
   "cell_type": "code",
   "execution_count": 62,
   "metadata": {},
   "outputs": [],
   "source": [
    "openness= living_work.loc[living_work[\"question_label\"]== \"Openness about being LGBTI at work\"]"
   ]
  },
  {
   "cell_type": "code",
   "execution_count": 105,
   "metadata": {},
   "outputs": [
    {
     "output_type": "display_data",
     "data": {
      "text/plain": "<Figure size 432x288 with 1 Axes>",
      "image/svg+xml": "<?xml version=\"1.0\" encoding=\"utf-8\" standalone=\"no\"?>\r\n<!DOCTYPE svg PUBLIC \"-//W3C//DTD SVG 1.1//EN\"\r\n  \"http://www.w3.org/Graphics/SVG/1.1/DTD/svg11.dtd\">\r\n<!-- Created with matplotlib (https://matplotlib.org/) -->\r\n<svg height=\"248.518125pt\" version=\"1.1\" viewBox=\"0 0 368.925 248.518125\" width=\"368.925pt\" xmlns=\"http://www.w3.org/2000/svg\" xmlns:xlink=\"http://www.w3.org/1999/xlink\">\r\n <metadata>\r\n  <rdf:RDF xmlns:cc=\"http://creativecommons.org/ns#\" xmlns:dc=\"http://purl.org/dc/elements/1.1/\" xmlns:rdf=\"http://www.w3.org/1999/02/22-rdf-syntax-ns#\">\r\n   <cc:Work>\r\n    <dc:type rdf:resource=\"http://purl.org/dc/dcmitype/StillImage\"/>\r\n    <dc:date>2021-01-06T13:55:21.014466</dc:date>\r\n    <dc:format>image/svg+xml</dc:format>\r\n    <dc:creator>\r\n     <cc:Agent>\r\n      <dc:title>Matplotlib v3.3.3, https://matplotlib.org/</dc:title>\r\n     </cc:Agent>\r\n    </dc:creator>\r\n   </cc:Work>\r\n  </rdf:RDF>\r\n </metadata>\r\n <defs>\r\n  <style type=\"text/css\">*{stroke-linecap:butt;stroke-linejoin:round;}</style>\r\n </defs>\r\n <g id=\"figure_1\">\r\n  <g id=\"patch_1\">\r\n   <path d=\"M -0 248.518125 \r\nL 368.925 248.518125 \r\nL 368.925 0 \r\nL -0 0 \r\nz\r\n\" style=\"fill:none;\"/>\r\n  </g>\r\n  <g id=\"axes_1\">\r\n   <g id=\"patch_2\">\r\n    <path d=\"M 26.925 224.64 \r\nL 361.725 224.64 \r\nL 361.725 7.2 \r\nL 26.925 7.2 \r\nz\r\n\" style=\"fill:#ffffff;\"/>\r\n   </g>\r\n   <g id=\"matplotlib.axis_1\">\r\n    <g id=\"xtick_1\">\r\n     <g id=\"line2d_1\">\r\n      <defs>\r\n       <path d=\"M 0 0 \r\nL 0 3.5 \r\n\" id=\"mcca564c31b\" style=\"stroke:#000000;stroke-width:0.8;\"/>\r\n      </defs>\r\n      <g>\r\n       <use style=\"stroke:#000000;stroke-width:0.8;\" x=\"42.143182\" xlink:href=\"#mcca564c31b\" y=\"224.64\"/>\r\n      </g>\r\n     </g>\r\n     <g id=\"text_1\">\r\n      <!-- 0 -->\r\n      <g transform=\"translate(38.961932 239.238437)scale(0.1 -0.1)\">\r\n       <defs>\r\n        <path d=\"M 31.78125 66.40625 \r\nQ 24.171875 66.40625 20.328125 58.90625 \r\nQ 16.5 51.421875 16.5 36.375 \r\nQ 16.5 21.390625 20.328125 13.890625 \r\nQ 24.171875 6.390625 31.78125 6.390625 \r\nQ 39.453125 6.390625 43.28125 13.890625 \r\nQ 47.125 21.390625 47.125 36.375 \r\nQ 47.125 51.421875 43.28125 58.90625 \r\nQ 39.453125 66.40625 31.78125 66.40625 \r\nz\r\nM 31.78125 74.21875 \r\nQ 44.046875 74.21875 50.515625 64.515625 \r\nQ 56.984375 54.828125 56.984375 36.375 \r\nQ 56.984375 17.96875 50.515625 8.265625 \r\nQ 44.046875 -1.421875 31.78125 -1.421875 \r\nQ 19.53125 -1.421875 13.0625 8.265625 \r\nQ 6.59375 17.96875 6.59375 36.375 \r\nQ 6.59375 54.828125 13.0625 64.515625 \r\nQ 19.53125 74.21875 31.78125 74.21875 \r\nz\r\n\" id=\"DejaVuSans-48\"/>\r\n       </defs>\r\n       <use xlink:href=\"#DejaVuSans-48\"/>\r\n      </g>\r\n     </g>\r\n    </g>\r\n    <g id=\"xtick_2\">\r\n     <g id=\"line2d_2\">\r\n      <g>\r\n       <use style=\"stroke:#000000;stroke-width:0.8;\" x=\"92.870455\" xlink:href=\"#mcca564c31b\" y=\"224.64\"/>\r\n      </g>\r\n     </g>\r\n     <g id=\"text_2\">\r\n      <!-- 5 -->\r\n      <g transform=\"translate(89.689205 239.238437)scale(0.1 -0.1)\">\r\n       <defs>\r\n        <path d=\"M 10.796875 72.90625 \r\nL 49.515625 72.90625 \r\nL 49.515625 64.59375 \r\nL 19.828125 64.59375 \r\nL 19.828125 46.734375 \r\nQ 21.96875 47.46875 24.109375 47.828125 \r\nQ 26.265625 48.1875 28.421875 48.1875 \r\nQ 40.625 48.1875 47.75 41.5 \r\nQ 54.890625 34.8125 54.890625 23.390625 \r\nQ 54.890625 11.625 47.5625 5.09375 \r\nQ 40.234375 -1.421875 26.90625 -1.421875 \r\nQ 22.3125 -1.421875 17.546875 -0.640625 \r\nQ 12.796875 0.140625 7.71875 1.703125 \r\nL 7.71875 11.625 \r\nQ 12.109375 9.234375 16.796875 8.0625 \r\nQ 21.484375 6.890625 26.703125 6.890625 \r\nQ 35.15625 6.890625 40.078125 11.328125 \r\nQ 45.015625 15.765625 45.015625 23.390625 \r\nQ 45.015625 31 40.078125 35.4375 \r\nQ 35.15625 39.890625 26.703125 39.890625 \r\nQ 22.75 39.890625 18.8125 39.015625 \r\nQ 14.890625 38.140625 10.796875 36.28125 \r\nz\r\n\" id=\"DejaVuSans-53\"/>\r\n       </defs>\r\n       <use xlink:href=\"#DejaVuSans-53\"/>\r\n      </g>\r\n     </g>\r\n    </g>\r\n    <g id=\"xtick_3\">\r\n     <g id=\"line2d_3\">\r\n      <g>\r\n       <use style=\"stroke:#000000;stroke-width:0.8;\" x=\"143.597727\" xlink:href=\"#mcca564c31b\" y=\"224.64\"/>\r\n      </g>\r\n     </g>\r\n     <g id=\"text_3\">\r\n      <!-- 10 -->\r\n      <g transform=\"translate(137.235227 239.238437)scale(0.1 -0.1)\">\r\n       <defs>\r\n        <path d=\"M 12.40625 8.296875 \r\nL 28.515625 8.296875 \r\nL 28.515625 63.921875 \r\nL 10.984375 60.40625 \r\nL 10.984375 69.390625 \r\nL 28.421875 72.90625 \r\nL 38.28125 72.90625 \r\nL 38.28125 8.296875 \r\nL 54.390625 8.296875 \r\nL 54.390625 0 \r\nL 12.40625 0 \r\nz\r\n\" id=\"DejaVuSans-49\"/>\r\n       </defs>\r\n       <use xlink:href=\"#DejaVuSans-49\"/>\r\n       <use x=\"63.623047\" xlink:href=\"#DejaVuSans-48\"/>\r\n      </g>\r\n     </g>\r\n    </g>\r\n    <g id=\"xtick_4\">\r\n     <g id=\"line2d_4\">\r\n      <g>\r\n       <use style=\"stroke:#000000;stroke-width:0.8;\" x=\"194.325\" xlink:href=\"#mcca564c31b\" y=\"224.64\"/>\r\n      </g>\r\n     </g>\r\n     <g id=\"text_4\">\r\n      <!-- 15 -->\r\n      <g transform=\"translate(187.9625 239.238437)scale(0.1 -0.1)\">\r\n       <use xlink:href=\"#DejaVuSans-49\"/>\r\n       <use x=\"63.623047\" xlink:href=\"#DejaVuSans-53\"/>\r\n      </g>\r\n     </g>\r\n    </g>\r\n    <g id=\"xtick_5\">\r\n     <g id=\"line2d_5\">\r\n      <g>\r\n       <use style=\"stroke:#000000;stroke-width:0.8;\" x=\"245.052273\" xlink:href=\"#mcca564c31b\" y=\"224.64\"/>\r\n      </g>\r\n     </g>\r\n     <g id=\"text_5\">\r\n      <!-- 20 -->\r\n      <g transform=\"translate(238.689773 239.238437)scale(0.1 -0.1)\">\r\n       <defs>\r\n        <path d=\"M 19.1875 8.296875 \r\nL 53.609375 8.296875 \r\nL 53.609375 0 \r\nL 7.328125 0 \r\nL 7.328125 8.296875 \r\nQ 12.9375 14.109375 22.625 23.890625 \r\nQ 32.328125 33.6875 34.8125 36.53125 \r\nQ 39.546875 41.84375 41.421875 45.53125 \r\nQ 43.3125 49.21875 43.3125 52.78125 \r\nQ 43.3125 58.59375 39.234375 62.25 \r\nQ 35.15625 65.921875 28.609375 65.921875 \r\nQ 23.96875 65.921875 18.8125 64.3125 \r\nQ 13.671875 62.703125 7.8125 59.421875 \r\nL 7.8125 69.390625 \r\nQ 13.765625 71.78125 18.9375 73 \r\nQ 24.125 74.21875 28.421875 74.21875 \r\nQ 39.75 74.21875 46.484375 68.546875 \r\nQ 53.21875 62.890625 53.21875 53.421875 \r\nQ 53.21875 48.921875 51.53125 44.890625 \r\nQ 49.859375 40.875 45.40625 35.40625 \r\nQ 44.1875 33.984375 37.640625 27.21875 \r\nQ 31.109375 20.453125 19.1875 8.296875 \r\nz\r\n\" id=\"DejaVuSans-50\"/>\r\n       </defs>\r\n       <use xlink:href=\"#DejaVuSans-50\"/>\r\n       <use x=\"63.623047\" xlink:href=\"#DejaVuSans-48\"/>\r\n      </g>\r\n     </g>\r\n    </g>\r\n    <g id=\"xtick_6\">\r\n     <g id=\"line2d_6\">\r\n      <g>\r\n       <use style=\"stroke:#000000;stroke-width:0.8;\" x=\"295.779545\" xlink:href=\"#mcca564c31b\" y=\"224.64\"/>\r\n      </g>\r\n     </g>\r\n     <g id=\"text_6\">\r\n      <!-- 25 -->\r\n      <g transform=\"translate(289.417045 239.238437)scale(0.1 -0.1)\">\r\n       <use xlink:href=\"#DejaVuSans-50\"/>\r\n       <use x=\"63.623047\" xlink:href=\"#DejaVuSans-53\"/>\r\n      </g>\r\n     </g>\r\n    </g>\r\n    <g id=\"xtick_7\">\r\n     <g id=\"line2d_7\">\r\n      <g>\r\n       <use style=\"stroke:#000000;stroke-width:0.8;\" x=\"346.506818\" xlink:href=\"#mcca564c31b\" y=\"224.64\"/>\r\n      </g>\r\n     </g>\r\n     <g id=\"text_7\">\r\n      <!-- 30 -->\r\n      <g transform=\"translate(340.144318 239.238437)scale(0.1 -0.1)\">\r\n       <defs>\r\n        <path d=\"M 40.578125 39.3125 \r\nQ 47.65625 37.796875 51.625 33 \r\nQ 55.609375 28.21875 55.609375 21.1875 \r\nQ 55.609375 10.40625 48.1875 4.484375 \r\nQ 40.765625 -1.421875 27.09375 -1.421875 \r\nQ 22.515625 -1.421875 17.65625 -0.515625 \r\nQ 12.796875 0.390625 7.625 2.203125 \r\nL 7.625 11.71875 \r\nQ 11.71875 9.328125 16.59375 8.109375 \r\nQ 21.484375 6.890625 26.8125 6.890625 \r\nQ 36.078125 6.890625 40.9375 10.546875 \r\nQ 45.796875 14.203125 45.796875 21.1875 \r\nQ 45.796875 27.640625 41.28125 31.265625 \r\nQ 36.765625 34.90625 28.71875 34.90625 \r\nL 20.21875 34.90625 \r\nL 20.21875 43.015625 \r\nL 29.109375 43.015625 \r\nQ 36.375 43.015625 40.234375 45.921875 \r\nQ 44.09375 48.828125 44.09375 54.296875 \r\nQ 44.09375 59.90625 40.109375 62.90625 \r\nQ 36.140625 65.921875 28.71875 65.921875 \r\nQ 24.65625 65.921875 20.015625 65.03125 \r\nQ 15.375 64.15625 9.8125 62.3125 \r\nL 9.8125 71.09375 \r\nQ 15.4375 72.65625 20.34375 73.4375 \r\nQ 25.25 74.21875 29.59375 74.21875 \r\nQ 40.828125 74.21875 47.359375 69.109375 \r\nQ 53.90625 64.015625 53.90625 55.328125 \r\nQ 53.90625 49.265625 50.4375 45.09375 \r\nQ 46.96875 40.921875 40.578125 39.3125 \r\nz\r\n\" id=\"DejaVuSans-51\"/>\r\n       </defs>\r\n       <use xlink:href=\"#DejaVuSans-51\"/>\r\n       <use x=\"63.623047\" xlink:href=\"#DejaVuSans-48\"/>\r\n      </g>\r\n     </g>\r\n    </g>\r\n   </g>\r\n   <g id=\"matplotlib.axis_2\">\r\n    <g id=\"ytick_1\">\r\n     <g id=\"line2d_8\">\r\n      <defs>\r\n       <path d=\"M 0 0 \r\nL -3.5 0 \r\n\" id=\"m706fc883ec\" style=\"stroke:#000000;stroke-width:0.8;\"/>\r\n      </defs>\r\n      <g>\r\n       <use style=\"stroke:#000000;stroke-width:0.8;\" x=\"26.925\" xlink:href=\"#m706fc883ec\" y=\"201.354823\"/>\r\n      </g>\r\n     </g>\r\n     <g id=\"text_8\">\r\n      <!-- 10 -->\r\n      <g transform=\"translate(7.2 205.154042)scale(0.1 -0.1)\">\r\n       <use xlink:href=\"#DejaVuSans-49\"/>\r\n       <use x=\"63.623047\" xlink:href=\"#DejaVuSans-48\"/>\r\n      </g>\r\n     </g>\r\n    </g>\r\n    <g id=\"ytick_2\">\r\n     <g id=\"line2d_9\">\r\n      <g>\r\n       <use style=\"stroke:#000000;stroke-width:0.8;\" x=\"26.925\" xlink:href=\"#m706fc883ec\" y=\"167.850971\"/>\r\n      </g>\r\n     </g>\r\n     <g id=\"text_9\">\r\n      <!-- 20 -->\r\n      <g transform=\"translate(7.2 171.650189)scale(0.1 -0.1)\">\r\n       <use xlink:href=\"#DejaVuSans-50\"/>\r\n       <use x=\"63.623047\" xlink:href=\"#DejaVuSans-48\"/>\r\n      </g>\r\n     </g>\r\n    </g>\r\n    <g id=\"ytick_3\">\r\n     <g id=\"line2d_10\">\r\n      <g>\r\n       <use style=\"stroke:#000000;stroke-width:0.8;\" x=\"26.925\" xlink:href=\"#m706fc883ec\" y=\"134.347119\"/>\r\n      </g>\r\n     </g>\r\n     <g id=\"text_10\">\r\n      <!-- 30 -->\r\n      <g transform=\"translate(7.2 138.146337)scale(0.1 -0.1)\">\r\n       <use xlink:href=\"#DejaVuSans-51\"/>\r\n       <use x=\"63.623047\" xlink:href=\"#DejaVuSans-48\"/>\r\n      </g>\r\n     </g>\r\n    </g>\r\n    <g id=\"ytick_4\">\r\n     <g id=\"line2d_11\">\r\n      <g>\r\n       <use style=\"stroke:#000000;stroke-width:0.8;\" x=\"26.925\" xlink:href=\"#m706fc883ec\" y=\"100.843267\"/>\r\n      </g>\r\n     </g>\r\n     <g id=\"text_11\">\r\n      <!-- 40 -->\r\n      <g transform=\"translate(7.2 104.642485)scale(0.1 -0.1)\">\r\n       <defs>\r\n        <path d=\"M 37.796875 64.3125 \r\nL 12.890625 25.390625 \r\nL 37.796875 25.390625 \r\nz\r\nM 35.203125 72.90625 \r\nL 47.609375 72.90625 \r\nL 47.609375 25.390625 \r\nL 58.015625 25.390625 \r\nL 58.015625 17.1875 \r\nL 47.609375 17.1875 \r\nL 47.609375 0 \r\nL 37.796875 0 \r\nL 37.796875 17.1875 \r\nL 4.890625 17.1875 \r\nL 4.890625 26.703125 \r\nz\r\n\" id=\"DejaVuSans-52\"/>\r\n       </defs>\r\n       <use xlink:href=\"#DejaVuSans-52\"/>\r\n       <use x=\"63.623047\" xlink:href=\"#DejaVuSans-48\"/>\r\n      </g>\r\n     </g>\r\n    </g>\r\n    <g id=\"ytick_5\">\r\n     <g id=\"line2d_12\">\r\n      <g>\r\n       <use style=\"stroke:#000000;stroke-width:0.8;\" x=\"26.925\" xlink:href=\"#m706fc883ec\" y=\"67.339414\"/>\r\n      </g>\r\n     </g>\r\n     <g id=\"text_12\">\r\n      <!-- 50 -->\r\n      <g transform=\"translate(7.2 71.138633)scale(0.1 -0.1)\">\r\n       <use xlink:href=\"#DejaVuSans-53\"/>\r\n       <use x=\"63.623047\" xlink:href=\"#DejaVuSans-48\"/>\r\n      </g>\r\n     </g>\r\n    </g>\r\n    <g id=\"ytick_6\">\r\n     <g id=\"line2d_13\">\r\n      <g>\r\n       <use style=\"stroke:#000000;stroke-width:0.8;\" x=\"26.925\" xlink:href=\"#m706fc883ec\" y=\"33.835562\"/>\r\n      </g>\r\n     </g>\r\n     <g id=\"text_13\">\r\n      <!-- 60 -->\r\n      <g transform=\"translate(7.2 37.634781)scale(0.1 -0.1)\">\r\n       <defs>\r\n        <path d=\"M 33.015625 40.375 \r\nQ 26.375 40.375 22.484375 35.828125 \r\nQ 18.609375 31.296875 18.609375 23.390625 \r\nQ 18.609375 15.53125 22.484375 10.953125 \r\nQ 26.375 6.390625 33.015625 6.390625 \r\nQ 39.65625 6.390625 43.53125 10.953125 \r\nQ 47.40625 15.53125 47.40625 23.390625 \r\nQ 47.40625 31.296875 43.53125 35.828125 \r\nQ 39.65625 40.375 33.015625 40.375 \r\nz\r\nM 52.59375 71.296875 \r\nL 52.59375 62.3125 \r\nQ 48.875 64.0625 45.09375 64.984375 \r\nQ 41.3125 65.921875 37.59375 65.921875 \r\nQ 27.828125 65.921875 22.671875 59.328125 \r\nQ 17.53125 52.734375 16.796875 39.40625 \r\nQ 19.671875 43.65625 24.015625 45.921875 \r\nQ 28.375 48.1875 33.59375 48.1875 \r\nQ 44.578125 48.1875 50.953125 41.515625 \r\nQ 57.328125 34.859375 57.328125 23.390625 \r\nQ 57.328125 12.15625 50.6875 5.359375 \r\nQ 44.046875 -1.421875 33.015625 -1.421875 \r\nQ 20.359375 -1.421875 13.671875 8.265625 \r\nQ 6.984375 17.96875 6.984375 36.375 \r\nQ 6.984375 53.65625 15.1875 63.9375 \r\nQ 23.390625 74.21875 37.203125 74.21875 \r\nQ 40.921875 74.21875 44.703125 73.484375 \r\nQ 48.484375 72.75 52.59375 71.296875 \r\nz\r\n\" id=\"DejaVuSans-54\"/>\r\n       </defs>\r\n       <use xlink:href=\"#DejaVuSans-54\"/>\r\n       <use x=\"63.623047\" xlink:href=\"#DejaVuSans-48\"/>\r\n      </g>\r\n     </g>\r\n    </g>\r\n   </g>\r\n   <g id=\"line2d_14\">\r\n    <path clip-path=\"url(#p2646c08232)\" d=\"M 42.143182 157.799815 \r\nL 52.288636 171.201356 \r\nL 62.434091 74.040185 \r\nL 72.579545 107.544037 \r\nL 82.725 144.398274 \r\nL 92.870455 164.500586 \r\nL 103.015909 174.551741 \r\nL 113.161364 130.996733 \r\nL 123.306818 90.792111 \r\nL 133.452273 167.850971 \r\nL 143.597727 144.398274 \r\nL 153.743182 144.398274 \r\nL 163.888636 97.492881 \r\nL 174.034091 114.244807 \r\nL 184.179545 157.799815 \r\nL 194.325 127.646348 \r\nL 204.470455 63.989029 \r\nL 214.615909 164.500586 \r\nL 224.761364 77.39057 \r\nL 234.906818 164.500586 \r\nL 245.052273 181.252512 \r\nL 255.197727 114.244807 \r\nL 265.343182 144.398274 \r\nL 275.488636 77.39057 \r\nL 285.634091 174.551741 \r\nL 295.779545 127.646348 \r\nL 305.925 97.492881 \r\nL 316.070455 171.201356 \r\nL 326.215909 147.748659 \r\nL 336.361364 80.740955 \r\nL 346.506818 87.441726 \r\n\" style=\"fill:none;stroke:#1f77b4;stroke-linecap:square;stroke-width:1.5;\"/>\r\n   </g>\r\n   <g id=\"line2d_15\">\r\n    <path clip-path=\"url(#p2646c08232)\" d=\"M 42.143182 40.536333 \r\nL 52.288636 60.638644 \r\nL 62.434091 90.792111 \r\nL 72.579545 57.288259 \r\nL 82.725 43.886718 \r\nL 92.870455 40.536333 \r\nL 103.015909 67.339414 \r\nL 113.161364 33.835562 \r\nL 123.306818 70.6898 \r\nL 133.452273 74.040185 \r\nL 143.597727 17.083636 \r\nL 153.743182 67.339414 \r\nL 163.888636 67.339414 \r\nL 174.034091 60.638644 \r\nL 184.179545 50.587488 \r\nL 194.325 57.288259 \r\nL 204.470455 90.792111 \r\nL 214.615909 43.886718 \r\nL 224.761364 74.040185 \r\nL 234.906818 63.989029 \r\nL 245.052273 47.237103 \r\nL 255.197727 53.937874 \r\nL 265.343182 37.185948 \r\nL 275.488636 87.441726 \r\nL 285.634091 37.185948 \r\nL 295.779545 47.237103 \r\nL 305.925 63.989029 \r\nL 316.070455 60.638644 \r\nL 326.215909 57.288259 \r\nL 336.361364 80.740955 \r\nL 346.506818 77.39057 \r\n\" style=\"fill:none;stroke:#ff7f0e;stroke-linecap:square;stroke-width:1.5;\"/>\r\n   </g>\r\n   <g id=\"line2d_16\">\r\n    <path clip-path=\"url(#p2646c08232)\" d=\"M 42.143182 167.850971 \r\nL 52.288636 141.047889 \r\nL 62.434091 204.705208 \r\nL 72.579545 204.705208 \r\nL 82.725 181.252512 \r\nL 92.870455 164.500586 \r\nL 103.015909 124.295963 \r\nL 113.161364 201.354823 \r\nL 123.306818 208.055593 \r\nL 133.452273 127.646348 \r\nL 143.597727 208.055593 \r\nL 153.743182 157.799815 \r\nL 163.888636 204.705208 \r\nL 174.034091 194.654052 \r\nL 184.179545 161.1502 \r\nL 194.325 184.602897 \r\nL 204.470455 211.405978 \r\nL 214.615909 157.799815 \r\nL 224.761364 214.756364 \r\nL 234.906818 144.398274 \r\nL 245.052273 141.047889 \r\nL 255.197727 201.354823 \r\nL 265.343182 187.953282 \r\nL 275.488636 208.055593 \r\nL 285.634091 157.799815 \r\nL 295.779545 194.654052 \r\nL 305.925 208.055593 \r\nL 316.070455 137.697504 \r\nL 326.215909 164.500586 \r\nL 336.361364 211.405978 \r\nL 346.506818 204.705208 \r\n\" style=\"fill:none;stroke:#2ca02c;stroke-linecap:square;stroke-width:1.5;\"/>\r\n   </g>\r\n   <g id=\"patch_3\">\r\n    <path d=\"M 26.925 224.64 \r\nL 26.925 7.2 \r\n\" style=\"fill:none;stroke:#000000;stroke-linecap:square;stroke-linejoin:miter;stroke-width:0.8;\"/>\r\n   </g>\r\n   <g id=\"patch_4\">\r\n    <path d=\"M 361.725 224.64 \r\nL 361.725 7.2 \r\n\" style=\"fill:none;stroke:#000000;stroke-linecap:square;stroke-linejoin:miter;stroke-width:0.8;\"/>\r\n   </g>\r\n   <g id=\"patch_5\">\r\n    <path d=\"M 26.925 224.64 \r\nL 361.725 224.64 \r\n\" style=\"fill:none;stroke:#000000;stroke-linecap:square;stroke-linejoin:miter;stroke-width:0.8;\"/>\r\n   </g>\r\n   <g id=\"patch_6\">\r\n    <path d=\"M 26.925 7.2 \r\nL 361.725 7.2 \r\n\" style=\"fill:none;stroke:#000000;stroke-linecap:square;stroke-linejoin:miter;stroke-width:0.8;\"/>\r\n   </g>\r\n   <g id=\"legend_1\">\r\n    <g id=\"patch_7\">\r\n     <path d=\"M 268.326563 59.234375 \r\nL 354.725 59.234375 \r\nQ 356.725 59.234375 356.725 57.234375 \r\nL 356.725 14.2 \r\nQ 356.725 12.2 354.725 12.2 \r\nL 268.326563 12.2 \r\nQ 266.326563 12.2 266.326563 14.2 \r\nL 266.326563 57.234375 \r\nQ 266.326563 59.234375 268.326563 59.234375 \r\nz\r\n\" style=\"fill:#ffffff;opacity:0.8;stroke:#cccccc;stroke-linejoin:miter;\"/>\r\n    </g>\r\n    <g id=\"line2d_17\">\r\n     <path d=\"M 270.326563 20.298437 \r\nL 290.326563 20.298437 \r\n\" style=\"fill:none;stroke:#1f77b4;stroke-linecap:square;stroke-width:1.5;\"/>\r\n    </g>\r\n    <g id=\"line2d_18\"/>\r\n    <g id=\"text_14\">\r\n     <!-- Hide -->\r\n     <g transform=\"translate(298.326563 23.798437)scale(0.1 -0.1)\">\r\n      <defs>\r\n       <path d=\"M 9.8125 72.90625 \r\nL 19.671875 72.90625 \r\nL 19.671875 43.015625 \r\nL 55.515625 43.015625 \r\nL 55.515625 72.90625 \r\nL 65.375 72.90625 \r\nL 65.375 0 \r\nL 55.515625 0 \r\nL 55.515625 34.71875 \r\nL 19.671875 34.71875 \r\nL 19.671875 0 \r\nL 9.8125 0 \r\nz\r\n\" id=\"DejaVuSans-72\"/>\r\n       <path d=\"M 9.421875 54.6875 \r\nL 18.40625 54.6875 \r\nL 18.40625 0 \r\nL 9.421875 0 \r\nz\r\nM 9.421875 75.984375 \r\nL 18.40625 75.984375 \r\nL 18.40625 64.59375 \r\nL 9.421875 64.59375 \r\nz\r\n\" id=\"DejaVuSans-105\"/>\r\n       <path d=\"M 45.40625 46.390625 \r\nL 45.40625 75.984375 \r\nL 54.390625 75.984375 \r\nL 54.390625 0 \r\nL 45.40625 0 \r\nL 45.40625 8.203125 \r\nQ 42.578125 3.328125 38.25 0.953125 \r\nQ 33.9375 -1.421875 27.875 -1.421875 \r\nQ 17.96875 -1.421875 11.734375 6.484375 \r\nQ 5.515625 14.40625 5.515625 27.296875 \r\nQ 5.515625 40.1875 11.734375 48.09375 \r\nQ 17.96875 56 27.875 56 \r\nQ 33.9375 56 38.25 53.625 \r\nQ 42.578125 51.265625 45.40625 46.390625 \r\nz\r\nM 14.796875 27.296875 \r\nQ 14.796875 17.390625 18.875 11.75 \r\nQ 22.953125 6.109375 30.078125 6.109375 \r\nQ 37.203125 6.109375 41.296875 11.75 \r\nQ 45.40625 17.390625 45.40625 27.296875 \r\nQ 45.40625 37.203125 41.296875 42.84375 \r\nQ 37.203125 48.484375 30.078125 48.484375 \r\nQ 22.953125 48.484375 18.875 42.84375 \r\nQ 14.796875 37.203125 14.796875 27.296875 \r\nz\r\n\" id=\"DejaVuSans-100\"/>\r\n       <path d=\"M 56.203125 29.59375 \r\nL 56.203125 25.203125 \r\nL 14.890625 25.203125 \r\nQ 15.484375 15.921875 20.484375 11.0625 \r\nQ 25.484375 6.203125 34.421875 6.203125 \r\nQ 39.59375 6.203125 44.453125 7.46875 \r\nQ 49.3125 8.734375 54.109375 11.28125 \r\nL 54.109375 2.78125 \r\nQ 49.265625 0.734375 44.1875 -0.34375 \r\nQ 39.109375 -1.421875 33.890625 -1.421875 \r\nQ 20.796875 -1.421875 13.15625 6.1875 \r\nQ 5.515625 13.8125 5.515625 26.8125 \r\nQ 5.515625 40.234375 12.765625 48.109375 \r\nQ 20.015625 56 32.328125 56 \r\nQ 43.359375 56 49.78125 48.890625 \r\nQ 56.203125 41.796875 56.203125 29.59375 \r\nz\r\nM 47.21875 32.234375 \r\nQ 47.125 39.59375 43.09375 43.984375 \r\nQ 39.0625 48.390625 32.421875 48.390625 \r\nQ 24.90625 48.390625 20.390625 44.140625 \r\nQ 15.875 39.890625 15.1875 32.171875 \r\nz\r\n\" id=\"DejaVuSans-101\"/>\r\n      </defs>\r\n      <use xlink:href=\"#DejaVuSans-72\"/>\r\n      <use x=\"75.195312\" xlink:href=\"#DejaVuSans-105\"/>\r\n      <use x=\"102.978516\" xlink:href=\"#DejaVuSans-100\"/>\r\n      <use x=\"166.455078\" xlink:href=\"#DejaVuSans-101\"/>\r\n     </g>\r\n    </g>\r\n    <g id=\"line2d_19\">\r\n     <path d=\"M 270.326563 34.976562 \r\nL 290.326563 34.976562 \r\n\" style=\"fill:none;stroke:#ff7f0e;stroke-linecap:square;stroke-width:1.5;\"/>\r\n    </g>\r\n    <g id=\"line2d_20\"/>\r\n    <g id=\"text_15\">\r\n     <!-- Selectively -->\r\n     <g transform=\"translate(298.326563 38.476562)scale(0.1 -0.1)\">\r\n      <defs>\r\n       <path d=\"M 53.515625 70.515625 \r\nL 53.515625 60.890625 \r\nQ 47.90625 63.578125 42.921875 64.890625 \r\nQ 37.9375 66.21875 33.296875 66.21875 \r\nQ 25.25 66.21875 20.875 63.09375 \r\nQ 16.5 59.96875 16.5 54.203125 \r\nQ 16.5 49.359375 19.40625 46.890625 \r\nQ 22.3125 44.4375 30.421875 42.921875 \r\nL 36.375 41.703125 \r\nQ 47.40625 39.59375 52.65625 34.296875 \r\nQ 57.90625 29 57.90625 20.125 \r\nQ 57.90625 9.515625 50.796875 4.046875 \r\nQ 43.703125 -1.421875 29.984375 -1.421875 \r\nQ 24.8125 -1.421875 18.96875 -0.25 \r\nQ 13.140625 0.921875 6.890625 3.21875 \r\nL 6.890625 13.375 \r\nQ 12.890625 10.015625 18.65625 8.296875 \r\nQ 24.421875 6.59375 29.984375 6.59375 \r\nQ 38.421875 6.59375 43.015625 9.90625 \r\nQ 47.609375 13.234375 47.609375 19.390625 \r\nQ 47.609375 24.75 44.3125 27.78125 \r\nQ 41.015625 30.8125 33.5 32.328125 \r\nL 27.484375 33.5 \r\nQ 16.453125 35.6875 11.515625 40.375 \r\nQ 6.59375 45.0625 6.59375 53.421875 \r\nQ 6.59375 63.09375 13.40625 68.65625 \r\nQ 20.21875 74.21875 32.171875 74.21875 \r\nQ 37.3125 74.21875 42.625 73.28125 \r\nQ 47.953125 72.359375 53.515625 70.515625 \r\nz\r\n\" id=\"DejaVuSans-83\"/>\r\n       <path d=\"M 9.421875 75.984375 \r\nL 18.40625 75.984375 \r\nL 18.40625 0 \r\nL 9.421875 0 \r\nz\r\n\" id=\"DejaVuSans-108\"/>\r\n       <path d=\"M 48.78125 52.59375 \r\nL 48.78125 44.1875 \r\nQ 44.96875 46.296875 41.140625 47.34375 \r\nQ 37.3125 48.390625 33.40625 48.390625 \r\nQ 24.65625 48.390625 19.8125 42.84375 \r\nQ 14.984375 37.3125 14.984375 27.296875 \r\nQ 14.984375 17.28125 19.8125 11.734375 \r\nQ 24.65625 6.203125 33.40625 6.203125 \r\nQ 37.3125 6.203125 41.140625 7.25 \r\nQ 44.96875 8.296875 48.78125 10.40625 \r\nL 48.78125 2.09375 \r\nQ 45.015625 0.34375 40.984375 -0.53125 \r\nQ 36.96875 -1.421875 32.421875 -1.421875 \r\nQ 20.0625 -1.421875 12.78125 6.34375 \r\nQ 5.515625 14.109375 5.515625 27.296875 \r\nQ 5.515625 40.671875 12.859375 48.328125 \r\nQ 20.21875 56 33.015625 56 \r\nQ 37.15625 56 41.109375 55.140625 \r\nQ 45.0625 54.296875 48.78125 52.59375 \r\nz\r\n\" id=\"DejaVuSans-99\"/>\r\n       <path d=\"M 18.3125 70.21875 \r\nL 18.3125 54.6875 \r\nL 36.8125 54.6875 \r\nL 36.8125 47.703125 \r\nL 18.3125 47.703125 \r\nL 18.3125 18.015625 \r\nQ 18.3125 11.328125 20.140625 9.421875 \r\nQ 21.96875 7.515625 27.59375 7.515625 \r\nL 36.8125 7.515625 \r\nL 36.8125 0 \r\nL 27.59375 0 \r\nQ 17.1875 0 13.234375 3.875 \r\nQ 9.28125 7.765625 9.28125 18.015625 \r\nL 9.28125 47.703125 \r\nL 2.6875 47.703125 \r\nL 2.6875 54.6875 \r\nL 9.28125 54.6875 \r\nL 9.28125 70.21875 \r\nz\r\n\" id=\"DejaVuSans-116\"/>\r\n       <path d=\"M 2.984375 54.6875 \r\nL 12.5 54.6875 \r\nL 29.59375 8.796875 \r\nL 46.6875 54.6875 \r\nL 56.203125 54.6875 \r\nL 35.6875 0 \r\nL 23.484375 0 \r\nz\r\n\" id=\"DejaVuSans-118\"/>\r\n       <path d=\"M 32.171875 -5.078125 \r\nQ 28.375 -14.84375 24.75 -17.8125 \r\nQ 21.140625 -20.796875 15.09375 -20.796875 \r\nL 7.90625 -20.796875 \r\nL 7.90625 -13.28125 \r\nL 13.1875 -13.28125 \r\nQ 16.890625 -13.28125 18.9375 -11.515625 \r\nQ 21 -9.765625 23.484375 -3.21875 \r\nL 25.09375 0.875 \r\nL 2.984375 54.6875 \r\nL 12.5 54.6875 \r\nL 29.59375 11.921875 \r\nL 46.6875 54.6875 \r\nL 56.203125 54.6875 \r\nz\r\n\" id=\"DejaVuSans-121\"/>\r\n      </defs>\r\n      <use xlink:href=\"#DejaVuSans-83\"/>\r\n      <use x=\"63.476562\" xlink:href=\"#DejaVuSans-101\"/>\r\n      <use x=\"125\" xlink:href=\"#DejaVuSans-108\"/>\r\n      <use x=\"152.783203\" xlink:href=\"#DejaVuSans-101\"/>\r\n      <use x=\"214.306641\" xlink:href=\"#DejaVuSans-99\"/>\r\n      <use x=\"269.287109\" xlink:href=\"#DejaVuSans-116\"/>\r\n      <use x=\"308.496094\" xlink:href=\"#DejaVuSans-105\"/>\r\n      <use x=\"336.279297\" xlink:href=\"#DejaVuSans-118\"/>\r\n      <use x=\"395.458984\" xlink:href=\"#DejaVuSans-101\"/>\r\n      <use x=\"456.982422\" xlink:href=\"#DejaVuSans-108\"/>\r\n      <use x=\"484.765625\" xlink:href=\"#DejaVuSans-121\"/>\r\n     </g>\r\n    </g>\r\n    <g id=\"line2d_21\">\r\n     <path d=\"M 270.326563 49.654687 \r\nL 290.326563 49.654687 \r\n\" style=\"fill:none;stroke:#2ca02c;stroke-linecap:square;stroke-width:1.5;\"/>\r\n    </g>\r\n    <g id=\"line2d_22\"/>\r\n    <g id=\"text_16\">\r\n     <!-- Very open -->\r\n     <g transform=\"translate(298.326563 53.154687)scale(0.1 -0.1)\">\r\n      <defs>\r\n       <path d=\"M 28.609375 0 \r\nL 0.78125 72.90625 \r\nL 11.078125 72.90625 \r\nL 34.1875 11.53125 \r\nL 57.328125 72.90625 \r\nL 67.578125 72.90625 \r\nL 39.796875 0 \r\nz\r\n\" id=\"DejaVuSans-86\"/>\r\n       <path d=\"M 41.109375 46.296875 \r\nQ 39.59375 47.171875 37.8125 47.578125 \r\nQ 36.03125 48 33.890625 48 \r\nQ 26.265625 48 22.1875 43.046875 \r\nQ 18.109375 38.09375 18.109375 28.8125 \r\nL 18.109375 0 \r\nL 9.078125 0 \r\nL 9.078125 54.6875 \r\nL 18.109375 54.6875 \r\nL 18.109375 46.1875 \r\nQ 20.953125 51.171875 25.484375 53.578125 \r\nQ 30.03125 56 36.53125 56 \r\nQ 37.453125 56 38.578125 55.875 \r\nQ 39.703125 55.765625 41.0625 55.515625 \r\nz\r\n\" id=\"DejaVuSans-114\"/>\r\n       <path id=\"DejaVuSans-32\"/>\r\n       <path d=\"M 30.609375 48.390625 \r\nQ 23.390625 48.390625 19.1875 42.75 \r\nQ 14.984375 37.109375 14.984375 27.296875 \r\nQ 14.984375 17.484375 19.15625 11.84375 \r\nQ 23.34375 6.203125 30.609375 6.203125 \r\nQ 37.796875 6.203125 41.984375 11.859375 \r\nQ 46.1875 17.53125 46.1875 27.296875 \r\nQ 46.1875 37.015625 41.984375 42.703125 \r\nQ 37.796875 48.390625 30.609375 48.390625 \r\nz\r\nM 30.609375 56 \r\nQ 42.328125 56 49.015625 48.375 \r\nQ 55.71875 40.765625 55.71875 27.296875 \r\nQ 55.71875 13.875 49.015625 6.21875 \r\nQ 42.328125 -1.421875 30.609375 -1.421875 \r\nQ 18.84375 -1.421875 12.171875 6.21875 \r\nQ 5.515625 13.875 5.515625 27.296875 \r\nQ 5.515625 40.765625 12.171875 48.375 \r\nQ 18.84375 56 30.609375 56 \r\nz\r\n\" id=\"DejaVuSans-111\"/>\r\n       <path d=\"M 18.109375 8.203125 \r\nL 18.109375 -20.796875 \r\nL 9.078125 -20.796875 \r\nL 9.078125 54.6875 \r\nL 18.109375 54.6875 \r\nL 18.109375 46.390625 \r\nQ 20.953125 51.265625 25.265625 53.625 \r\nQ 29.59375 56 35.59375 56 \r\nQ 45.5625 56 51.78125 48.09375 \r\nQ 58.015625 40.1875 58.015625 27.296875 \r\nQ 58.015625 14.40625 51.78125 6.484375 \r\nQ 45.5625 -1.421875 35.59375 -1.421875 \r\nQ 29.59375 -1.421875 25.265625 0.953125 \r\nQ 20.953125 3.328125 18.109375 8.203125 \r\nz\r\nM 48.6875 27.296875 \r\nQ 48.6875 37.203125 44.609375 42.84375 \r\nQ 40.53125 48.484375 33.40625 48.484375 \r\nQ 26.265625 48.484375 22.1875 42.84375 \r\nQ 18.109375 37.203125 18.109375 27.296875 \r\nQ 18.109375 17.390625 22.1875 11.75 \r\nQ 26.265625 6.109375 33.40625 6.109375 \r\nQ 40.53125 6.109375 44.609375 11.75 \r\nQ 48.6875 17.390625 48.6875 27.296875 \r\nz\r\n\" id=\"DejaVuSans-112\"/>\r\n       <path d=\"M 54.890625 33.015625 \r\nL 54.890625 0 \r\nL 45.90625 0 \r\nL 45.90625 32.71875 \r\nQ 45.90625 40.484375 42.875 44.328125 \r\nQ 39.84375 48.1875 33.796875 48.1875 \r\nQ 26.515625 48.1875 22.3125 43.546875 \r\nQ 18.109375 38.921875 18.109375 30.90625 \r\nL 18.109375 0 \r\nL 9.078125 0 \r\nL 9.078125 54.6875 \r\nL 18.109375 54.6875 \r\nL 18.109375 46.1875 \r\nQ 21.34375 51.125 25.703125 53.5625 \r\nQ 30.078125 56 35.796875 56 \r\nQ 45.21875 56 50.046875 50.171875 \r\nQ 54.890625 44.34375 54.890625 33.015625 \r\nz\r\n\" id=\"DejaVuSans-110\"/>\r\n      </defs>\r\n      <use xlink:href=\"#DejaVuSans-86\"/>\r\n      <use x=\"60.658203\" xlink:href=\"#DejaVuSans-101\"/>\r\n      <use x=\"122.181641\" xlink:href=\"#DejaVuSans-114\"/>\r\n      <use x=\"163.294922\" xlink:href=\"#DejaVuSans-121\"/>\r\n      <use x=\"222.474609\" xlink:href=\"#DejaVuSans-32\"/>\r\n      <use x=\"254.261719\" xlink:href=\"#DejaVuSans-111\"/>\r\n      <use x=\"315.443359\" xlink:href=\"#DejaVuSans-112\"/>\r\n      <use x=\"378.919922\" xlink:href=\"#DejaVuSans-101\"/>\r\n      <use x=\"440.443359\" xlink:href=\"#DejaVuSans-110\"/>\r\n     </g>\r\n    </g>\r\n   </g>\r\n  </g>\r\n </g>\r\n <defs>\r\n  <clipPath id=\"p2646c08232\">\r\n   <rect height=\"217.44\" width=\"334.8\" x=\"26.925\" y=\"7.2\"/>\r\n  </clipPath>\r\n </defs>\r\n</svg>\r\n",
      "image/png": "[encoded data removed]"
     },
     "metadata": {
      "needs_background": "light"
     }
    }
   ],
   "source": [
    "import matplotlib.pyplot as plt\n",
    "x = np.arange(len(living_work.CountryCode.unique()))\n",
    "fig, ax = plt.subplots()\n",
    "ax.plot(x, hide[\"percentage\"], label='Hide')\n",
    "ax.plot(x, Selectively[\"percentage\"], label='Selectively')\n",
    "ax.plot(x, very_open[\"percentage\"], label='Very open')\n",
    "#ax.axis('equal')\n",
    "leg = ax.legend()"
   ]
  },
  {
   "cell_type": "code",
   "execution_count": 92,
   "metadata": {},
   "outputs": [
    {
     "output_type": "execute_result",
     "data": {
      "text/plain": [
       "[<matplotlib.lines.Line2D at 0x1ac8de857c0>]"
      ]
     },
     "metadata": {},
     "execution_count": 92
    },
    {
     "output_type": "display_data",
     "data": {
      "text/plain": "<Figure size 432x288 with 1 Axes>",
      "image/svg+xml": "<?xml version=\"1.0\" encoding=\"utf-8\" standalone=\"no\"?>\r\n<!DOCTYPE svg PUBLIC \"-//W3C//DTD SVG 1.1//EN\"\r\n  \"http://www.w3.org/Graphics/SVG/1.1/DTD/svg11.dtd\">\r\n<!-- Created with matplotlib (https://matplotlib.org/) -->\r\n<svg height=\"248.518125pt\" version=\"1.1\" viewBox=\"0 0 368.925 248.518125\" width=\"368.925pt\" xmlns=\"http://www.w3.org/2000/svg\" xmlns:xlink=\"http://www.w3.org/1999/xlink\">\r\n <metadata>\r\n  <rdf:RDF xmlns:cc=\"http://creativecommons.org/ns#\" xmlns:dc=\"http://purl.org/dc/elements/1.1/\" xmlns:rdf=\"http://www.w3.org/1999/02/22-rdf-syntax-ns#\">\r\n   <cc:Work>\r\n    <dc:type rdf:resource=\"http://purl.org/dc/dcmitype/StillImage\"/>\r\n    <dc:date>2021-01-06T13:46:10.154871</dc:date>\r\n    <dc:format>image/svg+xml</dc:format>\r\n    <dc:creator>\r\n     <cc:Agent>\r\n      <dc:title>Matplotlib v3.3.3, https://matplotlib.org/</dc:title>\r\n     </cc:Agent>\r\n    </dc:creator>\r\n   </cc:Work>\r\n  </rdf:RDF>\r\n </metadata>\r\n <defs>\r\n  <style type=\"text/css\">*{stroke-linecap:butt;stroke-linejoin:round;}</style>\r\n </defs>\r\n <g id=\"figure_1\">\r\n  <g id=\"patch_1\">\r\n   <path d=\"M -0 248.518125 \r\nL 368.925 248.518125 \r\nL 368.925 0 \r\nL -0 0 \r\nz\r\n\" style=\"fill:none;\"/>\r\n  </g>\r\n  <g id=\"axes_1\">\r\n   <g id=\"patch_2\">\r\n    <path d=\"M 26.925 224.64 \r\nL 361.725 224.64 \r\nL 361.725 7.2 \r\nL 26.925 7.2 \r\nz\r\n\" style=\"fill:#ffffff;\"/>\r\n   </g>\r\n   <g id=\"matplotlib.axis_1\">\r\n    <g id=\"xtick_1\">\r\n     <g id=\"line2d_1\">\r\n      <defs>\r\n       <path d=\"M 0 0 \r\nL 0 3.5 \r\n\" id=\"mbf8059aaed\" style=\"stroke:#000000;stroke-width:0.8;\"/>\r\n      </defs>\r\n      <g>\r\n       <use style=\"stroke:#000000;stroke-width:0.8;\" x=\"42.143182\" xlink:href=\"#mbf8059aaed\" y=\"224.64\"/>\r\n      </g>\r\n     </g>\r\n     <g id=\"text_1\">\r\n      <!-- 0 -->\r\n      <g transform=\"translate(38.961932 239.238437)scale(0.1 -0.1)\">\r\n       <defs>\r\n        <path d=\"M 31.78125 66.40625 \r\nQ 24.171875 66.40625 20.328125 58.90625 \r\nQ 16.5 51.421875 16.5 36.375 \r\nQ 16.5 21.390625 20.328125 13.890625 \r\nQ 24.171875 6.390625 31.78125 6.390625 \r\nQ 39.453125 6.390625 43.28125 13.890625 \r\nQ 47.125 21.390625 47.125 36.375 \r\nQ 47.125 51.421875 43.28125 58.90625 \r\nQ 39.453125 66.40625 31.78125 66.40625 \r\nz\r\nM 31.78125 74.21875 \r\nQ 44.046875 74.21875 50.515625 64.515625 \r\nQ 56.984375 54.828125 56.984375 36.375 \r\nQ 56.984375 17.96875 50.515625 8.265625 \r\nQ 44.046875 -1.421875 31.78125 -1.421875 \r\nQ 19.53125 -1.421875 13.0625 8.265625 \r\nQ 6.59375 17.96875 6.59375 36.375 \r\nQ 6.59375 54.828125 13.0625 64.515625 \r\nQ 19.53125 74.21875 31.78125 74.21875 \r\nz\r\n\" id=\"DejaVuSans-48\"/>\r\n       </defs>\r\n       <use xlink:href=\"#DejaVuSans-48\"/>\r\n      </g>\r\n     </g>\r\n    </g>\r\n    <g id=\"xtick_2\">\r\n     <g id=\"line2d_2\">\r\n      <g>\r\n       <use style=\"stroke:#000000;stroke-width:0.8;\" x=\"92.870455\" xlink:href=\"#mbf8059aaed\" y=\"224.64\"/>\r\n      </g>\r\n     </g>\r\n     <g id=\"text_2\">\r\n      <!-- 5 -->\r\n      <g transform=\"translate(89.689205 239.238437)scale(0.1 -0.1)\">\r\n       <defs>\r\n        <path d=\"M 10.796875 72.90625 \r\nL 49.515625 72.90625 \r\nL 49.515625 64.59375 \r\nL 19.828125 64.59375 \r\nL 19.828125 46.734375 \r\nQ 21.96875 47.46875 24.109375 47.828125 \r\nQ 26.265625 48.1875 28.421875 48.1875 \r\nQ 40.625 48.1875 47.75 41.5 \r\nQ 54.890625 34.8125 54.890625 23.390625 \r\nQ 54.890625 11.625 47.5625 5.09375 \r\nQ 40.234375 -1.421875 26.90625 -1.421875 \r\nQ 22.3125 -1.421875 17.546875 -0.640625 \r\nQ 12.796875 0.140625 7.71875 1.703125 \r\nL 7.71875 11.625 \r\nQ 12.109375 9.234375 16.796875 8.0625 \r\nQ 21.484375 6.890625 26.703125 6.890625 \r\nQ 35.15625 6.890625 40.078125 11.328125 \r\nQ 45.015625 15.765625 45.015625 23.390625 \r\nQ 45.015625 31 40.078125 35.4375 \r\nQ 35.15625 39.890625 26.703125 39.890625 \r\nQ 22.75 39.890625 18.8125 39.015625 \r\nQ 14.890625 38.140625 10.796875 36.28125 \r\nz\r\n\" id=\"DejaVuSans-53\"/>\r\n       </defs>\r\n       <use xlink:href=\"#DejaVuSans-53\"/>\r\n      </g>\r\n     </g>\r\n    </g>\r\n    <g id=\"xtick_3\">\r\n     <g id=\"line2d_3\">\r\n      <g>\r\n       <use style=\"stroke:#000000;stroke-width:0.8;\" x=\"143.597727\" xlink:href=\"#mbf8059aaed\" y=\"224.64\"/>\r\n      </g>\r\n     </g>\r\n     <g id=\"text_3\">\r\n      <!-- 10 -->\r\n      <g transform=\"translate(137.235227 239.238437)scale(0.1 -0.1)\">\r\n       <defs>\r\n        <path d=\"M 12.40625 8.296875 \r\nL 28.515625 8.296875 \r\nL 28.515625 63.921875 \r\nL 10.984375 60.40625 \r\nL 10.984375 69.390625 \r\nL 28.421875 72.90625 \r\nL 38.28125 72.90625 \r\nL 38.28125 8.296875 \r\nL 54.390625 8.296875 \r\nL 54.390625 0 \r\nL 12.40625 0 \r\nz\r\n\" id=\"DejaVuSans-49\"/>\r\n       </defs>\r\n       <use xlink:href=\"#DejaVuSans-49\"/>\r\n       <use x=\"63.623047\" xlink:href=\"#DejaVuSans-48\"/>\r\n      </g>\r\n     </g>\r\n    </g>\r\n    <g id=\"xtick_4\">\r\n     <g id=\"line2d_4\">\r\n      <g>\r\n       <use style=\"stroke:#000000;stroke-width:0.8;\" x=\"194.325\" xlink:href=\"#mbf8059aaed\" y=\"224.64\"/>\r\n      </g>\r\n     </g>\r\n     <g id=\"text_4\">\r\n      <!-- 15 -->\r\n      <g transform=\"translate(187.9625 239.238437)scale(0.1 -0.1)\">\r\n       <use xlink:href=\"#DejaVuSans-49\"/>\r\n       <use x=\"63.623047\" xlink:href=\"#DejaVuSans-53\"/>\r\n      </g>\r\n     </g>\r\n    </g>\r\n    <g id=\"xtick_5\">\r\n     <g id=\"line2d_5\">\r\n      <g>\r\n       <use style=\"stroke:#000000;stroke-width:0.8;\" x=\"245.052273\" xlink:href=\"#mbf8059aaed\" y=\"224.64\"/>\r\n      </g>\r\n     </g>\r\n     <g id=\"text_5\">\r\n      <!-- 20 -->\r\n      <g transform=\"translate(238.689773 239.238437)scale(0.1 -0.1)\">\r\n       <defs>\r\n        <path d=\"M 19.1875 8.296875 \r\nL 53.609375 8.296875 \r\nL 53.609375 0 \r\nL 7.328125 0 \r\nL 7.328125 8.296875 \r\nQ 12.9375 14.109375 22.625 23.890625 \r\nQ 32.328125 33.6875 34.8125 36.53125 \r\nQ 39.546875 41.84375 41.421875 45.53125 \r\nQ 43.3125 49.21875 43.3125 52.78125 \r\nQ 43.3125 58.59375 39.234375 62.25 \r\nQ 35.15625 65.921875 28.609375 65.921875 \r\nQ 23.96875 65.921875 18.8125 64.3125 \r\nQ 13.671875 62.703125 7.8125 59.421875 \r\nL 7.8125 69.390625 \r\nQ 13.765625 71.78125 18.9375 73 \r\nQ 24.125 74.21875 28.421875 74.21875 \r\nQ 39.75 74.21875 46.484375 68.546875 \r\nQ 53.21875 62.890625 53.21875 53.421875 \r\nQ 53.21875 48.921875 51.53125 44.890625 \r\nQ 49.859375 40.875 45.40625 35.40625 \r\nQ 44.1875 33.984375 37.640625 27.21875 \r\nQ 31.109375 20.453125 19.1875 8.296875 \r\nz\r\n\" id=\"DejaVuSans-50\"/>\r\n       </defs>\r\n       <use xlink:href=\"#DejaVuSans-50\"/>\r\n       <use x=\"63.623047\" xlink:href=\"#DejaVuSans-48\"/>\r\n      </g>\r\n     </g>\r\n    </g>\r\n    <g id=\"xtick_6\">\r\n     <g id=\"line2d_6\">\r\n      <g>\r\n       <use style=\"stroke:#000000;stroke-width:0.8;\" x=\"295.779545\" xlink:href=\"#mbf8059aaed\" y=\"224.64\"/>\r\n      </g>\r\n     </g>\r\n     <g id=\"text_6\">\r\n      <!-- 25 -->\r\n      <g transform=\"translate(289.417045 239.238437)scale(0.1 -0.1)\">\r\n       <use xlink:href=\"#DejaVuSans-50\"/>\r\n       <use x=\"63.623047\" xlink:href=\"#DejaVuSans-53\"/>\r\n      </g>\r\n     </g>\r\n    </g>\r\n    <g id=\"xtick_7\">\r\n     <g id=\"line2d_7\">\r\n      <g>\r\n       <use style=\"stroke:#000000;stroke-width:0.8;\" x=\"346.506818\" xlink:href=\"#mbf8059aaed\" y=\"224.64\"/>\r\n      </g>\r\n     </g>\r\n     <g id=\"text_7\">\r\n      <!-- 30 -->\r\n      <g transform=\"translate(340.144318 239.238437)scale(0.1 -0.1)\">\r\n       <defs>\r\n        <path d=\"M 40.578125 39.3125 \r\nQ 47.65625 37.796875 51.625 33 \r\nQ 55.609375 28.21875 55.609375 21.1875 \r\nQ 55.609375 10.40625 48.1875 4.484375 \r\nQ 40.765625 -1.421875 27.09375 -1.421875 \r\nQ 22.515625 -1.421875 17.65625 -0.515625 \r\nQ 12.796875 0.390625 7.625 2.203125 \r\nL 7.625 11.71875 \r\nQ 11.71875 9.328125 16.59375 8.109375 \r\nQ 21.484375 6.890625 26.8125 6.890625 \r\nQ 36.078125 6.890625 40.9375 10.546875 \r\nQ 45.796875 14.203125 45.796875 21.1875 \r\nQ 45.796875 27.640625 41.28125 31.265625 \r\nQ 36.765625 34.90625 28.71875 34.90625 \r\nL 20.21875 34.90625 \r\nL 20.21875 43.015625 \r\nL 29.109375 43.015625 \r\nQ 36.375 43.015625 40.234375 45.921875 \r\nQ 44.09375 48.828125 44.09375 54.296875 \r\nQ 44.09375 59.90625 40.109375 62.90625 \r\nQ 36.140625 65.921875 28.71875 65.921875 \r\nQ 24.65625 65.921875 20.015625 65.03125 \r\nQ 15.375 64.15625 9.8125 62.3125 \r\nL 9.8125 71.09375 \r\nQ 15.4375 72.65625 20.34375 73.4375 \r\nQ 25.25 74.21875 29.59375 74.21875 \r\nQ 40.828125 74.21875 47.359375 69.109375 \r\nQ 53.90625 64.015625 53.90625 55.328125 \r\nQ 53.90625 49.265625 50.4375 45.09375 \r\nQ 46.96875 40.921875 40.578125 39.3125 \r\nz\r\n\" id=\"DejaVuSans-51\"/>\r\n       </defs>\r\n       <use xlink:href=\"#DejaVuSans-51\"/>\r\n       <use x=\"63.623047\" xlink:href=\"#DejaVuSans-48\"/>\r\n      </g>\r\n     </g>\r\n    </g>\r\n   </g>\r\n   <g id=\"matplotlib.axis_2\">\r\n    <g id=\"ytick_1\">\r\n     <g id=\"line2d_8\">\r\n      <defs>\r\n       <path d=\"M 0 0 \r\nL -3.5 0 \r\n\" id=\"m2991fb949d\" style=\"stroke:#000000;stroke-width:0.8;\"/>\r\n      </defs>\r\n      <g>\r\n       <use style=\"stroke:#000000;stroke-width:0.8;\" x=\"26.925\" xlink:href=\"#m2991fb949d\" y=\"220.404156\"/>\r\n      </g>\r\n     </g>\r\n     <g id=\"text_8\">\r\n      <!-- 15 -->\r\n      <g transform=\"translate(7.2 224.203375)scale(0.1 -0.1)\">\r\n       <use xlink:href=\"#DejaVuSans-49\"/>\r\n       <use x=\"63.623047\" xlink:href=\"#DejaVuSans-53\"/>\r\n      </g>\r\n     </g>\r\n    </g>\r\n    <g id=\"ytick_2\">\r\n     <g id=\"line2d_9\">\r\n      <g>\r\n       <use style=\"stroke:#000000;stroke-width:0.8;\" x=\"26.925\" xlink:href=\"#m2991fb949d\" y=\"192.165195\"/>\r\n      </g>\r\n     </g>\r\n     <g id=\"text_9\">\r\n      <!-- 20 -->\r\n      <g transform=\"translate(7.2 195.964414)scale(0.1 -0.1)\">\r\n       <use xlink:href=\"#DejaVuSans-50\"/>\r\n       <use x=\"63.623047\" xlink:href=\"#DejaVuSans-48\"/>\r\n      </g>\r\n     </g>\r\n    </g>\r\n    <g id=\"ytick_3\">\r\n     <g id=\"line2d_10\">\r\n      <g>\r\n       <use style=\"stroke:#000000;stroke-width:0.8;\" x=\"26.925\" xlink:href=\"#m2991fb949d\" y=\"163.926234\"/>\r\n      </g>\r\n     </g>\r\n     <g id=\"text_10\">\r\n      <!-- 25 -->\r\n      <g transform=\"translate(7.2 167.725453)scale(0.1 -0.1)\">\r\n       <use xlink:href=\"#DejaVuSans-50\"/>\r\n       <use x=\"63.623047\" xlink:href=\"#DejaVuSans-53\"/>\r\n      </g>\r\n     </g>\r\n    </g>\r\n    <g id=\"ytick_4\">\r\n     <g id=\"line2d_11\">\r\n      <g>\r\n       <use style=\"stroke:#000000;stroke-width:0.8;\" x=\"26.925\" xlink:href=\"#m2991fb949d\" y=\"135.687273\"/>\r\n      </g>\r\n     </g>\r\n     <g id=\"text_11\">\r\n      <!-- 30 -->\r\n      <g transform=\"translate(7.2 139.486491)scale(0.1 -0.1)\">\r\n       <use xlink:href=\"#DejaVuSans-51\"/>\r\n       <use x=\"63.623047\" xlink:href=\"#DejaVuSans-48\"/>\r\n      </g>\r\n     </g>\r\n    </g>\r\n    <g id=\"ytick_5\">\r\n     <g id=\"line2d_12\">\r\n      <g>\r\n       <use style=\"stroke:#000000;stroke-width:0.8;\" x=\"26.925\" xlink:href=\"#m2991fb949d\" y=\"107.448312\"/>\r\n      </g>\r\n     </g>\r\n     <g id=\"text_12\">\r\n      <!-- 35 -->\r\n      <g transform=\"translate(7.2 111.24753)scale(0.1 -0.1)\">\r\n       <use xlink:href=\"#DejaVuSans-51\"/>\r\n       <use x=\"63.623047\" xlink:href=\"#DejaVuSans-53\"/>\r\n      </g>\r\n     </g>\r\n    </g>\r\n    <g id=\"ytick_6\">\r\n     <g id=\"line2d_13\">\r\n      <g>\r\n       <use style=\"stroke:#000000;stroke-width:0.8;\" x=\"26.925\" xlink:href=\"#m2991fb949d\" y=\"79.209351\"/>\r\n      </g>\r\n     </g>\r\n     <g id=\"text_13\">\r\n      <!-- 40 -->\r\n      <g transform=\"translate(7.2 83.008569)scale(0.1 -0.1)\">\r\n       <defs>\r\n        <path d=\"M 37.796875 64.3125 \r\nL 12.890625 25.390625 \r\nL 37.796875 25.390625 \r\nz\r\nM 35.203125 72.90625 \r\nL 47.609375 72.90625 \r\nL 47.609375 25.390625 \r\nL 58.015625 25.390625 \r\nL 58.015625 17.1875 \r\nL 47.609375 17.1875 \r\nL 47.609375 0 \r\nL 37.796875 0 \r\nL 37.796875 17.1875 \r\nL 4.890625 17.1875 \r\nL 4.890625 26.703125 \r\nz\r\n\" id=\"DejaVuSans-52\"/>\r\n       </defs>\r\n       <use xlink:href=\"#DejaVuSans-52\"/>\r\n       <use x=\"63.623047\" xlink:href=\"#DejaVuSans-48\"/>\r\n      </g>\r\n     </g>\r\n    </g>\r\n    <g id=\"ytick_7\">\r\n     <g id=\"line2d_14\">\r\n      <g>\r\n       <use style=\"stroke:#000000;stroke-width:0.8;\" x=\"26.925\" xlink:href=\"#m2991fb949d\" y=\"50.97039\"/>\r\n      </g>\r\n     </g>\r\n     <g id=\"text_14\">\r\n      <!-- 45 -->\r\n      <g transform=\"translate(7.2 54.769608)scale(0.1 -0.1)\">\r\n       <use xlink:href=\"#DejaVuSans-52\"/>\r\n       <use x=\"63.623047\" xlink:href=\"#DejaVuSans-53\"/>\r\n      </g>\r\n     </g>\r\n    </g>\r\n    <g id=\"ytick_8\">\r\n     <g id=\"line2d_15\">\r\n      <g>\r\n       <use style=\"stroke:#000000;stroke-width:0.8;\" x=\"26.925\" xlink:href=\"#m2991fb949d\" y=\"22.731429\"/>\r\n      </g>\r\n     </g>\r\n     <g id=\"text_15\">\r\n      <!-- 50 -->\r\n      <g transform=\"translate(7.2 26.530647)scale(0.1 -0.1)\">\r\n       <use xlink:href=\"#DejaVuSans-53\"/>\r\n       <use x=\"63.623047\" xlink:href=\"#DejaVuSans-48\"/>\r\n      </g>\r\n     </g>\r\n    </g>\r\n   </g>\r\n   <g id=\"line2d_16\">\r\n    <path clip-path=\"url(#p2e9dba56f7)\" d=\"M 42.143182 175.221818 \r\nL 52.288636 197.812987 \r\nL 62.434091 34.027013 \r\nL 72.579545 90.504935 \r\nL 82.725 152.630649 \r\nL 92.870455 186.517403 \r\nL 103.015909 203.460779 \r\nL 113.161364 130.039481 \r\nL 123.306818 62.265974 \r\nL 133.452273 192.165195 \r\nL 143.597727 152.630649 \r\nL 153.743182 152.630649 \r\nL 163.888636 73.561558 \r\nL 174.034091 101.800519 \r\nL 184.179545 175.221818 \r\nL 194.325 124.391688 \r\nL 204.470455 17.083636 \r\nL 214.615909 186.517403 \r\nL 224.761364 39.674805 \r\nL 234.906818 186.517403 \r\nL 245.052273 214.756364 \r\nL 255.197727 101.800519 \r\nL 265.343182 152.630649 \r\nL 275.488636 39.674805 \r\nL 285.634091 203.460779 \r\nL 295.779545 124.391688 \r\nL 305.925 73.561558 \r\nL 316.070455 197.812987 \r\nL 326.215909 158.278442 \r\nL 336.361364 45.322597 \r\nL 346.506818 56.618182 \r\n\" style=\"fill:none;stroke:#0000ff;stroke-linecap:square;stroke-width:1.5;\"/>\r\n    <defs>\r\n     <path d=\"M 0 3 \r\nC 0.795609 3 1.55874 2.683901 2.12132 2.12132 \r\nC 2.683901 1.55874 3 0.795609 3 0 \r\nC 3 -0.795609 2.683901 -1.55874 2.12132 -2.12132 \r\nC 1.55874 -2.683901 0.795609 -3 0 -3 \r\nC -0.795609 -3 -1.55874 -2.683901 -2.12132 -2.12132 \r\nC -2.683901 -1.55874 -3 -0.795609 -3 0 \r\nC -3 0.795609 -2.683901 1.55874 -2.12132 2.12132 \r\nC -1.55874 2.683901 -0.795609 3 0 3 \r\nz\r\n\" id=\"m0b0e762886\" style=\"stroke:#0000ff;\"/>\r\n    </defs>\r\n    <g clip-path=\"url(#p2e9dba56f7)\">\r\n     <use style=\"fill:#0000ff;stroke:#0000ff;\" x=\"42.143182\" xlink:href=\"#m0b0e762886\" y=\"175.221818\"/>\r\n     <use style=\"fill:#0000ff;stroke:#0000ff;\" x=\"52.288636\" xlink:href=\"#m0b0e762886\" y=\"197.812987\"/>\r\n     <use style=\"fill:#0000ff;stroke:#0000ff;\" x=\"62.434091\" xlink:href=\"#m0b0e762886\" y=\"34.027013\"/>\r\n     <use style=\"fill:#0000ff;stroke:#0000ff;\" x=\"72.579545\" xlink:href=\"#m0b0e762886\" y=\"90.504935\"/>\r\n     <use style=\"fill:#0000ff;stroke:#0000ff;\" x=\"82.725\" xlink:href=\"#m0b0e762886\" y=\"152.630649\"/>\r\n     <use style=\"fill:#0000ff;stroke:#0000ff;\" x=\"92.870455\" xlink:href=\"#m0b0e762886\" y=\"186.517403\"/>\r\n     <use style=\"fill:#0000ff;stroke:#0000ff;\" x=\"103.015909\" xlink:href=\"#m0b0e762886\" y=\"203.460779\"/>\r\n     <use style=\"fill:#0000ff;stroke:#0000ff;\" x=\"113.161364\" xlink:href=\"#m0b0e762886\" y=\"130.039481\"/>\r\n     <use style=\"fill:#0000ff;stroke:#0000ff;\" x=\"123.306818\" xlink:href=\"#m0b0e762886\" y=\"62.265974\"/>\r\n     <use style=\"fill:#0000ff;stroke:#0000ff;\" x=\"133.452273\" xlink:href=\"#m0b0e762886\" y=\"192.165195\"/>\r\n     <use style=\"fill:#0000ff;stroke:#0000ff;\" x=\"143.597727\" xlink:href=\"#m0b0e762886\" y=\"152.630649\"/>\r\n     <use style=\"fill:#0000ff;stroke:#0000ff;\" x=\"153.743182\" xlink:href=\"#m0b0e762886\" y=\"152.630649\"/>\r\n     <use style=\"fill:#0000ff;stroke:#0000ff;\" x=\"163.888636\" xlink:href=\"#m0b0e762886\" y=\"73.561558\"/>\r\n     <use style=\"fill:#0000ff;stroke:#0000ff;\" x=\"174.034091\" xlink:href=\"#m0b0e762886\" y=\"101.800519\"/>\r\n     <use style=\"fill:#0000ff;stroke:#0000ff;\" x=\"184.179545\" xlink:href=\"#m0b0e762886\" y=\"175.221818\"/>\r\n     <use style=\"fill:#0000ff;stroke:#0000ff;\" x=\"194.325\" xlink:href=\"#m0b0e762886\" y=\"124.391688\"/>\r\n     <use style=\"fill:#0000ff;stroke:#0000ff;\" x=\"204.470455\" xlink:href=\"#m0b0e762886\" y=\"17.083636\"/>\r\n     <use style=\"fill:#0000ff;stroke:#0000ff;\" x=\"214.615909\" xlink:href=\"#m0b0e762886\" y=\"186.517403\"/>\r\n     <use style=\"fill:#0000ff;stroke:#0000ff;\" x=\"224.761364\" xlink:href=\"#m0b0e762886\" y=\"39.674805\"/>\r\n     <use style=\"fill:#0000ff;stroke:#0000ff;\" x=\"234.906818\" xlink:href=\"#m0b0e762886\" y=\"186.517403\"/>\r\n     <use style=\"fill:#0000ff;stroke:#0000ff;\" x=\"245.052273\" xlink:href=\"#m0b0e762886\" y=\"214.756364\"/>\r\n     <use style=\"fill:#0000ff;stroke:#0000ff;\" x=\"255.197727\" xlink:href=\"#m0b0e762886\" y=\"101.800519\"/>\r\n     <use style=\"fill:#0000ff;stroke:#0000ff;\" x=\"265.343182\" xlink:href=\"#m0b0e762886\" y=\"152.630649\"/>\r\n     <use style=\"fill:#0000ff;stroke:#0000ff;\" x=\"275.488636\" xlink:href=\"#m0b0e762886\" y=\"39.674805\"/>\r\n     <use style=\"fill:#0000ff;stroke:#0000ff;\" x=\"285.634091\" xlink:href=\"#m0b0e762886\" y=\"203.460779\"/>\r\n     <use style=\"fill:#0000ff;stroke:#0000ff;\" x=\"295.779545\" xlink:href=\"#m0b0e762886\" y=\"124.391688\"/>\r\n     <use style=\"fill:#0000ff;stroke:#0000ff;\" x=\"305.925\" xlink:href=\"#m0b0e762886\" y=\"73.561558\"/>\r\n     <use style=\"fill:#0000ff;stroke:#0000ff;\" x=\"316.070455\" xlink:href=\"#m0b0e762886\" y=\"197.812987\"/>\r\n     <use style=\"fill:#0000ff;stroke:#0000ff;\" x=\"326.215909\" xlink:href=\"#m0b0e762886\" y=\"158.278442\"/>\r\n     <use style=\"fill:#0000ff;stroke:#0000ff;\" x=\"336.361364\" xlink:href=\"#m0b0e762886\" y=\"45.322597\"/>\r\n     <use style=\"fill:#0000ff;stroke:#0000ff;\" x=\"346.506818\" xlink:href=\"#m0b0e762886\" y=\"56.618182\"/>\r\n    </g>\r\n   </g>\r\n   <g id=\"patch_3\">\r\n    <path d=\"M 26.925 224.64 \r\nL 26.925 7.2 \r\n\" style=\"fill:none;stroke:#000000;stroke-linecap:square;stroke-linejoin:miter;stroke-width:0.8;\"/>\r\n   </g>\r\n   <g id=\"patch_4\">\r\n    <path d=\"M 361.725 224.64 \r\nL 361.725 7.2 \r\n\" style=\"fill:none;stroke:#000000;stroke-linecap:square;stroke-linejoin:miter;stroke-width:0.8;\"/>\r\n   </g>\r\n   <g id=\"patch_5\">\r\n    <path d=\"M 26.925 224.64 \r\nL 361.725 224.64 \r\n\" style=\"fill:none;stroke:#000000;stroke-linecap:square;stroke-linejoin:miter;stroke-width:0.8;\"/>\r\n   </g>\r\n   <g id=\"patch_6\">\r\n    <path d=\"M 26.925 7.2 \r\nL 361.725 7.2 \r\n\" style=\"fill:none;stroke:#000000;stroke-linecap:square;stroke-linejoin:miter;stroke-width:0.8;\"/>\r\n   </g>\r\n  </g>\r\n </g>\r\n <defs>\r\n  <clipPath id=\"p2e9dba56f7\">\r\n   <rect height=\"217.44\" width=\"334.8\" x=\"26.925\" y=\"7.2\"/>\r\n  </clipPath>\r\n </defs>\r\n</svg>\r\n",
      "image/png": "[encoded data removed]"
     },
     "metadata": {
      "needs_background": "light"
     }
    }
   ],
   "source": [
    "import numpy as np\n",
    "from matplotlib.pyplot import *\n",
    "import scipy.stats as stats\n",
    "x = np.arange(len(living_work.CountryCode.unique()))\n",
    "plot(x, hide[\"percentage\"], 'o-b')\n"
   ]
  },
  {
   "cell_type": "code",
   "execution_count": 108,
   "metadata": {},
   "outputs": [
    {
     "output_type": "execute_result",
     "data": {
      "text/plain": [
       "<AxesSubplot:xlabel='answer', ylabel='percentage'>"
      ]
     },
     "metadata": {},
     "execution_count": 108
    },
    {
     "output_type": "display_data",
     "data": {
      "text/plain": "<Figure size 432x288 with 1 Axes>",
      "image/svg+xml": "<?xml version=\"1.0\" encoding=\"utf-8\" standalone=\"no\"?>\r\n<!DOCTYPE svg PUBLIC \"-//W3C//DTD SVG 1.1//EN\"\r\n  \"http://www.w3.org/Graphics/SVG/1.1/DTD/svg11.dtd\">\r\n<!-- Created with matplotlib (https://matplotlib.org/) -->\r\n<svg height=\"262.19625pt\" version=\"1.1\" viewBox=\"0 0 382.603125 262.19625\" width=\"382.603125pt\" xmlns=\"http://www.w3.org/2000/svg\" xmlns:xlink=\"http://www.w3.org/1999/xlink\">\r\n <metadata>\r\n  <rdf:RDF xmlns:cc=\"http://creativecommons.org/ns#\" xmlns:dc=\"http://purl.org/dc/elements/1.1/\" xmlns:rdf=\"http://www.w3.org/1999/02/22-rdf-syntax-ns#\">\r\n   <cc:Work>\r\n    <dc:type rdf:resource=\"http://purl.org/dc/dcmitype/StillImage\"/>\r\n    <dc:date>2021-01-06T13:59:55.358585</dc:date>\r\n    <dc:format>image/svg+xml</dc:format>\r\n    <dc:creator>\r\n     <cc:Agent>\r\n      <dc:title>Matplotlib v3.3.3, https://matplotlib.org/</dc:title>\r\n     </cc:Agent>\r\n    </dc:creator>\r\n   </cc:Work>\r\n  </rdf:RDF>\r\n </metadata>\r\n <defs>\r\n  <style type=\"text/css\">*{stroke-linecap:butt;stroke-linejoin:round;}</style>\r\n </defs>\r\n <g id=\"figure_1\">\r\n  <g id=\"patch_1\">\r\n   <path d=\"M 0 262.19625 \r\nL 382.603125 262.19625 \r\nL 382.603125 0 \r\nL 0 0 \r\nz\r\n\" style=\"fill:none;\"/>\r\n  </g>\r\n  <g id=\"axes_1\">\r\n   <g id=\"patch_2\">\r\n    <path d=\"M 40.603125 224.64 \r\nL 375.403125 224.64 \r\nL 375.403125 7.2 \r\nL 40.603125 7.2 \r\nz\r\n\" style=\"fill:#ffffff;\"/>\r\n   </g>\r\n   <g id=\"patch_3\">\r\n    <path clip-path=\"url(#pe2480c0399)\" d=\"M 51.763125 204.705208 \r\nL 141.043125 204.705208 \r\nL 141.043125 157.799815 \r\nL 51.763125 157.799815 \r\nL 51.763125 204.705208 \r\nz\r\n\" style=\"fill:#3274a1;stroke:#3d3d3d;stroke-linejoin:miter;stroke-width:1.5;\"/>\r\n   </g>\r\n   <g id=\"patch_4\">\r\n    <path clip-path=\"url(#pe2480c0399)\" d=\"M 163.363125 69.014607 \r\nL 252.643125 69.014607 \r\nL 252.643125 45.561911 \r\nL 163.363125 45.561911 \r\nL 163.363125 69.014607 \r\nz\r\n\" style=\"fill:#e1812c;stroke:#3d3d3d;stroke-linejoin:miter;stroke-width:1.5;\"/>\r\n   </g>\r\n   <g id=\"patch_5\">\r\n    <path clip-path=\"url(#pe2480c0399)\" d=\"M 274.963125 164.500586 \r\nL 364.243125 164.500586 \r\nL 364.243125 97.492881 \r\nL 274.963125 97.492881 \r\nL 274.963125 164.500586 \r\nz\r\n\" style=\"fill:#3a923a;stroke:#3d3d3d;stroke-linejoin:miter;stroke-width:1.5;\"/>\r\n   </g>\r\n   <g id=\"matplotlib.axis_1\">\r\n    <g id=\"xtick_1\">\r\n     <g id=\"line2d_1\">\r\n      <defs>\r\n       <path d=\"M 0 0 \r\nL 0 3.5 \r\n\" id=\"m27eb41b265\" style=\"stroke:#000000;stroke-width:0.8;\"/>\r\n      </defs>\r\n      <g>\r\n       <use style=\"stroke:#000000;stroke-width:0.8;\" x=\"96.403125\" xlink:href=\"#m27eb41b265\" y=\"224.64\"/>\r\n      </g>\r\n     </g>\r\n     <g id=\"text_1\">\r\n      <!-- Very open -->\r\n      <g transform=\"translate(71.210937 239.238437)scale(0.1 -0.1)\">\r\n       <defs>\r\n        <path d=\"M 28.609375 0 \r\nL 0.78125 72.90625 \r\nL 11.078125 72.90625 \r\nL 34.1875 11.53125 \r\nL 57.328125 72.90625 \r\nL 67.578125 72.90625 \r\nL 39.796875 0 \r\nz\r\n\" id=\"DejaVuSans-86\"/>\r\n        <path d=\"M 56.203125 29.59375 \r\nL 56.203125 25.203125 \r\nL 14.890625 25.203125 \r\nQ 15.484375 15.921875 20.484375 11.0625 \r\nQ 25.484375 6.203125 34.421875 6.203125 \r\nQ 39.59375 6.203125 44.453125 7.46875 \r\nQ 49.3125 8.734375 54.109375 11.28125 \r\nL 54.109375 2.78125 \r\nQ 49.265625 0.734375 44.1875 -0.34375 \r\nQ 39.109375 -1.421875 33.890625 -1.421875 \r\nQ 20.796875 -1.421875 13.15625 6.1875 \r\nQ 5.515625 13.8125 5.515625 26.8125 \r\nQ 5.515625 40.234375 12.765625 48.109375 \r\nQ 20.015625 56 32.328125 56 \r\nQ 43.359375 56 49.78125 48.890625 \r\nQ 56.203125 41.796875 56.203125 29.59375 \r\nz\r\nM 47.21875 32.234375 \r\nQ 47.125 39.59375 43.09375 43.984375 \r\nQ 39.0625 48.390625 32.421875 48.390625 \r\nQ 24.90625 48.390625 20.390625 44.140625 \r\nQ 15.875 39.890625 15.1875 32.171875 \r\nz\r\n\" id=\"DejaVuSans-101\"/>\r\n        <path d=\"M 41.109375 46.296875 \r\nQ 39.59375 47.171875 37.8125 47.578125 \r\nQ 36.03125 48 33.890625 48 \r\nQ 26.265625 48 22.1875 43.046875 \r\nQ 18.109375 38.09375 18.109375 28.8125 \r\nL 18.109375 0 \r\nL 9.078125 0 \r\nL 9.078125 54.6875 \r\nL 18.109375 54.6875 \r\nL 18.109375 46.1875 \r\nQ 20.953125 51.171875 25.484375 53.578125 \r\nQ 30.03125 56 36.53125 56 \r\nQ 37.453125 56 38.578125 55.875 \r\nQ 39.703125 55.765625 41.0625 55.515625 \r\nz\r\n\" id=\"DejaVuSans-114\"/>\r\n        <path d=\"M 32.171875 -5.078125 \r\nQ 28.375 -14.84375 24.75 -17.8125 \r\nQ 21.140625 -20.796875 15.09375 -20.796875 \r\nL 7.90625 -20.796875 \r\nL 7.90625 -13.28125 \r\nL 13.1875 -13.28125 \r\nQ 16.890625 -13.28125 18.9375 -11.515625 \r\nQ 21 -9.765625 23.484375 -3.21875 \r\nL 25.09375 0.875 \r\nL 2.984375 54.6875 \r\nL 12.5 54.6875 \r\nL 29.59375 11.921875 \r\nL 46.6875 54.6875 \r\nL 56.203125 54.6875 \r\nz\r\n\" id=\"DejaVuSans-121\"/>\r\n        <path id=\"DejaVuSans-32\"/>\r\n        <path d=\"M 30.609375 48.390625 \r\nQ 23.390625 48.390625 19.1875 42.75 \r\nQ 14.984375 37.109375 14.984375 27.296875 \r\nQ 14.984375 17.484375 19.15625 11.84375 \r\nQ 23.34375 6.203125 30.609375 6.203125 \r\nQ 37.796875 6.203125 41.984375 11.859375 \r\nQ 46.1875 17.53125 46.1875 27.296875 \r\nQ 46.1875 37.015625 41.984375 42.703125 \r\nQ 37.796875 48.390625 30.609375 48.390625 \r\nz\r\nM 30.609375 56 \r\nQ 42.328125 56 49.015625 48.375 \r\nQ 55.71875 40.765625 55.71875 27.296875 \r\nQ 55.71875 13.875 49.015625 6.21875 \r\nQ 42.328125 -1.421875 30.609375 -1.421875 \r\nQ 18.84375 -1.421875 12.171875 6.21875 \r\nQ 5.515625 13.875 5.515625 27.296875 \r\nQ 5.515625 40.765625 12.171875 48.375 \r\nQ 18.84375 56 30.609375 56 \r\nz\r\n\" id=\"DejaVuSans-111\"/>\r\n        <path d=\"M 18.109375 8.203125 \r\nL 18.109375 -20.796875 \r\nL 9.078125 -20.796875 \r\nL 9.078125 54.6875 \r\nL 18.109375 54.6875 \r\nL 18.109375 46.390625 \r\nQ 20.953125 51.265625 25.265625 53.625 \r\nQ 29.59375 56 35.59375 56 \r\nQ 45.5625 56 51.78125 48.09375 \r\nQ 58.015625 40.1875 58.015625 27.296875 \r\nQ 58.015625 14.40625 51.78125 6.484375 \r\nQ 45.5625 -1.421875 35.59375 -1.421875 \r\nQ 29.59375 -1.421875 25.265625 0.953125 \r\nQ 20.953125 3.328125 18.109375 8.203125 \r\nz\r\nM 48.6875 27.296875 \r\nQ 48.6875 37.203125 44.609375 42.84375 \r\nQ 40.53125 48.484375 33.40625 48.484375 \r\nQ 26.265625 48.484375 22.1875 42.84375 \r\nQ 18.109375 37.203125 18.109375 27.296875 \r\nQ 18.109375 17.390625 22.1875 11.75 \r\nQ 26.265625 6.109375 33.40625 6.109375 \r\nQ 40.53125 6.109375 44.609375 11.75 \r\nQ 48.6875 17.390625 48.6875 27.296875 \r\nz\r\n\" id=\"DejaVuSans-112\"/>\r\n        <path d=\"M 54.890625 33.015625 \r\nL 54.890625 0 \r\nL 45.90625 0 \r\nL 45.90625 32.71875 \r\nQ 45.90625 40.484375 42.875 44.328125 \r\nQ 39.84375 48.1875 33.796875 48.1875 \r\nQ 26.515625 48.1875 22.3125 43.546875 \r\nQ 18.109375 38.921875 18.109375 30.90625 \r\nL 18.109375 0 \r\nL 9.078125 0 \r\nL 9.078125 54.6875 \r\nL 18.109375 54.6875 \r\nL 18.109375 46.1875 \r\nQ 21.34375 51.125 25.703125 53.5625 \r\nQ 30.078125 56 35.796875 56 \r\nQ 45.21875 56 50.046875 50.171875 \r\nQ 54.890625 44.34375 54.890625 33.015625 \r\nz\r\n\" id=\"DejaVuSans-110\"/>\r\n       </defs>\r\n       <use xlink:href=\"#DejaVuSans-86\"/>\r\n       <use x=\"60.658203\" xlink:href=\"#DejaVuSans-101\"/>\r\n       <use x=\"122.181641\" xlink:href=\"#DejaVuSans-114\"/>\r\n       <use x=\"163.294922\" xlink:href=\"#DejaVuSans-121\"/>\r\n       <use x=\"222.474609\" xlink:href=\"#DejaVuSans-32\"/>\r\n       <use x=\"254.261719\" xlink:href=\"#DejaVuSans-111\"/>\r\n       <use x=\"315.443359\" xlink:href=\"#DejaVuSans-112\"/>\r\n       <use x=\"378.919922\" xlink:href=\"#DejaVuSans-101\"/>\r\n       <use x=\"440.443359\" xlink:href=\"#DejaVuSans-110\"/>\r\n      </g>\r\n     </g>\r\n    </g>\r\n    <g id=\"xtick_2\">\r\n     <g id=\"line2d_2\">\r\n      <g>\r\n       <use style=\"stroke:#000000;stroke-width:0.8;\" x=\"208.003125\" xlink:href=\"#m27eb41b265\" y=\"224.64\"/>\r\n      </g>\r\n     </g>\r\n     <g id=\"text_2\">\r\n      <!-- Selectively open -->\r\n      <g transform=\"translate(166.735937 239.238437)scale(0.1 -0.1)\">\r\n       <defs>\r\n        <path d=\"M 53.515625 70.515625 \r\nL 53.515625 60.890625 \r\nQ 47.90625 63.578125 42.921875 64.890625 \r\nQ 37.9375 66.21875 33.296875 66.21875 \r\nQ 25.25 66.21875 20.875 63.09375 \r\nQ 16.5 59.96875 16.5 54.203125 \r\nQ 16.5 49.359375 19.40625 46.890625 \r\nQ 22.3125 44.4375 30.421875 42.921875 \r\nL 36.375 41.703125 \r\nQ 47.40625 39.59375 52.65625 34.296875 \r\nQ 57.90625 29 57.90625 20.125 \r\nQ 57.90625 9.515625 50.796875 4.046875 \r\nQ 43.703125 -1.421875 29.984375 -1.421875 \r\nQ 24.8125 -1.421875 18.96875 -0.25 \r\nQ 13.140625 0.921875 6.890625 3.21875 \r\nL 6.890625 13.375 \r\nQ 12.890625 10.015625 18.65625 8.296875 \r\nQ 24.421875 6.59375 29.984375 6.59375 \r\nQ 38.421875 6.59375 43.015625 9.90625 \r\nQ 47.609375 13.234375 47.609375 19.390625 \r\nQ 47.609375 24.75 44.3125 27.78125 \r\nQ 41.015625 30.8125 33.5 32.328125 \r\nL 27.484375 33.5 \r\nQ 16.453125 35.6875 11.515625 40.375 \r\nQ 6.59375 45.0625 6.59375 53.421875 \r\nQ 6.59375 63.09375 13.40625 68.65625 \r\nQ 20.21875 74.21875 32.171875 74.21875 \r\nQ 37.3125 74.21875 42.625 73.28125 \r\nQ 47.953125 72.359375 53.515625 70.515625 \r\nz\r\n\" id=\"DejaVuSans-83\"/>\r\n        <path d=\"M 9.421875 75.984375 \r\nL 18.40625 75.984375 \r\nL 18.40625 0 \r\nL 9.421875 0 \r\nz\r\n\" id=\"DejaVuSans-108\"/>\r\n        <path d=\"M 48.78125 52.59375 \r\nL 48.78125 44.1875 \r\nQ 44.96875 46.296875 41.140625 47.34375 \r\nQ 37.3125 48.390625 33.40625 48.390625 \r\nQ 24.65625 48.390625 19.8125 42.84375 \r\nQ 14.984375 37.3125 14.984375 27.296875 \r\nQ 14.984375 17.28125 19.8125 11.734375 \r\nQ 24.65625 6.203125 33.40625 6.203125 \r\nQ 37.3125 6.203125 41.140625 7.25 \r\nQ 44.96875 8.296875 48.78125 10.40625 \r\nL 48.78125 2.09375 \r\nQ 45.015625 0.34375 40.984375 -0.53125 \r\nQ 36.96875 -1.421875 32.421875 -1.421875 \r\nQ 20.0625 -1.421875 12.78125 6.34375 \r\nQ 5.515625 14.109375 5.515625 27.296875 \r\nQ 5.515625 40.671875 12.859375 48.328125 \r\nQ 20.21875 56 33.015625 56 \r\nQ 37.15625 56 41.109375 55.140625 \r\nQ 45.0625 54.296875 48.78125 52.59375 \r\nz\r\n\" id=\"DejaVuSans-99\"/>\r\n        <path d=\"M 18.3125 70.21875 \r\nL 18.3125 54.6875 \r\nL 36.8125 54.6875 \r\nL 36.8125 47.703125 \r\nL 18.3125 47.703125 \r\nL 18.3125 18.015625 \r\nQ 18.3125 11.328125 20.140625 9.421875 \r\nQ 21.96875 7.515625 27.59375 7.515625 \r\nL 36.8125 7.515625 \r\nL 36.8125 0 \r\nL 27.59375 0 \r\nQ 17.1875 0 13.234375 3.875 \r\nQ 9.28125 7.765625 9.28125 18.015625 \r\nL 9.28125 47.703125 \r\nL 2.6875 47.703125 \r\nL 2.6875 54.6875 \r\nL 9.28125 54.6875 \r\nL 9.28125 70.21875 \r\nz\r\n\" id=\"DejaVuSans-116\"/>\r\n        <path d=\"M 9.421875 54.6875 \r\nL 18.40625 54.6875 \r\nL 18.40625 0 \r\nL 9.421875 0 \r\nz\r\nM 9.421875 75.984375 \r\nL 18.40625 75.984375 \r\nL 18.40625 64.59375 \r\nL 9.421875 64.59375 \r\nz\r\n\" id=\"DejaVuSans-105\"/>\r\n        <path d=\"M 2.984375 54.6875 \r\nL 12.5 54.6875 \r\nL 29.59375 8.796875 \r\nL 46.6875 54.6875 \r\nL 56.203125 54.6875 \r\nL 35.6875 0 \r\nL 23.484375 0 \r\nz\r\n\" id=\"DejaVuSans-118\"/>\r\n       </defs>\r\n       <use xlink:href=\"#DejaVuSans-83\"/>\r\n       <use x=\"63.476562\" xlink:href=\"#DejaVuSans-101\"/>\r\n       <use x=\"125\" xlink:href=\"#DejaVuSans-108\"/>\r\n       <use x=\"152.783203\" xlink:href=\"#DejaVuSans-101\"/>\r\n       <use x=\"214.306641\" xlink:href=\"#DejaVuSans-99\"/>\r\n       <use x=\"269.287109\" xlink:href=\"#DejaVuSans-116\"/>\r\n       <use x=\"308.496094\" xlink:href=\"#DejaVuSans-105\"/>\r\n       <use x=\"336.279297\" xlink:href=\"#DejaVuSans-118\"/>\r\n       <use x=\"395.458984\" xlink:href=\"#DejaVuSans-101\"/>\r\n       <use x=\"456.982422\" xlink:href=\"#DejaVuSans-108\"/>\r\n       <use x=\"484.765625\" xlink:href=\"#DejaVuSans-121\"/>\r\n       <use x=\"543.945312\" xlink:href=\"#DejaVuSans-32\"/>\r\n       <use x=\"575.732422\" xlink:href=\"#DejaVuSans-111\"/>\r\n       <use x=\"636.914062\" xlink:href=\"#DejaVuSans-112\"/>\r\n       <use x=\"700.390625\" xlink:href=\"#DejaVuSans-101\"/>\r\n       <use x=\"761.914062\" xlink:href=\"#DejaVuSans-110\"/>\r\n      </g>\r\n     </g>\r\n    </g>\r\n    <g id=\"xtick_3\">\r\n     <g id=\"line2d_3\">\r\n      <g>\r\n       <use style=\"stroke:#000000;stroke-width:0.8;\" x=\"319.603125\" xlink:href=\"#m27eb41b265\" y=\"224.64\"/>\r\n      </g>\r\n     </g>\r\n     <g id=\"text_3\">\r\n      <!-- Hide LGBT identity -->\r\n      <g transform=\"translate(272.803125 239.238437)scale(0.1 -0.1)\">\r\n       <defs>\r\n        <path d=\"M 9.8125 72.90625 \r\nL 19.671875 72.90625 \r\nL 19.671875 43.015625 \r\nL 55.515625 43.015625 \r\nL 55.515625 72.90625 \r\nL 65.375 72.90625 \r\nL 65.375 0 \r\nL 55.515625 0 \r\nL 55.515625 34.71875 \r\nL 19.671875 34.71875 \r\nL 19.671875 0 \r\nL 9.8125 0 \r\nz\r\n\" id=\"DejaVuSans-72\"/>\r\n        <path d=\"M 45.40625 46.390625 \r\nL 45.40625 75.984375 \r\nL 54.390625 75.984375 \r\nL 54.390625 0 \r\nL 45.40625 0 \r\nL 45.40625 8.203125 \r\nQ 42.578125 3.328125 38.25 0.953125 \r\nQ 33.9375 -1.421875 27.875 -1.421875 \r\nQ 17.96875 -1.421875 11.734375 6.484375 \r\nQ 5.515625 14.40625 5.515625 27.296875 \r\nQ 5.515625 40.1875 11.734375 48.09375 \r\nQ 17.96875 56 27.875 56 \r\nQ 33.9375 56 38.25 53.625 \r\nQ 42.578125 51.265625 45.40625 46.390625 \r\nz\r\nM 14.796875 27.296875 \r\nQ 14.796875 17.390625 18.875 11.75 \r\nQ 22.953125 6.109375 30.078125 6.109375 \r\nQ 37.203125 6.109375 41.296875 11.75 \r\nQ 45.40625 17.390625 45.40625 27.296875 \r\nQ 45.40625 37.203125 41.296875 42.84375 \r\nQ 37.203125 48.484375 30.078125 48.484375 \r\nQ 22.953125 48.484375 18.875 42.84375 \r\nQ 14.796875 37.203125 14.796875 27.296875 \r\nz\r\n\" id=\"DejaVuSans-100\"/>\r\n        <path d=\"M 9.8125 72.90625 \r\nL 19.671875 72.90625 \r\nL 19.671875 8.296875 \r\nL 55.171875 8.296875 \r\nL 55.171875 0 \r\nL 9.8125 0 \r\nz\r\n\" id=\"DejaVuSans-76\"/>\r\n        <path d=\"M 59.515625 10.40625 \r\nL 59.515625 29.984375 \r\nL 43.40625 29.984375 \r\nL 43.40625 38.09375 \r\nL 69.28125 38.09375 \r\nL 69.28125 6.78125 \r\nQ 63.578125 2.734375 56.6875 0.65625 \r\nQ 49.8125 -1.421875 42 -1.421875 \r\nQ 24.90625 -1.421875 15.25 8.5625 \r\nQ 5.609375 18.5625 5.609375 36.375 \r\nQ 5.609375 54.25 15.25 64.234375 \r\nQ 24.90625 74.21875 42 74.21875 \r\nQ 49.125 74.21875 55.546875 72.453125 \r\nQ 61.96875 70.703125 67.390625 67.28125 \r\nL 67.390625 56.78125 \r\nQ 61.921875 61.421875 55.765625 63.765625 \r\nQ 49.609375 66.109375 42.828125 66.109375 \r\nQ 29.4375 66.109375 22.71875 58.640625 \r\nQ 16.015625 51.171875 16.015625 36.375 \r\nQ 16.015625 21.625 22.71875 14.15625 \r\nQ 29.4375 6.6875 42.828125 6.6875 \r\nQ 48.046875 6.6875 52.140625 7.59375 \r\nQ 56.25 8.5 59.515625 10.40625 \r\nz\r\n\" id=\"DejaVuSans-71\"/>\r\n        <path d=\"M 19.671875 34.8125 \r\nL 19.671875 8.109375 \r\nL 35.5 8.109375 \r\nQ 43.453125 8.109375 47.28125 11.40625 \r\nQ 51.125 14.703125 51.125 21.484375 \r\nQ 51.125 28.328125 47.28125 31.5625 \r\nQ 43.453125 34.8125 35.5 34.8125 \r\nz\r\nM 19.671875 64.796875 \r\nL 19.671875 42.828125 \r\nL 34.28125 42.828125 \r\nQ 41.5 42.828125 45.03125 45.53125 \r\nQ 48.578125 48.25 48.578125 53.8125 \r\nQ 48.578125 59.328125 45.03125 62.0625 \r\nQ 41.5 64.796875 34.28125 64.796875 \r\nz\r\nM 9.8125 72.90625 \r\nL 35.015625 72.90625 \r\nQ 46.296875 72.90625 52.390625 68.21875 \r\nQ 58.5 63.53125 58.5 54.890625 \r\nQ 58.5 48.1875 55.375 44.234375 \r\nQ 52.25 40.28125 46.1875 39.3125 \r\nQ 53.46875 37.75 57.5 32.78125 \r\nQ 61.53125 27.828125 61.53125 20.40625 \r\nQ 61.53125 10.640625 54.890625 5.3125 \r\nQ 48.25 0 35.984375 0 \r\nL 9.8125 0 \r\nz\r\n\" id=\"DejaVuSans-66\"/>\r\n        <path d=\"M -0.296875 72.90625 \r\nL 61.375 72.90625 \r\nL 61.375 64.59375 \r\nL 35.5 64.59375 \r\nL 35.5 0 \r\nL 25.59375 0 \r\nL 25.59375 64.59375 \r\nL -0.296875 64.59375 \r\nz\r\n\" id=\"DejaVuSans-84\"/>\r\n       </defs>\r\n       <use xlink:href=\"#DejaVuSans-72\"/>\r\n       <use x=\"75.195312\" xlink:href=\"#DejaVuSans-105\"/>\r\n       <use x=\"102.978516\" xlink:href=\"#DejaVuSans-100\"/>\r\n       <use x=\"166.455078\" xlink:href=\"#DejaVuSans-101\"/>\r\n       <use x=\"227.978516\" xlink:href=\"#DejaVuSans-32\"/>\r\n       <use x=\"259.765625\" xlink:href=\"#DejaVuSans-76\"/>\r\n       <use x=\"315.478516\" xlink:href=\"#DejaVuSans-71\"/>\r\n       <use x=\"392.96875\" xlink:href=\"#DejaVuSans-66\"/>\r\n       <use x=\"461.572266\" xlink:href=\"#DejaVuSans-84\"/>\r\n       <use x=\"522.65625\" xlink:href=\"#DejaVuSans-32\"/>\r\n       <use x=\"554.443359\" xlink:href=\"#DejaVuSans-105\"/>\r\n       <use x=\"582.226562\" xlink:href=\"#DejaVuSans-100\"/>\r\n       <use x=\"645.703125\" xlink:href=\"#DejaVuSans-101\"/>\r\n       <use x=\"707.226562\" xlink:href=\"#DejaVuSans-110\"/>\r\n       <use x=\"770.605469\" xlink:href=\"#DejaVuSans-116\"/>\r\n       <use x=\"809.814453\" xlink:href=\"#DejaVuSans-105\"/>\r\n       <use x=\"837.597656\" xlink:href=\"#DejaVuSans-116\"/>\r\n       <use x=\"876.806641\" xlink:href=\"#DejaVuSans-121\"/>\r\n      </g>\r\n     </g>\r\n    </g>\r\n    <g id=\"text_4\">\r\n     <!-- answer -->\r\n     <g transform=\"translate(189.944531 252.916562)scale(0.1 -0.1)\">\r\n      <defs>\r\n       <path d=\"M 34.28125 27.484375 \r\nQ 23.390625 27.484375 19.1875 25 \r\nQ 14.984375 22.515625 14.984375 16.5 \r\nQ 14.984375 11.71875 18.140625 8.90625 \r\nQ 21.296875 6.109375 26.703125 6.109375 \r\nQ 34.1875 6.109375 38.703125 11.40625 \r\nQ 43.21875 16.703125 43.21875 25.484375 \r\nL 43.21875 27.484375 \r\nz\r\nM 52.203125 31.203125 \r\nL 52.203125 0 \r\nL 43.21875 0 \r\nL 43.21875 8.296875 \r\nQ 40.140625 3.328125 35.546875 0.953125 \r\nQ 30.953125 -1.421875 24.3125 -1.421875 \r\nQ 15.921875 -1.421875 10.953125 3.296875 \r\nQ 6 8.015625 6 15.921875 \r\nQ 6 25.140625 12.171875 29.828125 \r\nQ 18.359375 34.515625 30.609375 34.515625 \r\nL 43.21875 34.515625 \r\nL 43.21875 35.40625 \r\nQ 43.21875 41.609375 39.140625 45 \r\nQ 35.0625 48.390625 27.6875 48.390625 \r\nQ 23 48.390625 18.546875 47.265625 \r\nQ 14.109375 46.140625 10.015625 43.890625 \r\nL 10.015625 52.203125 \r\nQ 14.9375 54.109375 19.578125 55.046875 \r\nQ 24.21875 56 28.609375 56 \r\nQ 40.484375 56 46.34375 49.84375 \r\nQ 52.203125 43.703125 52.203125 31.203125 \r\nz\r\n\" id=\"DejaVuSans-97\"/>\r\n       <path d=\"M 44.28125 53.078125 \r\nL 44.28125 44.578125 \r\nQ 40.484375 46.53125 36.375 47.5 \r\nQ 32.28125 48.484375 27.875 48.484375 \r\nQ 21.1875 48.484375 17.84375 46.4375 \r\nQ 14.5 44.390625 14.5 40.28125 \r\nQ 14.5 37.15625 16.890625 35.375 \r\nQ 19.28125 33.59375 26.515625 31.984375 \r\nL 29.59375 31.296875 \r\nQ 39.15625 29.25 43.1875 25.515625 \r\nQ 47.21875 21.78125 47.21875 15.09375 \r\nQ 47.21875 7.46875 41.1875 3.015625 \r\nQ 35.15625 -1.421875 24.609375 -1.421875 \r\nQ 20.21875 -1.421875 15.453125 -0.5625 \r\nQ 10.6875 0.296875 5.421875 2 \r\nL 5.421875 11.28125 \r\nQ 10.40625 8.6875 15.234375 7.390625 \r\nQ 20.0625 6.109375 24.8125 6.109375 \r\nQ 31.15625 6.109375 34.5625 8.28125 \r\nQ 37.984375 10.453125 37.984375 14.40625 \r\nQ 37.984375 18.0625 35.515625 20.015625 \r\nQ 33.0625 21.96875 24.703125 23.78125 \r\nL 21.578125 24.515625 \r\nQ 13.234375 26.265625 9.515625 29.90625 \r\nQ 5.8125 33.546875 5.8125 39.890625 \r\nQ 5.8125 47.609375 11.28125 51.796875 \r\nQ 16.75 56 26.8125 56 \r\nQ 31.78125 56 36.171875 55.265625 \r\nQ 40.578125 54.546875 44.28125 53.078125 \r\nz\r\n\" id=\"DejaVuSans-115\"/>\r\n       <path d=\"M 4.203125 54.6875 \r\nL 13.1875 54.6875 \r\nL 24.421875 12.015625 \r\nL 35.59375 54.6875 \r\nL 46.1875 54.6875 \r\nL 57.421875 12.015625 \r\nL 68.609375 54.6875 \r\nL 77.59375 54.6875 \r\nL 63.28125 0 \r\nL 52.6875 0 \r\nL 40.921875 44.828125 \r\nL 29.109375 0 \r\nL 18.5 0 \r\nz\r\n\" id=\"DejaVuSans-119\"/>\r\n      </defs>\r\n      <use xlink:href=\"#DejaVuSans-97\"/>\r\n      <use x=\"61.279297\" xlink:href=\"#DejaVuSans-110\"/>\r\n      <use x=\"124.658203\" xlink:href=\"#DejaVuSans-115\"/>\r\n      <use x=\"176.757812\" xlink:href=\"#DejaVuSans-119\"/>\r\n      <use x=\"258.544922\" xlink:href=\"#DejaVuSans-101\"/>\r\n      <use x=\"320.068359\" xlink:href=\"#DejaVuSans-114\"/>\r\n     </g>\r\n    </g>\r\n   </g>\r\n   <g id=\"matplotlib.axis_2\">\r\n    <g id=\"ytick_1\">\r\n     <g id=\"line2d_4\">\r\n      <defs>\r\n       <path d=\"M 0 0 \r\nL -3.5 0 \r\n\" id=\"mc0b6ecdc34\" style=\"stroke:#000000;stroke-width:0.8;\"/>\r\n      </defs>\r\n      <g>\r\n       <use style=\"stroke:#000000;stroke-width:0.8;\" x=\"40.603125\" xlink:href=\"#mc0b6ecdc34\" y=\"201.354823\"/>\r\n      </g>\r\n     </g>\r\n     <g id=\"text_5\">\r\n      <!-- 10 -->\r\n      <g transform=\"translate(20.878125 205.154042)scale(0.1 -0.1)\">\r\n       <defs>\r\n        <path d=\"M 12.40625 8.296875 \r\nL 28.515625 8.296875 \r\nL 28.515625 63.921875 \r\nL 10.984375 60.40625 \r\nL 10.984375 69.390625 \r\nL 28.421875 72.90625 \r\nL 38.28125 72.90625 \r\nL 38.28125 8.296875 \r\nL 54.390625 8.296875 \r\nL 54.390625 0 \r\nL 12.40625 0 \r\nz\r\n\" id=\"DejaVuSans-49\"/>\r\n        <path d=\"M 31.78125 66.40625 \r\nQ 24.171875 66.40625 20.328125 58.90625 \r\nQ 16.5 51.421875 16.5 36.375 \r\nQ 16.5 21.390625 20.328125 13.890625 \r\nQ 24.171875 6.390625 31.78125 6.390625 \r\nQ 39.453125 6.390625 43.28125 13.890625 \r\nQ 47.125 21.390625 47.125 36.375 \r\nQ 47.125 51.421875 43.28125 58.90625 \r\nQ 39.453125 66.40625 31.78125 66.40625 \r\nz\r\nM 31.78125 74.21875 \r\nQ 44.046875 74.21875 50.515625 64.515625 \r\nQ 56.984375 54.828125 56.984375 36.375 \r\nQ 56.984375 17.96875 50.515625 8.265625 \r\nQ 44.046875 -1.421875 31.78125 -1.421875 \r\nQ 19.53125 -1.421875 13.0625 8.265625 \r\nQ 6.59375 17.96875 6.59375 36.375 \r\nQ 6.59375 54.828125 13.0625 64.515625 \r\nQ 19.53125 74.21875 31.78125 74.21875 \r\nz\r\n\" id=\"DejaVuSans-48\"/>\r\n       </defs>\r\n       <use xlink:href=\"#DejaVuSans-49\"/>\r\n       <use x=\"63.623047\" xlink:href=\"#DejaVuSans-48\"/>\r\n      </g>\r\n     </g>\r\n    </g>\r\n    <g id=\"ytick_2\">\r\n     <g id=\"line2d_5\">\r\n      <g>\r\n       <use style=\"stroke:#000000;stroke-width:0.8;\" x=\"40.603125\" xlink:href=\"#mc0b6ecdc34\" y=\"167.850971\"/>\r\n      </g>\r\n     </g>\r\n     <g id=\"text_6\">\r\n      <!-- 20 -->\r\n      <g transform=\"translate(20.878125 171.650189)scale(0.1 -0.1)\">\r\n       <defs>\r\n        <path d=\"M 19.1875 8.296875 \r\nL 53.609375 8.296875 \r\nL 53.609375 0 \r\nL 7.328125 0 \r\nL 7.328125 8.296875 \r\nQ 12.9375 14.109375 22.625 23.890625 \r\nQ 32.328125 33.6875 34.8125 36.53125 \r\nQ 39.546875 41.84375 41.421875 45.53125 \r\nQ 43.3125 49.21875 43.3125 52.78125 \r\nQ 43.3125 58.59375 39.234375 62.25 \r\nQ 35.15625 65.921875 28.609375 65.921875 \r\nQ 23.96875 65.921875 18.8125 64.3125 \r\nQ 13.671875 62.703125 7.8125 59.421875 \r\nL 7.8125 69.390625 \r\nQ 13.765625 71.78125 18.9375 73 \r\nQ 24.125 74.21875 28.421875 74.21875 \r\nQ 39.75 74.21875 46.484375 68.546875 \r\nQ 53.21875 62.890625 53.21875 53.421875 \r\nQ 53.21875 48.921875 51.53125 44.890625 \r\nQ 49.859375 40.875 45.40625 35.40625 \r\nQ 44.1875 33.984375 37.640625 27.21875 \r\nQ 31.109375 20.453125 19.1875 8.296875 \r\nz\r\n\" id=\"DejaVuSans-50\"/>\r\n       </defs>\r\n       <use xlink:href=\"#DejaVuSans-50\"/>\r\n       <use x=\"63.623047\" xlink:href=\"#DejaVuSans-48\"/>\r\n      </g>\r\n     </g>\r\n    </g>\r\n    <g id=\"ytick_3\">\r\n     <g id=\"line2d_6\">\r\n      <g>\r\n       <use style=\"stroke:#000000;stroke-width:0.8;\" x=\"40.603125\" xlink:href=\"#mc0b6ecdc34\" y=\"134.347119\"/>\r\n      </g>\r\n     </g>\r\n     <g id=\"text_7\">\r\n      <!-- 30 -->\r\n      <g transform=\"translate(20.878125 138.146337)scale(0.1 -0.1)\">\r\n       <defs>\r\n        <path d=\"M 40.578125 39.3125 \r\nQ 47.65625 37.796875 51.625 33 \r\nQ 55.609375 28.21875 55.609375 21.1875 \r\nQ 55.609375 10.40625 48.1875 4.484375 \r\nQ 40.765625 -1.421875 27.09375 -1.421875 \r\nQ 22.515625 -1.421875 17.65625 -0.515625 \r\nQ 12.796875 0.390625 7.625 2.203125 \r\nL 7.625 11.71875 \r\nQ 11.71875 9.328125 16.59375 8.109375 \r\nQ 21.484375 6.890625 26.8125 6.890625 \r\nQ 36.078125 6.890625 40.9375 10.546875 \r\nQ 45.796875 14.203125 45.796875 21.1875 \r\nQ 45.796875 27.640625 41.28125 31.265625 \r\nQ 36.765625 34.90625 28.71875 34.90625 \r\nL 20.21875 34.90625 \r\nL 20.21875 43.015625 \r\nL 29.109375 43.015625 \r\nQ 36.375 43.015625 40.234375 45.921875 \r\nQ 44.09375 48.828125 44.09375 54.296875 \r\nQ 44.09375 59.90625 40.109375 62.90625 \r\nQ 36.140625 65.921875 28.71875 65.921875 \r\nQ 24.65625 65.921875 20.015625 65.03125 \r\nQ 15.375 64.15625 9.8125 62.3125 \r\nL 9.8125 71.09375 \r\nQ 15.4375 72.65625 20.34375 73.4375 \r\nQ 25.25 74.21875 29.59375 74.21875 \r\nQ 40.828125 74.21875 47.359375 69.109375 \r\nQ 53.90625 64.015625 53.90625 55.328125 \r\nQ 53.90625 49.265625 50.4375 45.09375 \r\nQ 46.96875 40.921875 40.578125 39.3125 \r\nz\r\n\" id=\"DejaVuSans-51\"/>\r\n       </defs>\r\n       <use xlink:href=\"#DejaVuSans-51\"/>\r\n       <use x=\"63.623047\" xlink:href=\"#DejaVuSans-48\"/>\r\n      </g>\r\n     </g>\r\n    </g>\r\n    <g id=\"ytick_4\">\r\n     <g id=\"line2d_7\">\r\n      <g>\r\n       <use style=\"stroke:#000000;stroke-width:0.8;\" x=\"40.603125\" xlink:href=\"#mc0b6ecdc34\" y=\"100.843267\"/>\r\n      </g>\r\n     </g>\r\n     <g id=\"text_8\">\r\n      <!-- 40 -->\r\n      <g transform=\"translate(20.878125 104.642485)scale(0.1 -0.1)\">\r\n       <defs>\r\n        <path d=\"M 37.796875 64.3125 \r\nL 12.890625 25.390625 \r\nL 37.796875 25.390625 \r\nz\r\nM 35.203125 72.90625 \r\nL 47.609375 72.90625 \r\nL 47.609375 25.390625 \r\nL 58.015625 25.390625 \r\nL 58.015625 17.1875 \r\nL 47.609375 17.1875 \r\nL 47.609375 0 \r\nL 37.796875 0 \r\nL 37.796875 17.1875 \r\nL 4.890625 17.1875 \r\nL 4.890625 26.703125 \r\nz\r\n\" id=\"DejaVuSans-52\"/>\r\n       </defs>\r\n       <use xlink:href=\"#DejaVuSans-52\"/>\r\n       <use x=\"63.623047\" xlink:href=\"#DejaVuSans-48\"/>\r\n      </g>\r\n     </g>\r\n    </g>\r\n    <g id=\"ytick_5\">\r\n     <g id=\"line2d_8\">\r\n      <g>\r\n       <use style=\"stroke:#000000;stroke-width:0.8;\" x=\"40.603125\" xlink:href=\"#mc0b6ecdc34\" y=\"67.339414\"/>\r\n      </g>\r\n     </g>\r\n     <g id=\"text_9\">\r\n      <!-- 50 -->\r\n      <g transform=\"translate(20.878125 71.138633)scale(0.1 -0.1)\">\r\n       <defs>\r\n        <path d=\"M 10.796875 72.90625 \r\nL 49.515625 72.90625 \r\nL 49.515625 64.59375 \r\nL 19.828125 64.59375 \r\nL 19.828125 46.734375 \r\nQ 21.96875 47.46875 24.109375 47.828125 \r\nQ 26.265625 48.1875 28.421875 48.1875 \r\nQ 40.625 48.1875 47.75 41.5 \r\nQ 54.890625 34.8125 54.890625 23.390625 \r\nQ 54.890625 11.625 47.5625 5.09375 \r\nQ 40.234375 -1.421875 26.90625 -1.421875 \r\nQ 22.3125 -1.421875 17.546875 -0.640625 \r\nQ 12.796875 0.140625 7.71875 1.703125 \r\nL 7.71875 11.625 \r\nQ 12.109375 9.234375 16.796875 8.0625 \r\nQ 21.484375 6.890625 26.703125 6.890625 \r\nQ 35.15625 6.890625 40.078125 11.328125 \r\nQ 45.015625 15.765625 45.015625 23.390625 \r\nQ 45.015625 31 40.078125 35.4375 \r\nQ 35.15625 39.890625 26.703125 39.890625 \r\nQ 22.75 39.890625 18.8125 39.015625 \r\nQ 14.890625 38.140625 10.796875 36.28125 \r\nz\r\n\" id=\"DejaVuSans-53\"/>\r\n       </defs>\r\n       <use xlink:href=\"#DejaVuSans-53\"/>\r\n       <use x=\"63.623047\" xlink:href=\"#DejaVuSans-48\"/>\r\n      </g>\r\n     </g>\r\n    </g>\r\n    <g id=\"ytick_6\">\r\n     <g id=\"line2d_9\">\r\n      <g>\r\n       <use style=\"stroke:#000000;stroke-width:0.8;\" x=\"40.603125\" xlink:href=\"#mc0b6ecdc34\" y=\"33.835562\"/>\r\n      </g>\r\n     </g>\r\n     <g id=\"text_10\">\r\n      <!-- 60 -->\r\n      <g transform=\"translate(20.878125 37.634781)scale(0.1 -0.1)\">\r\n       <defs>\r\n        <path d=\"M 33.015625 40.375 \r\nQ 26.375 40.375 22.484375 35.828125 \r\nQ 18.609375 31.296875 18.609375 23.390625 \r\nQ 18.609375 15.53125 22.484375 10.953125 \r\nQ 26.375 6.390625 33.015625 6.390625 \r\nQ 39.65625 6.390625 43.53125 10.953125 \r\nQ 47.40625 15.53125 47.40625 23.390625 \r\nQ 47.40625 31.296875 43.53125 35.828125 \r\nQ 39.65625 40.375 33.015625 40.375 \r\nz\r\nM 52.59375 71.296875 \r\nL 52.59375 62.3125 \r\nQ 48.875 64.0625 45.09375 64.984375 \r\nQ 41.3125 65.921875 37.59375 65.921875 \r\nQ 27.828125 65.921875 22.671875 59.328125 \r\nQ 17.53125 52.734375 16.796875 39.40625 \r\nQ 19.671875 43.65625 24.015625 45.921875 \r\nQ 28.375 48.1875 33.59375 48.1875 \r\nQ 44.578125 48.1875 50.953125 41.515625 \r\nQ 57.328125 34.859375 57.328125 23.390625 \r\nQ 57.328125 12.15625 50.6875 5.359375 \r\nQ 44.046875 -1.421875 33.015625 -1.421875 \r\nQ 20.359375 -1.421875 13.671875 8.265625 \r\nQ 6.984375 17.96875 6.984375 36.375 \r\nQ 6.984375 53.65625 15.1875 63.9375 \r\nQ 23.390625 74.21875 37.203125 74.21875 \r\nQ 40.921875 74.21875 44.703125 73.484375 \r\nQ 48.484375 72.75 52.59375 71.296875 \r\nz\r\n\" id=\"DejaVuSans-54\"/>\r\n       </defs>\r\n       <use xlink:href=\"#DejaVuSans-54\"/>\r\n       <use x=\"63.623047\" xlink:href=\"#DejaVuSans-48\"/>\r\n      </g>\r\n     </g>\r\n    </g>\r\n    <g id=\"text_11\">\r\n     <!-- percentage -->\r\n     <g transform=\"translate(14.798438 144.383281)rotate(-90)scale(0.1 -0.1)\">\r\n      <defs>\r\n       <path d=\"M 45.40625 27.984375 \r\nQ 45.40625 37.75 41.375 43.109375 \r\nQ 37.359375 48.484375 30.078125 48.484375 \r\nQ 22.859375 48.484375 18.828125 43.109375 \r\nQ 14.796875 37.75 14.796875 27.984375 \r\nQ 14.796875 18.265625 18.828125 12.890625 \r\nQ 22.859375 7.515625 30.078125 7.515625 \r\nQ 37.359375 7.515625 41.375 12.890625 \r\nQ 45.40625 18.265625 45.40625 27.984375 \r\nz\r\nM 54.390625 6.78125 \r\nQ 54.390625 -7.171875 48.1875 -13.984375 \r\nQ 42 -20.796875 29.203125 -20.796875 \r\nQ 24.46875 -20.796875 20.265625 -20.09375 \r\nQ 16.0625 -19.390625 12.109375 -17.921875 \r\nL 12.109375 -9.1875 \r\nQ 16.0625 -11.328125 19.921875 -12.34375 \r\nQ 23.78125 -13.375 27.78125 -13.375 \r\nQ 36.625 -13.375 41.015625 -8.765625 \r\nQ 45.40625 -4.15625 45.40625 5.171875 \r\nL 45.40625 9.625 \r\nQ 42.625 4.78125 38.28125 2.390625 \r\nQ 33.9375 0 27.875 0 \r\nQ 17.828125 0 11.671875 7.65625 \r\nQ 5.515625 15.328125 5.515625 27.984375 \r\nQ 5.515625 40.671875 11.671875 48.328125 \r\nQ 17.828125 56 27.875 56 \r\nQ 33.9375 56 38.28125 53.609375 \r\nQ 42.625 51.21875 45.40625 46.390625 \r\nL 45.40625 54.6875 \r\nL 54.390625 54.6875 \r\nz\r\n\" id=\"DejaVuSans-103\"/>\r\n      </defs>\r\n      <use xlink:href=\"#DejaVuSans-112\"/>\r\n      <use x=\"63.476562\" xlink:href=\"#DejaVuSans-101\"/>\r\n      <use x=\"125\" xlink:href=\"#DejaVuSans-114\"/>\r\n      <use x=\"163.863281\" xlink:href=\"#DejaVuSans-99\"/>\r\n      <use x=\"218.84375\" xlink:href=\"#DejaVuSans-101\"/>\r\n      <use x=\"280.367188\" xlink:href=\"#DejaVuSans-110\"/>\r\n      <use x=\"343.746094\" xlink:href=\"#DejaVuSans-116\"/>\r\n      <use x=\"382.955078\" xlink:href=\"#DejaVuSans-97\"/>\r\n      <use x=\"444.234375\" xlink:href=\"#DejaVuSans-103\"/>\r\n      <use x=\"507.710938\" xlink:href=\"#DejaVuSans-101\"/>\r\n     </g>\r\n    </g>\r\n   </g>\r\n   <g id=\"line2d_10\">\r\n    <path clip-path=\"url(#pe2480c0399)\" d=\"M 96.403125 204.705208 \r\nL 96.403125 214.756364 \r\n\" style=\"fill:none;stroke:#3d3d3d;stroke-linecap:square;stroke-width:1.5;\"/>\r\n   </g>\r\n   <g id=\"line2d_11\">\r\n    <path clip-path=\"url(#pe2480c0399)\" d=\"M 96.403125 157.799815 \r\nL 96.403125 124.295963 \r\n\" style=\"fill:none;stroke:#3d3d3d;stroke-linecap:square;stroke-width:1.5;\"/>\r\n   </g>\r\n   <g id=\"line2d_12\">\r\n    <path clip-path=\"url(#pe2480c0399)\" d=\"M 74.083125 214.756364 \r\nL 118.723125 214.756364 \r\n\" style=\"fill:none;stroke:#3d3d3d;stroke-linecap:square;stroke-width:1.5;\"/>\r\n   </g>\r\n   <g id=\"line2d_13\">\r\n    <path clip-path=\"url(#pe2480c0399)\" d=\"M 74.083125 124.295963 \r\nL 118.723125 124.295963 \r\n\" style=\"fill:none;stroke:#3d3d3d;stroke-linecap:square;stroke-width:1.5;\"/>\r\n   </g>\r\n   <g id=\"line2d_14\"/>\r\n   <g id=\"line2d_15\">\r\n    <path clip-path=\"url(#pe2480c0399)\" d=\"M 208.003125 69.014607 \r\nL 208.003125 90.792111 \r\n\" style=\"fill:none;stroke:#3d3d3d;stroke-linecap:square;stroke-width:1.5;\"/>\r\n   </g>\r\n   <g id=\"line2d_16\">\r\n    <path clip-path=\"url(#pe2480c0399)\" d=\"M 208.003125 45.561911 \r\nL 208.003125 17.083636 \r\n\" style=\"fill:none;stroke:#3d3d3d;stroke-linecap:square;stroke-width:1.5;\"/>\r\n   </g>\r\n   <g id=\"line2d_17\">\r\n    <path clip-path=\"url(#pe2480c0399)\" d=\"M 185.683125 90.792111 \r\nL 230.323125 90.792111 \r\n\" style=\"fill:none;stroke:#3d3d3d;stroke-linecap:square;stroke-width:1.5;\"/>\r\n   </g>\r\n   <g id=\"line2d_18\">\r\n    <path clip-path=\"url(#pe2480c0399)\" d=\"M 185.683125 17.083636 \r\nL 230.323125 17.083636 \r\n\" style=\"fill:none;stroke:#3d3d3d;stroke-linecap:square;stroke-width:1.5;\"/>\r\n   </g>\r\n   <g id=\"line2d_19\"/>\r\n   <g id=\"line2d_20\">\r\n    <path clip-path=\"url(#pe2480c0399)\" d=\"M 319.603125 164.500586 \r\nL 319.603125 181.252512 \r\n\" style=\"fill:none;stroke:#3d3d3d;stroke-linecap:square;stroke-width:1.5;\"/>\r\n   </g>\r\n   <g id=\"line2d_21\">\r\n    <path clip-path=\"url(#pe2480c0399)\" d=\"M 319.603125 97.492881 \r\nL 319.603125 63.989029 \r\n\" style=\"fill:none;stroke:#3d3d3d;stroke-linecap:square;stroke-width:1.5;\"/>\r\n   </g>\r\n   <g id=\"line2d_22\">\r\n    <path clip-path=\"url(#pe2480c0399)\" d=\"M 297.283125 181.252512 \r\nL 341.923125 181.252512 \r\n\" style=\"fill:none;stroke:#3d3d3d;stroke-linecap:square;stroke-width:1.5;\"/>\r\n   </g>\r\n   <g id=\"line2d_23\">\r\n    <path clip-path=\"url(#pe2480c0399)\" d=\"M 297.283125 63.989029 \r\nL 341.923125 63.989029 \r\n\" style=\"fill:none;stroke:#3d3d3d;stroke-linecap:square;stroke-width:1.5;\"/>\r\n   </g>\r\n   <g id=\"line2d_24\"/>\r\n   <g id=\"line2d_25\">\r\n    <path clip-path=\"url(#pe2480c0399)\" d=\"M 51.763125 187.953282 \r\nL 141.043125 187.953282 \r\n\" style=\"fill:none;stroke:#3d3d3d;stroke-linecap:square;stroke-width:1.5;\"/>\r\n   </g>\r\n   <g id=\"line2d_26\">\r\n    <path clip-path=\"url(#pe2480c0399)\" d=\"M 51.763125 180.063665 \r\nL 141.043125 180.063665 \r\n\" style=\"fill:none;stroke:#2ca02c;stroke-dasharray:3.7,1.6;stroke-dashoffset:0;\"/>\r\n   </g>\r\n   <g id=\"line2d_27\">\r\n    <path clip-path=\"url(#pe2480c0399)\" d=\"M 163.363125 60.638644 \r\nL 252.643125 60.638644 \r\n\" style=\"fill:none;stroke:#3d3d3d;stroke-linecap:square;stroke-width:1.5;\"/>\r\n   </g>\r\n   <g id=\"line2d_28\">\r\n    <path clip-path=\"url(#pe2480c0399)\" d=\"M 163.363125 58.801336 \r\nL 252.643125 58.801336 \r\n\" style=\"fill:none;stroke:#2ca02c;stroke-dasharray:3.7,1.6;stroke-dashoffset:0;\"/>\r\n   </g>\r\n   <g id=\"line2d_29\">\r\n    <path clip-path=\"url(#pe2480c0399)\" d=\"M 274.963125 144.398274 \r\nL 364.243125 144.398274 \r\n\" style=\"fill:none;stroke:#3d3d3d;stroke-linecap:square;stroke-width:1.5;\"/>\r\n   </g>\r\n   <g id=\"line2d_30\">\r\n    <path clip-path=\"url(#pe2480c0399)\" d=\"M 274.963125 130.456349 \r\nL 364.243125 130.456349 \r\n\" style=\"fill:none;stroke:#2ca02c;stroke-dasharray:3.7,1.6;stroke-dashoffset:0;\"/>\r\n   </g>\r\n   <g id=\"patch_6\">\r\n    <path d=\"M 40.603125 224.64 \r\nL 40.603125 7.2 \r\n\" style=\"fill:none;stroke:#000000;stroke-linecap:square;stroke-linejoin:miter;stroke-width:0.8;\"/>\r\n   </g>\r\n   <g id=\"patch_7\">\r\n    <path d=\"M 375.403125 224.64 \r\nL 375.403125 7.2 \r\n\" style=\"fill:none;stroke:#000000;stroke-linecap:square;stroke-linejoin:miter;stroke-width:0.8;\"/>\r\n   </g>\r\n   <g id=\"patch_8\">\r\n    <path d=\"M 40.603125 224.64 \r\nL 375.403125 224.64 \r\n\" style=\"fill:none;stroke:#000000;stroke-linecap:square;stroke-linejoin:miter;stroke-width:0.8;\"/>\r\n   </g>\r\n   <g id=\"patch_9\">\r\n    <path d=\"M 40.603125 7.2 \r\nL 375.403125 7.2 \r\n\" style=\"fill:none;stroke:#000000;stroke-linecap:square;stroke-linejoin:miter;stroke-width:0.8;\"/>\r\n   </g>\r\n  </g>\r\n </g>\r\n <defs>\r\n  <clipPath id=\"pe2480c0399\">\r\n   <rect height=\"217.44\" width=\"334.8\" x=\"40.603125\" y=\"7.2\"/>\r\n  </clipPath>\r\n </defs>\r\n</svg>\r\n",
      "image/png": "[encoded data removed]"
     },
     "metadata": {
      "needs_background": "light"
     }
    }
   ],
   "source": [
    "#aqui representa la pregunta Openness about being LGBTI at work, pero tampoco se muy bien explicarlo\n",
    "sns.boxplot(data=openness, x='answer', y='percentage', showmeans=True, meanline=True)"
   ]
  },
  {
   "cell_type": "code",
   "execution_count": 53,
   "metadata": {},
   "outputs": [
    {
     "output_type": "execute_result",
     "data": {
      "text/plain": [
       "CountryCode\n",
       "Austria            23\n",
       "Belgium            19\n",
       "Bulgaria           48\n",
       "Croatia            41\n",
       "Cyprus             38\n",
       "Czechia            27\n",
       "Denmark            18\n",
       "EU-28              26\n",
       "Estonia            31\n",
       "Finland            27\n",
       "France             27\n",
       "Germany            21\n",
       "Greece             43\n",
       "Hungary            36\n",
       "Ireland            23\n",
       "Italy              32\n",
       "Latvia             47\n",
       "Lithuania          51\n",
       "Luxembourg         21\n",
       "Malta              21\n",
       "Netherlands        16\n",
       "North Macedonia    46\n",
       "Poland             36\n",
       "Portugal           27\n",
       "Romania            47\n",
       "Serbia             44\n",
       "Slovakia           41\n",
       "Slovenia           32\n",
       "Spain              20\n",
       "Sweden             18\n",
       "United Kingdom     19\n",
       "Name: (Openness about being LGBTI at work, Hide LGBT identity), dtype: int32"
      ]
     },
     "metadata": {},
     "execution_count": 53
    }
   ],
   "source": [
    "living_work.iloc[0]"
   ]
  },
  {
   "cell_type": "code",
   "execution_count": 119,
   "metadata": {},
   "outputs": [
    {
     "output_type": "execute_result",
     "data": {
      "text/plain": [
       "          CountryCode target_group subset question_code  \\\n",
       "1422          Austria          All    All       DEXg1_D   \n",
       "1423          Austria          All    All       DEXg1_D   \n",
       "1424          Austria          All    All       DEXg1_D   \n",
       "1425          Austria          All    All       DEXg1_D   \n",
       "1426          Belgium          All    All       DEXg1_D   \n",
       "...               ...          ...    ...           ...   \n",
       "4735  North Macedonia          All    All     DEXindg1c   \n",
       "4736  North Macedonia          All    All     DEXindg1c   \n",
       "4737           Serbia          All    All     DEXindg1c   \n",
       "4738           Serbia          All    All     DEXindg1c   \n",
       "4739           Serbia          All    All     DEXindg1c   \n",
       "\n",
       "                                         question_label              answer  \\\n",
       "1422  To how many work colleagues are you open about...                None   \n",
       "1423  To how many work colleagues are you open about...               A few   \n",
       "1424  To how many work colleagues are you open about...                Most   \n",
       "1425  To how many work colleagues are you open about...                 All   \n",
       "1426  To how many work colleagues are you open about...                None   \n",
       "...                                                 ...                 ...   \n",
       "4735                 Openness about being LGBTI at work    Selectively open   \n",
       "4736                 Openness about being LGBTI at work  Hide LGBT identity   \n",
       "4737                 Openness about being LGBTI at work           Very open   \n",
       "4738                 Openness about being LGBTI at work    Selectively open   \n",
       "4739                 Openness about being LGBTI at work  Hide LGBT identity   \n",
       "\n",
       "     percentage notes  \n",
       "1422         33   NaN  \n",
       "1423         25   NaN  \n",
       "1424         17   NaN  \n",
       "1425         25   NaN  \n",
       "1426         27   NaN  \n",
       "...         ...   ...  \n",
       "4735         46   NaN  \n",
       "4736         46   NaN  \n",
       "4737          9   NaN  \n",
       "4738         47   NaN  \n",
       "4739         44   NaN  \n",
       "\n",
       "[465 rows x 8 columns]"
      ],
      "text/html": "<div>\n<style scoped>\n    .dataframe tbody tr th:only-of-type {\n        vertical-align: middle;\n    }\n\n    .dataframe tbody tr th {\n        vertical-align: top;\n    }\n\n    .dataframe thead th {\n        text-align: right;\n    }\n</style>\n<table border=\"1\" class=\"dataframe\">\n  <thead>\n    <tr style=\"text-align: right;\">\n      <th></th>\n      <th>CountryCode</th>\n      <th>target_group</th>\n      <th>subset</th>\n      <th>question_code</th>\n      <th>question_label</th>\n      <th>answer</th>\n      <th>percentage</th>\n      <th>notes</th>\n    </tr>\n  </thead>\n  <tbody>\n    <tr>\n      <th>1422</th>\n      <td>Austria</td>\n      <td>All</td>\n      <td>All</td>\n      <td>DEXg1_D</td>\n      <td>To how many work colleagues are you open about...</td>\n      <td>None</td>\n      <td>33</td>\n      <td>NaN</td>\n    </tr>\n    <tr>\n      <th>1423</th>\n      <td>Austria</td>\n      <td>All</td>\n      <td>All</td>\n      <td>DEXg1_D</td>\n      <td>To how many work colleagues are you open about...</td>\n      <td>A few</td>\n      <td>25</td>\n      <td>NaN</td>\n    </tr>\n    <tr>\n      <th>1424</th>\n      <td>Austria</td>\n      <td>All</td>\n      <td>All</td>\n      <td>DEXg1_D</td>\n      <td>To how many work colleagues are you open about...</td>\n      <td>Most</td>\n      <td>17</td>\n      <td>NaN</td>\n    </tr>\n    <tr>\n      <th>1425</th>\n      <td>Austria</td>\n      <td>All</td>\n      <td>All</td>\n      <td>DEXg1_D</td>\n      <td>To how many work colleagues are you open about...</td>\n      <td>All</td>\n      <td>25</td>\n      <td>NaN</td>\n    </tr>\n    <tr>\n      <th>1426</th>\n      <td>Belgium</td>\n      <td>All</td>\n      <td>All</td>\n      <td>DEXg1_D</td>\n      <td>To how many work colleagues are you open about...</td>\n      <td>None</td>\n      <td>27</td>\n      <td>NaN</td>\n    </tr>\n    <tr>\n      <th>...</th>\n      <td>...</td>\n      <td>...</td>\n      <td>...</td>\n      <td>...</td>\n      <td>...</td>\n      <td>...</td>\n      <td>...</td>\n      <td>...</td>\n    </tr>\n    <tr>\n      <th>4735</th>\n      <td>North Macedonia</td>\n      <td>All</td>\n      <td>All</td>\n      <td>DEXindg1c</td>\n      <td>Openness about being LGBTI at work</td>\n      <td>Selectively open</td>\n      <td>46</td>\n      <td>NaN</td>\n    </tr>\n    <tr>\n      <th>4736</th>\n      <td>North Macedonia</td>\n      <td>All</td>\n      <td>All</td>\n      <td>DEXindg1c</td>\n      <td>Openness about being LGBTI at work</td>\n      <td>Hide LGBT identity</td>\n      <td>46</td>\n      <td>NaN</td>\n    </tr>\n    <tr>\n      <th>4737</th>\n      <td>Serbia</td>\n      <td>All</td>\n      <td>All</td>\n      <td>DEXindg1c</td>\n      <td>Openness about being LGBTI at work</td>\n      <td>Very open</td>\n      <td>9</td>\n      <td>NaN</td>\n    </tr>\n    <tr>\n      <th>4738</th>\n      <td>Serbia</td>\n      <td>All</td>\n      <td>All</td>\n      <td>DEXindg1c</td>\n      <td>Openness about being LGBTI at work</td>\n      <td>Selectively open</td>\n      <td>47</td>\n      <td>NaN</td>\n    </tr>\n    <tr>\n      <th>4739</th>\n      <td>Serbia</td>\n      <td>All</td>\n      <td>All</td>\n      <td>DEXindg1c</td>\n      <td>Openness about being LGBTI at work</td>\n      <td>Hide LGBT identity</td>\n      <td>44</td>\n      <td>NaN</td>\n    </tr>\n  </tbody>\n</table>\n<p>465 rows × 8 columns</p>\n</div>"
     },
     "metadata": {},
     "execution_count": 119
    }
   ],
   "source": [
    "#preguntas sobre el trabajo\n",
    "work = living_data.loc[(living_data[\"question_label\"].str.contains(\"work\")) | (living_data[\"question_label\"].str.contains(\"job\")) | (living_data[\"question_label\"].str.contains(\"immediate\"))]\n",
    "work"
   ]
  },
  {
   "cell_type": "code",
   "execution_count": 120,
   "metadata": {},
   "outputs": [
    {
     "output_type": "stream",
     "name": "stdout",
     "text": [
      "<class 'pandas.core.frame.DataFrame'>\nInt64Index: 465 entries, 1422 to 4739\nData columns (total 8 columns):\n #   Column          Non-Null Count  Dtype \n---  ------          --------------  ----- \n 0   CountryCode     465 non-null    object\n 1   target_group    465 non-null    object\n 2   subset          465 non-null    object\n 3   question_code   465 non-null    object\n 4   question_label  465 non-null    object\n 5   answer          465 non-null    object\n 6   percentage      465 non-null    int32 \n 7   notes           0 non-null      object\ndtypes: int32(1), object(7)\nmemory usage: 30.9+ KB\n"
     ]
    }
   ],
   "source": [
    "work['percentage'] = work['percentage'].astype(int)\n",
    "work.info()"
   ]
  },
  {
   "cell_type": "code",
   "execution_count": 8,
   "metadata": {},
   "outputs": [
    {
     "output_type": "execute_result",
     "data": {
      "text/plain": [
       "                                                                       percentage\n",
       "question_label                                     answer                        \n",
       "Openness about being LGBTI at work                 Hide LGBT identity   31.161290\n",
       "                                                   Selectively open     52.548387\n",
       "                                                   Very open            16.354839\n",
       "To how many customers, clients, etc. at work ar... A few                13.935484\n",
       "                                                   All                   6.612903\n",
       "                                                   Most                  6.290323\n",
       "                                                   None                 73.096774\n",
       "To how many immediate superiors/heads of depart... A few                 9.903226\n",
       "                                                   All                  19.741935\n",
       "                                                   Most                  6.838710\n",
       "                                                   None                 63.612903\n",
       "To how many work colleagues are you open about ... A few                26.290323\n",
       "                                                   All                  17.580645\n",
       "                                                   Most                 13.483871\n",
       "                                                   None                 42.677419"
      ],
      "text/html": "<div>\n<style scoped>\n    .dataframe tbody tr th:only-of-type {\n        vertical-align: middle;\n    }\n\n    .dataframe tbody tr th {\n        vertical-align: top;\n    }\n\n    .dataframe thead th {\n        text-align: right;\n    }\n</style>\n<table border=\"1\" class=\"dataframe\">\n  <thead>\n    <tr style=\"text-align: right;\">\n      <th></th>\n      <th></th>\n      <th>percentage</th>\n    </tr>\n    <tr>\n      <th>question_label</th>\n      <th>answer</th>\n      <th></th>\n    </tr>\n  </thead>\n  <tbody>\n    <tr>\n      <th rowspan=\"3\" valign=\"top\">Openness about being LGBTI at work</th>\n      <th>Hide LGBT identity</th>\n      <td>31.161290</td>\n    </tr>\n    <tr>\n      <th>Selectively open</th>\n      <td>52.548387</td>\n    </tr>\n    <tr>\n      <th>Very open</th>\n      <td>16.354839</td>\n    </tr>\n    <tr>\n      <th rowspan=\"4\" valign=\"top\">To how many customers, clients, etc. at work are you open about being LGBTI</th>\n      <th>A few</th>\n      <td>13.935484</td>\n    </tr>\n    <tr>\n      <th>All</th>\n      <td>6.612903</td>\n    </tr>\n    <tr>\n      <th>Most</th>\n      <td>6.290323</td>\n    </tr>\n    <tr>\n      <th>None</th>\n      <td>73.096774</td>\n    </tr>\n    <tr>\n      <th rowspan=\"4\" valign=\"top\">To how many immediate superiors/heads of department are you open about being LGBTI</th>\n      <th>A few</th>\n      <td>9.903226</td>\n    </tr>\n    <tr>\n      <th>All</th>\n      <td>19.741935</td>\n    </tr>\n    <tr>\n      <th>Most</th>\n      <td>6.838710</td>\n    </tr>\n    <tr>\n      <th>None</th>\n      <td>63.612903</td>\n    </tr>\n    <tr>\n      <th rowspan=\"4\" valign=\"top\">To how many work colleagues are you open about being LGBTI</th>\n      <th>A few</th>\n      <td>26.290323</td>\n    </tr>\n    <tr>\n      <th>All</th>\n      <td>17.580645</td>\n    </tr>\n    <tr>\n      <th>Most</th>\n      <td>13.483871</td>\n    </tr>\n    <tr>\n      <th>None</th>\n      <td>42.677419</td>\n    </tr>\n  </tbody>\n</table>\n</div>"
     },
     "metadata": {},
     "execution_count": 8
    }
   ],
   "source": [
    "table_total = work.pivot_table(\"percentage\", index= [\"question_label\",\"answer\"])\n",
    "table_total"
   ]
  },
  {
   "cell_type": "code",
   "execution_count": 128,
   "metadata": {},
   "outputs": [
    {
     "output_type": "execute_result",
     "data": {
      "text/plain": [
       "           42   \n",
       "To how many work colleagues are you open about ... A few                    18   \n",
       "                                                   All                      37   \n",
       "                                                   Most                     17   \n",
       "                                                   None                     28   \n",
       "\n",
       "CountryCode                                                            EU-28  \\\n",
       "question_label                                     answer                      \n",
       "Openness about being LGBTI at work                 Hide LGBT identity     26   \n",
       "                                                   Selectively open       53   \n",
       "                                                   Very open              21   \n",
       "To how many customers, clients, etc. at work ar... A few                  16   \n",
       "                                                   All                     8   \n",
       "                                                   Most                    7   \n",
       "                                                   None                   69   \n",
       "To how many immediate superiors/heads of depart... A few                  11   \n",
       "                                                   All                    24   \n",
       "                                                   Most                    8   \n",
       "                                                   None                   57   \n",
       "To how many work colleagues are you open about ... A few                  26   \n",
       "                                                   All                    21   \n",
       "                                                   Most                   16   \n",
       "                                                   None                   37   \n",
       "\n",
       "CountryCode                                                            Estonia  \\\n",
       "question_label                                     answer                        \n",
       "Openness about being LGBTI at work                 Hide LGBT identity       31   \n",
       "                                                   Selectively open         60   \n",
       "                                                   Very open                10   \n",
       "To how many customers, clients, etc. at work ar... A few                    11   \n",
       "                                                   All                       3   \n",
       "                                                   Most                      4   \n",
       "                                                   None                     81   \n",
       "To how many immediate superiors/heads of depart... A few                     7   \n",
       "                                                   All                      15   \n",
       "                                                   Most                      6   \n",
       "                                                   None                     71   \n",
       "To how many work colleagues are you open about ... A few                    28   \n",
       "                                                   All                      10   \n",
       "                                                   Most                     12   \n",
       "                                                   None                     50   \n",
       "\n",
       "CountryCode                                                            Finland  \\\n",
       "question_label                                     answer                        \n",
       "Openness about being LGBTI at work                 Hide LGBT identity       27   \n",
       "                                                   Selectively open         65   \n",
       "                                                   Very open                 8   \n",
       "To how many customers, clients, etc. at work ar... A few                    16   \n",
       "                                                   All                       6   \n",
       "                                                   Most                      7   \n",
       "                                                   None                     71   \n",
       "To how many immediate superiors/heads of depart... A few                    10   \n",
       "                                                   All                      25   \n",
       "                                                   Most                      6   \n",
       "                                                   None                     59   \n",
       "To how many work colleagues are you open about ... A few                    29   \n",
       "                                                   All                      18   \n",
       "                                                   Most                     17   \n",
       "                                                   None                     36   \n",
       "\n",
       "CountryCode                                                            ...  \\\n",
       "question_label                                     answer              ...   \n",
       "Openness about being LGBTI at work                 Hide LGBT identity  ...   \n",
       "                                                   Selectively open    ...   \n",
       "                                                   Very open           ...   \n",
       "To how many customers, clients, etc. at work ar... A few               ...   \n",
       "                                                   All                 ...   \n",
       "                                                   Most                ...   \n",
       "                                                   None                ...   \n",
       "To how many immediate superiors/heads of depart... A few               ...   \n",
       "                                                   All                 ...   \n",
       "                                                   Most                ...   \n",
       "                                                   None                ...   \n",
       "To how many work colleagues are you open about ... A few               ...   \n",
       "                                                   All                 ...   \n",
       "                                                   Most                ...   \n",
       "                                                   None                ...   \n",
       "\n",
       "CountryCode                                                            North Macedonia  \\\n",
       "question_label                                     answer                                \n",
       "Openness about being LGBTI at work                 Hide LGBT identity               46   \n",
       "                                                   Selectively open                 46   \n",
       "                                                   Very open                         7   \n",
       "To how many customers, clients, etc. at work ar... A few                            10   \n",
       "                                                   All                               3   \n",
       "                                                   Most                              2   \n",
       "                                                   None                             85   \n",
       "To how many immediate superiors/heads of depart... A few                             8   \n",
       "                                                   All                               5   \n",
       "                                                   Most                              4   \n",
       "                                                   None                             83   \n",
       "To how many work colleagues are you open about ... A few                            26   \n",
       "                                                   All                               7   \n",
       "                                                   Most                              5   \n",
       "                                                   None                             61   \n",
       "\n",
       "CountryCode                                                            Poland  \\\n",
       "question_label                                     answer                       \n",
       "Openness about being LGBTI at work                 Hide LGBT identity      36   \n",
       "                                                   Selectively open        54   \n",
       "                                                   Very open               10   \n",
       "To how many customers, clients, etc. at work ar... A few                    9   \n",
       "                                                   All                      2   \n",
       "                                                   Most                     4   \n",
       "                                                   None                    85   \n",
       "To how many immediate superiors/heads of depart... A few                    9   \n",
       "                                                   All                     11   \n",
       "                                                   Most                     5   \n",
       "                                                   None                    75   \n",
       "To how many work colleagues are you open about ... A few                   30   \n",
       "                                                   All                      9   \n",
       "                                                   Most                    13   \n",
       "                                                   None                    48   \n",
       "\n",
       "CountryCode                                                            Portugal  \\\n",
       "question_label                                     answer                         \n",
       "Openness about being LGBTI at work                 Hide LGBT identity        27   \n",
       "                                                   Selectively open          59   \n",
       "                                                   Very open                 14   \n",
       "To how many customers, clients, etc. at work ar... A few                     15   \n",
       "                                                   All                        3   \n",
       "                                                   Most                       5   \n",
       "                                                   None                      76   \n",
       "To how many immediate superiors/heads of depart... A few                     13   \n",
       "                                                   All                       11   \n",
       "                                                   Most                       9   \n",
       "                                                   None                      67   \n",
       "To how many work colleagues are you open about ... A few                     33   \n",
       "                                                   All                       11   \n",
       "                                                   Most                      15   \n",
       "                                                   None                      40   \n",
       "\n",
       "CountryCode                                                            Romania  \\\n",
       "question_label                                     answer                        \n",
       "Openness about being LGBTI at work                 Hide LGBT identity       47   \n",
       "                                                   Selectively open         44   \n",
       "                                                   Very open                 8   \n",
       "To how many customers, clients, etc. at work ar... A few                     7   \n",
       "                                                   All                       4   \n",
       "                                                   Most                      3   \n",
       "                                                   None                     85   \n",
       "To how many immediate superiors/heads of depart... A few                     9   \n",
       "                                                   All                      10   \n",
       "                                                   Most                      3   \n",
       "                                                   None                     79   \n",
       "To how many work colleagues are you open about ... A few                    25   \n",
       "                                                   All                       8   \n",
       "                                                   Most                      8   \n",
       "                                                   None                     59   \n",
       "\n",
       "CountryCode                                                            Serbia  \\\n",
       "question_label                                     answer                       \n",
       "Openness about being LGBTI at work                 Hide LGBT identity      44   \n",
       "                                                   Selectively open        47   \n",
       "                                                   Very open                9   \n",
       "To how many customers, clients, etc. at work ar... A few                   11   \n",
       "                                                   All                      2   \n",
       "                                                   Most                     4   \n",
       "                                                   None                    83   \n",
       "To how many immediate superiors/heads of depart... A few                    8   \n",
       "                                                   All                      7   \n",
       "                                                   Most                     4   \n",
       "                                                   None                    82   \n",
       "To how many work colleagues are you open about ... A few                   26   \n",
       "                                                   All                      7   \n",
       "                                                   Most                     8   \n",
       "                                                   None                    60   \n",
       "\n",
       "CountryCode                                                            Slovakia  \\\n",
       "question_label                                     answer                         \n",
       "Openness about being LGBTI at work                 Hide LGBT identity        41   \n",
       "                                                   Selectively open          51   \n",
       "                                                   Very open                  8   \n",
       "To how many customers, clients, etc. at work ar... A few                     13   \n",
       "                                                   All                        2   \n",
       "                                                   Most                       3   \n",
       "                                                   None                      82   \n",
       "To how many immediate superiors/heads of depart... A few                     10   \n",
       "                                                   All                       10   \n",
       "                                                   Most                       6   \n",
       "                                                   None                      74   \n",
       "To how many work colleagues are you open about ... A few                     26   \n",
       "                                                   All                       10   \n",
       "                                                   Most                      10   \n",
       "                                                   None                      54   \n",
       "\n",
       "CountryCode                                                            Slovenia  \\\n",
       "question_label                                     answer                         \n",
       "Openness about being LGBTI at work                 Hide LGBT identity        32   \n",
       "                                                   Selectively open          56   \n",
       "                                                   Very open                 12   \n",
       "To how many customers, clients, etc. at work ar... A few                     15   \n",
       "                                                   All                        3   \n",
       "                                                   Most                       4   \n",
       "                                                   None                      78   \n",
       "To how many immediate superiors/heads of depart... A few                      6   \n",
       "                                                   All                       16   \n",
       "                                                   Most                       8   \n",
       "                                                   None                      70   \n",
       "To how many work colleagues are you open about ... A few                     26   \n",
       "                                                   All                       12   \n",
       "                                                   Most                      15   \n",
       "                                                   None                      47   \n",
       "\n",
       "CountryCode                                                            Spain  \\\n",
       "question_label                                     answer                      \n",
       "Openness about being LGBTI at work                 Hide LGBT identity     20   \n",
       "                                                   Selectively open       48   \n",
       "                                                   Very open              32   \n",
       "To how many customers, clients, etc. at work ar... A few                  21   \n",
       "                                                   All                    11   \n",
       "                                                   Most                    8   \n",
       "                                                   None                   60   \n",
       "To how many immediate superiors/heads of depart... A few                  14   \n",
       "                                                   All                    26   \n",
       "                                                   Most                    8   \n",
       "                                                   None                   51   \n",
       "To how many work colleagues are you open about ... A few                  29   \n",
       "                                                   All                    25   \n",
       "                                                   Most                   16   \n",
       "                                                   None                   30   \n",
       "\n",
       "CountryCode                                                            Sweden  \\\n",
       "question_label                                     answer                       \n",
       "Openness about being LGBTI at work                 Hide LGBT identity      18   \n",
       "                                                   Selectively open        59   \n",
       "                                                   Very open               23   \n",
       "To how many customers, clients, etc. at work ar... A few                   16   \n",
       "                                                   All                     12   \n",
       "                                                   Most                    12   \n",
       "                                                   None                    60   \n",
       "To how many immediate superiors/heads of depart... A few                    8   \n",
       "                                                   All                     38   \n",
       "                                                   Most                     9   \n",
       "                                                   None                    46   \n",
       "To how many work colleagues are you open about ... A few                   22   \n",
       "                                                   All                     30   \n",
       "                                                   Most                    20   \n",
       "                                                   None                    28   \n",
       "\n",
       "CountryCode                                                            United Kingdom  \n",
       "question_label                                     answer                              \n",
       "Openness about being LGBTI at work                 Hide LGBT identity              19  \n",
       "                                                   Selectively open                52  \n",
       "                                                   Very open                       29  \n",
       "To how many customers, clients, etc. at work ar... A few                           17  \n",
       "                                                   All                             14  \n",
       "                                                   Most                             9  \n",
       "                                                   None                            60  \n",
       "To how many immediate superiors/heads of depart... A few                           11  \n",
       "                                                   All                             36  \n",
       "                                                   Most                             8  \n",
       "                                                   None                            46  \n",
       "To how many work colleagues are you open about ... A few                           23  \n",
       "                                                   All                             30  \n",
       "                                                   Most                            17  \n",
       "                                                   None                            30  \n",
       "\n",
       "[15 rows x 31 columns]"
      ],
      "text/html": "<div>\n<style scoped>\n    .dataframe tbody tr th:only-of-type {\n        vertical-align: middle;\n    }\n\n    .dataframe tbody tr th {\n        vertical-align: top;\n    }\n\n    .dataframe thead th {\n        text-align: right;\n    }\n</style>\n<table border=\"1\" class=\"dataframe\">\n  <thead>\n    <tr style=\"text-align: right;\">\n      <th></th>\n      <th>CountryCode</th>\n      <th>Austria</th>\n      <th>Belgium</th>\n      <th>Bulgaria</th>\n      <th>Croatia</th>\n      <th>Cyprus</th>\n      <th>Czechia</th>\n      <th>Denmark</th>\n      <th>EU-28</th>\n      <th>Estonia</th>\n      <th>Finland</th>\n      <th>...</th>\n      <th>North Macedonia</th>\n      <th>Poland</th>\n      <th>Portugal</th>\n      <th>Romania</th>\n      <th>Serbia</th>\n      <th>Slovakia</th>\n      <th>Slovenia</th>\n      <th>Spain</th>\n      <th>Sweden</th>\n      <th>United Kingdom</th>\n    </tr>\n    <tr>\n      <th>question_label</th>\n      <th>answer</th>\n      <th></th>\n      <th></th>\n      <th></th>\n      <th></th>\n      <th></th>\n      <th></th>\n      <th></th>\n      <th></th>\n      <th></th>\n      <th></th>\n      <th></th>\n      <th></th>\n      <th></th>\n      <th></th>\n      <th></th>\n      <th></th>\n      <th></th>\n      <th></th>\n      <th></th>\n      <th></th>\n      <th></th>\n    </tr>\n  </thead>\n  <tbody>\n    <tr>\n      <th rowspan=\"3\" valign=\"top\">Openness about being LGBTI at work</th>\n      <th>Hide LGBT identity</th>\n      <td>23</td>\n      <td>19</td>\n      <td>48</td>\n      <td>41</td>\n      <td>38</td>\n      <td>27</td>\n      <td>18</td>\n      <td>26</td>\n      <td>31</td>\n      <td>27</td>\n      <td>...</td>\n      <td>46</td>\n      <td>36</td>\n      <td>27</td>\n      <td>47</td>\n      <td>44</td>\n      <td>41</td>\n      <td>32</td>\n      <td>20</td>\n      <td>18</td>\n      <td>19</td>\n    </tr>\n    <tr>\n      <th>Selectively open</th>\n      <td>58</td>\n      <td>52</td>\n      <td>43</td>\n      <td>50</td>\n      <td>53</td>\n      <td>57</td>\n      <td>50</td>\n      <td>53</td>\n      <td>60</td>\n      <td>65</td>\n      <td>...</td>\n      <td>46</td>\n      <td>54</td>\n      <td>59</td>\n      <td>44</td>\n      <td>47</td>\n      <td>51</td>\n      <td>56</td>\n      <td>48</td>\n      <td>59</td>\n      <td>52</td>\n    </tr>\n    <tr>\n      <th>Very open</th>\n      <td>20</td>\n      <td>28</td>\n      <td>9</td>\n      <td>9</td>\n      <td>9</td>\n      <td>16</td>\n      <td>33</td>\n      <td>21</td>\n      <td>10</td>\n      <td>8</td>\n      <td>...</td>\n      <td>7</td>\n      <td>10</td>\n      <td>14</td>\n      <td>8</td>\n      <td>9</td>\n      <td>8</td>\n      <td>12</td>\n      <td>32</td>\n      <td>23</td>\n      <td>29</td>\n    </tr>\n    <tr>\n      <th rowspan=\"4\" valign=\"top\">To how many customers, clients, etc. at work are you open about being LGBTI</th>\n      <th>A few</th>\n      <td>16</td>\n      <td>18</td>\n      <td>10</td>\n      <td>10</td>\n      <td>13</td>\n      <td>15</td>\n      <td>16</td>\n      <td>16</td>\n      <td>11</td>\n      <td>16</td>\n      <td>...</td>\n      <td>10</td>\n      <td>9</td>\n      <td>15</td>\n      <td>7</td>\n      <td>11</td>\n      <td>13</td>\n      <td>15</td>\n      <td>21</td>\n      <td>16</td>\n      <td>17</td>\n    </tr>\n    <tr>\n      <th>All</th>\n      <td>9</td>\n      <td>12</td>\n      <td>2</td>\n      <td>4</td>\n      <td>4</td>\n      <td>5</td>\n      <td>16</td>\n      <td>8</td>\n      <td>3</td>\n      <td>6</td>\n      <td>...</td>\n      <td>3</td>\n      <td>2</td>\n      <td>3</td>\n      <td>4</td>\n      <td>2</td>\n      <td>2</td>\n      <td>3</td>\n      <td>11</td>\n      <td>12</td>\n      <td>14</td>\n    </tr>\n    <tr>\n      <th>Most</th>\n      <td>9</td>\n      <td>10</td>\n      <td>4</td>\n      <td>4</td>\n      <td>3</td>\n      <td>7</td>\n      <td>12</td>\n      <td>7</td>\n      <td>4</td>\n      <td>7</td>\n      <td>...</td>\n      <td>2</td>\n      <td>4</td>\n      <td>5</td>\n      <td>3</td>\n      <td>4</td>\n      <td>3</td>\n      <td>4</td>\n      <td>8</td>\n      <td>12</td>\n      <td>9</td>\n    </tr>\n    <tr>\n      <th>None</th>\n      <td>66</td>\n      <td>61</td>\n      <td>84</td>\n      <td>82</td>\n      <td>80</td>\n      <td>73</td>\n      <td>56</td>\n      <td>69</td>\n      <td>81</td>\n      <td>71</td>\n      <td>...</td>\n      <td>85</td>\n      <td>85</td>\n      <td>76</td>\n      <td>85</td>\n      <td>83</td>\n      <td>82</td>\n      <td>78</td>\n      <td>60</td>\n      <td>60</td>\n      <td>60</td>\n    </tr>\n    <tr>\n      <th rowspan=\"4\" valign=\"top\">To how many immediate superiors/heads of department are you open about being LGBTI</th>\n      <th>A few</th>\n      <td>11</td>\n      <td>12</td>\n      <td>9</td>\n      <td>8</td>\n      <td>10</td>\n      <td>11</td>\n      <td>7</td>\n      <td>11</td>\n      <td>7</td>\n      <td>10</td>\n      <td>...</td>\n      <td>8</td>\n      <td>9</td>\n      <td>13</td>\n      <td>9</td>\n      <td>8</td>\n      <td>10</td>\n      <td>6</td>\n      <td>14</td>\n      <td>8</td>\n      <td>11</td>\n    </tr>\n    <tr>\n      <th>All</th>\n      <td>29</td>\n      <td>33</td>\n      <td>9</td>\n      <td>9</td>\n      <td>10</td>\n      <td>21</td>\n      <td>41</td>\n      <td>24</td>\n      <td>15</td>\n      <td>25</td>\n      <td>...</td>\n      <td>5</td>\n      <td>11</td>\n      <td>11</td>\n      <td>10</td>\n      <td>7</td>\n      <td>10</td>\n      <td>16</td>\n      <td>26</td>\n      <td>38</td>\n      <td>36</td>\n    </tr>\n    <tr>\n      <th>Most</th>\n      <td>9</td>\n      <td>11</td>\n      <td>3</td>\n      <td>4</td>\n      <td>3</td>\n      <td>8</td>\n      <td>9</td>\n      <td>8</td>\n      <td>6</td>\n      <td>6</td>\n      <td>...</td>\n      <td>4</td>\n      <td>5</td>\n      <td>9</td>\n      <td>3</td>\n      <td>4</td>\n      <td>6</td>\n      <td>8</td>\n      <td>8</td>\n      <td>9</td>\n      <td>8</td>\n    </tr>\n    <tr>\n      <th>None</th>\n      <td>50</td>\n      <td>44</td>\n      <td>79</td>\n      <td>79</td>\n      <td>78</td>\n      <td>60</td>\n      <td>42</td>\n      <td>57</td>\n      <td>71</td>\n      <td>59</td>\n      <td>...</td>\n      <td>83</td>\n      <td>75</td>\n      <td>67</td>\n      <td>79</td>\n      <td>82</td>\n      <td>74</td>\n      <td>70</td>\n      <td>51</td>\n      <td>46</td>\n      <td>46</td>\n    </tr>\n    <tr>\n      <th rowspan=\"4\" valign=\"top\">To how many work colleagues are you open about being LGBTI</th>\n      <th>A few</th>\n      <td>25</td>\n      <td>23</td>\n      <td>24</td>\n      <td>25</td>\n      <td>31</td>\n      <td>26</td>\n      <td>18</td>\n      <td>26</td>\n      <td>28</td>\n      <td>29</td>\n      <td>...</td>\n      <td>26</td>\n      <td>30</td>\n      <td>33</td>\n      <td>25</td>\n      <td>26</td>\n      <td>26</td>\n      <td>26</td>\n      <td>29</td>\n      <td>22</td>\n      <td>23</td>\n    </tr>\n    <tr>\n      <th>All</th>\n      <td>25</td>\n      <td>31</td>\n      <td>9</td>\n      <td>11</td>\n      <td>9</td>\n      <td>18</td>\n      <td>37</td>\n      <td>21</td>\n      <td>10</td>\n      <td>18</td>\n      <td>...</td>\n      <td>7</td>\n      <td>9</td>\n      <td>11</td>\n      <td>8</td>\n      <td>7</td>\n      <td>10</td>\n      <td>12</td>\n      <td>25</td>\n      <td>30</td>\n      <td>30</td>\n    </tr>\n    <tr>\n      <th>Most</th>\n      <td>17</td>\n      <td>19</td>\n      <td>8</td>\n      <td>7</td>\n      <td>8</td>\n      <td>15</td>\n      <td>17</td>\n      <td>16</td>\n      <td>12</td>\n      <td>17</td>\n      <td>...</td>\n      <td>5</td>\n      <td>13</td>\n      <td>15</td>\n      <td>8</td>\n      <td>8</td>\n      <td>10</td>\n      <td>15</td>\n      <td>16</td>\n      <td>20</td>\n      <td>17</td>\n    </tr>\n    <tr>\n      <th>None</th>\n      <td>33</td>\n      <td>27</td>\n      <td>59</td>\n      <td>56</td>\n      <td>52</td>\n      <td>41</td>\n      <td>28</td>\n      <td>37</td>\n      <td>50</td>\n      <td>36</td>\n      <td>...</td>\n      <td>61</td>\n      <td>48</td>\n      <td>40</td>\n      <td>59</td>\n      <td>60</td>\n      <td>54</td>\n      <td>47</td>\n      <td>30</td>\n      <td>28</td>\n      <td>30</td>\n    </tr>\n  </tbody>\n</table>\n<p>15 rows × 31 columns</p>\n</div>"
     },
     "metadata": {},
     "execution_count": 128
    }
   ],
   "source": [
    "#Prueba\n",
    "work_paises = work.groupby([\"question_label\",\"answer\", \"CountryCode\"])[\"percentage\"].mean().unstack()\n",
    "work_paises"
   ]
  },
  {
   "cell_type": "code",
   "execution_count": 48,
   "metadata": {},
   "outputs": [
    {
     "output_type": "execute_result",
     "data": {
      "text/plain": [
       "answer           Hide LGBT identity  Selectively open  Very open\n",
       "CountryCode                                                     \n",
       "Lithuania                        51                43          7\n",
       "Bulgaria                         48                43          9\n",
       "Latvia                           47                48          6\n",
       "Romania                          47                44          8\n",
       "North Macedonia                  46                46          7\n",
       "Serbia                           44                47          9\n",
       "Greece                           43                49          8\n",
       "Croatia                          41                50          9\n",
       "Slovakia                         41                51          8\n",
       "Cyprus                           38                53          9\n",
       "Poland                           36                54         10\n",
       "Hungary                          36                52         12\n",
       "Italy                            32                53         15\n",
       "Slovenia                         32                56         12\n",
       "Estonia                          31                60         10\n",
       "Finland                          27                65          8\n",
       "Czechia                          27                57         16\n",
       "Portugal                         27                59         14\n",
       "France                           27                50         23\n",
       "EU-28                            26                53         21\n",
       "Austria                          23                58         20\n",
       "Ireland                          23                55         22\n",
       "Malta                            21                51         27\n",
       "Luxembourg                       21                57         23\n",
       "Germany                          21                58         21\n",
       "Spain                            20                48         32\n",
       "Belgium                          19                52         28\n",
       "United Kingdom                   19                52         29\n",
       "Denmark                          18                50         33\n",
       "Sweden                           18                59         23\n",
       "Netherlands                      16                56         28"
      ],
      "text/html": "<div>\n<style scoped>\n    .dataframe tbody tr th:only-of-type {\n        vertical-align: middle;\n    }\n\n    .dataframe tbody tr th {\n        vertical-align: top;\n    }\n\n    .dataframe thead th {\n        text-align: right;\n    }\n</style>\n<table border=\"1\" class=\"dataframe\">\n  <thead>\n    <tr style=\"text-align: right;\">\n      <th>answer</th>\n      <th>Hide LGBT identity</th>\n      <th>Selectively open</th>\n      <th>Very open</th>\n    </tr>\n    <tr>\n      <th>CountryCode</th>\n      <th></th>\n      <th></th>\n      <th></th>\n    </tr>\n  </thead>\n  <tbody>\n    <tr>\n      <th>Lithuania</th>\n      <td>51</td>\n      <td>43</td>\n      <td>7</td>\n    </tr>\n    <tr>\n      <th>Bulgaria</th>\n      <td>48</td>\n      <td>43</td>\n      <td>9</td>\n    </tr>\n    <tr>\n      <th>Latvia</th>\n      <td>47</td>\n      <td>48</td>\n      <td>6</td>\n    </tr>\n    <tr>\n      <th>Romania</th>\n      <td>47</td>\n      <td>44</td>\n      <td>8</td>\n    </tr>\n    <tr>\n      <th>North Macedonia</th>\n      <td>46</td>\n      <td>46</td>\n      <td>7</td>\n    </tr>\n    <tr>\n      <th>Serbia</th>\n      <td>44</td>\n      <td>47</td>\n      <td>9</td>\n    </tr>\n    <tr>\n      <th>Greece</th>\n      <td>43</td>\n      <td>49</td>\n      <td>8</td>\n    </tr>\n    <tr>\n      <th>Croatia</th>\n      <td>41</td>\n      <td>50</td>\n      <td>9</td>\n    </tr>\n    <tr>\n      <th>Slovakia</th>\n      <td>41</td>\n      <td>51</td>\n      <td>8</td>\n    </tr>\n    <tr>\n      <th>Cyprus</th>\n      <td>38</td>\n      <td>53</td>\n      <td>9</td>\n    </tr>\n    <tr>\n      <th>Poland</th>\n      <td>36</td>\n      <td>54</td>\n      <td>10</td>\n    </tr>\n    <tr>\n      <th>Hungary</th>\n      <td>36</td>\n      <td>52</td>\n      <td>12</td>\n    </tr>\n    <tr>\n      <th>Italy</th>\n      <td>32</td>\n      <td>53</td>\n      <td>15</td>\n    </tr>\n    <tr>\n      <th>Slovenia</th>\n      <td>32</td>\n      <td>56</td>\n      <td>12</td>\n    </tr>\n    <tr>\n      <th>Estonia</th>\n      <td>31</td>\n      <td>60</td>\n      <td>10</td>\n    </tr>\n    <tr>\n      <th>Finland</th>\n      <td>27</td>\n      <td>65</td>\n      <td>8</td>\n    </tr>\n    <tr>\n      <th>Czechia</th>\n      <td>27</td>\n      <td>57</td>\n      <td>16</td>\n    </tr>\n    <tr>\n      <th>Portugal</th>\n      <td>27</td>\n      <td>59</td>\n      <td>14</td>\n    </tr>\n    <tr>\n      <th>France</th>\n      <td>27</td>\n      <td>50</td>\n      <td>23</td>\n    </tr>\n    <tr>\n      <th>EU-28</th>\n      <td>26</td>\n      <td>53</td>\n      <td>21</td>\n    </tr>\n    <tr>\n      <th>Austria</th>\n      <td>23</td>\n      <td>58</td>\n      <td>20</td>\n    </tr>\n    <tr>\n      <th>Ireland</th>\n      <td>23</td>\n      <td>55</td>\n      <td>22</td>\n    </tr>\n    <tr>\n      <th>Malta</th>\n      <td>21</td>\n      <td>51</td>\n      <td>27</td>\n    </tr>\n    <tr>\n      <th>Luxembourg</th>\n      <td>21</td>\n      <td>57</td>\n      <td>23</td>\n    </tr>\n    <tr>\n      <th>Germany</th>\n      <td>21</td>\n      <td>58</td>\n      <td>21</td>\n    </tr>\n    <tr>\n      <th>Spain</th>\n      <td>20</td>\n      <td>48</td>\n      <td>32</td>\n    </tr>\n    <tr>\n      <th>Belgium</th>\n      <td>19</td>\n      <td>52</td>\n      <td>28</td>\n    </tr>\n    <tr>\n      <th>United Kingdom</th>\n      <td>19</td>\n      <td>52</td>\n      <td>29</td>\n    </tr>\n    <tr>\n      <th>Denmark</th>\n      <td>18</td>\n      <td>50</td>\n      <td>33</td>\n    </tr>\n    <tr>\n      <th>Sweden</th>\n      <td>18</td>\n      <td>59</td>\n      <td>23</td>\n    </tr>\n    <tr>\n      <th>Netherlands</th>\n      <td>16</td>\n      <td>56</td>\n      <td>28</td>\n    </tr>\n  </tbody>\n</table>\n</div>"
     },
     "metadata": {},
     "execution_count": 48
    }
   ],
   "source": [
    "#aqui solo me ordena una columna no todas y no se porque \n",
    "table_paises[\"Openness about being LGBTI at work\"].sort_values(by=\"Hide LGBT identity\", ascending=False)"
   ]
  },
  {
   "cell_type": "code",
   "execution_count": null,
   "metadata": {},
   "outputs": [],
   "source": []
  }
 ]
}