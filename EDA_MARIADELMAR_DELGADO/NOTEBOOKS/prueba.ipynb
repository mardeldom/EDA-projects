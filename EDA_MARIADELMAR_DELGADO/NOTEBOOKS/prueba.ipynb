{
 "metadata": {
  "language_info": {
   "codemirror_mode": {
    "name": "ipython",
    "version": 3
   },
   "file_extension": ".py",
   "mimetype": "text/x-python",
   "name": "python",
   "nbconvert_exporter": "python",
   "pygments_lexer": "ipython3",
   "version": "3.9.0-final"
  },
  "orig_nbformat": 2,
  "kernelspec": {
   "name": "python3",
   "display_name": "Python 3.9.0 64-bit",
   "metadata": {
    "interpreter": {
     "hash": "2e3c1e8da6e821b0193601da5a0e541c0efda9704da45b6b820f5f4c317f2def"
    }
   }
  }
 },
 "nbformat": 4,
 "nbformat_minor": 2,
 "cells": [
  {
   "cell_type": "code",
   "execution_count": 10,
   "metadata": {},
   "outputs": [
    {
     "output_type": "execute_result",
     "data": {
      "text/plain": [
       "          CountryCode target_group  ... percentage notes\n",
       "0             Austria          All  ...         47   NaN\n",
       "1             Austria          All  ...         53   NaN\n",
       "2             Belgium          All  ...         69   NaN\n",
       "3             Belgium          All  ...         31   NaN\n",
       "4            Bulgaria          All  ...         62   NaN\n",
       "...               ...          ...  ...        ...   ...\n",
       "1667  North Macedonia          All  ...         28   NaN\n",
       "1668  North Macedonia          All  ...         58   NaN\n",
       "1669           Serbia          All  ...         16   NaN\n",
       "1670           Serbia          All  ...         24   NaN\n",
       "1671           Serbia          All  ...         60   NaN\n",
       "\n",
       "[10348 rows x 8 columns]"
      ],
      "text/html": "<div>\n<style scoped>\n    .dataframe tbody tr th:only-of-type {\n        vertical-align: middle;\n    }\n\n    .dataframe tbody tr th {\n        vertical-align: top;\n    }\n\n    .dataframe thead th {\n        text-align: right;\n    }\n</style>\n<table border=\"1\" class=\"dataframe\">\n  <thead>\n    <tr style=\"text-align: right;\">\n      <th></th>\n      <th>CountryCode</th>\n      <th>target_group</th>\n      <th>subset</th>\n      <th>question_code</th>\n      <th>question_label</th>\n      <th>answer</th>\n      <th>percentage</th>\n      <th>notes</th>\n    </tr>\n  </thead>\n  <tbody>\n    <tr>\n      <th>0</th>\n      <td>Austria</td>\n      <td>All</td>\n      <td>All</td>\n      <td>DEXaware_eqbod</td>\n      <td>Knowledge of at least one equality body in cou...</td>\n      <td>Yes</td>\n      <td>47</td>\n      <td>NaN</td>\n    </tr>\n    <tr>\n      <th>1</th>\n      <td>Austria</td>\n      <td>All</td>\n      <td>All</td>\n      <td>DEXaware_eqbod</td>\n      <td>Knowledge of at least one equality body in cou...</td>\n      <td>No</td>\n      <td>53</td>\n      <td>NaN</td>\n    </tr>\n    <tr>\n      <th>2</th>\n      <td>Belgium</td>\n      <td>All</td>\n      <td>All</td>\n      <td>DEXaware_eqbod</td>\n      <td>Knowledge of at least one equality body in cou...</td>\n      <td>Yes</td>\n      <td>69</td>\n      <td>NaN</td>\n    </tr>\n    <tr>\n      <th>3</th>\n      <td>Belgium</td>\n      <td>All</td>\n      <td>All</td>\n      <td>DEXaware_eqbod</td>\n      <td>Knowledge of at least one equality body in cou...</td>\n      <td>No</td>\n      <td>31</td>\n      <td>NaN</td>\n    </tr>\n    <tr>\n      <th>4</th>\n      <td>Bulgaria</td>\n      <td>All</td>\n      <td>All</td>\n      <td>DEXaware_eqbod</td>\n      <td>Knowledge of at least one equality body in cou...</td>\n      <td>Yes</td>\n      <td>62</td>\n      <td>NaN</td>\n    </tr>\n    <tr>\n      <th>...</th>\n      <td>...</td>\n      <td>...</td>\n      <td>...</td>\n      <td>...</td>\n      <td>...</td>\n      <td>...</td>\n      <td>...</td>\n      <td>...</td>\n    </tr>\n    <tr>\n      <th>1667</th>\n      <td>North Macedonia</td>\n      <td>All</td>\n      <td>All</td>\n      <td>DEXh5</td>\n      <td>What is your current family or partnership sit...</td>\n      <td>Involved in a relationship without living toge...</td>\n      <td>28</td>\n      <td>NaN</td>\n    </tr>\n    <tr>\n      <th>1668</th>\n      <td>North Macedonia</td>\n      <td>All</td>\n      <td>All</td>\n      <td>DEXh5</td>\n      <td>What is your current family or partnership sit...</td>\n      <td>No relationship/partner</td>\n      <td>58</td>\n      <td>NaN</td>\n    </tr>\n    <tr>\n      <th>1669</th>\n      <td>Serbia</td>\n      <td>All</td>\n      <td>All</td>\n      <td>DEXh5</td>\n      <td>What is your current family or partnership sit...</td>\n      <td>Living together with a partner/spouse</td>\n      <td>16</td>\n      <td>NaN</td>\n    </tr>\n    <tr>\n      <th>1670</th>\n      <td>Serbia</td>\n      <td>All</td>\n      <td>All</td>\n      <td>DEXh5</td>\n      <td>What is your current family or partnership sit...</td>\n      <td>Involved in a relationship without living toge...</td>\n      <td>24</td>\n      <td>NaN</td>\n    </tr>\n    <tr>\n      <th>1671</th>\n      <td>Serbia</td>\n      <td>All</td>\n      <td>All</td>\n      <td>DEXh5</td>\n      <td>What is your current family or partnership sit...</td>\n      <td>No relationship/partner</td>\n      <td>60</td>\n      <td>NaN</td>\n    </tr>\n  </tbody>\n</table>\n<p>10348 rows × 8 columns</p>\n</div>"
     },
     "metadata": {},
     "execution_count": 10
    }
   ],
   "source": [
    "from UTILS.mining_data_tb import data \n",
    "data = data.loc[data[\"question_label\"].notna()]\n",
    "data"
   ]
  },
  {
   "cell_type": "code",
   "execution_count": 26,
   "metadata": {},
   "outputs": [
    {
     "output_type": "execute_result",
     "data": {
      "text/plain": [
       "question_label                                                   answer                                             \n",
       "Are you involved in one or more organisations for LGBTI people?  I am a financial supporter                             31\n",
       "                                                                 I am an active member or volunteer                     31\n",
       "                                                                 I am in a regular contact                              31\n",
       "                                                                 I follow their activities                              31\n",
       "                                                                 No, I am not actively involved                         31\n",
       "                                                                                                                        ..\n",
       "Working status                                                   Retired                                                31\n",
       "                                                                 Self-employed                                          31\n",
       "                                                                 Student or pupil                                       31\n",
       "                                                                 Unable to work due to long-standing health problems    31\n",
       "                                                                 Unemployed                                             31\n",
       "Name: percentage, Length: 381, dtype: int64"
      ]
     },
     "metadata": {},
     "execution_count": 26
    }
   ],
   "source": [
    "data.groupby([\"question_label\",\"answer\"])[\"percentage\"].count()"
   ]
  },
  {
   "cell_type": "code",
   "execution_count": 23,
   "metadata": {},
   "outputs": [
    {
     "output_type": "execute_result",
     "data": {
      "text/plain": [
       "Duration of housing difficulties (average in months)                                                                      1030\n",
       "In the last incident when you felt discriminated against, was it for any of the following reasons besides being LGBTI?     372\n",
       "What is your religion, if any?                                                                                             370\n",
       "Where do you avoid being open about yourself as LGBTI for fear of being assaulted, threatened or harassed by others?       341\n",
       "Satisfaction with life                                                                                                     340\n",
       "                                                                                                                          ... \n",
       "In the past 12 months have you ever felt discriminated against due to being LGBTI at a shop?                                62\n",
       "In the past 12 months have you ever felt discriminated against due to being LGBTI when looking for a job?                   62\n",
       "In the past 12 months have you ever felt discriminated against due to being LGBTI when trying to rent or buy housing?       62\n",
       "During your time at school have you ever been ridiculed, teased, insulted or threatened because of you being LGBTI?         62\n",
       "In the past 12 months have you personally felt discriminated against due to being LGBTI in 8 areas of life?                 62\n",
       "Name: question_label, Length: 64, dtype: int64"
      ]
     },
     "metadata": {},
     "execution_count": 23
    }
   ],
   "source": [
    "data.question_label.value_counts()"
   ]
  },
  {
   "cell_type": "code",
   "execution_count": 11,
   "metadata": {},
   "outputs": [
    {
     "output_type": "execute_result",
     "data": {
      "text/plain": [
       "          CountryCode target_group subset  ...              answer percentage notes\n",
       "651           Austria          All    All  ...              Always          2   NaN\n",
       "652           Austria          All    All  ...               Often         17   NaN\n",
       "653           Austria          All    All  ...              Rarely         44   NaN\n",
       "654           Austria          All    All  ...               Never         38   NaN\n",
       "655           Belgium          All    All  ...              Always          1   NaN\n",
       "...               ...          ...    ...  ...                 ...        ...   ...\n",
       "4735  North Macedonia          All    All  ...    Selectively open         46   NaN\n",
       "4736  North Macedonia          All    All  ...  Hide LGBT identity         46   NaN\n",
       "4737           Serbia          All    All  ...           Very open          9   NaN\n",
       "4738           Serbia          All    All  ...    Selectively open         47   NaN\n",
       "4739           Serbia          All    All  ...  Hide LGBT identity         44   NaN\n",
       "\n",
       "[899 rows x 8 columns]"
      ],
      "text/html": "<div>\n<style scoped>\n    .dataframe tbody tr th:only-of-type {\n        vertical-align: middle;\n    }\n\n    .dataframe tbody tr th {\n        vertical-align: top;\n    }\n\n    .dataframe thead th {\n        text-align: right;\n    }\n</style>\n<table border=\"1\" class=\"dataframe\">\n  <thead>\n    <tr style=\"text-align: right;\">\n      <th></th>\n      <th>CountryCode</th>\n      <th>target_group</th>\n      <th>subset</th>\n      <th>question_code</th>\n      <th>question_label</th>\n      <th>answer</th>\n      <th>percentage</th>\n      <th>notes</th>\n    </tr>\n  </thead>\n  <tbody>\n    <tr>\n      <th>651</th>\n      <td>Austria</td>\n      <td>All</td>\n      <td>All</td>\n      <td>DEXc6_1_d</td>\n      <td>In the past 5 years have you experienced a gen...</td>\n      <td>Always</td>\n      <td>2</td>\n      <td>NaN</td>\n    </tr>\n    <tr>\n      <th>652</th>\n      <td>Austria</td>\n      <td>All</td>\n      <td>All</td>\n      <td>DEXc6_1_d</td>\n      <td>In the past 5 years have you experienced a gen...</td>\n      <td>Often</td>\n      <td>17</td>\n      <td>NaN</td>\n    </tr>\n    <tr>\n      <th>653</th>\n      <td>Austria</td>\n      <td>All</td>\n      <td>All</td>\n      <td>DEXc6_1_d</td>\n      <td>In the past 5 years have you experienced a gen...</td>\n      <td>Rarely</td>\n      <td>44</td>\n      <td>NaN</td>\n    </tr>\n    <tr>\n      <th>654</th>\n      <td>Austria</td>\n      <td>All</td>\n      <td>All</td>\n      <td>DEXc6_1_d</td>\n      <td>In the past 5 years have you experienced a gen...</td>\n      <td>Never</td>\n      <td>38</td>\n      <td>NaN</td>\n    </tr>\n    <tr>\n      <th>655</th>\n      <td>Belgium</td>\n      <td>All</td>\n      <td>All</td>\n      <td>DEXc6_1_d</td>\n      <td>In the past 5 years have you experienced a gen...</td>\n      <td>Always</td>\n      <td>1</td>\n      <td>NaN</td>\n    </tr>\n    <tr>\n      <th>...</th>\n      <td>...</td>\n      <td>...</td>\n      <td>...</td>\n      <td>...</td>\n      <td>...</td>\n      <td>...</td>\n      <td>...</td>\n      <td>...</td>\n    </tr>\n    <tr>\n      <th>4735</th>\n      <td>North Macedonia</td>\n      <td>All</td>\n      <td>All</td>\n      <td>DEXindg1c</td>\n      <td>Openness about being LGBTI at work</td>\n      <td>Selectively open</td>\n      <td>46</td>\n      <td>NaN</td>\n    </tr>\n    <tr>\n      <th>4736</th>\n      <td>North Macedonia</td>\n      <td>All</td>\n      <td>All</td>\n      <td>DEXindg1c</td>\n      <td>Openness about being LGBTI at work</td>\n      <td>Hide LGBT identity</td>\n      <td>46</td>\n      <td>NaN</td>\n    </tr>\n    <tr>\n      <th>4737</th>\n      <td>Serbia</td>\n      <td>All</td>\n      <td>All</td>\n      <td>DEXindg1c</td>\n      <td>Openness about being LGBTI at work</td>\n      <td>Very open</td>\n      <td>9</td>\n      <td>NaN</td>\n    </tr>\n    <tr>\n      <th>4738</th>\n      <td>Serbia</td>\n      <td>All</td>\n      <td>All</td>\n      <td>DEXindg1c</td>\n      <td>Openness about being LGBTI at work</td>\n      <td>Selectively open</td>\n      <td>47</td>\n      <td>NaN</td>\n    </tr>\n    <tr>\n      <th>4739</th>\n      <td>Serbia</td>\n      <td>All</td>\n      <td>All</td>\n      <td>DEXindg1c</td>\n      <td>Openness about being LGBTI at work</td>\n      <td>Hide LGBT identity</td>\n      <td>44</td>\n      <td>NaN</td>\n    </tr>\n  </tbody>\n</table>\n<p>899 rows × 8 columns</p>\n</div>"
     },
     "metadata": {},
     "execution_count": 11
    }
   ],
   "source": [
    "filtro= data[data[\"question_label\"].str.contains(\"work\")]\n",
    "filtro"
   ]
  },
  {
   "cell_type": "code",
   "execution_count": 22,
   "metadata": {},
   "outputs": [
    {
     "output_type": "execute_result",
     "data": {
      "text/plain": [
       "To how many customers, clients, etc. at work are you open about being LGBTI                                                                                                              124\n",
       "In the past 5 years has anyone at work supported, defended or protected you and your rights as an LGBTI person at work?                                                                  124\n",
       "To how many work colleagues are you open about being LGBTI                                                                                                                               124\n",
       "In the past 5 years have you heard or seen anyone at work support, protect or promote the rights of LGBTI people at work?                                                                124\n",
       "In the past 5 years have you experienced a general negative attitude at work against people due to them being LGBTI?                                                                     124\n",
       "Openness about being LGBTI at work                                                                                                                                                        93\n",
       "In the past 12 months have you ever felt discriminated against due to being LGBTI when at work?                                                                                           62\n",
       "In the past 12 months have you ever felt discriminated against due to being LGBTI by healthcare or social services personnel (e.g. a receptionist, nurse or doctor, a social worker)?     62\n",
       "In the past 12 months have you ever felt discriminated against due to being LGBTI when at work or when looking for a job (i.e. in employment)?                                            62\n",
       "Name: question_label, dtype: int64"
      ]
     },
     "metadata": {},
     "execution_count": 22
    }
   ],
   "source": [
    "filtro.question_label.value_counts()"
   ]
  },
  {
   "cell_type": "code",
   "execution_count": 14,
   "metadata": {},
   "outputs": [
    {
     "output_type": "execute_result",
     "data": {
      "text/plain": [
       "     CountryCode target_group subset  ...              answer percentage notes\n",
       "651      Austria          All    All  ...              Always          2   NaN\n",
       "652      Austria          All    All  ...               Often         17   NaN\n",
       "653      Austria          All    All  ...              Rarely         44   NaN\n",
       "654      Austria          All    All  ...               Never         38   NaN\n",
       "775      Austria          All    All  ...              Always         15   NaN\n",
       "776      Austria          All    All  ...               Often         27   NaN\n",
       "777      Austria          All    All  ...              Rarely         21   NaN\n",
       "778      Austria          All    All  ...               Never         37   NaN\n",
       "899      Austria          All    All  ...              Always          8   NaN\n",
       "900      Austria          All    All  ...               Often         32   NaN\n",
       "901      Austria          All    All  ...              Rarely         28   NaN\n",
       "902      Austria          All    All  ...               Never         32   NaN\n",
       "1147     Austria          All    All  ...                 Yes         20   NaN\n",
       "1148     Austria          All    All  ...                  No         80   NaN\n",
       "1271     Austria          All    All  ...                 Yes         16   NaN\n",
       "1272     Austria          All    All  ...                  No         84   NaN\n",
       "1581     Austria          All    All  ...                 Yes         22   NaN\n",
       "1582     Austria          All    All  ...                  No         78   NaN\n",
       "1422     Austria          All    All  ...                None         33   NaN\n",
       "1423     Austria          All    All  ...               A few         25   NaN\n",
       "1424     Austria          All    All  ...                Most         17   NaN\n",
       "1425     Austria          All    All  ...                 All         25   NaN\n",
       "1794     Austria          All    All  ...                None         66   NaN\n",
       "1795     Austria          All    All  ...               A few         16   NaN\n",
       "1796     Austria          All    All  ...                Most          9   NaN\n",
       "1797     Austria          All    All  ...                 All          9   NaN\n",
       "4647     Austria          All    All  ...           Very open         20   NaN\n",
       "4648     Austria          All    All  ...    Selectively open         58   NaN\n",
       "4649     Austria          All    All  ...  Hide LGBT identity         23   NaN\n",
       "\n",
       "[29 rows x 8 columns]"
      ],
      "text/html": "<div>\n<style scoped>\n    .dataframe tbody tr th:only-of-type {\n        vertical-align: middle;\n    }\n\n    .dataframe tbody tr th {\n        vertical-align: top;\n    }\n\n    .dataframe thead th {\n        text-align: right;\n    }\n</style>\n<table border=\"1\" class=\"dataframe\">\n  <thead>\n    <tr style=\"text-align: right;\">\n      <th></th>\n      <th>CountryCode</th>\n      <th>target_group</th>\n      <th>subset</th>\n      <th>question_code</th>\n      <th>question_label</th>\n      <th>answer</th>\n      <th>percentage</th>\n      <th>notes</th>\n    </tr>\n  </thead>\n  <tbody>\n    <tr>\n      <th>651</th>\n      <td>Austria</td>\n      <td>All</td>\n      <td>All</td>\n      <td>DEXc6_1_d</td>\n      <td>In the past 5 years have you experienced a gen...</td>\n      <td>Always</td>\n      <td>2</td>\n      <td>NaN</td>\n    </tr>\n    <tr>\n      <th>652</th>\n      <td>Austria</td>\n      <td>All</td>\n      <td>All</td>\n      <td>DEXc6_1_d</td>\n      <td>In the past 5 years have you experienced a gen...</td>\n      <td>Often</td>\n      <td>17</td>\n      <td>NaN</td>\n    </tr>\n    <tr>\n      <th>653</th>\n      <td>Austria</td>\n      <td>All</td>\n      <td>All</td>\n      <td>DEXc6_1_d</td>\n      <td>In the past 5 years have you experienced a gen...</td>\n      <td>Rarely</td>\n      <td>44</td>\n      <td>NaN</td>\n    </tr>\n    <tr>\n      <th>654</th>\n      <td>Austria</td>\n      <td>All</td>\n      <td>All</td>\n      <td>DEXc6_1_d</td>\n      <td>In the past 5 years have you experienced a gen...</td>\n      <td>Never</td>\n      <td>38</td>\n      <td>NaN</td>\n    </tr>\n    <tr>\n      <th>775</th>\n      <td>Austria</td>\n      <td>All</td>\n      <td>All</td>\n      <td>DEXc7_a</td>\n      <td>In the past 5 years has anyone at work support...</td>\n      <td>Always</td>\n      <td>15</td>\n      <td>NaN</td>\n    </tr>\n    <tr>\n      <th>776</th>\n      <td>Austria</td>\n      <td>All</td>\n      <td>All</td>\n      <td>DEXc7_a</td>\n      <td>In the past 5 years has anyone at work support...</td>\n      <td>Often</td>\n      <td>27</td>\n      <td>NaN</td>\n    </tr>\n    <tr>\n      <th>777</th>\n      <td>Austria</td>\n      <td>All</td>\n      <td>All</td>\n      <td>DEXc7_a</td>\n      <td>In the past 5 years has anyone at work support...</td>\n      <td>Rarely</td>\n      <td>21</td>\n      <td>NaN</td>\n    </tr>\n    <tr>\n      <th>778</th>\n      <td>Austria</td>\n      <td>All</td>\n      <td>All</td>\n      <td>DEXc7_a</td>\n      <td>In the past 5 years has anyone at work support...</td>\n      <td>Never</td>\n      <td>37</td>\n      <td>NaN</td>\n    </tr>\n    <tr>\n      <th>899</th>\n      <td>Austria</td>\n      <td>All</td>\n      <td>All</td>\n      <td>DEXc7_b</td>\n      <td>In the past 5 years have you heard or seen any...</td>\n      <td>Always</td>\n      <td>8</td>\n      <td>NaN</td>\n    </tr>\n    <tr>\n      <th>900</th>\n      <td>Austria</td>\n      <td>All</td>\n      <td>All</td>\n      <td>DEXc7_b</td>\n      <td>In the past 5 years have you heard or seen any...</td>\n      <td>Often</td>\n      <td>32</td>\n      <td>NaN</td>\n    </tr>\n    <tr>\n      <th>901</th>\n      <td>Austria</td>\n      <td>All</td>\n      <td>All</td>\n      <td>DEXc7_b</td>\n      <td>In the past 5 years have you heard or seen any...</td>\n      <td>Rarely</td>\n      <td>28</td>\n      <td>NaN</td>\n    </tr>\n    <tr>\n      <th>902</th>\n      <td>Austria</td>\n      <td>All</td>\n      <td>All</td>\n      <td>DEXc7_b</td>\n      <td>In the past 5 years have you heard or seen any...</td>\n      <td>Never</td>\n      <td>32</td>\n      <td>NaN</td>\n    </tr>\n    <tr>\n      <th>1147</th>\n      <td>Austria</td>\n      <td>All</td>\n      <td>All</td>\n      <td>DEXindd1_2B</td>\n      <td>In the past 12 months have you ever felt discr...</td>\n      <td>Yes</td>\n      <td>20</td>\n      <td>NaN</td>\n    </tr>\n    <tr>\n      <th>1148</th>\n      <td>Austria</td>\n      <td>All</td>\n      <td>All</td>\n      <td>DEXindd1_2B</td>\n      <td>In the past 12 months have you ever felt discr...</td>\n      <td>No</td>\n      <td>80</td>\n      <td>NaN</td>\n    </tr>\n    <tr>\n      <th>1271</th>\n      <td>Austria</td>\n      <td>All</td>\n      <td>All</td>\n      <td>DEXindd1_2D</td>\n      <td>In the past 12 months have you ever felt discr...</td>\n      <td>Yes</td>\n      <td>16</td>\n      <td>NaN</td>\n    </tr>\n    <tr>\n      <th>1272</th>\n      <td>Austria</td>\n      <td>All</td>\n      <td>All</td>\n      <td>DEXindd1_2D</td>\n      <td>In the past 12 months have you ever felt discr...</td>\n      <td>No</td>\n      <td>84</td>\n      <td>NaN</td>\n    </tr>\n    <tr>\n      <th>1581</th>\n      <td>Austria</td>\n      <td>All</td>\n      <td>All</td>\n      <td>DEXindd1_3</td>\n      <td>In the past 12 months have you ever felt discr...</td>\n      <td>Yes</td>\n      <td>22</td>\n      <td>NaN</td>\n    </tr>\n    <tr>\n      <th>1582</th>\n      <td>Austria</td>\n      <td>All</td>\n      <td>All</td>\n      <td>DEXindd1_3</td>\n      <td>In the past 12 months have you ever felt discr...</td>\n      <td>No</td>\n      <td>78</td>\n      <td>NaN</td>\n    </tr>\n    <tr>\n      <th>1422</th>\n      <td>Austria</td>\n      <td>All</td>\n      <td>All</td>\n      <td>DEXg1_D</td>\n      <td>To how many work colleagues are you open about...</td>\n      <td>None</td>\n      <td>33</td>\n      <td>NaN</td>\n    </tr>\n    <tr>\n      <th>1423</th>\n      <td>Austria</td>\n      <td>All</td>\n      <td>All</td>\n      <td>DEXg1_D</td>\n      <td>To how many work colleagues are you open about...</td>\n      <td>A few</td>\n      <td>25</td>\n      <td>NaN</td>\n    </tr>\n    <tr>\n      <th>1424</th>\n      <td>Austria</td>\n      <td>All</td>\n      <td>All</td>\n      <td>DEXg1_D</td>\n      <td>To how many work colleagues are you open about...</td>\n      <td>Most</td>\n      <td>17</td>\n      <td>NaN</td>\n    </tr>\n    <tr>\n      <th>1425</th>\n      <td>Austria</td>\n      <td>All</td>\n      <td>All</td>\n      <td>DEXg1_D</td>\n      <td>To how many work colleagues are you open about...</td>\n      <td>All</td>\n      <td>25</td>\n      <td>NaN</td>\n    </tr>\n    <tr>\n      <th>1794</th>\n      <td>Austria</td>\n      <td>All</td>\n      <td>All</td>\n      <td>DEXg1_G</td>\n      <td>To how many customers, clients, etc. at work a...</td>\n      <td>None</td>\n      <td>66</td>\n      <td>NaN</td>\n    </tr>\n    <tr>\n      <th>1795</th>\n      <td>Austria</td>\n      <td>All</td>\n      <td>All</td>\n      <td>DEXg1_G</td>\n      <td>To how many customers, clients, etc. at work a...</td>\n      <td>A few</td>\n      <td>16</td>\n      <td>NaN</td>\n    </tr>\n    <tr>\n      <th>1796</th>\n      <td>Austria</td>\n      <td>All</td>\n      <td>All</td>\n      <td>DEXg1_G</td>\n      <td>To how many customers, clients, etc. at work a...</td>\n      <td>Most</td>\n      <td>9</td>\n      <td>NaN</td>\n    </tr>\n    <tr>\n      <th>1797</th>\n      <td>Austria</td>\n      <td>All</td>\n      <td>All</td>\n      <td>DEXg1_G</td>\n      <td>To how many customers, clients, etc. at work a...</td>\n      <td>All</td>\n      <td>9</td>\n      <td>NaN</td>\n    </tr>\n    <tr>\n      <th>4647</th>\n      <td>Austria</td>\n      <td>All</td>\n      <td>All</td>\n      <td>DEXindg1c</td>\n      <td>Openness about being LGBTI at work</td>\n      <td>Very open</td>\n      <td>20</td>\n      <td>NaN</td>\n    </tr>\n    <tr>\n      <th>4648</th>\n      <td>Austria</td>\n      <td>All</td>\n      <td>All</td>\n      <td>DEXindg1c</td>\n      <td>Openness about being LGBTI at work</td>\n      <td>Selectively open</td>\n      <td>58</td>\n      <td>NaN</td>\n    </tr>\n    <tr>\n      <th>4649</th>\n      <td>Austria</td>\n      <td>All</td>\n      <td>All</td>\n      <td>DEXindg1c</td>\n      <td>Openness about being LGBTI at work</td>\n      <td>Hide LGBT identity</td>\n      <td>23</td>\n      <td>NaN</td>\n    </tr>\n  </tbody>\n</table>\n</div>"
     },
     "metadata": {},
     "execution_count": 14
    }
   ],
   "source": [
    "austria_work= filtro.loc[filtro[\"CountryCode\"] == \"Austria\"]\n",
    "austria_work"
   ]
  },
  {
   "cell_type": "code",
   "execution_count": 37,
   "metadata": {},
   "outputs": [
    {
     "output_type": "execute_result",
     "data": {
      "text/plain": [
       "answer                                             A few  All  ... Very open  Yes\n",
       "question_label                                                 ...               \n",
       "In the past 12 months have you ever felt discri...   NaN  NaN  ...       NaN   16\n",
       "In the past 12 months have you ever felt discri...   NaN  NaN  ...       NaN   22\n",
       "In the past 12 months have you ever felt discri...   NaN  NaN  ...       NaN   20\n",
       "In the past 5 years has anyone at work supporte...   NaN  NaN  ...       NaN  NaN\n",
       "In the past 5 years have you experienced a gene...   NaN  NaN  ...       NaN  NaN\n",
       "In the past 5 years have you heard or seen anyo...   NaN  NaN  ...       NaN  NaN\n",
       "Openness about being LGBTI at work                   NaN  NaN  ...        20  NaN\n",
       "To how many customers, clients, etc. at work ar...    16    9  ...       NaN  NaN\n",
       "To how many work colleagues are you open about ...    25   25  ...       NaN  NaN\n",
       "\n",
       "[9 rows x 13 columns]"
      ],
      "text/html": "<div>\n<style scoped>\n    .dataframe tbody tr th:only-of-type {\n        vertical-align: middle;\n    }\n\n    .dataframe tbody tr th {\n        vertical-align: top;\n    }\n\n    .dataframe thead th {\n        text-align: right;\n    }\n</style>\n<table border=\"1\" class=\"dataframe\">\n  <thead>\n    <tr style=\"text-align: right;\">\n      <th>answer</th>\n      <th>A few</th>\n      <th>All</th>\n      <th>Always</th>\n      <th>Hide LGBT identity</th>\n      <th>Most</th>\n      <th>Never</th>\n      <th>No</th>\n      <th>None</th>\n      <th>Often</th>\n      <th>Rarely</th>\n      <th>Selectively open</th>\n      <th>Very open</th>\n      <th>Yes</th>\n    </tr>\n    <tr>\n      <th>question_label</th>\n      <th></th>\n      <th></th>\n      <th></th>\n      <th></th>\n      <th></th>\n      <th></th>\n      <th></th>\n      <th></th>\n      <th></th>\n      <th></th>\n      <th></th>\n      <th></th>\n      <th></th>\n    </tr>\n  </thead>\n  <tbody>\n    <tr>\n      <th>In the past 12 months have you ever felt discriminated against due to being LGBTI by healthcare or social services personnel (e.g. a receptionist, nurse or doctor, a social worker)?</th>\n      <td>NaN</td>\n      <td>NaN</td>\n      <td>NaN</td>\n      <td>NaN</td>\n      <td>NaN</td>\n      <td>NaN</td>\n      <td>84</td>\n      <td>NaN</td>\n      <td>NaN</td>\n      <td>NaN</td>\n      <td>NaN</td>\n      <td>NaN</td>\n      <td>16</td>\n    </tr>\n    <tr>\n      <th>In the past 12 months have you ever felt discriminated against due to being LGBTI when at work or when looking for a job (i.e. in employment)?</th>\n      <td>NaN</td>\n      <td>NaN</td>\n      <td>NaN</td>\n      <td>NaN</td>\n      <td>NaN</td>\n      <td>NaN</td>\n      <td>78</td>\n      <td>NaN</td>\n      <td>NaN</td>\n      <td>NaN</td>\n      <td>NaN</td>\n      <td>NaN</td>\n      <td>22</td>\n    </tr>\n    <tr>\n      <th>In the past 12 months have you ever felt discriminated against due to being LGBTI when at work?</th>\n      <td>NaN</td>\n      <td>NaN</td>\n      <td>NaN</td>\n      <td>NaN</td>\n      <td>NaN</td>\n      <td>NaN</td>\n      <td>80</td>\n      <td>NaN</td>\n      <td>NaN</td>\n      <td>NaN</td>\n      <td>NaN</td>\n      <td>NaN</td>\n      <td>20</td>\n    </tr>\n    <tr>\n      <th>In the past 5 years has anyone at work supported, defended or protected you and your rights as an LGBTI person at work?</th>\n      <td>NaN</td>\n      <td>NaN</td>\n      <td>15</td>\n      <td>NaN</td>\n      <td>NaN</td>\n      <td>37</td>\n      <td>NaN</td>\n      <td>NaN</td>\n      <td>27</td>\n      <td>21</td>\n      <td>NaN</td>\n      <td>NaN</td>\n      <td>NaN</td>\n    </tr>\n    <tr>\n      <th>In the past 5 years have you experienced a general negative attitude at work against people due to them being LGBTI?</th>\n      <td>NaN</td>\n      <td>NaN</td>\n      <td>2</td>\n      <td>NaN</td>\n      <td>NaN</td>\n      <td>38</td>\n      <td>NaN</td>\n      <td>NaN</td>\n      <td>17</td>\n      <td>44</td>\n      <td>NaN</td>\n      <td>NaN</td>\n      <td>NaN</td>\n    </tr>\n    <tr>\n      <th>In the past 5 years have you heard or seen anyone at work support, protect or promote the rights of LGBTI people at work?</th>\n      <td>NaN</td>\n      <td>NaN</td>\n      <td>8</td>\n      <td>NaN</td>\n      <td>NaN</td>\n      <td>32</td>\n      <td>NaN</td>\n      <td>NaN</td>\n      <td>32</td>\n      <td>28</td>\n      <td>NaN</td>\n      <td>NaN</td>\n      <td>NaN</td>\n    </tr>\n    <tr>\n      <th>Openness about being LGBTI at work</th>\n      <td>NaN</td>\n      <td>NaN</td>\n      <td>NaN</td>\n      <td>23</td>\n      <td>NaN</td>\n      <td>NaN</td>\n      <td>NaN</td>\n      <td>NaN</td>\n      <td>NaN</td>\n      <td>NaN</td>\n      <td>58</td>\n      <td>20</td>\n      <td>NaN</td>\n    </tr>\n    <tr>\n      <th>To how many customers, clients, etc. at work are you open about being LGBTI</th>\n      <td>16</td>\n      <td>9</td>\n      <td>NaN</td>\n      <td>NaN</td>\n      <td>9</td>\n      <td>NaN</td>\n      <td>NaN</td>\n      <td>66</td>\n      <td>NaN</td>\n      <td>NaN</td>\n      <td>NaN</td>\n      <td>NaN</td>\n      <td>NaN</td>\n    </tr>\n    <tr>\n      <th>To how many work colleagues are you open about being LGBTI</th>\n      <td>25</td>\n      <td>25</td>\n      <td>NaN</td>\n      <td>NaN</td>\n      <td>17</td>\n      <td>NaN</td>\n      <td>NaN</td>\n      <td>33</td>\n      <td>NaN</td>\n      <td>NaN</td>\n      <td>NaN</td>\n      <td>NaN</td>\n      <td>NaN</td>\n    </tr>\n  </tbody>\n</table>\n</div>"
     },
     "metadata": {},
     "execution_count": 37
    }
   ],
   "source": [
    "austria_work.groupby([\"question_label\",\"answer\"])[\"percentage\"].sum().unstack()"
   ]
  },
  {
   "cell_type": "code",
   "execution_count": null,
   "metadata": {},
   "outputs": [],
   "source": []
  }
 ]
}