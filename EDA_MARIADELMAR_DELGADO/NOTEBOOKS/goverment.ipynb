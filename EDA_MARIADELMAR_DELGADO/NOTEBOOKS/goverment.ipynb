{
 "metadata": {
  "language_info": {
   "codemirror_mode": {
    "name": "ipython",
    "version": 3
   },
   "file_extension": ".py",
   "mimetype": "text/x-python",
   "name": "python",
   "nbconvert_exporter": "python",
   "pygments_lexer": "ipython3",
   "version": "3.9.0-final"
  },
  "orig_nbformat": 2,
  "kernelspec": {
   "name": "python3",
   "display_name": "Python 3.9.0 64-bit",
   "metadata": {
    "interpreter": {
     "hash": "2e3c1e8da6e821b0193601da5a0e541c0efda9704da45b6b820f5f4c317f2def"
    }
   }
  }
 },
 "nbformat": 4,
 "nbformat_minor": 2,
 "cells": [
  {
   "cell_type": "code",
   "execution_count": 4,
   "metadata": {},
   "outputs": [
    {
     "output_type": "error",
     "ename": "ModuleNotFoundError",
     "evalue": "No module named 'SRC'",
     "traceback": [
      "\u001b[1;31m---------------------------------------------------------------------------\u001b[0m",
      "\u001b[1;31mModuleNotFoundError\u001b[0m                       Traceback (most recent call last)",
      "\u001b[1;32m<ipython-input-4-99c27de1348a>\u001b[0m in \u001b[0;36m<module>\u001b[1;34m\u001b[0m\n\u001b[0;32m      1\u001b[0m \u001b[1;32mimport\u001b[0m \u001b[0mpandas\u001b[0m \u001b[1;32mas\u001b[0m \u001b[0mpd\u001b[0m\u001b[1;33m\u001b[0m\u001b[1;33m\u001b[0m\u001b[0m\n\u001b[1;32m----> 2\u001b[1;33m \u001b[1;32mimport\u001b[0m \u001b[0mSRC\u001b[0m\u001b[1;33m.\u001b[0m\u001b[0mUTILS\u001b[0m\u001b[1;33m.\u001b[0m\u001b[0mfolders_tb\u001b[0m\u001b[1;33m\u001b[0m\u001b[1;33m\u001b[0m\u001b[0m\n\u001b[0m",
      "\u001b[1;31mModuleNotFoundError\u001b[0m: No module named 'SRC'"
     ]
    }
   ],
   "source": [
    "import pandas as pd\n",
    "import SRC.UTILS.folders_tb\n"
   ]
  },
  {
   "cell_type": "code",
   "execution_count": 3,
   "metadata": {},
   "outputs": [
    {
     "output_type": "execute_result",
     "data": {
      "text/plain": [
       "['Does the government in the country where you live respond adequately to the safety needs of LGBTI people?',\n",
       " 'In the past five years has prejudice and intolerance against LGBTI people increased, stayed the same or decreased in the country where you live?',\n",
       " 'In the past five years has violence against LGBTI people increased, stayed the same or decreased in the country where you live?',\n",
       " 'In your view, what are the main reasons for the decrease in prejudice, intolerance and/or violence?',\n",
       " 'In your view, what are the main reasons for the increase in prejudice, intolerance and/or violence?',\n",
       " 'Do you think the government in the country where you live combats effectively prejudice and intolerance against LGBTI people?']"
      ]
     },
     "metadata": {},
     "execution_count": 3
    }
   ],
   "source": [
    "question= list(pd.unique(goverment_data[\"question_label\"]))\n",
    "question"
   ]
  },
  {
   "cell_type": "code",
   "execution_count": null,
   "metadata": {},
   "outputs": [],
   "source": []
  }
 ]
}