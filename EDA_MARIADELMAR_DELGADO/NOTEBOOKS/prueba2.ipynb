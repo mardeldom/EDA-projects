{
 "metadata": {
  "language_info": {
   "codemirror_mode": {
    "name": "ipython",
    "version": 3
   },
   "file_extension": ".py",
   "mimetype": "text/x-python",
   "name": "python",
   "nbconvert_exporter": "python",
   "pygments_lexer": "ipython3",
   "version": "3.9.0-final"
  },
  "orig_nbformat": 2,
  "kernelspec": {
   "name": "python3",
   "display_name": "Python 3.9.0 64-bit",
   "metadata": {
    "interpreter": {
     "hash": "2e3c1e8da6e821b0193601da5a0e541c0efda9704da45b6b820f5f4c317f2def"
    }
   }
  }
 },
 "nbformat": 4,
 "nbformat_minor": 2,
 "cells": [
  {
   "cell_type": "code",
   "execution_count": 1,
   "metadata": {},
   "outputs": [],
   "source": [
    "import pandas as pd"
   ]
  },
  {
   "cell_type": "code",
   "execution_count": 14,
   "metadata": {},
   "outputs": [
    {
     "output_type": "execute_result",
     "data": {
      "text/plain": [
       "          CountryCode target_group subset   question_code  \\\n",
       "0             Austria          All    All          DEXa13   \n",
       "1             Austria          All    All          DEXa13   \n",
       "2             Austria          All    All          DEXa13   \n",
       "3             Austria          All    All          DEXa13   \n",
       "4             Austria          All    All          DEXa13   \n",
       "...               ...          ...    ...             ...   \n",
       "5695            EU-28          All    All  DEXschool_leav   \n",
       "5696  North Macedonia          All    All  DEXschool_leav   \n",
       "5697  North Macedonia          All    All  DEXschool_leav   \n",
       "5698           Serbia          All    All  DEXschool_leav   \n",
       "5699           Serbia          All    All  DEXschool_leav   \n",
       "\n",
       "                                         question_label         answer  \\\n",
       "0     How old were you when you realised for the fir...  5y.o. or less   \n",
       "1     How old were you when you realised for the fir...        6-9y.o.   \n",
       "2     How old were you when you realised for the fir...      10-14y.o.   \n",
       "3     How old were you when you realised for the fir...      15-17y.o.   \n",
       "4     How old were you when you realised for the fir...      18-24y.o.   \n",
       "...                                                 ...            ...   \n",
       "5695  Did you ever consider leaving or changing scho...             No   \n",
       "5696  Did you ever consider leaving or changing scho...            Yes   \n",
       "5697  Did you ever consider leaving or changing scho...             No   \n",
       "5698  Did you ever consider leaving or changing scho...            Yes   \n",
       "5699  Did you ever consider leaving or changing scho...             No   \n",
       "\n",
       "     percentage notes  \n",
       "0             2   NaN  \n",
       "1             7   NaN  \n",
       "2            40   NaN  \n",
       "3            27   NaN  \n",
       "4            15   NaN  \n",
       "...         ...   ...  \n",
       "5695         89   NaN  \n",
       "5696         18   NaN  \n",
       "5697         82   NaN  \n",
       "5698         16   NaN  \n",
       "5699         84   NaN  \n",
       "\n",
       "[5700 rows x 8 columns]"
      ],
      "text/html": "<div>\n<style scoped>\n    .dataframe tbody tr th:only-of-type {\n        vertical-align: middle;\n    }\n\n    .dataframe tbody tr th {\n        vertical-align: top;\n    }\n\n    .dataframe thead th {\n        text-align: right;\n    }\n</style>\n<table border=\"1\" class=\"dataframe\">\n  <thead>\n    <tr style=\"text-align: right;\">\n      <th></th>\n      <th>CountryCode</th>\n      <th>target_group</th>\n      <th>subset</th>\n      <th>question_code</th>\n      <th>question_label</th>\n      <th>answer</th>\n      <th>percentage</th>\n      <th>notes</th>\n    </tr>\n  </thead>\n  <tbody>\n    <tr>\n      <th>0</th>\n      <td>Austria</td>\n      <td>All</td>\n      <td>All</td>\n      <td>DEXa13</td>\n      <td>How old were you when you realised for the fir...</td>\n      <td>5y.o. or less</td>\n      <td>2</td>\n      <td>NaN</td>\n    </tr>\n    <tr>\n      <th>1</th>\n      <td>Austria</td>\n      <td>All</td>\n      <td>All</td>\n      <td>DEXa13</td>\n      <td>How old were you when you realised for the fir...</td>\n      <td>6-9y.o.</td>\n      <td>7</td>\n      <td>NaN</td>\n    </tr>\n    <tr>\n      <th>2</th>\n      <td>Austria</td>\n      <td>All</td>\n      <td>All</td>\n      <td>DEXa13</td>\n      <td>How old were you when you realised for the fir...</td>\n      <td>10-14y.o.</td>\n      <td>40</td>\n      <td>NaN</td>\n    </tr>\n    <tr>\n      <th>3</th>\n      <td>Austria</td>\n      <td>All</td>\n      <td>All</td>\n      <td>DEXa13</td>\n      <td>How old were you when you realised for the fir...</td>\n      <td>15-17y.o.</td>\n      <td>27</td>\n      <td>NaN</td>\n    </tr>\n    <tr>\n      <th>4</th>\n      <td>Austria</td>\n      <td>All</td>\n      <td>All</td>\n      <td>DEXa13</td>\n      <td>How old were you when you realised for the fir...</td>\n      <td>18-24y.o.</td>\n      <td>15</td>\n      <td>NaN</td>\n    </tr>\n    <tr>\n      <th>...</th>\n      <td>...</td>\n      <td>...</td>\n      <td>...</td>\n      <td>...</td>\n      <td>...</td>\n      <td>...</td>\n      <td>...</td>\n      <td>...</td>\n    </tr>\n    <tr>\n      <th>5695</th>\n      <td>EU-28</td>\n      <td>All</td>\n      <td>All</td>\n      <td>DEXschool_leav</td>\n      <td>Did you ever consider leaving or changing scho...</td>\n      <td>No</td>\n      <td>89</td>\n      <td>NaN</td>\n    </tr>\n    <tr>\n      <th>5696</th>\n      <td>North Macedonia</td>\n      <td>All</td>\n      <td>All</td>\n      <td>DEXschool_leav</td>\n      <td>Did you ever consider leaving or changing scho...</td>\n      <td>Yes</td>\n      <td>18</td>\n      <td>NaN</td>\n    </tr>\n    <tr>\n      <th>5697</th>\n      <td>North Macedonia</td>\n      <td>All</td>\n      <td>All</td>\n      <td>DEXschool_leav</td>\n      <td>Did you ever consider leaving or changing scho...</td>\n      <td>No</td>\n      <td>82</td>\n      <td>NaN</td>\n    </tr>\n    <tr>\n      <th>5698</th>\n      <td>Serbia</td>\n      <td>All</td>\n      <td>All</td>\n      <td>DEXschool_leav</td>\n      <td>Did you ever consider leaving or changing scho...</td>\n      <td>Yes</td>\n      <td>16</td>\n      <td>NaN</td>\n    </tr>\n    <tr>\n      <th>5699</th>\n      <td>Serbia</td>\n      <td>All</td>\n      <td>All</td>\n      <td>DEXschool_leav</td>\n      <td>Did you ever consider leaving or changing scho...</td>\n      <td>No</td>\n      <td>84</td>\n      <td>NaN</td>\n    </tr>\n  </tbody>\n</table>\n<p>5700 rows × 8 columns</p>\n</div>"
     },
     "metadata": {},
     "execution_count": 14
    }
   ],
   "source": [
    "living_data= pd.read_csv(\"UTILS/Living_openly_and-daily.csv\", delimiter= \",\", encoding=\"latin1\", skiprows=11)\n",
    "living_data"
   ]
  },
  {
   "cell_type": "code",
   "execution_count": null,
   "metadata": {},
   "outputs": [],
   "source": []
  },
  {
   "cell_type": "code",
   "execution_count": 99,
   "metadata": {},
   "outputs": [
    {
     "output_type": "execute_result",
     "data": {
      "text/plain": [
       "                                                         question_label\n",
       "question_code                                                          \n",
       "DEXa13                How old were you when you realised for the fir...\n",
       "DEXa14                How old were you when you first told somebody ...\n",
       "DEXavoid_hands        Do you avoid holding hands in public with a sa...\n",
       "DEXavoid_places       Do you avoid certain places or locations for f...\n",
       "DEXc10_1              Did your school education address at any point...\n",
       "DEXg1_A               To how many family members (other than your pa...\n",
       "DEXg1_B               To how many friends are you open about being L...\n",
       "DEXg1_C               To how many neighbours are you open about bein...\n",
       "DEXg1_D               To how many work colleagues are you open about...\n",
       "DEXg1_E               To how many schoolmates / university co-studen...\n",
       "DEXg1_F               To how many immediate superiors/heads of depar...\n",
       "DEXg1_G               To how many customers, clients, etc. at work a...\n",
       "DEXg1_H               To how many medical staff/health care provider...\n",
       "DEXh17                How is your health in general?How is your heal...\n",
       "DEXh18                Do you have any long-standing illness or healt...\n",
       "DEXh19                In the past 2 weeks have you been feeling down...\n",
       "DEXh21                Have you ever experienced any of the following...\n",
       "DEXh22                Duration of housing difficulties (average in m...\n",
       "DEXh23                What was the main reason for the period of hou...\n",
       "DEXh8                 Have you ever moved to an EU country (and also...\n",
       "DEXh9                 In the country where you have moved to (taken ...\n",
       "DEXi1                 How did you come to know about this survey?How...\n",
       "DEXi3                 Are you involved in one or more organisations ...\n",
       "DEXindg1c             Openness about being LGBTI at workOpenness abo...\n",
       "DEXindv9_2            Where do you avoid being open about yourself a...\n",
       "DEXlife_sat           Satisfaction with lifeSatisfaction with lifeSa...\n",
       "DEXopen_at_schoolFRA  Openness about being LGBTI at schoolOpenness a...\n",
       "DEXopenness           Openness about being LGBTIOpenness about being...\n",
       "DEXschool_leav        Did you ever consider leaving or changing scho..."
      ],
      "text/html": "<div>\n<style scoped>\n    .dataframe tbody tr th:only-of-type {\n        vertical-align: middle;\n    }\n\n    .dataframe tbody tr th {\n        vertical-align: top;\n    }\n\n    .dataframe thead th {\n        text-align: right;\n    }\n</style>\n<table border=\"1\" class=\"dataframe\">\n  <thead>\n    <tr style=\"text-align: right;\">\n      <th></th>\n      <th>question_label</th>\n    </tr>\n    <tr>\n      <th>question_code</th>\n      <th></th>\n    </tr>\n  </thead>\n  <tbody>\n    <tr>\n      <th>DEXa13</th>\n      <td>How old were you when you realised for the fir...</td>\n    </tr>\n    <tr>\n      <th>DEXa14</th>\n      <td>How old were you when you first told somebody ...</td>\n    </tr>\n    <tr>\n      <th>DEXavoid_hands</th>\n      <td>Do you avoid holding hands in public with a sa...</td>\n    </tr>\n    <tr>\n      <th>DEXavoid_places</th>\n      <td>Do you avoid certain places or locations for f...</td>\n    </tr>\n    <tr>\n      <th>DEXc10_1</th>\n      <td>Did your school education address at any point...</td>\n    </tr>\n    <tr>\n      <th>DEXg1_A</th>\n      <td>To how many family members (other than your pa...</td>\n    </tr>\n    <tr>\n      <th>DEXg1_B</th>\n      <td>To how many friends are you open about being L...</td>\n    </tr>\n    <tr>\n      <th>DEXg1_C</th>\n      <td>To how many neighbours are you open about bein...</td>\n    </tr>\n    <tr>\n      <th>DEXg1_D</th>\n      <td>To how many work colleagues are you open about...</td>\n    </tr>\n    <tr>\n      <th>DEXg1_E</th>\n      <td>To how many schoolmates / university co-studen...</td>\n    </tr>\n    <tr>\n      <th>DEXg1_F</th>\n      <td>To how many immediate superiors/heads of depar...</td>\n    </tr>\n    <tr>\n      <th>DEXg1_G</th>\n      <td>To how many customers, clients, etc. at work a...</td>\n    </tr>\n    <tr>\n      <th>DEXg1_H</th>\n      <td>To how many medical staff/health care provider...</td>\n    </tr>\n    <tr>\n      <th>DEXh17</th>\n      <td>How is your health in general?How is your heal...</td>\n    </tr>\n    <tr>\n      <th>DEXh18</th>\n      <td>Do you have any long-standing illness or healt...</td>\n    </tr>\n    <tr>\n      <th>DEXh19</th>\n      <td>In the past 2 weeks have you been feeling down...</td>\n    </tr>\n    <tr>\n      <th>DEXh21</th>\n      <td>Have you ever experienced any of the following...</td>\n    </tr>\n    <tr>\n      <th>DEXh22</th>\n      <td>Duration of housing difficulties (average in m...</td>\n    </tr>\n    <tr>\n      <th>DEXh23</th>\n      <td>What was the main reason for the period of hou...</td>\n    </tr>\n    <tr>\n      <th>DEXh8</th>\n      <td>Have you ever moved to an EU country (and also...</td>\n    </tr>\n    <tr>\n      <th>DEXh9</th>\n      <td>In the country where you have moved to (taken ...</td>\n    </tr>\n    <tr>\n      <th>DEXi1</th>\n      <td>How did you come to know about this survey?How...</td>\n    </tr>\n    <tr>\n      <th>DEXi3</th>\n      <td>Are you involved in one or more organisations ...</td>\n    </tr>\n    <tr>\n      <th>DEXindg1c</th>\n      <td>Openness about being LGBTI at workOpenness abo...</td>\n    </tr>\n    <tr>\n      <th>DEXindv9_2</th>\n      <td>Where do you avoid being open about yourself a...</td>\n    </tr>\n    <tr>\n      <th>DEXlife_sat</th>\n      <td>Satisfaction with lifeSatisfaction with lifeSa...</td>\n    </tr>\n    <tr>\n      <th>DEXopen_at_schoolFRA</th>\n      <td>Openness about being LGBTI at schoolOpenness a...</td>\n    </tr>\n    <tr>\n      <th>DEXopenness</th>\n      <td>Openness about being LGBTIOpenness about being...</td>\n    </tr>\n    <tr>\n      <th>DEXschool_leav</th>\n      <td>Did you ever consider leaving or changing scho...</td>\n    </tr>\n  </tbody>\n</table>\n</div>"
     },
     "metadata": {},
     "execution_count": 99
    }
   ],
   "source": [
    "data_living = living_data.groupby(\"question_code\")[\"question_label\"].sum()\n",
    "data_living = pd.DataFrame(data_living)\n",
    "data_living"
   ]
  },
  {
   "cell_type": "code",
   "execution_count": 16,
   "metadata": {},
   "outputs": [
    {
     "output_type": "execute_result",
     "data": {
      "text/plain": [
       "          CountryCode target_group subset question_code  \\\n",
       "0             Austria          All    All        DEXa11   \n",
       "1             Austria          All    All        DEXa11   \n",
       "2             Belgium          All    All        DEXa11   \n",
       "3             Belgium          All    All        DEXa11   \n",
       "4            Bulgaria          All    All        DEXa11   \n",
       "...               ...          ...    ...           ...   \n",
       "1667  North Macedonia          All    All         DEXh5   \n",
       "1668  North Macedonia          All    All         DEXh5   \n",
       "1669           Serbia          All    All         DEXh5   \n",
       "1670           Serbia          All    All         DEXh5   \n",
       "1671           Serbia          All    All         DEXh5   \n",
       "\n",
       "                                         question_label  \\\n",
       "0     Do you have citizenship of the country where t...   \n",
       "1     Do you have citizenship of the country where t...   \n",
       "2     Do you have citizenship of the country where t...   \n",
       "3     Do you have citizenship of the country where t...   \n",
       "4     Do you have citizenship of the country where t...   \n",
       "...                                                 ...   \n",
       "1667  What is your current family or partnership sit...   \n",
       "1668  What is your current family or partnership sit...   \n",
       "1669  What is your current family or partnership sit...   \n",
       "1670  What is your current family or partnership sit...   \n",
       "1671  What is your current family or partnership sit...   \n",
       "\n",
       "                                                 answer percentage notes  \n",
       "0                                                   Yes         82   NaN  \n",
       "1                                                    No         18   NaN  \n",
       "2                                                   Yes         80   NaN  \n",
       "3                                                    No         20   NaN  \n",
       "4                                                   Yes         97   NaN  \n",
       "...                                                 ...        ...   ...  \n",
       "1667  Involved in a relationship without living toge...         28   NaN  \n",
       "1668                            No relationship/partner         58   NaN  \n",
       "1669              Living together with a partner/spouse         16   NaN  \n",
       "1670  Involved in a relationship without living toge...         24   NaN  \n",
       "1671                            No relationship/partner         60   NaN  \n",
       "\n",
       "[1672 rows x 8 columns]"
      ],
      "text/html": "<div>\n<style scoped>\n    .dataframe tbody tr th:only-of-type {\n        vertical-align: middle;\n    }\n\n    .dataframe tbody tr th {\n        vertical-align: top;\n    }\n\n    .dataframe thead th {\n        text-align: right;\n    }\n</style>\n<table border=\"1\" class=\"dataframe\">\n  <thead>\n    <tr style=\"text-align: right;\">\n      <th></th>\n      <th>CountryCode</th>\n      <th>target_group</th>\n      <th>subset</th>\n      <th>question_code</th>\n      <th>question_label</th>\n      <th>answer</th>\n      <th>percentage</th>\n      <th>notes</th>\n    </tr>\n  </thead>\n  <tbody>\n    <tr>\n      <th>0</th>\n      <td>Austria</td>\n      <td>All</td>\n      <td>All</td>\n      <td>DEXa11</td>\n      <td>Do you have citizenship of the country where t...</td>\n      <td>Yes</td>\n      <td>82</td>\n      <td>NaN</td>\n    </tr>\n    <tr>\n      <th>1</th>\n      <td>Austria</td>\n      <td>All</td>\n      <td>All</td>\n      <td>DEXa11</td>\n      <td>Do you have citizenship of the country where t...</td>\n      <td>No</td>\n      <td>18</td>\n      <td>NaN</td>\n    </tr>\n    <tr>\n      <th>2</th>\n      <td>Belgium</td>\n      <td>All</td>\n      <td>All</td>\n      <td>DEXa11</td>\n      <td>Do you have citizenship of the country where t...</td>\n      <td>Yes</td>\n      <td>80</td>\n      <td>NaN</td>\n    </tr>\n    <tr>\n      <th>3</th>\n      <td>Belgium</td>\n      <td>All</td>\n      <td>All</td>\n      <td>DEXa11</td>\n      <td>Do you have citizenship of the country where t...</td>\n      <td>No</td>\n      <td>20</td>\n      <td>NaN</td>\n    </tr>\n    <tr>\n      <th>4</th>\n      <td>Bulgaria</td>\n      <td>All</td>\n      <td>All</td>\n      <td>DEXa11</td>\n      <td>Do you have citizenship of the country where t...</td>\n      <td>Yes</td>\n      <td>97</td>\n      <td>NaN</td>\n    </tr>\n    <tr>\n      <th>...</th>\n      <td>...</td>\n      <td>...</td>\n      <td>...</td>\n      <td>...</td>\n      <td>...</td>\n      <td>...</td>\n      <td>...</td>\n      <td>...</td>\n    </tr>\n    <tr>\n      <th>1667</th>\n      <td>North Macedonia</td>\n      <td>All</td>\n      <td>All</td>\n      <td>DEXh5</td>\n      <td>What is your current family or partnership sit...</td>\n      <td>Involved in a relationship without living toge...</td>\n      <td>28</td>\n      <td>NaN</td>\n    </tr>\n    <tr>\n      <th>1668</th>\n      <td>North Macedonia</td>\n      <td>All</td>\n      <td>All</td>\n      <td>DEXh5</td>\n      <td>What is your current family or partnership sit...</td>\n      <td>No relationship/partner</td>\n      <td>58</td>\n      <td>NaN</td>\n    </tr>\n    <tr>\n      <th>1669</th>\n      <td>Serbia</td>\n      <td>All</td>\n      <td>All</td>\n      <td>DEXh5</td>\n      <td>What is your current family or partnership sit...</td>\n      <td>Living together with a partner/spouse</td>\n      <td>16</td>\n      <td>NaN</td>\n    </tr>\n    <tr>\n      <th>1670</th>\n      <td>Serbia</td>\n      <td>All</td>\n      <td>All</td>\n      <td>DEXh5</td>\n      <td>What is your current family or partnership sit...</td>\n      <td>Involved in a relationship without living toge...</td>\n      <td>24</td>\n      <td>NaN</td>\n    </tr>\n    <tr>\n      <th>1671</th>\n      <td>Serbia</td>\n      <td>All</td>\n      <td>All</td>\n      <td>DEXh5</td>\n      <td>What is your current family or partnership sit...</td>\n      <td>No relationship/partner</td>\n      <td>60</td>\n      <td>NaN</td>\n    </tr>\n  </tbody>\n</table>\n<p>1672 rows × 8 columns</p>\n</div>"
     },
     "metadata": {},
     "execution_count": 16
    }
   ],
   "source": [
    "socio_data = pd.read_csv(\"UTILS\\SOCIO_DEMOGRAPHICS.csv\", delimiter= \",\", encoding=\"latin1\", skiprows=11)\n",
    "socio_data"
   ]
  },
  {
   "cell_type": "code",
   "execution_count": 20,
   "metadata": {},
   "outputs": [
    {
     "output_type": "execute_result",
     "data": {
      "text/plain": [
       "                                                                                                                      answer\n",
       "CountryCode    question_label                                     answer                                                    \n",
       "Austria        Do you have citizenship of the country where th... No                                                       1\n",
       "                                                                  Yes                                                      1\n",
       "               Do you raise a child / children together with y... No                                                       1\n",
       "                                                                  We share care responsibilities with another per...       1\n",
       "                                                                  Yes                                                      1\n",
       "...                                                                                                                      ...\n",
       "United Kingdom Working status                                     Retired                                                  1\n",
       "                                                                  Self-employed                                            1\n",
       "                                                                  Student or pupil                                         1\n",
       "                                                                  Unable to work due to long-standing health prob...       1\n",
       "                                                                  Unemployed                                               1\n",
       "\n",
       "[1672 rows x 1 columns]"
      ],
      "text/html": "<div>\n<style scoped>\n    .dataframe tbody tr th:only-of-type {\n        vertical-align: middle;\n    }\n\n    .dataframe tbody tr th {\n        vertical-align: top;\n    }\n\n    .dataframe thead th {\n        text-align: right;\n    }\n</style>\n<table border=\"1\" class=\"dataframe\">\n  <thead>\n    <tr style=\"text-align: right;\">\n      <th></th>\n      <th></th>\n      <th></th>\n      <th>answer</th>\n    </tr>\n    <tr>\n      <th>CountryCode</th>\n      <th>question_label</th>\n      <th>answer</th>\n      <th></th>\n    </tr>\n  </thead>\n  <tbody>\n    <tr>\n      <th rowspan=\"5\" valign=\"top\">Austria</th>\n      <th rowspan=\"2\" valign=\"top\">Do you have citizenship of the country where the online survey was completed?</th>\n      <th>No</th>\n      <td>1</td>\n    </tr>\n    <tr>\n      <th>Yes</th>\n      <td>1</td>\n    </tr>\n    <tr>\n      <th rowspan=\"3\" valign=\"top\">Do you raise a child / children together with your partner?</th>\n      <th>No</th>\n      <td>1</td>\n    </tr>\n    <tr>\n      <th>We share care responsibilities with another person(s)</th>\n      <td>1</td>\n    </tr>\n    <tr>\n      <th>Yes</th>\n      <td>1</td>\n    </tr>\n    <tr>\n      <th>...</th>\n      <th>...</th>\n      <th>...</th>\n      <td>...</td>\n    </tr>\n    <tr>\n      <th rowspan=\"5\" valign=\"top\">United Kingdom</th>\n      <th rowspan=\"5\" valign=\"top\">Working status</th>\n      <th>Retired</th>\n      <td>1</td>\n    </tr>\n    <tr>\n      <th>Self-employed</th>\n      <td>1</td>\n    </tr>\n    <tr>\n      <th>Student or pupil</th>\n      <td>1</td>\n    </tr>\n    <tr>\n      <th>Unable to work due to long-standing health problems</th>\n      <td>1</td>\n    </tr>\n    <tr>\n      <th>Unemployed</th>\n      <td>1</td>\n    </tr>\n  </tbody>\n</table>\n<p>1672 rows × 1 columns</p>\n</div>"
     },
     "metadata": {},
     "execution_count": 20
    }
   ],
   "source": [
    "data_social = socio_data.groupby([\"CountryCode\", \"question_label\", \"answer\"])[\"answer\"].count()\n",
    "data_social = pd.DataFrame(data_social)\n",
    "data_social"
   ]
  },
  {
   "cell_type": "code",
   "execution_count": 16,
   "metadata": {},
   "outputs": [
    {
     "output_type": "execute_result",
     "data": {
      "text/plain": [
       "          CountryCode target_group subset     question_code  \\\n",
       "0             Austria          All    All    DEXaware_eqbod   \n",
       "1             Austria          All    All    DEXaware_eqbod   \n",
       "2             Belgium          All    All    DEXaware_eqbod   \n",
       "3             Belgium          All    All    DEXaware_eqbod   \n",
       "4            Bulgaria          All    All    DEXaware_eqbod   \n",
       "...               ...          ...    ...               ...   \n",
       "3033  North Macedonia          All    All  DEXschool_negcon   \n",
       "3034           Serbia          All    All  DEXschool_negcon   \n",
       "3035           Serbia          All    All  DEXschool_negcon   \n",
       "3036           Serbia          All    All  DEXschool_negcon   \n",
       "3037           Serbia          All    All  DEXschool_negcon   \n",
       "\n",
       "                                         question_label  answer  percentage  \\\n",
       "0     Knowledge of at least one equality body in cou...     Yes          47   \n",
       "1     Knowledge of at least one equality body in cou...      No          53   \n",
       "2     Knowledge of at least one equality body in cou...     Yes          69   \n",
       "3     Knowledge of at least one equality body in cou...      No          31   \n",
       "4     Knowledge of at least one equality body in cou...     Yes          62   \n",
       "...                                                 ...     ...         ...   \n",
       "3033  During your time at school did you experience ...   Never          27   \n",
       "3034  During your time at school did you experience ...  Always          14   \n",
       "3035  During your time at school did you experience ...   Often          29   \n",
       "3036  During your time at school did you experience ...  Rarely          31   \n",
       "3037  During your time at school did you experience ...   Never          26   \n",
       "\n",
       "      notes  \n",
       "0       NaN  \n",
       "1       NaN  \n",
       "2       NaN  \n",
       "3       NaN  \n",
       "4       NaN  \n",
       "...     ...  \n",
       "3033    NaN  \n",
       "3034    NaN  \n",
       "3035    NaN  \n",
       "3036    NaN  \n",
       "3037    NaN  \n",
       "\n",
       "[3038 rows x 8 columns]"
      ],
      "text/html": "<div>\n<style scoped>\n    .dataframe tbody tr th:only-of-type {\n        vertical-align: middle;\n    }\n\n    .dataframe tbody tr th {\n        vertical-align: top;\n    }\n\n    .dataframe thead th {\n        text-align: right;\n    }\n</style>\n<table border=\"1\" class=\"dataframe\">\n  <thead>\n    <tr style=\"text-align: right;\">\n      <th></th>\n      <th>CountryCode</th>\n      <th>target_group</th>\n      <th>subset</th>\n      <th>question_code</th>\n      <th>question_label</th>\n      <th>answer</th>\n      <th>percentage</th>\n      <th>notes</th>\n    </tr>\n  </thead>\n  <tbody>\n    <tr>\n      <th>0</th>\n      <td>Austria</td>\n      <td>All</td>\n      <td>All</td>\n      <td>DEXaware_eqbod</td>\n      <td>Knowledge of at least one equality body in cou...</td>\n      <td>Yes</td>\n      <td>47</td>\n      <td>NaN</td>\n    </tr>\n    <tr>\n      <th>1</th>\n      <td>Austria</td>\n      <td>All</td>\n      <td>All</td>\n      <td>DEXaware_eqbod</td>\n      <td>Knowledge of at least one equality body in cou...</td>\n      <td>No</td>\n      <td>53</td>\n      <td>NaN</td>\n    </tr>\n    <tr>\n      <th>2</th>\n      <td>Belgium</td>\n      <td>All</td>\n      <td>All</td>\n      <td>DEXaware_eqbod</td>\n      <td>Knowledge of at least one equality body in cou...</td>\n      <td>Yes</td>\n      <td>69</td>\n      <td>NaN</td>\n    </tr>\n    <tr>\n      <th>3</th>\n      <td>Belgium</td>\n      <td>All</td>\n      <td>All</td>\n      <td>DEXaware_eqbod</td>\n      <td>Knowledge of at least one equality body in cou...</td>\n      <td>No</td>\n      <td>31</td>\n      <td>NaN</td>\n    </tr>\n    <tr>\n      <th>4</th>\n      <td>Bulgaria</td>\n      <td>All</td>\n      <td>All</td>\n      <td>DEXaware_eqbod</td>\n      <td>Knowledge of at least one equality body in cou...</td>\n      <td>Yes</td>\n      <td>62</td>\n      <td>NaN</td>\n    </tr>\n    <tr>\n      <th>...</th>\n      <td>...</td>\n      <td>...</td>\n      <td>...</td>\n      <td>...</td>\n      <td>...</td>\n      <td>...</td>\n      <td>...</td>\n      <td>...</td>\n    </tr>\n    <tr>\n      <th>3033</th>\n      <td>North Macedonia</td>\n      <td>All</td>\n      <td>All</td>\n      <td>DEXschool_negcon</td>\n      <td>During your time at school did you experience ...</td>\n      <td>Never</td>\n      <td>27</td>\n      <td>NaN</td>\n    </tr>\n    <tr>\n      <th>3034</th>\n      <td>Serbia</td>\n      <td>All</td>\n      <td>All</td>\n      <td>DEXschool_negcon</td>\n      <td>During your time at school did you experience ...</td>\n      <td>Always</td>\n      <td>14</td>\n      <td>NaN</td>\n    </tr>\n    <tr>\n      <th>3035</th>\n      <td>Serbia</td>\n      <td>All</td>\n      <td>All</td>\n      <td>DEXschool_negcon</td>\n      <td>During your time at school did you experience ...</td>\n      <td>Often</td>\n      <td>29</td>\n      <td>NaN</td>\n    </tr>\n    <tr>\n      <th>3036</th>\n      <td>Serbia</td>\n      <td>All</td>\n      <td>All</td>\n      <td>DEXschool_negcon</td>\n      <td>During your time at school did you experience ...</td>\n      <td>Rarely</td>\n      <td>31</td>\n      <td>NaN</td>\n    </tr>\n    <tr>\n      <th>3037</th>\n      <td>Serbia</td>\n      <td>All</td>\n      <td>All</td>\n      <td>DEXschool_negcon</td>\n      <td>During your time at school did you experience ...</td>\n      <td>Never</td>\n      <td>26</td>\n      <td>NaN</td>\n    </tr>\n  </tbody>\n</table>\n<p>3038 rows × 8 columns</p>\n</div>"
     },
     "metadata": {},
     "execution_count": 16
    }
   ],
   "source": [
    "discrimination_data = pd.read_csv(\"UTILS\\DISCRIMINATION.csv\", delimiter= \",\", encoding=\"latin1\", skiprows=11)\n",
    "discrimination_data"
   ]
  },
  {
   "cell_type": "code",
   "execution_count": null,
   "metadata": {},
   "outputs": [],
   "source": [
    "discrimination_data"
   ]
  },
  {
   "cell_type": "code",
   "execution_count": 2,
   "metadata": {},
   "outputs": [
    {
     "output_type": "execute_result",
     "data": {
      "text/plain": [
       "          CountryCode target_group subset   question_code  \\\n",
       "0             Austria          All    All  DEXaware_eqbod   \n",
       "1             Austria          All    All  DEXaware_eqbod   \n",
       "2             Belgium          All    All  DEXaware_eqbod   \n",
       "3             Belgium          All    All  DEXaware_eqbod   \n",
       "4            Bulgaria          All    All  DEXaware_eqbod   \n",
       "...               ...          ...    ...             ...   \n",
       "1667  North Macedonia          All    All           DEXh5   \n",
       "1668  North Macedonia          All    All           DEXh5   \n",
       "1669           Serbia          All    All           DEXh5   \n",
       "1670           Serbia          All    All           DEXh5   \n",
       "1671           Serbia          All    All           DEXh5   \n",
       "\n",
       "                                         question_label  \\\n",
       "0     Knowledge of at least one equality body in cou...   \n",
       "1     Knowledge of at least one equality body in cou...   \n",
       "2     Knowledge of at least one equality body in cou...   \n",
       "3     Knowledge of at least one equality body in cou...   \n",
       "4     Knowledge of at least one equality body in cou...   \n",
       "...                                                 ...   \n",
       "1667  What is your current family or partnership sit...   \n",
       "1668  What is your current family or partnership sit...   \n",
       "1669  What is your current family or partnership sit...   \n",
       "1670  What is your current family or partnership sit...   \n",
       "1671  What is your current family or partnership sit...   \n",
       "\n",
       "                                                 answer percentage notes  \n",
       "0                                                   Yes         47   NaN  \n",
       "1                                                    No         53   NaN  \n",
       "2                                                   Yes         69   NaN  \n",
       "3                                                    No         31   NaN  \n",
       "4                                                   Yes         62   NaN  \n",
       "...                                                 ...        ...   ...  \n",
       "1667  Involved in a relationship without living toge...         28   NaN  \n",
       "1668                            No relationship/partner         58   NaN  \n",
       "1669              Living together with a partner/spouse         16   NaN  \n",
       "1670  Involved in a relationship without living toge...         24   NaN  \n",
       "1671                            No relationship/partner         60   NaN  \n",
       "\n",
       "[10410 rows x 8 columns]"
      ],
      "text/html": "<div>\n<style scoped>\n    .dataframe tbody tr th:only-of-type {\n        vertical-align: middle;\n    }\n\n    .dataframe tbody tr th {\n        vertical-align: top;\n    }\n\n    .dataframe thead th {\n        text-align: right;\n    }\n</style>\n<table border=\"1\" class=\"dataframe\">\n  <thead>\n    <tr style=\"text-align: right;\">\n      <th></th>\n      <th>CountryCode</th>\n      <th>target_group</th>\n      <th>subset</th>\n      <th>question_code</th>\n      <th>question_label</th>\n      <th>answer</th>\n      <th>percentage</th>\n      <th>notes</th>\n    </tr>\n  </thead>\n  <tbody>\n    <tr>\n      <th>0</th>\n      <td>Austria</td>\n      <td>All</td>\n      <td>All</td>\n      <td>DEXaware_eqbod</td>\n      <td>Knowledge of at least one equality body in cou...</td>\n      <td>Yes</td>\n      <td>47</td>\n      <td>NaN</td>\n    </tr>\n    <tr>\n      <th>1</th>\n      <td>Austria</td>\n      <td>All</td>\n      <td>All</td>\n      <td>DEXaware_eqbod</td>\n      <td>Knowledge of at least one equality body in cou...</td>\n      <td>No</td>\n      <td>53</td>\n      <td>NaN</td>\n    </tr>\n    <tr>\n      <th>2</th>\n      <td>Belgium</td>\n      <td>All</td>\n      <td>All</td>\n      <td>DEXaware_eqbod</td>\n      <td>Knowledge of at least one equality body in cou...</td>\n      <td>Yes</td>\n      <td>69</td>\n      <td>NaN</td>\n    </tr>\n    <tr>\n      <th>3</th>\n      <td>Belgium</td>\n      <td>All</td>\n      <td>All</td>\n      <td>DEXaware_eqbod</td>\n      <td>Knowledge of at least one equality body in cou...</td>\n      <td>No</td>\n      <td>31</td>\n      <td>NaN</td>\n    </tr>\n    <tr>\n      <th>4</th>\n      <td>Bulgaria</td>\n      <td>All</td>\n      <td>All</td>\n      <td>DEXaware_eqbod</td>\n      <td>Knowledge of at least one equality body in cou...</td>\n      <td>Yes</td>\n      <td>62</td>\n      <td>NaN</td>\n    </tr>\n    <tr>\n      <th>...</th>\n      <td>...</td>\n      <td>...</td>\n      <td>...</td>\n      <td>...</td>\n      <td>...</td>\n      <td>...</td>\n      <td>...</td>\n      <td>...</td>\n    </tr>\n    <tr>\n      <th>1667</th>\n      <td>North Macedonia</td>\n      <td>All</td>\n      <td>All</td>\n      <td>DEXh5</td>\n      <td>What is your current family or partnership sit...</td>\n      <td>Involved in a relationship without living toge...</td>\n      <td>28</td>\n      <td>NaN</td>\n    </tr>\n    <tr>\n      <th>1668</th>\n      <td>North Macedonia</td>\n      <td>All</td>\n      <td>All</td>\n      <td>DEXh5</td>\n      <td>What is your current family or partnership sit...</td>\n      <td>No relationship/partner</td>\n      <td>58</td>\n      <td>NaN</td>\n    </tr>\n    <tr>\n      <th>1669</th>\n      <td>Serbia</td>\n      <td>All</td>\n      <td>All</td>\n      <td>DEXh5</td>\n      <td>What is your current family or partnership sit...</td>\n      <td>Living together with a partner/spouse</td>\n      <td>16</td>\n      <td>NaN</td>\n    </tr>\n    <tr>\n      <th>1670</th>\n      <td>Serbia</td>\n      <td>All</td>\n      <td>All</td>\n      <td>DEXh5</td>\n      <td>What is your current family or partnership sit...</td>\n      <td>Involved in a relationship without living toge...</td>\n      <td>24</td>\n      <td>NaN</td>\n    </tr>\n    <tr>\n      <th>1671</th>\n      <td>Serbia</td>\n      <td>All</td>\n      <td>All</td>\n      <td>DEXh5</td>\n      <td>What is your current family or partnership sit...</td>\n      <td>No relationship/partner</td>\n      <td>60</td>\n      <td>NaN</td>\n    </tr>\n  </tbody>\n</table>\n<p>10410 rows × 8 columns</p>\n</div>"
     },
     "metadata": {},
     "execution_count": 2
    }
   ],
   "source": [
    "import glob\n",
    "path =r'C:\\Users\\Usuario\\Desktop\\MY_GIT_HUB\\data_science_student_nov_2020\\data_science_student_nov_2020\\PROYECTO\\SRC\\UTILS'\n",
    "filenames = glob.glob(path + \"/*.csv\")\n",
    "data = pd.DataFrame()\n",
    "for f in filenames:\n",
    " df = pd.read_csv(f, delimiter= \",\", encoding=\"latin1\", skiprows=11)\n",
    " data = data.append(df)\n",
    "data"
   ]
  },
  {
   "cell_type": "code",
   "execution_count": 3,
   "metadata": {},
   "outputs": [
    {
     "output_type": "execute_result",
     "data": {
      "text/plain": [
       "          CountryCode target_group subset   question_code  \\\n",
       "0             Austria          All    All  DEXaware_eqbod   \n",
       "1             Austria          All    All  DEXaware_eqbod   \n",
       "2             Belgium          All    All  DEXaware_eqbod   \n",
       "3             Belgium          All    All  DEXaware_eqbod   \n",
       "4            Bulgaria          All    All  DEXaware_eqbod   \n",
       "...               ...          ...    ...             ...   \n",
       "1667  North Macedonia          All    All           DEXh5   \n",
       "1668  North Macedonia          All    All           DEXh5   \n",
       "1669           Serbia          All    All           DEXh5   \n",
       "1670           Serbia          All    All           DEXh5   \n",
       "1671           Serbia          All    All           DEXh5   \n",
       "\n",
       "                                         question_label  \\\n",
       "0     Knowledge of at least one equality body in cou...   \n",
       "1     Knowledge of at least one equality body in cou...   \n",
       "2     Knowledge of at least one equality body in cou...   \n",
       "3     Knowledge of at least one equality body in cou...   \n",
       "4     Knowledge of at least one equality body in cou...   \n",
       "...                                                 ...   \n",
       "1667  What is your current family or partnership sit...   \n",
       "1668  What is your current family or partnership sit...   \n",
       "1669  What is your current family or partnership sit...   \n",
       "1670  What is your current family or partnership sit...   \n",
       "1671  What is your current family or partnership sit...   \n",
       "\n",
       "                                                 answer percentage notes  \n",
       "0                                                   Yes         47   NaN  \n",
       "1                                                    No         53   NaN  \n",
       "2                                                   Yes         69   NaN  \n",
       "3                                                    No         31   NaN  \n",
       "4                                                   Yes         62   NaN  \n",
       "...                                                 ...        ...   ...  \n",
       "1667  Involved in a relationship without living toge...         28   NaN  \n",
       "1668                            No relationship/partner         58   NaN  \n",
       "1669              Living together with a partner/spouse         16   NaN  \n",
       "1670  Involved in a relationship without living toge...         24   NaN  \n",
       "1671                            No relationship/partner         60   NaN  \n",
       "\n",
       "[10410 rows x 8 columns]"
      ],
      "text/html": "<div>\n<style scoped>\n    .dataframe tbody tr th:only-of-type {\n        vertical-align: middle;\n    }\n\n    .dataframe tbody tr th {\n        vertical-align: top;\n    }\n\n    .dataframe thead th {\n        text-align: right;\n    }\n</style>\n<table border=\"1\" class=\"dataframe\">\n  <thead>\n    <tr style=\"text-align: right;\">\n      <th></th>\n      <th>CountryCode</th>\n      <th>target_group</th>\n      <th>subset</th>\n      <th>question_code</th>\n      <th>question_label</th>\n      <th>answer</th>\n      <th>percentage</th>\n      <th>notes</th>\n    </tr>\n  </thead>\n  <tbody>\n    <tr>\n      <th>0</th>\n      <td>Austria</td>\n      <td>All</td>\n      <td>All</td>\n      <td>DEXaware_eqbod</td>\n      <td>Knowledge of at least one equality body in cou...</td>\n      <td>Yes</td>\n      <td>47</td>\n      <td>NaN</td>\n    </tr>\n    <tr>\n      <th>1</th>\n      <td>Austria</td>\n      <td>All</td>\n      <td>All</td>\n      <td>DEXaware_eqbod</td>\n      <td>Knowledge of at least one equality body in cou...</td>\n      <td>No</td>\n      <td>53</td>\n      <td>NaN</td>\n    </tr>\n    <tr>\n      <th>2</th>\n      <td>Belgium</td>\n      <td>All</td>\n      <td>All</td>\n      <td>DEXaware_eqbod</td>\n      <td>Knowledge of at least one equality body in cou...</td>\n      <td>Yes</td>\n      <td>69</td>\n      <td>NaN</td>\n    </tr>\n    <tr>\n      <th>3</th>\n      <td>Belgium</td>\n      <td>All</td>\n      <td>All</td>\n      <td>DEXaware_eqbod</td>\n      <td>Knowledge of at least one equality body in cou...</td>\n      <td>No</td>\n      <td>31</td>\n      <td>NaN</td>\n    </tr>\n    <tr>\n      <th>4</th>\n      <td>Bulgaria</td>\n      <td>All</td>\n      <td>All</td>\n      <td>DEXaware_eqbod</td>\n      <td>Knowledge of at least one equality body in cou...</td>\n      <td>Yes</td>\n      <td>62</td>\n      <td>NaN</td>\n    </tr>\n    <tr>\n      <th>...</th>\n      <td>...</td>\n      <td>...</td>\n      <td>...</td>\n      <td>...</td>\n      <td>...</td>\n      <td>...</td>\n      <td>...</td>\n      <td>...</td>\n    </tr>\n    <tr>\n      <th>1667</th>\n      <td>North Macedonia</td>\n      <td>All</td>\n      <td>All</td>\n      <td>DEXh5</td>\n      <td>What is your current family or partnership sit...</td>\n      <td>Involved in a relationship without living toge...</td>\n      <td>28</td>\n      <td>NaN</td>\n    </tr>\n    <tr>\n      <th>1668</th>\n      <td>North Macedonia</td>\n      <td>All</td>\n      <td>All</td>\n      <td>DEXh5</td>\n      <td>What is your current family or partnership sit...</td>\n      <td>No relationship/partner</td>\n      <td>58</td>\n      <td>NaN</td>\n    </tr>\n    <tr>\n      <th>1669</th>\n      <td>Serbia</td>\n      <td>All</td>\n      <td>All</td>\n      <td>DEXh5</td>\n      <td>What is your current family or partnership sit...</td>\n      <td>Living together with a partner/spouse</td>\n      <td>16</td>\n      <td>NaN</td>\n    </tr>\n    <tr>\n      <th>1670</th>\n      <td>Serbia</td>\n      <td>All</td>\n      <td>All</td>\n      <td>DEXh5</td>\n      <td>What is your current family or partnership sit...</td>\n      <td>Involved in a relationship without living toge...</td>\n      <td>24</td>\n      <td>NaN</td>\n    </tr>\n    <tr>\n      <th>1671</th>\n      <td>Serbia</td>\n      <td>All</td>\n      <td>All</td>\n      <td>DEXh5</td>\n      <td>What is your current family or partnership sit...</td>\n      <td>No relationship/partner</td>\n      <td>60</td>\n      <td>NaN</td>\n    </tr>\n  </tbody>\n</table>\n<p>10410 rows × 8 columns</p>\n</div>"
     },
     "metadata": {},
     "execution_count": 3
    }
   ],
   "source": [
    "data1= data.copy()\n",
    "data1"
   ]
  },
  {
   "cell_type": "code",
   "execution_count": 43,
   "metadata": {},
   "outputs": [
    {
     "output_type": "execute_result",
     "data": {
      "text/plain": [
       "EU-28              383\n",
       "France             358\n",
       "Germany            351\n",
       "Spain              351\n",
       "United Kingdom     350\n",
       "Portugal           346\n",
       "Italy              345\n",
       "Poland             343\n",
       "Netherlands        342\n",
       "Belgium            341\n",
       "Romania            340\n",
       "Sweden             339\n",
       "Slovakia           337\n",
       "Finland            336\n",
       "Greece             336\n",
       "Czechia            335\n",
       "Ireland            334\n",
       "Estonia            332\n",
       "Hungary            332\n",
       "Denmark            330\n",
       "Austria            329\n",
       "Serbia             328\n",
       "Croatia            328\n",
       "Bulgaria           327\n",
       "Malta              325\n",
       "Slovenia           322\n",
       "Lithuania          321\n",
       "Luxembourg         320\n",
       "Latvia             320\n",
       "Cyprus             317\n",
       "North Macedonia    312\n",
       "Name: CountryCode, dtype: int64"
      ]
     },
     "metadata": {},
     "execution_count": 43
    }
   ],
   "source": [
    "data1.CountryCode.value_counts()\n"
   ]
  },
  {
   "cell_type": "code",
   "execution_count": 44,
   "metadata": {},
   "outputs": [
    {
     "output_type": "execute_result",
     "data": {
      "text/plain": [
       "Duration of housing difficulties (average in months)                                                                                                                                     1030\n",
       "In the last incident when you felt discriminated against, was it for any of the following reasons besides being LGBTI?                                                                    372\n",
       "What is your religion, if any?                                                                                                                                                            370\n",
       "Where do you avoid being open about yourself as LGBTI for fear of being assaulted, threatened or harassed by others?                                                                      341\n",
       "Satisfaction with life                                                                                                                                                                    340\n",
       "                                                                                                                                                                                         ... \n",
       "In the past 12 months have you ever felt discriminated against due to being LGBTI when showing any official identification document that identifies your sex?                              62\n",
       "In the past 12 months have you ever felt discriminated against due to being LGBTI by healthcare or social services personnel (e.g. a receptionist, nurse or doctor, a social worker)?      62\n",
       "In the past 12 months have you personally felt discriminated against due to being LGBTI in 8 areas of life?                                                                                62\n",
       "In the past 12 months have you ever felt discriminated against due to being LGBTI when at work or when looking for a job (i.e. in employment)?                                             62\n",
       "In the past 12 months have you ever felt discriminated against due to being LGBTI when looking for a job?                                                                                  62\n",
       "Name: question_label, Length: 64, dtype: int64"
      ]
     },
     "metadata": {},
     "execution_count": 44
    }
   ],
   "source": [
    "data1.question_label.value_counts()"
   ]
  },
  {
   "cell_type": "code",
   "execution_count": 45,
   "metadata": {},
   "outputs": [
    {
     "output_type": "stream",
     "name": "stdout",
     "text": [
      "<class 'pandas.core.frame.DataFrame'>\nInt64Index: 10410 entries, 0 to 1671\nData columns (total 8 columns):\n #   Column          Non-Null Count  Dtype \n---  ------          --------------  ----- \n 0   CountryCode     10410 non-null  object\n 1   target_group    10410 non-null  object\n 2   subset          10410 non-null  object\n 3   question_code   10410 non-null  object\n 4   question_label  10348 non-null  object\n 5   answer          10410 non-null  object\n 6   percentage      10410 non-null  object\n 7   notes           64 non-null     object\ndtypes: object(8)\nmemory usage: 1.0+ MB\n"
     ]
    }
   ],
   "source": [
    "data1.info()"
   ]
  },
  {
   "cell_type": "code",
   "execution_count": 51,
   "metadata": {},
   "outputs": [
    {
     "output_type": "execute_result",
     "data": {
      "text/plain": [
       "(10410, 8)"
      ]
     },
     "metadata": {},
     "execution_count": 51
    }
   ],
   "source": [
    "data1.dropna(how='all').shape"
   ]
  },
  {
   "cell_type": "code",
   "execution_count": 4,
   "metadata": {},
   "outputs": [
    {
     "output_type": "execute_result",
     "data": {
      "text/plain": [
       "         CountryCode target_group subset    question_code question_label  \\\n",
       "62           Austria          All    All  DEXaware_suporg            NaN   \n",
       "63           Austria          All    All  DEXaware_suporg            NaN   \n",
       "64           Belgium          All    All  DEXaware_suporg            NaN   \n",
       "65           Belgium          All    All  DEXaware_suporg            NaN   \n",
       "66          Bulgaria          All    All  DEXaware_suporg            NaN   \n",
       "..               ...          ...    ...              ...            ...   \n",
       "119            EU-28          All    All  DEXaware_suporg            NaN   \n",
       "120  North Macedonia          All    All  DEXaware_suporg            NaN   \n",
       "121  North Macedonia          All    All  DEXaware_suporg            NaN   \n",
       "122           Serbia          All    All  DEXaware_suporg            NaN   \n",
       "123           Serbia          All    All  DEXaware_suporg            NaN   \n",
       "\n",
       "    answer percentage notes  \n",
       "62     Yes         73   NaN  \n",
       "63      No         27   NaN  \n",
       "64     Yes         76   NaN  \n",
       "65      No         24   NaN  \n",
       "66     Yes         60   NaN  \n",
       "..     ...        ...   ...  \n",
       "119     No         34   NaN  \n",
       "120    Yes         69   NaN  \n",
       "121     No         31   NaN  \n",
       "122    Yes         68   NaN  \n",
       "123     No         32   NaN  \n",
       "\n",
       "[62 rows x 8 columns]"
      ],
      "text/html": "<div>\n<style scoped>\n    .dataframe tbody tr th:only-of-type {\n        vertical-align: middle;\n    }\n\n    .dataframe tbody tr th {\n        vertical-align: top;\n    }\n\n    .dataframe thead th {\n        text-align: right;\n    }\n</style>\n<table border=\"1\" class=\"dataframe\">\n  <thead>\n    <tr style=\"text-align: right;\">\n      <th></th>\n      <th>CountryCode</th>\n      <th>target_group</th>\n      <th>subset</th>\n      <th>question_code</th>\n      <th>question_label</th>\n      <th>answer</th>\n      <th>percentage</th>\n      <th>notes</th>\n    </tr>\n  </thead>\n  <tbody>\n    <tr>\n      <th>62</th>\n      <td>Austria</td>\n      <td>All</td>\n      <td>All</td>\n      <td>DEXaware_suporg</td>\n      <td>NaN</td>\n      <td>Yes</td>\n      <td>73</td>\n      <td>NaN</td>\n    </tr>\n    <tr>\n      <th>63</th>\n      <td>Austria</td>\n      <td>All</td>\n      <td>All</td>\n      <td>DEXaware_suporg</td>\n      <td>NaN</td>\n      <td>No</td>\n      <td>27</td>\n      <td>NaN</td>\n    </tr>\n    <tr>\n      <th>64</th>\n      <td>Belgium</td>\n      <td>All</td>\n      <td>All</td>\n      <td>DEXaware_suporg</td>\n      <td>NaN</td>\n      <td>Yes</td>\n      <td>76</td>\n      <td>NaN</td>\n    </tr>\n    <tr>\n      <th>65</th>\n      <td>Belgium</td>\n      <td>All</td>\n      <td>All</td>\n      <td>DEXaware_suporg</td>\n      <td>NaN</td>\n      <td>No</td>\n      <td>24</td>\n      <td>NaN</td>\n    </tr>\n    <tr>\n      <th>66</th>\n      <td>Bulgaria</td>\n      <td>All</td>\n      <td>All</td>\n      <td>DEXaware_suporg</td>\n      <td>NaN</td>\n      <td>Yes</td>\n      <td>60</td>\n      <td>NaN</td>\n    </tr>\n    <tr>\n      <th>...</th>\n      <td>...</td>\n      <td>...</td>\n      <td>...</td>\n      <td>...</td>\n      <td>...</td>\n      <td>...</td>\n      <td>...</td>\n      <td>...</td>\n    </tr>\n    <tr>\n      <th>119</th>\n      <td>EU-28</td>\n      <td>All</td>\n      <td>All</td>\n      <td>DEXaware_suporg</td>\n      <td>NaN</td>\n      <td>No</td>\n      <td>34</td>\n      <td>NaN</td>\n    </tr>\n    <tr>\n      <th>120</th>\n      <td>North Macedonia</td>\n      <td>All</td>\n      <td>All</td>\n      <td>DEXaware_suporg</td>\n      <td>NaN</td>\n      <td>Yes</td>\n      <td>69</td>\n      <td>NaN</td>\n    </tr>\n    <tr>\n      <th>121</th>\n      <td>North Macedonia</td>\n      <td>All</td>\n      <td>All</td>\n      <td>DEXaware_suporg</td>\n      <td>NaN</td>\n      <td>No</td>\n      <td>31</td>\n      <td>NaN</td>\n    </tr>\n    <tr>\n      <th>122</th>\n      <td>Serbia</td>\n      <td>All</td>\n      <td>All</td>\n      <td>DEXaware_suporg</td>\n      <td>NaN</td>\n      <td>Yes</td>\n      <td>68</td>\n      <td>NaN</td>\n    </tr>\n    <tr>\n      <th>123</th>\n      <td>Serbia</td>\n      <td>All</td>\n      <td>All</td>\n      <td>DEXaware_suporg</td>\n      <td>NaN</td>\n      <td>No</td>\n      <td>32</td>\n      <td>NaN</td>\n    </tr>\n  </tbody>\n</table>\n<p>62 rows × 8 columns</p>\n</div>"
     },
     "metadata": {},
     "execution_count": 4
    }
   ],
   "source": [
    "data1.loc[data1[\"question_label\"].isnull()]"
   ]
  },
  {
   "cell_type": "code",
   "execution_count": null,
   "metadata": {},
   "outputs": [],
   "source": []
  },
  {
   "cell_type": "code",
   "execution_count": 5,
   "metadata": {},
   "outputs": [
    {
     "output_type": "execute_result",
     "data": {
      "text/plain": [
       "          CountryCode target_group subset   question_code  \\\n",
       "0             Austria          All    All  DEXaware_eqbod   \n",
       "1             Austria          All    All  DEXaware_eqbod   \n",
       "2             Belgium          All    All  DEXaware_eqbod   \n",
       "3             Belgium          All    All  DEXaware_eqbod   \n",
       "4            Bulgaria          All    All  DEXaware_eqbod   \n",
       "...               ...          ...    ...             ...   \n",
       "1667  North Macedonia          All    All           DEXh5   \n",
       "1668  North Macedonia          All    All           DEXh5   \n",
       "1669           Serbia          All    All           DEXh5   \n",
       "1670           Serbia          All    All           DEXh5   \n",
       "1671           Serbia          All    All           DEXh5   \n",
       "\n",
       "                                         question_label  \\\n",
       "0     Knowledge of at least one equality body in cou...   \n",
       "1     Knowledge of at least one equality body in cou...   \n",
       "2     Knowledge of at least one equality body in cou...   \n",
       "3     Knowledge of at least one equality body in cou...   \n",
       "4     Knowledge of at least one equality body in cou...   \n",
       "...                                                 ...   \n",
       "1667  What is your current family or partnership sit...   \n",
       "1668  What is your current family or partnership sit...   \n",
       "1669  What is your current family or partnership sit...   \n",
       "1670  What is your current family or partnership sit...   \n",
       "1671  What is your current family or partnership sit...   \n",
       "\n",
       "                                                 answer percentage notes  \n",
       "0                                                   Yes         47   NaN  \n",
       "1                                                    No         53   NaN  \n",
       "2                                                   Yes         69   NaN  \n",
       "3                                                    No         31   NaN  \n",
       "4                                                   Yes         62   NaN  \n",
       "...                                                 ...        ...   ...  \n",
       "1667  Involved in a relationship without living toge...         28   NaN  \n",
       "1668                            No relationship/partner         58   NaN  \n",
       "1669              Living together with a partner/spouse         16   NaN  \n",
       "1670  Involved in a relationship without living toge...         24   NaN  \n",
       "1671                            No relationship/partner         60   NaN  \n",
       "\n",
       "[10348 rows x 8 columns]"
      ],
      "text/html": "<div>\n<style scoped>\n    .dataframe tbody tr th:only-of-type {\n        vertical-align: middle;\n    }\n\n    .dataframe tbody tr th {\n        vertical-align: top;\n    }\n\n    .dataframe thead th {\n        text-align: right;\n    }\n</style>\n<table border=\"1\" class=\"dataframe\">\n  <thead>\n    <tr style=\"text-align: right;\">\n      <th></th>\n      <th>CountryCode</th>\n      <th>target_group</th>\n      <th>subset</th>\n      <th>question_code</th>\n      <th>question_label</th>\n      <th>answer</th>\n      <th>percentage</th>\n      <th>notes</th>\n    </tr>\n  </thead>\n  <tbody>\n    <tr>\n      <th>0</th>\n      <td>Austria</td>\n      <td>All</td>\n      <td>All</td>\n      <td>DEXaware_eqbod</td>\n      <td>Knowledge of at least one equality body in cou...</td>\n      <td>Yes</td>\n      <td>47</td>\n      <td>NaN</td>\n    </tr>\n    <tr>\n      <th>1</th>\n      <td>Austria</td>\n      <td>All</td>\n      <td>All</td>\n      <td>DEXaware_eqbod</td>\n      <td>Knowledge of at least one equality body in cou...</td>\n      <td>No</td>\n      <td>53</td>\n      <td>NaN</td>\n    </tr>\n    <tr>\n      <th>2</th>\n      <td>Belgium</td>\n      <td>All</td>\n      <td>All</td>\n      <td>DEXaware_eqbod</td>\n      <td>Knowledge of at least one equality body in cou...</td>\n      <td>Yes</td>\n      <td>69</td>\n      <td>NaN</td>\n    </tr>\n    <tr>\n      <th>3</th>\n      <td>Belgium</td>\n      <td>All</td>\n      <td>All</td>\n      <td>DEXaware_eqbod</td>\n      <td>Knowledge of at least one equality body in cou...</td>\n      <td>No</td>\n      <td>31</td>\n      <td>NaN</td>\n    </tr>\n    <tr>\n      <th>4</th>\n      <td>Bulgaria</td>\n      <td>All</td>\n      <td>All</td>\n      <td>DEXaware_eqbod</td>\n      <td>Knowledge of at least one equality body in cou...</td>\n      <td>Yes</td>\n      <td>62</td>\n      <td>NaN</td>\n    </tr>\n    <tr>\n      <th>...</th>\n      <td>...</td>\n      <td>...</td>\n      <td>...</td>\n      <td>...</td>\n      <td>...</td>\n      <td>...</td>\n      <td>...</td>\n      <td>...</td>\n    </tr>\n    <tr>\n      <th>1667</th>\n      <td>North Macedonia</td>\n      <td>All</td>\n      <td>All</td>\n      <td>DEXh5</td>\n      <td>What is your current family or partnership sit...</td>\n      <td>Involved in a relationship without living toge...</td>\n      <td>28</td>\n      <td>NaN</td>\n    </tr>\n    <tr>\n      <th>1668</th>\n      <td>North Macedonia</td>\n      <td>All</td>\n      <td>All</td>\n      <td>DEXh5</td>\n      <td>What is your current family or partnership sit...</td>\n      <td>No relationship/partner</td>\n      <td>58</td>\n      <td>NaN</td>\n    </tr>\n    <tr>\n      <th>1669</th>\n      <td>Serbia</td>\n      <td>All</td>\n      <td>All</td>\n      <td>DEXh5</td>\n      <td>What is your current family or partnership sit...</td>\n      <td>Living together with a partner/spouse</td>\n      <td>16</td>\n      <td>NaN</td>\n    </tr>\n    <tr>\n      <th>1670</th>\n      <td>Serbia</td>\n      <td>All</td>\n      <td>All</td>\n      <td>DEXh5</td>\n      <td>What is your current family or partnership sit...</td>\n      <td>Involved in a relationship without living toge...</td>\n      <td>24</td>\n      <td>NaN</td>\n    </tr>\n    <tr>\n      <th>1671</th>\n      <td>Serbia</td>\n      <td>All</td>\n      <td>All</td>\n      <td>DEXh5</td>\n      <td>What is your current family or partnership sit...</td>\n      <td>No relationship/partner</td>\n      <td>60</td>\n      <td>NaN</td>\n    </tr>\n  </tbody>\n</table>\n<p>10348 rows × 8 columns</p>\n</div>"
     },
     "metadata": {},
     "execution_count": 5
    }
   ],
   "source": [
    "data1= data1.loc[data1[\"question_label\"].notna()]\n",
    "data1"
   ]
  },
  {
   "cell_type": "code",
   "execution_count": 84,
   "metadata": {},
   "outputs": [
    {
     "output_type": "execute_result",
     "data": {
      "text/plain": [
       "          CountryCode target_group subset question_code  \\\n",
       "651           Austria          All    All     DEXc6_1_d   \n",
       "652           Austria          All    All     DEXc6_1_d   \n",
       "653           Austria          All    All     DEXc6_1_d   \n",
       "654           Austria          All    All     DEXc6_1_d   \n",
       "655           Belgium          All    All     DEXc6_1_d   \n",
       "...               ...          ...    ...           ...   \n",
       "4735  North Macedonia          All    All     DEXindg1c   \n",
       "4736  North Macedonia          All    All     DEXindg1c   \n",
       "4737           Serbia          All    All     DEXindg1c   \n",
       "4738           Serbia          All    All     DEXindg1c   \n",
       "4739           Serbia          All    All     DEXindg1c   \n",
       "\n",
       "                                         question_label              answer  \\\n",
       "651   In the past 5 years have you experienced a gen...              Always   \n",
       "652   In the past 5 years have you experienced a gen...               Often   \n",
       "653   In the past 5 years have you experienced a gen...              Rarely   \n",
       "654   In the past 5 years have you experienced a gen...               Never   \n",
       "655   In the past 5 years have you experienced a gen...              Always   \n",
       "...                                                 ...                 ...   \n",
       "4735                 Openness about being LGBTI at work    Selectively open   \n",
       "4736                 Openness about being LGBTI at work  Hide LGBT identity   \n",
       "4737                 Openness about being LGBTI at work           Very open   \n",
       "4738                 Openness about being LGBTI at work    Selectively open   \n",
       "4739                 Openness about being LGBTI at work  Hide LGBT identity   \n",
       "\n",
       "     percentage notes  \n",
       "651           2   NaN  \n",
       "652          17   NaN  \n",
       "653          44   NaN  \n",
       "654          38   NaN  \n",
       "655           1   NaN  \n",
       "...         ...   ...  \n",
       "4735         46   NaN  \n",
       "4736         46   NaN  \n",
       "4737          9   NaN  \n",
       "4738         47   NaN  \n",
       "4739         44   NaN  \n",
       "\n",
       "[899 rows x 8 columns]"
      ],
      "text/html": "<div>\n<style scoped>\n    .dataframe tbody tr th:only-of-type {\n        vertical-align: middle;\n    }\n\n    .dataframe tbody tr th {\n        vertical-align: top;\n    }\n\n    .dataframe thead th {\n        text-align: right;\n    }\n</style>\n<table border=\"1\" class=\"dataframe\">\n  <thead>\n    <tr style=\"text-align: right;\">\n      <th></th>\n      <th>CountryCode</th>\n      <th>target_group</th>\n      <th>subset</th>\n      <th>question_code</th>\n      <th>question_label</th>\n      <th>answer</th>\n      <th>percentage</th>\n      <th>notes</th>\n    </tr>\n  </thead>\n  <tbody>\n    <tr>\n      <th>651</th>\n      <td>Austria</td>\n      <td>All</td>\n      <td>All</td>\n      <td>DEXc6_1_d</td>\n      <td>In the past 5 years have you experienced a gen...</td>\n      <td>Always</td>\n      <td>2</td>\n      <td>NaN</td>\n    </tr>\n    <tr>\n      <th>652</th>\n      <td>Austria</td>\n      <td>All</td>\n      <td>All</td>\n      <td>DEXc6_1_d</td>\n      <td>In the past 5 years have you experienced a gen...</td>\n      <td>Often</td>\n      <td>17</td>\n      <td>NaN</td>\n    </tr>\n    <tr>\n      <th>653</th>\n      <td>Austria</td>\n      <td>All</td>\n      <td>All</td>\n      <td>DEXc6_1_d</td>\n      <td>In the past 5 years have you experienced a gen...</td>\n      <td>Rarely</td>\n      <td>44</td>\n      <td>NaN</td>\n    </tr>\n    <tr>\n      <th>654</th>\n      <td>Austria</td>\n      <td>All</td>\n      <td>All</td>\n      <td>DEXc6_1_d</td>\n      <td>In the past 5 years have you experienced a gen...</td>\n      <td>Never</td>\n      <td>38</td>\n      <td>NaN</td>\n    </tr>\n    <tr>\n      <th>655</th>\n      <td>Belgium</td>\n      <td>All</td>\n      <td>All</td>\n      <td>DEXc6_1_d</td>\n      <td>In the past 5 years have you experienced a gen...</td>\n      <td>Always</td>\n      <td>1</td>\n      <td>NaN</td>\n    </tr>\n    <tr>\n      <th>...</th>\n      <td>...</td>\n      <td>...</td>\n      <td>...</td>\n      <td>...</td>\n      <td>...</td>\n      <td>...</td>\n      <td>...</td>\n      <td>...</td>\n    </tr>\n    <tr>\n      <th>4735</th>\n      <td>North Macedonia</td>\n      <td>All</td>\n      <td>All</td>\n      <td>DEXindg1c</td>\n      <td>Openness about being LGBTI at work</td>\n      <td>Selectively open</td>\n      <td>46</td>\n      <td>NaN</td>\n    </tr>\n    <tr>\n      <th>4736</th>\n      <td>North Macedonia</td>\n      <td>All</td>\n      <td>All</td>\n      <td>DEXindg1c</td>\n      <td>Openness about being LGBTI at work</td>\n      <td>Hide LGBT identity</td>\n      <td>46</td>\n      <td>NaN</td>\n    </tr>\n    <tr>\n      <th>4737</th>\n      <td>Serbia</td>\n      <td>All</td>\n      <td>All</td>\n      <td>DEXindg1c</td>\n      <td>Openness about being LGBTI at work</td>\n      <td>Very open</td>\n      <td>9</td>\n      <td>NaN</td>\n    </tr>\n    <tr>\n      <th>4738</th>\n      <td>Serbia</td>\n      <td>All</td>\n      <td>All</td>\n      <td>DEXindg1c</td>\n      <td>Openness about being LGBTI at work</td>\n      <td>Selectively open</td>\n      <td>47</td>\n      <td>NaN</td>\n    </tr>\n    <tr>\n      <th>4739</th>\n      <td>Serbia</td>\n      <td>All</td>\n      <td>All</td>\n      <td>DEXindg1c</td>\n      <td>Openness about being LGBTI at work</td>\n      <td>Hide LGBT identity</td>\n      <td>44</td>\n      <td>NaN</td>\n    </tr>\n  </tbody>\n</table>\n<p>899 rows × 8 columns</p>\n</div>"
     },
     "metadata": {},
     "execution_count": 84
    }
   ],
   "source": [
    "filtro= data1[data1[\"question_label\"].str.contains(\"work\")]\n",
    "filtro"
   ]
  },
  {
   "cell_type": "code",
   "execution_count": 86,
   "metadata": {
    "tags": []
   },
   "outputs": [
    {
     "output_type": "stream",
     "name": "stdout",
     "text": [
      "          CountryCode target_group subset question_code  \\\n651           Austria          All    All     DEXc6_1_d   \n652           Austria          All    All     DEXc6_1_d   \n653           Austria          All    All     DEXc6_1_d   \n654           Austria          All    All     DEXc6_1_d   \n655           Belgium          All    All     DEXc6_1_d   \n...               ...          ...    ...           ...   \n4735  North Macedonia          All    All     DEXindg1c   \n4736  North Macedonia          All    All     DEXindg1c   \n4737           Serbia          All    All     DEXindg1c   \n4738           Serbia          All    All     DEXindg1c   \n4739           Serbia          All    All     DEXindg1c   \n\n                                         question_label              answer  \\\n651   In the past 5 years have you experienced a gen...              Always   \n652   In the past 5 years have you experienced a gen...               Often   \n653   In the past 5 years have you experienced a gen...              Rarely   \n654   In the past 5 years have you experienced a gen...               Never   \n655   In the past 5 years have you experienced a gen...              Always   \n...                                                 ...                 ...   \n4735                 Openness about being LGBTI at work    Selectively open   \n4736                 Openness about being LGBTI at work  Hide LGBT identity   \n4737                 Openness about being LGBTI at work           Very open   \n4738                 Openness about being LGBTI at work    Selectively open   \n4739                 Openness about being LGBTI at work  Hide LGBT identity   \n\n     percentage notes  \n651           2   NaN  \n652          17   NaN  \n653          44   NaN  \n654          38   NaN  \n655           1   NaN  \n...         ...   ...  \n4735         46   NaN  \n4736         46   NaN  \n4737          9   NaN  \n4738         47   NaN  \n4739         44   NaN  \n\n[899 rows x 8 columns]\n"
     ]
    }
   ],
   "source": [
    "for palabra in data1.question_label:\n",
    "    filtro= data1[data1[\"question_label\"].str.contains(\"work\")]\n",
    "print(filtro)"
   ]
  },
  {
   "cell_type": "code",
   "execution_count": 10,
   "metadata": {},
   "outputs": [
    {
     "output_type": "execute_result",
     "data": {
      "text/plain": [
       "                                                                            answer\n",
       "question_code question_label                                     answer           \n",
       "DEXa11        Do you have citizenship of the country where th... No             31\n",
       "                                                                 Yes            31\n",
       "DEXa13        How old were you when you realised for the firs... 10-14y.o.      31\n",
       "                                                                 15-17y.o.      31\n",
       "                                                                 18-24y.o.      31\n",
       "...                                                                            ...\n",
       "DEXc7_a       In the past 5 years has anyone at work supporte... Always         31\n",
       "                                                                 Never          31\n",
       "                                                                 Often          31\n",
       "                                                                 Rarely         31\n",
       "DEXc7_b       In the past 5 years have you heard or seen anyo... Always         31\n",
       "\n",
       "[64 rows x 1 columns]"
      ],
      "text/html": "<div>\n<style scoped>\n    .dataframe tbody tr th:only-of-type {\n        vertical-align: middle;\n    }\n\n    .dataframe tbody tr th {\n        vertical-align: top;\n    }\n\n    .dataframe thead th {\n        text-align: right;\n    }\n</style>\n<table border=\"1\" class=\"dataframe\">\n  <thead>\n    <tr style=\"text-align: right;\">\n      <th></th>\n      <th></th>\n      <th></th>\n      <th>answer</th>\n    </tr>\n    <tr>\n      <th>question_code</th>\n      <th>question_label</th>\n      <th>answer</th>\n      <th></th>\n    </tr>\n  </thead>\n  <tbody>\n    <tr>\n      <th rowspan=\"2\" valign=\"top\">DEXa11</th>\n      <th rowspan=\"2\" valign=\"top\">Do you have citizenship of the country where the online survey was completed?</th>\n      <th>No</th>\n      <td>31</td>\n    </tr>\n    <tr>\n      <th>Yes</th>\n      <td>31</td>\n    </tr>\n    <tr>\n      <th rowspan=\"3\" valign=\"top\">DEXa13</th>\n      <th rowspan=\"3\" valign=\"top\">How old were you when you realised for the first time you are LGB?</th>\n      <th>10-14y.o.</th>\n      <td>31</td>\n    </tr>\n    <tr>\n      <th>15-17y.o.</th>\n      <td>31</td>\n    </tr>\n    <tr>\n      <th>18-24y.o.</th>\n      <td>31</td>\n    </tr>\n    <tr>\n      <th>...</th>\n      <th>...</th>\n      <th>...</th>\n      <td>...</td>\n    </tr>\n    <tr>\n      <th rowspan=\"4\" valign=\"top\">DEXc7_a</th>\n      <th rowspan=\"4\" valign=\"top\">In the past 5 years has anyone at work supported, defended or protected you and your rights as an LGBTI person at work?</th>\n      <th>Always</th>\n      <td>31</td>\n    </tr>\n    <tr>\n      <th>Never</th>\n      <td>31</td>\n    </tr>\n    <tr>\n      <th>Often</th>\n      <td>31</td>\n    </tr>\n    <tr>\n      <th>Rarely</th>\n      <td>31</td>\n    </tr>\n    <tr>\n      <th>DEXc7_b</th>\n      <th>In the past 5 years have you heard or seen anyone at work support, protect or promote the rights of LGBTI people at work?</th>\n      <th>Always</th>\n      <td>31</td>\n    </tr>\n  </tbody>\n</table>\n<p>64 rows × 1 columns</p>\n</div>"
     },
     "metadata": {},
     "execution_count": 10
    }
   ],
   "source": [
    "data_question= data1.groupby([\"question_code\",\"question_label\", \"answer\"])[\"answer\"].count()\n",
    "data_question = pd.DataFrame(data_question)\n",
    "data_question.head(64)"
   ]
  },
  {
   "cell_type": "code",
   "execution_count": 9,
   "metadata": {},
   "outputs": [
    {
     "output_type": "execute_result",
     "data": {
      "text/plain": [
       "                                                                                                                                 percentage\n",
       "CountryCode    question_label                                     answer                                             percentage            \n",
       "Austria        Are you involved in one or more organisations f... I am a financial supporter                         4                    1\n",
       "                                                                  I am an active member or volunteer                 3                    1\n",
       "                                                                  I am in a regular contact                          3                    1\n",
       "                                                                  I follow their activities                          14                   1\n",
       "                                                                  No, I am not actively involved                     80                   1\n",
       "...                                                                                                                                     ...\n",
       "United Kingdom Working status                                     Retired                                            4                    1\n",
       "                                                                  Self-employed                                      8                    1\n",
       "                                                                  Student or pupil                                   25                   1\n",
       "                                                                  Unable to work due to long-standing health prob... 4                    1\n",
       "                                                                  Unemployed                                         4                    1\n",
       "\n",
       "[10348 rows x 1 columns]"
      ],
      "text/html": "<div>\n<style scoped>\n    .dataframe tbody tr th:only-of-type {\n        vertical-align: middle;\n    }\n\n    .dataframe tbody tr th {\n        vertical-align: top;\n    }\n\n    .dataframe thead th {\n        text-align: right;\n    }\n</style>\n<table border=\"1\" class=\"dataframe\">\n  <thead>\n    <tr style=\"text-align: right;\">\n      <th></th>\n      <th></th>\n      <th></th>\n      <th></th>\n      <th>percentage</th>\n    </tr>\n    <tr>\n      <th>CountryCode</th>\n      <th>question_label</th>\n      <th>answer</th>\n      <th>percentage</th>\n      <th></th>\n    </tr>\n  </thead>\n  <tbody>\n    <tr>\n      <th rowspan=\"5\" valign=\"top\">Austria</th>\n      <th rowspan=\"5\" valign=\"top\">Are you involved in one or more organisations for LGBTI people?</th>\n      <th>I am a financial supporter</th>\n      <th>4</th>\n      <td>1</td>\n    </tr>\n    <tr>\n      <th>I am an active member or volunteer</th>\n      <th>3</th>\n      <td>1</td>\n    </tr>\n    <tr>\n      <th>I am in a regular contact</th>\n      <th>3</th>\n      <td>1</td>\n    </tr>\n    <tr>\n      <th>I follow their activities</th>\n      <th>14</th>\n      <td>1</td>\n    </tr>\n    <tr>\n      <th>No, I am not actively involved</th>\n      <th>80</th>\n      <td>1</td>\n    </tr>\n    <tr>\n      <th>...</th>\n      <th>...</th>\n      <th>...</th>\n      <th>...</th>\n      <td>...</td>\n    </tr>\n    <tr>\n      <th rowspan=\"5\" valign=\"top\">United Kingdom</th>\n      <th rowspan=\"5\" valign=\"top\">Working status</th>\n      <th>Retired</th>\n      <th>4</th>\n      <td>1</td>\n    </tr>\n    <tr>\n      <th>Self-employed</th>\n      <th>8</th>\n      <td>1</td>\n    </tr>\n    <tr>\n      <th>Student or pupil</th>\n      <th>25</th>\n      <td>1</td>\n    </tr>\n    <tr>\n      <th>Unable to work due to long-standing health problems</th>\n      <th>4</th>\n      <td>1</td>\n    </tr>\n    <tr>\n      <th>Unemployed</th>\n      <th>4</th>\n      <td>1</td>\n    </tr>\n  </tbody>\n</table>\n<p>10348 rows × 1 columns</p>\n</div>"
     },
     "metadata": {},
     "execution_count": 9
    }
   ],
   "source": [
    "data_question= data1.groupby([\"CountryCode\", \"question_label\", \"answer\"])[\"percentage\"].value_counts()\n",
    "data_question = pd.DataFrame(data_question)\n",
    "data_question\n"
   ]
  },
  {
   "cell_type": "code",
   "execution_count": 14,
   "metadata": {},
   "outputs": [
    {
     "output_type": "error",
     "ename": "DataError",
     "evalue": "No numeric types to aggregate",
     "traceback": [
      "\u001b[1;31m---------------------------------------------------------------------------\u001b[0m",
      "\u001b[1;31mDataError\u001b[0m                                 Traceback (most recent call last)",
      "\u001b[1;32m<ipython-input-14-9905eaa3f13c>\u001b[0m in \u001b[0;36m<module>\u001b[1;34m\u001b[0m\n\u001b[1;32m----> 1\u001b[1;33m \u001b[0mdata1\u001b[0m\u001b[1;33m.\u001b[0m\u001b[0mpivot_table\u001b[0m\u001b[1;33m(\u001b[0m\u001b[1;34m\"CountryCode\"\u001b[0m\u001b[1;33m,\u001b[0m\u001b[1;33m[\u001b[0m\u001b[1;34m\"question_label\"\u001b[0m\u001b[1;33m]\u001b[0m\u001b[1;33m)\u001b[0m\u001b[1;33m\u001b[0m\u001b[1;33m\u001b[0m\u001b[0m\n\u001b[0m",
      "\u001b[1;32m~\\AppData\\Local\\Programs\\Python\\Python39\\lib\\site-packages\\pandas\\core\\frame.py\u001b[0m in \u001b[0;36mpivot_table\u001b[1;34m(self, values, index, columns, aggfunc, fill_value, margins, dropna, margins_name, observed)\u001b[0m\n\u001b[0;32m   6824\u001b[0m         \u001b[1;32mfrom\u001b[0m \u001b[0mpandas\u001b[0m\u001b[1;33m.\u001b[0m\u001b[0mcore\u001b[0m\u001b[1;33m.\u001b[0m\u001b[0mreshape\u001b[0m\u001b[1;33m.\u001b[0m\u001b[0mpivot\u001b[0m \u001b[1;32mimport\u001b[0m \u001b[0mpivot_table\u001b[0m\u001b[1;33m\u001b[0m\u001b[1;33m\u001b[0m\u001b[0m\n\u001b[0;32m   6825\u001b[0m \u001b[1;33m\u001b[0m\u001b[0m\n\u001b[1;32m-> 6826\u001b[1;33m         return pivot_table(\n\u001b[0m\u001b[0;32m   6827\u001b[0m             \u001b[0mself\u001b[0m\u001b[1;33m,\u001b[0m\u001b[1;33m\u001b[0m\u001b[1;33m\u001b[0m\u001b[0m\n\u001b[0;32m   6828\u001b[0m             \u001b[0mvalues\u001b[0m\u001b[1;33m=\u001b[0m\u001b[0mvalues\u001b[0m\u001b[1;33m,\u001b[0m\u001b[1;33m\u001b[0m\u001b[1;33m\u001b[0m\u001b[0m\n",
      "\u001b[1;32m~\\AppData\\Local\\Programs\\Python\\Python39\\lib\\site-packages\\pandas\\core\\reshape\\pivot.py\u001b[0m in \u001b[0;36mpivot_table\u001b[1;34m(data, values, index, columns, aggfunc, fill_value, margins, dropna, margins_name, observed)\u001b[0m\n\u001b[0;32m    110\u001b[0m \u001b[1;33m\u001b[0m\u001b[0m\n\u001b[0;32m    111\u001b[0m     \u001b[0mgrouped\u001b[0m \u001b[1;33m=\u001b[0m \u001b[0mdata\u001b[0m\u001b[1;33m.\u001b[0m\u001b[0mgroupby\u001b[0m\u001b[1;33m(\u001b[0m\u001b[0mkeys\u001b[0m\u001b[1;33m,\u001b[0m \u001b[0mobserved\u001b[0m\u001b[1;33m=\u001b[0m\u001b[0mobserved\u001b[0m\u001b[1;33m)\u001b[0m\u001b[1;33m\u001b[0m\u001b[1;33m\u001b[0m\u001b[0m\n\u001b[1;32m--> 112\u001b[1;33m     \u001b[0magged\u001b[0m \u001b[1;33m=\u001b[0m \u001b[0mgrouped\u001b[0m\u001b[1;33m.\u001b[0m\u001b[0magg\u001b[0m\u001b[1;33m(\u001b[0m\u001b[0maggfunc\u001b[0m\u001b[1;33m)\u001b[0m\u001b[1;33m\u001b[0m\u001b[1;33m\u001b[0m\u001b[0m\n\u001b[0m\u001b[0;32m    113\u001b[0m     \u001b[1;32mif\u001b[0m \u001b[0mdropna\u001b[0m \u001b[1;32mand\u001b[0m \u001b[0misinstance\u001b[0m\u001b[1;33m(\u001b[0m\u001b[0magged\u001b[0m\u001b[1;33m,\u001b[0m \u001b[0mABCDataFrame\u001b[0m\u001b[1;33m)\u001b[0m \u001b[1;32mand\u001b[0m \u001b[0mlen\u001b[0m\u001b[1;33m(\u001b[0m\u001b[0magged\u001b[0m\u001b[1;33m.\u001b[0m\u001b[0mcolumns\u001b[0m\u001b[1;33m)\u001b[0m\u001b[1;33m:\u001b[0m\u001b[1;33m\u001b[0m\u001b[1;33m\u001b[0m\u001b[0m\n\u001b[0;32m    114\u001b[0m         \u001b[0magged\u001b[0m \u001b[1;33m=\u001b[0m \u001b[0magged\u001b[0m\u001b[1;33m.\u001b[0m\u001b[0mdropna\u001b[0m\u001b[1;33m(\u001b[0m\u001b[0mhow\u001b[0m\u001b[1;33m=\u001b[0m\u001b[1;34m\"all\"\u001b[0m\u001b[1;33m)\u001b[0m\u001b[1;33m\u001b[0m\u001b[1;33m\u001b[0m\u001b[0m\n",
      "\u001b[1;32m~\\AppData\\Local\\Programs\\Python\\Python39\\lib\\site-packages\\pandas\\core\\groupby\\generic.py\u001b[0m in \u001b[0;36maggregate\u001b[1;34m(self, func, engine, engine_kwargs, *args, **kwargs)\u001b[0m\n\u001b[0;32m    949\u001b[0m         \u001b[0mfunc\u001b[0m \u001b[1;33m=\u001b[0m \u001b[0mmaybe_mangle_lambdas\u001b[0m\u001b[1;33m(\u001b[0m\u001b[0mfunc\u001b[0m\u001b[1;33m)\u001b[0m\u001b[1;33m\u001b[0m\u001b[1;33m\u001b[0m\u001b[0m\n\u001b[0;32m    950\u001b[0m \u001b[1;33m\u001b[0m\u001b[0m\n\u001b[1;32m--> 951\u001b[1;33m         \u001b[0mresult\u001b[0m\u001b[1;33m,\u001b[0m \u001b[0mhow\u001b[0m \u001b[1;33m=\u001b[0m \u001b[0mself\u001b[0m\u001b[1;33m.\u001b[0m\u001b[0m_aggregate\u001b[0m\u001b[1;33m(\u001b[0m\u001b[0mfunc\u001b[0m\u001b[1;33m,\u001b[0m \u001b[1;33m*\u001b[0m\u001b[0margs\u001b[0m\u001b[1;33m,\u001b[0m \u001b[1;33m**\u001b[0m\u001b[0mkwargs\u001b[0m\u001b[1;33m)\u001b[0m\u001b[1;33m\u001b[0m\u001b[1;33m\u001b[0m\u001b[0m\n\u001b[0m\u001b[0;32m    952\u001b[0m         \u001b[1;32mif\u001b[0m \u001b[0mhow\u001b[0m \u001b[1;32mis\u001b[0m \u001b[1;32mNone\u001b[0m\u001b[1;33m:\u001b[0m\u001b[1;33m\u001b[0m\u001b[1;33m\u001b[0m\u001b[0m\n\u001b[0;32m    953\u001b[0m             \u001b[1;32mreturn\u001b[0m \u001b[0mresult\u001b[0m\u001b[1;33m\u001b[0m\u001b[1;33m\u001b[0m\u001b[0m\n",
      "\u001b[1;32m~\\AppData\\Local\\Programs\\Python\\Python39\\lib\\site-packages\\pandas\\core\\base.py\u001b[0m in \u001b[0;36m_aggregate\u001b[1;34m(self, arg, *args, **kwargs)\u001b[0m\n\u001b[0;32m    305\u001b[0m \u001b[1;33m\u001b[0m\u001b[0m\n\u001b[0;32m    306\u001b[0m         \u001b[1;32mif\u001b[0m \u001b[0misinstance\u001b[0m\u001b[1;33m(\u001b[0m\u001b[0marg\u001b[0m\u001b[1;33m,\u001b[0m \u001b[0mstr\u001b[0m\u001b[1;33m)\u001b[0m\u001b[1;33m:\u001b[0m\u001b[1;33m\u001b[0m\u001b[1;33m\u001b[0m\u001b[0m\n\u001b[1;32m--> 307\u001b[1;33m             \u001b[1;32mreturn\u001b[0m \u001b[0mself\u001b[0m\u001b[1;33m.\u001b[0m\u001b[0m_try_aggregate_string_function\u001b[0m\u001b[1;33m(\u001b[0m\u001b[0marg\u001b[0m\u001b[1;33m,\u001b[0m \u001b[1;33m*\u001b[0m\u001b[0margs\u001b[0m\u001b[1;33m,\u001b[0m \u001b[1;33m**\u001b[0m\u001b[0mkwargs\u001b[0m\u001b[1;33m)\u001b[0m\u001b[1;33m,\u001b[0m \u001b[1;32mNone\u001b[0m\u001b[1;33m\u001b[0m\u001b[1;33m\u001b[0m\u001b[0m\n\u001b[0m\u001b[0;32m    308\u001b[0m \u001b[1;33m\u001b[0m\u001b[0m\n\u001b[0;32m    309\u001b[0m         \u001b[1;32mif\u001b[0m \u001b[0misinstance\u001b[0m\u001b[1;33m(\u001b[0m\u001b[0marg\u001b[0m\u001b[1;33m,\u001b[0m \u001b[0mdict\u001b[0m\u001b[1;33m)\u001b[0m\u001b[1;33m:\u001b[0m\u001b[1;33m\u001b[0m\u001b[1;33m\u001b[0m\u001b[0m\n",
      "\u001b[1;32m~\\AppData\\Local\\Programs\\Python\\Python39\\lib\\site-packages\\pandas\\core\\base.py\u001b[0m in \u001b[0;36m_try_aggregate_string_function\u001b[1;34m(self, arg, *args, **kwargs)\u001b[0m\n\u001b[0;32m    261\u001b[0m         \u001b[1;32mif\u001b[0m \u001b[0mf\u001b[0m \u001b[1;32mis\u001b[0m \u001b[1;32mnot\u001b[0m \u001b[1;32mNone\u001b[0m\u001b[1;33m:\u001b[0m\u001b[1;33m\u001b[0m\u001b[1;33m\u001b[0m\u001b[0m\n\u001b[0;32m    262\u001b[0m             \u001b[1;32mif\u001b[0m \u001b[0mcallable\u001b[0m\u001b[1;33m(\u001b[0m\u001b[0mf\u001b[0m\u001b[1;33m)\u001b[0m\u001b[1;33m:\u001b[0m\u001b[1;33m\u001b[0m\u001b[1;33m\u001b[0m\u001b[0m\n\u001b[1;32m--> 263\u001b[1;33m                 \u001b[1;32mreturn\u001b[0m \u001b[0mf\u001b[0m\u001b[1;33m(\u001b[0m\u001b[1;33m*\u001b[0m\u001b[0margs\u001b[0m\u001b[1;33m,\u001b[0m \u001b[1;33m**\u001b[0m\u001b[0mkwargs\u001b[0m\u001b[1;33m)\u001b[0m\u001b[1;33m\u001b[0m\u001b[1;33m\u001b[0m\u001b[0m\n\u001b[0m\u001b[0;32m    264\u001b[0m \u001b[1;33m\u001b[0m\u001b[0m\n\u001b[0;32m    265\u001b[0m             \u001b[1;31m# people may try to aggregate on a non-callable attribute\u001b[0m\u001b[1;33m\u001b[0m\u001b[1;33m\u001b[0m\u001b[1;33m\u001b[0m\u001b[0m\n",
      "\u001b[1;32m~\\AppData\\Local\\Programs\\Python\\Python39\\lib\\site-packages\\pandas\\core\\groupby\\groupby.py\u001b[0m in \u001b[0;36mmean\u001b[1;34m(self, numeric_only)\u001b[0m\n\u001b[0;32m   1393\u001b[0m         \u001b[0mName\u001b[0m\u001b[1;33m:\u001b[0m \u001b[0mB\u001b[0m\u001b[1;33m,\u001b[0m \u001b[0mdtype\u001b[0m\u001b[1;33m:\u001b[0m \u001b[0mfloat64\u001b[0m\u001b[1;33m\u001b[0m\u001b[1;33m\u001b[0m\u001b[0m\n\u001b[0;32m   1394\u001b[0m         \"\"\"\n\u001b[1;32m-> 1395\u001b[1;33m         return self._cython_agg_general(\n\u001b[0m\u001b[0;32m   1396\u001b[0m             \u001b[1;34m\"mean\"\u001b[0m\u001b[1;33m,\u001b[0m\u001b[1;33m\u001b[0m\u001b[1;33m\u001b[0m\u001b[0m\n\u001b[0;32m   1397\u001b[0m             \u001b[0malt\u001b[0m\u001b[1;33m=\u001b[0m\u001b[1;32mlambda\u001b[0m \u001b[0mx\u001b[0m\u001b[1;33m,\u001b[0m \u001b[0maxis\u001b[0m\u001b[1;33m:\u001b[0m \u001b[0mSeries\u001b[0m\u001b[1;33m(\u001b[0m\u001b[0mx\u001b[0m\u001b[1;33m)\u001b[0m\u001b[1;33m.\u001b[0m\u001b[0mmean\u001b[0m\u001b[1;33m(\u001b[0m\u001b[0mnumeric_only\u001b[0m\u001b[1;33m=\u001b[0m\u001b[0mnumeric_only\u001b[0m\u001b[1;33m)\u001b[0m\u001b[1;33m,\u001b[0m\u001b[1;33m\u001b[0m\u001b[1;33m\u001b[0m\u001b[0m\n",
      "\u001b[1;32m~\\AppData\\Local\\Programs\\Python\\Python39\\lib\\site-packages\\pandas\\core\\groupby\\generic.py\u001b[0m in \u001b[0;36m_cython_agg_general\u001b[1;34m(self, how, alt, numeric_only, min_count)\u001b[0m\n\u001b[0;32m   1019\u001b[0m         \u001b[0mself\u001b[0m\u001b[1;33m,\u001b[0m \u001b[0mhow\u001b[0m\u001b[1;33m:\u001b[0m \u001b[0mstr\u001b[0m\u001b[1;33m,\u001b[0m \u001b[0malt\u001b[0m\u001b[1;33m=\u001b[0m\u001b[1;32mNone\u001b[0m\u001b[1;33m,\u001b[0m \u001b[0mnumeric_only\u001b[0m\u001b[1;33m:\u001b[0m \u001b[0mbool\u001b[0m \u001b[1;33m=\u001b[0m \u001b[1;32mTrue\u001b[0m\u001b[1;33m,\u001b[0m \u001b[0mmin_count\u001b[0m\u001b[1;33m:\u001b[0m \u001b[0mint\u001b[0m \u001b[1;33m=\u001b[0m \u001b[1;33m-\u001b[0m\u001b[1;36m1\u001b[0m\u001b[1;33m\u001b[0m\u001b[1;33m\u001b[0m\u001b[0m\n\u001b[0;32m   1020\u001b[0m     ) -> DataFrame:\n\u001b[1;32m-> 1021\u001b[1;33m         agg_blocks, agg_items = self._cython_agg_blocks(\n\u001b[0m\u001b[0;32m   1022\u001b[0m             \u001b[0mhow\u001b[0m\u001b[1;33m,\u001b[0m \u001b[0malt\u001b[0m\u001b[1;33m=\u001b[0m\u001b[0malt\u001b[0m\u001b[1;33m,\u001b[0m \u001b[0mnumeric_only\u001b[0m\u001b[1;33m=\u001b[0m\u001b[0mnumeric_only\u001b[0m\u001b[1;33m,\u001b[0m \u001b[0mmin_count\u001b[0m\u001b[1;33m=\u001b[0m\u001b[0mmin_count\u001b[0m\u001b[1;33m\u001b[0m\u001b[1;33m\u001b[0m\u001b[0m\n\u001b[0;32m   1023\u001b[0m         )\n",
      "\u001b[1;32m~\\AppData\\Local\\Programs\\Python\\Python39\\lib\\site-packages\\pandas\\core\\groupby\\generic.py\u001b[0m in \u001b[0;36m_cython_agg_blocks\u001b[1;34m(self, how, alt, numeric_only, min_count)\u001b[0m\n\u001b[0;32m   1128\u001b[0m \u001b[1;33m\u001b[0m\u001b[0m\n\u001b[0;32m   1129\u001b[0m         \u001b[1;32mif\u001b[0m \u001b[1;32mnot\u001b[0m \u001b[1;33m(\u001b[0m\u001b[0magg_blocks\u001b[0m \u001b[1;32mor\u001b[0m \u001b[0msplit_frames\u001b[0m\u001b[1;33m)\u001b[0m\u001b[1;33m:\u001b[0m\u001b[1;33m\u001b[0m\u001b[1;33m\u001b[0m\u001b[0m\n\u001b[1;32m-> 1130\u001b[1;33m             \u001b[1;32mraise\u001b[0m \u001b[0mDataError\u001b[0m\u001b[1;33m(\u001b[0m\u001b[1;34m\"No numeric types to aggregate\"\u001b[0m\u001b[1;33m)\u001b[0m\u001b[1;33m\u001b[0m\u001b[1;33m\u001b[0m\u001b[0m\n\u001b[0m\u001b[0;32m   1131\u001b[0m \u001b[1;33m\u001b[0m\u001b[0m\n\u001b[0;32m   1132\u001b[0m         \u001b[1;32mif\u001b[0m \u001b[0msplit_items\u001b[0m\u001b[1;33m:\u001b[0m\u001b[1;33m\u001b[0m\u001b[1;33m\u001b[0m\u001b[0m\n",
      "\u001b[1;31mDataError\u001b[0m: No numeric types to aggregate"
     ]
    }
   ],
   "source": [
    "data1.pivot_table(\"CountryCode\",[\"question_label\"])"
   ]
  },
  {
   "cell_type": "code",
   "execution_count": 121,
   "metadata": {},
   "outputs": [
    {
     "output_type": "error",
     "ename": "KeyError",
     "evalue": "'CountryCode'",
     "traceback": [
      "\u001b[1;31m---------------------------------------------------------------------------\u001b[0m",
      "\u001b[1;31mKeyError\u001b[0m                                  Traceback (most recent call last)",
      "\u001b[1;32m~\\AppData\\Local\\Programs\\Python\\Python39\\lib\\site-packages\\pandas\\core\\indexes\\base.py\u001b[0m in \u001b[0;36mget_loc\u001b[1;34m(self, key, method, tolerance)\u001b[0m\n\u001b[0;32m   2897\u001b[0m             \u001b[1;32mtry\u001b[0m\u001b[1;33m:\u001b[0m\u001b[1;33m\u001b[0m\u001b[1;33m\u001b[0m\u001b[0m\n\u001b[1;32m-> 2898\u001b[1;33m                 \u001b[1;32mreturn\u001b[0m \u001b[0mself\u001b[0m\u001b[1;33m.\u001b[0m\u001b[0m_engine\u001b[0m\u001b[1;33m.\u001b[0m\u001b[0mget_loc\u001b[0m\u001b[1;33m(\u001b[0m\u001b[0mcasted_key\u001b[0m\u001b[1;33m)\u001b[0m\u001b[1;33m\u001b[0m\u001b[1;33m\u001b[0m\u001b[0m\n\u001b[0m\u001b[0;32m   2899\u001b[0m             \u001b[1;32mexcept\u001b[0m \u001b[0mKeyError\u001b[0m \u001b[1;32mas\u001b[0m \u001b[0merr\u001b[0m\u001b[1;33m:\u001b[0m\u001b[1;33m\u001b[0m\u001b[1;33m\u001b[0m\u001b[0m\n",
      "\u001b[1;32mpandas\\_libs\\index.pyx\u001b[0m in \u001b[0;36mpandas._libs.index.IndexEngine.get_loc\u001b[1;34m()\u001b[0m\n",
      "\u001b[1;32mpandas\\_libs\\index.pyx\u001b[0m in \u001b[0;36mpandas._libs.index.IndexEngine.get_loc\u001b[1;34m()\u001b[0m\n",
      "\u001b[1;32mpandas\\_libs\\hashtable_class_helper.pxi\u001b[0m in \u001b[0;36mpandas._libs.hashtable.PyObjectHashTable.get_item\u001b[1;34m()\u001b[0m\n",
      "\u001b[1;32mpandas\\_libs\\hashtable_class_helper.pxi\u001b[0m in \u001b[0;36mpandas._libs.hashtable.PyObjectHashTable.get_item\u001b[1;34m()\u001b[0m\n",
      "\u001b[1;31mKeyError\u001b[0m: 'CountryCode'",
      "\nThe above exception was the direct cause of the following exception:\n",
      "\u001b[1;31mKeyError\u001b[0m                                  Traceback (most recent call last)",
      "\u001b[1;32m<ipython-input-121-ecb8bd9588bf>\u001b[0m in \u001b[0;36m<module>\u001b[1;34m\u001b[0m\n\u001b[1;32m----> 1\u001b[1;33m \u001b[0mdata_question\u001b[0m \u001b[1;33m=\u001b[0m \u001b[0mdata_question\u001b[0m\u001b[1;33m.\u001b[0m\u001b[0mloc\u001b[0m\u001b[1;33m[\u001b[0m\u001b[0mdata_question\u001b[0m\u001b[1;33m[\u001b[0m\u001b[1;34m\"CountryCode\"\u001b[0m\u001b[1;33m]\u001b[0m\u001b[1;33m==\u001b[0m \u001b[1;34m\"Austria\"\u001b[0m\u001b[1;33m]\u001b[0m\u001b[1;33m\u001b[0m\u001b[1;33m\u001b[0m\u001b[0m\n\u001b[0m\u001b[0;32m      2\u001b[0m \u001b[0mdata_question\u001b[0m\u001b[1;33m\u001b[0m\u001b[1;33m\u001b[0m\u001b[0m\n",
      "\u001b[1;32m~\\AppData\\Local\\Programs\\Python\\Python39\\lib\\site-packages\\pandas\\core\\frame.py\u001b[0m in \u001b[0;36m__getitem__\u001b[1;34m(self, key)\u001b[0m\n\u001b[0;32m   2904\u001b[0m             \u001b[1;32mif\u001b[0m \u001b[0mself\u001b[0m\u001b[1;33m.\u001b[0m\u001b[0mcolumns\u001b[0m\u001b[1;33m.\u001b[0m\u001b[0mnlevels\u001b[0m \u001b[1;33m>\u001b[0m \u001b[1;36m1\u001b[0m\u001b[1;33m:\u001b[0m\u001b[1;33m\u001b[0m\u001b[1;33m\u001b[0m\u001b[0m\n\u001b[0;32m   2905\u001b[0m                 \u001b[1;32mreturn\u001b[0m \u001b[0mself\u001b[0m\u001b[1;33m.\u001b[0m\u001b[0m_getitem_multilevel\u001b[0m\u001b[1;33m(\u001b[0m\u001b[0mkey\u001b[0m\u001b[1;33m)\u001b[0m\u001b[1;33m\u001b[0m\u001b[1;33m\u001b[0m\u001b[0m\n\u001b[1;32m-> 2906\u001b[1;33m             \u001b[0mindexer\u001b[0m \u001b[1;33m=\u001b[0m \u001b[0mself\u001b[0m\u001b[1;33m.\u001b[0m\u001b[0mcolumns\u001b[0m\u001b[1;33m.\u001b[0m\u001b[0mget_loc\u001b[0m\u001b[1;33m(\u001b[0m\u001b[0mkey\u001b[0m\u001b[1;33m)\u001b[0m\u001b[1;33m\u001b[0m\u001b[1;33m\u001b[0m\u001b[0m\n\u001b[0m\u001b[0;32m   2907\u001b[0m             \u001b[1;32mif\u001b[0m \u001b[0mis_integer\u001b[0m\u001b[1;33m(\u001b[0m\u001b[0mindexer\u001b[0m\u001b[1;33m)\u001b[0m\u001b[1;33m:\u001b[0m\u001b[1;33m\u001b[0m\u001b[1;33m\u001b[0m\u001b[0m\n\u001b[0;32m   2908\u001b[0m                 \u001b[0mindexer\u001b[0m \u001b[1;33m=\u001b[0m \u001b[1;33m[\u001b[0m\u001b[0mindexer\u001b[0m\u001b[1;33m]\u001b[0m\u001b[1;33m\u001b[0m\u001b[1;33m\u001b[0m\u001b[0m\n",
      "\u001b[1;32m~\\AppData\\Local\\Programs\\Python\\Python39\\lib\\site-packages\\pandas\\core\\indexes\\base.py\u001b[0m in \u001b[0;36mget_loc\u001b[1;34m(self, key, method, tolerance)\u001b[0m\n\u001b[0;32m   2898\u001b[0m                 \u001b[1;32mreturn\u001b[0m \u001b[0mself\u001b[0m\u001b[1;33m.\u001b[0m\u001b[0m_engine\u001b[0m\u001b[1;33m.\u001b[0m\u001b[0mget_loc\u001b[0m\u001b[1;33m(\u001b[0m\u001b[0mcasted_key\u001b[0m\u001b[1;33m)\u001b[0m\u001b[1;33m\u001b[0m\u001b[1;33m\u001b[0m\u001b[0m\n\u001b[0;32m   2899\u001b[0m             \u001b[1;32mexcept\u001b[0m \u001b[0mKeyError\u001b[0m \u001b[1;32mas\u001b[0m \u001b[0merr\u001b[0m\u001b[1;33m:\u001b[0m\u001b[1;33m\u001b[0m\u001b[1;33m\u001b[0m\u001b[0m\n\u001b[1;32m-> 2900\u001b[1;33m                 \u001b[1;32mraise\u001b[0m \u001b[0mKeyError\u001b[0m\u001b[1;33m(\u001b[0m\u001b[0mkey\u001b[0m\u001b[1;33m)\u001b[0m \u001b[1;32mfrom\u001b[0m \u001b[0merr\u001b[0m\u001b[1;33m\u001b[0m\u001b[1;33m\u001b[0m\u001b[0m\n\u001b[0m\u001b[0;32m   2901\u001b[0m \u001b[1;33m\u001b[0m\u001b[0m\n\u001b[0;32m   2902\u001b[0m         \u001b[1;32mif\u001b[0m \u001b[0mtolerance\u001b[0m \u001b[1;32mis\u001b[0m \u001b[1;32mnot\u001b[0m \u001b[1;32mNone\u001b[0m\u001b[1;33m:\u001b[0m\u001b[1;33m\u001b[0m\u001b[1;33m\u001b[0m\u001b[0m\n",
      "\u001b[1;31mKeyError\u001b[0m: 'CountryCode'"
     ]
    }
   ],
   "source": [
    "#no me lo permite porque necesito poner un indice\n",
    "data_question = data_question.loc[data_question[\"CountryCode\"]== \"Austria\"]\n",
    "data_question"
   ]
  },
  {
   "cell_type": "code",
   "execution_count": 111,
   "metadata": {},
   "outputs": [
    {
     "output_type": "execute_result",
     "data": {
      "text/plain": [
       "                                                                                       answer\n",
       "question_label                                     answer                                    \n",
       "Are you involved in one or more organisations f... I am a financial supporter              31\n",
       "                                                   I am an active member or volunteer      31\n",
       "                                                   I am in a regular contact               31\n",
       "                                                   I follow their activities               31\n",
       "                                                   No, I am not actively involved          31\n",
       "Did you ever consider leaving or changing schoo... No                                      31\n",
       "                                                   Yes                                     31\n",
       "Did you or anyone else report the last incident... 1. Reported by me                       31\n",
       "                                                   2. Reported by somebody else            31\n",
       "                                                   3. Not reported                         31"
      ],
      "text/html": "<div>\n<style scoped>\n    .dataframe tbody tr th:only-of-type {\n        vertical-align: middle;\n    }\n\n    .dataframe tbody tr th {\n        vertical-align: top;\n    }\n\n    .dataframe thead th {\n        text-align: right;\n    }\n</style>\n<table border=\"1\" class=\"dataframe\">\n  <thead>\n    <tr style=\"text-align: right;\">\n      <th></th>\n      <th></th>\n      <th>answer</th>\n    </tr>\n    <tr>\n      <th>question_label</th>\n      <th>answer</th>\n      <th></th>\n    </tr>\n  </thead>\n  <tbody>\n    <tr>\n      <th rowspan=\"5\" valign=\"top\">Are you involved in one or more organisations for LGBTI people?</th>\n      <th>I am a financial supporter</th>\n      <td>31</td>\n    </tr>\n    <tr>\n      <th>I am an active member or volunteer</th>\n      <td>31</td>\n    </tr>\n    <tr>\n      <th>I am in a regular contact</th>\n      <td>31</td>\n    </tr>\n    <tr>\n      <th>I follow their activities</th>\n      <td>31</td>\n    </tr>\n    <tr>\n      <th>No, I am not actively involved</th>\n      <td>31</td>\n    </tr>\n    <tr>\n      <th rowspan=\"2\" valign=\"top\">Did you ever consider leaving or changing school because you are LGBTI?</th>\n      <th>No</th>\n      <td>31</td>\n    </tr>\n    <tr>\n      <th>Yes</th>\n      <td>31</td>\n    </tr>\n    <tr>\n      <th rowspan=\"3\" valign=\"top\">Did you or anyone else report the last incident when you felt discriminated against anywhere?</th>\n      <th>1. Reported by me</th>\n      <td>31</td>\n    </tr>\n    <tr>\n      <th>2. Reported by somebody else</th>\n      <td>31</td>\n    </tr>\n    <tr>\n      <th>3. Not reported</th>\n      <td>31</td>\n    </tr>\n  </tbody>\n</table>\n</div>"
     },
     "metadata": {},
     "execution_count": 111
    }
   ],
   "source": [
    "data_question= data1.groupby(\"question_label\")[\"answer\"].value_counts()\n",
    "data_question = pd.DataFrame(data_question)\n",
    "data_question.head(10)"
   ]
  },
  {
   "cell_type": "code",
   "execution_count": 94,
   "metadata": {},
   "outputs": [
    {
     "output_type": "execute_result",
     "data": {
      "text/plain": [
       "Duration of housing difficulties (average in months)                                                                                                                                     1030\n",
       "In the last incident when you felt discriminated against, was it for any of the following reasons besides being LGBTI?                                                                    372\n",
       "What is your religion, if any?                                                                                                                                                            370\n",
       "Where do you avoid being open about yourself as LGBTI for fear of being assaulted, threatened or harassed by others?                                                                      341\n",
       "Satisfaction with life                                                                                                                                                                    340\n",
       "                                                                                                                                                                                         ... \n",
       "In the past 12 months have you ever felt discriminated against due to being LGBTI when showing any official identification document that identifies your sex?                              62\n",
       "In the past 12 months have you ever felt discriminated against due to being LGBTI by healthcare or social services personnel (e.g. a receptionist, nurse or doctor, a social worker)?      62\n",
       "In the past 12 months have you personally felt discriminated against due to being LGBTI in 8 areas of life?                                                                                62\n",
       "In the past 12 months have you ever felt discriminated against due to being LGBTI when at work or when looking for a job (i.e. in employment)?                                             62\n",
       "In the past 12 months have you ever felt discriminated against due to being LGBTI when looking for a job?                                                                                  62\n",
       "Name: question_label, Length: 64, dtype: int64"
      ]
     },
     "metadata": {},
     "execution_count": 94
    }
   ],
   "source": [
    "data1.question_label.value_counts()"
   ]
  },
  {
   "cell_type": "code",
   "execution_count": null,
   "metadata": {},
   "outputs": [],
   "source": []
  }
 ]
}